{
 "cells": [
  {
   "cell_type": "code",
   "id": "initial_id",
   "metadata": {
    "collapsed": true,
    "jupyter": {
     "is_executing": true
    }
   },
   "source": [
    "import random\n",
    "\n",
    "from relativisticpy.interpreter.lexers.gr_lexer import GRLexer\n",
    "from relativisticpy.interpreter.analyzers.semantic_analyser import SemanticAnalyzer\n",
    "from relativisticpy.interpreter.parsers.gr_parser import GRParser\n",
    "from relativisticpy.interpreter.interpreter import Interpreter"
   ],
   "outputs": [],
   "execution_count": null
  },
  {
   "metadata": {
    "ExecuteTime": {
     "end_time": "2025-02-01T17:55:01.726446Z",
     "start_time": "2025-02-01T17:55:01.669863Z"
    }
   },
   "cell_type": "code",
   "source": [
    "from dataclasses import dataclass, field\n",
    "from typing import List\n",
    "\n",
    "# Base classes and utilities\n",
    "class ScopedState:\n",
    "    def reset(self):\n",
    "        pass\n",
    "\n",
    "class Implementer:\n",
    "    pass\n",
    "\n",
    "@dataclass\n",
    "class AstNode:\n",
    "    node: str\n",
    "    handler: str\n",
    "    args: List[\"AstNode\"] = field(default_factory=list)\n",
    "\n",
    "class Instruction:\n",
    "    \"\"\"\n",
    "    Base class for all instructions for the Intermediate Representation (IR) of the RelPy code.\n",
    "    \"\"\"\n",
    "    def __init__(self, result: str):\n",
    "        self.result = result\n",
    "\n",
    "    def __str__(self):\n",
    "        return f\"{self.result} = Instruction\"\n",
    "\n",
    "# Instruction subclasses following your pattern\n",
    "class IntegerInstruction(Instruction):\n",
    "    def __init__(self, result: str, node: AstNode):\n",
    "        super().__init__(result)\n",
    "        self.value = node.args[0]  # Assuming node.node contains the integer value as a string\n",
    "\n",
    "    def __str__(self):\n",
    "        return f\"{self.result} = {self.value}\"\n",
    "\n",
    "class FloatInstruction(Instruction):\n",
    "    def __init__(self, result: str, node: AstNode):\n",
    "        super().__init__(result)\n",
    "        self.value = node.args[0]  # Assuming node.node contains the float value as a string\n",
    "\n",
    "    def __str__(self):\n",
    "        return f\"{self.result} = {self.value}\"\n",
    "\n",
    "class AddInstruction(Instruction):\n",
    "    def __init__(self, result: str, node: AstNode):\n",
    "        super().__init__(result)\n",
    "        self.left = node.args[0]\n",
    "        self.right = node.args[1]\n",
    "\n",
    "    def __str__(self):\n",
    "        left_temp = self.left\n",
    "        right_temp = self.right\n",
    "        return f\"{self.result} = {left_temp} + {right_temp}\"\n",
    "\n",
    "class SubInstruction(Instruction):\n",
    "    def __init__(self, result: str, node: AstNode):\n",
    "        super().__init__(result)\n",
    "        self.left = node.args[0]\n",
    "        self.right = node.args[1]\n",
    "\n",
    "    def __str__(self):\n",
    "        left_temp = self.left\n",
    "        right_temp = self.right\n",
    "        return f\"{self.result} = {left_temp} - {right_temp}\"\n",
    "\n",
    "class MulInstruction(Instruction):\n",
    "    def __init__(self, result: str, node: AstNode):\n",
    "        super().__init__(result)\n",
    "        self.left = node.args[0]\n",
    "        self.right = node.args[1]\n",
    "\n",
    "    def __str__(self):\n",
    "        left_temp = self.left\n",
    "        right_temp = self.right\n",
    "        return f\"{self.result} = {left_temp} * {right_temp}\"\n",
    "\n",
    "class DivInstruction(Instruction):\n",
    "    def __init__(self, result: str, node: AstNode):\n",
    "        super().__init__(result)\n",
    "        self.numerator = node.args[0]\n",
    "        self.denominator = node.args[1]\n",
    "\n",
    "    def __str__(self):\n",
    "        numerator_temp = self.numerator\n",
    "        denominator_temp = self.denominator\n",
    "        return f\"{self.result} = {numerator_temp} / {denominator_temp}\"\n",
    "\n",
    "class PowInstruction(Instruction):\n",
    "    def __init__(self, result: str, node: AstNode):\n",
    "        super().__init__(result)\n",
    "        self.base = node.args[0]\n",
    "        self.exponent = node.args[1]\n",
    "\n",
    "    def __str__(self):\n",
    "        base_temp = self.base\n",
    "        exponent_temp = self.exponent\n",
    "        return f\"{self.result} = {base_temp} ** {exponent_temp}\"\n",
    "\n",
    "class NegInstruction(Instruction):\n",
    "    def __init__(self, result: str, node: AstNode):\n",
    "        super().__init__(result)\n",
    "        self.operand = node.args[0]\n",
    "\n",
    "    def __str__(self):\n",
    "        operand_temp = self.operand\n",
    "        return f\"{self.result} = -{operand_temp}\"\n",
    "\n",
    "class PosInstruction(Instruction):\n",
    "    def __init__(self, result: str, node: AstNode):\n",
    "        super().__init__(result)\n",
    "        self.operand = node.args[0]\n",
    "\n",
    "    def __str__(self):\n",
    "        operand_temp = self.operand\n",
    "        return f\"{self.result} = +{operand_temp}\"\n",
    "\n",
    "class SymbolInstruction(Instruction):\n",
    "    def __init__(self, result: str, node: AstNode):\n",
    "        super().__init__(result)\n",
    "        self.name = node.args[0]\n",
    "\n",
    "    def __str__(self):\n",
    "        return f\"{self.result} = Symbol('{self.name}')\"\n",
    "\n",
    "class AssignmentInstruction(Instruction):\n",
    "    def __init__(self, result: str, node: AstNode):\n",
    "        super().__init__(result)\n",
    "        self.variable = node.args[0]\n",
    "        self.value = node.args[1]\n",
    "\n",
    "    def __str__(self):\n",
    "        value_temp = self.value\n",
    "        return f\"{self.variable} = {value_temp}\"\n",
    "\n",
    "class FunctionCallInstruction(Instruction):\n",
    "    def __init__(self, result: str, node: AstNode):\n",
    "        super().__init__(result)\n",
    "        self.func_name = node.identifier\n",
    "        self.args = node.args\n",
    "\n",
    "    def __str__(self):\n",
    "        args_temps = ', '.join(arg for arg in self.args)\n",
    "        return f\"CALL {self.func_name}, {args_temps}\"\n",
    "\n",
    "class EquationInstruction(Instruction):\n",
    "    def __init__(self, result: str, node: AstNode):\n",
    "        super().__init__(result)\n",
    "        self.left = node.args[0]\n",
    "        self.right = node.args[1]\n",
    "\n",
    "    def __str__(self):\n",
    "        left_temp = self.left\n",
    "        right_temp = self.right\n",
    "        return f\"{self.result} = Eq({left_temp}, {right_temp})\"\n",
    "\n",
    "class ArrayInstruction(Instruction):\n",
    "    def __init__(self, result: str, elements: List[AstNode]):\n",
    "        super().__init__(result)\n",
    "        self.elements = elements\n",
    "\n",
    "    def __str__(self):\n",
    "        array_string = f\"ARRAY {self.result} \\n   \"\n",
    "        return array_string + '\\n   '.join(f\"{self.result}[{idx}] = {instr}\" for idx, instr in enumerate(self.elements))\n",
    "\n",
    "class IR:\n",
    "    def __init__(self):\n",
    "        self.instructions = []\n",
    "\n",
    "    def new_instruction(self, instruction: Instruction):\n",
    "        self.instructions.append(instruction)\n",
    "\n",
    "    def __str__(self):\n",
    "        return '\\n'.join(f\"{idx}: {instr}\" for idx, instr in enumerate(self.instructions, start=1))\n",
    "\n",
    "    def __repr__(self):\n",
    "        return self.__str__()\n",
    "\n",
    "class MyImplementer(Implementer):\n",
    "    def __init__(self, ir: IR):\n",
    "        self.ir = ir\n",
    "        self.temp_counter = 0\n",
    "        self._state = ScopedState()\n",
    "        self.symbol_table = {}  # For managing variable names\n",
    "\n",
    "    def new_temp(self):\n",
    "        temp_var = f\"t{self.temp_counter}\"\n",
    "        self.temp_counter += 1\n",
    "        return temp_var\n",
    "\n",
    "    @property\n",
    "    def state(self) -> ScopedState:\n",
    "        return self._state\n",
    "\n",
    "    @state.setter\n",
    "    def state(self, state: ScopedState) -> None:\n",
    "        self._state = state\n",
    "\n",
    "    def clear(self, node: AstNode):\n",
    "        self.state.reset()\n",
    "\n",
    "    # Implementations for basic operations\n",
    "\n",
    "    def int(self, node: AstNode):\n",
    "        result_temp = self.new_temp()\n",
    "        self.ir.new_instruction(IntegerInstruction(result_temp, node))\n",
    "        node.temp_var = result_temp\n",
    "        return result_temp\n",
    "\n",
    "    def float(self, node: AstNode):\n",
    "        result_temp = self.new_temp()\n",
    "        self.ir.new_instruction(FloatInstruction(result_temp, node))\n",
    "        node.temp_var = result_temp\n",
    "        return result_temp\n",
    "\n",
    "    def add(self, node: AstNode):\n",
    "        result_temp = self.new_temp()\n",
    "        self.ir.new_instruction(AddInstruction(result_temp, node))\n",
    "        node.temp_var = result_temp\n",
    "        return result_temp\n",
    "\n",
    "    def sub(self, node: AstNode):\n",
    "        result_temp = self.new_temp()\n",
    "        self.ir.new_instruction(SubInstruction(result_temp, node))\n",
    "        node.temp_var = result_temp\n",
    "        return result_temp\n",
    "\n",
    "    def mul(self, node: AstNode):\n",
    "        result_temp = self.new_temp()\n",
    "        self.ir.new_instruction(MulInstruction(result_temp, node))\n",
    "        node.temp_var = result_temp\n",
    "        return result_temp\n",
    "\n",
    "    def div(self, node: AstNode):\n",
    "        result_temp = self.new_temp()\n",
    "        self.ir.new_instruction(DivInstruction(result_temp, node))\n",
    "        node.temp_var = result_temp\n",
    "        return result_temp\n",
    "\n",
    "    def pow(self, node: AstNode):\n",
    "        result_temp = self.new_temp()\n",
    "        self.ir.new_instruction(PowInstruction(result_temp, node))\n",
    "        node.temp_var = result_temp\n",
    "        return result_temp\n",
    "\n",
    "    def neg(self, node: AstNode):\n",
    "        result_temp = self.new_temp()\n",
    "        self.ir.new_instruction(NegInstruction(result_temp, node))\n",
    "        node.temp_var = result_temp\n",
    "        return result_temp\n",
    "\n",
    "    def pos(self, node: AstNode):\n",
    "        result_temp = self.new_temp()\n",
    "        self.ir.new_instruction(PosInstruction(result_temp, node))\n",
    "        node = result_temp\n",
    "        return result_temp\n",
    "\n",
    "    def symbol(self, node: AstNode):\n",
    "        result_temp = self.new_temp()\n",
    "        self.ir.new_instruction(SymbolInstruction(result_temp, node))\n",
    "        return result_temp\n",
    "\n",
    "    def assign(self, node: AstNode):\n",
    "        self.ir.new_instruction(AssignmentInstruction(None, node))\n",
    "        self.symbol_table[node.args[0]] = node.args[1]  # Update symbol table\n",
    "        return node.args[0]\n",
    "\n",
    "    # Implementations for function calls\n",
    "    def func_call(self, node: AstNode):\n",
    "        result_temp = self.new_temp()\n",
    "        self.ir.new_instruction(FunctionCallInstruction(result_temp, node))\n",
    "        return result_temp\n",
    "\n",
    "    # Implementations for mathematical functions\n",
    "    def sin(self, node: AstNode):\n",
    "        return self.func_call(node)\n",
    "\n",
    "    def cos(self, node: AstNode):\n",
    "        return self.func_call(node)\n",
    "\n",
    "    def tan(self, node: AstNode):\n",
    "        return self.func_call(node)\n",
    "\n",
    "    def exp(self, node: AstNode):\n",
    "        return self.func_call(node)\n",
    "\n",
    "    def ln(self, node: AstNode):\n",
    "        return self.func_call(node)\n",
    "\n",
    "    def sqrt(self, node: AstNode):\n",
    "        return self.func_call(node)\n",
    "\n",
    "    def absolute(self, node: AstNode):\n",
    "        return self.func_call(node)\n",
    "\n",
    "    # Implementations for special functions\n",
    "    def diff(self, node: AstNode):\n",
    "        return self.func_call(node)\n",
    "\n",
    "    def integrate(self, node: AstNode):\n",
    "        return self.func_call(node)\n",
    "\n",
    "    def simplify(self, node: AstNode):\n",
    "        return self.func_call(node)\n",
    "\n",
    "    def expand(self, node: AstNode):\n",
    "        return self.func_call(node)\n",
    "\n",
    "    def lim(self, node: AstNode):\n",
    "        result_temp = self.new_temp()\n",
    "        self.ir.new_instruction(FunctionCallInstruction(result_temp, node))\n",
    "        node.temp_var = result_temp\n",
    "        return result_temp\n",
    "\n",
    "    def solve(self, node: AstNode):\n",
    "        return self.func_call(node)\n",
    "\n",
    "    # Implementation for equation\n",
    "    def equation(self, node: AstNode):\n",
    "        result_temp = self.new_temp()\n",
    "        self.ir.new_instruction(EquationInstruction(result_temp, node))\n",
    "        return result_temp\n",
    "\n",
    "    # Implementation for constants\n",
    "    def constant(self, node: AstNode):\n",
    "        result_temp = self.new_temp()\n",
    "        self.ir.new_instruction(FunctionCallInstruction(result_temp, node))\n",
    "        node.temp_var = result_temp\n",
    "        return result_temp\n",
    "\n",
    "    # Implementations for arrays\n",
    "    def array(self, node: AstNode):\n",
    "        # Create an instruction for the array\n",
    "        result_temp = self.new_temp()\n",
    "        self.ir.new_instruction(ArrayInstruction(result_temp, node.args))\n",
    "        return result_temp\n",
    "\n",
    "    # Implementations for tensors and advanced constructs\n",
    "    def tensor(self, node: AstNode):\n",
    "        return self.func_call(node)\n",
    "\n",
    "    def derivative(self, node: AstNode):\n",
    "        return self.func_call(node)\n",
    "\n",
    "    def integral(self, node: AstNode):\n",
    "        return self.func_call(node)\n",
    "\n",
    "    # Implement variable declarations if needed\n",
    "    def var_decl(self, node: AstNode):\n",
    "        self.symbol_table[node.node] = node.node\n",
    "        node.temp_var = node.node\n",
    "        return node.node\n",
    "\n",
    "    # Implement print statement\n",
    "    def print_(self, node: AstNode):\n",
    "        self.ir.new_instruction(FunctionCallInstruction(None, node))\n",
    "        return None\n"
   ],
   "id": "66c3f6e148fc1a65",
   "outputs": [],
   "execution_count": 5
  },
  {
   "metadata": {
    "ExecuteTime": {
     "end_time": "2025-02-01T17:55:02.326875Z",
     "start_time": "2025-02-01T17:55:02.325361Z"
    }
   },
   "cell_type": "code",
   "source": "",
   "id": "345fe008c74543eb",
   "outputs": [],
   "execution_count": 5
  },
  {
   "metadata": {
    "ExecuteTime": {
     "end_time": "2025-02-01T17:55:02.735892Z",
     "start_time": "2025-02-01T17:55:02.731726Z"
    }
   },
   "cell_type": "code",
   "source": [
    "def build_ir(expr: str):\n",
    "    tok = GRLexer(expr).tokenize()\n",
    "    parser = GRParser(tok)\n",
    "    res = parser.parse()\n",
    "    sa = SemanticAnalyzer() \n",
    "    script = sa.analyse(res)\n",
    "    interpreter = Interpreter(MyImplementer(IR()))\n",
    "    interpreter.exe_script(script)\n",
    "    return interpreter.implementor"
   ],
   "id": "c94ff050a4e5d02e",
   "outputs": [],
   "execution_count": 6
  },
  {
   "metadata": {
    "ExecuteTime": {
     "end_time": "2025-02-01T17:55:15.047734Z",
     "start_time": "2025-02-01T17:55:14.992031Z"
    }
   },
   "cell_type": "code",
   "source": [
    "build_ir(\"\"\"\n",
    "hello(1) + 2\n",
    "\"\"\").ir"
   ],
   "id": "362f5aa32592d9b1",
   "outputs": [
    {
     "ename": "NotImplementedError",
     "evalue": "The object MyImplementer does not have the method 'symbolfunc()' required to \n                implement the Node: Call. ",
     "output_type": "error",
     "traceback": [
      "\u001B[0;31m---------------------------------------------------------------------------\u001B[0m",
      "\u001B[0;31mNotImplementedError\u001B[0m                       Traceback (most recent call last)",
      "Cell \u001B[0;32mIn[8], line 1\u001B[0m\n\u001B[0;32m----> 1\u001B[0m \u001B[43mbuild_ir\u001B[49m\u001B[43m(\u001B[49m\u001B[38;5;124;43m\"\"\"\u001B[39;49m\n\u001B[1;32m      2\u001B[0m \u001B[38;5;124;43mhello(1) + 2\u001B[39;49m\n\u001B[1;32m      3\u001B[0m \u001B[38;5;124;43m\"\"\"\u001B[39;49m\u001B[43m)\u001B[49m\u001B[38;5;241m.\u001B[39mir\n",
      "Cell \u001B[0;32mIn[6], line 8\u001B[0m, in \u001B[0;36mbuild_ir\u001B[0;34m(expr)\u001B[0m\n\u001B[1;32m      6\u001B[0m script \u001B[38;5;241m=\u001B[39m sa\u001B[38;5;241m.\u001B[39manalyse(res)\n\u001B[1;32m      7\u001B[0m interpreter \u001B[38;5;241m=\u001B[39m Interpreter(MyImplementer(IR()))\n\u001B[0;32m----> 8\u001B[0m \u001B[43minterpreter\u001B[49m\u001B[38;5;241;43m.\u001B[39;49m\u001B[43mexe_script\u001B[49m\u001B[43m(\u001B[49m\u001B[43mscript\u001B[49m\u001B[43m)\u001B[49m\n\u001B[1;32m      9\u001B[0m \u001B[38;5;28;01mreturn\u001B[39;00m interpreter\u001B[38;5;241m.\u001B[39mimplementor\n",
      "File \u001B[0;32m~/code/repositories/relativisticpy/relativisticpy/interpreter/interpreter.py:29\u001B[0m, in \u001B[0;36mInterpreter.exe_script\u001B[0;34m(self, gr_script)\u001B[0m\n\u001B[1;32m     27\u001B[0m \u001B[38;5;28;01mfor\u001B[39;00m action_tree \u001B[38;5;129;01min\u001B[39;00m \u001B[38;5;28mself\u001B[39m\u001B[38;5;241m.\u001B[39mgr_script\u001B[38;5;241m.\u001B[39maction_trees:\n\u001B[1;32m     28\u001B[0m     \u001B[38;5;28;01mif\u001B[39;00m action_tree\u001B[38;5;241m.\u001B[39mreturns_object:\n\u001B[0;32m---> 29\u001B[0m         callback_result \u001B[38;5;241m=\u001B[39m \u001B[38;5;28;43mself\u001B[39;49m\u001B[38;5;241;43m.\u001B[39;49m\u001B[43mexecutor\u001B[49m\u001B[43m(\u001B[49m\u001B[43maction_tree\u001B[49m\u001B[38;5;241;43m.\u001B[39;49m\u001B[43mast\u001B[49m\u001B[43m)\u001B[49m\n\u001B[1;32m     30\u001B[0m         \u001B[38;5;28mself\u001B[39m\u001B[38;5;241m.\u001B[39mreturn_list\u001B[38;5;241m.\u001B[39mappend(\n\u001B[1;32m     31\u001B[0m             ReturnObject(\n\u001B[1;32m     32\u001B[0m                 value\u001B[38;5;241m=\u001B[39mcallback_result,\n\u001B[1;32m     33\u001B[0m                 _type\u001B[38;5;241m=\u001B[39maction_tree\u001B[38;5;241m.\u001B[39mreturn_type,\n\u001B[1;32m     34\u001B[0m             )\n\u001B[1;32m     35\u001B[0m         )\n\u001B[1;32m     36\u001B[0m     \u001B[38;5;28;01melse\u001B[39;00m:\n",
      "File \u001B[0;32m~/code/repositories/relativisticpy/relativisticpy/interpreter/interpreter.py:41\u001B[0m, in \u001B[0;36mInterpreter.executor\u001B[0;34m(self, ast_node)\u001B[0m\n\u001B[1;32m     40\u001B[0m \u001B[38;5;28;01mdef\u001B[39;00m \u001B[38;5;21mexecutor\u001B[39m(\u001B[38;5;28mself\u001B[39m, ast_node: AstNode):\n\u001B[0;32m---> 41\u001B[0m     \u001B[38;5;28;01mreturn\u001B[39;00m \u001B[43mast_node\u001B[49m\u001B[38;5;241;43m.\u001B[39;49m\u001B[43mexecute_node\u001B[49m\u001B[43m(\u001B[49m\u001B[38;5;28;43mself\u001B[39;49m\u001B[38;5;241;43m.\u001B[39;49m\u001B[43mimplementor\u001B[49m\u001B[43m)\u001B[49m\n",
      "File \u001B[0;32m~/code/repositories/relativisticpy/relativisticpy/interpreter/nodes/base.py:113\u001B[0m, in \u001B[0;36mAstNode.execute_node\u001B[0;34m(self, implementer)\u001B[0m\n\u001B[1;32m    111\u001B[0m \u001B[38;5;66;03m# Depth first traversal of the tree.\u001B[39;00m\n\u001B[1;32m    112\u001B[0m \u001B[38;5;28;01mfor\u001B[39;00m i, child \u001B[38;5;129;01min\u001B[39;00m \u001B[38;5;28menumerate\u001B[39m(\u001B[38;5;28mself\u001B[39m\u001B[38;5;241m.\u001B[39mchildren):\n\u001B[0;32m--> 113\u001B[0m     \u001B[38;5;28mself\u001B[39m\u001B[38;5;241m.\u001B[39margs[i] \u001B[38;5;241m=\u001B[39m \u001B[43mchild\u001B[49m\u001B[38;5;241;43m.\u001B[39;49m\u001B[43mexecute_node\u001B[49m\u001B[43m(\u001B[49m\u001B[43mimplementer\u001B[49m\u001B[43m)\u001B[49m\n\u001B[1;32m    115\u001B[0m \u001B[38;5;28;01mreturn\u001B[39;00m self_exe(\u001B[38;5;28mself\u001B[39m)\n",
      "File \u001B[0;32m~/code/repositories/relativisticpy/relativisticpy/interpreter/nodes/base.py:504\u001B[0m, in \u001B[0;36mCall.execute_node\u001B[0;34m(self, implementer)\u001B[0m\n\u001B[1;32m    502\u001B[0m \u001B[38;5;28;01melse\u001B[39;00m:\n\u001B[1;32m    503\u001B[0m     \u001B[38;5;28;01mfor\u001B[39;00m i, arg \u001B[38;5;129;01min\u001B[39;00m \u001B[38;5;28menumerate\u001B[39m(\u001B[38;5;28mself\u001B[39m\u001B[38;5;241m.\u001B[39mchildren):\n\u001B[0;32m--> 504\u001B[0m         self_exe: Callable \u001B[38;5;241m=\u001B[39m \u001B[38;5;28;43mself\u001B[39;49m\u001B[38;5;241;43m.\u001B[39;49m\u001B[43mget_executor\u001B[49m\u001B[43m(\u001B[49m\u001B[43mimplementer\u001B[49m\u001B[43m)\u001B[49m\n\u001B[1;32m    506\u001B[0m         \u001B[38;5;28;01mfor\u001B[39;00m i, child \u001B[38;5;129;01min\u001B[39;00m \u001B[38;5;28menumerate\u001B[39m(\u001B[38;5;28mself\u001B[39m\u001B[38;5;241m.\u001B[39mchildren):\n\u001B[1;32m    507\u001B[0m             \u001B[38;5;28mself\u001B[39m\u001B[38;5;241m.\u001B[39margs[i] \u001B[38;5;241m=\u001B[39m child\u001B[38;5;241m.\u001B[39mexecute_node(implementer)\n",
      "File \u001B[0;32m~/code/repositories/relativisticpy/relativisticpy/interpreter/nodes/base.py:129\u001B[0m, in \u001B[0;36mAstNode.get_executor\u001B[0;34m(self, implementer)\u001B[0m\n\u001B[1;32m    127\u001B[0m \u001B[38;5;28;01mdef\u001B[39;00m \u001B[38;5;21mget_executor\u001B[39m(\u001B[38;5;28mself\u001B[39m, implementer: Implementer) \u001B[38;5;241m-\u001B[39m\u001B[38;5;241m>\u001B[39m Callable:\n\u001B[1;32m    128\u001B[0m     \u001B[38;5;28;01mif\u001B[39;00m \u001B[38;5;129;01mnot\u001B[39;00m \u001B[38;5;28mhasattr\u001B[39m(implementer, \u001B[38;5;28mself\u001B[39m\u001B[38;5;241m.\u001B[39mcallback):\n\u001B[0;32m--> 129\u001B[0m         \u001B[38;5;28;01mraise\u001B[39;00m \u001B[38;5;167;01mNotImplementedError\u001B[39;00m(\n\u001B[1;32m    130\u001B[0m             \u001B[38;5;124mf\u001B[39m\u001B[38;5;124m\"\"\"\u001B[39m\u001B[38;5;124mThe object \u001B[39m\u001B[38;5;132;01m{\u001B[39;00m\u001B[38;5;28mtype\u001B[39m(implementer)\u001B[38;5;241m.\u001B[39m\u001B[38;5;18m__name__\u001B[39m\u001B[38;5;132;01m}\u001B[39;00m\u001B[38;5;124m does not have the method \u001B[39m\u001B[38;5;124m'\u001B[39m\u001B[38;5;132;01m{\u001B[39;00m\u001B[38;5;28mself\u001B[39m\u001B[38;5;241m.\u001B[39mcallback\u001B[38;5;132;01m}\u001B[39;00m\u001B[38;5;124m()\u001B[39m\u001B[38;5;124m'\u001B[39m\u001B[38;5;124m required to \u001B[39m\n\u001B[1;32m    131\u001B[0m \u001B[38;5;124m            implement the Node: \u001B[39m\u001B[38;5;132;01m{\u001B[39;00m\u001B[38;5;28mtype\u001B[39m(\u001B[38;5;28mself\u001B[39m)\u001B[38;5;241m.\u001B[39m\u001B[38;5;18m__name__\u001B[39m\u001B[38;5;132;01m}\u001B[39;00m\u001B[38;5;124m. \u001B[39m\u001B[38;5;124m\"\"\"\u001B[39m)\n\u001B[1;32m    132\u001B[0m     \u001B[38;5;28;01melse\u001B[39;00m:\n\u001B[1;32m    133\u001B[0m         \u001B[38;5;28;01mreturn\u001B[39;00m \u001B[38;5;28mgetattr\u001B[39m(implementer, \u001B[38;5;28mself\u001B[39m\u001B[38;5;241m.\u001B[39mcallback)\n",
      "\u001B[0;31mNotImplementedError\u001B[0m: The object MyImplementer does not have the method 'symbolfunc()' required to \n                implement the Node: Call. "
     ]
    }
   ],
   "execution_count": 8
  },
  {
   "metadata": {
    "ExecuteTime": {
     "end_time": "2025-02-01T18:12:20.843903Z",
     "start_time": "2025-02-01T18:12:20.839895Z"
    }
   },
   "cell_type": "code",
   "source": [
    "a = [1, 2, 3, 4, 5]\n",
    "import random\n",
    "random.choice(a)"
   ],
   "id": "e8f2f51e67c6bb4c",
   "outputs": [
    {
     "data": {
      "text/plain": [
       "2"
      ]
     },
     "execution_count": 15,
     "metadata": {},
     "output_type": "execute_result"
    }
   ],
   "execution_count": 15
  },
  {
   "metadata": {
    "ExecuteTime": {
     "end_time": "2024-11-30T17:51:18.772171Z",
     "start_time": "2024-11-30T17:51:18.766871Z"
    }
   },
   "cell_type": "code",
   "source": [
    "from relativisticpy.interpreter.lexers.base import TokenType\n",
    "\n",
    "d = {\n",
    "            \"!\": {\"=\": TokenType.NOTEQUAL},\n",
    "            \"%\": {\"=\": TokenType.PERCENTEQUAL},\n",
    "            \"&\": {\"=\": TokenType.AMPEREQUAL},\n",
    "            \"+\": {\"=\": TokenType.PLUSEQUAL},\n",
    "            \":\": {\"=\": TokenType.COLONEQUAL},\n",
    "            \"=\": {\"=\": TokenType.EQEQUAL},\n",
    "            \"@\": {\"=\": TokenType.ATEQUAL},\n",
    "            \"^\": {\"=\": TokenType.CIRCUMFLEXEQUAL},\n",
    "            \"|\": {\"=\": TokenType.VBAREQUAL, \"|\": TokenType.VBARVBAR},\n",
    "            \"*\": {\n",
    "                \"*\": TokenType.DOUBLESTAR,\n",
    "                \"=\": TokenType.STAREQUAL,\n",
    "            },\n",
    "            \">\": {\n",
    "                \"=\": TokenType.GREATEREQUAL,\n",
    "                \">\": TokenType.RIGHTSHIFT,\n",
    "            },\n",
    "            \"/\": {\n",
    "                \"/\": TokenType.DOUBLESLASH,\n",
    "                \"=\": TokenType.SLASHEQUAL,\n",
    "            },\n",
    "            \"-\": {\n",
    "                \"=\": TokenType.MINEQUAL,\n",
    "                \">\": TokenType.RARROW,\n",
    "            },\n",
    "            \"<\": {\n",
    "                \"-\": TokenType.LARROW,\n",
    "                \"=\": TokenType.LESSEQUAL,\n",
    "                \"<\": TokenType.LEFTSHIFTEQUAL,\n",
    "                \">\": TokenType.NOTEQUAL,\n",
    "            },\n",
    "        }"
   ],
   "id": "bd1c37bc217ceea9",
   "outputs": [],
   "execution_count": 464
  },
  {
   "metadata": {
    "ExecuteTime": {
     "end_time": "2024-11-30T17:51:27.265304Z",
     "start_time": "2024-11-30T17:51:27.252339Z"
    }
   },
   "cell_type": "code",
   "source": [
    "from relativisticpy.interpreter.lexers._l import nested_dict_get\n",
    "\n",
    "nested_dict_get(d, \"<\")"
   ],
   "id": "255fb0b2de953028",
   "outputs": [
    {
     "ename": "TypeError",
     "evalue": "nested_dict_get() missing 1 required keyword-only argument: 'd'",
     "output_type": "error",
     "traceback": [
      "\u001B[0;31m---------------------------------------------------------------------------\u001B[0m",
      "\u001B[0;31mTypeError\u001B[0m                                 Traceback (most recent call last)",
      "Cell \u001B[0;32mIn[466], line 3\u001B[0m\n\u001B[1;32m      1\u001B[0m \u001B[38;5;28;01mfrom\u001B[39;00m \u001B[38;5;21;01mrelativisticpy\u001B[39;00m\u001B[38;5;21;01m.\u001B[39;00m\u001B[38;5;21;01minterpreter\u001B[39;00m\u001B[38;5;21;01m.\u001B[39;00m\u001B[38;5;21;01mlexers\u001B[39;00m\u001B[38;5;21;01m.\u001B[39;00m\u001B[38;5;21;01m_l\u001B[39;00m \u001B[38;5;28;01mimport\u001B[39;00m nested_dict_get\n\u001B[0;32m----> 3\u001B[0m \u001B[43mnested_dict_get\u001B[49m\u001B[43m(\u001B[49m\u001B[43md\u001B[49m\u001B[43m,\u001B[49m\u001B[43m \u001B[49m\u001B[38;5;124;43m\"\u001B[39;49m\u001B[38;5;124;43m<\u001B[39;49m\u001B[38;5;124;43m\"\u001B[39;49m\u001B[43m)\u001B[49m\n",
      "\u001B[0;31mTypeError\u001B[0m: nested_dict_get() missing 1 required keyword-only argument: 'd'"
     ]
    }
   ],
   "execution_count": 466
  },
  {
   "metadata": {
    "ExecuteTime": {
     "end_time": "2024-12-01T15:16:53.232977Z",
     "start_time": "2024-12-01T15:16:53.220251Z"
    }
   },
   "cell_type": "code",
   "source": [
    "from typing import List, ByteString, Optional\n",
    "\n",
    "\n",
    "class SourceCode:\n",
    "    def __init__(self, sc_bytes: ByteString):\n",
    "        self.__sc_bytes = sc_bytes\n",
    "\n",
    "    @property\n",
    "    def as_byte_list(self) -> List[int]:\n",
    "        \"\"\"Return the source code as a list of integer UTF-8 byte values.\"\"\"\n",
    "        return list(self.__sc_bytes)\n",
    "\n",
    "    @property\n",
    "    def as_unicode(self) -> List[int]:\n",
    "        return list(self.__sc_bytes)\n",
    "\n",
    "    @property\n",
    "    def as_string(self) -> str:\n",
    "        \"\"\"Return the source code as a decoded UTF-8 string.\"\"\"\n",
    "        return self.__sc_bytes.decode('utf-8')\n",
    "\n",
    "    @property\n",
    "    def as_byte_string(self) -> ByteString:\n",
    "        \"\"\"Return the source code as raw UTF-8 encoded bytes.\"\"\"\n",
    "        return self.__sc_bytes\n",
    "\n",
    "    @classmethod\n",
    "    def from_string(cls, s: str):\n",
    "        \"\"\"Create a SourceCode object from a string.\"\"\"\n",
    "        return cls(s.encode('utf-8'))\n",
    "\n",
    "    @classmethod\n",
    "    def from_file(cls, file_path: str):\n",
    "        \"\"\"Create a SourceCode object from a UTF-8 encoded file.\"\"\"\n",
    "        with open(file_path, 'r', encoding='utf-8') as file:\n",
    "            source_code = file.read()\n",
    "        return cls(source_code.encode('utf-8'))\n",
    "\n",
    "    @classmethod\n",
    "    def from_stream(cls, stream):\n",
    "        \"\"\"Create a SourceCode object from a stream (e.g., a file-like object).\"\"\"\n",
    "        source_code = stream.read()\n",
    "        return cls(source_code.encode('utf-8'))\n",
    "\n",
    "    @classmethod\n",
    "    def from_bytes(cls, b: bytes):\n",
    "        \"\"\"Create a SourceCode object from raw bytes.\"\"\"\n",
    "        return cls(b)\n",
    "\n",
    "    def __add__(self, other):\n",
    "        \"\"\"Concatenate two SourceCode objects.\"\"\"\n",
    "        return SourceCode.from_string(self.as_string + other.as_string)\n",
    "\n",
    "    def __len__(self) -> int:\n",
    "        \"\"\"Return the length of the source code in characters.\"\"\"\n",
    "        return len(self.as_string)\n",
    "\n",
    "    def __iter__(self):\n",
    "        \"\"\"Iterate over the integer representation of each UTF-8 character.\"\"\"\n",
    "        return iter(self.as_byte_list)\n",
    "\n",
    "    def __enter__(self):\n",
    "        \"\"\"Enter a context manager.\"\"\"\n",
    "        # Return self to allow access to the SourceCode object in the `with` block.\n",
    "        return self\n",
    "\n",
    "    def __exit__(self, exc_type, exc_value, traceback):\n",
    "        \"\"\"Exit the context manager.\"\"\"\n",
    "        # No resources to clean up, but this ensures compatibility with `with`.\n",
    "        pass\n",
    "\n",
    "    def char_at(self, position: int) -> str:\n",
    "        \"\"\"\n",
    "        Get the character at a specific position in the source code.\n",
    "        :param position: The index of the character (0-based).\n",
    "        :return: The character at the specified position.\n",
    "        \"\"\"\n",
    "        if position < 0 or position >= len(self):\n",
    "            raise IndexError(f\"Position {position} is out of range for source code of length {len(self)}.\")\n",
    "        return self.as_string[position]\n",
    "\n",
    "    def peek(self, position: int, count: int = 1) -> str:\n",
    "        \"\"\"\n",
    "        Peek ahead to view characters starting at a specific position.\n",
    "        :param position: The starting position (0-based).\n",
    "        :param count: The number of characters to preview.\n",
    "        :return: A substring of the specified length starting from the position.\n",
    "        \"\"\"\n",
    "        if position < 0 or position >= len(self):\n",
    "            raise IndexError(f\"Position {position} is out of range for source code of length {len(self)}.\")\n",
    "        return self.as_string[position:position + count]\n",
    "\n",
    "    def slice(self, start: int, end: Optional[int] = None) -> str:\n",
    "        \"\"\"\n",
    "        Get a substring of the source code.\n",
    "        :param start: The starting index (0-based, inclusive).\n",
    "        :param end: The ending index (0-based, exclusive). If None, goes to the end of the string.\n",
    "        :return: The sliced substring.\n",
    "        \"\"\"\n",
    "        if start < 0 or start >= len(self) or (end is not None and (end < start or end > len(self))):\n",
    "            raise IndexError(f\"Invalid slice range {start}:{end} for source code of length {len(self)}.\")\n",
    "        return self.as_string[start:end]\n",
    "\n",
    "    def is_empty(self) -> bool:\n",
    "        \"\"\"Check if the source code is empty.\"\"\"\n",
    "        return len(self.__sc_bytes) == 0\n",
    "\n",
    "    def remaining_bytes(self, start: int) -> List[int]:\n",
    "        \"\"\"\n",
    "        Get the remaining bytes in the source code starting from a given position.\n",
    "        :param start: The starting position.\n",
    "        :return: A list of remaining byte values.\n",
    "        \"\"\"\n",
    "        if start < 0 or start >= len(self.as_byte_list):\n",
    "            raise IndexError(f\"Position {start} is out of range for source code of length {len(self)}.\")\n",
    "        return self.as_byte_list[start:]"
   ],
   "id": "fabff570b67e8bc9",
   "outputs": [],
   "execution_count": 517
  },
  {
   "metadata": {
    "ExecuteTime": {
     "end_time": "2024-12-12T09:54:57.410927Z",
     "start_time": "2024-12-12T09:54:57.397477Z"
    }
   },
   "cell_type": "code",
   "source": [
    "\n",
    "\n",
    "class CharacterSets:\n",
    "    \"\"\"Defines logical groups of characters as class-level attributes with utility methods.\"\"\"\n",
    "\n",
    "    # Single-character definitions\n",
    "    NEWLINE = {ord('\\n')}\n",
    "    COMMENT = {ord('#')}\n",
    "\n",
    "    # Multi-character group definitions\n",
    "    WHITESPACE = {ord(' '), ord('\\t')}\n",
    "    DELIMITERS = {ord(';'), ord('\\n')}\n",
    "    BRACKETS = {ord('['), ord(']')}\n",
    "    PARENTHESES = {ord('('), ord(')')}\n",
    "    BRACES = {ord('{'), ord('}')}\n",
    "\n",
    "    ARITHMETIC_OPERATORS = {ord('+'), ord('-'), ord('*'), ord('/'), ord('%')}\n",
    "    COMPARISON_OPERATORS = {ord('>'), ord('<'), ord('=')}\n",
    "    LOGICAL_OPERATORS = {ord('&'), ord('|'), ord('~'), ord('^'), ord('!')}\n",
    "    ASSIGNMENT_OPERATORS = {ord('=')}\n",
    "\n",
    "    STRING_DELIMITERS = {ord(\"'\"), ord('\"')}\n",
    "    NUMERIC_CHARACTERS = {ord(char) for char in \"0123456789.e\"}\n",
    "    LOWERCASE = {ord(char) for char in \"abcdefghijklmnopqrstuvwxyz\"}\n",
    "    UPPERCASE = {ord(char) for char in \"ABCDEFGHIJKLMNOPQRSTUVWXYZ\"}\n",
    "    IDENTIFIERS = LOWERCASE | UPPERCASE | NUMERIC_CHARACTERS | {ord('_')}\n",
    "    SPECIAL = {ord('@'), ord(':')}\n",
    "\n",
    "    @classmethod\n",
    "    def all(cls) -> set:\n",
    "        \"\"\"Return a set of all defined characters.\"\"\"\n",
    "        return (\n",
    "            cls.NEWLINE | \n",
    "            cls.COMMENT |\n",
    "            cls.WHITESPACE |\n",
    "            cls.DELIMITERS |\n",
    "            cls.BRACKETS |\n",
    "            cls.PARENTHESES |\n",
    "            cls.BRACES |\n",
    "            cls.ARITHMETIC_OPERATORS |\n",
    "            cls.COMPARISON_OPERATORS |\n",
    "            cls.LOGICAL_OPERATORS |\n",
    "            cls.ASSIGNMENT_OPERATORS |\n",
    "            cls.STRING_DELIMITERS |\n",
    "            cls.NUMERIC_CHARACTERS |\n",
    "            cls.LOWERCASE |\n",
    "            cls.UPPERCASE |\n",
    "            cls.IDENTIFIERS |\n",
    "            cls.SPECIAL\n",
    "        )\n",
    "\n",
    "    @classmethod\n",
    "    def as_strings(cls, group: set) -> set:\n",
    "        \"\"\"\n",
    "        Convert a set of ord values into a set of characters.\n",
    "        :param group: The group of ord values.\n",
    "        :return: A set of string characters.\n",
    "        \"\"\"\n",
    "        return {chr(o) for o in group}\n",
    "\n",
    "    @classmethod\n",
    "    def as_ord_list(cls, group: set) -> list:\n",
    "        \"\"\"\n",
    "        Convert a set of ord values into a sorted list of ord values.\n",
    "        :param group: The group of ord values.\n",
    "        :return: A sorted list of ord values.\n",
    "        \"\"\"\n",
    "        return sorted(group)\n",
    "\n",
    "    @classmethod\n",
    "    def validate_source_code(cls, source_code: str) -> set:\n",
    "        \"\"\"\n",
    "        Validate a source code string, returning invalid characters.\n",
    "        :param source_code: The source code to validate.\n",
    "        :return: A set of invalid characters (as strings).\n",
    "        \"\"\"\n",
    "        allowed_chars = cls.all()\n",
    "        invalid_chars = {char for char in source_code if ord(char) not in allowed_chars}\n",
    "        return invalid_chars\n",
    "\n",
    "    @classmethod\n",
    "    def is_valid_char(cls, char: str) -> bool:\n",
    "        \"\"\"\n",
    "        Check if a single character is valid.\n",
    "        :param char: The character to check.\n",
    "        :return: True if the character is valid, False otherwise.\n",
    "        \"\"\"\n",
    "        return ord(char) in cls.all()\n",
    "    \n",
    "    \n",
    "\n",
    "\n",
    "CharSet.as_strings(CharSet.LOWERCASE)"
   ],
   "id": "32a13fe561aca645",
   "outputs": [
    {
     "data": {
      "text/plain": [
       "{'a',\n",
       " 'b',\n",
       " 'c',\n",
       " 'd',\n",
       " 'e',\n",
       " 'f',\n",
       " 'g',\n",
       " 'h',\n",
       " 'i',\n",
       " 'j',\n",
       " 'k',\n",
       " 'l',\n",
       " 'm',\n",
       " 'n',\n",
       " 'o',\n",
       " 'p',\n",
       " 'q',\n",
       " 'r',\n",
       " 's',\n",
       " 't',\n",
       " 'u',\n",
       " 'v',\n",
       " 'w',\n",
       " 'x',\n",
       " 'y',\n",
       " 'z'}"
      ]
     },
     "execution_count": 610,
     "metadata": {},
     "output_type": "execute_result"
    }
   ],
   "execution_count": 610
  },
  {
   "metadata": {
    "ExecuteTime": {
     "end_time": "2024-12-01T16:15:29.876114Z",
     "start_time": "2024-12-01T16:15:29.872607Z"
    }
   },
   "cell_type": "code",
   "source": [
    "sc = SourceCode.from_string(\"Hello, World!\")\n",
    "for char in sc:\n",
    "    print(char in CharSet.as_strings(CharSet.UPPERCASE))"
   ],
   "id": "eca28d8eb5ea2cfc",
   "outputs": [
    {
     "name": "stdout",
     "output_type": "stream",
     "text": [
      "False\n",
      "False\n",
      "False\n",
      "False\n",
      "False\n",
      "False\n",
      "True\n",
      "False\n",
      "False\n",
      "False\n",
      "False\n",
      "False\n",
      "False\n"
     ]
    }
   ],
   "execution_count": 533
  },
  {
   "metadata": {
    "ExecuteTime": {
     "end_time": "2024-12-01T15:46:11.246040Z",
     "start_time": "2024-12-01T15:46:11.243528Z"
    }
   },
   "cell_type": "code",
   "source": "' ' in CharSet.WHITESPACE",
   "id": "5cbadc2a374c4057",
   "outputs": [
    {
     "data": {
      "text/plain": [
       "False"
      ]
     },
     "execution_count": 529,
     "metadata": {},
     "output_type": "execute_result"
    }
   ],
   "execution_count": 529
  },
  {
   "metadata": {
    "ExecuteTime": {
     "end_time": "2024-12-01T16:29:34.067758Z",
     "start_time": "2024-12-01T16:29:34.065435Z"
    }
   },
   "cell_type": "code",
   "source": "ord('a') - ord('A')",
   "id": "6c73f012bad172d7",
   "outputs": [
    {
     "data": {
      "text/plain": [
       "32"
      ]
     },
     "execution_count": 537,
     "metadata": {},
     "output_type": "execute_result"
    }
   ],
   "execution_count": 537
  },
  {
   "metadata": {
    "ExecuteTime": {
     "end_time": "2024-12-01T16:29:58.832541Z",
     "start_time": "2024-12-01T16:29:58.829744Z"
    }
   },
   "cell_type": "code",
   "source": [
    "def fast_uppercase(s: str) -> str:\n",
    "    return chr(ord(s) - 32)\n"
   ],
   "id": "b08729871da13ca7",
   "outputs": [],
   "execution_count": 538
  },
  {
   "metadata": {
    "ExecuteTime": {
     "end_time": "2024-12-01T16:38:58.445685Z",
     "start_time": "2024-12-01T16:38:58.443654Z"
    }
   },
   "cell_type": "code",
   "source": "chr(913)",
   "id": "abe5c5144d2ae696",
   "outputs": [
    {
     "data": {
      "text/plain": [
       "'Α'"
      ]
     },
     "execution_count": 545,
     "metadata": {},
     "output_type": "execute_result"
    }
   ],
   "execution_count": 545
  },
  {
   "metadata": {
    "ExecuteTime": {
     "end_time": "2024-12-01T16:39:15.786023Z",
     "start_time": "2024-12-01T16:39:15.782445Z"
    }
   },
   "cell_type": "code",
   "source": "ord('A')",
   "id": "fbc99e46f9ba6332",
   "outputs": [
    {
     "data": {
      "text/plain": [
       "65"
      ]
     },
     "execution_count": 546,
     "metadata": {},
     "output_type": "execute_result"
    }
   ],
   "execution_count": 546
  },
  {
   "metadata": {
    "ExecuteTime": {
     "end_time": "2024-12-01T16:40:42.989019Z",
     "start_time": "2024-12-01T16:40:42.986866Z"
    }
   },
   "cell_type": "code",
   "source": "chr(128061)",
   "id": "5c7df9cdc1b226bf",
   "outputs": [
    {
     "data": {
      "text/plain": [
       "'🐽'"
      ]
     },
     "execution_count": 550,
     "metadata": {},
     "output_type": "execute_result"
    }
   ],
   "execution_count": 550
  },
  {
   "metadata": {
    "ExecuteTime": {
     "end_time": "2024-12-13T13:59:44.368018Z",
     "start_time": "2024-12-13T13:59:44.362607Z"
    }
   },
   "cell_type": "code",
   "source": [
    "from enum import Enum, auto\n",
    "\n",
    "\n",
    "class EnumObj(Enum):\n",
    "    HELLO = auto()"
   ],
   "id": "4d37a816fad82c0a",
   "outputs": [
    {
     "data": {
      "text/plain": [
       "<EnumObj.HELLO: 1>"
      ]
     },
     "execution_count": 2,
     "metadata": {},
     "output_type": "execute_result"
    }
   ],
   "execution_count": 2
  },
  {
   "metadata": {
    "ExecuteTime": {
     "end_time": "2024-12-16T14:44:23.797430Z",
     "start_time": "2024-12-16T14:44:23.770479Z"
    }
   },
   "cell_type": "code",
   "source": "",
   "id": "c3310749e5f6f401",
   "outputs": [
    {
     "data": {
      "text/plain": [
       "0.0"
      ]
     },
     "execution_count": 6,
     "metadata": {},
     "output_type": "execute_result"
    }
   ],
   "execution_count": 6
  },
  {
   "metadata": {
    "ExecuteTime": {
     "end_time": "2024-12-15T16:43:25.718896Z",
     "start_time": "2024-12-15T16:43:25.581449Z"
    }
   },
   "cell_type": "code",
   "source": [
    "from relativisticpy.interpreter.lexers.operators import SINGLE\n",
    "from relativisticpy.interpreter.lexers.char_set import CharSet\n",
    "\n",
    "from enum import Enum, auto\n",
    "from typing import List\n",
    "from relativisticpy.interpreter.shared.iterator import Iterator\n",
    "\n",
    "from dataclasses import dataclass\n",
    "\n",
    "\n",
    "def enum__contains(cls):\n",
    "    \"\"\"Enum.has_value(value) -> True or False -> if Enum contains that value.\"\"\"\n",
    "\n",
    "    @classmethod\n",
    "    def has_value(cls, value):\n",
    "        return any(value == item.value for item in cls)\n",
    "\n",
    "    cls.has_value = has_value\n",
    "    return cls\n",
    "\n",
    "\n",
    "class TokenType(Enum):\n",
    "    \"\"\"An enumeration of token types used by a the lexer to genrate tokens.\"\"\"\n",
    "\n",
    "    NONE = auto()\n",
    "    NEWLINE = auto()\n",
    "    BACKSLASH = auto()\n",
    "    DOUBLEBACKSLASH = auto()\n",
    "\n",
    "    PLUS = auto(), \"+\"\n",
    "    MINUS = auto(), \"-\"\n",
    "    STAR = auto(), \"*\"\n",
    "    SLASH = auto(), \"/\"\n",
    "    EQUAL = auto(), \"=\"\n",
    "    LPAR = auto(), \"(\"\n",
    "    RPAR = auto(), \")\"\n",
    "    COMMA = auto(), \",\"\n",
    "    LSQB = auto(), \"[\"\n",
    "    RSQB = auto(), \"]\"\n",
    "    DOT = auto(), \".\"\n",
    "    CIRCUMFLEX = auto(), \"^\"\n",
    "    UNDER = auto(), \"_\"\n",
    "    EXCLAMATION = auto(), \"!\"\n",
    "    PERCENT = auto(), \"%\"\n",
    "    AMPER = auto(), \"&\"\n",
    "    COLON = auto(), \":\"\n",
    "    SEMI = auto(), \";\"\n",
    "    LESS = auto(), \"<\"\n",
    "    GREATER = auto(), \">\"\n",
    "    AT = auto(), \"@\"\n",
    "    LBRACE = auto(), \"{\"\n",
    "    RBRACE = auto(), \"}\"\n",
    "    VBAR = auto(), \"|\"\n",
    "    TILDE = auto(), \"~\"\n",
    "    APOSTROPHE = auto(), \"'\"\n",
    "    \n",
    "    NOTEQUAL = auto(), \" '!=' or '<>' \"\n",
    "    PERCENTEQUAL = auto(), \"%=\"\n",
    "    AMPEREQUAL = auto(), \"&=\"\n",
    "    AMPERAMPER = auto(), \"&&\"\n",
    "    DOUBLESTAR = auto(), \"**\"\n",
    "    STAREQUAL = auto(), \"*=\"\n",
    "    PLUSEQUAL = auto(), \"+=\"\n",
    "    MINEQUAL = auto(), \"-=\"\n",
    "    RARROW = auto(), \"->\"\n",
    "    LARROW = auto(), \"<-\"\n",
    "    DOUBLESLASH = auto(), \"//\"\n",
    "    SLASHEQUAL = auto(), \"/=\"\n",
    "    COLONEQUAL = auto(), \":=\"\n",
    "    LEFTSHIFT = auto(), \"<<\"\n",
    "    LESSEQUAL = auto(), \"<=\"\n",
    "    EQEQUAL = auto(), \"==\"\n",
    "    GREATEREQUAL = auto(), \">=\"\n",
    "    RIGHTSHIFT = auto(), \">>\"\n",
    "    ATEQUAL = auto(), \"@=\"\n",
    "    CIRCUMFLEXEQUAL = auto(), \"^=\"\n",
    "    VBAREQUAL = auto(), \"|=\"\n",
    "    VBARVBAR = auto(), \"||\"\n",
    "\n",
    "    # Tripple Character Tokens\n",
    "    DOUBLESTAREQUAL = auto(), \"**=\"\n",
    "    ELLIPSIS = auto(), \"...\"\n",
    "    DOUBLESLASHEQUAL = auto(), \"//=\"\n",
    "    LEFTSHIFTEQUAL = auto(), \"<<=\"\n",
    "    RIGHTSHIFTEQUAL = auto(), \">>=\"\n",
    "\n",
    "    ID = auto(), \"A variable which references data.\"\n",
    "    INT = auto(), \"An Integer.\"\n",
    "    BOOL = auto(), \"A boolean.\"\n",
    "    FLOAT = auto(), \"A floating point number.\"\n",
    "    SYMBOL = auto(), \"A mathematical variable and/or symbol.\"\n",
    "    STRING = auto(), \"A string object.\"\n",
    "\n",
    "    NOT = auto(), \"not\"\n",
    "    AND = auto(), \"and\"\n",
    "    OR = auto(), \"or\"\n",
    "    PRINT = auto(), \"print\"\n",
    "    INFINITESIMAL = auto(), \"An infinitesimal d\"\n",
    "    PI = auto(), \"The numerical constant pi\"\n",
    "    IM = auto(), \"Imaginary number 'i'\"\n",
    "    E = auto(), \"Euler's constant 'e' stored as numerical value.\"\n",
    "    INFINITY = auto(), \" 'infty' or 'oo' or utf-8 infinity 8734.\"\n",
    "    CONSTANT = auto(), \"The 'const' key word.\"\n",
    "\n",
    "    SUM = auto(), \"sum\"\n",
    "    LIMIT = auto(), \"lim\"\n",
    "    FRAC = auto(), \"frac\"\n",
    "    BEGIN = auto(), \"begin\"\n",
    "    END = auto(), \"end\"\n",
    "    DOSUM = auto(), \"dosum\"\n",
    "    TO = auto(), \"to\"\n",
    "    RIGHTARROW = auto(), \"rightarrow\"\n",
    "    LEFTARROW = auto(), \"leftarrow\"\n",
    "    PROD = auto(), \"prod\"\n",
    "    DOPROD = auto(), \"A command key word to perform the product: 'doprod'\"\n",
    "    EQUIVALENT = auto(), \"equiv\"\n",
    "    PDERIVATIVE = auto(), \"pdv\"\n",
    "    DERIVATIVE = auto(), \"dv\"\n",
    "    INTEGRATE = auto(), \"int\"\n",
    "    PARTIAL = auto(), \"partial\"\n",
    "    SQRT = auto(), \"sqrt\"\n",
    "\n",
    "    ##########################################\n",
    "    ############   Greek Symbols  ############ \n",
    "    ##########################################\n",
    "    alpha = auto(), \"Greek symbol for alpha, lower case.\"\n",
    "    Alpha = auto(), \"Greek symbol for Alpha, upper case.\"\n",
    "    beta = auto(), \"Greek symbol for beta, lower case.\"\n",
    "    Beta = auto(), \"Greek symbol for Beta, upper case.\"\n",
    "    gamma = auto(), \"Greek symbol for gamma, lower case.\"\n",
    "    Gamma = auto(), \"Greek symbol for Gamma, upper case.\"\n",
    "    delta = auto(), \"Greek symbol for delta, lower case.\"\n",
    "    Delta = auto(), \"Greek symbol for Delta, upper case.\"\n",
    "    epsilon = auto(), \"Greek symbol for epsilon, lower case.\"\n",
    "    Epsilon = auto(), \"Greek symbol for Epsilon, upper case.\"\n",
    "    zeta = auto(), \"Greek symbol for zeta, lower case.\"\n",
    "    Zeta = auto(), \"Greek symbol for Zeta, upper case.\"\n",
    "    eta = auto(), \"Greek symbol for eta, lower case.\"\n",
    "    Eta = auto(), \"Greek symbol for Eta, upper case.\"\n",
    "    theta = auto(), \"Greek symbol for theta, lower case.\"\n",
    "    Theta = auto(), \"Greek symbol for Theta, upper case.\"\n",
    "    iota = auto(), \"Greek symbol for iota, lower case.\"\n",
    "    Iota = auto(), \"Greek symbol for Iota, upper case.\"\n",
    "    kappa = auto(), \"Greek symbol for kappa, lower case.\"\n",
    "    Kappa = auto(), \"Greek symbol for Kappa, upper case.\"\n",
    "    lambda_ = auto(), \"Greek symbol for lambda, lower case. Node: lambda is a reserved python keyword so we add underscore.\"\n",
    "    Lambda = auto(), \"Greek symbol for Lambda, upper case.\"\n",
    "    mu = auto(), \"Greek symbol for mu, lower case.\"\n",
    "    Mu = auto(), \"Greek symbol for Mu, upper case.\"\n",
    "    nu = auto(), \"Greek symbol for nu, lower case.\"\n",
    "    Nu = auto(), \"Greek symbol for Nu, upper case.\"\n",
    "    xi = auto(), \"Greek symbol for xi, lower case.\"\n",
    "    Xi = auto(), \"Greek symbol for Xi, upper case.\"\n",
    "    omicron = auto(), \"Greek symbol for omicron, lower case.\"\n",
    "    Omicron = auto(), \"Greek symbol for Omicron, upper case.\"\n",
    "    pi = auto(), \"Greek symbol for pi, lower case.\"\n",
    "    Pi = auto(), \"Greek symbol for Pi, upper case.\"\n",
    "    rho = auto(), \"Greek symbol for rho, lower case.\"\n",
    "    Rho = auto(), \"Greek symbol for Rho, upper case.\"\n",
    "    sigma = auto(), \"Greek symbol for sigma, lower case.\"\n",
    "    Sigma = auto(), \"Greek symbol for Sigma, upper case.\"\n",
    "    tau = auto(), \"Greek symbol for tau, lower case.\"\n",
    "    Tau = auto(), \"Greek symbol for Tau, upper case.\"\n",
    "    upsilon = auto(), \"Greek symbol for upsilon, lower case.\"\n",
    "    Upsilon = auto(), \"Greek symbol for Upsilon, upper case.\"\n",
    "    phi = auto(), \"Greek symbol for phi, lower case.\"\n",
    "    Phi = auto(), \"Greek symbol for Phi, upper case.\"\n",
    "    chi = auto(), \"Greek symbol for chi, lower case.\"\n",
    "    Chi = auto(), \"Greek symbol for Chi, upper case.\"\n",
    "    psi = auto(), \"Greek symbol for psi, lower case.\"\n",
    "    Psi = auto(), \"Greek symbol for Psi, upper case.\"\n",
    "    omega = auto(), \"Greek symbol for omega, lower case.\"\n",
    "    Omega = auto(), \"Greek symbol for Omega, upper case.\"\n",
    "\n",
    "\n",
    "@dataclass\n",
    "class Token:\n",
    "    type: TokenType = None\n",
    "    value: List[int] = None\n",
    "    position: int = None\n",
    "\n",
    "\n",
    "@dataclass\n",
    "class LexerResult:\n",
    "    code: SourceCode\n",
    "    tokens: List[Token]\n",
    "\n",
    "\n",
    "class Lexer:\n",
    "    \n",
    "    @staticmethod\n",
    "    def new_iterator(source_code: SourceCode) -> Iterator[int]:\n",
    "        return Iterator(source_code.as_byte_list)\n",
    "\n",
    "    @classmethod\n",
    "    def tokenize_file(cls, path: str):\n",
    "        lexer = cls()\n",
    "        source_code = SourceCode.from_file(path)\n",
    "        return lexer.tokenize(source_code)\n",
    "\n",
    "    def tokenize(self, source_code: SourceCode) -> LexerResult:\n",
    "        self.char_iter = self.new_iterator(source_code)\n",
    "        self.tokens = []\n",
    "        \n",
    "        while self.char_iter.current() is not None:\n",
    "            \n",
    "            if self.char_iter.current() in CharSet.WHITESPACE:\n",
    "                self.char_iter.advance()\n",
    "\n",
    "            elif self.char_iter.current() in CharSet.COMMENT:\n",
    "                self._skip_comment()\n",
    "\n",
    "            elif self.char_iter.current() in CharSet.DELIMITERS:\n",
    "                self.char_iter.advance()\n",
    "                token = Token(\n",
    "                    TokenType.NEWLINE,\n",
    "                    self.char_iter.current(),\n",
    "                    self.char_iter.current_item_location,\n",
    "                )\n",
    "                self.tokens.append(token)\n",
    "\n",
    "            elif self.char_iter.current() == CharSet.BACKSLASH:\n",
    "                self._build_latex()\n",
    "\n",
    "            elif self.char_iter.current() in CharSet.LOWERCASE | CharSet.UPPERCASE:\n",
    "                self._identifiers()\n",
    "\n",
    "            elif self.char_iter.current() in CharSet.DIGITS:\n",
    "                self._build_number()\n",
    "\n",
    "            elif self.char_iter.current() in CharSet.OPERATORS:\n",
    "                self._operation()\n",
    "\n",
    "            else:\n",
    "                raise Exception(f\"Illegal Character '{self.char_iter.current()}'\")\n",
    "\n",
    "        return LexerResult(self.source_code, self.tokens)\n",
    "\n",
    "    def _build_number(self):\n",
    "        number = []\n",
    "        while self.char_iter.current() is not None and (self.char_iter.current() in CharSet.NUMERIC_CHARACTERS):\n",
    "            number.append(self.char_iter.current())\n",
    "            self.char_iter.advance()\n",
    "        count = number.count(\".\")\n",
    "        if count == 0:\n",
    "            token = Token(\n",
    "                TokenType.INT,\n",
    "                number,\n",
    "                self.char_iter.current_item_location\n",
    "            )\n",
    "            self.tokens.append(token)\n",
    "        elif count == 1:\n",
    "            token = Token(\n",
    "                TokenType.FLOAT,\n",
    "                number,\n",
    "                self.char_iter.current_item_location\n",
    "            )\n",
    "            self.tokens.append(token)\n",
    "        else:\n",
    "            raise Exception(f\"Illegal Character '{number}'\")\n",
    "\n",
    "    def _operation(self):\n",
    "        operations = []\n",
    "        doubles_dic = TokenType.DOUBLES()\n",
    "        triples_dic = TokenType.TRIPPLES()\n",
    "        while self.char_iter.current() is not None and self.char_iter.current() in TokenType.SINGLES():\n",
    "            operations.append(self.char_iter.current())\n",
    "            self.char_iter.advance()\n",
    "        \n",
    "        \n",
    "        if len(operations) == 0:\n",
    "            raise Exception(\"No operation found.\")\n",
    "        \n",
    "        if len(operations) > 3:\n",
    "            raise Exception(\"Too many operations.\")\n",
    "        \n",
    "        if len(operations) == 1:\n",
    "            op = operations[0]\n",
    "            tok_type = SINGLE.get(op)\n",
    "            token = Token(\n",
    "                tok_type,\n",
    "                [op],\n",
    "                self.char_iter.current_item_location\n",
    "            )\n",
    "            self.tokens.append(token)\n",
    "            return\n",
    "        \n",
    "        i = 0\n",
    "        while i < len(ops):\n",
    "            if (\n",
    "                    i + 2 < len(ops)\n",
    "                    and ops[i] in triples_dic\n",
    "                    and self.token_provider.tripple_match_exists(ops[i], ops[i + 1], ops[i + 2])\n",
    "            ):\n",
    "                self.token_provider.new_tripple_operation_token(\n",
    "                    ops[i],\n",
    "                    ops[i + 1],\n",
    "                    ops[i + 2],\n",
    "                    end_pos=self.current_pos(),\n",
    "                )\n",
    "                i += 3\n",
    "            elif (\n",
    "                    i + 1 < len(ops)\n",
    "                    and ops[i] in doubles_dic\n",
    "                    and self.token_provider.double_match_exists(ops[i], ops[i + 1])\n",
    "            ):\n",
    "                self.token_provider.new_double_operation_token(\n",
    "                    ops[i], ops[i + 1], end_pos=self.current_pos()\n",
    "                )\n",
    "                i += 2\n",
    "            else:\n",
    "                self.token_provider.new_single_operation_token(\n",
    "                    ops[i], end_pos=self.current_pos()\n",
    "                )\n",
    "                i += 1\n",
    "\n",
    "    # Here we are building: function - object - tensor\n",
    "    def _identifiers(self):\n",
    "        obj = \"\"\n",
    "        while self.char_iter.current() is not None and self.char_iter.current() in Characters.IDS.value:\n",
    "            obj += self.char_iter.current()\n",
    "\n",
    "            if self.peek_char(1, None) == \"_\" and self.peek_char(2, None) in Characters.IDS.value:\n",
    "                self.char_iter.advance()\n",
    "                obj += self.char_iter.current()\n",
    "\n",
    "            self.char_iter.advance()\n",
    "\n",
    "        if obj in TokenType.Keywords():\n",
    "            self.token_provider.new_token(TokenType.Keywords()[obj], obj, end_pos=self.current_pos())\n",
    "        else:\n",
    "            self.token_provider.new_token(TokenType.ID, obj, end_pos=self.current_pos())\n",
    "\n",
    "    def _build_latex(self):\n",
    "        obj = \"\"\n",
    "        self.char_iter.advance()\n",
    "\n",
    "        while self.char_iter.current() is not None and self.char_iter.current() in Characters.LETTERS.value:\n",
    "            obj += self.char_iter.current()\n",
    "            self.char_iter.advance()\n",
    "\n",
    "        if self.char_iter.current() == TokenType.BACKSLASH.value:\n",
    "            self.token_provider.new_token(\n",
    "                TokenType.DOUBLEBACKSLASH,\n",
    "                obj,\n",
    "                end_pos=self.current_pos(),\n",
    "            )\n",
    "            self.char_iter.advance()\n",
    "        elif obj not in TokenType.LaTeX():\n",
    "            raise ValueError(\"TOKENIZER LEVEL ERROR: The latex keyword entered is not supported.\")\n",
    "\n",
    "        if obj in TokenType.LaTeX():\n",
    "            self.token_provider.new_token(\n",
    "                TokenType.LaTeX()[obj],\n",
    "                obj,\n",
    "                end_pos=self.current_pos(),\n",
    "            )\n",
    "\n",
    "    def _skip_comment(self):\n",
    "        self.char_iter.advance()\n",
    "\n",
    "        while self.char_iter.current() != \"\\n\":\n",
    "            self.char_iter.advance()\n",
    "\n",
    "        self.char_iter.advance()\n"
   ],
   "id": "fb2972682a4d4476",
   "outputs": [
    {
     "ename": "NameError",
     "evalue": "name 'SourceCode' is not defined",
     "output_type": "error",
     "traceback": [
      "\u001B[0;31m---------------------------------------------------------------------------\u001B[0m",
      "\u001B[0;31mNameError\u001B[0m                                 Traceback (most recent call last)",
      "Cell \u001B[0;32mIn[5], line 341\u001B[0m\n\u001B[1;32m    337\u001B[0m     code: \u001B[38;5;28mstr\u001B[39m\n\u001B[1;32m    338\u001B[0m     tokens: List[Token]\n\u001B[0;32m--> 341\u001B[0m \u001B[38;5;28;43;01mclass\u001B[39;49;00m\u001B[43m \u001B[49m\u001B[38;5;21;43;01mLexer\u001B[39;49;00m\u001B[43m:\u001B[49m\n\u001B[1;32m    343\u001B[0m \u001B[43m    \u001B[49m\u001B[38;5;28;43;01mdef\u001B[39;49;00m\u001B[43m \u001B[49m\u001B[38;5;21;43m__init__\u001B[39;49m\u001B[43m(\u001B[49m\u001B[38;5;28;43mself\u001B[39;49m\u001B[43m,\u001B[49m\u001B[43m \u001B[49m\u001B[43msource_code\u001B[49m\u001B[43m:\u001B[49m\u001B[43m \u001B[49m\u001B[43mSourceCode\u001B[49m\u001B[43m)\u001B[49m\u001B[43m:\u001B[49m\n\u001B[1;32m    344\u001B[0m \u001B[43m        \u001B[49m\u001B[38;5;28;43mself\u001B[39;49m\u001B[38;5;241;43m.\u001B[39;49m\u001B[43msource_code\u001B[49m\u001B[43m \u001B[49m\u001B[38;5;241;43m=\u001B[39;49m\u001B[43m \u001B[49m\u001B[43msource_code\u001B[49m\n",
      "Cell \u001B[0;32mIn[5], line 343\u001B[0m, in \u001B[0;36mLexer\u001B[0;34m()\u001B[0m\n\u001B[1;32m    341\u001B[0m \u001B[38;5;28;01mclass\u001B[39;00m \u001B[38;5;21;01mLexer\u001B[39;00m:\n\u001B[0;32m--> 343\u001B[0m     \u001B[38;5;28;01mdef\u001B[39;00m \u001B[38;5;21m__init__\u001B[39m(\u001B[38;5;28mself\u001B[39m, source_code: \u001B[43mSourceCode\u001B[49m):\n\u001B[1;32m    344\u001B[0m         \u001B[38;5;28mself\u001B[39m\u001B[38;5;241m.\u001B[39msource_code \u001B[38;5;241m=\u001B[39m source_code\n\u001B[1;32m    345\u001B[0m         \u001B[38;5;28mself\u001B[39m\u001B[38;5;241m.\u001B[39mchar_iter \u001B[38;5;241m=\u001B[39m \u001B[38;5;28mself\u001B[39m\u001B[38;5;241m.\u001B[39mnew_iterator()\n",
      "\u001B[0;31mNameError\u001B[0m: name 'SourceCode' is not defined"
     ]
    }
   ],
   "execution_count": 5
  },
  {
   "metadata": {
    "ExecuteTime": {
     "end_time": "2024-12-12T11:40:31.269717Z",
     "start_time": "2024-12-12T11:40:31.266837Z"
    }
   },
   "cell_type": "code",
   "source": "10 in CharSet.DELIMITERS",
   "id": "868cd7a6ab14323e",
   "outputs": [
    {
     "data": {
      "text/plain": [
       "True"
      ]
     },
     "execution_count": 627,
     "metadata": {},
     "output_type": "execute_result"
    }
   ],
   "execution_count": 627
  },
  {
   "metadata": {
    "ExecuteTime": {
     "end_time": "2024-12-12T09:31:40.223758Z",
     "start_time": "2024-12-12T09:31:40.218986Z"
    }
   },
   "cell_type": "code",
   "source": "iterator.original",
   "id": "f5a751eaa4c175d8",
   "outputs": [
    {
     "data": {
      "text/plain": [
       "'hello'"
      ]
     },
     "execution_count": 607,
     "metadata": {},
     "output_type": "execute_result"
    }
   ],
   "execution_count": 607
  },
  {
   "metadata": {
    "ExecuteTime": {
     "end_time": "2024-12-16T15:57:37.783926Z",
     "start_time": "2024-12-16T15:57:37.779514Z"
    }
   },
   "cell_type": "code",
   "source": "{1} | {2}",
   "id": "875e62534864ec6f",
   "outputs": [
    {
     "data": {
      "text/plain": [
       "{1, 2}"
      ]
     },
     "execution_count": 7,
     "metadata": {},
     "output_type": "execute_result"
    }
   ],
   "execution_count": 7
  },
  {
   "metadata": {
    "ExecuteTime": {
     "end_time": "2024-12-13T14:22:51.042553Z",
     "start_time": "2024-12-13T14:22:51.037737Z"
    }
   },
   "cell_type": "code",
   "source": "chr(8734)",
   "id": "b9b567b3ab43f88d",
   "outputs": [
    {
     "data": {
      "text/plain": [
       "'∞'"
      ]
     },
     "execution_count": 3,
     "metadata": {},
     "output_type": "execute_result"
    }
   ],
   "execution_count": 3
  },
  {
   "metadata": {
    "ExecuteTime": {
     "end_time": "2025-01-26T17:33:35.625024Z",
     "start_time": "2025-01-26T17:33:35.620776Z"
    }
   },
   "cell_type": "code",
   "source": [
    "def binary_search(arr, x):\n",
    "    low = 0\n",
    "    high = len(arr) - 1\n",
    "    mid = 0\n",
    "\n",
    "    while low <= high:\n",
    "\n",
    "        mid = (high + low) // 2\n",
    "\n",
    "        if arr[mid] < x:\n",
    "            low = mid + 1\n",
    "\n",
    "        elif arr[mid] > x:\n",
    "            high = mid - 1\n",
    "\n",
    "        else:\n",
    "            return mid\n",
    "\n",
    "    return -1\n",
    "\n"
   ],
   "id": "c3f58e0930c1fe27",
   "outputs": [],
   "execution_count": 20
  },
  {
   "metadata": {
    "ExecuteTime": {
     "end_time": "2025-01-26T17:33:46.436551Z",
     "start_time": "2025-01-26T17:33:46.434072Z"
    }
   },
   "cell_type": "code",
   "source": [
    "arr = [2, 3, 4, 10, 40]\n",
    "x = 10\n",
    "\n",
    "result = binary_search(arr, x)"
   ],
   "id": "dcb4548a4f6fa93c",
   "outputs": [],
   "execution_count": 21
  },
  {
   "metadata": {
    "ExecuteTime": {
     "end_time": "2025-01-26T17:33:50.078601Z",
     "start_time": "2025-01-26T17:33:50.073552Z"
    }
   },
   "cell_type": "code",
   "source": "result",
   "id": "ee430bd1b001de69",
   "outputs": [
    {
     "data": {
      "text/plain": [
       "3"
      ]
     },
     "execution_count": 22,
     "metadata": {},
     "output_type": "execute_result"
    }
   ],
   "execution_count": 22
  },
  {
   "metadata": {},
   "cell_type": "code",
   "outputs": [],
   "execution_count": null,
   "source": "",
   "id": "70845f87a279f85a"
  }
 ],
 "metadata": {
  "kernelspec": {
   "display_name": "Python 3",
   "language": "python",
   "name": "python3"
  },
  "language_info": {
   "codemirror_mode": {
    "name": "ipython",
    "version": 2
   },
   "file_extension": ".py",
   "mimetype": "text/x-python",
   "name": "python",
   "nbconvert_exporter": "python",
   "pygments_lexer": "ipython2",
   "version": "2.7.6"
  }
 },
 "nbformat": 4,
 "nbformat_minor": 5
}
