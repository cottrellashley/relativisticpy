{
 "cells": [
  {
   "cell_type": "code",
   "metadata": {
    "ExecuteTime": {
     "end_time": "2024-12-13T13:45:58.256687Z",
     "start_time": "2024-12-13T13:45:57.731865Z"
    }
   },
   "source": [
    "from set_path import set_root_path\n",
    "set_root_path()\n",
    "from relativisticpy.workbook.workbook import Workbook\n",
    "wb = Workbook(debug_mode=True)"
   ],
   "outputs": [
    {
     "name": "stdout",
     "output_type": "stream",
     "text": [
      "Working directory: /Users/ashleycottrell/code/repositories/relativisticpy\n"
     ]
    }
   ],
   "execution_count": 1
  },
  {
   "cell_type": "code",
   "metadata": {
    "ExecuteTime": {
     "end_time": "2024-12-14T18:49:22.638030Z",
     "start_time": "2024-12-14T18:49:20.696854Z"
    }
   },
   "source": [
    "# TODO: When we have a UI, we automatically generate the greek and latin symbols when the user types in the name of the coordinate system  i.e. alpha, beta, gamma, delta, mu, nu, rho, sigma -> α, β, γ, δ, μ, ν, ρ, σ\n",
    "wb.reset()\n",
    "res = wb.exe(\n",
    "\"\"\"\n",
    "Coordinates := [t, r, theta, phi]\n",
    "\n",
    "g_{mu}_{nu} := [\n",
    "                    [-(1 - (2 * G * M) / (c**2*r)), 0, 0, 0],\n",
    "                    [0, 1 / (1 - (2 * G * M) / (c**2*r)), 0, 0],\n",
    "                    [0, 0, r**2, 0],\n",
    "                    [0, 0, 0, r**2 * sin(theta) ** 2]\n",
    "                ]\n",
    "\n",
    "Gamma^{a}_{c f} := (1 / 2) * g^{a b}*(d_{c}*g_{b f} + d_{f}*g_{b c} - d_{b}*g_{c f})\n",
    "\n",
    "Riemann^{a}_{m b n} := d_{b}*Gamma^{a}_{n m} + Gamma^{a}_{b l}*Gamma^{l}_{n m} - d_{n}*Gamma^{a}_{b m} - Gamma^{a}_{n l}*Gamma^{l}_{b m}\n",
    "\n",
    "Ricci_{m}_{n} := Riemann^{a}_{m}_{a}_{n}\n",
    "\n",
    "TempOne^{a}^{f}^{h}^{s} := g^{s}^{q}*(g^{h}^{c}*(g^{f}^{b} * Riemann^{a}_{b}_{c}_{q}))\n",
    "\n",
    "TempTwo_{a}_{f}_{h}_{s} := g_{a}_{n}*Riemann^{n}_{f}_{h}_{s}\n",
    "\n",
    "S := TempOne^{a}^{f}^{h}^{s}*TempTwo_{a}_{f}_{h}_{s}\n",
    "\n",
    "simplify(S)\n",
    "\n",
    "TempTwo_{a:0}_{f:0}_{h:0}_{s:0}\n",
    "\"\"\"\n",
    ")\n"
   ],
   "outputs": [
    {
     "name": "stderr",
     "output_type": "stream",
     "text": [
      "\u001B[32m2024-12-14 18:49:20.709\u001B[0m | \u001B[34m\u001B[1mDEBUG   \u001B[0m | \u001B[36mrelativisticpy.workbook.ast_visitor\u001B[0m:\u001B[36mint\u001B[0m:\u001B[36m122\u001B[0m - \u001B[34m\u001B[1mCasting to Integer: 1 at position TokenPosition(start_pos=Position(line=5, character=23), end_pos=Position(line=5, character=24))\u001B[0m\n",
      "\u001B[32m2024-12-14 18:49:20.710\u001B[0m | \u001B[34m\u001B[1mDEBUG   \u001B[0m | \u001B[36mrelativisticpy.workbook.ast_visitor\u001B[0m:\u001B[36mint\u001B[0m:\u001B[36m122\u001B[0m - \u001B[34m\u001B[1mCasting to Integer: 2 at position TokenPosition(start_pos=Position(line=5, character=28), end_pos=Position(line=5, character=29))\u001B[0m\n",
      "\u001B[32m2024-12-14 18:49:20.710\u001B[0m | \u001B[34m\u001B[1mDEBUG   \u001B[0m | \u001B[36mrelativisticpy.workbook.ast_visitor\u001B[0m:\u001B[36mmul\u001B[0m:\u001B[36m110\u001B[0m - \u001B[34m\u001B[1mMultiplying 2 * G at position TokenPosition(start_pos=Position(line=5, character=28), end_pos=Position(line=5, character=29))\u001B[0m\n",
      "\u001B[32m2024-12-14 18:49:20.711\u001B[0m | \u001B[34m\u001B[1mDEBUG   \u001B[0m | \u001B[36mrelativisticpy.workbook.ast_visitor\u001B[0m:\u001B[36mmul\u001B[0m:\u001B[36m110\u001B[0m - \u001B[34m\u001B[1mMultiplying 2*G * M at position TokenPosition(start_pos=Position(line=5, character=28), end_pos=Position(line=5, character=29))\u001B[0m\n",
      "\u001B[32m2024-12-14 18:49:20.711\u001B[0m | \u001B[34m\u001B[1mDEBUG   \u001B[0m | \u001B[36mrelativisticpy.workbook.ast_visitor\u001B[0m:\u001B[36mint\u001B[0m:\u001B[36m122\u001B[0m - \u001B[34m\u001B[1mCasting to Integer: 2 at position TokenPosition(start_pos=Position(line=5, character=45), end_pos=Position(line=5, character=46))\u001B[0m\n",
      "\u001B[32m2024-12-14 18:49:20.712\u001B[0m | \u001B[34m\u001B[1mDEBUG   \u001B[0m | \u001B[36mrelativisticpy.workbook.ast_visitor\u001B[0m:\u001B[36mpow\u001B[0m:\u001B[36m118\u001B[0m - \u001B[34m\u001B[1mPowering c ** 2 at position TokenPosition(start_pos=Position(line=5, character=42), end_pos=Position(line=5, character=43))\u001B[0m\n",
      "\u001B[32m2024-12-14 18:49:20.712\u001B[0m | \u001B[34m\u001B[1mDEBUG   \u001B[0m | \u001B[36mrelativisticpy.workbook.ast_visitor\u001B[0m:\u001B[36mmul\u001B[0m:\u001B[36m110\u001B[0m - \u001B[34m\u001B[1mMultiplying c**2 * r at position TokenPosition(start_pos=Position(line=5, character=42), end_pos=Position(line=5, character=43))\u001B[0m\n",
      "\u001B[32m2024-12-14 18:49:20.713\u001B[0m | \u001B[34m\u001B[1mDEBUG   \u001B[0m | \u001B[36mrelativisticpy.workbook.ast_visitor\u001B[0m:\u001B[36mdiv\u001B[0m:\u001B[36m114\u001B[0m - \u001B[34m\u001B[1mDividing 2*G*M / c**2*r at position TokenPosition(start_pos=Position(line=5, character=27), end_pos=Position(line=5, character=28))\u001B[0m\n",
      "\u001B[32m2024-12-14 18:49:20.714\u001B[0m | \u001B[34m\u001B[1mDEBUG   \u001B[0m | \u001B[36mrelativisticpy.workbook.ast_visitor\u001B[0m:\u001B[36msub\u001B[0m:\u001B[36m94\u001B[0m - \u001B[34m\u001B[1mSubtracting 1 - 2*G*M/(c**2*r) at position TokenPosition(start_pos=Position(line=5, character=23), end_pos=Position(line=5, character=24))\u001B[0m\n",
      "\u001B[32m2024-12-14 18:49:20.714\u001B[0m | \u001B[34m\u001B[1mDEBUG   \u001B[0m | \u001B[36mrelativisticpy.workbook.ast_visitor\u001B[0m:\u001B[36mneg\u001B[0m:\u001B[36m102\u001B[0m - \u001B[34m\u001B[1mNegating -2*G*M/(c**2*r) + 1 at position TokenPosition(start_pos=Position(line=5, character=22), end_pos=Position(line=5, character=23))\u001B[0m\n",
      "\u001B[32m2024-12-14 18:49:20.715\u001B[0m | \u001B[34m\u001B[1mDEBUG   \u001B[0m | \u001B[36mrelativisticpy.workbook.ast_visitor\u001B[0m:\u001B[36mint\u001B[0m:\u001B[36m122\u001B[0m - \u001B[34m\u001B[1mCasting to Integer: 0 at position TokenPosition(start_pos=Position(line=5, character=52), end_pos=Position(line=5, character=53))\u001B[0m\n",
      "\u001B[32m2024-12-14 18:49:20.715\u001B[0m | \u001B[34m\u001B[1mDEBUG   \u001B[0m | \u001B[36mrelativisticpy.workbook.ast_visitor\u001B[0m:\u001B[36mint\u001B[0m:\u001B[36m122\u001B[0m - \u001B[34m\u001B[1mCasting to Integer: 0 at position TokenPosition(start_pos=Position(line=5, character=55), end_pos=Position(line=5, character=56))\u001B[0m\n",
      "\u001B[32m2024-12-14 18:49:20.715\u001B[0m | \u001B[34m\u001B[1mDEBUG   \u001B[0m | \u001B[36mrelativisticpy.workbook.ast_visitor\u001B[0m:\u001B[36mint\u001B[0m:\u001B[36m122\u001B[0m - \u001B[34m\u001B[1mCasting to Integer: 0 at position TokenPosition(start_pos=Position(line=5, character=58), end_pos=Position(line=5, character=59))\u001B[0m\n",
      "\u001B[32m2024-12-14 18:49:20.715\u001B[0m | \u001B[34m\u001B[1mDEBUG   \u001B[0m | \u001B[36mrelativisticpy.workbook.ast_visitor\u001B[0m:\u001B[36mint\u001B[0m:\u001B[36m122\u001B[0m - \u001B[34m\u001B[1mCasting to Integer: 0 at position TokenPosition(start_pos=Position(line=6, character=21), end_pos=Position(line=6, character=22))\u001B[0m\n",
      "\u001B[32m2024-12-14 18:49:20.716\u001B[0m | \u001B[34m\u001B[1mDEBUG   \u001B[0m | \u001B[36mrelativisticpy.workbook.ast_visitor\u001B[0m:\u001B[36mint\u001B[0m:\u001B[36m122\u001B[0m - \u001B[34m\u001B[1mCasting to Integer: 1 at position TokenPosition(start_pos=Position(line=6, character=24), end_pos=Position(line=6, character=25))\u001B[0m\n",
      "\u001B[32m2024-12-14 18:49:20.716\u001B[0m | \u001B[34m\u001B[1mDEBUG   \u001B[0m | \u001B[36mrelativisticpy.workbook.ast_visitor\u001B[0m:\u001B[36mint\u001B[0m:\u001B[36m122\u001B[0m - \u001B[34m\u001B[1mCasting to Integer: 1 at position TokenPosition(start_pos=Position(line=6, character=29), end_pos=Position(line=6, character=30))\u001B[0m\n",
      "\u001B[32m2024-12-14 18:49:20.716\u001B[0m | \u001B[34m\u001B[1mDEBUG   \u001B[0m | \u001B[36mrelativisticpy.workbook.ast_visitor\u001B[0m:\u001B[36mint\u001B[0m:\u001B[36m122\u001B[0m - \u001B[34m\u001B[1mCasting to Integer: 2 at position TokenPosition(start_pos=Position(line=6, character=34), end_pos=Position(line=6, character=35))\u001B[0m\n",
      "\u001B[32m2024-12-14 18:49:20.717\u001B[0m | \u001B[34m\u001B[1mDEBUG   \u001B[0m | \u001B[36mrelativisticpy.workbook.ast_visitor\u001B[0m:\u001B[36mmul\u001B[0m:\u001B[36m110\u001B[0m - \u001B[34m\u001B[1mMultiplying 2 * G at position TokenPosition(start_pos=Position(line=6, character=34), end_pos=Position(line=6, character=35))\u001B[0m\n",
      "\u001B[32m2024-12-14 18:49:20.717\u001B[0m | \u001B[34m\u001B[1mDEBUG   \u001B[0m | \u001B[36mrelativisticpy.workbook.ast_visitor\u001B[0m:\u001B[36mmul\u001B[0m:\u001B[36m110\u001B[0m - \u001B[34m\u001B[1mMultiplying 2*G * M at position TokenPosition(start_pos=Position(line=6, character=34), end_pos=Position(line=6, character=35))\u001B[0m\n",
      "\u001B[32m2024-12-14 18:49:20.717\u001B[0m | \u001B[34m\u001B[1mDEBUG   \u001B[0m | \u001B[36mrelativisticpy.workbook.ast_visitor\u001B[0m:\u001B[36mint\u001B[0m:\u001B[36m122\u001B[0m - \u001B[34m\u001B[1mCasting to Integer: 2 at position TokenPosition(start_pos=Position(line=6, character=51), end_pos=Position(line=6, character=52))\u001B[0m\n",
      "\u001B[32m2024-12-14 18:49:20.717\u001B[0m | \u001B[34m\u001B[1mDEBUG   \u001B[0m | \u001B[36mrelativisticpy.workbook.ast_visitor\u001B[0m:\u001B[36mpow\u001B[0m:\u001B[36m118\u001B[0m - \u001B[34m\u001B[1mPowering c ** 2 at position TokenPosition(start_pos=Position(line=6, character=48), end_pos=Position(line=6, character=49))\u001B[0m\n",
      "\u001B[32m2024-12-14 18:49:20.718\u001B[0m | \u001B[34m\u001B[1mDEBUG   \u001B[0m | \u001B[36mrelativisticpy.workbook.ast_visitor\u001B[0m:\u001B[36mmul\u001B[0m:\u001B[36m110\u001B[0m - \u001B[34m\u001B[1mMultiplying c**2 * r at position TokenPosition(start_pos=Position(line=6, character=48), end_pos=Position(line=6, character=49))\u001B[0m\n",
      "\u001B[32m2024-12-14 18:49:20.718\u001B[0m | \u001B[34m\u001B[1mDEBUG   \u001B[0m | \u001B[36mrelativisticpy.workbook.ast_visitor\u001B[0m:\u001B[36mdiv\u001B[0m:\u001B[36m114\u001B[0m - \u001B[34m\u001B[1mDividing 2*G*M / c**2*r at position TokenPosition(start_pos=Position(line=6, character=33), end_pos=Position(line=6, character=34))\u001B[0m\n",
      "\u001B[32m2024-12-14 18:49:20.718\u001B[0m | \u001B[34m\u001B[1mDEBUG   \u001B[0m | \u001B[36mrelativisticpy.workbook.ast_visitor\u001B[0m:\u001B[36msub\u001B[0m:\u001B[36m94\u001B[0m - \u001B[34m\u001B[1mSubtracting 1 - 2*G*M/(c**2*r) at position TokenPosition(start_pos=Position(line=6, character=29), end_pos=Position(line=6, character=30))\u001B[0m\n",
      "\u001B[32m2024-12-14 18:49:20.719\u001B[0m | \u001B[34m\u001B[1mDEBUG   \u001B[0m | \u001B[36mrelativisticpy.workbook.ast_visitor\u001B[0m:\u001B[36mdiv\u001B[0m:\u001B[36m114\u001B[0m - \u001B[34m\u001B[1mDividing 1 / -2*G*M/(c**2*r) + 1 at position TokenPosition(start_pos=Position(line=6, character=24), end_pos=Position(line=6, character=25))\u001B[0m\n",
      "\u001B[32m2024-12-14 18:49:20.719\u001B[0m | \u001B[34m\u001B[1mDEBUG   \u001B[0m | \u001B[36mrelativisticpy.workbook.ast_visitor\u001B[0m:\u001B[36mint\u001B[0m:\u001B[36m122\u001B[0m - \u001B[34m\u001B[1mCasting to Integer: 0 at position TokenPosition(start_pos=Position(line=6, character=58), end_pos=Position(line=6, character=59))\u001B[0m\n",
      "\u001B[32m2024-12-14 18:49:20.719\u001B[0m | \u001B[34m\u001B[1mDEBUG   \u001B[0m | \u001B[36mrelativisticpy.workbook.ast_visitor\u001B[0m:\u001B[36mint\u001B[0m:\u001B[36m122\u001B[0m - \u001B[34m\u001B[1mCasting to Integer: 0 at position TokenPosition(start_pos=Position(line=6, character=61), end_pos=Position(line=6, character=62))\u001B[0m\n",
      "\u001B[32m2024-12-14 18:49:20.720\u001B[0m | \u001B[34m\u001B[1mDEBUG   \u001B[0m | \u001B[36mrelativisticpy.workbook.ast_visitor\u001B[0m:\u001B[36mint\u001B[0m:\u001B[36m122\u001B[0m - \u001B[34m\u001B[1mCasting to Integer: 0 at position TokenPosition(start_pos=Position(line=7, character=21), end_pos=Position(line=7, character=22))\u001B[0m\n",
      "\u001B[32m2024-12-14 18:49:20.720\u001B[0m | \u001B[34m\u001B[1mDEBUG   \u001B[0m | \u001B[36mrelativisticpy.workbook.ast_visitor\u001B[0m:\u001B[36mint\u001B[0m:\u001B[36m122\u001B[0m - \u001B[34m\u001B[1mCasting to Integer: 0 at position TokenPosition(start_pos=Position(line=7, character=24), end_pos=Position(line=7, character=25))\u001B[0m\n",
      "\u001B[32m2024-12-14 18:49:20.720\u001B[0m | \u001B[34m\u001B[1mDEBUG   \u001B[0m | \u001B[36mrelativisticpy.workbook.ast_visitor\u001B[0m:\u001B[36mint\u001B[0m:\u001B[36m122\u001B[0m - \u001B[34m\u001B[1mCasting to Integer: 2 at position TokenPosition(start_pos=Position(line=7, character=30), end_pos=Position(line=7, character=31))\u001B[0m\n",
      "\u001B[32m2024-12-14 18:49:20.720\u001B[0m | \u001B[34m\u001B[1mDEBUG   \u001B[0m | \u001B[36mrelativisticpy.workbook.ast_visitor\u001B[0m:\u001B[36mpow\u001B[0m:\u001B[36m118\u001B[0m - \u001B[34m\u001B[1mPowering r ** 2 at position TokenPosition(start_pos=Position(line=7, character=27), end_pos=Position(line=7, character=28))\u001B[0m\n",
      "\u001B[32m2024-12-14 18:49:20.721\u001B[0m | \u001B[34m\u001B[1mDEBUG   \u001B[0m | \u001B[36mrelativisticpy.workbook.ast_visitor\u001B[0m:\u001B[36mint\u001B[0m:\u001B[36m122\u001B[0m - \u001B[34m\u001B[1mCasting to Integer: 0 at position TokenPosition(start_pos=Position(line=7, character=33), end_pos=Position(line=7, character=34))\u001B[0m\n",
      "\u001B[32m2024-12-14 18:49:20.721\u001B[0m | \u001B[34m\u001B[1mDEBUG   \u001B[0m | \u001B[36mrelativisticpy.workbook.ast_visitor\u001B[0m:\u001B[36mint\u001B[0m:\u001B[36m122\u001B[0m - \u001B[34m\u001B[1mCasting to Integer: 0 at position TokenPosition(start_pos=Position(line=8, character=21), end_pos=Position(line=8, character=22))\u001B[0m\n",
      "\u001B[32m2024-12-14 18:49:20.721\u001B[0m | \u001B[34m\u001B[1mDEBUG   \u001B[0m | \u001B[36mrelativisticpy.workbook.ast_visitor\u001B[0m:\u001B[36mint\u001B[0m:\u001B[36m122\u001B[0m - \u001B[34m\u001B[1mCasting to Integer: 0 at position TokenPosition(start_pos=Position(line=8, character=24), end_pos=Position(line=8, character=25))\u001B[0m\n",
      "\u001B[32m2024-12-14 18:49:20.721\u001B[0m | \u001B[34m\u001B[1mDEBUG   \u001B[0m | \u001B[36mrelativisticpy.workbook.ast_visitor\u001B[0m:\u001B[36mint\u001B[0m:\u001B[36m122\u001B[0m - \u001B[34m\u001B[1mCasting to Integer: 0 at position TokenPosition(start_pos=Position(line=8, character=27), end_pos=Position(line=8, character=28))\u001B[0m\n",
      "\u001B[32m2024-12-14 18:49:20.722\u001B[0m | \u001B[34m\u001B[1mDEBUG   \u001B[0m | \u001B[36mrelativisticpy.workbook.ast_visitor\u001B[0m:\u001B[36mint\u001B[0m:\u001B[36m122\u001B[0m - \u001B[34m\u001B[1mCasting to Integer: 2 at position TokenPosition(start_pos=Position(line=8, character=33), end_pos=Position(line=8, character=34))\u001B[0m\n",
      "\u001B[32m2024-12-14 18:49:20.722\u001B[0m | \u001B[34m\u001B[1mDEBUG   \u001B[0m | \u001B[36mrelativisticpy.workbook.ast_visitor\u001B[0m:\u001B[36mpow\u001B[0m:\u001B[36m118\u001B[0m - \u001B[34m\u001B[1mPowering r ** 2 at position TokenPosition(start_pos=Position(line=8, character=30), end_pos=Position(line=8, character=31))\u001B[0m\n",
      "\u001B[32m2024-12-14 18:49:20.722\u001B[0m | \u001B[34m\u001B[1mDEBUG   \u001B[0m | \u001B[36mrelativisticpy.workbook.ast_visitor\u001B[0m:\u001B[36mint\u001B[0m:\u001B[36m122\u001B[0m - \u001B[34m\u001B[1mCasting to Integer: 2 at position TokenPosition(start_pos=Position(line=8, character=51), end_pos=Position(line=8, character=52))\u001B[0m\n",
      "\u001B[32m2024-12-14 18:49:20.723\u001B[0m | \u001B[34m\u001B[1mDEBUG   \u001B[0m | \u001B[36mrelativisticpy.workbook.ast_visitor\u001B[0m:\u001B[36mpow\u001B[0m:\u001B[36m118\u001B[0m - \u001B[34m\u001B[1mPowering sin(theta) ** 2 at position TokenPosition(start_pos=Position(line=8, character=37), end_pos=Position(line=8, character=40))\u001B[0m\n",
      "\u001B[32m2024-12-14 18:49:20.723\u001B[0m | \u001B[34m\u001B[1mDEBUG   \u001B[0m | \u001B[36mrelativisticpy.workbook.ast_visitor\u001B[0m:\u001B[36mmul\u001B[0m:\u001B[36m110\u001B[0m - \u001B[34m\u001B[1mMultiplying r**2 * sin(theta)**2 at position TokenPosition(start_pos=Position(line=8, character=30), end_pos=Position(line=8, character=31))\u001B[0m\n",
      "\u001B[32m2024-12-14 18:49:20.724\u001B[0m | \u001B[34m\u001B[1mDEBUG   \u001B[0m | \u001B[36mrelativisticpy.state.scopes\u001B[0m:\u001B[36mset_tensor\u001B[0m:\u001B[36m184\u001B[0m - \u001B[34m\u001B[1mCaching new tensor 'g' with components '[[2*G*M/(c**2*r) - 1, 0, 0, 0], [0, 1/(-2*G*M/(c**2*r) + 1), 0, 0], [0, 0, r**2, 0], [0, 0, 0, r**2*sin(theta)**2]]'\u001B[0m\n",
      "\u001B[32m2024-12-14 18:49:20.724\u001B[0m | \u001B[34m\u001B[1mDEBUG   \u001B[0m | \u001B[36mrelativisticpy.workbook.ast_visitor\u001B[0m:\u001B[36mint\u001B[0m:\u001B[36m122\u001B[0m - \u001B[34m\u001B[1mCasting to Integer: 1 at position TokenPosition(start_pos=Position(line=11, character=20), end_pos=Position(line=11, character=21))\u001B[0m\n",
      "\u001B[32m2024-12-14 18:49:20.724\u001B[0m | \u001B[34m\u001B[1mDEBUG   \u001B[0m | \u001B[36mrelativisticpy.workbook.ast_visitor\u001B[0m:\u001B[36mint\u001B[0m:\u001B[36m122\u001B[0m - \u001B[34m\u001B[1mCasting to Integer: 2 at position TokenPosition(start_pos=Position(line=11, character=24), end_pos=Position(line=11, character=25))\u001B[0m\n",
      "\u001B[32m2024-12-14 18:49:20.725\u001B[0m | \u001B[34m\u001B[1mDEBUG   \u001B[0m | \u001B[36mrelativisticpy.workbook.ast_visitor\u001B[0m:\u001B[36mdiv\u001B[0m:\u001B[36m114\u001B[0m - \u001B[34m\u001B[1mDividing 1 / 2 at position TokenPosition(start_pos=Position(line=11, character=20), end_pos=Position(line=11, character=21))\u001B[0m\n",
      "\u001B[32m2024-12-14 18:49:20.725\u001B[0m | \u001B[34m\u001B[1mDEBUG   \u001B[0m | \u001B[36mrelativisticpy.state.scopes\u001B[0m:\u001B[36minit_tensor\u001B[0m:\u001B[36m263\u001B[0m - \u001B[34m\u001B[1mAttempting to initiating 'g^{a}^{b}' by equation from cached tensors.\u001B[0m\n",
      "\u001B[32m2024-12-14 18:49:20.725\u001B[0m | \u001B[34m\u001B[1mDEBUG   \u001B[0m | \u001B[36mrelativisticpy.state.scopes\u001B[0m:\u001B[36minit_tensor\u001B[0m:\u001B[36m266\u001B[0m - \u001B[34m\u001B[1mIdentified 'g^{a}^{b}' to be a Metric. Initializing Metric from Metric.\u001B[0m\n",
      "\u001B[32m2024-12-14 18:49:20.726\u001B[0m | \u001B[34m\u001B[1mDEBUG   \u001B[0m | \u001B[36mrelativisticpy.state.scopes\u001B[0m:\u001B[36mmetric_tensor\u001B[0m:\u001B[36m102\u001B[0m - \u001B[34m\u001B[1mFound 1 Metric Tensor Objects in scope.\u001B[0m\n",
      "\u001B[32m2024-12-14 18:49:20.726\u001B[0m | \u001B[34m\u001B[1mDEBUG   \u001B[0m | \u001B[36mrelativisticpy.state.scopes\u001B[0m:\u001B[36mmetric_tensor\u001B[0m:\u001B[36m103\u001B[0m - \u001B[34m\u001B[1mReturning <relativisticpy.diffgeom.metric.Metric object at 0x107f54550>.\u001B[0m\n",
      "\u001B[32m2024-12-14 18:49:20.727\u001B[0m | \u001B[34m\u001B[1mDEBUG   \u001B[0m | \u001B[36mrelativisticpy.state.scopes\u001B[0m:\u001B[36mmetric_tensor\u001B[0m:\u001B[36m206\u001B[0m - \u001B[34m\u001B[1mFound metric tensor in scope with components: '[[2*G*M/(c**2*r) - 1, 0, 0, 0], [0, 1/(-2*G*M/(c**2*r) + 1), 0, 0], [0, 0, r**2, 0], [0, 0, 0, r**2*sin(theta)**2]]'\u001B[0m\n",
      "\u001B[32m2024-12-14 18:49:20.727\u001B[0m | \u001B[34m\u001B[1mDEBUG   \u001B[0m | \u001B[36mrelativisticpy.state.scopes\u001B[0m:\u001B[36mmetric_tensor\u001B[0m:\u001B[36m102\u001B[0m - \u001B[34m\u001B[1mFound 1 Metric Tensor Objects in scope.\u001B[0m\n",
      "\u001B[32m2024-12-14 18:49:20.727\u001B[0m | \u001B[34m\u001B[1mDEBUG   \u001B[0m | \u001B[36mrelativisticpy.state.scopes\u001B[0m:\u001B[36mmetric_tensor\u001B[0m:\u001B[36m103\u001B[0m - \u001B[34m\u001B[1mReturning <relativisticpy.diffgeom.metric.Metric object at 0x107f54550>.\u001B[0m\n",
      "\u001B[32m2024-12-14 18:49:20.840\u001B[0m | \u001B[34m\u001B[1mDEBUG   \u001B[0m | \u001B[36mrelativisticpy.state.scopes\u001B[0m:\u001B[36minit_tensor\u001B[0m:\u001B[36m271\u001B[0m - \u001B[34m\u001B[1mComputed components of 'g^{a}^{b}' to be: '[[-c**2*r/(-2*G*M + c**2*r), 0, 0, 0], [0, (-2*G*M + c**2*r)/(c**2*r), 0, 0], [0, 0, r**(-2), 0], [0, 0, 0, 1/(r**2*sin(theta)**2)]]'\u001B[0m\n",
      "\u001B[32m2024-12-14 18:49:20.841\u001B[0m | \u001B[34m\u001B[1mDEBUG   \u001B[0m | \u001B[36mrelativisticpy.state.scopes\u001B[0m:\u001B[36mset_tensor\u001B[0m:\u001B[36m184\u001B[0m - \u001B[34m\u001B[1mCaching new tensor 'g' with components '[[-c**2*r/(-2*G*M + c**2*r), 0, 0, 0], [0, (-2*G*M + c**2*r)/(c**2*r), 0, 0], [0, 0, r**(-2), 0], [0, 0, 0, 1/(r**2*sin(theta)**2)]]'\u001B[0m\n",
      "\u001B[32m2024-12-14 18:49:20.841\u001B[0m | \u001B[34m\u001B[1mDEBUG   \u001B[0m | \u001B[36mrelativisticpy.workbook.ast_visitor\u001B[0m:\u001B[36mmul\u001B[0m:\u001B[36m110\u001B[0m - \u001B[34m\u001B[1mMultiplying 0.5 * <relativisticpy.diffgeom.metric.Metric object at 0x107f67790> at position TokenPosition(start_pos=Position(line=11, character=19), end_pos=Position(line=11, character=20))\u001B[0m\n",
      "\u001B[32m2024-12-14 18:49:20.844\u001B[0m | \u001B[34m\u001B[1mDEBUG   \u001B[0m | \u001B[36mrelativisticpy.state.scopes\u001B[0m:\u001B[36minit_tensor\u001B[0m:\u001B[36m263\u001B[0m - \u001B[34m\u001B[1mAttempting to initiating 'g_{b}_{f}' by equation from cached tensors.\u001B[0m\n",
      "\u001B[32m2024-12-14 18:49:20.845\u001B[0m | \u001B[34m\u001B[1mDEBUG   \u001B[0m | \u001B[36mrelativisticpy.state.scopes\u001B[0m:\u001B[36minit_tensor\u001B[0m:\u001B[36m266\u001B[0m - \u001B[34m\u001B[1mIdentified 'g_{b}_{f}' to be a Metric. Initializing Metric from Metric.\u001B[0m\n",
      "\u001B[32m2024-12-14 18:49:20.845\u001B[0m | \u001B[34m\u001B[1mDEBUG   \u001B[0m | \u001B[36mrelativisticpy.state.scopes\u001B[0m:\u001B[36mmetric_tensor\u001B[0m:\u001B[36m102\u001B[0m - \u001B[34m\u001B[1mFound 1 Metric Tensor Objects in scope.\u001B[0m\n",
      "\u001B[32m2024-12-14 18:49:20.846\u001B[0m | \u001B[34m\u001B[1mDEBUG   \u001B[0m | \u001B[36mrelativisticpy.state.scopes\u001B[0m:\u001B[36mmetric_tensor\u001B[0m:\u001B[36m103\u001B[0m - \u001B[34m\u001B[1mReturning <relativisticpy.diffgeom.metric.Metric object at 0x1081bc550>.\u001B[0m\n",
      "\u001B[32m2024-12-14 18:49:20.847\u001B[0m | \u001B[34m\u001B[1mDEBUG   \u001B[0m | \u001B[36mrelativisticpy.state.scopes\u001B[0m:\u001B[36mmetric_tensor\u001B[0m:\u001B[36m206\u001B[0m - \u001B[34m\u001B[1mFound metric tensor in scope with components: '[[-c**2*r/(-2*G*M + c**2*r), 0, 0, 0], [0, (-2*G*M + c**2*r)/(c**2*r), 0, 0], [0, 0, r**(-2), 0], [0, 0, 0, 1/(r**2*sin(theta)**2)]]'\u001B[0m\n",
      "\u001B[32m2024-12-14 18:49:20.847\u001B[0m | \u001B[34m\u001B[1mDEBUG   \u001B[0m | \u001B[36mrelativisticpy.state.scopes\u001B[0m:\u001B[36mmetric_tensor\u001B[0m:\u001B[36m102\u001B[0m - \u001B[34m\u001B[1mFound 1 Metric Tensor Objects in scope.\u001B[0m\n",
      "\u001B[32m2024-12-14 18:49:20.848\u001B[0m | \u001B[34m\u001B[1mDEBUG   \u001B[0m | \u001B[36mrelativisticpy.state.scopes\u001B[0m:\u001B[36mmetric_tensor\u001B[0m:\u001B[36m103\u001B[0m - \u001B[34m\u001B[1mReturning <relativisticpy.diffgeom.metric.Metric object at 0x1081bc550>.\u001B[0m\n",
      "\u001B[32m2024-12-14 18:49:20.971\u001B[0m | \u001B[34m\u001B[1mDEBUG   \u001B[0m | \u001B[36mrelativisticpy.state.scopes\u001B[0m:\u001B[36minit_tensor\u001B[0m:\u001B[36m271\u001B[0m - \u001B[34m\u001B[1mComputed components of 'g_{b}_{f}' to be: '[[(2*G*M - c**2*r)/(c**2*r), 0, 0, 0], [0, c**2*r/(-2*G*M + c**2*r), 0, 0], [0, 0, r**2, 0], [0, 0, 0, r**2*sin(theta)**2]]'\u001B[0m\n",
      "\u001B[32m2024-12-14 18:49:20.972\u001B[0m | \u001B[34m\u001B[1mDEBUG   \u001B[0m | \u001B[36mrelativisticpy.state.scopes\u001B[0m:\u001B[36mset_tensor\u001B[0m:\u001B[36m184\u001B[0m - \u001B[34m\u001B[1mCaching new tensor 'g' with components '[[(2*G*M - c**2*r)/(c**2*r), 0, 0, 0], [0, c**2*r/(-2*G*M + c**2*r), 0, 0], [0, 0, r**2, 0], [0, 0, 0, r**2*sin(theta)**2]]'\u001B[0m\n",
      "\u001B[32m2024-12-14 18:49:20.973\u001B[0m | \u001B[34m\u001B[1mDEBUG   \u001B[0m | \u001B[36mrelativisticpy.workbook.ast_visitor\u001B[0m:\u001B[36mmul\u001B[0m:\u001B[36m110\u001B[0m - \u001B[34m\u001B[1mMultiplying <relativisticpy.diffgeom.derivatives.partial.Derivative object at 0x108588610> * <relativisticpy.diffgeom.metric.Metric object at 0x107ed1b50> at position TokenPosition(start_pos=Position(line=11, character=38), end_pos=Position(line=11, character=39))\u001B[0m\n",
      "\u001B[32m2024-12-14 18:49:20.978\u001B[0m | \u001B[34m\u001B[1mDEBUG   \u001B[0m | \u001B[36mrelativisticpy.state.scopes\u001B[0m:\u001B[36minit_tensor\u001B[0m:\u001B[36m263\u001B[0m - \u001B[34m\u001B[1mAttempting to initiating 'g_{b}_{c}' by equation from cached tensors.\u001B[0m\n",
      "\u001B[32m2024-12-14 18:49:20.979\u001B[0m | \u001B[34m\u001B[1mDEBUG   \u001B[0m | \u001B[36mrelativisticpy.state.scopes\u001B[0m:\u001B[36minit_tensor\u001B[0m:\u001B[36m266\u001B[0m - \u001B[34m\u001B[1mIdentified 'g_{b}_{c}' to be a Metric. Initializing Metric from Metric.\u001B[0m\n",
      "\u001B[32m2024-12-14 18:49:20.979\u001B[0m | \u001B[34m\u001B[1mDEBUG   \u001B[0m | \u001B[36mrelativisticpy.state.scopes\u001B[0m:\u001B[36mmetric_tensor\u001B[0m:\u001B[36m102\u001B[0m - \u001B[34m\u001B[1mFound 1 Metric Tensor Objects in scope.\u001B[0m\n",
      "\u001B[32m2024-12-14 18:49:20.980\u001B[0m | \u001B[34m\u001B[1mDEBUG   \u001B[0m | \u001B[36mrelativisticpy.state.scopes\u001B[0m:\u001B[36mmetric_tensor\u001B[0m:\u001B[36m103\u001B[0m - \u001B[34m\u001B[1mReturning <relativisticpy.diffgeom.metric.Metric object at 0x108608e10>.\u001B[0m\n",
      "\u001B[32m2024-12-14 18:49:20.981\u001B[0m | \u001B[34m\u001B[1mDEBUG   \u001B[0m | \u001B[36mrelativisticpy.state.scopes\u001B[0m:\u001B[36mmetric_tensor\u001B[0m:\u001B[36m206\u001B[0m - \u001B[34m\u001B[1mFound metric tensor in scope with components: '[[(2*G*M - c**2*r)/(c**2*r), 0, 0, 0], [0, c**2*r/(-2*G*M + c**2*r), 0, 0], [0, 0, r**2, 0], [0, 0, 0, r**2*sin(theta)**2]]'\u001B[0m\n",
      "\u001B[32m2024-12-14 18:49:20.982\u001B[0m | \u001B[34m\u001B[1mDEBUG   \u001B[0m | \u001B[36mrelativisticpy.state.scopes\u001B[0m:\u001B[36mmetric_tensor\u001B[0m:\u001B[36m102\u001B[0m - \u001B[34m\u001B[1mFound 1 Metric Tensor Objects in scope.\u001B[0m\n",
      "\u001B[32m2024-12-14 18:49:20.982\u001B[0m | \u001B[34m\u001B[1mDEBUG   \u001B[0m | \u001B[36mrelativisticpy.state.scopes\u001B[0m:\u001B[36mmetric_tensor\u001B[0m:\u001B[36m103\u001B[0m - \u001B[34m\u001B[1mReturning <relativisticpy.diffgeom.metric.Metric object at 0x108608e10>.\u001B[0m\n",
      "\u001B[32m2024-12-14 18:49:20.983\u001B[0m | \u001B[34m\u001B[1mDEBUG   \u001B[0m | \u001B[36mrelativisticpy.state.scopes\u001B[0m:\u001B[36minit_tensor\u001B[0m:\u001B[36m271\u001B[0m - \u001B[34m\u001B[1mComputed components of 'g_{b}_{c}' to be: '[[(2*G*M - c**2*r)/(c**2*r), 0, 0, 0], [0, c**2*r/(-2*G*M + c**2*r), 0, 0], [0, 0, r**2, 0], [0, 0, 0, r**2*sin(theta)**2]]'\u001B[0m\n",
      "\u001B[32m2024-12-14 18:49:20.984\u001B[0m | \u001B[34m\u001B[1mDEBUG   \u001B[0m | \u001B[36mrelativisticpy.state.scopes\u001B[0m:\u001B[36mset_tensor\u001B[0m:\u001B[36m184\u001B[0m - \u001B[34m\u001B[1mCaching new tensor 'g' with components '[[(2*G*M - c**2*r)/(c**2*r), 0, 0, 0], [0, c**2*r/(-2*G*M + c**2*r), 0, 0], [0, 0, r**2, 0], [0, 0, 0, r**2*sin(theta)**2]]'\u001B[0m\n",
      "\u001B[32m2024-12-14 18:49:20.984\u001B[0m | \u001B[34m\u001B[1mDEBUG   \u001B[0m | \u001B[36mrelativisticpy.workbook.ast_visitor\u001B[0m:\u001B[36mmul\u001B[0m:\u001B[36m110\u001B[0m - \u001B[34m\u001B[1mMultiplying <relativisticpy.diffgeom.derivatives.partial.Derivative object at 0x107c05d90> * <relativisticpy.diffgeom.metric.Metric object at 0x1081bc550> at position TokenPosition(start_pos=Position(line=11, character=54), end_pos=Position(line=11, character=55))\u001B[0m\n",
      "\u001B[32m2024-12-14 18:49:20.989\u001B[0m | \u001B[34m\u001B[1mDEBUG   \u001B[0m | \u001B[36mrelativisticpy.workbook.ast_visitor\u001B[0m:\u001B[36madd\u001B[0m:\u001B[36m98\u001B[0m - \u001B[34m\u001B[1mAdding <relativisticpy.algebras.einstein_summation.EinsumArray object at 0x108398ad0> + <relativisticpy.algebras.einstein_summation.EinsumArray object at 0x107b83790> at position TokenPosition(start_pos=Position(line=11, character=38), end_pos=Position(line=11, character=39))\u001B[0m\n",
      "\u001B[32m2024-12-14 18:49:20.998\u001B[0m | \u001B[34m\u001B[1mDEBUG   \u001B[0m | \u001B[36mrelativisticpy.state.scopes\u001B[0m:\u001B[36minit_tensor\u001B[0m:\u001B[36m263\u001B[0m - \u001B[34m\u001B[1mAttempting to initiating 'g_{c}_{f}' by equation from cached tensors.\u001B[0m\n",
      "\u001B[32m2024-12-14 18:49:20.999\u001B[0m | \u001B[34m\u001B[1mDEBUG   \u001B[0m | \u001B[36mrelativisticpy.state.scopes\u001B[0m:\u001B[36minit_tensor\u001B[0m:\u001B[36m266\u001B[0m - \u001B[34m\u001B[1mIdentified 'g_{c}_{f}' to be a Metric. Initializing Metric from Metric.\u001B[0m\n",
      "\u001B[32m2024-12-14 18:49:20.999\u001B[0m | \u001B[34m\u001B[1mDEBUG   \u001B[0m | \u001B[36mrelativisticpy.state.scopes\u001B[0m:\u001B[36mmetric_tensor\u001B[0m:\u001B[36m102\u001B[0m - \u001B[34m\u001B[1mFound 1 Metric Tensor Objects in scope.\u001B[0m\n",
      "\u001B[32m2024-12-14 18:49:20.999\u001B[0m | \u001B[34m\u001B[1mDEBUG   \u001B[0m | \u001B[36mrelativisticpy.state.scopes\u001B[0m:\u001B[36mmetric_tensor\u001B[0m:\u001B[36m103\u001B[0m - \u001B[34m\u001B[1mReturning <relativisticpy.diffgeom.metric.Metric object at 0x107bd4350>.\u001B[0m\n",
      "\u001B[32m2024-12-14 18:49:21.000\u001B[0m | \u001B[34m\u001B[1mDEBUG   \u001B[0m | \u001B[36mrelativisticpy.state.scopes\u001B[0m:\u001B[36mmetric_tensor\u001B[0m:\u001B[36m206\u001B[0m - \u001B[34m\u001B[1mFound metric tensor in scope with components: '[[(2*G*M - c**2*r)/(c**2*r), 0, 0, 0], [0, c**2*r/(-2*G*M + c**2*r), 0, 0], [0, 0, r**2, 0], [0, 0, 0, r**2*sin(theta)**2]]'\u001B[0m\n",
      "\u001B[32m2024-12-14 18:49:21.001\u001B[0m | \u001B[34m\u001B[1mDEBUG   \u001B[0m | \u001B[36mrelativisticpy.state.scopes\u001B[0m:\u001B[36mmetric_tensor\u001B[0m:\u001B[36m102\u001B[0m - \u001B[34m\u001B[1mFound 1 Metric Tensor Objects in scope.\u001B[0m\n",
      "\u001B[32m2024-12-14 18:49:21.001\u001B[0m | \u001B[34m\u001B[1mDEBUG   \u001B[0m | \u001B[36mrelativisticpy.state.scopes\u001B[0m:\u001B[36mmetric_tensor\u001B[0m:\u001B[36m103\u001B[0m - \u001B[34m\u001B[1mReturning <relativisticpy.diffgeom.metric.Metric object at 0x107bd4350>.\u001B[0m\n",
      "\u001B[32m2024-12-14 18:49:21.002\u001B[0m | \u001B[34m\u001B[1mDEBUG   \u001B[0m | \u001B[36mrelativisticpy.state.scopes\u001B[0m:\u001B[36minit_tensor\u001B[0m:\u001B[36m271\u001B[0m - \u001B[34m\u001B[1mComputed components of 'g_{c}_{f}' to be: '[[(2*G*M - c**2*r)/(c**2*r), 0, 0, 0], [0, c**2*r/(-2*G*M + c**2*r), 0, 0], [0, 0, r**2, 0], [0, 0, 0, r**2*sin(theta)**2]]'\u001B[0m\n",
      "\u001B[32m2024-12-14 18:49:21.003\u001B[0m | \u001B[34m\u001B[1mDEBUG   \u001B[0m | \u001B[36mrelativisticpy.state.scopes\u001B[0m:\u001B[36mset_tensor\u001B[0m:\u001B[36m184\u001B[0m - \u001B[34m\u001B[1mCaching new tensor 'g' with components '[[(2*G*M - c**2*r)/(c**2*r), 0, 0, 0], [0, c**2*r/(-2*G*M + c**2*r), 0, 0], [0, 0, r**2, 0], [0, 0, 0, r**2*sin(theta)**2]]'\u001B[0m\n",
      "\u001B[32m2024-12-14 18:49:21.003\u001B[0m | \u001B[34m\u001B[1mDEBUG   \u001B[0m | \u001B[36mrelativisticpy.workbook.ast_visitor\u001B[0m:\u001B[36mmul\u001B[0m:\u001B[36m110\u001B[0m - \u001B[34m\u001B[1mMultiplying <relativisticpy.diffgeom.derivatives.partial.Derivative object at 0x108094950> * <relativisticpy.diffgeom.metric.Metric object at 0x108589050> at position TokenPosition(start_pos=Position(line=11, character=70), end_pos=Position(line=11, character=71))\u001B[0m\n",
      "\u001B[32m2024-12-14 18:49:21.007\u001B[0m | \u001B[34m\u001B[1mDEBUG   \u001B[0m | \u001B[36mrelativisticpy.workbook.ast_visitor\u001B[0m:\u001B[36msub\u001B[0m:\u001B[36m94\u001B[0m - \u001B[34m\u001B[1mSubtracting <relativisticpy.algebras.einstein_summation.EinsumArray object at 0x108588f90> - <relativisticpy.algebras.einstein_summation.EinsumArray object at 0x107ff5910> at position TokenPosition(start_pos=Position(line=11, character=38), end_pos=Position(line=11, character=39))\u001B[0m\n",
      "\u001B[32m2024-12-14 18:49:21.014\u001B[0m | \u001B[34m\u001B[1mDEBUG   \u001B[0m | \u001B[36mrelativisticpy.workbook.ast_visitor\u001B[0m:\u001B[36mmul\u001B[0m:\u001B[36m110\u001B[0m - \u001B[34m\u001B[1mMultiplying <relativisticpy.diffgeom.metric.Metric object at 0x107bb72d0> * <relativisticpy.algebras.einstein_summation.EinsumArray object at 0x10831eb10> at position TokenPosition(start_pos=Position(line=11, character=19), end_pos=Position(line=11, character=20))\u001B[0m\n",
      "\u001B[32m2024-12-14 18:49:21.031\u001B[0m | \u001B[34m\u001B[1mDEBUG   \u001B[0m | \u001B[36mrelativisticpy.state.scopes\u001B[0m:\u001B[36mset_tensor\u001B[0m:\u001B[36m184\u001B[0m - \u001B[34m\u001B[1mCaching new tensor 'Gamma' with components '[[[0, -0.5*c**2*r*(-1/r - (2*G*M - c**2*r)/(c**2*r**2))/(-2*G*M + c**2*r), 0, 0], [-0.5*c**2*r*(-1/r - (2*G*M - c**2*r)/(c**2*r**2))/(-2*G*M + c**2*r), 0, 0, 0], [0, 0, 0, 0], [0, 0, 0, 0]], [[0.5*(1/r + (2*G*M - c**2*r)/(c**2*r**2))*(-2*G*M + c**2*r)/(c**2*r), 0, 0, 0], [0, 0.5*(-2*G*M + c**2*r)*(-c**4*r/(-2*G*M + c**2*r)**2 + c**2/(-2*G*M + c**2*r))/(c**2*r), 0, 0], [0, 0, -1.0*(-2*G*M + c**2*r)/c**2, 0], [0, 0, 0, -1.0*(-2*G*M + c**2*r)*sin(theta)**2/c**2]], [[0, 0, 0, 0], [0, 0, 1.0/r, 0], [0, 1.0/r, 0, 0], [0, 0, 0, -1.0*sin(theta)*cos(theta)]], [[0, 0, 0, 0], [0, 0, 0, 1.0/r], [0, 0, 0, 1.0*cos(theta)/sin(theta)], [0, 1.0/r, 1.0*cos(theta)/sin(theta), 0]]]'\u001B[0m\n",
      "\u001B[32m2024-12-14 18:49:21.032\u001B[0m | \u001B[34m\u001B[1mDEBUG   \u001B[0m | \u001B[36mrelativisticpy.state.scopes\u001B[0m:\u001B[36minit_tensor\u001B[0m:\u001B[36m263\u001B[0m - \u001B[34m\u001B[1mAttempting to initiating 'Gamma^{a}_{n}_{m}' by equation from cached tensors.\u001B[0m\n",
      "\u001B[32m2024-12-14 18:49:21.036\u001B[0m | \u001B[34m\u001B[1mDEBUG   \u001B[0m | \u001B[36mrelativisticpy.state.scopes\u001B[0m:\u001B[36mset_tensor\u001B[0m:\u001B[36m184\u001B[0m - \u001B[34m\u001B[1mCaching new tensor 'Gamma' with components '[[[0, -0.5*c**2*r*(-1/r - (2*G*M - c**2*r)/(c**2*r**2))/(-2*G*M + c**2*r), 0, 0], [-0.5*c**2*r*(-1/r - (2*G*M - c**2*r)/(c**2*r**2))/(-2*G*M + c**2*r), 0, 0, 0], [0, 0, 0, 0], [0, 0, 0, 0]], [[0.5*(1/r + (2*G*M - c**2*r)/(c**2*r**2))*(-2*G*M + c**2*r)/(c**2*r), 0, 0, 0], [0, 0.5*(-2*G*M + c**2*r)*(-c**4*r/(-2*G*M + c**2*r)**2 + c**2/(-2*G*M + c**2*r))/(c**2*r), 0, 0], [0, 0, -1.0*(-2*G*M + c**2*r)/c**2, 0], [0, 0, 0, -1.0*(-2*G*M + c**2*r)*sin(theta)**2/c**2]], [[0, 0, 0, 0], [0, 0, 1.0/r, 0], [0, 1.0/r, 0, 0], [0, 0, 0, -1.0*sin(theta)*cos(theta)]], [[0, 0, 0, 0], [0, 0, 0, 1.0/r], [0, 0, 0, 1.0*cos(theta)/sin(theta)], [0, 1.0/r, 1.0*cos(theta)/sin(theta), 0]]]'\u001B[0m\n",
      "\u001B[32m2024-12-14 18:49:21.037\u001B[0m | \u001B[34m\u001B[1mDEBUG   \u001B[0m | \u001B[36mrelativisticpy.workbook.ast_visitor\u001B[0m:\u001B[36mmul\u001B[0m:\u001B[36m110\u001B[0m - \u001B[34m\u001B[1mMultiplying <relativisticpy.diffgeom.derivatives.partial.Derivative object at 0x107c07ed0> * <relativisticpy.diffgeom.tensor.Tensor object at 0x10858a4d0> at position TokenPosition(start_pos=Position(line=13, character=23), end_pos=Position(line=13, character=24))\u001B[0m\n",
      "\u001B[32m2024-12-14 18:49:21.068\u001B[0m | \u001B[34m\u001B[1mDEBUG   \u001B[0m | \u001B[36mrelativisticpy.state.scopes\u001B[0m:\u001B[36minit_tensor\u001B[0m:\u001B[36m263\u001B[0m - \u001B[34m\u001B[1mAttempting to initiating 'Gamma^{a}_{b}_{l}' by equation from cached tensors.\u001B[0m\n",
      "\u001B[32m2024-12-14 18:49:21.073\u001B[0m | \u001B[34m\u001B[1mDEBUG   \u001B[0m | \u001B[36mrelativisticpy.state.scopes\u001B[0m:\u001B[36mset_tensor\u001B[0m:\u001B[36m184\u001B[0m - \u001B[34m\u001B[1mCaching new tensor 'Gamma' with components '[[[0, -0.5*c**2*r*(-1/r - (2*G*M - c**2*r)/(c**2*r**2))/(-2*G*M + c**2*r), 0, 0], [-0.5*c**2*r*(-1/r - (2*G*M - c**2*r)/(c**2*r**2))/(-2*G*M + c**2*r), 0, 0, 0], [0, 0, 0, 0], [0, 0, 0, 0]], [[0.5*(1/r + (2*G*M - c**2*r)/(c**2*r**2))*(-2*G*M + c**2*r)/(c**2*r), 0, 0, 0], [0, 0.5*(-2*G*M + c**2*r)*(-c**4*r/(-2*G*M + c**2*r)**2 + c**2/(-2*G*M + c**2*r))/(c**2*r), 0, 0], [0, 0, -1.0*(-2*G*M + c**2*r)/c**2, 0], [0, 0, 0, -1.0*(-2*G*M + c**2*r)*sin(theta)**2/c**2]], [[0, 0, 0, 0], [0, 0, 1.0/r, 0], [0, 1.0/r, 0, 0], [0, 0, 0, -1.0*sin(theta)*cos(theta)]], [[0, 0, 0, 0], [0, 0, 0, 1.0/r], [0, 0, 0, 1.0*cos(theta)/sin(theta)], [0, 1.0/r, 1.0*cos(theta)/sin(theta), 0]]]'\u001B[0m\n",
      "\u001B[32m2024-12-14 18:49:21.073\u001B[0m | \u001B[34m\u001B[1mDEBUG   \u001B[0m | \u001B[36mrelativisticpy.state.scopes\u001B[0m:\u001B[36minit_tensor\u001B[0m:\u001B[36m263\u001B[0m - \u001B[34m\u001B[1mAttempting to initiating 'Gamma^{l}_{n}_{m}' by equation from cached tensors.\u001B[0m\n",
      "\u001B[32m2024-12-14 18:49:21.077\u001B[0m | \u001B[34m\u001B[1mDEBUG   \u001B[0m | \u001B[36mrelativisticpy.state.scopes\u001B[0m:\u001B[36mset_tensor\u001B[0m:\u001B[36m184\u001B[0m - \u001B[34m\u001B[1mCaching new tensor 'Gamma' with components '[[[0, -0.5*c**2*r*(-1/r - (2*G*M - c**2*r)/(c**2*r**2))/(-2*G*M + c**2*r), 0, 0], [-0.5*c**2*r*(-1/r - (2*G*M - c**2*r)/(c**2*r**2))/(-2*G*M + c**2*r), 0, 0, 0], [0, 0, 0, 0], [0, 0, 0, 0]], [[0.5*(1/r + (2*G*M - c**2*r)/(c**2*r**2))*(-2*G*M + c**2*r)/(c**2*r), 0, 0, 0], [0, 0.5*(-2*G*M + c**2*r)*(-c**4*r/(-2*G*M + c**2*r)**2 + c**2/(-2*G*M + c**2*r))/(c**2*r), 0, 0], [0, 0, -1.0*(-2*G*M + c**2*r)/c**2, 0], [0, 0, 0, -1.0*(-2*G*M + c**2*r)*sin(theta)**2/c**2]], [[0, 0, 0, 0], [0, 0, 1.0/r, 0], [0, 1.0/r, 0, 0], [0, 0, 0, -1.0*sin(theta)*cos(theta)]], [[0, 0, 0, 0], [0, 0, 0, 1.0/r], [0, 0, 0, 1.0*cos(theta)/sin(theta)], [0, 1.0/r, 1.0*cos(theta)/sin(theta), 0]]]'\u001B[0m\n",
      "\u001B[32m2024-12-14 18:49:21.078\u001B[0m | \u001B[34m\u001B[1mDEBUG   \u001B[0m | \u001B[36mrelativisticpy.workbook.ast_visitor\u001B[0m:\u001B[36mmul\u001B[0m:\u001B[36m110\u001B[0m - \u001B[34m\u001B[1mMultiplying <relativisticpy.diffgeom.tensor.Tensor object at 0x107eb1550> * <relativisticpy.diffgeom.tensor.Tensor object at 0x10836b3d0> at position TokenPosition(start_pos=Position(line=13, character=47), end_pos=Position(line=13, character=52))\u001B[0m\n",
      "\u001B[32m2024-12-14 18:49:21.192\u001B[0m | \u001B[34m\u001B[1mDEBUG   \u001B[0m | \u001B[36mrelativisticpy.workbook.ast_visitor\u001B[0m:\u001B[36madd\u001B[0m:\u001B[36m98\u001B[0m - \u001B[34m\u001B[1mAdding <relativisticpy.algebras.einstein_summation.EinsumArray object at 0x107c08350> + <relativisticpy.diffgeom.tensor.Tensor object at 0x107b15510> at position TokenPosition(start_pos=Position(line=13, character=23), end_pos=Position(line=13, character=24))\u001B[0m\n",
      "\u001B[32m2024-12-14 18:49:21.261\u001B[0m | \u001B[34m\u001B[1mDEBUG   \u001B[0m | \u001B[36mrelativisticpy.state.scopes\u001B[0m:\u001B[36minit_tensor\u001B[0m:\u001B[36m263\u001B[0m - \u001B[34m\u001B[1mAttempting to initiating 'Gamma^{a}_{b}_{m}' by equation from cached tensors.\u001B[0m\n",
      "\u001B[32m2024-12-14 18:49:21.265\u001B[0m | \u001B[34m\u001B[1mDEBUG   \u001B[0m | \u001B[36mrelativisticpy.state.scopes\u001B[0m:\u001B[36mset_tensor\u001B[0m:\u001B[36m184\u001B[0m - \u001B[34m\u001B[1mCaching new tensor 'Gamma' with components '[[[0, -0.5*c**2*r*(-1/r - (2*G*M - c**2*r)/(c**2*r**2))/(-2*G*M + c**2*r), 0, 0], [-0.5*c**2*r*(-1/r - (2*G*M - c**2*r)/(c**2*r**2))/(-2*G*M + c**2*r), 0, 0, 0], [0, 0, 0, 0], [0, 0, 0, 0]], [[0.5*(1/r + (2*G*M - c**2*r)/(c**2*r**2))*(-2*G*M + c**2*r)/(c**2*r), 0, 0, 0], [0, 0.5*(-2*G*M + c**2*r)*(-c**4*r/(-2*G*M + c**2*r)**2 + c**2/(-2*G*M + c**2*r))/(c**2*r), 0, 0], [0, 0, -1.0*(-2*G*M + c**2*r)/c**2, 0], [0, 0, 0, -1.0*(-2*G*M + c**2*r)*sin(theta)**2/c**2]], [[0, 0, 0, 0], [0, 0, 1.0/r, 0], [0, 1.0/r, 0, 0], [0, 0, 0, -1.0*sin(theta)*cos(theta)]], [[0, 0, 0, 0], [0, 0, 0, 1.0/r], [0, 0, 0, 1.0*cos(theta)/sin(theta)], [0, 1.0/r, 1.0*cos(theta)/sin(theta), 0]]]'\u001B[0m\n",
      "\u001B[32m2024-12-14 18:49:21.266\u001B[0m | \u001B[34m\u001B[1mDEBUG   \u001B[0m | \u001B[36mrelativisticpy.workbook.ast_visitor\u001B[0m:\u001B[36mmul\u001B[0m:\u001B[36m110\u001B[0m - \u001B[34m\u001B[1mMultiplying <relativisticpy.diffgeom.derivatives.partial.Derivative object at 0x107b15510> * <relativisticpy.diffgeom.tensor.Tensor object at 0x1078ba250> at position TokenPosition(start_pos=Position(line=13, character=81), end_pos=Position(line=13, character=82))\u001B[0m\n",
      "\u001B[32m2024-12-14 18:49:21.296\u001B[0m | \u001B[34m\u001B[1mDEBUG   \u001B[0m | \u001B[36mrelativisticpy.workbook.ast_visitor\u001B[0m:\u001B[36msub\u001B[0m:\u001B[36m94\u001B[0m - \u001B[34m\u001B[1mSubtracting <relativisticpy.algebras.einstein_summation.EinsumArray object at 0x1080bfa10> - <relativisticpy.algebras.einstein_summation.EinsumArray object at 0x1082d9750> at position TokenPosition(start_pos=Position(line=13, character=23), end_pos=Position(line=13, character=24))\u001B[0m\n",
      "\u001B[32m2024-12-14 18:49:21.363\u001B[0m | \u001B[34m\u001B[1mDEBUG   \u001B[0m | \u001B[36mrelativisticpy.state.scopes\u001B[0m:\u001B[36minit_tensor\u001B[0m:\u001B[36m263\u001B[0m - \u001B[34m\u001B[1mAttempting to initiating 'Gamma^{a}_{n}_{l}' by equation from cached tensors.\u001B[0m\n",
      "\u001B[32m2024-12-14 18:49:21.367\u001B[0m | \u001B[34m\u001B[1mDEBUG   \u001B[0m | \u001B[36mrelativisticpy.state.scopes\u001B[0m:\u001B[36mset_tensor\u001B[0m:\u001B[36m184\u001B[0m - \u001B[34m\u001B[1mCaching new tensor 'Gamma' with components '[[[0, -0.5*c**2*r*(-1/r - (2*G*M - c**2*r)/(c**2*r**2))/(-2*G*M + c**2*r), 0, 0], [-0.5*c**2*r*(-1/r - (2*G*M - c**2*r)/(c**2*r**2))/(-2*G*M + c**2*r), 0, 0, 0], [0, 0, 0, 0], [0, 0, 0, 0]], [[0.5*(1/r + (2*G*M - c**2*r)/(c**2*r**2))*(-2*G*M + c**2*r)/(c**2*r), 0, 0, 0], [0, 0.5*(-2*G*M + c**2*r)*(-c**4*r/(-2*G*M + c**2*r)**2 + c**2/(-2*G*M + c**2*r))/(c**2*r), 0, 0], [0, 0, -1.0*(-2*G*M + c**2*r)/c**2, 0], [0, 0, 0, -1.0*(-2*G*M + c**2*r)*sin(theta)**2/c**2]], [[0, 0, 0, 0], [0, 0, 1.0/r, 0], [0, 1.0/r, 0, 0], [0, 0, 0, -1.0*sin(theta)*cos(theta)]], [[0, 0, 0, 0], [0, 0, 0, 1.0/r], [0, 0, 0, 1.0*cos(theta)/sin(theta)], [0, 1.0/r, 1.0*cos(theta)/sin(theta), 0]]]'\u001B[0m\n",
      "\u001B[32m2024-12-14 18:49:21.368\u001B[0m | \u001B[34m\u001B[1mDEBUG   \u001B[0m | \u001B[36mrelativisticpy.state.scopes\u001B[0m:\u001B[36minit_tensor\u001B[0m:\u001B[36m263\u001B[0m - \u001B[34m\u001B[1mAttempting to initiating 'Gamma^{l}_{b}_{m}' by equation from cached tensors.\u001B[0m\n",
      "\u001B[32m2024-12-14 18:49:21.372\u001B[0m | \u001B[34m\u001B[1mDEBUG   \u001B[0m | \u001B[36mrelativisticpy.state.scopes\u001B[0m:\u001B[36mset_tensor\u001B[0m:\u001B[36m184\u001B[0m - \u001B[34m\u001B[1mCaching new tensor 'Gamma' with components '[[[0, -0.5*c**2*r*(-1/r - (2*G*M - c**2*r)/(c**2*r**2))/(-2*G*M + c**2*r), 0, 0], [-0.5*c**2*r*(-1/r - (2*G*M - c**2*r)/(c**2*r**2))/(-2*G*M + c**2*r), 0, 0, 0], [0, 0, 0, 0], [0, 0, 0, 0]], [[0.5*(1/r + (2*G*M - c**2*r)/(c**2*r**2))*(-2*G*M + c**2*r)/(c**2*r), 0, 0, 0], [0, 0.5*(-2*G*M + c**2*r)*(-c**4*r/(-2*G*M + c**2*r)**2 + c**2/(-2*G*M + c**2*r))/(c**2*r), 0, 0], [0, 0, -1.0*(-2*G*M + c**2*r)/c**2, 0], [0, 0, 0, -1.0*(-2*G*M + c**2*r)*sin(theta)**2/c**2]], [[0, 0, 0, 0], [0, 0, 1.0/r, 0], [0, 1.0/r, 0, 0], [0, 0, 0, -1.0*sin(theta)*cos(theta)]], [[0, 0, 0, 0], [0, 0, 0, 1.0/r], [0, 0, 0, 1.0*cos(theta)/sin(theta)], [0, 1.0/r, 1.0*cos(theta)/sin(theta), 0]]]'\u001B[0m\n",
      "\u001B[32m2024-12-14 18:49:21.373\u001B[0m | \u001B[34m\u001B[1mDEBUG   \u001B[0m | \u001B[36mrelativisticpy.workbook.ast_visitor\u001B[0m:\u001B[36mmul\u001B[0m:\u001B[36m110\u001B[0m - \u001B[34m\u001B[1mMultiplying <relativisticpy.diffgeom.tensor.Tensor object at 0x1078ba250> * <relativisticpy.diffgeom.tensor.Tensor object at 0x107bf7f90> at position TokenPosition(start_pos=Position(line=13, character=105), end_pos=Position(line=13, character=110))\u001B[0m\n",
      "\u001B[32m2024-12-14 18:49:21.457\u001B[0m | \u001B[34m\u001B[1mDEBUG   \u001B[0m | \u001B[36mrelativisticpy.workbook.ast_visitor\u001B[0m:\u001B[36msub\u001B[0m:\u001B[36m94\u001B[0m - \u001B[34m\u001B[1mSubtracting <relativisticpy.algebras.einstein_summation.EinsumArray object at 0x107f3d3d0> - <relativisticpy.diffgeom.tensor.Tensor object at 0x107ff4c50> at position TokenPosition(start_pos=Position(line=13, character=23), end_pos=Position(line=13, character=24))\u001B[0m\n",
      "\u001B[32m2024-12-14 18:49:21.553\u001B[0m | \u001B[34m\u001B[1mDEBUG   \u001B[0m | \u001B[36mrelativisticpy.state.scopes\u001B[0m:\u001B[36mset_tensor\u001B[0m:\u001B[36m184\u001B[0m - \u001B[34m\u001B[1mCaching new tensor 'Riemann' with components '[[[[0, 0, 0, 0], [0, 0, 0, 0], [0, 0, 0, 0], [0, 0, 0, 0]], [[0, -0.25*c**4*r**2*(-1/r - (2*G*M - c**2*r)/(c**2*r**2))**2/(-2*G*M + c**2*r)**2 - 0.5*c**4*r*(-1/r - (2*G*M - c**2*r)/(c**2*r**2))/(-2*G*M + c**2*r)**2 + 0.5*c**2*r*(2/r**2 + 2*(2*G*M - c**2*r)/(c**2*r**3))/(-2*G*M + c**2*r) + 0.5*c**2*(-1/r - (2*G*M - c**2*r)/(c**2*r**2))/(-2*G*M + c**2*r) - 0.25*(-1/r - (2*G*M - c**2*r)/(c**2*r**2))*(-c**4*r/(-2*G*M + c**2*r)**2 + c**2/(-2*G*M + c**2*r)), 0, 0], [0.25*c**4*r**2*(-1/r - (2*G*M - c**2*r)/(c**2*r**2))**2/(-2*G*M + c**2*r)**2 + 0.5*c**4*r*(-1/r - (2*G*M - c**2*r)/(c**2*r**2))/(-2*G*M + c**2*r)**2 - 0.5*c**2*r*(2/r**2 + 2*(2*G*M - c**2*r)/(c**2*r**3))/(-2*G*M + c**2*r) - 0.5*c**2*(-1/r - (2*G*M - c**2*r)/(c**2*r**2))/(-2*G*M + c**2*r) + 0.25*(-1/r - (2*G*M - c**2*r)/(c**2*r**2))*(-c**4*r/(-2*G*M + c**2*r)**2 + c**2/(-2*G*M + c**2*r)), 0, 0, 0], [0, 0, 0, 0], [0, 0, 0, 0]], [[0, 0, 0.5*r*(-1/r - (2*G*M - c**2*r)/(c**2*r**2)), 0], [0, 0, 0, 0], [-0.5*r*(-1/r - (2*G*M - c**2*r)/(c**2*r**2)), 0, 0, 0], [0, 0, 0, 0]], [[0, 0, 0, 0.5*r*(-1/r - (2*G*M - c**2*r)/(c**2*r**2))*sin(theta)**2], [0, 0, 0, 0], [0, 0, 0, 0], [-0.5*r*(-1/r - (2*G*M - c**2*r)/(c**2*r**2))*sin(theta)**2, 0, 0, 0]]], [[[0, -0.25*(-1/r - (2*G*M - c**2*r)/(c**2*r**2))*(1/r + (2*G*M - c**2*r)/(c**2*r**2)) - 0.5*(1/r + (2*G*M - c**2*r)/(c**2*r**2))/r - 0.5*(-2/r**2 - 2*(2*G*M - c**2*r)/(c**2*r**3))*(-2*G*M + c**2*r)/(c**2*r) + 0.5*(1/r + (2*G*M - c**2*r)/(c**2*r**2))*(-2*G*M + c**2*r)/(c**2*r**2) - 0.25*(1/r + (2*G*M - c**2*r)/(c**2*r**2))*(-2*G*M + c**2*r)**2*(-c**4*r/(-2*G*M + c**2*r)**2 + c**2/(-2*G*M + c**2*r))/(c**4*r**2), 0, 0], [0.25*(-1/r - (2*G*M - c**2*r)/(c**2*r**2))*(1/r + (2*G*M - c**2*r)/(c**2*r**2)) + 0.5*(1/r + (2*G*M - c**2*r)/(c**2*r**2))/r + 0.5*(-2/r**2 - 2*(2*G*M - c**2*r)/(c**2*r**3))*(-2*G*M + c**2*r)/(c**2*r) - 0.5*(1/r + (2*G*M - c**2*r)/(c**2*r**2))*(-2*G*M + c**2*r)/(c**2*r**2) + 0.25*(1/r + (2*G*M - c**2*r)/(c**2*r**2))*(-2*G*M + c**2*r)**2*(-c**4*r/(-2*G*M + c**2*r)**2 + c**2/(-2*G*M + c**2*r))/(c**4*r**2), 0, 0, 0], [0, 0, 0, 0], [0, 0, 0, 0]], [[0, 0, 0, 0], [0, 0, 0, 0], [0, 0, 0, 0], [0, 0, 0, 0]], [[0, 0, 0, 0], [0, 0, -1.0 + 1.0*(-2*G*M + c**2*r)/(c**2*r) - 0.5*(-2*G*M + c**2*r)**2*(-c**4*r/(-2*G*M + c**2*r)**2 + c**2/(-2*G*M + c**2*r))/(c**4*r), 0], [0, 1.0 - 1.0*(-2*G*M + c**2*r)/(c**2*r) + 0.5*(-2*G*M + c**2*r)**2*(-c**4*r/(-2*G*M + c**2*r)**2 + c**2/(-2*G*M + c**2*r))/(c**4*r), 0, 0], [0, 0, 0, 0]], [[0, 0, 0, 0], [0, 0, 0, -1.0*sin(theta)**2 + 1.0*(-2*G*M + c**2*r)*sin(theta)**2/(c**2*r) - 0.5*(-2*G*M + c**2*r)**2*(-c**4*r/(-2*G*M + c**2*r)**2 + c**2/(-2*G*M + c**2*r))*sin(theta)**2/(c**4*r)], [0, 0, 0, 0], [0, 1.0*sin(theta)**2 - 1.0*(-2*G*M + c**2*r)*sin(theta)**2/(c**2*r) + 0.5*(-2*G*M + c**2*r)**2*(-c**4*r/(-2*G*M + c**2*r)**2 + c**2/(-2*G*M + c**2*r))*sin(theta)**2/(c**4*r), 0, 0]]], [[[0, 0, -0.5*(1/r + (2*G*M - c**2*r)/(c**2*r**2))*(-2*G*M + c**2*r)/(c**2*r**2), 0], [0, 0, 0, 0], [0.5*(1/r + (2*G*M - c**2*r)/(c**2*r**2))*(-2*G*M + c**2*r)/(c**2*r**2), 0, 0, 0], [0, 0, 0, 0]], [[0, 0, 0, 0], [0, 0, -0.5*(-2*G*M + c**2*r)*(-c**4*r/(-2*G*M + c**2*r)**2 + c**2/(-2*G*M + c**2*r))/(c**2*r**2), 0], [0, 0.5*(-2*G*M + c**2*r)*(-c**4*r/(-2*G*M + c**2*r)**2 + c**2/(-2*G*M + c**2*r))/(c**2*r**2), 0, 0], [0, 0, 0, 0]], [[0, 0, 0, 0], [0, 0, 0, 0], [0, 0, 0, 0], [0, 0, 0, 0]], [[0, 0, 0, 0], [0, 0, 0, 0], [0, 0, 0, 1.0*sin(theta)**2 - 1.0*(-2*G*M + c**2*r)*sin(theta)**2/(c**2*r)], [0, 0, -1.0*sin(theta)**2 + 1.0*(-2*G*M + c**2*r)*sin(theta)**2/(c**2*r), 0]]], [[[0, 0, 0, -0.5*(1/r + (2*G*M - c**2*r)/(c**2*r**2))*(-2*G*M + c**2*r)/(c**2*r**2)], [0, 0, 0, 0], [0, 0, 0, 0], [0.5*(1/r + (2*G*M - c**2*r)/(c**2*r**2))*(-2*G*M + c**2*r)/(c**2*r**2), 0, 0, 0]], [[0, 0, 0, 0], [0, 0, 0, -0.5*(-2*G*M + c**2*r)*(-c**4*r/(-2*G*M + c**2*r)**2 + c**2/(-2*G*M + c**2*r))/(c**2*r**2)], [0, 0, 0, 0], [0, 0.5*(-2*G*M + c**2*r)*(-c**4*r/(-2*G*M + c**2*r)**2 + c**2/(-2*G*M + c**2*r))/(c**2*r**2), 0, 0]], [[0, 0, 0, 0], [0, 0, 0, 0], [0, 0, 0, -1.0 + 1.0*(-2*G*M + c**2*r)/(c**2*r)], [0, 0, 1.0 - 1.0*(-2*G*M + c**2*r)/(c**2*r), 0]], [[0, 0, 0, 0], [0, 0, 0, 0], [0, 0, 0, 0], [0, 0, 0, 0]]]]'\u001B[0m\n",
      "\u001B[32m2024-12-14 18:49:21.553\u001B[0m | \u001B[34m\u001B[1mDEBUG   \u001B[0m | \u001B[36mrelativisticpy.state.scopes\u001B[0m:\u001B[36minit_tensor\u001B[0m:\u001B[36m263\u001B[0m - \u001B[34m\u001B[1mAttempting to initiating 'Riemann^{a}_{m}_{a}_{n}' by equation from cached tensors.\u001B[0m\n",
      "\u001B[32m2024-12-14 18:49:21.569\u001B[0m | \u001B[34m\u001B[1mDEBUG   \u001B[0m | \u001B[36mrelativisticpy.state.scopes\u001B[0m:\u001B[36mset_tensor\u001B[0m:\u001B[36m184\u001B[0m - \u001B[34m\u001B[1mCaching new tensor 'Ricci' with components '[[0.25*(-1/r - (2*G*M - c**2*r)/(c**2*r**2))*(1/r + (2*G*M - c**2*r)/(c**2*r**2)) + 0.5*(1/r + (2*G*M - c**2*r)/(c**2*r**2))/r + 0.5*(-2/r**2 - 2*(2*G*M - c**2*r)/(c**2*r**3))*(-2*G*M + c**2*r)/(c**2*r) + 0.5*(1/r + (2*G*M - c**2*r)/(c**2*r**2))*(-2*G*M + c**2*r)/(c**2*r**2) + 0.25*(1/r + (2*G*M - c**2*r)/(c**2*r**2))*(-2*G*M + c**2*r)**2*(-c**4*r/(-2*G*M + c**2*r)**2 + c**2/(-2*G*M + c**2*r))/(c**4*r**2), 0, 0, 0], [0, -0.25*c**4*r**2*(-1/r - (2*G*M - c**2*r)/(c**2*r**2))**2/(-2*G*M + c**2*r)**2 - 0.5*c**4*r*(-1/r - (2*G*M - c**2*r)/(c**2*r**2))/(-2*G*M + c**2*r)**2 + 0.5*c**2*r*(2/r**2 + 2*(2*G*M - c**2*r)/(c**2*r**3))/(-2*G*M + c**2*r) + 0.5*c**2*(-1/r - (2*G*M - c**2*r)/(c**2*r**2))/(-2*G*M + c**2*r) - 0.25*(-1/r - (2*G*M - c**2*r)/(c**2*r**2))*(-c**4*r/(-2*G*M + c**2*r)**2 + c**2/(-2*G*M + c**2*r)) + 1.0*(-2*G*M + c**2*r)*(-c**4*r/(-2*G*M + c**2*r)**2 + c**2/(-2*G*M + c**2*r))/(c**2*r**2), 0, 0], [0, 0, 0.5*r*(-1/r - (2*G*M - c**2*r)/(c**2*r**2)) - 0.5*(-2*G*M + c**2*r)**2*(-c**4*r/(-2*G*M + c**2*r)**2 + c**2/(-2*G*M + c**2*r))/(c**4*r), 0], [0, 0, 0, 0.5*r*(-1/r - (2*G*M - c**2*r)/(c**2*r**2))*sin(theta)**2 - 0.5*(-2*G*M + c**2*r)**2*(-c**4*r/(-2*G*M + c**2*r)**2 + c**2/(-2*G*M + c**2*r))*sin(theta)**2/(c**4*r)]]'\u001B[0m\n",
      "\u001B[32m2024-12-14 18:49:21.570\u001B[0m | \u001B[34m\u001B[1mDEBUG   \u001B[0m | \u001B[36mrelativisticpy.state.scopes\u001B[0m:\u001B[36minit_tensor\u001B[0m:\u001B[36m263\u001B[0m - \u001B[34m\u001B[1mAttempting to initiating 'g^{s}^{q}' by equation from cached tensors.\u001B[0m\n",
      "\u001B[32m2024-12-14 18:49:21.570\u001B[0m | \u001B[34m\u001B[1mDEBUG   \u001B[0m | \u001B[36mrelativisticpy.state.scopes\u001B[0m:\u001B[36minit_tensor\u001B[0m:\u001B[36m266\u001B[0m - \u001B[34m\u001B[1mIdentified 'g^{s}^{q}' to be a Metric. Initializing Metric from Metric.\u001B[0m\n",
      "\u001B[32m2024-12-14 18:49:21.571\u001B[0m | \u001B[34m\u001B[1mDEBUG   \u001B[0m | \u001B[36mrelativisticpy.state.scopes\u001B[0m:\u001B[36mmetric_tensor\u001B[0m:\u001B[36m102\u001B[0m - \u001B[34m\u001B[1mFound 1 Metric Tensor Objects in scope.\u001B[0m\n",
      "\u001B[32m2024-12-14 18:49:21.571\u001B[0m | \u001B[34m\u001B[1mDEBUG   \u001B[0m | \u001B[36mrelativisticpy.state.scopes\u001B[0m:\u001B[36mmetric_tensor\u001B[0m:\u001B[36m103\u001B[0m - \u001B[34m\u001B[1mReturning <relativisticpy.diffgeom.metric.Metric object at 0x1085d0b10>.\u001B[0m\n",
      "\u001B[32m2024-12-14 18:49:21.572\u001B[0m | \u001B[34m\u001B[1mDEBUG   \u001B[0m | \u001B[36mrelativisticpy.state.scopes\u001B[0m:\u001B[36mmetric_tensor\u001B[0m:\u001B[36m206\u001B[0m - \u001B[34m\u001B[1mFound metric tensor in scope with components: '[[(2*G*M - c**2*r)/(c**2*r), 0, 0, 0], [0, c**2*r/(-2*G*M + c**2*r), 0, 0], [0, 0, r**2, 0], [0, 0, 0, r**2*sin(theta)**2]]'\u001B[0m\n",
      "\u001B[32m2024-12-14 18:49:21.572\u001B[0m | \u001B[34m\u001B[1mDEBUG   \u001B[0m | \u001B[36mrelativisticpy.state.scopes\u001B[0m:\u001B[36mmetric_tensor\u001B[0m:\u001B[36m102\u001B[0m - \u001B[34m\u001B[1mFound 1 Metric Tensor Objects in scope.\u001B[0m\n",
      "\u001B[32m2024-12-14 18:49:21.573\u001B[0m | \u001B[34m\u001B[1mDEBUG   \u001B[0m | \u001B[36mrelativisticpy.state.scopes\u001B[0m:\u001B[36mmetric_tensor\u001B[0m:\u001B[36m103\u001B[0m - \u001B[34m\u001B[1mReturning <relativisticpy.diffgeom.metric.Metric object at 0x1085d0b10>.\u001B[0m\n",
      "\u001B[32m2024-12-14 18:49:21.668\u001B[0m | \u001B[34m\u001B[1mDEBUG   \u001B[0m | \u001B[36mrelativisticpy.state.scopes\u001B[0m:\u001B[36minit_tensor\u001B[0m:\u001B[36m271\u001B[0m - \u001B[34m\u001B[1mComputed components of 'g^{s}^{q}' to be: '[[-c**2*r/(-2*G*M + c**2*r), 0, 0, 0], [0, (-2*G*M + c**2*r)/(c**2*r), 0, 0], [0, 0, r**(-2), 0], [0, 0, 0, 1/(r**2*sin(theta)**2)]]'\u001B[0m\n",
      "\u001B[32m2024-12-14 18:49:21.669\u001B[0m | \u001B[34m\u001B[1mDEBUG   \u001B[0m | \u001B[36mrelativisticpy.state.scopes\u001B[0m:\u001B[36mset_tensor\u001B[0m:\u001B[36m184\u001B[0m - \u001B[34m\u001B[1mCaching new tensor 'g' with components '[[-c**2*r/(-2*G*M + c**2*r), 0, 0, 0], [0, (-2*G*M + c**2*r)/(c**2*r), 0, 0], [0, 0, r**(-2), 0], [0, 0, 0, 1/(r**2*sin(theta)**2)]]'\u001B[0m\n",
      "\u001B[32m2024-12-14 18:49:21.669\u001B[0m | \u001B[34m\u001B[1mDEBUG   \u001B[0m | \u001B[36mrelativisticpy.state.scopes\u001B[0m:\u001B[36minit_tensor\u001B[0m:\u001B[36m263\u001B[0m - \u001B[34m\u001B[1mAttempting to initiating 'g^{h}^{c}' by equation from cached tensors.\u001B[0m\n",
      "\u001B[32m2024-12-14 18:49:21.669\u001B[0m | \u001B[34m\u001B[1mDEBUG   \u001B[0m | \u001B[36mrelativisticpy.state.scopes\u001B[0m:\u001B[36minit_tensor\u001B[0m:\u001B[36m266\u001B[0m - \u001B[34m\u001B[1mIdentified 'g^{h}^{c}' to be a Metric. Initializing Metric from Metric.\u001B[0m\n",
      "\u001B[32m2024-12-14 18:49:21.670\u001B[0m | \u001B[34m\u001B[1mDEBUG   \u001B[0m | \u001B[36mrelativisticpy.state.scopes\u001B[0m:\u001B[36mmetric_tensor\u001B[0m:\u001B[36m102\u001B[0m - \u001B[34m\u001B[1mFound 1 Metric Tensor Objects in scope.\u001B[0m\n",
      "\u001B[32m2024-12-14 18:49:21.670\u001B[0m | \u001B[34m\u001B[1mDEBUG   \u001B[0m | \u001B[36mrelativisticpy.state.scopes\u001B[0m:\u001B[36mmetric_tensor\u001B[0m:\u001B[36m103\u001B[0m - \u001B[34m\u001B[1mReturning <relativisticpy.diffgeom.metric.Metric object at 0x107ee0890>.\u001B[0m\n",
      "\u001B[32m2024-12-14 18:49:21.671\u001B[0m | \u001B[34m\u001B[1mDEBUG   \u001B[0m | \u001B[36mrelativisticpy.state.scopes\u001B[0m:\u001B[36mmetric_tensor\u001B[0m:\u001B[36m206\u001B[0m - \u001B[34m\u001B[1mFound metric tensor in scope with components: '[[-c**2*r/(-2*G*M + c**2*r), 0, 0, 0], [0, (-2*G*M + c**2*r)/(c**2*r), 0, 0], [0, 0, r**(-2), 0], [0, 0, 0, 1/(r**2*sin(theta)**2)]]'\u001B[0m\n",
      "\u001B[32m2024-12-14 18:49:21.672\u001B[0m | \u001B[34m\u001B[1mDEBUG   \u001B[0m | \u001B[36mrelativisticpy.state.scopes\u001B[0m:\u001B[36mmetric_tensor\u001B[0m:\u001B[36m102\u001B[0m - \u001B[34m\u001B[1mFound 1 Metric Tensor Objects in scope.\u001B[0m\n",
      "\u001B[32m2024-12-14 18:49:21.672\u001B[0m | \u001B[34m\u001B[1mDEBUG   \u001B[0m | \u001B[36mrelativisticpy.state.scopes\u001B[0m:\u001B[36mmetric_tensor\u001B[0m:\u001B[36m103\u001B[0m - \u001B[34m\u001B[1mReturning <relativisticpy.diffgeom.metric.Metric object at 0x107ee0890>.\u001B[0m\n",
      "\u001B[32m2024-12-14 18:49:21.673\u001B[0m | \u001B[34m\u001B[1mDEBUG   \u001B[0m | \u001B[36mrelativisticpy.state.scopes\u001B[0m:\u001B[36minit_tensor\u001B[0m:\u001B[36m271\u001B[0m - \u001B[34m\u001B[1mComputed components of 'g^{h}^{c}' to be: '[[-c**2*r/(-2*G*M + c**2*r), 0, 0, 0], [0, (-2*G*M + c**2*r)/(c**2*r), 0, 0], [0, 0, r**(-2), 0], [0, 0, 0, 1/(r**2*sin(theta)**2)]]'\u001B[0m\n",
      "\u001B[32m2024-12-14 18:49:21.674\u001B[0m | \u001B[34m\u001B[1mDEBUG   \u001B[0m | \u001B[36mrelativisticpy.state.scopes\u001B[0m:\u001B[36mset_tensor\u001B[0m:\u001B[36m184\u001B[0m - \u001B[34m\u001B[1mCaching new tensor 'g' with components '[[-c**2*r/(-2*G*M + c**2*r), 0, 0, 0], [0, (-2*G*M + c**2*r)/(c**2*r), 0, 0], [0, 0, r**(-2), 0], [0, 0, 0, 1/(r**2*sin(theta)**2)]]'\u001B[0m\n",
      "\u001B[32m2024-12-14 18:49:21.674\u001B[0m | \u001B[34m\u001B[1mDEBUG   \u001B[0m | \u001B[36mrelativisticpy.state.scopes\u001B[0m:\u001B[36minit_tensor\u001B[0m:\u001B[36m263\u001B[0m - \u001B[34m\u001B[1mAttempting to initiating 'g^{f}^{b}' by equation from cached tensors.\u001B[0m\n",
      "\u001B[32m2024-12-14 18:49:21.675\u001B[0m | \u001B[34m\u001B[1mDEBUG   \u001B[0m | \u001B[36mrelativisticpy.state.scopes\u001B[0m:\u001B[36minit_tensor\u001B[0m:\u001B[36m266\u001B[0m - \u001B[34m\u001B[1mIdentified 'g^{f}^{b}' to be a Metric. Initializing Metric from Metric.\u001B[0m\n",
      "\u001B[32m2024-12-14 18:49:21.675\u001B[0m | \u001B[34m\u001B[1mDEBUG   \u001B[0m | \u001B[36mrelativisticpy.state.scopes\u001B[0m:\u001B[36mmetric_tensor\u001B[0m:\u001B[36m102\u001B[0m - \u001B[34m\u001B[1mFound 1 Metric Tensor Objects in scope.\u001B[0m\n",
      "\u001B[32m2024-12-14 18:49:21.675\u001B[0m | \u001B[34m\u001B[1mDEBUG   \u001B[0m | \u001B[36mrelativisticpy.state.scopes\u001B[0m:\u001B[36mmetric_tensor\u001B[0m:\u001B[36m103\u001B[0m - \u001B[34m\u001B[1mReturning <relativisticpy.diffgeom.metric.Metric object at 0x108304250>.\u001B[0m\n",
      "\u001B[32m2024-12-14 18:49:21.676\u001B[0m | \u001B[34m\u001B[1mDEBUG   \u001B[0m | \u001B[36mrelativisticpy.state.scopes\u001B[0m:\u001B[36mmetric_tensor\u001B[0m:\u001B[36m206\u001B[0m - \u001B[34m\u001B[1mFound metric tensor in scope with components: '[[-c**2*r/(-2*G*M + c**2*r), 0, 0, 0], [0, (-2*G*M + c**2*r)/(c**2*r), 0, 0], [0, 0, r**(-2), 0], [0, 0, 0, 1/(r**2*sin(theta)**2)]]'\u001B[0m\n",
      "\u001B[32m2024-12-14 18:49:21.676\u001B[0m | \u001B[34m\u001B[1mDEBUG   \u001B[0m | \u001B[36mrelativisticpy.state.scopes\u001B[0m:\u001B[36mmetric_tensor\u001B[0m:\u001B[36m102\u001B[0m - \u001B[34m\u001B[1mFound 1 Metric Tensor Objects in scope.\u001B[0m\n",
      "\u001B[32m2024-12-14 18:49:21.677\u001B[0m | \u001B[34m\u001B[1mDEBUG   \u001B[0m | \u001B[36mrelativisticpy.state.scopes\u001B[0m:\u001B[36mmetric_tensor\u001B[0m:\u001B[36m103\u001B[0m - \u001B[34m\u001B[1mReturning <relativisticpy.diffgeom.metric.Metric object at 0x108304250>.\u001B[0m\n",
      "\u001B[32m2024-12-14 18:49:21.678\u001B[0m | \u001B[34m\u001B[1mDEBUG   \u001B[0m | \u001B[36mrelativisticpy.state.scopes\u001B[0m:\u001B[36minit_tensor\u001B[0m:\u001B[36m271\u001B[0m - \u001B[34m\u001B[1mComputed components of 'g^{f}^{b}' to be: '[[-c**2*r/(-2*G*M + c**2*r), 0, 0, 0], [0, (-2*G*M + c**2*r)/(c**2*r), 0, 0], [0, 0, r**(-2), 0], [0, 0, 0, 1/(r**2*sin(theta)**2)]]'\u001B[0m\n",
      "\u001B[32m2024-12-14 18:49:21.679\u001B[0m | \u001B[34m\u001B[1mDEBUG   \u001B[0m | \u001B[36mrelativisticpy.state.scopes\u001B[0m:\u001B[36mset_tensor\u001B[0m:\u001B[36m184\u001B[0m - \u001B[34m\u001B[1mCaching new tensor 'g' with components '[[-c**2*r/(-2*G*M + c**2*r), 0, 0, 0], [0, (-2*G*M + c**2*r)/(c**2*r), 0, 0], [0, 0, r**(-2), 0], [0, 0, 0, 1/(r**2*sin(theta)**2)]]'\u001B[0m\n",
      "\u001B[32m2024-12-14 18:49:21.679\u001B[0m | \u001B[34m\u001B[1mDEBUG   \u001B[0m | \u001B[36mrelativisticpy.state.scopes\u001B[0m:\u001B[36minit_tensor\u001B[0m:\u001B[36m263\u001B[0m - \u001B[34m\u001B[1mAttempting to initiating 'Riemann^{a}_{b}_{c}_{q}' by equation from cached tensors.\u001B[0m\n",
      "\u001B[32m2024-12-14 18:49:21.707\u001B[0m | \u001B[34m\u001B[1mDEBUG   \u001B[0m | \u001B[36mrelativisticpy.state.scopes\u001B[0m:\u001B[36mset_tensor\u001B[0m:\u001B[36m184\u001B[0m - \u001B[34m\u001B[1mCaching new tensor 'Riemann' with components '[[[[0, 0, 0, 0], [0, 0, 0, 0], [0, 0, 0, 0], [0, 0, 0, 0]], [[0, -0.25*c**4*r**2*(-1/r - (2*G*M - c**2*r)/(c**2*r**2))**2/(-2*G*M + c**2*r)**2 - 0.5*c**4*r*(-1/r - (2*G*M - c**2*r)/(c**2*r**2))/(-2*G*M + c**2*r)**2 + 0.5*c**2*r*(2/r**2 + 2*(2*G*M - c**2*r)/(c**2*r**3))/(-2*G*M + c**2*r) + 0.5*c**2*(-1/r - (2*G*M - c**2*r)/(c**2*r**2))/(-2*G*M + c**2*r) - 0.25*(-1/r - (2*G*M - c**2*r)/(c**2*r**2))*(-c**4*r/(-2*G*M + c**2*r)**2 + c**2/(-2*G*M + c**2*r)), 0, 0], [0.25*c**4*r**2*(-1/r - (2*G*M - c**2*r)/(c**2*r**2))**2/(-2*G*M + c**2*r)**2 + 0.5*c**4*r*(-1/r - (2*G*M - c**2*r)/(c**2*r**2))/(-2*G*M + c**2*r)**2 - 0.5*c**2*r*(2/r**2 + 2*(2*G*M - c**2*r)/(c**2*r**3))/(-2*G*M + c**2*r) - 0.5*c**2*(-1/r - (2*G*M - c**2*r)/(c**2*r**2))/(-2*G*M + c**2*r) + 0.25*(-1/r - (2*G*M - c**2*r)/(c**2*r**2))*(-c**4*r/(-2*G*M + c**2*r)**2 + c**2/(-2*G*M + c**2*r)), 0, 0, 0], [0, 0, 0, 0], [0, 0, 0, 0]], [[0, 0, 0.5*r*(-1/r - (2*G*M - c**2*r)/(c**2*r**2)), 0], [0, 0, 0, 0], [-0.5*r*(-1/r - (2*G*M - c**2*r)/(c**2*r**2)), 0, 0, 0], [0, 0, 0, 0]], [[0, 0, 0, 0.5*r*(-1/r - (2*G*M - c**2*r)/(c**2*r**2))*sin(theta)**2], [0, 0, 0, 0], [0, 0, 0, 0], [-0.5*r*(-1/r - (2*G*M - c**2*r)/(c**2*r**2))*sin(theta)**2, 0, 0, 0]]], [[[0, -0.25*(-1/r - (2*G*M - c**2*r)/(c**2*r**2))*(1/r + (2*G*M - c**2*r)/(c**2*r**2)) - 0.5*(1/r + (2*G*M - c**2*r)/(c**2*r**2))/r - 0.5*(-2/r**2 - 2*(2*G*M - c**2*r)/(c**2*r**3))*(-2*G*M + c**2*r)/(c**2*r) + 0.5*(1/r + (2*G*M - c**2*r)/(c**2*r**2))*(-2*G*M + c**2*r)/(c**2*r**2) - 0.25*(1/r + (2*G*M - c**2*r)/(c**2*r**2))*(-2*G*M + c**2*r)**2*(-c**4*r/(-2*G*M + c**2*r)**2 + c**2/(-2*G*M + c**2*r))/(c**4*r**2), 0, 0], [0.25*(-1/r - (2*G*M - c**2*r)/(c**2*r**2))*(1/r + (2*G*M - c**2*r)/(c**2*r**2)) + 0.5*(1/r + (2*G*M - c**2*r)/(c**2*r**2))/r + 0.5*(-2/r**2 - 2*(2*G*M - c**2*r)/(c**2*r**3))*(-2*G*M + c**2*r)/(c**2*r) - 0.5*(1/r + (2*G*M - c**2*r)/(c**2*r**2))*(-2*G*M + c**2*r)/(c**2*r**2) + 0.25*(1/r + (2*G*M - c**2*r)/(c**2*r**2))*(-2*G*M + c**2*r)**2*(-c**4*r/(-2*G*M + c**2*r)**2 + c**2/(-2*G*M + c**2*r))/(c**4*r**2), 0, 0, 0], [0, 0, 0, 0], [0, 0, 0, 0]], [[0, 0, 0, 0], [0, 0, 0, 0], [0, 0, 0, 0], [0, 0, 0, 0]], [[0, 0, 0, 0], [0, 0, -1.0 + 1.0*(-2*G*M + c**2*r)/(c**2*r) - 0.5*(-2*G*M + c**2*r)**2*(-c**4*r/(-2*G*M + c**2*r)**2 + c**2/(-2*G*M + c**2*r))/(c**4*r), 0], [0, 1.0 - 1.0*(-2*G*M + c**2*r)/(c**2*r) + 0.5*(-2*G*M + c**2*r)**2*(-c**4*r/(-2*G*M + c**2*r)**2 + c**2/(-2*G*M + c**2*r))/(c**4*r), 0, 0], [0, 0, 0, 0]], [[0, 0, 0, 0], [0, 0, 0, -1.0*sin(theta)**2 + 1.0*(-2*G*M + c**2*r)*sin(theta)**2/(c**2*r) - 0.5*(-2*G*M + c**2*r)**2*(-c**4*r/(-2*G*M + c**2*r)**2 + c**2/(-2*G*M + c**2*r))*sin(theta)**2/(c**4*r)], [0, 0, 0, 0], [0, 1.0*sin(theta)**2 - 1.0*(-2*G*M + c**2*r)*sin(theta)**2/(c**2*r) + 0.5*(-2*G*M + c**2*r)**2*(-c**4*r/(-2*G*M + c**2*r)**2 + c**2/(-2*G*M + c**2*r))*sin(theta)**2/(c**4*r), 0, 0]]], [[[0, 0, -0.5*(1/r + (2*G*M - c**2*r)/(c**2*r**2))*(-2*G*M + c**2*r)/(c**2*r**2), 0], [0, 0, 0, 0], [0.5*(1/r + (2*G*M - c**2*r)/(c**2*r**2))*(-2*G*M + c**2*r)/(c**2*r**2), 0, 0, 0], [0, 0, 0, 0]], [[0, 0, 0, 0], [0, 0, -0.5*(-2*G*M + c**2*r)*(-c**4*r/(-2*G*M + c**2*r)**2 + c**2/(-2*G*M + c**2*r))/(c**2*r**2), 0], [0, 0.5*(-2*G*M + c**2*r)*(-c**4*r/(-2*G*M + c**2*r)**2 + c**2/(-2*G*M + c**2*r))/(c**2*r**2), 0, 0], [0, 0, 0, 0]], [[0, 0, 0, 0], [0, 0, 0, 0], [0, 0, 0, 0], [0, 0, 0, 0]], [[0, 0, 0, 0], [0, 0, 0, 0], [0, 0, 0, 1.0*sin(theta)**2 - 1.0*(-2*G*M + c**2*r)*sin(theta)**2/(c**2*r)], [0, 0, -1.0*sin(theta)**2 + 1.0*(-2*G*M + c**2*r)*sin(theta)**2/(c**2*r), 0]]], [[[0, 0, 0, -0.5*(1/r + (2*G*M - c**2*r)/(c**2*r**2))*(-2*G*M + c**2*r)/(c**2*r**2)], [0, 0, 0, 0], [0, 0, 0, 0], [0.5*(1/r + (2*G*M - c**2*r)/(c**2*r**2))*(-2*G*M + c**2*r)/(c**2*r**2), 0, 0, 0]], [[0, 0, 0, 0], [0, 0, 0, -0.5*(-2*G*M + c**2*r)*(-c**4*r/(-2*G*M + c**2*r)**2 + c**2/(-2*G*M + c**2*r))/(c**2*r**2)], [0, 0, 0, 0], [0, 0.5*(-2*G*M + c**2*r)*(-c**4*r/(-2*G*M + c**2*r)**2 + c**2/(-2*G*M + c**2*r))/(c**2*r**2), 0, 0]], [[0, 0, 0, 0], [0, 0, 0, 0], [0, 0, 0, -1.0 + 1.0*(-2*G*M + c**2*r)/(c**2*r)], [0, 0, 1.0 - 1.0*(-2*G*M + c**2*r)/(c**2*r), 0]], [[0, 0, 0, 0], [0, 0, 0, 0], [0, 0, 0, 0], [0, 0, 0, 0]]]]'\u001B[0m\n",
      "\u001B[32m2024-12-14 18:49:21.708\u001B[0m | \u001B[34m\u001B[1mDEBUG   \u001B[0m | \u001B[36mrelativisticpy.workbook.ast_visitor\u001B[0m:\u001B[36mmul\u001B[0m:\u001B[36m110\u001B[0m - \u001B[34m\u001B[1mMultiplying <relativisticpy.diffgeom.metric.Metric object at 0x10835fe50> * <relativisticpy.diffgeom.tensor.Tensor object at 0x1082e0350> at position TokenPosition(start_pos=Position(line=17, character=49), end_pos=Position(line=17, character=50))\u001B[0m\n",
      "\u001B[32m2024-12-14 18:49:21.811\u001B[0m | \u001B[34m\u001B[1mDEBUG   \u001B[0m | \u001B[36mrelativisticpy.workbook.ast_visitor\u001B[0m:\u001B[36mmul\u001B[0m:\u001B[36m110\u001B[0m - \u001B[34m\u001B[1mMultiplying <relativisticpy.diffgeom.metric.Metric object at 0x10776a990> * <relativisticpy.diffgeom.tensor.Tensor object at 0x107393b90> at position TokenPosition(start_pos=Position(line=17, character=38), end_pos=Position(line=17, character=39))\u001B[0m\n",
      "\u001B[32m2024-12-14 18:49:21.897\u001B[0m | \u001B[34m\u001B[1mDEBUG   \u001B[0m | \u001B[36mrelativisticpy.workbook.ast_visitor\u001B[0m:\u001B[36mmul\u001B[0m:\u001B[36m110\u001B[0m - \u001B[34m\u001B[1mMultiplying <relativisticpy.diffgeom.metric.Metric object at 0x107be6d90> * <relativisticpy.diffgeom.tensor.Tensor object at 0x107bf7f90> at position TokenPosition(start_pos=Position(line=17, character=27), end_pos=Position(line=17, character=28))\u001B[0m\n",
      "\u001B[32m2024-12-14 18:49:22.020\u001B[0m | \u001B[34m\u001B[1mDEBUG   \u001B[0m | \u001B[36mrelativisticpy.state.scopes\u001B[0m:\u001B[36mset_tensor\u001B[0m:\u001B[36m184\u001B[0m - \u001B[34m\u001B[1mCaching new tensor 'TempOne' with components '[[[[0, 0, 0, 0], [0, 0, 0, 0], [0, 0, 0, 0], [0, 0, 0, 0]], [[0, (-2*G*M + c**2*r)*(0.25*c**4*r**2*(-1/r - (2*G*M - c**2*r)/(c**2*r**2))**2/(-2*G*M + c**2*r)**2 + 0.5*c**4*r*(-1/r - (2*G*M - c**2*r)/(c**2*r**2))/(-2*G*M + c**2*r)**2 - 0.5*c**2*r*(2/r**2 + 2*(2*G*M - c**2*r)/(c**2*r**3))/(-2*G*M + c**2*r) - 0.5*c**2*(-1/r - (2*G*M - c**2*r)/(c**2*r**2))/(-2*G*M + c**2*r) + 0.25*(-1/r - (2*G*M - c**2*r)/(c**2*r**2))*(-c**4*r/(-2*G*M + c**2*r)**2 + c**2/(-2*G*M + c**2*r)))/(c**2*r), 0, 0], [-(-2*G*M + c**2*r)*(0.25*c**4*r**2*(-1/r - (2*G*M - c**2*r)/(c**2*r**2))**2/(-2*G*M + c**2*r)**2 + 0.5*c**4*r*(-1/r - (2*G*M - c**2*r)/(c**2*r**2))/(-2*G*M + c**2*r)**2 - 0.5*c**2*r*(2/r**2 + 2*(2*G*M - c**2*r)/(c**2*r**3))/(-2*G*M + c**2*r) - 0.5*c**2*(-1/r - (2*G*M - c**2*r)/(c**2*r**2))/(-2*G*M + c**2*r) + 0.25*(-1/r - (2*G*M - c**2*r)/(c**2*r**2))*(-c**4*r/(-2*G*M + c**2*r)**2 + c**2/(-2*G*M + c**2*r)))/(c**2*r), 0, 0, 0], [0, 0, 0, 0], [0, 0, 0, 0]], [[0, 0, -0.5*c**2*(-1/r - (2*G*M - c**2*r)/(c**2*r**2))/(r**2*(-2*G*M + c**2*r)), 0], [0, 0, 0, 0], [0.5*c**2*(-1/r - (2*G*M - c**2*r)/(c**2*r**2))/(r**2*(-2*G*M + c**2*r)), 0, 0, 0], [0, 0, 0, 0]], [[0, 0, 0, -0.5*c**2*(-1/r - (2*G*M - c**2*r)/(c**2*r**2))/(r**2*(-2*G*M + c**2*r)*sin(theta)**2)], [0, 0, 0, 0], [0, 0, 0, 0], [0.5*c**2*(-1/r - (2*G*M - c**2*r)/(c**2*r**2))/(r**2*(-2*G*M + c**2*r)*sin(theta)**2), 0, 0, 0]]], [[[0, c**2*r*(-0.25*(-1/r - (2*G*M - c**2*r)/(c**2*r**2))*(1/r + (2*G*M - c**2*r)/(c**2*r**2)) - 0.5*(1/r + (2*G*M - c**2*r)/(c**2*r**2))/r - 0.5*(-2/r**2 - 2*(2*G*M - c**2*r)/(c**2*r**3))*(-2*G*M + c**2*r)/(c**2*r) + 0.5*(1/r + (2*G*M - c**2*r)/(c**2*r**2))*(-2*G*M + c**2*r)/(c**2*r**2) - 0.25*(1/r + (2*G*M - c**2*r)/(c**2*r**2))*(-2*G*M + c**2*r)**2*(-c**4*r/(-2*G*M + c**2*r)**2 + c**2/(-2*G*M + c**2*r))/(c**4*r**2))/(-2*G*M + c**2*r), 0, 0], [-c**2*r*(-0.25*(-1/r - (2*G*M - c**2*r)/(c**2*r**2))*(1/r + (2*G*M - c**2*r)/(c**2*r**2)) - 0.5*(1/r + (2*G*M - c**2*r)/(c**2*r**2))/r - 0.5*(-2/r**2 - 2*(2*G*M - c**2*r)/(c**2*r**3))*(-2*G*M + c**2*r)/(c**2*r) + 0.5*(1/r + (2*G*M - c**2*r)/(c**2*r**2))*(-2*G*M + c**2*r)/(c**2*r**2) - 0.25*(1/r + (2*G*M - c**2*r)/(c**2*r**2))*(-2*G*M + c**2*r)**2*(-c**4*r/(-2*G*M + c**2*r)**2 + c**2/(-2*G*M + c**2*r))/(c**4*r**2))/(-2*G*M + c**2*r), 0, 0, 0], [0, 0, 0, 0], [0, 0, 0, 0]], [[0, 0, 0, 0], [0, 0, 0, 0], [0, 0, 0, 0], [0, 0, 0, 0]], [[0, 0, 0, 0], [0, 0, (-2*G*M + c**2*r)*(-1.0 + 1.0*(-2*G*M + c**2*r)/(c**2*r) - 0.5*(-2*G*M + c**2*r)**2*(-c**4*r/(-2*G*M + c**2*r)**2 + c**2/(-2*G*M + c**2*r))/(c**4*r))/(c**2*r**5), 0], [0, (-2*G*M + c**2*r)*(1.0 - 1.0*(-2*G*M + c**2*r)/(c**2*r) + 0.5*(-2*G*M + c**2*r)**2*(-c**4*r/(-2*G*M + c**2*r)**2 + c**2/(-2*G*M + c**2*r))/(c**4*r))/(c**2*r**5), 0, 0], [0, 0, 0, 0]], [[0, 0, 0, 0], [0, 0, 0, (-2*G*M + c**2*r)*(-1.0*sin(theta)**2 + 1.0*(-2*G*M + c**2*r)*sin(theta)**2/(c**2*r) - 0.5*(-2*G*M + c**2*r)**2*(-c**4*r/(-2*G*M + c**2*r)**2 + c**2/(-2*G*M + c**2*r))*sin(theta)**2/(c**4*r))/(c**2*r**5*sin(theta)**4)], [0, 0, 0, 0], [0, (-2*G*M + c**2*r)*(1.0*sin(theta)**2 - 1.0*(-2*G*M + c**2*r)*sin(theta)**2/(c**2*r) + 0.5*(-2*G*M + c**2*r)**2*(-c**4*r/(-2*G*M + c**2*r)**2 + c**2/(-2*G*M + c**2*r))*sin(theta)**2/(c**4*r))/(c**2*r**5*sin(theta)**4), 0, 0]]], [[[0, 0, -0.5*c**2*(1/r + (2*G*M - c**2*r)/(c**2*r**2))/(r**2*(-2*G*M + c**2*r)), 0], [0, 0, 0, 0], [0.5*c**2*(1/r + (2*G*M - c**2*r)/(c**2*r**2))/(r**2*(-2*G*M + c**2*r)), 0, 0, 0], [0, 0, 0, 0]], [[0, 0, 0, 0], [0, 0, -0.5*(-2*G*M + c**2*r)**3*(-c**4*r/(-2*G*M + c**2*r)**2 + c**2/(-2*G*M + c**2*r))/(c**6*r**6), 0], [0, 0.5*(-2*G*M + c**2*r)**3*(-c**4*r/(-2*G*M + c**2*r)**2 + c**2/(-2*G*M + c**2*r))/(c**6*r**6), 0, 0], [0, 0, 0, 0]], [[0, 0, 0, 0], [0, 0, 0, 0], [0, 0, 0, 0], [0, 0, 0, 0]], [[0, 0, 0, 0], [0, 0, 0, 0], [0, 0, 0, (1.0*sin(theta)**2 - 1.0*(-2*G*M + c**2*r)*sin(theta)**2/(c**2*r))/(r**6*sin(theta)**4)], [0, 0, (-1.0*sin(theta)**2 + 1.0*(-2*G*M + c**2*r)*sin(theta)**2/(c**2*r))/(r**6*sin(theta)**4), 0]]], [[[0, 0, 0, -0.5*c**2*(1/r + (2*G*M - c**2*r)/(c**2*r**2))/(r**2*(-2*G*M + c**2*r)*sin(theta)**2)], [0, 0, 0, 0], [0, 0, 0, 0], [0.5*c**2*(1/r + (2*G*M - c**2*r)/(c**2*r**2))/(r**2*(-2*G*M + c**2*r)*sin(theta)**2), 0, 0, 0]], [[0, 0, 0, 0], [0, 0, 0, -0.5*(-2*G*M + c**2*r)**3*(-c**4*r/(-2*G*M + c**2*r)**2 + c**2/(-2*G*M + c**2*r))/(c**6*r**6*sin(theta)**2)], [0, 0, 0, 0], [0, 0.5*(-2*G*M + c**2*r)**3*(-c**4*r/(-2*G*M + c**2*r)**2 + c**2/(-2*G*M + c**2*r))/(c**6*r**6*sin(theta)**2), 0, 0]], [[0, 0, 0, 0], [0, 0, 0, 0], [0, 0, 0, (-1.0 + 1.0*(-2*G*M + c**2*r)/(c**2*r))/(r**6*sin(theta)**2)], [0, 0, (1.0 - 1.0*(-2*G*M + c**2*r)/(c**2*r))/(r**6*sin(theta)**2), 0]], [[0, 0, 0, 0], [0, 0, 0, 0], [0, 0, 0, 0], [0, 0, 0, 0]]]]'\u001B[0m\n",
      "\u001B[32m2024-12-14 18:49:22.021\u001B[0m | \u001B[34m\u001B[1mDEBUG   \u001B[0m | \u001B[36mrelativisticpy.state.scopes\u001B[0m:\u001B[36minit_tensor\u001B[0m:\u001B[36m263\u001B[0m - \u001B[34m\u001B[1mAttempting to initiating 'g_{a}_{n}' by equation from cached tensors.\u001B[0m\n",
      "\u001B[32m2024-12-14 18:49:22.021\u001B[0m | \u001B[34m\u001B[1mDEBUG   \u001B[0m | \u001B[36mrelativisticpy.state.scopes\u001B[0m:\u001B[36minit_tensor\u001B[0m:\u001B[36m266\u001B[0m - \u001B[34m\u001B[1mIdentified 'g_{a}_{n}' to be a Metric. Initializing Metric from Metric.\u001B[0m\n",
      "\u001B[32m2024-12-14 18:49:22.022\u001B[0m | \u001B[34m\u001B[1mDEBUG   \u001B[0m | \u001B[36mrelativisticpy.state.scopes\u001B[0m:\u001B[36mmetric_tensor\u001B[0m:\u001B[36m102\u001B[0m - \u001B[34m\u001B[1mFound 1 Metric Tensor Objects in scope.\u001B[0m\n",
      "\u001B[32m2024-12-14 18:49:22.022\u001B[0m | \u001B[34m\u001B[1mDEBUG   \u001B[0m | \u001B[36mrelativisticpy.state.scopes\u001B[0m:\u001B[36mmetric_tensor\u001B[0m:\u001B[36m103\u001B[0m - \u001B[34m\u001B[1mReturning <relativisticpy.diffgeom.metric.Metric object at 0x1080a4f50>.\u001B[0m\n",
      "\u001B[32m2024-12-14 18:49:22.023\u001B[0m | \u001B[34m\u001B[1mDEBUG   \u001B[0m | \u001B[36mrelativisticpy.state.scopes\u001B[0m:\u001B[36mmetric_tensor\u001B[0m:\u001B[36m206\u001B[0m - \u001B[34m\u001B[1mFound metric tensor in scope with components: '[[-c**2*r/(-2*G*M + c**2*r), 0, 0, 0], [0, (-2*G*M + c**2*r)/(c**2*r), 0, 0], [0, 0, r**(-2), 0], [0, 0, 0, 1/(r**2*sin(theta)**2)]]'\u001B[0m\n",
      "\u001B[32m2024-12-14 18:49:22.024\u001B[0m | \u001B[34m\u001B[1mDEBUG   \u001B[0m | \u001B[36mrelativisticpy.state.scopes\u001B[0m:\u001B[36mmetric_tensor\u001B[0m:\u001B[36m102\u001B[0m - \u001B[34m\u001B[1mFound 1 Metric Tensor Objects in scope.\u001B[0m\n",
      "\u001B[32m2024-12-14 18:49:22.024\u001B[0m | \u001B[34m\u001B[1mDEBUG   \u001B[0m | \u001B[36mrelativisticpy.state.scopes\u001B[0m:\u001B[36mmetric_tensor\u001B[0m:\u001B[36m103\u001B[0m - \u001B[34m\u001B[1mReturning <relativisticpy.diffgeom.metric.Metric object at 0x1080a4f50>.\u001B[0m\n",
      "\u001B[32m2024-12-14 18:49:22.126\u001B[0m | \u001B[34m\u001B[1mDEBUG   \u001B[0m | \u001B[36mrelativisticpy.state.scopes\u001B[0m:\u001B[36minit_tensor\u001B[0m:\u001B[36m271\u001B[0m - \u001B[34m\u001B[1mComputed components of 'g_{a}_{n}' to be: '[[(2*G*M - c**2*r)/(c**2*r), 0, 0, 0], [0, c**2*r/(-2*G*M + c**2*r), 0, 0], [0, 0, r**2, 0], [0, 0, 0, r**2*sin(theta)**2]]'\u001B[0m\n",
      "\u001B[32m2024-12-14 18:49:22.127\u001B[0m | \u001B[34m\u001B[1mDEBUG   \u001B[0m | \u001B[36mrelativisticpy.state.scopes\u001B[0m:\u001B[36mset_tensor\u001B[0m:\u001B[36m184\u001B[0m - \u001B[34m\u001B[1mCaching new tensor 'g' with components '[[(2*G*M - c**2*r)/(c**2*r), 0, 0, 0], [0, c**2*r/(-2*G*M + c**2*r), 0, 0], [0, 0, r**2, 0], [0, 0, 0, r**2*sin(theta)**2]]'\u001B[0m\n",
      "\u001B[32m2024-12-14 18:49:22.128\u001B[0m | \u001B[34m\u001B[1mDEBUG   \u001B[0m | \u001B[36mrelativisticpy.state.scopes\u001B[0m:\u001B[36minit_tensor\u001B[0m:\u001B[36m263\u001B[0m - \u001B[34m\u001B[1mAttempting to initiating 'Riemann^{n}_{f}_{h}_{s}' by equation from cached tensors.\u001B[0m\n",
      "\u001B[32m2024-12-14 18:49:22.159\u001B[0m | \u001B[34m\u001B[1mDEBUG   \u001B[0m | \u001B[36mrelativisticpy.state.scopes\u001B[0m:\u001B[36mset_tensor\u001B[0m:\u001B[36m184\u001B[0m - \u001B[34m\u001B[1mCaching new tensor 'Riemann' with components '[[[[0, 0, 0, 0], [0, 0, 0, 0], [0, 0, 0, 0], [0, 0, 0, 0]], [[0, -0.25*c**4*r**2*(-1/r - (2*G*M - c**2*r)/(c**2*r**2))**2/(-2*G*M + c**2*r)**2 - 0.5*c**4*r*(-1/r - (2*G*M - c**2*r)/(c**2*r**2))/(-2*G*M + c**2*r)**2 + 0.5*c**2*r*(2/r**2 + 2*(2*G*M - c**2*r)/(c**2*r**3))/(-2*G*M + c**2*r) + 0.5*c**2*(-1/r - (2*G*M - c**2*r)/(c**2*r**2))/(-2*G*M + c**2*r) - 0.25*(-1/r - (2*G*M - c**2*r)/(c**2*r**2))*(-c**4*r/(-2*G*M + c**2*r)**2 + c**2/(-2*G*M + c**2*r)), 0, 0], [0.25*c**4*r**2*(-1/r - (2*G*M - c**2*r)/(c**2*r**2))**2/(-2*G*M + c**2*r)**2 + 0.5*c**4*r*(-1/r - (2*G*M - c**2*r)/(c**2*r**2))/(-2*G*M + c**2*r)**2 - 0.5*c**2*r*(2/r**2 + 2*(2*G*M - c**2*r)/(c**2*r**3))/(-2*G*M + c**2*r) - 0.5*c**2*(-1/r - (2*G*M - c**2*r)/(c**2*r**2))/(-2*G*M + c**2*r) + 0.25*(-1/r - (2*G*M - c**2*r)/(c**2*r**2))*(-c**4*r/(-2*G*M + c**2*r)**2 + c**2/(-2*G*M + c**2*r)), 0, 0, 0], [0, 0, 0, 0], [0, 0, 0, 0]], [[0, 0, 0.5*r*(-1/r - (2*G*M - c**2*r)/(c**2*r**2)), 0], [0, 0, 0, 0], [-0.5*r*(-1/r - (2*G*M - c**2*r)/(c**2*r**2)), 0, 0, 0], [0, 0, 0, 0]], [[0, 0, 0, 0.5*r*(-1/r - (2*G*M - c**2*r)/(c**2*r**2))*sin(theta)**2], [0, 0, 0, 0], [0, 0, 0, 0], [-0.5*r*(-1/r - (2*G*M - c**2*r)/(c**2*r**2))*sin(theta)**2, 0, 0, 0]]], [[[0, -0.25*(-1/r - (2*G*M - c**2*r)/(c**2*r**2))*(1/r + (2*G*M - c**2*r)/(c**2*r**2)) - 0.5*(1/r + (2*G*M - c**2*r)/(c**2*r**2))/r - 0.5*(-2/r**2 - 2*(2*G*M - c**2*r)/(c**2*r**3))*(-2*G*M + c**2*r)/(c**2*r) + 0.5*(1/r + (2*G*M - c**2*r)/(c**2*r**2))*(-2*G*M + c**2*r)/(c**2*r**2) - 0.25*(1/r + (2*G*M - c**2*r)/(c**2*r**2))*(-2*G*M + c**2*r)**2*(-c**4*r/(-2*G*M + c**2*r)**2 + c**2/(-2*G*M + c**2*r))/(c**4*r**2), 0, 0], [0.25*(-1/r - (2*G*M - c**2*r)/(c**2*r**2))*(1/r + (2*G*M - c**2*r)/(c**2*r**2)) + 0.5*(1/r + (2*G*M - c**2*r)/(c**2*r**2))/r + 0.5*(-2/r**2 - 2*(2*G*M - c**2*r)/(c**2*r**3))*(-2*G*M + c**2*r)/(c**2*r) - 0.5*(1/r + (2*G*M - c**2*r)/(c**2*r**2))*(-2*G*M + c**2*r)/(c**2*r**2) + 0.25*(1/r + (2*G*M - c**2*r)/(c**2*r**2))*(-2*G*M + c**2*r)**2*(-c**4*r/(-2*G*M + c**2*r)**2 + c**2/(-2*G*M + c**2*r))/(c**4*r**2), 0, 0, 0], [0, 0, 0, 0], [0, 0, 0, 0]], [[0, 0, 0, 0], [0, 0, 0, 0], [0, 0, 0, 0], [0, 0, 0, 0]], [[0, 0, 0, 0], [0, 0, -1.0 + 1.0*(-2*G*M + c**2*r)/(c**2*r) - 0.5*(-2*G*M + c**2*r)**2*(-c**4*r/(-2*G*M + c**2*r)**2 + c**2/(-2*G*M + c**2*r))/(c**4*r), 0], [0, 1.0 - 1.0*(-2*G*M + c**2*r)/(c**2*r) + 0.5*(-2*G*M + c**2*r)**2*(-c**4*r/(-2*G*M + c**2*r)**2 + c**2/(-2*G*M + c**2*r))/(c**4*r), 0, 0], [0, 0, 0, 0]], [[0, 0, 0, 0], [0, 0, 0, -1.0*sin(theta)**2 + 1.0*(-2*G*M + c**2*r)*sin(theta)**2/(c**2*r) - 0.5*(-2*G*M + c**2*r)**2*(-c**4*r/(-2*G*M + c**2*r)**2 + c**2/(-2*G*M + c**2*r))*sin(theta)**2/(c**4*r)], [0, 0, 0, 0], [0, 1.0*sin(theta)**2 - 1.0*(-2*G*M + c**2*r)*sin(theta)**2/(c**2*r) + 0.5*(-2*G*M + c**2*r)**2*(-c**4*r/(-2*G*M + c**2*r)**2 + c**2/(-2*G*M + c**2*r))*sin(theta)**2/(c**4*r), 0, 0]]], [[[0, 0, -0.5*(1/r + (2*G*M - c**2*r)/(c**2*r**2))*(-2*G*M + c**2*r)/(c**2*r**2), 0], [0, 0, 0, 0], [0.5*(1/r + (2*G*M - c**2*r)/(c**2*r**2))*(-2*G*M + c**2*r)/(c**2*r**2), 0, 0, 0], [0, 0, 0, 0]], [[0, 0, 0, 0], [0, 0, -0.5*(-2*G*M + c**2*r)*(-c**4*r/(-2*G*M + c**2*r)**2 + c**2/(-2*G*M + c**2*r))/(c**2*r**2), 0], [0, 0.5*(-2*G*M + c**2*r)*(-c**4*r/(-2*G*M + c**2*r)**2 + c**2/(-2*G*M + c**2*r))/(c**2*r**2), 0, 0], [0, 0, 0, 0]], [[0, 0, 0, 0], [0, 0, 0, 0], [0, 0, 0, 0], [0, 0, 0, 0]], [[0, 0, 0, 0], [0, 0, 0, 0], [0, 0, 0, 1.0*sin(theta)**2 - 1.0*(-2*G*M + c**2*r)*sin(theta)**2/(c**2*r)], [0, 0, -1.0*sin(theta)**2 + 1.0*(-2*G*M + c**2*r)*sin(theta)**2/(c**2*r), 0]]], [[[0, 0, 0, -0.5*(1/r + (2*G*M - c**2*r)/(c**2*r**2))*(-2*G*M + c**2*r)/(c**2*r**2)], [0, 0, 0, 0], [0, 0, 0, 0], [0.5*(1/r + (2*G*M - c**2*r)/(c**2*r**2))*(-2*G*M + c**2*r)/(c**2*r**2), 0, 0, 0]], [[0, 0, 0, 0], [0, 0, 0, -0.5*(-2*G*M + c**2*r)*(-c**4*r/(-2*G*M + c**2*r)**2 + c**2/(-2*G*M + c**2*r))/(c**2*r**2)], [0, 0, 0, 0], [0, 0.5*(-2*G*M + c**2*r)*(-c**4*r/(-2*G*M + c**2*r)**2 + c**2/(-2*G*M + c**2*r))/(c**2*r**2), 0, 0]], [[0, 0, 0, 0], [0, 0, 0, 0], [0, 0, 0, -1.0 + 1.0*(-2*G*M + c**2*r)/(c**2*r)], [0, 0, 1.0 - 1.0*(-2*G*M + c**2*r)/(c**2*r), 0]], [[0, 0, 0, 0], [0, 0, 0, 0], [0, 0, 0, 0], [0, 0, 0, 0]]]]'\u001B[0m\n",
      "\u001B[32m2024-12-14 18:49:22.160\u001B[0m | \u001B[34m\u001B[1mDEBUG   \u001B[0m | \u001B[36mrelativisticpy.workbook.ast_visitor\u001B[0m:\u001B[36mmul\u001B[0m:\u001B[36m110\u001B[0m - \u001B[34m\u001B[1mMultiplying <relativisticpy.diffgeom.metric.Metric object at 0x1082f4f50> * <relativisticpy.diffgeom.tensor.Tensor object at 0x107c28350> at position TokenPosition(start_pos=Position(line=19, character=27), end_pos=Position(line=19, character=28))\u001B[0m\n",
      "\u001B[32m2024-12-14 18:49:22.292\u001B[0m | \u001B[34m\u001B[1mDEBUG   \u001B[0m | \u001B[36mrelativisticpy.state.scopes\u001B[0m:\u001B[36mset_tensor\u001B[0m:\u001B[36m184\u001B[0m - \u001B[34m\u001B[1mCaching new tensor 'TempTwo' with components '[[[[0, 0, 0, 0], [0, 0, 0, 0], [0, 0, 0, 0], [0, 0, 0, 0]], [[0, (2*G*M - c**2*r)*(-0.25*c**4*r**2*(-1/r - (2*G*M - c**2*r)/(c**2*r**2))**2/(-2*G*M + c**2*r)**2 - 0.5*c**4*r*(-1/r - (2*G*M - c**2*r)/(c**2*r**2))/(-2*G*M + c**2*r)**2 + 0.5*c**2*r*(2/r**2 + 2*(2*G*M - c**2*r)/(c**2*r**3))/(-2*G*M + c**2*r) + 0.5*c**2*(-1/r - (2*G*M - c**2*r)/(c**2*r**2))/(-2*G*M + c**2*r) - 0.25*(-1/r - (2*G*M - c**2*r)/(c**2*r**2))*(-c**4*r/(-2*G*M + c**2*r)**2 + c**2/(-2*G*M + c**2*r)))/(c**2*r), 0, 0], [(2*G*M - c**2*r)*(0.25*c**4*r**2*(-1/r - (2*G*M - c**2*r)/(c**2*r**2))**2/(-2*G*M + c**2*r)**2 + 0.5*c**4*r*(-1/r - (2*G*M - c**2*r)/(c**2*r**2))/(-2*G*M + c**2*r)**2 - 0.5*c**2*r*(2/r**2 + 2*(2*G*M - c**2*r)/(c**2*r**3))/(-2*G*M + c**2*r) - 0.5*c**2*(-1/r - (2*G*M - c**2*r)/(c**2*r**2))/(-2*G*M + c**2*r) + 0.25*(-1/r - (2*G*M - c**2*r)/(c**2*r**2))*(-c**4*r/(-2*G*M + c**2*r)**2 + c**2/(-2*G*M + c**2*r)))/(c**2*r), 0, 0, 0], [0, 0, 0, 0], [0, 0, 0, 0]], [[0, 0, 0.5*(-1/r - (2*G*M - c**2*r)/(c**2*r**2))*(2*G*M - c**2*r)/c**2, 0], [0, 0, 0, 0], [-0.5*(-1/r - (2*G*M - c**2*r)/(c**2*r**2))*(2*G*M - c**2*r)/c**2, 0, 0, 0], [0, 0, 0, 0]], [[0, 0, 0, 0.5*(-1/r - (2*G*M - c**2*r)/(c**2*r**2))*(2*G*M - c**2*r)*sin(theta)**2/c**2], [0, 0, 0, 0], [0, 0, 0, 0], [-0.5*(-1/r - (2*G*M - c**2*r)/(c**2*r**2))*(2*G*M - c**2*r)*sin(theta)**2/c**2, 0, 0, 0]]], [[[0, c**2*r*(-0.25*(-1/r - (2*G*M - c**2*r)/(c**2*r**2))*(1/r + (2*G*M - c**2*r)/(c**2*r**2)) - 0.5*(1/r + (2*G*M - c**2*r)/(c**2*r**2))/r - 0.5*(-2/r**2 - 2*(2*G*M - c**2*r)/(c**2*r**3))*(-2*G*M + c**2*r)/(c**2*r) + 0.5*(1/r + (2*G*M - c**2*r)/(c**2*r**2))*(-2*G*M + c**2*r)/(c**2*r**2) - 0.25*(1/r + (2*G*M - c**2*r)/(c**2*r**2))*(-2*G*M + c**2*r)**2*(-c**4*r/(-2*G*M + c**2*r)**2 + c**2/(-2*G*M + c**2*r))/(c**4*r**2))/(-2*G*M + c**2*r), 0, 0], [c**2*r*(0.25*(-1/r - (2*G*M - c**2*r)/(c**2*r**2))*(1/r + (2*G*M - c**2*r)/(c**2*r**2)) + 0.5*(1/r + (2*G*M - c**2*r)/(c**2*r**2))/r + 0.5*(-2/r**2 - 2*(2*G*M - c**2*r)/(c**2*r**3))*(-2*G*M + c**2*r)/(c**2*r) - 0.5*(1/r + (2*G*M - c**2*r)/(c**2*r**2))*(-2*G*M + c**2*r)/(c**2*r**2) + 0.25*(1/r + (2*G*M - c**2*r)/(c**2*r**2))*(-2*G*M + c**2*r)**2*(-c**4*r/(-2*G*M + c**2*r)**2 + c**2/(-2*G*M + c**2*r))/(c**4*r**2))/(-2*G*M + c**2*r), 0, 0, 0], [0, 0, 0, 0], [0, 0, 0, 0]], [[0, 0, 0, 0], [0, 0, 0, 0], [0, 0, 0, 0], [0, 0, 0, 0]], [[0, 0, 0, 0], [0, 0, c**2*r*(-1.0 + 1.0*(-2*G*M + c**2*r)/(c**2*r) - 0.5*(-2*G*M + c**2*r)**2*(-c**4*r/(-2*G*M + c**2*r)**2 + c**2/(-2*G*M + c**2*r))/(c**4*r))/(-2*G*M + c**2*r), 0], [0, c**2*r*(1.0 - 1.0*(-2*G*M + c**2*r)/(c**2*r) + 0.5*(-2*G*M + c**2*r)**2*(-c**4*r/(-2*G*M + c**2*r)**2 + c**2/(-2*G*M + c**2*r))/(c**4*r))/(-2*G*M + c**2*r), 0, 0], [0, 0, 0, 0]], [[0, 0, 0, 0], [0, 0, 0, c**2*r*(-1.0*sin(theta)**2 + 1.0*(-2*G*M + c**2*r)*sin(theta)**2/(c**2*r) - 0.5*(-2*G*M + c**2*r)**2*(-c**4*r/(-2*G*M + c**2*r)**2 + c**2/(-2*G*M + c**2*r))*sin(theta)**2/(c**4*r))/(-2*G*M + c**2*r)], [0, 0, 0, 0], [0, c**2*r*(1.0*sin(theta)**2 - 1.0*(-2*G*M + c**2*r)*sin(theta)**2/(c**2*r) + 0.5*(-2*G*M + c**2*r)**2*(-c**4*r/(-2*G*M + c**2*r)**2 + c**2/(-2*G*M + c**2*r))*sin(theta)**2/(c**4*r))/(-2*G*M + c**2*r), 0, 0]]], [[[0, 0, -0.5*(1/r + (2*G*M - c**2*r)/(c**2*r**2))*(-2*G*M + c**2*r)/c**2, 0], [0, 0, 0, 0], [0.5*(1/r + (2*G*M - c**2*r)/(c**2*r**2))*(-2*G*M + c**2*r)/c**2, 0, 0, 0], [0, 0, 0, 0]], [[0, 0, 0, 0], [0, 0, -0.5*(-2*G*M + c**2*r)*(-c**4*r/(-2*G*M + c**2*r)**2 + c**2/(-2*G*M + c**2*r))/c**2, 0], [0, 0.5*(-2*G*M + c**2*r)*(-c**4*r/(-2*G*M + c**2*r)**2 + c**2/(-2*G*M + c**2*r))/c**2, 0, 0], [0, 0, 0, 0]], [[0, 0, 0, 0], [0, 0, 0, 0], [0, 0, 0, 0], [0, 0, 0, 0]], [[0, 0, 0, 0], [0, 0, 0, 0], [0, 0, 0, r**2*(1.0*sin(theta)**2 - 1.0*(-2*G*M + c**2*r)*sin(theta)**2/(c**2*r))], [0, 0, r**2*(-1.0*sin(theta)**2 + 1.0*(-2*G*M + c**2*r)*sin(theta)**2/(c**2*r)), 0]]], [[[0, 0, 0, -0.5*(1/r + (2*G*M - c**2*r)/(c**2*r**2))*(-2*G*M + c**2*r)*sin(theta)**2/c**2], [0, 0, 0, 0], [0, 0, 0, 0], [0.5*(1/r + (2*G*M - c**2*r)/(c**2*r**2))*(-2*G*M + c**2*r)*sin(theta)**2/c**2, 0, 0, 0]], [[0, 0, 0, 0], [0, 0, 0, -0.5*(-2*G*M + c**2*r)*(-c**4*r/(-2*G*M + c**2*r)**2 + c**2/(-2*G*M + c**2*r))*sin(theta)**2/c**2], [0, 0, 0, 0], [0, 0.5*(-2*G*M + c**2*r)*(-c**4*r/(-2*G*M + c**2*r)**2 + c**2/(-2*G*M + c**2*r))*sin(theta)**2/c**2, 0, 0]], [[0, 0, 0, 0], [0, 0, 0, 0], [0, 0, 0, r**2*(-1.0 + 1.0*(-2*G*M + c**2*r)/(c**2*r))*sin(theta)**2], [0, 0, r**2*(1.0 - 1.0*(-2*G*M + c**2*r)/(c**2*r))*sin(theta)**2, 0]], [[0, 0, 0, 0], [0, 0, 0, 0], [0, 0, 0, 0], [0, 0, 0, 0]]]]'\u001B[0m\n",
      "\u001B[32m2024-12-14 18:49:22.293\u001B[0m | \u001B[34m\u001B[1mDEBUG   \u001B[0m | \u001B[36mrelativisticpy.state.scopes\u001B[0m:\u001B[36minit_tensor\u001B[0m:\u001B[36m263\u001B[0m - \u001B[34m\u001B[1mAttempting to initiating 'TempOne^{a}^{f}^{h}^{s}' by equation from cached tensors.\u001B[0m\n",
      "\u001B[32m2024-12-14 18:49:22.296\u001B[0m | \u001B[34m\u001B[1mDEBUG   \u001B[0m | \u001B[36mrelativisticpy.state.scopes\u001B[0m:\u001B[36minit_tensor\u001B[0m:\u001B[36m263\u001B[0m - \u001B[34m\u001B[1mAttempting to initiating 'TempTwo_{a}_{f}_{h}_{s}' by equation from cached tensors.\u001B[0m\n",
      "\u001B[32m2024-12-14 18:49:22.299\u001B[0m | \u001B[34m\u001B[1mDEBUG   \u001B[0m | \u001B[36mrelativisticpy.workbook.ast_visitor\u001B[0m:\u001B[36mmul\u001B[0m:\u001B[36m110\u001B[0m - \u001B[34m\u001B[1mMultiplying <relativisticpy.diffgeom.tensor.Tensor object at 0x107c68e10> * <relativisticpy.diffgeom.tensor.Tensor object at 0x1082fcd90> at position TokenPosition(start_pos=Position(line=21, character=5), end_pos=Position(line=21, character=12))\u001B[0m\n",
      "\u001B[32m2024-12-14 18:49:22.633\u001B[0m | \u001B[34m\u001B[1mDEBUG   \u001B[0m | \u001B[36mrelativisticpy.workbook.ast_visitor\u001B[0m:\u001B[36mint\u001B[0m:\u001B[36m122\u001B[0m - \u001B[34m\u001B[1mCasting to Integer: 0 at position TokenPosition(start_pos=Position(line=25, character=11), end_pos=Position(line=25, character=12))\u001B[0m\n",
      "\u001B[32m2024-12-14 18:49:22.633\u001B[0m | \u001B[34m\u001B[1mDEBUG   \u001B[0m | \u001B[36mrelativisticpy.workbook.ast_visitor\u001B[0m:\u001B[36mint\u001B[0m:\u001B[36m122\u001B[0m - \u001B[34m\u001B[1mCasting to Integer: 0 at position TokenPosition(start_pos=Position(line=25, character=17), end_pos=Position(line=25, character=18))\u001B[0m\n",
      "\u001B[32m2024-12-14 18:49:22.634\u001B[0m | \u001B[34m\u001B[1mDEBUG   \u001B[0m | \u001B[36mrelativisticpy.workbook.ast_visitor\u001B[0m:\u001B[36mint\u001B[0m:\u001B[36m122\u001B[0m - \u001B[34m\u001B[1mCasting to Integer: 0 at position TokenPosition(start_pos=Position(line=25, character=23), end_pos=Position(line=25, character=24))\u001B[0m\n",
      "\u001B[32m2024-12-14 18:49:22.634\u001B[0m | \u001B[34m\u001B[1mDEBUG   \u001B[0m | \u001B[36mrelativisticpy.workbook.ast_visitor\u001B[0m:\u001B[36mint\u001B[0m:\u001B[36m122\u001B[0m - \u001B[34m\u001B[1mCasting to Integer: 0 at position TokenPosition(start_pos=Position(line=25, character=29), end_pos=Position(line=25, character=30))\u001B[0m\n",
      "\u001B[32m2024-12-14 18:49:22.634\u001B[0m | \u001B[34m\u001B[1mDEBUG   \u001B[0m | \u001B[36mrelativisticpy.state.scopes\u001B[0m:\u001B[36minit_tensor\u001B[0m:\u001B[36m263\u001B[0m - \u001B[34m\u001B[1mAttempting to initiating 'TempTwo_{a}_{f}_{h}_{s}' by equation from cached tensors.\u001B[0m\n"
     ]
    }
   ],
   "execution_count": 8
  },
  {
   "metadata": {
    "ExecuteTime": {
     "end_time": "2024-12-14T18:50:05.052628Z",
     "start_time": "2024-12-14T18:50:05.048350Z"
    }
   },
   "cell_type": "code",
   "source": [
    "from relativisticpy.symengine import simplify\n",
    "res[4]"
   ],
   "outputs": [
    {
     "data": {
      "text/plain": [
       "0"
      ],
      "text/latex": "$\\displaystyle 0$"
     },
     "execution_count": 16,
     "metadata": {},
     "output_type": "execute_result"
    }
   ],
   "execution_count": 16
  },
  {
   "metadata": {
    "ExecuteTime": {
     "end_time": "2024-12-13T13:46:31.240621Z",
     "start_time": "2024-12-13T13:46:31.235729Z"
    }
   },
   "cell_type": "code",
   "source": "\"y = 1 + 1 - x\"",
   "outputs": [
    {
     "data": {
      "text/plain": [
       "'y = 1 + 1 - x'"
      ]
     },
     "execution_count": 7,
     "metadata": {},
     "output_type": "execute_result"
    }
   ],
   "execution_count": 7
  },
  {
   "metadata": {
    "ExecuteTime": {
     "end_time": "2024-12-13T13:46:33.636744Z",
     "start_time": "2024-12-13T13:46:33.634875Z"
    }
   },
   "cell_type": "code",
   "source": "",
   "outputs": [],
   "execution_count": 7
  },
  {
   "metadata": {
    "ExecuteTime": {
     "end_time": "2024-11-24T15:02:38.281299Z",
     "start_time": "2024-11-24T15:02:38.278435Z"
    }
   },
   "cell_type": "code",
   "source": [
    "ir = [\n",
    "    {\n",
    "        \"instruction\": \"STORE_INT\",\n",
    "        \"args\": [\"1\"],\n",
    "    },\n",
    "    {\n",
    "        \"instruction\": \"STORE_INT\",\n",
    "        \"args\": [\"1\"],\n",
    "    },\n",
    "    {\n",
    "        \"instruction\": \"ADD\",\n",
    "        \"args\": [],\n",
    "    },\n",
    "    {\n",
    "        \"instruction\": \"STORE_SYMBOL\",\n",
    "        \"args\": [\"x\"],\n",
    "    },\n",
    "    {\n",
    "        \"instruction\": \"SUBTRACT\",\n",
    "        \"args\": []\n",
    "    }\n",
    "]"
   ],
   "outputs": [],
   "execution_count": 23
  },
  {
   "metadata": {
    "ExecuteTime": {
     "end_time": "2024-11-24T15:02:38.938062Z",
     "start_time": "2024-11-24T15:02:38.935064Z"
    }
   },
   "cell_type": "code",
   "source": [
    "from sympy import symbols\n",
    "\n",
    "symbols('x')"
   ],
   "outputs": [
    {
     "data": {
      "text/plain": [
       "x"
      ],
      "text/latex": "$\\displaystyle x$"
     },
     "execution_count": 24,
     "metadata": {},
     "output_type": "execute_result"
    }
   ],
   "execution_count": 24
  },
  {
   "metadata": {
    "ExecuteTime": {
     "end_time": "2024-11-24T15:02:39.448271Z",
     "start_time": "2024-11-24T15:02:39.443437Z"
    }
   },
   "cell_type": "code",
   "source": [
    "def execute_instruction(instruction, stack):\n",
    "    if instruction[\"instruction\"] == \"STORE_INT\":\n",
    "        stack.append(int(instruction[\"args\"][0]))\n",
    "    elif instruction[\"instruction\"] == \"STORE_SYMBOL\":\n",
    "        stack.append(symbols(instruction[\"args\"][0]))\n",
    "    elif instruction[\"instruction\"] == \"ADD\":\n",
    "        stack.append(stack.pop() + stack.pop())\n",
    "    elif instruction[\"instruction\"] == \"SUBTRACT\":\n",
    "        stack.append(stack.pop() - stack.pop())\n",
    "    elif instruction[\"instruction\"] == \"STORE_TENSOR\":\n",
    "        stack.append(stack.pop() - stack.pop())\n",
    "    return stack\n",
    "\n",
    "def execute_instructions(instructions, stack):\n",
    "    for instruction in instructions:\n",
    "        stack = execute_instruction(instruction, stack)\n",
    "    return stack\n",
    "\n",
    "execute_instructions(ir, [])"
   ],
   "outputs": [
    {
     "data": {
      "text/plain": [
       "[x - 2]"
      ]
     },
     "execution_count": 25,
     "metadata": {},
     "output_type": "execute_result"
    }
   ],
   "execution_count": 25
  },
  {
   "metadata": {
    "ExecuteTime": {
     "end_time": "2024-09-12T14:46:36.545628Z",
     "start_time": "2024-09-12T14:46:36.503813Z"
    }
   },
   "cell_type": "code",
   "source": [
    "from sympy import symbols, expand, factor, simplify\n",
    "\n",
    "wb = Workbook()\n",
    "\n",
    "# Define variables\n",
    "wb.expr(\"Coordinates := [t, r, theta, phi]\")\n",
    "wb.expr(\"Constants := [C, G]\")\n",
    "wb.expr(\"Integers := [n, m]\")\n",
    "wb.expr(\"Reals := [x, y]\")\n",
    "wb.expr(\"Complex := [z, w]\")\n",
    "\n",
    "assert wb.expr(\"t*r + theta*phi\") == symbols('t') * symbols('r') + symbols('theta') * symbols('phi')\n",
    "assert wb.expr(\"C*G + n*m\") == symbols('C', constant=True) * symbols('G', constant=True) + symbols('n',\n",
    "                                                                                                   integer=True) * symbols(\n",
    "    'm', integer=True)\n",
    "assert wb.expr(\"x**y + z*w\") == symbols('x', real=True) ** symbols('y', real=True) + symbols('z',\n",
    "                                                                                             complex=True) * symbols(\n",
    "    'w', complex=True)\n",
    "\n",
    "# Test calculations involving sympy functions\n",
    "assert wb.expr(\"expand((t + r)**2)\") == expand((symbols('t') + symbols('r')) ** 2)\n",
    "assert wb.expr(\"simplify((C + G)**2 - C**2 - 2*C*G - G**2)\") == simplify(\n",
    "    (symbols('C', constant=True) + symbols('G', constant=True)) ** 2 - symbols('C',\n",
    "                                                                               constant=True) ** 2 - 2 * symbols(\n",
    "        'C', constant=True) * symbols('G', constant=True) - symbols('G', constant=True) ** 2)\n",
    "assert wb.expr(\"factor(n**2 - 2*n*m + m**2)\") == factor(\n",
    "    symbols('n', integer=True) ** 2 - 2 * symbols('n', integer=True) * symbols('m', integer=True) + symbols('m',\n",
    "                                                                                                            integer=True) ** 2)\n",
    "res = wb.expr(\n",
    "    \"\"\"\n",
    "        piecewise(x) := { x**2, x > 0; -x, x <= 0 }\n",
    "        piecewise(2) * piecewise(-2)\n",
    "\"\"\"\n",
    ")\n",
    "res"
   ],
   "outputs": [
    {
     "data": {
      "text/plain": [
       "(m - n)**2"
      ],
      "text/latex": "$\\displaystyle \\left(m - n\\right)^{2}$"
     },
     "execution_count": 5,
     "metadata": {},
     "output_type": "execute_result"
    }
   ],
   "execution_count": 5
  },
  {
   "metadata": {
    "ExecuteTime": {
     "end_time": "2024-08-24T18:06:49.254599Z",
     "start_time": "2024-08-24T18:06:49.243388Z"
    }
   },
   "cell_type": "code",
   "source": [
    "from functools import singledispatchmethod\n",
    "\n",
    "class Animal:\n",
    "    @singledispatchmethod\n",
    "    @classmethod\n",
    "    def handle(cls, animal):\n",
    "        print(f\"[Animal] Handling an Animal: {animal.__class__.__name__}\")\n",
    "\n",
    "    @handle.register\n",
    "    @classmethod\n",
    "    def _(cls, animal: 'Mammal'):\n",
    "        print(f\"[Animal] Handling a Mammal: {animal.__class__.__name__}\")\n",
    "\n",
    "class Mammal(Animal):\n",
    "    @singledispatchmethod\n",
    "    @classmethod\n",
    "    def handle(cls, animal):\n",
    "        super().handle(animal)  # Optionally call the parent's handler\n",
    "        print(f\"[Mammal] Handling a Mammal: {animal.__class__.__name__}\")\n",
    "\n",
    "    @handle.register\n",
    "    @classmethod\n",
    "    def _(cls, animal: 'Dog'):\n",
    "        print(f\"[Mammal] Handling a Dog: {animal.__class__.__name__}\")\n",
    "\n",
    "    @handle.register\n",
    "    @classmethod\n",
    "    def _(cls, animal: 'Cat'):\n",
    "        print(f\"[Mammal] Handling a Cat: {animal.__class__.__name__}\")\n",
    "\n",
    "class Dog(Mammal):\n",
    "    @singledispatchmethod\n",
    "    @classmethod\n",
    "    def handle(cls, animal):\n",
    "        super().handle(animal)  # Optionally call the parent's handler\n",
    "        print(f\"[Dog] Handling a Dog: {animal.__class__.__name__}\")\n",
    "\n",
    "    @handle.register\n",
    "    @classmethod\n",
    "    def _(cls, animal: 'Bulldog'):\n",
    "        print(f\"[Dog] Handling a Bulldog: {animal.__class__.__name__}\")\n",
    "\n",
    "class Cat(Mammal):\n",
    "    @singledispatchmethod\n",
    "    @classmethod\n",
    "    def handle(cls, animal):\n",
    "        super().handle(animal)  # Optionally call the parent's handler\n",
    "        print(f\"[Cat] Handling a Cat: {animal.__class__.__name__}\")\n",
    "\n",
    "    @handle.register\n",
    "    @classmethod\n",
    "    def _(cls, animal: 'Siamese'):\n",
    "        print(f\"[Cat] Handling a Siamese: {animal.__class__.__name__}\")\n",
    "\n",
    "class Bulldog(Dog):\n",
    "    pass\n",
    "\n",
    "class Siamese(Cat):\n",
    "    pass\n",
    "\n",
    "# Example Usage\n",
    "generic_animal = Animal()\n",
    "mammal = Mammal()\n",
    "dog = Dog()\n",
    "cat = Cat()\n",
    "bulldog = Bulldog()\n",
    "siamese = Siamese()\n",
    "\n",
    "print(\"Animal handling:\")\n",
    "Animal.handle(generic_animal)  # Output: [Animal] Handling an Animal: Animal\n",
    "\n",
    "print(\"\\nMammal handling:\")\n",
    "Mammal.handle(mammal)          # Output: [Animal] Handling a Mammal: qa\n",
    "\n",
    "print(\"\\nDog handling:\")\n",
    "Dog.handle(dog)                # Output: [Animal] Handling a Dog: Dog\n",
    "                               #         [Mammal] Handling a Dog: Dog\n",
    "                               #         [Dog] Handling a Dog: Dog\n",
    "\n",
    "print(\"\\nCat handling:\")\n",
    "Cat.handle(cat)                # Output: [Animal] Handling a Cat: Cat\n",
    "                               #         [Mammal] Handling a Cat: Cat\n",
    "                               #         [Cat] Handling a Cat: Cat\n",
    "\n",
    "print(\"\\nBulldog handling:\")\n",
    "Dog.handle(bulldog)            # Output: [Animal] Handling a Bulldog: Bulldog\n",
    "                               #         [Mammal] Handling a Bulldog: Bulldog\n",
    "                               #         [Dog] Handling a Bulldog: Bulldog\n",
    "\n",
    "print(\"\\nSiamese handling:\")\n",
    "Cat.handle(siamese)            # Output: [Animal] Handling a Siamese: Siamese\n",
    "                               #         [Mammal] Handling a Siamese: Siamese\n",
    "                               #         [Cat] Handling a Siamese: Siamese\n"
   ],
   "outputs": [
    {
     "name": "stdout",
     "output_type": "stream",
     "text": [
      "Animal handling:\n",
      "[Animal] Handling an Animal: Animal\n",
      "\n",
      "Mammal handling:\n",
      "[Animal] Handling an Animal: Mammal\n",
      "[Mammal] Handling a Mammal: Mammal\n",
      "\n",
      "Dog handling:\n",
      "[Animal] Handling an Animal: Dog\n",
      "[Mammal] Handling a Mammal: Dog\n",
      "[Dog] Handling a Dog: Dog\n",
      "\n",
      "Cat handling:\n",
      "[Animal] Handling an Animal: Cat\n",
      "[Mammal] Handling a Mammal: Cat\n",
      "[Cat] Handling a Cat: Cat\n",
      "\n",
      "Bulldog handling:\n",
      "[Animal] Handling an Animal: Bulldog\n",
      "[Mammal] Handling a Mammal: Bulldog\n",
      "[Dog] Handling a Dog: Bulldog\n",
      "\n",
      "Siamese handling:\n",
      "[Animal] Handling an Animal: Siamese\n",
      "[Mammal] Handling a Mammal: Siamese\n",
      "[Cat] Handling a Cat: Siamese\n"
     ]
    }
   ],
   "execution_count": 12
  },
  {
   "metadata": {},
   "cell_type": "code",
   "outputs": [],
   "execution_count": null,
   "source": ""
  },
  {
   "metadata": {
    "ExecuteTime": {
     "end_time": "2024-07-13T14:44:25.539688Z",
     "start_time": "2024-07-13T14:44:25.536469Z"
    }
   },
   "cell_type": "code",
   "source": [
    "from loguru import logger\n",
    "\n",
    "logger.debug(\"Hello\", level=\"INFO\")"
   ],
   "outputs": [],
   "execution_count": 8
  },
  {
   "metadata": {
    "ExecuteTime": {
     "end_time": "2024-08-10T16:06:49.651843Z",
     "start_time": "2024-08-10T16:06:49.646823Z"
    }
   },
   "cell_type": "code",
   "source": [
    "\n",
    "eval('str')"
   ],
   "outputs": [
    {
     "data": {
      "text/plain": [
       "str"
      ]
     },
     "execution_count": 65,
     "metadata": {},
     "output_type": "execute_result"
    }
   ],
   "execution_count": 65
  },
  {
   "metadata": {
    "ExecuteTime": {
     "end_time": "2024-08-10T15:45:37.255870Z",
     "start_time": "2024-08-10T15:45:37.253050Z"
    }
   },
   "cell_type": "code",
   "source": [
    "from pathlib import Path\n",
    "\n",
    "Path('/Users/ashleycottrell/code/repositories/relativisticpy/examples/alice.txt')"
   ],
   "outputs": [
    {
     "data": {
      "text/plain": [
       "'.txt'"
      ]
     },
     "execution_count": 63,
     "metadata": {},
     "output_type": "execute_result"
    }
   ],
   "execution_count": 63
  },
  {
   "metadata": {
    "ExecuteTime": {
     "end_time": "2024-07-13T17:19:35.218832Z",
     "start_time": "2024-07-13T17:19:35.209419Z"
    }
   },
   "cell_type": "code",
   "source": [
    "import heapq\n",
    "from collections import defaultdict\n",
    "\n",
    "class Node:\n",
    "    def __init__(self, symbol, weight):\n",
    "        self.symbol = symbol\n",
    "        self.weight = weight\n",
    "        self.left = None\n",
    "        self.right = None\n",
    "\n",
    "    def __lt__(self, other):\n",
    "        return self.weight < other.weight\n",
    "\n",
    "    def __eq__(self, other):\n",
    "        return self.weight == other.weight\n",
    "    \n",
    "    def __add__(self, other):\n",
    "        if not isinstance(other, Node):\n",
    "            return NotImplemented\n",
    "        elif self.symbol == other.symbol:\n",
    "            return self.weight + other.weight\n",
    "        else:\n",
    "            return NotImplemented\n",
    "\n",
    "class CustomDict(dict):\n",
    "    def __missing__(self, symbol):\n",
    "        self[symbol] = Node(symbol, 1)\n",
    "        return Node(symbol, 1)\n",
    "\n",
    "def huffman_encode(data):\n",
    "    # Step a: Frequency table\n",
    "    frequency = defaultdict(int)\n",
    "    for char in data:\n",
    "        frequency[char] += 1\n",
    "    \n",
    "    # Priority queue to build the Huffman Tree\n",
    "    heap = [[weight, [symbol, \"\"]] for symbol, weight in frequency.items()]\n",
    "    heapq.heapify(heap)\n",
    "    \n",
    "    # Step b: Huffman Tree \n",
    "    while len(heap) > 1:\n",
    "        lo = heapq.heappop(heap)\n",
    "        print(lo)\n",
    "        hi = heapq.heappop(heap)\n",
    "        print(hi)\n",
    "        for pair in lo[1:]:\n",
    "            pair[1] = '0' + pair[1]\n",
    "        for pair in hi[1:]:\n",
    "            pair[1] = '1' + pair[1]\n",
    "        heapq.heappush(heap, [lo[0] + hi[0]] + lo[1:] + hi[1:])\n",
    "        print([lo[0] + hi[0]] + lo[1:] + hi[1:])\n",
    "    \n",
    "    # Step c: Huffman codes\n",
    "    huffman_codes = {pair[0]: pair[1] for pair in heap[0][1:]}\n",
    "    \n",
    "    # Step e: Encoding\n",
    "    output = \"\".join(huffman_codes[char] for char in data)\n",
    "    return output, huffman_codes\n",
    "\n",
    "# Example usage\n",
    "data = \"this is an example for huffman encoding\"\n",
    "encoded_data, codes = huffman_encode(data)\n",
    "print(\"Encoded Data:\", encoded_data)\n",
    "print(\"Huffman Codes:\", codes)\n",
    "encoded_data"
   ],
   "outputs": [
    {
     "name": "stdout",
     "output_type": "stream",
     "text": [
      "[1, ['c', '']]\n",
      "[1, ['d', '']]\n",
      "[2, ['c', '0'], ['d', '1']]\n",
      "[1, ['g', '']]\n",
      "[1, ['l', '']]\n",
      "[2, ['g', '0'], ['l', '1']]\n",
      "[1, ['p', '']]\n",
      "[1, ['r', '']]\n",
      "[2, ['p', '0'], ['r', '1']]\n",
      "[1, ['t', '']]\n",
      "[1, ['u', '']]\n",
      "[2, ['t', '0'], ['u', '1']]\n",
      "[1, ['x', '']]\n",
      "[2, ['c', '0'], ['d', '1']]\n",
      "[3, ['x', '0'], ['c', '10'], ['d', '11']]\n",
      "[2, ['g', '0'], ['l', '1']]\n",
      "[2, ['h', '']]\n",
      "[4, ['g', '00'], ['l', '01'], ['h', '1']]\n",
      "[2, ['m', '']]\n",
      "[2, ['o', '']]\n",
      "[4, ['m', '0'], ['o', '1']]\n",
      "[2, ['p', '0'], ['r', '1']]\n",
      "[2, ['s', '']]\n",
      "[4, ['p', '00'], ['r', '01'], ['s', '1']]\n",
      "[2, ['t', '0'], ['u', '1']]\n",
      "[3, ['a', '']]\n",
      "[5, ['t', '00'], ['u', '01'], ['a', '1']]\n",
      "[3, ['e', '']]\n",
      "[3, ['f', '']]\n",
      "[6, ['e', '0'], ['f', '1']]\n",
      "[3, ['i', '']]\n",
      "[3, ['x', '0'], ['c', '10'], ['d', '11']]\n",
      "[6, ['i', '0'], ['x', '10'], ['c', '110'], ['d', '111']]\n",
      "[4, ['g', '00'], ['l', '01'], ['h', '1']]\n",
      "[4, ['m', '0'], ['o', '1']]\n",
      "[8, ['g', '000'], ['l', '001'], ['h', '01'], ['m', '10'], ['o', '11']]\n",
      "[4, ['n', '']]\n",
      "[4, ['p', '00'], ['r', '01'], ['s', '1']]\n",
      "[8, ['n', '0'], ['p', '100'], ['r', '101'], ['s', '11']]\n",
      "[5, ['t', '00'], ['u', '01'], ['a', '1']]\n",
      "[6, [' ', '']]\n",
      "[11, ['t', '000'], ['u', '001'], ['a', '01'], [' ', '1']]\n",
      "[6, ['e', '0'], ['f', '1']]\n",
      "[6, ['i', '0'], ['x', '10'], ['c', '110'], ['d', '111']]\n",
      "[12, ['e', '00'], ['f', '01'], ['i', '10'], ['x', '110'], ['c', '1110'], ['d', '1111']]\n",
      "[8, ['g', '000'], ['l', '001'], ['h', '01'], ['m', '10'], ['o', '11']]\n",
      "[8, ['n', '0'], ['p', '100'], ['r', '101'], ['s', '11']]\n",
      "[16, ['g', '0000'], ['l', '0001'], ['h', '001'], ['m', '010'], ['o', '011'], ['n', '10'], ['p', '1100'], ['r', '1101'], ['s', '111']]\n",
      "[11, ['t', '000'], ['u', '001'], ['a', '01'], [' ', '1']]\n",
      "[12, ['e', '00'], ['f', '01'], ['i', '10'], ['x', '110'], ['c', '1110'], ['d', '1111']]\n",
      "[23, ['t', '0000'], ['u', '0001'], ['a', '001'], [' ', '01'], ['e', '100'], ['f', '101'], ['i', '110'], ['x', '1110'], ['c', '11110'], ['d', '11111']]\n",
      "[16, ['g', '0000'], ['l', '0001'], ['h', '001'], ['m', '010'], ['o', '011'], ['n', '10'], ['p', '1100'], ['r', '1101'], ['s', '111']]\n",
      "[23, ['t', '0000'], ['u', '0001'], ['a', '001'], [' ', '01'], ['e', '100'], ['f', '101'], ['i', '110'], ['x', '1110'], ['c', '11110'], ['d', '11111']]\n",
      "[39, ['g', '00000'], ['l', '00001'], ['h', '0001'], ['m', '0010'], ['o', '0011'], ['n', '010'], ['p', '01100'], ['r', '01101'], ['s', '0111'], ['t', '10000'], ['u', '10001'], ['a', '1001'], [' ', '101'], ['e', '1100'], ['f', '1101'], ['i', '1110'], ['x', '11110'], ['c', '111110'], ['d', '111111']]\n",
      "Encoded Data: 1000000011110011110111100111101100101010111001111010010010011000000111001011101001101101101000110001110111010010100101010111000101111100011111111111001000000\n",
      "Huffman Codes: {'g': '00000', 'l': '00001', 'h': '0001', 'm': '0010', 'o': '0011', 'n': '010', 'p': '01100', 'r': '01101', 's': '0111', 't': '10000', 'u': '10001', 'a': '1001', ' ': '101', 'e': '1100', 'f': '1101', 'i': '1110', 'x': '11110', 'c': '111110', 'd': '111111'}\n"
     ]
    },
    {
     "data": {
      "text/plain": [
       "'1000000011110011110111100111101100101010111001111010010010011000000111001011101001101101101000110001110111010010100101010111000101111100011111111111001000000'"
      ]
     },
     "execution_count": 284,
     "metadata": {},
     "output_type": "execute_result"
    }
   ],
   "execution_count": 284
  },
  {
   "metadata": {
    "ExecuteTime": {
     "end_time": "2024-07-13T16:23:23.406392Z",
     "start_time": "2024-07-13T16:23:23.398845Z"
    }
   },
   "cell_type": "code",
   "source": [
    "encoded_data, codes = huffman_encode(encoded_data)\n",
    "print(\"Encoded Data:\", encoded_data)\n",
    "print(\"Huffman Codes:\", codes)"
   ],
   "outputs": [
    {
     "name": "stdout",
     "output_type": "stream",
     "text": [
      "Encoded Data: 1000000011110011110111100111101100101010111001111010010010011000000111001011101001101101101000110001110111010010100101010111000101111100011111111111001000000\n",
      "Huffman Codes: {'0': '0', '1': '1'}\n"
     ]
    }
   ],
   "execution_count": 205
  },
  {
   "metadata": {
    "ExecuteTime": {
     "end_time": "2024-07-13T18:21:09.134926Z",
     "start_time": "2024-07-13T18:21:08.964851Z"
    }
   },
   "cell_type": "code",
   "source": [
    "import json\n",
    "import heapq\n",
    "\n",
    "class HuffmanNode:\n",
    "    \n",
    "    def __init__(self, weight, symbol: str = None):\n",
    "        self.symbol = symbol\n",
    "        self.weight = weight\n",
    "        self.parent = None\n",
    "        self.p_pointer: str = \"\"\n",
    "        self.left = None\n",
    "        self.right = None\n",
    "    \n",
    "    @property\n",
    "    def is_leaf(self):\n",
    "        return self.left is None and self.right is None\n",
    "    \n",
    "    @property\n",
    "    def is_root(self):\n",
    "        return self.parent is None\n",
    "\n",
    "    def __lt__(self, other):\n",
    "        return self.weight < other.weight\n",
    "\n",
    "    def __eq__(self, other):\n",
    "        return self.weight == other.weight\n",
    "    \n",
    "    def __add__(self, other):\n",
    "        if isinstance(other, HuffmanNode):\n",
    "            parent = HuffmanNode(weight=self.weight + other.weight)\n",
    "            self.p_pointer = \"0\"\n",
    "            other.p_pointer = \"1\"\n",
    "            self.parent = parent\n",
    "            other.parent = parent\n",
    "            parent.left = self\n",
    "            parent.right = other\n",
    "            return parent\n",
    "\n",
    "    # Existing code...\n",
    "    def increment_weight(self):\n",
    "        self.weight += 1\n",
    "        \n",
    "    @property\n",
    "    def code(self):\n",
    "        if not self.is_leaf:\n",
    "            return None\n",
    "        code = \"\"\n",
    "        node = self\n",
    "        while node.parent:\n",
    "            code = code + node.p_pointer\n",
    "            node = node.parent        \n",
    "        return code[::-1]\n",
    "\n",
    "\n",
    "class HuffmanTree(dict):\n",
    "    \n",
    "    def __init__(self):\n",
    "        super().__init__()\n",
    "        self.original_data = None\n",
    "        self.encoded_data = None\n",
    "    \n",
    "    def __missing__(self, symbol):\n",
    "        self[symbol] = HuffmanNode(0, symbol)\n",
    "        return self[symbol]\n",
    "\n",
    "    def huffman_decode(self):\n",
    "        # Step a: Reverse the Huffman codes\n",
    "        reverse_codes = {v: k for k, v in self.codes.items()}\n",
    "        data = self.encoded_data\n",
    "        # Step b: Decoding\n",
    "        current_code = \"\"\n",
    "        decoded_data = \"\"\n",
    "        for bit in data:\n",
    "            current_code += bit\n",
    "            if current_code in reverse_codes:\n",
    "                decoded_data += reverse_codes[current_code]\n",
    "                current_code = \"\"\n",
    "    \n",
    "        return decoded_data\n",
    "\n",
    "    @classmethod\n",
    "    def compress_string(cls, data: str):\n",
    "        d = cls()\n",
    "        d.original_data = data\n",
    "        for char in data:\n",
    "            d[char].increment_weight()\n",
    "        \n",
    "        heap = [n for c, n in d.items()]\n",
    "        heapq.heapify(heap)\n",
    "\n",
    "        while len(heap) > 1:\n",
    "            lo = heapq.heappop(heap)\n",
    "            hi = heapq.heappop(heap)\n",
    "            parent = lo + hi\n",
    "            heapq.heappush(heap, parent)\n",
    "        d.encoded_data = \"\".join(d[symbol].code for symbol in d.original_data)\n",
    "        return d\n",
    "    \n",
    "    @property\n",
    "    def codes(self):\n",
    "        return {k: v.code for k, v in self.items()}\n",
    "\n",
    "\n",
    "    @classmethod\n",
    "    def from_file(cls, file_path):\n",
    "        with open(file_path, 'r', encoding='utf-8') as file:\n",
    "            data = file.read()\n",
    "        return cls.compress_string(data)\n",
    "    \n",
    "    def save_to_file(self, data_file, metadata_file):\n",
    "        # Save encoded data with a simple encoding map\n",
    "        encoded_info = {\n",
    "            'encoded_data_location': data_file,\n",
    "            'huffman_tree': self.serialize_tree(),\n",
    "            'original_length': len(self.original_data)\n",
    "        }\n",
    "        with open(metadata_file, 'w', encoding='utf-8') as file:\n",
    "            json.dump(encoded_info, file)\n",
    "        \n",
    "        self.write_binary_data(data_file, self.encoded_data)\n",
    "\n",
    "    def write_binary_data(self, filename, binary_string):\n",
    "        # Convert a string of '0' and '1' to a bytes object\n",
    "        byte_array = bytearray()\n",
    "        \n",
    "        # Process each 8 bits (1 byte) at a time\n",
    "        for i in range(0, len(binary_string), 8):\n",
    "            # Convert the string of bits to an integer and then to a byte\n",
    "            byte = int(binary_string[i:i+8], 2)\n",
    "            byte_array.append(byte)\n",
    "        \n",
    "        # Write the byte array to a file\n",
    "        with open(filename, 'wb') as file:  # 'wb' mode opens the file in binary write mode\n",
    "            file.write(byte_array)\n",
    "    \n",
    "    def serialize_tree(self):\n",
    "        # Serialize the Huffman tree to a list of tuples (symbol, code)\n",
    "        return [(symbol, node.code) for symbol, node in self.items() if node.is_leaf]\n",
    "\n",
    "    @classmethod\n",
    "    def decode_from_file(cls, file_path):\n",
    "        with open(file_path, 'r', encoding='utf-8') as file:\n",
    "            encoded_info = json.load(file)\n",
    "        \n",
    "        # Rebuild the Huffman tree from the serialized data\n",
    "        huffman_tree = cls()\n",
    "        for symbol, code in encoded_info['huffman_tree']:\n",
    "            current_node = huffman_tree.tree_root if huffman_tree.tree_root else HuffmanNode(0)\n",
    "            for char in code:\n",
    "                if char == '0':\n",
    "                    if not current_node.left:\n",
    "                        current_node.left = HuffmanNode(0)\n",
    "                    current_node = current_node.left\n",
    "                elif char == '1':\n",
    "                    if not current_node.right:\n",
    "                        current_node.right = HuffmanNode(0)\n",
    "                    current_node = current_node.right\n",
    "            current_node.symbol = symbol  # Set leaf node\n",
    "            if not huffman_tree.tree_root:\n",
    "                huffman_tree.tree_root = current_node  # Set root if not set\n",
    "        \n",
    "        # Set encoded data and decode\n",
    "        huffman_tree.encoded_data = encoded_info['encoded_data']\n",
    "        return huffman_tree.huffman_decode()\n",
    "\n",
    "    # Existing compress_string, huffman_decode, etc.\n",
    "\n",
    "# Example usage\n",
    "data_file_path = '/Users/ashleycottrell/code/repositories/relativisticpy/examples/alice.txt'  # File containing the text to be compressed\n",
    "metadata_file_path = '/Users/ashleycottrell/code/repositories/relativisticpy/examples/compressed_alice.txt'  # File to save the compressed data\n",
    "comp_data_file_path = '/Users/ashleycottrell/code/repositories/relativisticpy/examples/comp_alice_bytes.huff'\n",
    "decoded_output_path = '/Users/ashleycottrell/code/repositories/relativisticpy/examples/decoded.txt'  # File to save the decompressed data\n",
    "\n",
    "# Compress and save\n",
    "huffman_tree = HuffmanTree.from_file(data_file_path)\n",
    "huffman_tree.save_to_file(comp_data_file_path, metadata_file_path)\n",
    "\n",
    "# # Decode from file and save output\n",
    "# decoded_data = HuffmanTree.decode_from_file(compressed_file_path)\n",
    "# with open(decoded_output_path, 'w', encoding='utf-8') as file:\n",
    "#     file.write(decoded_data)\n",
    "import os\n",
    "os.path.getsize(data_file_path) - os.path.getsize(comp_data_file_path)"
   ],
   "outputs": [],
   "execution_count": 38
  },
  {
   "metadata": {
    "ExecuteTime": {
     "end_time": "2024-07-13T18:21:32.676598Z",
     "start_time": "2024-07-13T18:21:32.673264Z"
    }
   },
   "cell_type": "code",
   "source": [
    "import os\n",
    "os.path.getsize(data_file_path) - os.path.getsize(comp_data_file_path)"
   ],
   "outputs": [
    {
     "data": {
      "text/plain": [
       "63934"
      ]
     },
     "execution_count": 39,
     "metadata": {},
     "output_type": "execute_result"
    }
   ],
   "execution_count": 39
  },
  {
   "metadata": {
    "ExecuteTime": {
     "end_time": "2024-07-13T17:49:07.268224Z",
     "start_time": "2024-07-13T17:49:07.265914Z"
    }
   },
   "cell_type": "code",
   "source": [
    "heap = [n for c, n in d.items()]\n",
    "heapq.heapify(heap)"
   ],
   "outputs": [],
   "execution_count": 320
  },
  {
   "metadata": {
    "ExecuteTime": {
     "end_time": "2024-07-13T17:12:51.917369Z",
     "start_time": "2024-07-13T17:12:51.914732Z"
    }
   },
   "cell_type": "code",
   "source": [
    "heapq.heapify(heap)\n",
    "for n in range(len(heap)):\n",
    "    n = heapq.heappop(heap)\n",
    "    print(n.symbol, n.weight)"
   ],
   "outputs": [
    {
     "name": "stdout",
     "output_type": "stream",
     "text": [
      "t 1\n",
      "l 1\n",
      "r 1\n",
      "p 1\n",
      "d 1\n",
      "x 1\n",
      "g 1\n",
      "c 1\n",
      "u 1\n",
      "o 2\n",
      "s 2\n",
      "h 2\n",
      "m 2\n",
      "i 3\n",
      "a 3\n",
      "e 3\n",
      "f 3\n",
      "n 4\n",
      "  6\n"
     ]
    }
   ],
   "execution_count": 282
  },
  {
   "metadata": {
    "ExecuteTime": {
     "end_time": "2024-09-12T20:30:40.795955Z",
     "start_time": "2024-09-12T20:30:40.788256Z"
    }
   },
   "cell_type": "code",
   "source": [
    "import inspect\n",
    "\n",
    "# Example function\n",
    "def example_function(param1: int, param2: str = \"default\") -> bool:\n",
    "    \"\"\"\n",
    "    Get the delivery date for a customer's order. Call this whenever you need to know the delivery date, for example when a customer asks 'Where is my package'\n",
    "\n",
    "    :param param1: The customer's order ID.\n",
    "    :param param2: The customer's name.\n",
    "    :return:\n",
    "    \"\"\"\n",
    "    return isinstance(param1, int)\n",
    "\n",
    "# Get the function's docstring\n",
    "docstring = example_function.__doc__\n",
    "print(\"Docstring:\", docstring)\n",
    "\n",
    "# Get the function's name\n",
    "function_name = example_function.__name__\n",
    "print(\"Function Name:\", function_name)\n",
    "\n",
    "# Get the function's signature (parameters and their types)\n",
    "signature = inspect.signature(example_function)\n",
    "print(\"Signature:\", signature)\n",
    "\n",
    "# Loop through the parameters to get their names and types\n",
    "for param_name, param in signature.parameters.items():\n",
    "    print(f\"Parameter: {param_name}\")\n",
    "    print(f\"  Annotation: {param.annotation.__name__ if param.annotation != inspect._empty else None}\")\n",
    "    print(f\"  Default: {param.default}\")"
   ],
   "outputs": [
    {
     "name": "stdout",
     "output_type": "stream",
     "text": [
      "Docstring: \n",
      "    Get the delivery date for a customer's order. Call this whenever you need to know the delivery date, for example when a customer asks 'Where is my package'\n",
      "\n",
      "    :param order_id: The customer's order ID.\n",
      "    :return:\n",
      "    \n",
      "Function Name: example_function\n",
      "Signature: (param1: int, param2: str = 'default') -> bool\n",
      "Parameter: param1\n",
      "  Annotation: int\n",
      "  Default: <class 'inspect._empty'>\n",
      "Parameter: param2\n",
      "  Annotation: str\n",
      "  Default: default\n"
     ]
    }
   ],
   "execution_count": 8
  },
  {
   "metadata": {
    "ExecuteTime": {
     "end_time": "2024-07-13T15:34:20.992900Z",
     "start_time": "2024-07-13T15:34:20.987370Z"
    }
   },
   "cell_type": "code",
   "source": [
    "def frequency_table(data):\n",
    "    frequency = defaultdict(int)\n",
    "    for char in data:\n",
    "        frequency[char] += 1\n",
    "    return frequency\n",
    "\n",
    "# Custom dictionary class\n",
    "class CustomDict(dict):\n",
    "    def __missing__(self, key):\n",
    "        # This method is called when a missing key is accessed.\n",
    "        # Custom logic to initialize the object can be placed here.\n",
    "        value = f\"Key is not present: {key}\"\n",
    "        self[key] = value\n",
    "        return value\n",
    "\n",
    "d = CustomDict()\n",
    "d['a']"
   ],
   "outputs": [
    {
     "data": {
      "text/plain": [
       "'Key is not present: a'"
      ]
     },
     "execution_count": 61,
     "metadata": {},
     "output_type": "execute_result"
    }
   ],
   "execution_count": 61
  },
  {
   "metadata": {
    "ExecuteTime": {
     "end_time": "2024-07-13T15:34:21.450581Z",
     "start_time": "2024-07-13T15:34:21.445424Z"
    }
   },
   "cell_type": "code",
   "source": [
    "import heapq\n",
    "from collections import defaultdict\n",
    "\n",
    "def huffman_tree(symbols_freq):\n",
    "    heap = [[weight, [symbol, \"\"]] for symbol, weight in symbols_freq.items()]\n",
    "    heapq.heapify(heap)\n",
    "    \n",
    "    while len(heap) > 1:\n",
    "        lo = heapq.heappop(heap)\n",
    "        hi = heapq.heappop(heap)\n",
    "        \n",
    "        for pair in lo[1:]:\n",
    "            pair[1] = '0' + pair[1]\n",
    "        for pair in hi[1:]:\n",
    "            pair[1] = '1' + pair[1]\n",
    "            \n",
    "        # New node with combined frequency and children\n",
    "        new_node = [lo[0] + hi[0]] + lo[1:] + hi[1:]\n",
    "        heapq.heappush(heap, new_node)\n",
    "    \n",
    "    return heap[0]  # The final tree\n",
    "\n",
    "# Example usage\n",
    "symbols_freq = {'a': 45, 'b': 13, 'c': 12, 'd': 16, 'e': 9, 'f': 5}\n",
    "tree = huffman_tree(symbols_freq)\n",
    "print(tree)\n"
   ],
   "outputs": [
    {
     "name": "stdout",
     "output_type": "stream",
     "text": [
      "[100, ['a', '0'], ['c', '100'], ['b', '101'], ['f', '1100'], ['e', '1101'], ['d', '111']]\n"
     ]
    }
   ],
   "execution_count": 62
  },
  {
   "metadata": {
    "ExecuteTime": {
     "end_time": "2024-07-13T15:34:22.092353Z",
     "start_time": "2024-07-13T15:34:22.088198Z"
    }
   },
   "cell_type": "code",
   "source": [
    "{\n",
    "    \"0\" : {\"a\"},\n",
    "    \"10\" : \"b\",\n",
    "    \"110\" : \"c\",\n",
    "    \"111\" : \"d\",\n",
    "    \"01\" : \"e\",\n",
    "    \"111\" : \"f\"\n",
    "}"
   ],
   "outputs": [
    {
     "data": {
      "text/plain": [
       "{'0': {'a'}, '10': 'b', '110': 'c', '111': 'f', '01': 'e'}"
      ]
     },
     "execution_count": 63,
     "metadata": {},
     "output_type": "execute_result"
    }
   ],
   "execution_count": 63
  },
  {
   "metadata": {
    "ExecuteTime": {
     "end_time": "2024-07-13T15:36:34.927510Z",
     "start_time": "2024-07-13T15:36:34.924210Z"
    }
   },
   "cell_type": "code",
   "source": [
    "import heapq\n",
    "\n",
    "a = Node('a', 45)\n",
    "b = Node('b', 13)\n",
    "\n",
    "# List to be used as a heap\n",
    "heap = []\n",
    "heapq.heappush(heap, a)\n",
    "heapq.heappush(heap, b)\n",
    "\n",
    "# Fetching items from the heap\n",
    "print(heapq.heappop(heap).symbol)  # Output: (1, 'write spec')\n",
    "print(heapq.heappop(heap).symbol)  # Output: (3, 'create tests')\n"
   ],
   "outputs": [
    {
     "name": "stdout",
     "output_type": "stream",
     "text": [
      "b\n",
      "a\n"
     ]
    }
   ],
   "execution_count": 68
  },
  {
   "metadata": {
    "ExecuteTime": {
     "end_time": "2024-07-13T15:10:51.004020Z",
     "start_time": "2024-07-13T15:10:51.000541Z"
    }
   },
   "cell_type": "code",
   "source": "d['a']",
   "outputs": [
    {
     "data": {
      "text/plain": [
       "'a'"
      ]
     },
     "execution_count": 37,
     "metadata": {},
     "output_type": "execute_result"
    }
   ],
   "execution_count": 37
  },
  {
   "metadata": {
    "ExecuteTime": {
     "end_time": "2024-07-13T14:52:03.059424Z",
     "start_time": "2024-07-13T14:52:03.056480Z"
    }
   },
   "cell_type": "code",
   "source": [
    "def pack_bits(bit_string):\n",
    "    # Ensure the bit string length is a multiple of 8\n",
    "    extra_bits = len(bit_string) % 8\n",
    "    if extra_bits != 0:\n",
    "        bit_string += '0' * (8 - extra_bits)\n",
    "    \n",
    "    return bytes(int(bit_string[i:i+8], 2) for i in range(0, len(bit_string), 8))\n",
    "\n",
    "packed_data = pack_bits(encoded_data)\n",
    "print(\"Packed Data:\", packed_data)\n"
   ],
   "outputs": [
    {
     "name": "stdout",
     "output_type": "stream",
     "text": [
      "Packed Data: b'\\x80\\xf3\\xde{*\\xe7\\xa4\\x98\\x1c\\xbam\\xa3\\x1d\\xd2\\x95q|\\x7f\\xf2\\x00'\n"
     ]
    }
   ],
   "execution_count": 13
  },
  {
   "metadata": {
    "ExecuteTime": {
     "end_time": "2024-07-13T14:52:08.929014Z",
     "start_time": "2024-07-13T14:52:08.926035Z"
    }
   },
   "cell_type": "code",
   "source": [
    "def huffman_decode(data, codes):\n",
    "    # Step a: Reverse the Huffman codes\n",
    "    reverse_codes = {v: k for k, v in codes.items()}\n",
    "    \n",
    "    # Step b: Decoding\n",
    "    data = data.lstrip(\"0\")\n",
    "    current_code = \"\"\n",
    "    decoded_data = \"\"\n",
    "    for bit in data:\n",
    "        current_code += bit\n",
    "        if current_code in reverse_codes:\n",
    "            decoded_data += reverse_codes[current_code]\n",
    "            current_code = \"\"\n",
    "    \n",
    "    return decoded_data"
   ],
   "outputs": [],
   "execution_count": 14
  },
  {
   "metadata": {
    "ExecuteTime": {
     "end_time": "2024-07-13T16:47:09.330080Z",
     "start_time": "2024-07-13T16:47:09.327031Z"
    }
   },
   "cell_type": "code",
   "source": "huffman_decode(d.encoded_data, d.codes)",
   "outputs": [
    {
     "data": {
      "text/plain": [
       "'a'"
      ]
     },
     "execution_count": 232,
     "metadata": {},
     "output_type": "execute_result"
    }
   ],
   "execution_count": 232
  },
  {
   "metadata": {
    "ExecuteTime": {
     "end_time": "2024-07-13T14:54:31.195138Z",
     "start_time": "2024-07-13T14:54:31.191592Z"
    }
   },
   "cell_type": "code",
   "source": [
    "def bytes_to_binary_string(bytes_data):\n",
    "    return ''.join(f'{byte:08b}' for byte in bytes_data)\n",
    "\n",
    "# Example\n",
    "binary_string = bytes_to_binary_string(pack_bits(encoded_data))\n",
    "print(binary_string)  # Output: '000000010000001000000011'\n"
   ],
   "outputs": [
    {
     "name": "stdout",
     "output_type": "stream",
     "text": [
      "1000000011110011110111100111101100101010111001111010010010011000000111001011101001101101101000110001110111010010100101010111000101111100011111111111001000000000\n"
     ]
    }
   ],
   "execution_count": 16
  },
  {
   "metadata": {
    "ExecuteTime": {
     "end_time": "2024-07-13T14:56:17.926275Z",
     "start_time": "2024-07-13T14:56:17.922131Z"
    }
   },
   "cell_type": "code",
   "source": "bytes_to_binary_string(b\"this is an example for huffman encoding\")",
   "outputs": [
    {
     "data": {
      "text/plain": [
       "'011101000110100001101001011100110010000001101001011100110010000001100001011011100010000001100101011110000110000101101101011100000110110001100101001000000110011001101111011100100010000001101000011101010110011001100110011011010110000101101110001000000110010101101110011000110110111101100100011010010110111001100111'"
      ]
     },
     "execution_count": 21,
     "metadata": {},
     "output_type": "execute_result"
    }
   ],
   "execution_count": 21
  },
  {
   "metadata": {},
   "cell_type": "code",
   "outputs": [],
   "execution_count": null,
   "source": [
    "class HuffmanCompression:\n",
    "    \n",
    "    def __init__(self):\n",
    "        self.codes = {}\n",
    "    \n",
    "    def bytes_to_binary_string(bytes_data):\n",
    "        return ''.join(f'{byte:08b}' for byte in bytes_data)"
   ]
  },
  {
   "metadata": {
    "ExecuteTime": {
     "end_time": "2024-08-03T14:59:59.777057Z",
     "start_time": "2024-08-03T14:59:59.763830Z"
    }
   },
   "cell_type": "code",
   "source": [
    "import sympy as sp\n",
    "\n",
    "t, r, theta, phi, M, G = sp.symbols('t r theta phi M G')\n",
    "\n",
    "G*M*(r*(2*G*M - r) - r*(2*G*M - r))/(r*r*(2*G*M - r)*(2*G*M - r))"
   ],
   "outputs": [
    {
     "data": {
      "text/plain": [
       "0"
      ],
      "text/latex": "$\\displaystyle 0$"
     },
     "execution_count": 8,
     "metadata": {},
     "output_type": "execute_result"
    }
   ],
   "execution_count": 8
  },
  {
   "metadata": {
    "ExecuteTime": {
     "end_time": "2024-09-14T15:53:25.019543Z",
     "start_time": "2024-09-14T15:53:24.964441Z"
    }
   },
   "cell_type": "code",
   "source": "x = [1, 2, 3, 4, 5, 4, 3, 2, 1, 0, -1 , -2, -3, -4, -5, -4, -3, -2, -1, 0, 1, 2, 3, 4, 5, 4, 3, 2, 1, 0, -1 , -2, -3, -4, -5, -4, -3, -2, -1, 0, 1, 2, 3, 4, 5, 4, 3, 2, 1, 0, -1 , -2, -3, -4, -5, -4, -3, -2, -1, 0, 1, 2, 3, 4, 5, 4, 3, 2, 1, 0, -1 , -2, -3, -4, -5, -4, -3, -2, -1, 0, 1, 2, 3, 4, 5, 4, 3, 2, 1, 0, -1 , -2, -3, -4, -5, -4, -3, -2, -1, 0, 1, 2, 3, 4, 5, 4, 3, 2, 1, 0, -1 , -2, -3, -4, -5, -4, -3, -2, -1, 0, 1, 2, 3, 4, 5, 4, 3, 2, 1, 0, -1 , -2, -3, -4, -5, -4, -3, -2, -1, 0, 1, 2, 3, 4, 5, 4, 3, 2, 1, 0, -1 , -2, -3, -4, -5, -4, -3, -2, -1, 0, 1, 2, 3, 4, 5, 4, 3, 2, 1, 0, -1 , -2, -3, -4, -5, -4, -3, -2, -1, 0, 1, 2, 3, 4, 5, 4, 3, 2, 1, 0, -1 , -2, -3]",
   "outputs": [],
   "execution_count": 4
  },
  {
   "metadata": {
    "ExecuteTime": {
     "end_time": "2024-09-14T15:53:41.634205Z",
     "start_time": "2024-09-14T15:53:40.228132Z"
    }
   },
   "cell_type": "code",
   "source": "W ",
   "outputs": [
    {
     "data": {
      "text/plain": [
       "[<matplotlib.lines.Line2D at 0x1075919d0>]"
      ]
     },
     "execution_count": 5,
     "metadata": {},
     "output_type": "execute_result"
    },
    {
     "data": {
      "text/plain": [
       "<Figure size 640x480 with 1 Axes>"
      ],
      "image/png": "[encoded data removed]"
     },
     "metadata": {},
     "output_type": "display_data"
    }
   ],
   "execution_count": 5
  },
  {
   "metadata": {},
   "cell_type": "code",
   "outputs": [],
   "execution_count": null,
   "source": ""
  }
 ],
 "metadata": {
  "kernelspec": {
   "display_name": ".venv",
   "language": "python",
   "name": "python3"
  },
  "language_info": {
   "codemirror_mode": {
    "name": "ipython",
    "version": 3
   },
   "file_extension": ".py",
   "mimetype": "text/x-python",
   "name": "python",
   "nbconvert_exporter": "python",
   "pygments_lexer": "ipython3",
   "version": "3.11.9"
  }
 },
 "nbformat": 4,
 "nbformat_minor": 2
}
