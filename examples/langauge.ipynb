{
 "cells": [
  {
   "cell_type": "code",
   "metadata": {
    "ExecuteTime": {
     "end_time": "2024-09-12T14:45:41.187993Z",
     "start_time": "2024-09-12T14:45:40.756051Z"
    }
   },
   "source": [
    "from set_path import set_root_path\n",
    "set_root_path()\n",
    "from relativisticpy.workbook.workbook import Workbook\n",
    "wb = Workbook(debug_mode=True)"
   ],
   "outputs": [
    {
     "name": "stdout",
     "output_type": "stream",
     "text": [
      "Working directory: /Users/ashleycottrell/code/repositories/relativisticpy\n"
     ]
    }
   ],
   "execution_count": 1
  },
  {
   "cell_type": "code",
   "metadata": {
    "ExecuteTime": {
     "end_time": "2024-09-12T14:45:58.264599Z",
     "start_time": "2024-09-12T14:45:54.640632Z"
    }
   },
   "source": [
    "# TODO: When we have a UI, we automatically generate the greek and latin symbols when the user types in the name of the coordinate system  i.e. alpha, beta, gamma, delta, mu, nu, rho, sigma -> α, β, γ, δ, μ, ν, ρ, σ\n",
    "wb.reset()\n",
    "res = wb.exe(\n",
    "\"\"\"\n",
    "\n",
    "# Symbols: theta, phi, alpha, beta, gamma, delta, mu, nu, rho, sigma\n",
    "\n",
    "# CoordinateSystem: Schild {\n",
    "#     Coordinates : [t, r, theta, phi]\n",
    "#     Indices : [mu, nu, rho, sigma, a, b],\n",
    "#     Metric : [[-(1 - (2 * G * M) / (r)), 0, 0, 0],[0, 1 / (1 - (2 * G * M) / (r)), 0, 0],[0, 0, r**2, 0],[0, 0, 0, r**2 * sin(theta) ** 2]]\n",
    "# }\n",
    "# \n",
    "# CoordinateTransformation: Schild {\n",
    "#     From: Schild\n",
    "#     To: Schild\n",
    "#     Transformation: [t, r, theta, phi] -> [t, r, theta, phi]\n",
    "# }\n",
    "\n",
    "Coordinates := [t, r, theta, phi]\n",
    "\n",
    "g_{mu}_{nu} := [\n",
    "                [-(1 - (2 * G * M) / (c**2*r)), 0, 0, 0],\n",
    "                [0, 1 / (1 - (2 * G * M) / (c**2*r)), 0, 0],\n",
    "                [0, 0, r**2, 0],\n",
    "                [0, 0, 0, r**2 * sin(theta) ** 2]\n",
    "            ]\n",
    "\n",
    "Gamma^{a}_{c f} := (1/2)*g^{a b}*(d_{c}*g_{b f} + d_{f}*g_{b c} - d_{b}*g_{c f})\n",
    "\n",
    "Riemann^{a}_{m b n} := d_{b}*Gamma^{a}_{n m} + Gamma^{a}_{b l}*Gamma^{l}_{n m} - d_{n}*Gamma^{a}_{b m} - Gamma^{a}_{n l}*Gamma^{l}_{b m}\n",
    "\n",
    "Ricci_{m}_{n} := Riemann^{a}_{m}_{a}_{n}\n",
    "\n",
    "TempOne^{a}^{f}^{h}^{s} := g^{s}^{q}*( g^{h}^{c}*( g^{f}^{b} * Riemann^{a}_{b}_{c}_{q} ) )\n",
    "\n",
    "TempTwo_{a}_{f}_{h}_{s} := g_{a}_{n}*Riemann^{n}_{f}_{h}_{s}\n",
    "\n",
    "S := TempOne^{a}^{f}^{h}^{s}*TempTwo_{a}_{f}_{h}_{s}\n",
    "\n",
    "simplify(S)\n",
    "\"\"\"\n",
    ")\n"
   ],
   "outputs": [
    {
     "name": "stderr",
     "output_type": "stream",
     "text": [
      "\u001B[32m2024-09-12 15:45:54.658\u001B[0m | \u001B[34m\u001B[1mDEBUG   \u001B[0m | \u001B[36mrelativisticpy.workbook.ast_visitor\u001B[0m:\u001B[36mint\u001B[0m:\u001B[36m122\u001B[0m - \u001B[34m\u001B[1mCasting to Integer: 1 at position TokenPosition(start_pos=Position(line=20, character=19), end_pos=Position(line=20, character=20))\u001B[0m\n",
      "\u001B[32m2024-09-12 15:45:54.661\u001B[0m | \u001B[34m\u001B[1mDEBUG   \u001B[0m | \u001B[36mrelativisticpy.workbook.ast_visitor\u001B[0m:\u001B[36mint\u001B[0m:\u001B[36m122\u001B[0m - \u001B[34m\u001B[1mCasting to Integer: 2 at position TokenPosition(start_pos=Position(line=20, character=24), end_pos=Position(line=20, character=25))\u001B[0m\n",
      "\u001B[32m2024-09-12 15:45:54.662\u001B[0m | \u001B[34m\u001B[1mDEBUG   \u001B[0m | \u001B[36mrelativisticpy.workbook.ast_visitor\u001B[0m:\u001B[36mmul\u001B[0m:\u001B[36m110\u001B[0m - \u001B[34m\u001B[1mMultiplying 2 * G at position TokenPosition(start_pos=Position(line=20, character=24), end_pos=Position(line=20, character=25))\u001B[0m\n",
      "\u001B[32m2024-09-12 15:45:54.664\u001B[0m | \u001B[34m\u001B[1mDEBUG   \u001B[0m | \u001B[36mrelativisticpy.workbook.ast_visitor\u001B[0m:\u001B[36mmul\u001B[0m:\u001B[36m110\u001B[0m - \u001B[34m\u001B[1mMultiplying 2*G * M at position TokenPosition(start_pos=Position(line=20, character=24), end_pos=Position(line=20, character=25))\u001B[0m\n",
      "\u001B[32m2024-09-12 15:45:54.667\u001B[0m | \u001B[34m\u001B[1mDEBUG   \u001B[0m | \u001B[36mrelativisticpy.workbook.ast_visitor\u001B[0m:\u001B[36mint\u001B[0m:\u001B[36m122\u001B[0m - \u001B[34m\u001B[1mCasting to Integer: 2 at position TokenPosition(start_pos=Position(line=20, character=41), end_pos=Position(line=20, character=42))\u001B[0m\n",
      "\u001B[32m2024-09-12 15:45:54.674\u001B[0m | \u001B[34m\u001B[1mDEBUG   \u001B[0m | \u001B[36mrelativisticpy.workbook.ast_visitor\u001B[0m:\u001B[36mpow\u001B[0m:\u001B[36m118\u001B[0m - \u001B[34m\u001B[1mPowering c ** 2 at position TokenPosition(start_pos=Position(line=20, character=38), end_pos=Position(line=20, character=39))\u001B[0m\n",
      "\u001B[32m2024-09-12 15:45:54.678\u001B[0m | \u001B[34m\u001B[1mDEBUG   \u001B[0m | \u001B[36mrelativisticpy.workbook.ast_visitor\u001B[0m:\u001B[36mmul\u001B[0m:\u001B[36m110\u001B[0m - \u001B[34m\u001B[1mMultiplying c**2 * r at position TokenPosition(start_pos=Position(line=20, character=38), end_pos=Position(line=20, character=39))\u001B[0m\n",
      "\u001B[32m2024-09-12 15:45:54.732\u001B[0m | \u001B[34m\u001B[1mDEBUG   \u001B[0m | \u001B[36mrelativisticpy.workbook.ast_visitor\u001B[0m:\u001B[36mdiv\u001B[0m:\u001B[36m114\u001B[0m - \u001B[34m\u001B[1mDividing 2*G*M / c**2*r at position TokenPosition(start_pos=Position(line=20, character=23), end_pos=Position(line=20, character=24))\u001B[0m\n",
      "\u001B[32m2024-09-12 15:45:54.739\u001B[0m | \u001B[34m\u001B[1mDEBUG   \u001B[0m | \u001B[36mrelativisticpy.workbook.ast_visitor\u001B[0m:\u001B[36msub\u001B[0m:\u001B[36m94\u001B[0m - \u001B[34m\u001B[1mSubtracting 1 - 2*G*M/(c**2*r) at position TokenPosition(start_pos=Position(line=20, character=19), end_pos=Position(line=20, character=20))\u001B[0m\n",
      "\u001B[32m2024-09-12 15:45:54.741\u001B[0m | \u001B[34m\u001B[1mDEBUG   \u001B[0m | \u001B[36mrelativisticpy.workbook.ast_visitor\u001B[0m:\u001B[36mneg\u001B[0m:\u001B[36m102\u001B[0m - \u001B[34m\u001B[1mNegating -2*G*M/(c**2*r) + 1 at position TokenPosition(start_pos=Position(line=20, character=18), end_pos=Position(line=20, character=19))\u001B[0m\n",
      "\u001B[32m2024-09-12 15:45:54.743\u001B[0m | \u001B[34m\u001B[1mDEBUG   \u001B[0m | \u001B[36mrelativisticpy.workbook.ast_visitor\u001B[0m:\u001B[36mint\u001B[0m:\u001B[36m122\u001B[0m - \u001B[34m\u001B[1mCasting to Integer: 0 at position TokenPosition(start_pos=Position(line=20, character=48), end_pos=Position(line=20, character=49))\u001B[0m\n",
      "\u001B[32m2024-09-12 15:45:54.745\u001B[0m | \u001B[34m\u001B[1mDEBUG   \u001B[0m | \u001B[36mrelativisticpy.workbook.ast_visitor\u001B[0m:\u001B[36mint\u001B[0m:\u001B[36m122\u001B[0m - \u001B[34m\u001B[1mCasting to Integer: 0 at position TokenPosition(start_pos=Position(line=20, character=51), end_pos=Position(line=20, character=52))\u001B[0m\n",
      "\u001B[32m2024-09-12 15:45:54.746\u001B[0m | \u001B[34m\u001B[1mDEBUG   \u001B[0m | \u001B[36mrelativisticpy.workbook.ast_visitor\u001B[0m:\u001B[36mint\u001B[0m:\u001B[36m122\u001B[0m - \u001B[34m\u001B[1mCasting to Integer: 0 at position TokenPosition(start_pos=Position(line=20, character=54), end_pos=Position(line=20, character=55))\u001B[0m\n",
      "\u001B[32m2024-09-12 15:45:54.748\u001B[0m | \u001B[34m\u001B[1mDEBUG   \u001B[0m | \u001B[36mrelativisticpy.workbook.ast_visitor\u001B[0m:\u001B[36mint\u001B[0m:\u001B[36m122\u001B[0m - \u001B[34m\u001B[1mCasting to Integer: 0 at position TokenPosition(start_pos=Position(line=21, character=17), end_pos=Position(line=21, character=18))\u001B[0m\n",
      "\u001B[32m2024-09-12 15:45:54.749\u001B[0m | \u001B[34m\u001B[1mDEBUG   \u001B[0m | \u001B[36mrelativisticpy.workbook.ast_visitor\u001B[0m:\u001B[36mint\u001B[0m:\u001B[36m122\u001B[0m - \u001B[34m\u001B[1mCasting to Integer: 1 at position TokenPosition(start_pos=Position(line=21, character=20), end_pos=Position(line=21, character=21))\u001B[0m\n",
      "\u001B[32m2024-09-12 15:45:54.750\u001B[0m | \u001B[34m\u001B[1mDEBUG   \u001B[0m | \u001B[36mrelativisticpy.workbook.ast_visitor\u001B[0m:\u001B[36mint\u001B[0m:\u001B[36m122\u001B[0m - \u001B[34m\u001B[1mCasting to Integer: 1 at position TokenPosition(start_pos=Position(line=21, character=25), end_pos=Position(line=21, character=26))\u001B[0m\n",
      "\u001B[32m2024-09-12 15:45:54.750\u001B[0m | \u001B[34m\u001B[1mDEBUG   \u001B[0m | \u001B[36mrelativisticpy.workbook.ast_visitor\u001B[0m:\u001B[36mint\u001B[0m:\u001B[36m122\u001B[0m - \u001B[34m\u001B[1mCasting to Integer: 2 at position TokenPosition(start_pos=Position(line=21, character=30), end_pos=Position(line=21, character=31))\u001B[0m\n",
      "\u001B[32m2024-09-12 15:45:54.751\u001B[0m | \u001B[34m\u001B[1mDEBUG   \u001B[0m | \u001B[36mrelativisticpy.workbook.ast_visitor\u001B[0m:\u001B[36mmul\u001B[0m:\u001B[36m110\u001B[0m - \u001B[34m\u001B[1mMultiplying 2 * G at position TokenPosition(start_pos=Position(line=21, character=30), end_pos=Position(line=21, character=31))\u001B[0m\n",
      "\u001B[32m2024-09-12 15:45:54.752\u001B[0m | \u001B[34m\u001B[1mDEBUG   \u001B[0m | \u001B[36mrelativisticpy.workbook.ast_visitor\u001B[0m:\u001B[36mmul\u001B[0m:\u001B[36m110\u001B[0m - \u001B[34m\u001B[1mMultiplying 2*G * M at position TokenPosition(start_pos=Position(line=21, character=30), end_pos=Position(line=21, character=31))\u001B[0m\n",
      "\u001B[32m2024-09-12 15:45:54.753\u001B[0m | \u001B[34m\u001B[1mDEBUG   \u001B[0m | \u001B[36mrelativisticpy.workbook.ast_visitor\u001B[0m:\u001B[36mint\u001B[0m:\u001B[36m122\u001B[0m - \u001B[34m\u001B[1mCasting to Integer: 2 at position TokenPosition(start_pos=Position(line=21, character=47), end_pos=Position(line=21, character=48))\u001B[0m\n",
      "\u001B[32m2024-09-12 15:45:54.753\u001B[0m | \u001B[34m\u001B[1mDEBUG   \u001B[0m | \u001B[36mrelativisticpy.workbook.ast_visitor\u001B[0m:\u001B[36mpow\u001B[0m:\u001B[36m118\u001B[0m - \u001B[34m\u001B[1mPowering c ** 2 at position TokenPosition(start_pos=Position(line=21, character=44), end_pos=Position(line=21, character=45))\u001B[0m\n",
      "\u001B[32m2024-09-12 15:45:54.754\u001B[0m | \u001B[34m\u001B[1mDEBUG   \u001B[0m | \u001B[36mrelativisticpy.workbook.ast_visitor\u001B[0m:\u001B[36mmul\u001B[0m:\u001B[36m110\u001B[0m - \u001B[34m\u001B[1mMultiplying c**2 * r at position TokenPosition(start_pos=Position(line=21, character=44), end_pos=Position(line=21, character=45))\u001B[0m\n",
      "\u001B[32m2024-09-12 15:45:54.755\u001B[0m | \u001B[34m\u001B[1mDEBUG   \u001B[0m | \u001B[36mrelativisticpy.workbook.ast_visitor\u001B[0m:\u001B[36mdiv\u001B[0m:\u001B[36m114\u001B[0m - \u001B[34m\u001B[1mDividing 2*G*M / c**2*r at position TokenPosition(start_pos=Position(line=21, character=29), end_pos=Position(line=21, character=30))\u001B[0m\n",
      "\u001B[32m2024-09-12 15:45:54.755\u001B[0m | \u001B[34m\u001B[1mDEBUG   \u001B[0m | \u001B[36mrelativisticpy.workbook.ast_visitor\u001B[0m:\u001B[36msub\u001B[0m:\u001B[36m94\u001B[0m - \u001B[34m\u001B[1mSubtracting 1 - 2*G*M/(c**2*r) at position TokenPosition(start_pos=Position(line=21, character=25), end_pos=Position(line=21, character=26))\u001B[0m\n",
      "\u001B[32m2024-09-12 15:45:54.756\u001B[0m | \u001B[34m\u001B[1mDEBUG   \u001B[0m | \u001B[36mrelativisticpy.workbook.ast_visitor\u001B[0m:\u001B[36mdiv\u001B[0m:\u001B[36m114\u001B[0m - \u001B[34m\u001B[1mDividing 1 / -2*G*M/(c**2*r) + 1 at position TokenPosition(start_pos=Position(line=21, character=20), end_pos=Position(line=21, character=21))\u001B[0m\n",
      "\u001B[32m2024-09-12 15:45:54.757\u001B[0m | \u001B[34m\u001B[1mDEBUG   \u001B[0m | \u001B[36mrelativisticpy.workbook.ast_visitor\u001B[0m:\u001B[36mint\u001B[0m:\u001B[36m122\u001B[0m - \u001B[34m\u001B[1mCasting to Integer: 0 at position TokenPosition(start_pos=Position(line=21, character=54), end_pos=Position(line=21, character=55))\u001B[0m\n",
      "\u001B[32m2024-09-12 15:45:54.758\u001B[0m | \u001B[34m\u001B[1mDEBUG   \u001B[0m | \u001B[36mrelativisticpy.workbook.ast_visitor\u001B[0m:\u001B[36mint\u001B[0m:\u001B[36m122\u001B[0m - \u001B[34m\u001B[1mCasting to Integer: 0 at position TokenPosition(start_pos=Position(line=21, character=57), end_pos=Position(line=21, character=58))\u001B[0m\n",
      "\u001B[32m2024-09-12 15:45:54.759\u001B[0m | \u001B[34m\u001B[1mDEBUG   \u001B[0m | \u001B[36mrelativisticpy.workbook.ast_visitor\u001B[0m:\u001B[36mint\u001B[0m:\u001B[36m122\u001B[0m - \u001B[34m\u001B[1mCasting to Integer: 0 at position TokenPosition(start_pos=Position(line=22, character=17), end_pos=Position(line=22, character=18))\u001B[0m\n",
      "\u001B[32m2024-09-12 15:45:54.760\u001B[0m | \u001B[34m\u001B[1mDEBUG   \u001B[0m | \u001B[36mrelativisticpy.workbook.ast_visitor\u001B[0m:\u001B[36mint\u001B[0m:\u001B[36m122\u001B[0m - \u001B[34m\u001B[1mCasting to Integer: 0 at position TokenPosition(start_pos=Position(line=22, character=20), end_pos=Position(line=22, character=21))\u001B[0m\n",
      "\u001B[32m2024-09-12 15:45:54.760\u001B[0m | \u001B[34m\u001B[1mDEBUG   \u001B[0m | \u001B[36mrelativisticpy.workbook.ast_visitor\u001B[0m:\u001B[36mint\u001B[0m:\u001B[36m122\u001B[0m - \u001B[34m\u001B[1mCasting to Integer: 2 at position TokenPosition(start_pos=Position(line=22, character=26), end_pos=Position(line=22, character=27))\u001B[0m\n",
      "\u001B[32m2024-09-12 15:45:54.761\u001B[0m | \u001B[34m\u001B[1mDEBUG   \u001B[0m | \u001B[36mrelativisticpy.workbook.ast_visitor\u001B[0m:\u001B[36mpow\u001B[0m:\u001B[36m118\u001B[0m - \u001B[34m\u001B[1mPowering r ** 2 at position TokenPosition(start_pos=Position(line=22, character=23), end_pos=Position(line=22, character=24))\u001B[0m\n",
      "\u001B[32m2024-09-12 15:45:54.761\u001B[0m | \u001B[34m\u001B[1mDEBUG   \u001B[0m | \u001B[36mrelativisticpy.workbook.ast_visitor\u001B[0m:\u001B[36mint\u001B[0m:\u001B[36m122\u001B[0m - \u001B[34m\u001B[1mCasting to Integer: 0 at position TokenPosition(start_pos=Position(line=22, character=29), end_pos=Position(line=22, character=30))\u001B[0m\n",
      "\u001B[32m2024-09-12 15:45:54.762\u001B[0m | \u001B[34m\u001B[1mDEBUG   \u001B[0m | \u001B[36mrelativisticpy.workbook.ast_visitor\u001B[0m:\u001B[36mint\u001B[0m:\u001B[36m122\u001B[0m - \u001B[34m\u001B[1mCasting to Integer: 0 at position TokenPosition(start_pos=Position(line=23, character=17), end_pos=Position(line=23, character=18))\u001B[0m\n",
      "\u001B[32m2024-09-12 15:45:54.762\u001B[0m | \u001B[34m\u001B[1mDEBUG   \u001B[0m | \u001B[36mrelativisticpy.workbook.ast_visitor\u001B[0m:\u001B[36mint\u001B[0m:\u001B[36m122\u001B[0m - \u001B[34m\u001B[1mCasting to Integer: 0 at position TokenPosition(start_pos=Position(line=23, character=20), end_pos=Position(line=23, character=21))\u001B[0m\n",
      "\u001B[32m2024-09-12 15:45:54.763\u001B[0m | \u001B[34m\u001B[1mDEBUG   \u001B[0m | \u001B[36mrelativisticpy.workbook.ast_visitor\u001B[0m:\u001B[36mint\u001B[0m:\u001B[36m122\u001B[0m - \u001B[34m\u001B[1mCasting to Integer: 0 at position TokenPosition(start_pos=Position(line=23, character=23), end_pos=Position(line=23, character=24))\u001B[0m\n",
      "\u001B[32m2024-09-12 15:45:54.763\u001B[0m | \u001B[34m\u001B[1mDEBUG   \u001B[0m | \u001B[36mrelativisticpy.workbook.ast_visitor\u001B[0m:\u001B[36mint\u001B[0m:\u001B[36m122\u001B[0m - \u001B[34m\u001B[1mCasting to Integer: 2 at position TokenPosition(start_pos=Position(line=23, character=29), end_pos=Position(line=23, character=30))\u001B[0m\n",
      "\u001B[32m2024-09-12 15:45:54.764\u001B[0m | \u001B[34m\u001B[1mDEBUG   \u001B[0m | \u001B[36mrelativisticpy.workbook.ast_visitor\u001B[0m:\u001B[36mpow\u001B[0m:\u001B[36m118\u001B[0m - \u001B[34m\u001B[1mPowering r ** 2 at position TokenPosition(start_pos=Position(line=23, character=26), end_pos=Position(line=23, character=27))\u001B[0m\n",
      "\u001B[32m2024-09-12 15:45:54.766\u001B[0m | \u001B[34m\u001B[1mDEBUG   \u001B[0m | \u001B[36mrelativisticpy.workbook.ast_visitor\u001B[0m:\u001B[36mint\u001B[0m:\u001B[36m122\u001B[0m - \u001B[34m\u001B[1mCasting to Integer: 2 at position TokenPosition(start_pos=Position(line=23, character=47), end_pos=Position(line=23, character=48))\u001B[0m\n",
      "\u001B[32m2024-09-12 15:45:54.767\u001B[0m | \u001B[34m\u001B[1mDEBUG   \u001B[0m | \u001B[36mrelativisticpy.workbook.ast_visitor\u001B[0m:\u001B[36mpow\u001B[0m:\u001B[36m118\u001B[0m - \u001B[34m\u001B[1mPowering sin(theta) ** 2 at position TokenPosition(start_pos=Position(line=23, character=33), end_pos=Position(line=23, character=36))\u001B[0m\n",
      "\u001B[32m2024-09-12 15:45:54.767\u001B[0m | \u001B[34m\u001B[1mDEBUG   \u001B[0m | \u001B[36mrelativisticpy.workbook.ast_visitor\u001B[0m:\u001B[36mmul\u001B[0m:\u001B[36m110\u001B[0m - \u001B[34m\u001B[1mMultiplying r**2 * sin(theta)**2 at position TokenPosition(start_pos=Position(line=23, character=26), end_pos=Position(line=23, character=27))\u001B[0m\n",
      "\u001B[32m2024-09-12 15:45:54.770\u001B[0m | \u001B[34m\u001B[1mDEBUG   \u001B[0m | \u001B[36mrelativisticpy.state.scopes\u001B[0m:\u001B[36mset_tensor\u001B[0m:\u001B[36m184\u001B[0m - \u001B[34m\u001B[1mCaching new tensor 'g' with components '[[2*G*M/(c**2*r) - 1, 0, 0, 0], [0, 1/(-2*G*M/(c**2*r) + 1), 0, 0], [0, 0, r**2, 0], [0, 0, 0, r**2*sin(theta)**2]]'\u001B[0m\n",
      "\u001B[32m2024-09-12 15:45:54.771\u001B[0m | \u001B[34m\u001B[1mDEBUG   \u001B[0m | \u001B[36mrelativisticpy.workbook.ast_visitor\u001B[0m:\u001B[36mint\u001B[0m:\u001B[36m122\u001B[0m - \u001B[34m\u001B[1mCasting to Integer: 1 at position TokenPosition(start_pos=Position(line=26, character=20), end_pos=Position(line=26, character=21))\u001B[0m\n",
      "\u001B[32m2024-09-12 15:45:54.771\u001B[0m | \u001B[34m\u001B[1mDEBUG   \u001B[0m | \u001B[36mrelativisticpy.workbook.ast_visitor\u001B[0m:\u001B[36mint\u001B[0m:\u001B[36m122\u001B[0m - \u001B[34m\u001B[1mCasting to Integer: 2 at position TokenPosition(start_pos=Position(line=26, character=22), end_pos=Position(line=26, character=23))\u001B[0m\n",
      "\u001B[32m2024-09-12 15:45:54.771\u001B[0m | \u001B[34m\u001B[1mDEBUG   \u001B[0m | \u001B[36mrelativisticpy.workbook.ast_visitor\u001B[0m:\u001B[36mdiv\u001B[0m:\u001B[36m114\u001B[0m - \u001B[34m\u001B[1mDividing 1 / 2 at position TokenPosition(start_pos=Position(line=26, character=20), end_pos=Position(line=26, character=21))\u001B[0m\n",
      "\u001B[32m2024-09-12 15:45:54.772\u001B[0m | \u001B[34m\u001B[1mDEBUG   \u001B[0m | \u001B[36mrelativisticpy.state.scopes\u001B[0m:\u001B[36minit_tensor\u001B[0m:\u001B[36m263\u001B[0m - \u001B[34m\u001B[1mAttempting to initiating 'g^{a}^{b}' by equation from cached tensors.\u001B[0m\n",
      "\u001B[32m2024-09-12 15:45:54.773\u001B[0m | \u001B[34m\u001B[1mDEBUG   \u001B[0m | \u001B[36mrelativisticpy.state.scopes\u001B[0m:\u001B[36minit_tensor\u001B[0m:\u001B[36m266\u001B[0m - \u001B[34m\u001B[1mIdentified 'g^{a}^{b}' to be a Metric. Initializing Metric from Metric.\u001B[0m\n",
      "\u001B[32m2024-09-12 15:45:54.774\u001B[0m | \u001B[34m\u001B[1mDEBUG   \u001B[0m | \u001B[36mrelativisticpy.state.scopes\u001B[0m:\u001B[36mmetric_tensor\u001B[0m:\u001B[36m102\u001B[0m - \u001B[34m\u001B[1mFound 1 Metric Tensor Objects in scope.\u001B[0m\n",
      "\u001B[32m2024-09-12 15:45:54.774\u001B[0m | \u001B[34m\u001B[1mDEBUG   \u001B[0m | \u001B[36mrelativisticpy.state.scopes\u001B[0m:\u001B[36mmetric_tensor\u001B[0m:\u001B[36m103\u001B[0m - \u001B[34m\u001B[1mReturning <relativisticpy.diffgeom.metric.Metric object at 0x10d3f1390>.\u001B[0m\n",
      "\u001B[32m2024-09-12 15:45:54.775\u001B[0m | \u001B[34m\u001B[1mDEBUG   \u001B[0m | \u001B[36mrelativisticpy.state.scopes\u001B[0m:\u001B[36mmetric_tensor\u001B[0m:\u001B[36m206\u001B[0m - \u001B[34m\u001B[1mFound metric tensor in scope with components: '[[2*G*M/(c**2*r) - 1, 0, 0, 0], [0, 1/(-2*G*M/(c**2*r) + 1), 0, 0], [0, 0, r**2, 0], [0, 0, 0, r**2*sin(theta)**2]]'\u001B[0m\n",
      "\u001B[32m2024-09-12 15:45:54.776\u001B[0m | \u001B[34m\u001B[1mDEBUG   \u001B[0m | \u001B[36mrelativisticpy.state.scopes\u001B[0m:\u001B[36mmetric_tensor\u001B[0m:\u001B[36m102\u001B[0m - \u001B[34m\u001B[1mFound 1 Metric Tensor Objects in scope.\u001B[0m\n",
      "\u001B[32m2024-09-12 15:45:54.776\u001B[0m | \u001B[34m\u001B[1mDEBUG   \u001B[0m | \u001B[36mrelativisticpy.state.scopes\u001B[0m:\u001B[36mmetric_tensor\u001B[0m:\u001B[36m103\u001B[0m - \u001B[34m\u001B[1mReturning <relativisticpy.diffgeom.metric.Metric object at 0x10d3f1390>.\u001B[0m\n",
      "\u001B[32m2024-09-12 15:45:55.218\u001B[0m | \u001B[34m\u001B[1mDEBUG   \u001B[0m | \u001B[36mrelativisticpy.state.scopes\u001B[0m:\u001B[36minit_tensor\u001B[0m:\u001B[36m271\u001B[0m - \u001B[34m\u001B[1mComputed components of 'g^{a}^{b}' to be: '[[-c**2*r/(-2*G*M + c**2*r), 0, 0, 0], [0, (-2*G*M + c**2*r)/(c**2*r), 0, 0], [0, 0, r**(-2), 0], [0, 0, 0, 1/(r**2*sin(theta)**2)]]'\u001B[0m\n",
      "\u001B[32m2024-09-12 15:45:55.220\u001B[0m | \u001B[34m\u001B[1mDEBUG   \u001B[0m | \u001B[36mrelativisticpy.state.scopes\u001B[0m:\u001B[36mset_tensor\u001B[0m:\u001B[36m184\u001B[0m - \u001B[34m\u001B[1mCaching new tensor 'g' with components '[[-c**2*r/(-2*G*M + c**2*r), 0, 0, 0], [0, (-2*G*M + c**2*r)/(c**2*r), 0, 0], [0, 0, r**(-2), 0], [0, 0, 0, 1/(r**2*sin(theta)**2)]]'\u001B[0m\n",
      "\u001B[32m2024-09-12 15:45:55.220\u001B[0m | \u001B[34m\u001B[1mDEBUG   \u001B[0m | \u001B[36mrelativisticpy.workbook.ast_visitor\u001B[0m:\u001B[36mmul\u001B[0m:\u001B[36m110\u001B[0m - \u001B[34m\u001B[1mMultiplying 0.5 * <relativisticpy.diffgeom.metric.Metric object at 0x10d5afd10> at position TokenPosition(start_pos=Position(line=26, character=19), end_pos=Position(line=26, character=20))\u001B[0m\n",
      "\u001B[32m2024-09-12 15:45:55.225\u001B[0m | \u001B[34m\u001B[1mDEBUG   \u001B[0m | \u001B[36mrelativisticpy.state.scopes\u001B[0m:\u001B[36minit_tensor\u001B[0m:\u001B[36m263\u001B[0m - \u001B[34m\u001B[1mAttempting to initiating 'g_{b}_{f}' by equation from cached tensors.\u001B[0m\n",
      "\u001B[32m2024-09-12 15:45:55.226\u001B[0m | \u001B[34m\u001B[1mDEBUG   \u001B[0m | \u001B[36mrelativisticpy.state.scopes\u001B[0m:\u001B[36minit_tensor\u001B[0m:\u001B[36m266\u001B[0m - \u001B[34m\u001B[1mIdentified 'g_{b}_{f}' to be a Metric. Initializing Metric from Metric.\u001B[0m\n",
      "\u001B[32m2024-09-12 15:45:55.227\u001B[0m | \u001B[34m\u001B[1mDEBUG   \u001B[0m | \u001B[36mrelativisticpy.state.scopes\u001B[0m:\u001B[36mmetric_tensor\u001B[0m:\u001B[36m102\u001B[0m - \u001B[34m\u001B[1mFound 1 Metric Tensor Objects in scope.\u001B[0m\n",
      "\u001B[32m2024-09-12 15:45:55.227\u001B[0m | \u001B[34m\u001B[1mDEBUG   \u001B[0m | \u001B[36mrelativisticpy.state.scopes\u001B[0m:\u001B[36mmetric_tensor\u001B[0m:\u001B[36m103\u001B[0m - \u001B[34m\u001B[1mReturning <relativisticpy.diffgeom.metric.Metric object at 0x10d3f9510>.\u001B[0m\n",
      "\u001B[32m2024-09-12 15:45:55.229\u001B[0m | \u001B[34m\u001B[1mDEBUG   \u001B[0m | \u001B[36mrelativisticpy.state.scopes\u001B[0m:\u001B[36mmetric_tensor\u001B[0m:\u001B[36m206\u001B[0m - \u001B[34m\u001B[1mFound metric tensor in scope with components: '[[-c**2*r/(-2*G*M + c**2*r), 0, 0, 0], [0, (-2*G*M + c**2*r)/(c**2*r), 0, 0], [0, 0, r**(-2), 0], [0, 0, 0, 1/(r**2*sin(theta)**2)]]'\u001B[0m\n",
      "\u001B[32m2024-09-12 15:45:55.230\u001B[0m | \u001B[34m\u001B[1mDEBUG   \u001B[0m | \u001B[36mrelativisticpy.state.scopes\u001B[0m:\u001B[36mmetric_tensor\u001B[0m:\u001B[36m102\u001B[0m - \u001B[34m\u001B[1mFound 1 Metric Tensor Objects in scope.\u001B[0m\n",
      "\u001B[32m2024-09-12 15:45:55.231\u001B[0m | \u001B[34m\u001B[1mDEBUG   \u001B[0m | \u001B[36mrelativisticpy.state.scopes\u001B[0m:\u001B[36mmetric_tensor\u001B[0m:\u001B[36m103\u001B[0m - \u001B[34m\u001B[1mReturning <relativisticpy.diffgeom.metric.Metric object at 0x10d3f9510>.\u001B[0m\n",
      "\u001B[32m2024-09-12 15:45:55.406\u001B[0m | \u001B[34m\u001B[1mDEBUG   \u001B[0m | \u001B[36mrelativisticpy.state.scopes\u001B[0m:\u001B[36minit_tensor\u001B[0m:\u001B[36m271\u001B[0m - \u001B[34m\u001B[1mComputed components of 'g_{b}_{f}' to be: '[[(2*G*M - c**2*r)/(c**2*r), 0, 0, 0], [0, c**2*r/(-2*G*M + c**2*r), 0, 0], [0, 0, r**2, 0], [0, 0, 0, r**2*sin(theta)**2]]'\u001B[0m\n",
      "\u001B[32m2024-09-12 15:45:55.407\u001B[0m | \u001B[34m\u001B[1mDEBUG   \u001B[0m | \u001B[36mrelativisticpy.state.scopes\u001B[0m:\u001B[36mset_tensor\u001B[0m:\u001B[36m184\u001B[0m - \u001B[34m\u001B[1mCaching new tensor 'g' with components '[[(2*G*M - c**2*r)/(c**2*r), 0, 0, 0], [0, c**2*r/(-2*G*M + c**2*r), 0, 0], [0, 0, r**2, 0], [0, 0, 0, r**2*sin(theta)**2]]'\u001B[0m\n",
      "\u001B[32m2024-09-12 15:45:55.409\u001B[0m | \u001B[34m\u001B[1mDEBUG   \u001B[0m | \u001B[36mrelativisticpy.workbook.ast_visitor\u001B[0m:\u001B[36mmul\u001B[0m:\u001B[36m110\u001B[0m - \u001B[34m\u001B[1mMultiplying <relativisticpy.diffgeom.derivatives.partial.Derivative object at 0x10d7d3c10> * <relativisticpy.diffgeom.metric.Metric object at 0x10d7d3cd0> at position TokenPosition(start_pos=Position(line=26, character=34), end_pos=Position(line=26, character=35))\u001B[0m\n",
      "\u001B[32m2024-09-12 15:45:55.429\u001B[0m | \u001B[34m\u001B[1mDEBUG   \u001B[0m | \u001B[36mrelativisticpy.state.scopes\u001B[0m:\u001B[36minit_tensor\u001B[0m:\u001B[36m263\u001B[0m - \u001B[34m\u001B[1mAttempting to initiating 'g_{b}_{c}' by equation from cached tensors.\u001B[0m\n",
      "\u001B[32m2024-09-12 15:45:55.430\u001B[0m | \u001B[34m\u001B[1mDEBUG   \u001B[0m | \u001B[36mrelativisticpy.state.scopes\u001B[0m:\u001B[36minit_tensor\u001B[0m:\u001B[36m266\u001B[0m - \u001B[34m\u001B[1mIdentified 'g_{b}_{c}' to be a Metric. Initializing Metric from Metric.\u001B[0m\n",
      "\u001B[32m2024-09-12 15:45:55.431\u001B[0m | \u001B[34m\u001B[1mDEBUG   \u001B[0m | \u001B[36mrelativisticpy.state.scopes\u001B[0m:\u001B[36mmetric_tensor\u001B[0m:\u001B[36m102\u001B[0m - \u001B[34m\u001B[1mFound 1 Metric Tensor Objects in scope.\u001B[0m\n",
      "\u001B[32m2024-09-12 15:45:55.431\u001B[0m | \u001B[34m\u001B[1mDEBUG   \u001B[0m | \u001B[36mrelativisticpy.state.scopes\u001B[0m:\u001B[36mmetric_tensor\u001B[0m:\u001B[36m103\u001B[0m - \u001B[34m\u001B[1mReturning <relativisticpy.diffgeom.metric.Metric object at 0x10d4fb390>.\u001B[0m\n",
      "\u001B[32m2024-09-12 15:45:55.433\u001B[0m | \u001B[34m\u001B[1mDEBUG   \u001B[0m | \u001B[36mrelativisticpy.state.scopes\u001B[0m:\u001B[36mmetric_tensor\u001B[0m:\u001B[36m206\u001B[0m - \u001B[34m\u001B[1mFound metric tensor in scope with components: '[[(2*G*M - c**2*r)/(c**2*r), 0, 0, 0], [0, c**2*r/(-2*G*M + c**2*r), 0, 0], [0, 0, r**2, 0], [0, 0, 0, r**2*sin(theta)**2]]'\u001B[0m\n",
      "\u001B[32m2024-09-12 15:45:55.434\u001B[0m | \u001B[34m\u001B[1mDEBUG   \u001B[0m | \u001B[36mrelativisticpy.state.scopes\u001B[0m:\u001B[36mmetric_tensor\u001B[0m:\u001B[36m102\u001B[0m - \u001B[34m\u001B[1mFound 1 Metric Tensor Objects in scope.\u001B[0m\n",
      "\u001B[32m2024-09-12 15:45:55.435\u001B[0m | \u001B[34m\u001B[1mDEBUG   \u001B[0m | \u001B[36mrelativisticpy.state.scopes\u001B[0m:\u001B[36mmetric_tensor\u001B[0m:\u001B[36m103\u001B[0m - \u001B[34m\u001B[1mReturning <relativisticpy.diffgeom.metric.Metric object at 0x10d4fb390>.\u001B[0m\n",
      "\u001B[32m2024-09-12 15:45:55.437\u001B[0m | \u001B[34m\u001B[1mDEBUG   \u001B[0m | \u001B[36mrelativisticpy.state.scopes\u001B[0m:\u001B[36minit_tensor\u001B[0m:\u001B[36m271\u001B[0m - \u001B[34m\u001B[1mComputed components of 'g_{b}_{c}' to be: '[[(2*G*M - c**2*r)/(c**2*r), 0, 0, 0], [0, c**2*r/(-2*G*M + c**2*r), 0, 0], [0, 0, r**2, 0], [0, 0, 0, r**2*sin(theta)**2]]'\u001B[0m\n",
      "\u001B[32m2024-09-12 15:45:55.438\u001B[0m | \u001B[34m\u001B[1mDEBUG   \u001B[0m | \u001B[36mrelativisticpy.state.scopes\u001B[0m:\u001B[36mset_tensor\u001B[0m:\u001B[36m184\u001B[0m - \u001B[34m\u001B[1mCaching new tensor 'g' with components '[[(2*G*M - c**2*r)/(c**2*r), 0, 0, 0], [0, c**2*r/(-2*G*M + c**2*r), 0, 0], [0, 0, r**2, 0], [0, 0, 0, r**2*sin(theta)**2]]'\u001B[0m\n",
      "\u001B[32m2024-09-12 15:45:55.439\u001B[0m | \u001B[34m\u001B[1mDEBUG   \u001B[0m | \u001B[36mrelativisticpy.workbook.ast_visitor\u001B[0m:\u001B[36mmul\u001B[0m:\u001B[36m110\u001B[0m - \u001B[34m\u001B[1mMultiplying <relativisticpy.diffgeom.derivatives.partial.Derivative object at 0x10d7e3c10> * <relativisticpy.diffgeom.metric.Metric object at 0x10c9bb690> at position TokenPosition(start_pos=Position(line=26, character=50), end_pos=Position(line=26, character=51))\u001B[0m\n",
      "\u001B[32m2024-09-12 15:45:55.445\u001B[0m | \u001B[34m\u001B[1mDEBUG   \u001B[0m | \u001B[36mrelativisticpy.workbook.ast_visitor\u001B[0m:\u001B[36madd\u001B[0m:\u001B[36m98\u001B[0m - \u001B[34m\u001B[1mAdding <relativisticpy.algebras.einstein_summation.EinsumArray object at 0x10d7c6910> + <relativisticpy.algebras.einstein_summation.EinsumArray object at 0x10d811810> at position TokenPosition(start_pos=Position(line=26, character=34), end_pos=Position(line=26, character=35))\u001B[0m\n",
      "\u001B[32m2024-09-12 15:45:55.455\u001B[0m | \u001B[34m\u001B[1mDEBUG   \u001B[0m | \u001B[36mrelativisticpy.state.scopes\u001B[0m:\u001B[36minit_tensor\u001B[0m:\u001B[36m263\u001B[0m - \u001B[34m\u001B[1mAttempting to initiating 'g_{c}_{f}' by equation from cached tensors.\u001B[0m\n",
      "\u001B[32m2024-09-12 15:45:55.456\u001B[0m | \u001B[34m\u001B[1mDEBUG   \u001B[0m | \u001B[36mrelativisticpy.state.scopes\u001B[0m:\u001B[36minit_tensor\u001B[0m:\u001B[36m266\u001B[0m - \u001B[34m\u001B[1mIdentified 'g_{c}_{f}' to be a Metric. Initializing Metric from Metric.\u001B[0m\n",
      "\u001B[32m2024-09-12 15:45:55.456\u001B[0m | \u001B[34m\u001B[1mDEBUG   \u001B[0m | \u001B[36mrelativisticpy.state.scopes\u001B[0m:\u001B[36mmetric_tensor\u001B[0m:\u001B[36m102\u001B[0m - \u001B[34m\u001B[1mFound 1 Metric Tensor Objects in scope.\u001B[0m\n",
      "\u001B[32m2024-09-12 15:45:55.457\u001B[0m | \u001B[34m\u001B[1mDEBUG   \u001B[0m | \u001B[36mrelativisticpy.state.scopes\u001B[0m:\u001B[36mmetric_tensor\u001B[0m:\u001B[36m103\u001B[0m - \u001B[34m\u001B[1mReturning <relativisticpy.diffgeom.metric.Metric object at 0x10d7ec550>.\u001B[0m\n",
      "\u001B[32m2024-09-12 15:45:55.458\u001B[0m | \u001B[34m\u001B[1mDEBUG   \u001B[0m | \u001B[36mrelativisticpy.state.scopes\u001B[0m:\u001B[36mmetric_tensor\u001B[0m:\u001B[36m206\u001B[0m - \u001B[34m\u001B[1mFound metric tensor in scope with components: '[[(2*G*M - c**2*r)/(c**2*r), 0, 0, 0], [0, c**2*r/(-2*G*M + c**2*r), 0, 0], [0, 0, r**2, 0], [0, 0, 0, r**2*sin(theta)**2]]'\u001B[0m\n",
      "\u001B[32m2024-09-12 15:45:55.459\u001B[0m | \u001B[34m\u001B[1mDEBUG   \u001B[0m | \u001B[36mrelativisticpy.state.scopes\u001B[0m:\u001B[36mmetric_tensor\u001B[0m:\u001B[36m102\u001B[0m - \u001B[34m\u001B[1mFound 1 Metric Tensor Objects in scope.\u001B[0m\n",
      "\u001B[32m2024-09-12 15:45:55.459\u001B[0m | \u001B[34m\u001B[1mDEBUG   \u001B[0m | \u001B[36mrelativisticpy.state.scopes\u001B[0m:\u001B[36mmetric_tensor\u001B[0m:\u001B[36m103\u001B[0m - \u001B[34m\u001B[1mReturning <relativisticpy.diffgeom.metric.Metric object at 0x10d7ec550>.\u001B[0m\n",
      "\u001B[32m2024-09-12 15:45:55.461\u001B[0m | \u001B[34m\u001B[1mDEBUG   \u001B[0m | \u001B[36mrelativisticpy.state.scopes\u001B[0m:\u001B[36minit_tensor\u001B[0m:\u001B[36m271\u001B[0m - \u001B[34m\u001B[1mComputed components of 'g_{c}_{f}' to be: '[[(2*G*M - c**2*r)/(c**2*r), 0, 0, 0], [0, c**2*r/(-2*G*M + c**2*r), 0, 0], [0, 0, r**2, 0], [0, 0, 0, r**2*sin(theta)**2]]'\u001B[0m\n",
      "\u001B[32m2024-09-12 15:45:55.462\u001B[0m | \u001B[34m\u001B[1mDEBUG   \u001B[0m | \u001B[36mrelativisticpy.state.scopes\u001B[0m:\u001B[36mset_tensor\u001B[0m:\u001B[36m184\u001B[0m - \u001B[34m\u001B[1mCaching new tensor 'g' with components '[[(2*G*M - c**2*r)/(c**2*r), 0, 0, 0], [0, c**2*r/(-2*G*M + c**2*r), 0, 0], [0, 0, r**2, 0], [0, 0, 0, r**2*sin(theta)**2]]'\u001B[0m\n",
      "\u001B[32m2024-09-12 15:45:55.463\u001B[0m | \u001B[34m\u001B[1mDEBUG   \u001B[0m | \u001B[36mrelativisticpy.workbook.ast_visitor\u001B[0m:\u001B[36mmul\u001B[0m:\u001B[36m110\u001B[0m - \u001B[34m\u001B[1mMultiplying <relativisticpy.diffgeom.derivatives.partial.Derivative object at 0x10d7c6910> * <relativisticpy.diffgeom.metric.Metric object at 0x10d7c3210> at position TokenPosition(start_pos=Position(line=26, character=66), end_pos=Position(line=26, character=67))\u001B[0m\n",
      "\u001B[32m2024-09-12 15:45:55.470\u001B[0m | \u001B[34m\u001B[1mDEBUG   \u001B[0m | \u001B[36mrelativisticpy.workbook.ast_visitor\u001B[0m:\u001B[36msub\u001B[0m:\u001B[36m94\u001B[0m - \u001B[34m\u001B[1mSubtracting <relativisticpy.algebras.einstein_summation.EinsumArray object at 0x10d7e2c50> - <relativisticpy.algebras.einstein_summation.EinsumArray object at 0x10d813990> at position TokenPosition(start_pos=Position(line=26, character=34), end_pos=Position(line=26, character=35))\u001B[0m\n",
      "\u001B[32m2024-09-12 15:45:55.479\u001B[0m | \u001B[34m\u001B[1mDEBUG   \u001B[0m | \u001B[36mrelativisticpy.workbook.ast_visitor\u001B[0m:\u001B[36mmul\u001B[0m:\u001B[36m110\u001B[0m - \u001B[34m\u001B[1mMultiplying <relativisticpy.diffgeom.metric.Metric object at 0x10d3244d0> * <relativisticpy.algebras.einstein_summation.EinsumArray object at 0x10d7d2950> at position TokenPosition(start_pos=Position(line=26, character=19), end_pos=Position(line=26, character=20))\u001B[0m\n",
      "\u001B[32m2024-09-12 15:45:55.504\u001B[0m | \u001B[34m\u001B[1mDEBUG   \u001B[0m | \u001B[36mrelativisticpy.state.scopes\u001B[0m:\u001B[36mset_tensor\u001B[0m:\u001B[36m184\u001B[0m - \u001B[34m\u001B[1mCaching new tensor 'Gamma' with components '[[[0, -0.5*c**2*r*(-1/r - (2*G*M - c**2*r)/(c**2*r**2))/(-2*G*M + c**2*r), 0, 0], [-0.5*c**2*r*(-1/r - (2*G*M - c**2*r)/(c**2*r**2))/(-2*G*M + c**2*r), 0, 0, 0], [0, 0, 0, 0], [0, 0, 0, 0]], [[0.5*(1/r + (2*G*M - c**2*r)/(c**2*r**2))*(-2*G*M + c**2*r)/(c**2*r), 0, 0, 0], [0, 0.5*(-2*G*M + c**2*r)*(-c**4*r/(-2*G*M + c**2*r)**2 + c**2/(-2*G*M + c**2*r))/(c**2*r), 0, 0], [0, 0, -1.0*(-2*G*M + c**2*r)/c**2, 0], [0, 0, 0, -1.0*(-2*G*M + c**2*r)*sin(theta)**2/c**2]], [[0, 0, 0, 0], [0, 0, 1.0/r, 0], [0, 1.0/r, 0, 0], [0, 0, 0, -1.0*sin(theta)*cos(theta)]], [[0, 0, 0, 0], [0, 0, 0, 1.0/r], [0, 0, 0, 1.0*cos(theta)/sin(theta)], [0, 1.0/r, 1.0*cos(theta)/sin(theta), 0]]]'\u001B[0m\n",
      "\u001B[32m2024-09-12 15:45:55.505\u001B[0m | \u001B[34m\u001B[1mDEBUG   \u001B[0m | \u001B[36mrelativisticpy.state.scopes\u001B[0m:\u001B[36minit_tensor\u001B[0m:\u001B[36m263\u001B[0m - \u001B[34m\u001B[1mAttempting to initiating 'Gamma^{a}_{n}_{m}' by equation from cached tensors.\u001B[0m\n",
      "\u001B[32m2024-09-12 15:45:55.511\u001B[0m | \u001B[34m\u001B[1mDEBUG   \u001B[0m | \u001B[36mrelativisticpy.state.scopes\u001B[0m:\u001B[36mset_tensor\u001B[0m:\u001B[36m184\u001B[0m - \u001B[34m\u001B[1mCaching new tensor 'Gamma' with components '[[[0, -0.5*c**2*r*(-1/r - (2*G*M - c**2*r)/(c**2*r**2))/(-2*G*M + c**2*r), 0, 0], [-0.5*c**2*r*(-1/r - (2*G*M - c**2*r)/(c**2*r**2))/(-2*G*M + c**2*r), 0, 0, 0], [0, 0, 0, 0], [0, 0, 0, 0]], [[0.5*(1/r + (2*G*M - c**2*r)/(c**2*r**2))*(-2*G*M + c**2*r)/(c**2*r), 0, 0, 0], [0, 0.5*(-2*G*M + c**2*r)*(-c**4*r/(-2*G*M + c**2*r)**2 + c**2/(-2*G*M + c**2*r))/(c**2*r), 0, 0], [0, 0, -1.0*(-2*G*M + c**2*r)/c**2, 0], [0, 0, 0, -1.0*(-2*G*M + c**2*r)*sin(theta)**2/c**2]], [[0, 0, 0, 0], [0, 0, 1.0/r, 0], [0, 1.0/r, 0, 0], [0, 0, 0, -1.0*sin(theta)*cos(theta)]], [[0, 0, 0, 0], [0, 0, 0, 1.0/r], [0, 0, 0, 1.0*cos(theta)/sin(theta)], [0, 1.0/r, 1.0*cos(theta)/sin(theta), 0]]]'\u001B[0m\n",
      "\u001B[32m2024-09-12 15:45:55.512\u001B[0m | \u001B[34m\u001B[1mDEBUG   \u001B[0m | \u001B[36mrelativisticpy.workbook.ast_visitor\u001B[0m:\u001B[36mmul\u001B[0m:\u001B[36m110\u001B[0m - \u001B[34m\u001B[1mMultiplying <relativisticpy.diffgeom.derivatives.partial.Derivative object at 0x10d836750> * <relativisticpy.diffgeom.tensor.Tensor object at 0x10d835610> at position TokenPosition(start_pos=Position(line=28, character=23), end_pos=Position(line=28, character=24))\u001B[0m\n",
      "\u001B[32m2024-09-12 15:45:55.591\u001B[0m | \u001B[34m\u001B[1mDEBUG   \u001B[0m | \u001B[36mrelativisticpy.state.scopes\u001B[0m:\u001B[36minit_tensor\u001B[0m:\u001B[36m263\u001B[0m - \u001B[34m\u001B[1mAttempting to initiating 'Gamma^{a}_{b}_{l}' by equation from cached tensors.\u001B[0m\n",
      "\u001B[32m2024-09-12 15:45:55.597\u001B[0m | \u001B[34m\u001B[1mDEBUG   \u001B[0m | \u001B[36mrelativisticpy.state.scopes\u001B[0m:\u001B[36mset_tensor\u001B[0m:\u001B[36m184\u001B[0m - \u001B[34m\u001B[1mCaching new tensor 'Gamma' with components '[[[0, -0.5*c**2*r*(-1/r - (2*G*M - c**2*r)/(c**2*r**2))/(-2*G*M + c**2*r), 0, 0], [-0.5*c**2*r*(-1/r - (2*G*M - c**2*r)/(c**2*r**2))/(-2*G*M + c**2*r), 0, 0, 0], [0, 0, 0, 0], [0, 0, 0, 0]], [[0.5*(1/r + (2*G*M - c**2*r)/(c**2*r**2))*(-2*G*M + c**2*r)/(c**2*r), 0, 0, 0], [0, 0.5*(-2*G*M + c**2*r)*(-c**4*r/(-2*G*M + c**2*r)**2 + c**2/(-2*G*M + c**2*r))/(c**2*r), 0, 0], [0, 0, -1.0*(-2*G*M + c**2*r)/c**2, 0], [0, 0, 0, -1.0*(-2*G*M + c**2*r)*sin(theta)**2/c**2]], [[0, 0, 0, 0], [0, 0, 1.0/r, 0], [0, 1.0/r, 0, 0], [0, 0, 0, -1.0*sin(theta)*cos(theta)]], [[0, 0, 0, 0], [0, 0, 0, 1.0/r], [0, 0, 0, 1.0*cos(theta)/sin(theta)], [0, 1.0/r, 1.0*cos(theta)/sin(theta), 0]]]'\u001B[0m\n",
      "\u001B[32m2024-09-12 15:45:55.598\u001B[0m | \u001B[34m\u001B[1mDEBUG   \u001B[0m | \u001B[36mrelativisticpy.state.scopes\u001B[0m:\u001B[36minit_tensor\u001B[0m:\u001B[36m263\u001B[0m - \u001B[34m\u001B[1mAttempting to initiating 'Gamma^{l}_{n}_{m}' by equation from cached tensors.\u001B[0m\n",
      "\u001B[32m2024-09-12 15:45:55.604\u001B[0m | \u001B[34m\u001B[1mDEBUG   \u001B[0m | \u001B[36mrelativisticpy.state.scopes\u001B[0m:\u001B[36mset_tensor\u001B[0m:\u001B[36m184\u001B[0m - \u001B[34m\u001B[1mCaching new tensor 'Gamma' with components '[[[0, -0.5*c**2*r*(-1/r - (2*G*M - c**2*r)/(c**2*r**2))/(-2*G*M + c**2*r), 0, 0], [-0.5*c**2*r*(-1/r - (2*G*M - c**2*r)/(c**2*r**2))/(-2*G*M + c**2*r), 0, 0, 0], [0, 0, 0, 0], [0, 0, 0, 0]], [[0.5*(1/r + (2*G*M - c**2*r)/(c**2*r**2))*(-2*G*M + c**2*r)/(c**2*r), 0, 0, 0], [0, 0.5*(-2*G*M + c**2*r)*(-c**4*r/(-2*G*M + c**2*r)**2 + c**2/(-2*G*M + c**2*r))/(c**2*r), 0, 0], [0, 0, -1.0*(-2*G*M + c**2*r)/c**2, 0], [0, 0, 0, -1.0*(-2*G*M + c**2*r)*sin(theta)**2/c**2]], [[0, 0, 0, 0], [0, 0, 1.0/r, 0], [0, 1.0/r, 0, 0], [0, 0, 0, -1.0*sin(theta)*cos(theta)]], [[0, 0, 0, 0], [0, 0, 0, 1.0/r], [0, 0, 0, 1.0*cos(theta)/sin(theta)], [0, 1.0/r, 1.0*cos(theta)/sin(theta), 0]]]'\u001B[0m\n",
      "\u001B[32m2024-09-12 15:45:55.605\u001B[0m | \u001B[34m\u001B[1mDEBUG   \u001B[0m | \u001B[36mrelativisticpy.workbook.ast_visitor\u001B[0m:\u001B[36mmul\u001B[0m:\u001B[36m110\u001B[0m - \u001B[34m\u001B[1mMultiplying <relativisticpy.diffgeom.tensor.Tensor object at 0x10d7c6910> * <relativisticpy.diffgeom.tensor.Tensor object at 0x10d843fd0> at position TokenPosition(start_pos=Position(line=28, character=47), end_pos=Position(line=28, character=52))\u001B[0m\n",
      "\u001B[32m2024-09-12 15:45:55.744\u001B[0m | \u001B[34m\u001B[1mDEBUG   \u001B[0m | \u001B[36mrelativisticpy.workbook.ast_visitor\u001B[0m:\u001B[36madd\u001B[0m:\u001B[36m98\u001B[0m - \u001B[34m\u001B[1mAdding <relativisticpy.algebras.einstein_summation.EinsumArray object at 0x10d835650> + <relativisticpy.diffgeom.tensor.Tensor object at 0x10d72ea50> at position TokenPosition(start_pos=Position(line=28, character=23), end_pos=Position(line=28, character=24))\u001B[0m\n",
      "\u001B[32m2024-09-12 15:45:55.842\u001B[0m | \u001B[34m\u001B[1mDEBUG   \u001B[0m | \u001B[36mrelativisticpy.state.scopes\u001B[0m:\u001B[36minit_tensor\u001B[0m:\u001B[36m263\u001B[0m - \u001B[34m\u001B[1mAttempting to initiating 'Gamma^{a}_{b}_{m}' by equation from cached tensors.\u001B[0m\n",
      "\u001B[32m2024-09-12 15:45:55.849\u001B[0m | \u001B[34m\u001B[1mDEBUG   \u001B[0m | \u001B[36mrelativisticpy.state.scopes\u001B[0m:\u001B[36mset_tensor\u001B[0m:\u001B[36m184\u001B[0m - \u001B[34m\u001B[1mCaching new tensor 'Gamma' with components '[[[0, -0.5*c**2*r*(-1/r - (2*G*M - c**2*r)/(c**2*r**2))/(-2*G*M + c**2*r), 0, 0], [-0.5*c**2*r*(-1/r - (2*G*M - c**2*r)/(c**2*r**2))/(-2*G*M + c**2*r), 0, 0, 0], [0, 0, 0, 0], [0, 0, 0, 0]], [[0.5*(1/r + (2*G*M - c**2*r)/(c**2*r**2))*(-2*G*M + c**2*r)/(c**2*r), 0, 0, 0], [0, 0.5*(-2*G*M + c**2*r)*(-c**4*r/(-2*G*M + c**2*r)**2 + c**2/(-2*G*M + c**2*r))/(c**2*r), 0, 0], [0, 0, -1.0*(-2*G*M + c**2*r)/c**2, 0], [0, 0, 0, -1.0*(-2*G*M + c**2*r)*sin(theta)**2/c**2]], [[0, 0, 0, 0], [0, 0, 1.0/r, 0], [0, 1.0/r, 0, 0], [0, 0, 0, -1.0*sin(theta)*cos(theta)]], [[0, 0, 0, 0], [0, 0, 0, 1.0/r], [0, 0, 0, 1.0*cos(theta)/sin(theta)], [0, 1.0/r, 1.0*cos(theta)/sin(theta), 0]]]'\u001B[0m\n",
      "\u001B[32m2024-09-12 15:45:55.849\u001B[0m | \u001B[34m\u001B[1mDEBUG   \u001B[0m | \u001B[36mrelativisticpy.workbook.ast_visitor\u001B[0m:\u001B[36mmul\u001B[0m:\u001B[36m110\u001B[0m - \u001B[34m\u001B[1mMultiplying <relativisticpy.diffgeom.derivatives.partial.Derivative object at 0x10d813f50> * <relativisticpy.diffgeom.tensor.Tensor object at 0x10d83d4d0> at position TokenPosition(start_pos=Position(line=28, character=81), end_pos=Position(line=28, character=82))\u001B[0m\n",
      "\u001B[32m2024-09-12 15:45:55.893\u001B[0m | \u001B[34m\u001B[1mDEBUG   \u001B[0m | \u001B[36mrelativisticpy.workbook.ast_visitor\u001B[0m:\u001B[36msub\u001B[0m:\u001B[36m94\u001B[0m - \u001B[34m\u001B[1mSubtracting <relativisticpy.algebras.einstein_summation.EinsumArray object at 0x10d75bf90> - <relativisticpy.algebras.einstein_summation.EinsumArray object at 0x10d7a6050> at position TokenPosition(start_pos=Position(line=28, character=23), end_pos=Position(line=28, character=24))\u001B[0m\n",
      "\u001B[32m2024-09-12 15:45:55.991\u001B[0m | \u001B[34m\u001B[1mDEBUG   \u001B[0m | \u001B[36mrelativisticpy.state.scopes\u001B[0m:\u001B[36minit_tensor\u001B[0m:\u001B[36m263\u001B[0m - \u001B[34m\u001B[1mAttempting to initiating 'Gamma^{a}_{n}_{l}' by equation from cached tensors.\u001B[0m\n",
      "\u001B[32m2024-09-12 15:45:55.996\u001B[0m | \u001B[34m\u001B[1mDEBUG   \u001B[0m | \u001B[36mrelativisticpy.state.scopes\u001B[0m:\u001B[36mset_tensor\u001B[0m:\u001B[36m184\u001B[0m - \u001B[34m\u001B[1mCaching new tensor 'Gamma' with components '[[[0, -0.5*c**2*r*(-1/r - (2*G*M - c**2*r)/(c**2*r**2))/(-2*G*M + c**2*r), 0, 0], [-0.5*c**2*r*(-1/r - (2*G*M - c**2*r)/(c**2*r**2))/(-2*G*M + c**2*r), 0, 0, 0], [0, 0, 0, 0], [0, 0, 0, 0]], [[0.5*(1/r + (2*G*M - c**2*r)/(c**2*r**2))*(-2*G*M + c**2*r)/(c**2*r), 0, 0, 0], [0, 0.5*(-2*G*M + c**2*r)*(-c**4*r/(-2*G*M + c**2*r)**2 + c**2/(-2*G*M + c**2*r))/(c**2*r), 0, 0], [0, 0, -1.0*(-2*G*M + c**2*r)/c**2, 0], [0, 0, 0, -1.0*(-2*G*M + c**2*r)*sin(theta)**2/c**2]], [[0, 0, 0, 0], [0, 0, 1.0/r, 0], [0, 1.0/r, 0, 0], [0, 0, 0, -1.0*sin(theta)*cos(theta)]], [[0, 0, 0, 0], [0, 0, 0, 1.0/r], [0, 0, 0, 1.0*cos(theta)/sin(theta)], [0, 1.0/r, 1.0*cos(theta)/sin(theta), 0]]]'\u001B[0m\n",
      "\u001B[32m2024-09-12 15:45:55.997\u001B[0m | \u001B[34m\u001B[1mDEBUG   \u001B[0m | \u001B[36mrelativisticpy.state.scopes\u001B[0m:\u001B[36minit_tensor\u001B[0m:\u001B[36m263\u001B[0m - \u001B[34m\u001B[1mAttempting to initiating 'Gamma^{l}_{b}_{m}' by equation from cached tensors.\u001B[0m\n",
      "\u001B[32m2024-09-12 15:45:56.003\u001B[0m | \u001B[34m\u001B[1mDEBUG   \u001B[0m | \u001B[36mrelativisticpy.state.scopes\u001B[0m:\u001B[36mset_tensor\u001B[0m:\u001B[36m184\u001B[0m - \u001B[34m\u001B[1mCaching new tensor 'Gamma' with components '[[[0, -0.5*c**2*r*(-1/r - (2*G*M - c**2*r)/(c**2*r**2))/(-2*G*M + c**2*r), 0, 0], [-0.5*c**2*r*(-1/r - (2*G*M - c**2*r)/(c**2*r**2))/(-2*G*M + c**2*r), 0, 0, 0], [0, 0, 0, 0], [0, 0, 0, 0]], [[0.5*(1/r + (2*G*M - c**2*r)/(c**2*r**2))*(-2*G*M + c**2*r)/(c**2*r), 0, 0, 0], [0, 0.5*(-2*G*M + c**2*r)*(-c**4*r/(-2*G*M + c**2*r)**2 + c**2/(-2*G*M + c**2*r))/(c**2*r), 0, 0], [0, 0, -1.0*(-2*G*M + c**2*r)/c**2, 0], [0, 0, 0, -1.0*(-2*G*M + c**2*r)*sin(theta)**2/c**2]], [[0, 0, 0, 0], [0, 0, 1.0/r, 0], [0, 1.0/r, 0, 0], [0, 0, 0, -1.0*sin(theta)*cos(theta)]], [[0, 0, 0, 0], [0, 0, 0, 1.0/r], [0, 0, 0, 1.0*cos(theta)/sin(theta)], [0, 1.0/r, 1.0*cos(theta)/sin(theta), 0]]]'\u001B[0m\n",
      "\u001B[32m2024-09-12 15:45:56.003\u001B[0m | \u001B[34m\u001B[1mDEBUG   \u001B[0m | \u001B[36mrelativisticpy.workbook.ast_visitor\u001B[0m:\u001B[36mmul\u001B[0m:\u001B[36m110\u001B[0m - \u001B[34m\u001B[1mMultiplying <relativisticpy.diffgeom.tensor.Tensor object at 0x10d813f50> * <relativisticpy.diffgeom.tensor.Tensor object at 0x10d7d2090> at position TokenPosition(start_pos=Position(line=28, character=105), end_pos=Position(line=28, character=110))\u001B[0m\n",
      "\u001B[32m2024-09-12 15:45:56.124\u001B[0m | \u001B[34m\u001B[1mDEBUG   \u001B[0m | \u001B[36mrelativisticpy.workbook.ast_visitor\u001B[0m:\u001B[36msub\u001B[0m:\u001B[36m94\u001B[0m - \u001B[34m\u001B[1mSubtracting <relativisticpy.algebras.einstein_summation.EinsumArray object at 0x10d870d90> - <relativisticpy.diffgeom.tensor.Tensor object at 0x10d78e590> at position TokenPosition(start_pos=Position(line=28, character=23), end_pos=Position(line=28, character=24))\u001B[0m\n",
      "\u001B[32m2024-09-12 15:45:56.263\u001B[0m | \u001B[34m\u001B[1mDEBUG   \u001B[0m | \u001B[36mrelativisticpy.state.scopes\u001B[0m:\u001B[36mset_tensor\u001B[0m:\u001B[36m184\u001B[0m - \u001B[34m\u001B[1mCaching new tensor 'Riemann' with components '[[[[0, 0, 0, 0], [0, 0, 0, 0], [0, 0, 0, 0], [0, 0, 0, 0]], [[0, -0.25*c**4*r**2*(-1/r - (2*G*M - c**2*r)/(c**2*r**2))**2/(-2*G*M + c**2*r)**2 - 0.5*c**4*r*(-1/r - (2*G*M - c**2*r)/(c**2*r**2))/(-2*G*M + c**2*r)**2 + 0.5*c**2*r*(2/r**2 + 2*(2*G*M - c**2*r)/(c**2*r**3))/(-2*G*M + c**2*r) + 0.5*c**2*(-1/r - (2*G*M - c**2*r)/(c**2*r**2))/(-2*G*M + c**2*r) - 0.25*(-1/r - (2*G*M - c**2*r)/(c**2*r**2))*(-c**4*r/(-2*G*M + c**2*r)**2 + c**2/(-2*G*M + c**2*r)), 0, 0], [0.25*c**4*r**2*(-1/r - (2*G*M - c**2*r)/(c**2*r**2))**2/(-2*G*M + c**2*r)**2 + 0.5*c**4*r*(-1/r - (2*G*M - c**2*r)/(c**2*r**2))/(-2*G*M + c**2*r)**2 - 0.5*c**2*r*(2/r**2 + 2*(2*G*M - c**2*r)/(c**2*r**3))/(-2*G*M + c**2*r) - 0.5*c**2*(-1/r - (2*G*M - c**2*r)/(c**2*r**2))/(-2*G*M + c**2*r) + 0.25*(-1/r - (2*G*M - c**2*r)/(c**2*r**2))*(-c**4*r/(-2*G*M + c**2*r)**2 + c**2/(-2*G*M + c**2*r)), 0, 0, 0], [0, 0, 0, 0], [0, 0, 0, 0]], [[0, 0, 0.5*r*(-1/r - (2*G*M - c**2*r)/(c**2*r**2)), 0], [0, 0, 0, 0], [-0.5*r*(-1/r - (2*G*M - c**2*r)/(c**2*r**2)), 0, 0, 0], [0, 0, 0, 0]], [[0, 0, 0, 0.5*r*(-1/r - (2*G*M - c**2*r)/(c**2*r**2))*sin(theta)**2], [0, 0, 0, 0], [0, 0, 0, 0], [-0.5*r*(-1/r - (2*G*M - c**2*r)/(c**2*r**2))*sin(theta)**2, 0, 0, 0]]], [[[0, -0.25*(-1/r - (2*G*M - c**2*r)/(c**2*r**2))*(1/r + (2*G*M - c**2*r)/(c**2*r**2)) - 0.5*(1/r + (2*G*M - c**2*r)/(c**2*r**2))/r - 0.5*(-2/r**2 - 2*(2*G*M - c**2*r)/(c**2*r**3))*(-2*G*M + c**2*r)/(c**2*r) + 0.5*(1/r + (2*G*M - c**2*r)/(c**2*r**2))*(-2*G*M + c**2*r)/(c**2*r**2) - 0.25*(1/r + (2*G*M - c**2*r)/(c**2*r**2))*(-2*G*M + c**2*r)**2*(-c**4*r/(-2*G*M + c**2*r)**2 + c**2/(-2*G*M + c**2*r))/(c**4*r**2), 0, 0], [0.25*(-1/r - (2*G*M - c**2*r)/(c**2*r**2))*(1/r + (2*G*M - c**2*r)/(c**2*r**2)) + 0.5*(1/r + (2*G*M - c**2*r)/(c**2*r**2))/r + 0.5*(-2/r**2 - 2*(2*G*M - c**2*r)/(c**2*r**3))*(-2*G*M + c**2*r)/(c**2*r) - 0.5*(1/r + (2*G*M - c**2*r)/(c**2*r**2))*(-2*G*M + c**2*r)/(c**2*r**2) + 0.25*(1/r + (2*G*M - c**2*r)/(c**2*r**2))*(-2*G*M + c**2*r)**2*(-c**4*r/(-2*G*M + c**2*r)**2 + c**2/(-2*G*M + c**2*r))/(c**4*r**2), 0, 0, 0], [0, 0, 0, 0], [0, 0, 0, 0]], [[0, 0, 0, 0], [0, 0, 0, 0], [0, 0, 0, 0], [0, 0, 0, 0]], [[0, 0, 0, 0], [0, 0, -1.0 + 1.0*(-2*G*M + c**2*r)/(c**2*r) - 0.5*(-2*G*M + c**2*r)**2*(-c**4*r/(-2*G*M + c**2*r)**2 + c**2/(-2*G*M + c**2*r))/(c**4*r), 0], [0, 1.0 - 1.0*(-2*G*M + c**2*r)/(c**2*r) + 0.5*(-2*G*M + c**2*r)**2*(-c**4*r/(-2*G*M + c**2*r)**2 + c**2/(-2*G*M + c**2*r))/(c**4*r), 0, 0], [0, 0, 0, 0]], [[0, 0, 0, 0], [0, 0, 0, -1.0*sin(theta)**2 + 1.0*(-2*G*M + c**2*r)*sin(theta)**2/(c**2*r) - 0.5*(-2*G*M + c**2*r)**2*(-c**4*r/(-2*G*M + c**2*r)**2 + c**2/(-2*G*M + c**2*r))*sin(theta)**2/(c**4*r)], [0, 0, 0, 0], [0, 1.0*sin(theta)**2 - 1.0*(-2*G*M + c**2*r)*sin(theta)**2/(c**2*r) + 0.5*(-2*G*M + c**2*r)**2*(-c**4*r/(-2*G*M + c**2*r)**2 + c**2/(-2*G*M + c**2*r))*sin(theta)**2/(c**4*r), 0, 0]]], [[[0, 0, -0.5*(1/r + (2*G*M - c**2*r)/(c**2*r**2))*(-2*G*M + c**2*r)/(c**2*r**2), 0], [0, 0, 0, 0], [0.5*(1/r + (2*G*M - c**2*r)/(c**2*r**2))*(-2*G*M + c**2*r)/(c**2*r**2), 0, 0, 0], [0, 0, 0, 0]], [[0, 0, 0, 0], [0, 0, -0.5*(-2*G*M + c**2*r)*(-c**4*r/(-2*G*M + c**2*r)**2 + c**2/(-2*G*M + c**2*r))/(c**2*r**2), 0], [0, 0.5*(-2*G*M + c**2*r)*(-c**4*r/(-2*G*M + c**2*r)**2 + c**2/(-2*G*M + c**2*r))/(c**2*r**2), 0, 0], [0, 0, 0, 0]], [[0, 0, 0, 0], [0, 0, 0, 0], [0, 0, 0, 0], [0, 0, 0, 0]], [[0, 0, 0, 0], [0, 0, 0, 0], [0, 0, 0, 1.0*sin(theta)**2 - 1.0*(-2*G*M + c**2*r)*sin(theta)**2/(c**2*r)], [0, 0, -1.0*sin(theta)**2 + 1.0*(-2*G*M + c**2*r)*sin(theta)**2/(c**2*r), 0]]], [[[0, 0, 0, -0.5*(1/r + (2*G*M - c**2*r)/(c**2*r**2))*(-2*G*M + c**2*r)/(c**2*r**2)], [0, 0, 0, 0], [0, 0, 0, 0], [0.5*(1/r + (2*G*M - c**2*r)/(c**2*r**2))*(-2*G*M + c**2*r)/(c**2*r**2), 0, 0, 0]], [[0, 0, 0, 0], [0, 0, 0, -0.5*(-2*G*M + c**2*r)*(-c**4*r/(-2*G*M + c**2*r)**2 + c**2/(-2*G*M + c**2*r))/(c**2*r**2)], [0, 0, 0, 0], [0, 0.5*(-2*G*M + c**2*r)*(-c**4*r/(-2*G*M + c**2*r)**2 + c**2/(-2*G*M + c**2*r))/(c**2*r**2), 0, 0]], [[0, 0, 0, 0], [0, 0, 0, 0], [0, 0, 0, -1.0 + 1.0*(-2*G*M + c**2*r)/(c**2*r)], [0, 0, 1.0 - 1.0*(-2*G*M + c**2*r)/(c**2*r), 0]], [[0, 0, 0, 0], [0, 0, 0, 0], [0, 0, 0, 0], [0, 0, 0, 0]]]]'\u001B[0m\n",
      "\u001B[32m2024-09-12 15:45:56.264\u001B[0m | \u001B[34m\u001B[1mDEBUG   \u001B[0m | \u001B[36mrelativisticpy.state.scopes\u001B[0m:\u001B[36minit_tensor\u001B[0m:\u001B[36m263\u001B[0m - \u001B[34m\u001B[1mAttempting to initiating 'Riemann^{a}_{m}_{a}_{n}' by equation from cached tensors.\u001B[0m\n",
      "\u001B[32m2024-09-12 15:45:56.287\u001B[0m | \u001B[34m\u001B[1mDEBUG   \u001B[0m | \u001B[36mrelativisticpy.state.scopes\u001B[0m:\u001B[36mset_tensor\u001B[0m:\u001B[36m184\u001B[0m - \u001B[34m\u001B[1mCaching new tensor 'Ricci' with components '[[0.25*(-1/r - (2*G*M - c**2*r)/(c**2*r**2))*(1/r + (2*G*M - c**2*r)/(c**2*r**2)) + 0.5*(1/r + (2*G*M - c**2*r)/(c**2*r**2))/r + 0.5*(-2/r**2 - 2*(2*G*M - c**2*r)/(c**2*r**3))*(-2*G*M + c**2*r)/(c**2*r) + 0.5*(1/r + (2*G*M - c**2*r)/(c**2*r**2))*(-2*G*M + c**2*r)/(c**2*r**2) + 0.25*(1/r + (2*G*M - c**2*r)/(c**2*r**2))*(-2*G*M + c**2*r)**2*(-c**4*r/(-2*G*M + c**2*r)**2 + c**2/(-2*G*M + c**2*r))/(c**4*r**2), 0, 0, 0], [0, -0.25*c**4*r**2*(-1/r - (2*G*M - c**2*r)/(c**2*r**2))**2/(-2*G*M + c**2*r)**2 - 0.5*c**4*r*(-1/r - (2*G*M - c**2*r)/(c**2*r**2))/(-2*G*M + c**2*r)**2 + 0.5*c**2*r*(2/r**2 + 2*(2*G*M - c**2*r)/(c**2*r**3))/(-2*G*M + c**2*r) + 0.5*c**2*(-1/r - (2*G*M - c**2*r)/(c**2*r**2))/(-2*G*M + c**2*r) - 0.25*(-1/r - (2*G*M - c**2*r)/(c**2*r**2))*(-c**4*r/(-2*G*M + c**2*r)**2 + c**2/(-2*G*M + c**2*r)) + 1.0*(-2*G*M + c**2*r)*(-c**4*r/(-2*G*M + c**2*r)**2 + c**2/(-2*G*M + c**2*r))/(c**2*r**2), 0, 0], [0, 0, 0.5*r*(-1/r - (2*G*M - c**2*r)/(c**2*r**2)) - 0.5*(-2*G*M + c**2*r)**2*(-c**4*r/(-2*G*M + c**2*r)**2 + c**2/(-2*G*M + c**2*r))/(c**4*r), 0], [0, 0, 0, 0.5*r*(-1/r - (2*G*M - c**2*r)/(c**2*r**2))*sin(theta)**2 - 0.5*(-2*G*M + c**2*r)**2*(-c**4*r/(-2*G*M + c**2*r)**2 + c**2/(-2*G*M + c**2*r))*sin(theta)**2/(c**4*r)]]'\u001B[0m\n",
      "\u001B[32m2024-09-12 15:45:56.288\u001B[0m | \u001B[34m\u001B[1mDEBUG   \u001B[0m | \u001B[36mrelativisticpy.state.scopes\u001B[0m:\u001B[36minit_tensor\u001B[0m:\u001B[36m263\u001B[0m - \u001B[34m\u001B[1mAttempting to initiating 'g^{s}^{q}' by equation from cached tensors.\u001B[0m\n",
      "\u001B[32m2024-09-12 15:45:56.288\u001B[0m | \u001B[34m\u001B[1mDEBUG   \u001B[0m | \u001B[36mrelativisticpy.state.scopes\u001B[0m:\u001B[36minit_tensor\u001B[0m:\u001B[36m266\u001B[0m - \u001B[34m\u001B[1mIdentified 'g^{s}^{q}' to be a Metric. Initializing Metric from Metric.\u001B[0m\n",
      "\u001B[32m2024-09-12 15:45:56.289\u001B[0m | \u001B[34m\u001B[1mDEBUG   \u001B[0m | \u001B[36mrelativisticpy.state.scopes\u001B[0m:\u001B[36mmetric_tensor\u001B[0m:\u001B[36m102\u001B[0m - \u001B[34m\u001B[1mFound 1 Metric Tensor Objects in scope.\u001B[0m\n",
      "\u001B[32m2024-09-12 15:45:56.289\u001B[0m | \u001B[34m\u001B[1mDEBUG   \u001B[0m | \u001B[36mrelativisticpy.state.scopes\u001B[0m:\u001B[36mmetric_tensor\u001B[0m:\u001B[36m103\u001B[0m - \u001B[34m\u001B[1mReturning <relativisticpy.diffgeom.metric.Metric object at 0x10d4ebb10>.\u001B[0m\n",
      "\u001B[32m2024-09-12 15:45:56.291\u001B[0m | \u001B[34m\u001B[1mDEBUG   \u001B[0m | \u001B[36mrelativisticpy.state.scopes\u001B[0m:\u001B[36mmetric_tensor\u001B[0m:\u001B[36m206\u001B[0m - \u001B[34m\u001B[1mFound metric tensor in scope with components: '[[(2*G*M - c**2*r)/(c**2*r), 0, 0, 0], [0, c**2*r/(-2*G*M + c**2*r), 0, 0], [0, 0, r**2, 0], [0, 0, 0, r**2*sin(theta)**2]]'\u001B[0m\n",
      "\u001B[32m2024-09-12 15:45:56.292\u001B[0m | \u001B[34m\u001B[1mDEBUG   \u001B[0m | \u001B[36mrelativisticpy.state.scopes\u001B[0m:\u001B[36mmetric_tensor\u001B[0m:\u001B[36m102\u001B[0m - \u001B[34m\u001B[1mFound 1 Metric Tensor Objects in scope.\u001B[0m\n",
      "\u001B[32m2024-09-12 15:45:56.293\u001B[0m | \u001B[34m\u001B[1mDEBUG   \u001B[0m | \u001B[36mrelativisticpy.state.scopes\u001B[0m:\u001B[36mmetric_tensor\u001B[0m:\u001B[36m103\u001B[0m - \u001B[34m\u001B[1mReturning <relativisticpy.diffgeom.metric.Metric object at 0x10d4ebb10>.\u001B[0m\n",
      "\u001B[32m2024-09-12 15:45:56.434\u001B[0m | \u001B[34m\u001B[1mDEBUG   \u001B[0m | \u001B[36mrelativisticpy.state.scopes\u001B[0m:\u001B[36minit_tensor\u001B[0m:\u001B[36m271\u001B[0m - \u001B[34m\u001B[1mComputed components of 'g^{s}^{q}' to be: '[[-c**2*r/(-2*G*M + c**2*r), 0, 0, 0], [0, (-2*G*M + c**2*r)/(c**2*r), 0, 0], [0, 0, r**(-2), 0], [0, 0, 0, 1/(r**2*sin(theta)**2)]]'\u001B[0m\n",
      "\u001B[32m2024-09-12 15:45:56.435\u001B[0m | \u001B[34m\u001B[1mDEBUG   \u001B[0m | \u001B[36mrelativisticpy.state.scopes\u001B[0m:\u001B[36mset_tensor\u001B[0m:\u001B[36m184\u001B[0m - \u001B[34m\u001B[1mCaching new tensor 'g' with components '[[-c**2*r/(-2*G*M + c**2*r), 0, 0, 0], [0, (-2*G*M + c**2*r)/(c**2*r), 0, 0], [0, 0, r**(-2), 0], [0, 0, 0, 1/(r**2*sin(theta)**2)]]'\u001B[0m\n",
      "\u001B[32m2024-09-12 15:45:56.436\u001B[0m | \u001B[34m\u001B[1mDEBUG   \u001B[0m | \u001B[36mrelativisticpy.state.scopes\u001B[0m:\u001B[36minit_tensor\u001B[0m:\u001B[36m263\u001B[0m - \u001B[34m\u001B[1mAttempting to initiating 'g^{h}^{c}' by equation from cached tensors.\u001B[0m\n",
      "\u001B[32m2024-09-12 15:45:56.437\u001B[0m | \u001B[34m\u001B[1mDEBUG   \u001B[0m | \u001B[36mrelativisticpy.state.scopes\u001B[0m:\u001B[36minit_tensor\u001B[0m:\u001B[36m266\u001B[0m - \u001B[34m\u001B[1mIdentified 'g^{h}^{c}' to be a Metric. Initializing Metric from Metric.\u001B[0m\n",
      "\u001B[32m2024-09-12 15:45:56.437\u001B[0m | \u001B[34m\u001B[1mDEBUG   \u001B[0m | \u001B[36mrelativisticpy.state.scopes\u001B[0m:\u001B[36mmetric_tensor\u001B[0m:\u001B[36m102\u001B[0m - \u001B[34m\u001B[1mFound 1 Metric Tensor Objects in scope.\u001B[0m\n",
      "\u001B[32m2024-09-12 15:45:56.438\u001B[0m | \u001B[34m\u001B[1mDEBUG   \u001B[0m | \u001B[36mrelativisticpy.state.scopes\u001B[0m:\u001B[36mmetric_tensor\u001B[0m:\u001B[36m103\u001B[0m - \u001B[34m\u001B[1mReturning <relativisticpy.diffgeom.metric.Metric object at 0x10d861990>.\u001B[0m\n",
      "\u001B[32m2024-09-12 15:45:56.440\u001B[0m | \u001B[34m\u001B[1mDEBUG   \u001B[0m | \u001B[36mrelativisticpy.state.scopes\u001B[0m:\u001B[36mmetric_tensor\u001B[0m:\u001B[36m206\u001B[0m - \u001B[34m\u001B[1mFound metric tensor in scope with components: '[[-c**2*r/(-2*G*M + c**2*r), 0, 0, 0], [0, (-2*G*M + c**2*r)/(c**2*r), 0, 0], [0, 0, r**(-2), 0], [0, 0, 0, 1/(r**2*sin(theta)**2)]]'\u001B[0m\n",
      "\u001B[32m2024-09-12 15:45:56.441\u001B[0m | \u001B[34m\u001B[1mDEBUG   \u001B[0m | \u001B[36mrelativisticpy.state.scopes\u001B[0m:\u001B[36mmetric_tensor\u001B[0m:\u001B[36m102\u001B[0m - \u001B[34m\u001B[1mFound 1 Metric Tensor Objects in scope.\u001B[0m\n",
      "\u001B[32m2024-09-12 15:45:56.442\u001B[0m | \u001B[34m\u001B[1mDEBUG   \u001B[0m | \u001B[36mrelativisticpy.state.scopes\u001B[0m:\u001B[36mmetric_tensor\u001B[0m:\u001B[36m103\u001B[0m - \u001B[34m\u001B[1mReturning <relativisticpy.diffgeom.metric.Metric object at 0x10d861990>.\u001B[0m\n",
      "\u001B[32m2024-09-12 15:45:56.444\u001B[0m | \u001B[34m\u001B[1mDEBUG   \u001B[0m | \u001B[36mrelativisticpy.state.scopes\u001B[0m:\u001B[36minit_tensor\u001B[0m:\u001B[36m271\u001B[0m - \u001B[34m\u001B[1mComputed components of 'g^{h}^{c}' to be: '[[-c**2*r/(-2*G*M + c**2*r), 0, 0, 0], [0, (-2*G*M + c**2*r)/(c**2*r), 0, 0], [0, 0, r**(-2), 0], [0, 0, 0, 1/(r**2*sin(theta)**2)]]'\u001B[0m\n",
      "\u001B[32m2024-09-12 15:45:56.446\u001B[0m | \u001B[34m\u001B[1mDEBUG   \u001B[0m | \u001B[36mrelativisticpy.state.scopes\u001B[0m:\u001B[36mset_tensor\u001B[0m:\u001B[36m184\u001B[0m - \u001B[34m\u001B[1mCaching new tensor 'g' with components '[[-c**2*r/(-2*G*M + c**2*r), 0, 0, 0], [0, (-2*G*M + c**2*r)/(c**2*r), 0, 0], [0, 0, r**(-2), 0], [0, 0, 0, 1/(r**2*sin(theta)**2)]]'\u001B[0m\n",
      "\u001B[32m2024-09-12 15:45:56.446\u001B[0m | \u001B[34m\u001B[1mDEBUG   \u001B[0m | \u001B[36mrelativisticpy.state.scopes\u001B[0m:\u001B[36minit_tensor\u001B[0m:\u001B[36m263\u001B[0m - \u001B[34m\u001B[1mAttempting to initiating 'g^{f}^{b}' by equation from cached tensors.\u001B[0m\n",
      "\u001B[32m2024-09-12 15:45:56.447\u001B[0m | \u001B[34m\u001B[1mDEBUG   \u001B[0m | \u001B[36mrelativisticpy.state.scopes\u001B[0m:\u001B[36minit_tensor\u001B[0m:\u001B[36m266\u001B[0m - \u001B[34m\u001B[1mIdentified 'g^{f}^{b}' to be a Metric. Initializing Metric from Metric.\u001B[0m\n",
      "\u001B[32m2024-09-12 15:45:56.448\u001B[0m | \u001B[34m\u001B[1mDEBUG   \u001B[0m | \u001B[36mrelativisticpy.state.scopes\u001B[0m:\u001B[36mmetric_tensor\u001B[0m:\u001B[36m102\u001B[0m - \u001B[34m\u001B[1mFound 1 Metric Tensor Objects in scope.\u001B[0m\n",
      "\u001B[32m2024-09-12 15:45:56.448\u001B[0m | \u001B[34m\u001B[1mDEBUG   \u001B[0m | \u001B[36mrelativisticpy.state.scopes\u001B[0m:\u001B[36mmetric_tensor\u001B[0m:\u001B[36m103\u001B[0m - \u001B[34m\u001B[1mReturning <relativisticpy.diffgeom.metric.Metric object at 0x10d843d50>.\u001B[0m\n",
      "\u001B[32m2024-09-12 15:45:56.450\u001B[0m | \u001B[34m\u001B[1mDEBUG   \u001B[0m | \u001B[36mrelativisticpy.state.scopes\u001B[0m:\u001B[36mmetric_tensor\u001B[0m:\u001B[36m206\u001B[0m - \u001B[34m\u001B[1mFound metric tensor in scope with components: '[[-c**2*r/(-2*G*M + c**2*r), 0, 0, 0], [0, (-2*G*M + c**2*r)/(c**2*r), 0, 0], [0, 0, r**(-2), 0], [0, 0, 0, 1/(r**2*sin(theta)**2)]]'\u001B[0m\n",
      "\u001B[32m2024-09-12 15:45:56.451\u001B[0m | \u001B[34m\u001B[1mDEBUG   \u001B[0m | \u001B[36mrelativisticpy.state.scopes\u001B[0m:\u001B[36mmetric_tensor\u001B[0m:\u001B[36m102\u001B[0m - \u001B[34m\u001B[1mFound 1 Metric Tensor Objects in scope.\u001B[0m\n",
      "\u001B[32m2024-09-12 15:45:56.452\u001B[0m | \u001B[34m\u001B[1mDEBUG   \u001B[0m | \u001B[36mrelativisticpy.state.scopes\u001B[0m:\u001B[36mmetric_tensor\u001B[0m:\u001B[36m103\u001B[0m - \u001B[34m\u001B[1mReturning <relativisticpy.diffgeom.metric.Metric object at 0x10d843d50>.\u001B[0m\n",
      "\u001B[32m2024-09-12 15:45:56.454\u001B[0m | \u001B[34m\u001B[1mDEBUG   \u001B[0m | \u001B[36mrelativisticpy.state.scopes\u001B[0m:\u001B[36minit_tensor\u001B[0m:\u001B[36m271\u001B[0m - \u001B[34m\u001B[1mComputed components of 'g^{f}^{b}' to be: '[[-c**2*r/(-2*G*M + c**2*r), 0, 0, 0], [0, (-2*G*M + c**2*r)/(c**2*r), 0, 0], [0, 0, r**(-2), 0], [0, 0, 0, 1/(r**2*sin(theta)**2)]]'\u001B[0m\n",
      "\u001B[32m2024-09-12 15:45:56.455\u001B[0m | \u001B[34m\u001B[1mDEBUG   \u001B[0m | \u001B[36mrelativisticpy.state.scopes\u001B[0m:\u001B[36mset_tensor\u001B[0m:\u001B[36m184\u001B[0m - \u001B[34m\u001B[1mCaching new tensor 'g' with components '[[-c**2*r/(-2*G*M + c**2*r), 0, 0, 0], [0, (-2*G*M + c**2*r)/(c**2*r), 0, 0], [0, 0, r**(-2), 0], [0, 0, 0, 1/(r**2*sin(theta)**2)]]'\u001B[0m\n",
      "\u001B[32m2024-09-12 15:45:56.456\u001B[0m | \u001B[34m\u001B[1mDEBUG   \u001B[0m | \u001B[36mrelativisticpy.state.scopes\u001B[0m:\u001B[36minit_tensor\u001B[0m:\u001B[36m263\u001B[0m - \u001B[34m\u001B[1mAttempting to initiating 'Riemann^{a}_{b}_{c}_{q}' by equation from cached tensors.\u001B[0m\n",
      "\u001B[32m2024-09-12 15:45:56.497\u001B[0m | \u001B[34m\u001B[1mDEBUG   \u001B[0m | \u001B[36mrelativisticpy.state.scopes\u001B[0m:\u001B[36mset_tensor\u001B[0m:\u001B[36m184\u001B[0m - \u001B[34m\u001B[1mCaching new tensor 'Riemann' with components '[[[[0, 0, 0, 0], [0, 0, 0, 0], [0, 0, 0, 0], [0, 0, 0, 0]], [[0, -0.25*c**4*r**2*(-1/r - (2*G*M - c**2*r)/(c**2*r**2))**2/(-2*G*M + c**2*r)**2 - 0.5*c**4*r*(-1/r - (2*G*M - c**2*r)/(c**2*r**2))/(-2*G*M + c**2*r)**2 + 0.5*c**2*r*(2/r**2 + 2*(2*G*M - c**2*r)/(c**2*r**3))/(-2*G*M + c**2*r) + 0.5*c**2*(-1/r - (2*G*M - c**2*r)/(c**2*r**2))/(-2*G*M + c**2*r) - 0.25*(-1/r - (2*G*M - c**2*r)/(c**2*r**2))*(-c**4*r/(-2*G*M + c**2*r)**2 + c**2/(-2*G*M + c**2*r)), 0, 0], [0.25*c**4*r**2*(-1/r - (2*G*M - c**2*r)/(c**2*r**2))**2/(-2*G*M + c**2*r)**2 + 0.5*c**4*r*(-1/r - (2*G*M - c**2*r)/(c**2*r**2))/(-2*G*M + c**2*r)**2 - 0.5*c**2*r*(2/r**2 + 2*(2*G*M - c**2*r)/(c**2*r**3))/(-2*G*M + c**2*r) - 0.5*c**2*(-1/r - (2*G*M - c**2*r)/(c**2*r**2))/(-2*G*M + c**2*r) + 0.25*(-1/r - (2*G*M - c**2*r)/(c**2*r**2))*(-c**4*r/(-2*G*M + c**2*r)**2 + c**2/(-2*G*M + c**2*r)), 0, 0, 0], [0, 0, 0, 0], [0, 0, 0, 0]], [[0, 0, 0.5*r*(-1/r - (2*G*M - c**2*r)/(c**2*r**2)), 0], [0, 0, 0, 0], [-0.5*r*(-1/r - (2*G*M - c**2*r)/(c**2*r**2)), 0, 0, 0], [0, 0, 0, 0]], [[0, 0, 0, 0.5*r*(-1/r - (2*G*M - c**2*r)/(c**2*r**2))*sin(theta)**2], [0, 0, 0, 0], [0, 0, 0, 0], [-0.5*r*(-1/r - (2*G*M - c**2*r)/(c**2*r**2))*sin(theta)**2, 0, 0, 0]]], [[[0, -0.25*(-1/r - (2*G*M - c**2*r)/(c**2*r**2))*(1/r + (2*G*M - c**2*r)/(c**2*r**2)) - 0.5*(1/r + (2*G*M - c**2*r)/(c**2*r**2))/r - 0.5*(-2/r**2 - 2*(2*G*M - c**2*r)/(c**2*r**3))*(-2*G*M + c**2*r)/(c**2*r) + 0.5*(1/r + (2*G*M - c**2*r)/(c**2*r**2))*(-2*G*M + c**2*r)/(c**2*r**2) - 0.25*(1/r + (2*G*M - c**2*r)/(c**2*r**2))*(-2*G*M + c**2*r)**2*(-c**4*r/(-2*G*M + c**2*r)**2 + c**2/(-2*G*M + c**2*r))/(c**4*r**2), 0, 0], [0.25*(-1/r - (2*G*M - c**2*r)/(c**2*r**2))*(1/r + (2*G*M - c**2*r)/(c**2*r**2)) + 0.5*(1/r + (2*G*M - c**2*r)/(c**2*r**2))/r + 0.5*(-2/r**2 - 2*(2*G*M - c**2*r)/(c**2*r**3))*(-2*G*M + c**2*r)/(c**2*r) - 0.5*(1/r + (2*G*M - c**2*r)/(c**2*r**2))*(-2*G*M + c**2*r)/(c**2*r**2) + 0.25*(1/r + (2*G*M - c**2*r)/(c**2*r**2))*(-2*G*M + c**2*r)**2*(-c**4*r/(-2*G*M + c**2*r)**2 + c**2/(-2*G*M + c**2*r))/(c**4*r**2), 0, 0, 0], [0, 0, 0, 0], [0, 0, 0, 0]], [[0, 0, 0, 0], [0, 0, 0, 0], [0, 0, 0, 0], [0, 0, 0, 0]], [[0, 0, 0, 0], [0, 0, -1.0 + 1.0*(-2*G*M + c**2*r)/(c**2*r) - 0.5*(-2*G*M + c**2*r)**2*(-c**4*r/(-2*G*M + c**2*r)**2 + c**2/(-2*G*M + c**2*r))/(c**4*r), 0], [0, 1.0 - 1.0*(-2*G*M + c**2*r)/(c**2*r) + 0.5*(-2*G*M + c**2*r)**2*(-c**4*r/(-2*G*M + c**2*r)**2 + c**2/(-2*G*M + c**2*r))/(c**4*r), 0, 0], [0, 0, 0, 0]], [[0, 0, 0, 0], [0, 0, 0, -1.0*sin(theta)**2 + 1.0*(-2*G*M + c**2*r)*sin(theta)**2/(c**2*r) - 0.5*(-2*G*M + c**2*r)**2*(-c**4*r/(-2*G*M + c**2*r)**2 + c**2/(-2*G*M + c**2*r))*sin(theta)**2/(c**4*r)], [0, 0, 0, 0], [0, 1.0*sin(theta)**2 - 1.0*(-2*G*M + c**2*r)*sin(theta)**2/(c**2*r) + 0.5*(-2*G*M + c**2*r)**2*(-c**4*r/(-2*G*M + c**2*r)**2 + c**2/(-2*G*M + c**2*r))*sin(theta)**2/(c**4*r), 0, 0]]], [[[0, 0, -0.5*(1/r + (2*G*M - c**2*r)/(c**2*r**2))*(-2*G*M + c**2*r)/(c**2*r**2), 0], [0, 0, 0, 0], [0.5*(1/r + (2*G*M - c**2*r)/(c**2*r**2))*(-2*G*M + c**2*r)/(c**2*r**2), 0, 0, 0], [0, 0, 0, 0]], [[0, 0, 0, 0], [0, 0, -0.5*(-2*G*M + c**2*r)*(-c**4*r/(-2*G*M + c**2*r)**2 + c**2/(-2*G*M + c**2*r))/(c**2*r**2), 0], [0, 0.5*(-2*G*M + c**2*r)*(-c**4*r/(-2*G*M + c**2*r)**2 + c**2/(-2*G*M + c**2*r))/(c**2*r**2), 0, 0], [0, 0, 0, 0]], [[0, 0, 0, 0], [0, 0, 0, 0], [0, 0, 0, 0], [0, 0, 0, 0]], [[0, 0, 0, 0], [0, 0, 0, 0], [0, 0, 0, 1.0*sin(theta)**2 - 1.0*(-2*G*M + c**2*r)*sin(theta)**2/(c**2*r)], [0, 0, -1.0*sin(theta)**2 + 1.0*(-2*G*M + c**2*r)*sin(theta)**2/(c**2*r), 0]]], [[[0, 0, 0, -0.5*(1/r + (2*G*M - c**2*r)/(c**2*r**2))*(-2*G*M + c**2*r)/(c**2*r**2)], [0, 0, 0, 0], [0, 0, 0, 0], [0.5*(1/r + (2*G*M - c**2*r)/(c**2*r**2))*(-2*G*M + c**2*r)/(c**2*r**2), 0, 0, 0]], [[0, 0, 0, 0], [0, 0, 0, -0.5*(-2*G*M + c**2*r)*(-c**4*r/(-2*G*M + c**2*r)**2 + c**2/(-2*G*M + c**2*r))/(c**2*r**2)], [0, 0, 0, 0], [0, 0.5*(-2*G*M + c**2*r)*(-c**4*r/(-2*G*M + c**2*r)**2 + c**2/(-2*G*M + c**2*r))/(c**2*r**2), 0, 0]], [[0, 0, 0, 0], [0, 0, 0, 0], [0, 0, 0, -1.0 + 1.0*(-2*G*M + c**2*r)/(c**2*r)], [0, 0, 1.0 - 1.0*(-2*G*M + c**2*r)/(c**2*r), 0]], [[0, 0, 0, 0], [0, 0, 0, 0], [0, 0, 0, 0], [0, 0, 0, 0]]]]'\u001B[0m\n",
      "\u001B[32m2024-09-12 15:45:56.498\u001B[0m | \u001B[34m\u001B[1mDEBUG   \u001B[0m | \u001B[36mrelativisticpy.workbook.ast_visitor\u001B[0m:\u001B[36mmul\u001B[0m:\u001B[36m110\u001B[0m - \u001B[34m\u001B[1mMultiplying <relativisticpy.diffgeom.metric.Metric object at 0x10d7ef1d0> * <relativisticpy.diffgeom.tensor.Tensor object at 0x10d8c3c10> at position TokenPosition(start_pos=Position(line=32, character=51), end_pos=Position(line=32, character=52))\u001B[0m\n",
      "\u001B[32m2024-09-12 15:45:56.665\u001B[0m | \u001B[34m\u001B[1mDEBUG   \u001B[0m | \u001B[36mrelativisticpy.workbook.ast_visitor\u001B[0m:\u001B[36mmul\u001B[0m:\u001B[36m110\u001B[0m - \u001B[34m\u001B[1mMultiplying <relativisticpy.diffgeom.metric.Metric object at 0x10d845590> * <relativisticpy.diffgeom.tensor.Tensor object at 0x10d863fd0> at position TokenPosition(start_pos=Position(line=32, character=39), end_pos=Position(line=32, character=40))\u001B[0m\n",
      "\u001B[32m2024-09-12 15:45:56.784\u001B[0m | \u001B[34m\u001B[1mDEBUG   \u001B[0m | \u001B[36mrelativisticpy.workbook.ast_visitor\u001B[0m:\u001B[36mmul\u001B[0m:\u001B[36m110\u001B[0m - \u001B[34m\u001B[1mMultiplying <relativisticpy.diffgeom.metric.Metric object at 0x10d7e23d0> * <relativisticpy.diffgeom.tensor.Tensor object at 0x10d81d250> at position TokenPosition(start_pos=Position(line=32, character=27), end_pos=Position(line=32, character=28))\u001B[0m\n",
      "\u001B[32m2024-09-12 15:45:56.956\u001B[0m | \u001B[34m\u001B[1mDEBUG   \u001B[0m | \u001B[36mrelativisticpy.state.scopes\u001B[0m:\u001B[36mset_tensor\u001B[0m:\u001B[36m184\u001B[0m - \u001B[34m\u001B[1mCaching new tensor 'TempOne' with components '[[[[0, 0, 0, 0], [0, 0, 0, 0], [0, 0, 0, 0], [0, 0, 0, 0]], [[0, (-2*G*M + c**2*r)*(0.25*c**4*r**2*(-1/r - (2*G*M - c**2*r)/(c**2*r**2))**2/(-2*G*M + c**2*r)**2 + 0.5*c**4*r*(-1/r - (2*G*M - c**2*r)/(c**2*r**2))/(-2*G*M + c**2*r)**2 - 0.5*c**2*r*(2/r**2 + 2*(2*G*M - c**2*r)/(c**2*r**3))/(-2*G*M + c**2*r) - 0.5*c**2*(-1/r - (2*G*M - c**2*r)/(c**2*r**2))/(-2*G*M + c**2*r) + 0.25*(-1/r - (2*G*M - c**2*r)/(c**2*r**2))*(-c**4*r/(-2*G*M + c**2*r)**2 + c**2/(-2*G*M + c**2*r)))/(c**2*r), 0, 0], [-(-2*G*M + c**2*r)*(0.25*c**4*r**2*(-1/r - (2*G*M - c**2*r)/(c**2*r**2))**2/(-2*G*M + c**2*r)**2 + 0.5*c**4*r*(-1/r - (2*G*M - c**2*r)/(c**2*r**2))/(-2*G*M + c**2*r)**2 - 0.5*c**2*r*(2/r**2 + 2*(2*G*M - c**2*r)/(c**2*r**3))/(-2*G*M + c**2*r) - 0.5*c**2*(-1/r - (2*G*M - c**2*r)/(c**2*r**2))/(-2*G*M + c**2*r) + 0.25*(-1/r - (2*G*M - c**2*r)/(c**2*r**2))*(-c**4*r/(-2*G*M + c**2*r)**2 + c**2/(-2*G*M + c**2*r)))/(c**2*r), 0, 0, 0], [0, 0, 0, 0], [0, 0, 0, 0]], [[0, 0, -0.5*c**2*(-1/r - (2*G*M - c**2*r)/(c**2*r**2))/(r**2*(-2*G*M + c**2*r)), 0], [0, 0, 0, 0], [0.5*c**2*(-1/r - (2*G*M - c**2*r)/(c**2*r**2))/(r**2*(-2*G*M + c**2*r)), 0, 0, 0], [0, 0, 0, 0]], [[0, 0, 0, -0.5*c**2*(-1/r - (2*G*M - c**2*r)/(c**2*r**2))/(r**2*(-2*G*M + c**2*r)*sin(theta)**2)], [0, 0, 0, 0], [0, 0, 0, 0], [0.5*c**2*(-1/r - (2*G*M - c**2*r)/(c**2*r**2))/(r**2*(-2*G*M + c**2*r)*sin(theta)**2), 0, 0, 0]]], [[[0, c**2*r*(-0.25*(-1/r - (2*G*M - c**2*r)/(c**2*r**2))*(1/r + (2*G*M - c**2*r)/(c**2*r**2)) - 0.5*(1/r + (2*G*M - c**2*r)/(c**2*r**2))/r - 0.5*(-2/r**2 - 2*(2*G*M - c**2*r)/(c**2*r**3))*(-2*G*M + c**2*r)/(c**2*r) + 0.5*(1/r + (2*G*M - c**2*r)/(c**2*r**2))*(-2*G*M + c**2*r)/(c**2*r**2) - 0.25*(1/r + (2*G*M - c**2*r)/(c**2*r**2))*(-2*G*M + c**2*r)**2*(-c**4*r/(-2*G*M + c**2*r)**2 + c**2/(-2*G*M + c**2*r))/(c**4*r**2))/(-2*G*M + c**2*r), 0, 0], [-c**2*r*(-0.25*(-1/r - (2*G*M - c**2*r)/(c**2*r**2))*(1/r + (2*G*M - c**2*r)/(c**2*r**2)) - 0.5*(1/r + (2*G*M - c**2*r)/(c**2*r**2))/r - 0.5*(-2/r**2 - 2*(2*G*M - c**2*r)/(c**2*r**3))*(-2*G*M + c**2*r)/(c**2*r) + 0.5*(1/r + (2*G*M - c**2*r)/(c**2*r**2))*(-2*G*M + c**2*r)/(c**2*r**2) - 0.25*(1/r + (2*G*M - c**2*r)/(c**2*r**2))*(-2*G*M + c**2*r)**2*(-c**4*r/(-2*G*M + c**2*r)**2 + c**2/(-2*G*M + c**2*r))/(c**4*r**2))/(-2*G*M + c**2*r), 0, 0, 0], [0, 0, 0, 0], [0, 0, 0, 0]], [[0, 0, 0, 0], [0, 0, 0, 0], [0, 0, 0, 0], [0, 0, 0, 0]], [[0, 0, 0, 0], [0, 0, (-2*G*M + c**2*r)*(-1.0 + 1.0*(-2*G*M + c**2*r)/(c**2*r) - 0.5*(-2*G*M + c**2*r)**2*(-c**4*r/(-2*G*M + c**2*r)**2 + c**2/(-2*G*M + c**2*r))/(c**4*r))/(c**2*r**5), 0], [0, (-2*G*M + c**2*r)*(1.0 - 1.0*(-2*G*M + c**2*r)/(c**2*r) + 0.5*(-2*G*M + c**2*r)**2*(-c**4*r/(-2*G*M + c**2*r)**2 + c**2/(-2*G*M + c**2*r))/(c**4*r))/(c**2*r**5), 0, 0], [0, 0, 0, 0]], [[0, 0, 0, 0], [0, 0, 0, (-2*G*M + c**2*r)*(-1.0*sin(theta)**2 + 1.0*(-2*G*M + c**2*r)*sin(theta)**2/(c**2*r) - 0.5*(-2*G*M + c**2*r)**2*(-c**4*r/(-2*G*M + c**2*r)**2 + c**2/(-2*G*M + c**2*r))*sin(theta)**2/(c**4*r))/(c**2*r**5*sin(theta)**4)], [0, 0, 0, 0], [0, (-2*G*M + c**2*r)*(1.0*sin(theta)**2 - 1.0*(-2*G*M + c**2*r)*sin(theta)**2/(c**2*r) + 0.5*(-2*G*M + c**2*r)**2*(-c**4*r/(-2*G*M + c**2*r)**2 + c**2/(-2*G*M + c**2*r))*sin(theta)**2/(c**4*r))/(c**2*r**5*sin(theta)**4), 0, 0]]], [[[0, 0, -0.5*c**2*(1/r + (2*G*M - c**2*r)/(c**2*r**2))/(r**2*(-2*G*M + c**2*r)), 0], [0, 0, 0, 0], [0.5*c**2*(1/r + (2*G*M - c**2*r)/(c**2*r**2))/(r**2*(-2*G*M + c**2*r)), 0, 0, 0], [0, 0, 0, 0]], [[0, 0, 0, 0], [0, 0, -0.5*(-2*G*M + c**2*r)**3*(-c**4*r/(-2*G*M + c**2*r)**2 + c**2/(-2*G*M + c**2*r))/(c**6*r**6), 0], [0, 0.5*(-2*G*M + c**2*r)**3*(-c**4*r/(-2*G*M + c**2*r)**2 + c**2/(-2*G*M + c**2*r))/(c**6*r**6), 0, 0], [0, 0, 0, 0]], [[0, 0, 0, 0], [0, 0, 0, 0], [0, 0, 0, 0], [0, 0, 0, 0]], [[0, 0, 0, 0], [0, 0, 0, 0], [0, 0, 0, (1.0*sin(theta)**2 - 1.0*(-2*G*M + c**2*r)*sin(theta)**2/(c**2*r))/(r**6*sin(theta)**4)], [0, 0, (-1.0*sin(theta)**2 + 1.0*(-2*G*M + c**2*r)*sin(theta)**2/(c**2*r))/(r**6*sin(theta)**4), 0]]], [[[0, 0, 0, -0.5*c**2*(1/r + (2*G*M - c**2*r)/(c**2*r**2))/(r**2*(-2*G*M + c**2*r)*sin(theta)**2)], [0, 0, 0, 0], [0, 0, 0, 0], [0.5*c**2*(1/r + (2*G*M - c**2*r)/(c**2*r**2))/(r**2*(-2*G*M + c**2*r)*sin(theta)**2), 0, 0, 0]], [[0, 0, 0, 0], [0, 0, 0, -0.5*(-2*G*M + c**2*r)**3*(-c**4*r/(-2*G*M + c**2*r)**2 + c**2/(-2*G*M + c**2*r))/(c**6*r**6*sin(theta)**2)], [0, 0, 0, 0], [0, 0.5*(-2*G*M + c**2*r)**3*(-c**4*r/(-2*G*M + c**2*r)**2 + c**2/(-2*G*M + c**2*r))/(c**6*r**6*sin(theta)**2), 0, 0]], [[0, 0, 0, 0], [0, 0, 0, 0], [0, 0, 0, (-1.0 + 1.0*(-2*G*M + c**2*r)/(c**2*r))/(r**6*sin(theta)**2)], [0, 0, (1.0 - 1.0*(-2*G*M + c**2*r)/(c**2*r))/(r**6*sin(theta)**2), 0]], [[0, 0, 0, 0], [0, 0, 0, 0], [0, 0, 0, 0], [0, 0, 0, 0]]]]'\u001B[0m\n",
      "\u001B[32m2024-09-12 15:45:56.958\u001B[0m | \u001B[34m\u001B[1mDEBUG   \u001B[0m | \u001B[36mrelativisticpy.state.scopes\u001B[0m:\u001B[36minit_tensor\u001B[0m:\u001B[36m263\u001B[0m - \u001B[34m\u001B[1mAttempting to initiating 'g_{a}_{n}' by equation from cached tensors.\u001B[0m\n",
      "\u001B[32m2024-09-12 15:45:56.958\u001B[0m | \u001B[34m\u001B[1mDEBUG   \u001B[0m | \u001B[36mrelativisticpy.state.scopes\u001B[0m:\u001B[36minit_tensor\u001B[0m:\u001B[36m266\u001B[0m - \u001B[34m\u001B[1mIdentified 'g_{a}_{n}' to be a Metric. Initializing Metric from Metric.\u001B[0m\n",
      "\u001B[32m2024-09-12 15:45:56.959\u001B[0m | \u001B[34m\u001B[1mDEBUG   \u001B[0m | \u001B[36mrelativisticpy.state.scopes\u001B[0m:\u001B[36mmetric_tensor\u001B[0m:\u001B[36m102\u001B[0m - \u001B[34m\u001B[1mFound 1 Metric Tensor Objects in scope.\u001B[0m\n",
      "\u001B[32m2024-09-12 15:45:56.959\u001B[0m | \u001B[34m\u001B[1mDEBUG   \u001B[0m | \u001B[36mrelativisticpy.state.scopes\u001B[0m:\u001B[36mmetric_tensor\u001B[0m:\u001B[36m103\u001B[0m - \u001B[34m\u001B[1mReturning <relativisticpy.diffgeom.metric.Metric object at 0x10d863d50>.\u001B[0m\n",
      "\u001B[32m2024-09-12 15:45:56.961\u001B[0m | \u001B[34m\u001B[1mDEBUG   \u001B[0m | \u001B[36mrelativisticpy.state.scopes\u001B[0m:\u001B[36mmetric_tensor\u001B[0m:\u001B[36m206\u001B[0m - \u001B[34m\u001B[1mFound metric tensor in scope with components: '[[-c**2*r/(-2*G*M + c**2*r), 0, 0, 0], [0, (-2*G*M + c**2*r)/(c**2*r), 0, 0], [0, 0, r**(-2), 0], [0, 0, 0, 1/(r**2*sin(theta)**2)]]'\u001B[0m\n",
      "\u001B[32m2024-09-12 15:45:56.961\u001B[0m | \u001B[34m\u001B[1mDEBUG   \u001B[0m | \u001B[36mrelativisticpy.state.scopes\u001B[0m:\u001B[36mmetric_tensor\u001B[0m:\u001B[36m102\u001B[0m - \u001B[34m\u001B[1mFound 1 Metric Tensor Objects in scope.\u001B[0m\n",
      "\u001B[32m2024-09-12 15:45:56.962\u001B[0m | \u001B[34m\u001B[1mDEBUG   \u001B[0m | \u001B[36mrelativisticpy.state.scopes\u001B[0m:\u001B[36mmetric_tensor\u001B[0m:\u001B[36m103\u001B[0m - \u001B[34m\u001B[1mReturning <relativisticpy.diffgeom.metric.Metric object at 0x10d863d50>.\u001B[0m\n",
      "\u001B[32m2024-09-12 15:45:57.104\u001B[0m | \u001B[34m\u001B[1mDEBUG   \u001B[0m | \u001B[36mrelativisticpy.state.scopes\u001B[0m:\u001B[36minit_tensor\u001B[0m:\u001B[36m271\u001B[0m - \u001B[34m\u001B[1mComputed components of 'g_{a}_{n}' to be: '[[(2*G*M - c**2*r)/(c**2*r), 0, 0, 0], [0, c**2*r/(-2*G*M + c**2*r), 0, 0], [0, 0, r**2, 0], [0, 0, 0, r**2*sin(theta)**2]]'\u001B[0m\n",
      "\u001B[32m2024-09-12 15:45:57.105\u001B[0m | \u001B[34m\u001B[1mDEBUG   \u001B[0m | \u001B[36mrelativisticpy.state.scopes\u001B[0m:\u001B[36mset_tensor\u001B[0m:\u001B[36m184\u001B[0m - \u001B[34m\u001B[1mCaching new tensor 'g' with components '[[(2*G*M - c**2*r)/(c**2*r), 0, 0, 0], [0, c**2*r/(-2*G*M + c**2*r), 0, 0], [0, 0, r**2, 0], [0, 0, 0, r**2*sin(theta)**2]]'\u001B[0m\n",
      "\u001B[32m2024-09-12 15:45:57.106\u001B[0m | \u001B[34m\u001B[1mDEBUG   \u001B[0m | \u001B[36mrelativisticpy.state.scopes\u001B[0m:\u001B[36minit_tensor\u001B[0m:\u001B[36m263\u001B[0m - \u001B[34m\u001B[1mAttempting to initiating 'Riemann^{n}_{f}_{h}_{s}' by equation from cached tensors.\u001B[0m\n",
      "\u001B[32m2024-09-12 15:45:57.143\u001B[0m | \u001B[34m\u001B[1mDEBUG   \u001B[0m | \u001B[36mrelativisticpy.state.scopes\u001B[0m:\u001B[36mset_tensor\u001B[0m:\u001B[36m184\u001B[0m - \u001B[34m\u001B[1mCaching new tensor 'Riemann' with components '[[[[0, 0, 0, 0], [0, 0, 0, 0], [0, 0, 0, 0], [0, 0, 0, 0]], [[0, -0.25*c**4*r**2*(-1/r - (2*G*M - c**2*r)/(c**2*r**2))**2/(-2*G*M + c**2*r)**2 - 0.5*c**4*r*(-1/r - (2*G*M - c**2*r)/(c**2*r**2))/(-2*G*M + c**2*r)**2 + 0.5*c**2*r*(2/r**2 + 2*(2*G*M - c**2*r)/(c**2*r**3))/(-2*G*M + c**2*r) + 0.5*c**2*(-1/r - (2*G*M - c**2*r)/(c**2*r**2))/(-2*G*M + c**2*r) - 0.25*(-1/r - (2*G*M - c**2*r)/(c**2*r**2))*(-c**4*r/(-2*G*M + c**2*r)**2 + c**2/(-2*G*M + c**2*r)), 0, 0], [0.25*c**4*r**2*(-1/r - (2*G*M - c**2*r)/(c**2*r**2))**2/(-2*G*M + c**2*r)**2 + 0.5*c**4*r*(-1/r - (2*G*M - c**2*r)/(c**2*r**2))/(-2*G*M + c**2*r)**2 - 0.5*c**2*r*(2/r**2 + 2*(2*G*M - c**2*r)/(c**2*r**3))/(-2*G*M + c**2*r) - 0.5*c**2*(-1/r - (2*G*M - c**2*r)/(c**2*r**2))/(-2*G*M + c**2*r) + 0.25*(-1/r - (2*G*M - c**2*r)/(c**2*r**2))*(-c**4*r/(-2*G*M + c**2*r)**2 + c**2/(-2*G*M + c**2*r)), 0, 0, 0], [0, 0, 0, 0], [0, 0, 0, 0]], [[0, 0, 0.5*r*(-1/r - (2*G*M - c**2*r)/(c**2*r**2)), 0], [0, 0, 0, 0], [-0.5*r*(-1/r - (2*G*M - c**2*r)/(c**2*r**2)), 0, 0, 0], [0, 0, 0, 0]], [[0, 0, 0, 0.5*r*(-1/r - (2*G*M - c**2*r)/(c**2*r**2))*sin(theta)**2], [0, 0, 0, 0], [0, 0, 0, 0], [-0.5*r*(-1/r - (2*G*M - c**2*r)/(c**2*r**2))*sin(theta)**2, 0, 0, 0]]], [[[0, -0.25*(-1/r - (2*G*M - c**2*r)/(c**2*r**2))*(1/r + (2*G*M - c**2*r)/(c**2*r**2)) - 0.5*(1/r + (2*G*M - c**2*r)/(c**2*r**2))/r - 0.5*(-2/r**2 - 2*(2*G*M - c**2*r)/(c**2*r**3))*(-2*G*M + c**2*r)/(c**2*r) + 0.5*(1/r + (2*G*M - c**2*r)/(c**2*r**2))*(-2*G*M + c**2*r)/(c**2*r**2) - 0.25*(1/r + (2*G*M - c**2*r)/(c**2*r**2))*(-2*G*M + c**2*r)**2*(-c**4*r/(-2*G*M + c**2*r)**2 + c**2/(-2*G*M + c**2*r))/(c**4*r**2), 0, 0], [0.25*(-1/r - (2*G*M - c**2*r)/(c**2*r**2))*(1/r + (2*G*M - c**2*r)/(c**2*r**2)) + 0.5*(1/r + (2*G*M - c**2*r)/(c**2*r**2))/r + 0.5*(-2/r**2 - 2*(2*G*M - c**2*r)/(c**2*r**3))*(-2*G*M + c**2*r)/(c**2*r) - 0.5*(1/r + (2*G*M - c**2*r)/(c**2*r**2))*(-2*G*M + c**2*r)/(c**2*r**2) + 0.25*(1/r + (2*G*M - c**2*r)/(c**2*r**2))*(-2*G*M + c**2*r)**2*(-c**4*r/(-2*G*M + c**2*r)**2 + c**2/(-2*G*M + c**2*r))/(c**4*r**2), 0, 0, 0], [0, 0, 0, 0], [0, 0, 0, 0]], [[0, 0, 0, 0], [0, 0, 0, 0], [0, 0, 0, 0], [0, 0, 0, 0]], [[0, 0, 0, 0], [0, 0, -1.0 + 1.0*(-2*G*M + c**2*r)/(c**2*r) - 0.5*(-2*G*M + c**2*r)**2*(-c**4*r/(-2*G*M + c**2*r)**2 + c**2/(-2*G*M + c**2*r))/(c**4*r), 0], [0, 1.0 - 1.0*(-2*G*M + c**2*r)/(c**2*r) + 0.5*(-2*G*M + c**2*r)**2*(-c**4*r/(-2*G*M + c**2*r)**2 + c**2/(-2*G*M + c**2*r))/(c**4*r), 0, 0], [0, 0, 0, 0]], [[0, 0, 0, 0], [0, 0, 0, -1.0*sin(theta)**2 + 1.0*(-2*G*M + c**2*r)*sin(theta)**2/(c**2*r) - 0.5*(-2*G*M + c**2*r)**2*(-c**4*r/(-2*G*M + c**2*r)**2 + c**2/(-2*G*M + c**2*r))*sin(theta)**2/(c**4*r)], [0, 0, 0, 0], [0, 1.0*sin(theta)**2 - 1.0*(-2*G*M + c**2*r)*sin(theta)**2/(c**2*r) + 0.5*(-2*G*M + c**2*r)**2*(-c**4*r/(-2*G*M + c**2*r)**2 + c**2/(-2*G*M + c**2*r))*sin(theta)**2/(c**4*r), 0, 0]]], [[[0, 0, -0.5*(1/r + (2*G*M - c**2*r)/(c**2*r**2))*(-2*G*M + c**2*r)/(c**2*r**2), 0], [0, 0, 0, 0], [0.5*(1/r + (2*G*M - c**2*r)/(c**2*r**2))*(-2*G*M + c**2*r)/(c**2*r**2), 0, 0, 0], [0, 0, 0, 0]], [[0, 0, 0, 0], [0, 0, -0.5*(-2*G*M + c**2*r)*(-c**4*r/(-2*G*M + c**2*r)**2 + c**2/(-2*G*M + c**2*r))/(c**2*r**2), 0], [0, 0.5*(-2*G*M + c**2*r)*(-c**4*r/(-2*G*M + c**2*r)**2 + c**2/(-2*G*M + c**2*r))/(c**2*r**2), 0, 0], [0, 0, 0, 0]], [[0, 0, 0, 0], [0, 0, 0, 0], [0, 0, 0, 0], [0, 0, 0, 0]], [[0, 0, 0, 0], [0, 0, 0, 0], [0, 0, 0, 1.0*sin(theta)**2 - 1.0*(-2*G*M + c**2*r)*sin(theta)**2/(c**2*r)], [0, 0, -1.0*sin(theta)**2 + 1.0*(-2*G*M + c**2*r)*sin(theta)**2/(c**2*r), 0]]], [[[0, 0, 0, -0.5*(1/r + (2*G*M - c**2*r)/(c**2*r**2))*(-2*G*M + c**2*r)/(c**2*r**2)], [0, 0, 0, 0], [0, 0, 0, 0], [0.5*(1/r + (2*G*M - c**2*r)/(c**2*r**2))*(-2*G*M + c**2*r)/(c**2*r**2), 0, 0, 0]], [[0, 0, 0, 0], [0, 0, 0, -0.5*(-2*G*M + c**2*r)*(-c**4*r/(-2*G*M + c**2*r)**2 + c**2/(-2*G*M + c**2*r))/(c**2*r**2)], [0, 0, 0, 0], [0, 0.5*(-2*G*M + c**2*r)*(-c**4*r/(-2*G*M + c**2*r)**2 + c**2/(-2*G*M + c**2*r))/(c**2*r**2), 0, 0]], [[0, 0, 0, 0], [0, 0, 0, 0], [0, 0, 0, -1.0 + 1.0*(-2*G*M + c**2*r)/(c**2*r)], [0, 0, 1.0 - 1.0*(-2*G*M + c**2*r)/(c**2*r), 0]], [[0, 0, 0, 0], [0, 0, 0, 0], [0, 0, 0, 0], [0, 0, 0, 0]]]]'\u001B[0m\n",
      "\u001B[32m2024-09-12 15:45:57.145\u001B[0m | \u001B[34m\u001B[1mDEBUG   \u001B[0m | \u001B[36mrelativisticpy.workbook.ast_visitor\u001B[0m:\u001B[36mmul\u001B[0m:\u001B[36m110\u001B[0m - \u001B[34m\u001B[1mMultiplying <relativisticpy.diffgeom.metric.Metric object at 0x10d327090> * <relativisticpy.diffgeom.tensor.Tensor object at 0x10dbe2910> at position TokenPosition(start_pos=Position(line=34, character=27), end_pos=Position(line=34, character=28))\u001B[0m\n",
      "\u001B[32m2024-09-12 15:45:57.304\u001B[0m | \u001B[34m\u001B[1mDEBUG   \u001B[0m | \u001B[36mrelativisticpy.state.scopes\u001B[0m:\u001B[36mset_tensor\u001B[0m:\u001B[36m184\u001B[0m - \u001B[34m\u001B[1mCaching new tensor 'TempTwo' with components '[[[[0, 0, 0, 0], [0, 0, 0, 0], [0, 0, 0, 0], [0, 0, 0, 0]], [[0, (2*G*M - c**2*r)*(-0.25*c**4*r**2*(-1/r - (2*G*M - c**2*r)/(c**2*r**2))**2/(-2*G*M + c**2*r)**2 - 0.5*c**4*r*(-1/r - (2*G*M - c**2*r)/(c**2*r**2))/(-2*G*M + c**2*r)**2 + 0.5*c**2*r*(2/r**2 + 2*(2*G*M - c**2*r)/(c**2*r**3))/(-2*G*M + c**2*r) + 0.5*c**2*(-1/r - (2*G*M - c**2*r)/(c**2*r**2))/(-2*G*M + c**2*r) - 0.25*(-1/r - (2*G*M - c**2*r)/(c**2*r**2))*(-c**4*r/(-2*G*M + c**2*r)**2 + c**2/(-2*G*M + c**2*r)))/(c**2*r), 0, 0], [(2*G*M - c**2*r)*(0.25*c**4*r**2*(-1/r - (2*G*M - c**2*r)/(c**2*r**2))**2/(-2*G*M + c**2*r)**2 + 0.5*c**4*r*(-1/r - (2*G*M - c**2*r)/(c**2*r**2))/(-2*G*M + c**2*r)**2 - 0.5*c**2*r*(2/r**2 + 2*(2*G*M - c**2*r)/(c**2*r**3))/(-2*G*M + c**2*r) - 0.5*c**2*(-1/r - (2*G*M - c**2*r)/(c**2*r**2))/(-2*G*M + c**2*r) + 0.25*(-1/r - (2*G*M - c**2*r)/(c**2*r**2))*(-c**4*r/(-2*G*M + c**2*r)**2 + c**2/(-2*G*M + c**2*r)))/(c**2*r), 0, 0, 0], [0, 0, 0, 0], [0, 0, 0, 0]], [[0, 0, 0.5*(-1/r - (2*G*M - c**2*r)/(c**2*r**2))*(2*G*M - c**2*r)/c**2, 0], [0, 0, 0, 0], [-0.5*(-1/r - (2*G*M - c**2*r)/(c**2*r**2))*(2*G*M - c**2*r)/c**2, 0, 0, 0], [0, 0, 0, 0]], [[0, 0, 0, 0.5*(-1/r - (2*G*M - c**2*r)/(c**2*r**2))*(2*G*M - c**2*r)*sin(theta)**2/c**2], [0, 0, 0, 0], [0, 0, 0, 0], [-0.5*(-1/r - (2*G*M - c**2*r)/(c**2*r**2))*(2*G*M - c**2*r)*sin(theta)**2/c**2, 0, 0, 0]]], [[[0, c**2*r*(-0.25*(-1/r - (2*G*M - c**2*r)/(c**2*r**2))*(1/r + (2*G*M - c**2*r)/(c**2*r**2)) - 0.5*(1/r + (2*G*M - c**2*r)/(c**2*r**2))/r - 0.5*(-2/r**2 - 2*(2*G*M - c**2*r)/(c**2*r**3))*(-2*G*M + c**2*r)/(c**2*r) + 0.5*(1/r + (2*G*M - c**2*r)/(c**2*r**2))*(-2*G*M + c**2*r)/(c**2*r**2) - 0.25*(1/r + (2*G*M - c**2*r)/(c**2*r**2))*(-2*G*M + c**2*r)**2*(-c**4*r/(-2*G*M + c**2*r)**2 + c**2/(-2*G*M + c**2*r))/(c**4*r**2))/(-2*G*M + c**2*r), 0, 0], [c**2*r*(0.25*(-1/r - (2*G*M - c**2*r)/(c**2*r**2))*(1/r + (2*G*M - c**2*r)/(c**2*r**2)) + 0.5*(1/r + (2*G*M - c**2*r)/(c**2*r**2))/r + 0.5*(-2/r**2 - 2*(2*G*M - c**2*r)/(c**2*r**3))*(-2*G*M + c**2*r)/(c**2*r) - 0.5*(1/r + (2*G*M - c**2*r)/(c**2*r**2))*(-2*G*M + c**2*r)/(c**2*r**2) + 0.25*(1/r + (2*G*M - c**2*r)/(c**2*r**2))*(-2*G*M + c**2*r)**2*(-c**4*r/(-2*G*M + c**2*r)**2 + c**2/(-2*G*M + c**2*r))/(c**4*r**2))/(-2*G*M + c**2*r), 0, 0, 0], [0, 0, 0, 0], [0, 0, 0, 0]], [[0, 0, 0, 0], [0, 0, 0, 0], [0, 0, 0, 0], [0, 0, 0, 0]], [[0, 0, 0, 0], [0, 0, c**2*r*(-1.0 + 1.0*(-2*G*M + c**2*r)/(c**2*r) - 0.5*(-2*G*M + c**2*r)**2*(-c**4*r/(-2*G*M + c**2*r)**2 + c**2/(-2*G*M + c**2*r))/(c**4*r))/(-2*G*M + c**2*r), 0], [0, c**2*r*(1.0 - 1.0*(-2*G*M + c**2*r)/(c**2*r) + 0.5*(-2*G*M + c**2*r)**2*(-c**4*r/(-2*G*M + c**2*r)**2 + c**2/(-2*G*M + c**2*r))/(c**4*r))/(-2*G*M + c**2*r), 0, 0], [0, 0, 0, 0]], [[0, 0, 0, 0], [0, 0, 0, c**2*r*(-1.0*sin(theta)**2 + 1.0*(-2*G*M + c**2*r)*sin(theta)**2/(c**2*r) - 0.5*(-2*G*M + c**2*r)**2*(-c**4*r/(-2*G*M + c**2*r)**2 + c**2/(-2*G*M + c**2*r))*sin(theta)**2/(c**4*r))/(-2*G*M + c**2*r)], [0, 0, 0, 0], [0, c**2*r*(1.0*sin(theta)**2 - 1.0*(-2*G*M + c**2*r)*sin(theta)**2/(c**2*r) + 0.5*(-2*G*M + c**2*r)**2*(-c**4*r/(-2*G*M + c**2*r)**2 + c**2/(-2*G*M + c**2*r))*sin(theta)**2/(c**4*r))/(-2*G*M + c**2*r), 0, 0]]], [[[0, 0, -0.5*(1/r + (2*G*M - c**2*r)/(c**2*r**2))*(-2*G*M + c**2*r)/c**2, 0], [0, 0, 0, 0], [0.5*(1/r + (2*G*M - c**2*r)/(c**2*r**2))*(-2*G*M + c**2*r)/c**2, 0, 0, 0], [0, 0, 0, 0]], [[0, 0, 0, 0], [0, 0, -0.5*(-2*G*M + c**2*r)*(-c**4*r/(-2*G*M + c**2*r)**2 + c**2/(-2*G*M + c**2*r))/c**2, 0], [0, 0.5*(-2*G*M + c**2*r)*(-c**4*r/(-2*G*M + c**2*r)**2 + c**2/(-2*G*M + c**2*r))/c**2, 0, 0], [0, 0, 0, 0]], [[0, 0, 0, 0], [0, 0, 0, 0], [0, 0, 0, 0], [0, 0, 0, 0]], [[0, 0, 0, 0], [0, 0, 0, 0], [0, 0, 0, r**2*(1.0*sin(theta)**2 - 1.0*(-2*G*M + c**2*r)*sin(theta)**2/(c**2*r))], [0, 0, r**2*(-1.0*sin(theta)**2 + 1.0*(-2*G*M + c**2*r)*sin(theta)**2/(c**2*r)), 0]]], [[[0, 0, 0, -0.5*(1/r + (2*G*M - c**2*r)/(c**2*r**2))*(-2*G*M + c**2*r)*sin(theta)**2/c**2], [0, 0, 0, 0], [0, 0, 0, 0], [0.5*(1/r + (2*G*M - c**2*r)/(c**2*r**2))*(-2*G*M + c**2*r)*sin(theta)**2/c**2, 0, 0, 0]], [[0, 0, 0, 0], [0, 0, 0, -0.5*(-2*G*M + c**2*r)*(-c**4*r/(-2*G*M + c**2*r)**2 + c**2/(-2*G*M + c**2*r))*sin(theta)**2/c**2], [0, 0, 0, 0], [0, 0.5*(-2*G*M + c**2*r)*(-c**4*r/(-2*G*M + c**2*r)**2 + c**2/(-2*G*M + c**2*r))*sin(theta)**2/c**2, 0, 0]], [[0, 0, 0, 0], [0, 0, 0, 0], [0, 0, 0, r**2*(-1.0 + 1.0*(-2*G*M + c**2*r)/(c**2*r))*sin(theta)**2], [0, 0, r**2*(1.0 - 1.0*(-2*G*M + c**2*r)/(c**2*r))*sin(theta)**2, 0]], [[0, 0, 0, 0], [0, 0, 0, 0], [0, 0, 0, 0], [0, 0, 0, 0]]]]'\u001B[0m\n",
      "\u001B[32m2024-09-12 15:45:57.304\u001B[0m | \u001B[34m\u001B[1mDEBUG   \u001B[0m | \u001B[36mrelativisticpy.state.scopes\u001B[0m:\u001B[36minit_tensor\u001B[0m:\u001B[36m263\u001B[0m - \u001B[34m\u001B[1mAttempting to initiating 'TempOne^{a}^{f}^{h}^{s}' by equation from cached tensors.\u001B[0m\n",
      "\u001B[32m2024-09-12 15:45:57.309\u001B[0m | \u001B[34m\u001B[1mDEBUG   \u001B[0m | \u001B[36mrelativisticpy.state.scopes\u001B[0m:\u001B[36minit_tensor\u001B[0m:\u001B[36m263\u001B[0m - \u001B[34m\u001B[1mAttempting to initiating 'TempTwo_{a}_{f}_{h}_{s}' by equation from cached tensors.\u001B[0m\n",
      "\u001B[32m2024-09-12 15:45:57.313\u001B[0m | \u001B[34m\u001B[1mDEBUG   \u001B[0m | \u001B[36mrelativisticpy.workbook.ast_visitor\u001B[0m:\u001B[36mmul\u001B[0m:\u001B[36m110\u001B[0m - \u001B[34m\u001B[1mMultiplying <relativisticpy.diffgeom.tensor.Tensor object at 0x10d8602d0> * <relativisticpy.diffgeom.tensor.Tensor object at 0x10d3f8610> at position TokenPosition(start_pos=Position(line=36, character=5), end_pos=Position(line=36, character=12))\u001B[0m\n"
     ]
    }
   ],
   "execution_count": 3
  },
  {
   "metadata": {
    "ExecuteTime": {
     "end_time": "2024-09-12T14:45:59.682025Z",
     "start_time": "2024-09-12T14:45:59.672634Z"
    }
   },
   "cell_type": "code",
   "source": [
    "from relativisticpy.symengine import simplify\n",
    "res.components"
   ],
   "outputs": [
    {
     "data": {
      "text/plain": [
       "48.0*G**2*M**2/(c**4*r**6)"
      ],
      "text/latex": "$\\displaystyle \\frac{48.0 G^{2} M^{2}}{c^{4} r^{6}}$"
     },
     "execution_count": 4,
     "metadata": {},
     "output_type": "execute_result"
    }
   ],
   "execution_count": 4
  },
  {
   "metadata": {
    "ExecuteTime": {
     "end_time": "2024-08-26T12:38:40.495791Z",
     "start_time": "2024-08-26T12:38:37.691550Z"
    }
   },
   "cell_type": "code",
   "source": [
    "res = wb.expr(\n",
    "\"\"\"\n",
    "Coordinates := [t, r, theta, phi]\n",
    "\n",
    "g_{mu}_{nu} := [\n",
    "                    [-(1 - (2 * G * M) / (c**2*r)), 0, 0, 0],\n",
    "                    [0, 1 / (1 - (2 * G * M) / (c**2*r)), 0, 0],\n",
    "                    [0, 0, r**2, 0],\n",
    "                    [0, 0, 0, r**2 * sin(theta) ** 2]\n",
    "                ]\n",
    "\n",
    "Gamma^{a}_{c f} := (1/2)*g^{a b}*(d_{c}*g_{b f} + d_{f}*g_{b c} - d_{b}*g_{c f})\n",
    "\n",
    "Riemann^{a}_{m b n} := d_{b}*Gamma^{a}_{n m} + Gamma^{a}_{b l}*Gamma^{l}_{n m} - d_{n}*Gamma^{a}_{b m} - Gamma^{a}_{n l}*Gamma^{l}_{b m}\n",
    "\n",
    "Ricci_{m}_{n} := Riemann^{a}_{m}_{a}_{n}\n",
    "\n",
    "TempOne^{a}^{f}^{h}^{s} := g^{s}^{q}*( g^{h}^{c}*( g^{f}^{b} * Riemann^{a}_{b}_{c}_{q} ) )\n",
    "\n",
    "TempTwo_{a}_{f}_{h}_{s} := g_{a}_{n}*Riemann^{n}_{f}_{h}_{s}\n",
    "\n",
    "S := TempOne^{a}^{f}^{h}^{s}*TempTwo_{a}_{f}_{h}_{s}\n",
    "\n",
    "simplify(S)\n",
    "\"\"\"\n",
    ")\n",
    "res"
   ],
   "outputs": [
    {
     "name": "stderr",
     "output_type": "stream",
     "text": [
      "\u001B[32m2024-08-26 13:38:37.703\u001B[0m | \u001B[34m\u001B[1mDEBUG   \u001B[0m | \u001B[36mrelativisticpy.workbook.ast_visitor\u001B[0m:\u001B[36mint\u001B[0m:\u001B[36m122\u001B[0m - \u001B[34m\u001B[1mCasting to Integer: 1 at position TokenPosition(start_pos=Position(line=5, character=23), end_pos=Position(line=5, character=24))\u001B[0m\n",
      "\u001B[32m2024-08-26 13:38:37.703\u001B[0m | \u001B[34m\u001B[1mDEBUG   \u001B[0m | \u001B[36mrelativisticpy.workbook.ast_visitor\u001B[0m:\u001B[36mint\u001B[0m:\u001B[36m122\u001B[0m - \u001B[34m\u001B[1mCasting to Integer: 2 at position TokenPosition(start_pos=Position(line=5, character=28), end_pos=Position(line=5, character=29))\u001B[0m\n",
      "\u001B[32m2024-08-26 13:38:37.704\u001B[0m | \u001B[34m\u001B[1mDEBUG   \u001B[0m | \u001B[36mrelativisticpy.workbook.ast_visitor\u001B[0m:\u001B[36mmul\u001B[0m:\u001B[36m110\u001B[0m - \u001B[34m\u001B[1mMultiplying 2 * G at position TokenPosition(start_pos=Position(line=5, character=28), end_pos=Position(line=5, character=29))\u001B[0m\n",
      "\u001B[32m2024-08-26 13:38:37.705\u001B[0m | \u001B[34m\u001B[1mDEBUG   \u001B[0m | \u001B[36mrelativisticpy.workbook.ast_visitor\u001B[0m:\u001B[36mmul\u001B[0m:\u001B[36m110\u001B[0m - \u001B[34m\u001B[1mMultiplying 2*G * M at position TokenPosition(start_pos=Position(line=5, character=28), end_pos=Position(line=5, character=29))\u001B[0m\n",
      "\u001B[32m2024-08-26 13:38:37.706\u001B[0m | \u001B[34m\u001B[1mDEBUG   \u001B[0m | \u001B[36mrelativisticpy.workbook.ast_visitor\u001B[0m:\u001B[36mint\u001B[0m:\u001B[36m122\u001B[0m - \u001B[34m\u001B[1mCasting to Integer: 2 at position TokenPosition(start_pos=Position(line=5, character=45), end_pos=Position(line=5, character=46))\u001B[0m\n",
      "\u001B[32m2024-08-26 13:38:37.707\u001B[0m | \u001B[34m\u001B[1mDEBUG   \u001B[0m | \u001B[36mrelativisticpy.workbook.ast_visitor\u001B[0m:\u001B[36mpow\u001B[0m:\u001B[36m118\u001B[0m - \u001B[34m\u001B[1mPowering c ** 2 at position TokenPosition(start_pos=Position(line=5, character=42), end_pos=Position(line=5, character=43))\u001B[0m\n",
      "\u001B[32m2024-08-26 13:38:37.707\u001B[0m | \u001B[34m\u001B[1mDEBUG   \u001B[0m | \u001B[36mrelativisticpy.workbook.ast_visitor\u001B[0m:\u001B[36mmul\u001B[0m:\u001B[36m110\u001B[0m - \u001B[34m\u001B[1mMultiplying c**2 * r at position TokenPosition(start_pos=Position(line=5, character=42), end_pos=Position(line=5, character=43))\u001B[0m\n",
      "\u001B[32m2024-08-26 13:38:37.707\u001B[0m | \u001B[34m\u001B[1mDEBUG   \u001B[0m | \u001B[36mrelativisticpy.workbook.ast_visitor\u001B[0m:\u001B[36mdiv\u001B[0m:\u001B[36m114\u001B[0m - \u001B[34m\u001B[1mDividing 2*G*M / c**2*r at position TokenPosition(start_pos=Position(line=5, character=27), end_pos=Position(line=5, character=28))\u001B[0m\n",
      "\u001B[32m2024-08-26 13:38:37.708\u001B[0m | \u001B[34m\u001B[1mDEBUG   \u001B[0m | \u001B[36mrelativisticpy.workbook.ast_visitor\u001B[0m:\u001B[36msub\u001B[0m:\u001B[36m94\u001B[0m - \u001B[34m\u001B[1mSubtracting 1 - 2*G*M/(c**2*r) at position TokenPosition(start_pos=Position(line=5, character=23), end_pos=Position(line=5, character=24))\u001B[0m\n",
      "\u001B[32m2024-08-26 13:38:37.709\u001B[0m | \u001B[34m\u001B[1mDEBUG   \u001B[0m | \u001B[36mrelativisticpy.workbook.ast_visitor\u001B[0m:\u001B[36mneg\u001B[0m:\u001B[36m102\u001B[0m - \u001B[34m\u001B[1mNegating -2*G*M/(c**2*r) + 1 at position TokenPosition(start_pos=Position(line=5, character=22), end_pos=Position(line=5, character=23))\u001B[0m\n",
      "\u001B[32m2024-08-26 13:38:37.709\u001B[0m | \u001B[34m\u001B[1mDEBUG   \u001B[0m | \u001B[36mrelativisticpy.workbook.ast_visitor\u001B[0m:\u001B[36mint\u001B[0m:\u001B[36m122\u001B[0m - \u001B[34m\u001B[1mCasting to Integer: 0 at position TokenPosition(start_pos=Position(line=5, character=52), end_pos=Position(line=5, character=53))\u001B[0m\n",
      "\u001B[32m2024-08-26 13:38:37.709\u001B[0m | \u001B[34m\u001B[1mDEBUG   \u001B[0m | \u001B[36mrelativisticpy.workbook.ast_visitor\u001B[0m:\u001B[36mint\u001B[0m:\u001B[36m122\u001B[0m - \u001B[34m\u001B[1mCasting to Integer: 0 at position TokenPosition(start_pos=Position(line=5, character=55), end_pos=Position(line=5, character=56))\u001B[0m\n",
      "\u001B[32m2024-08-26 13:38:37.710\u001B[0m | \u001B[34m\u001B[1mDEBUG   \u001B[0m | \u001B[36mrelativisticpy.workbook.ast_visitor\u001B[0m:\u001B[36mint\u001B[0m:\u001B[36m122\u001B[0m - \u001B[34m\u001B[1mCasting to Integer: 0 at position TokenPosition(start_pos=Position(line=5, character=58), end_pos=Position(line=5, character=59))\u001B[0m\n",
      "\u001B[32m2024-08-26 13:38:37.710\u001B[0m | \u001B[34m\u001B[1mDEBUG   \u001B[0m | \u001B[36mrelativisticpy.workbook.ast_visitor\u001B[0m:\u001B[36mint\u001B[0m:\u001B[36m122\u001B[0m - \u001B[34m\u001B[1mCasting to Integer: 0 at position TokenPosition(start_pos=Position(line=6, character=21), end_pos=Position(line=6, character=22))\u001B[0m\n",
      "\u001B[32m2024-08-26 13:38:37.711\u001B[0m | \u001B[34m\u001B[1mDEBUG   \u001B[0m | \u001B[36mrelativisticpy.workbook.ast_visitor\u001B[0m:\u001B[36mint\u001B[0m:\u001B[36m122\u001B[0m - \u001B[34m\u001B[1mCasting to Integer: 1 at position TokenPosition(start_pos=Position(line=6, character=24), end_pos=Position(line=6, character=25))\u001B[0m\n",
      "\u001B[32m2024-08-26 13:38:37.711\u001B[0m | \u001B[34m\u001B[1mDEBUG   \u001B[0m | \u001B[36mrelativisticpy.workbook.ast_visitor\u001B[0m:\u001B[36mint\u001B[0m:\u001B[36m122\u001B[0m - \u001B[34m\u001B[1mCasting to Integer: 1 at position TokenPosition(start_pos=Position(line=6, character=29), end_pos=Position(line=6, character=30))\u001B[0m\n",
      "\u001B[32m2024-08-26 13:38:37.711\u001B[0m | \u001B[34m\u001B[1mDEBUG   \u001B[0m | \u001B[36mrelativisticpy.workbook.ast_visitor\u001B[0m:\u001B[36mint\u001B[0m:\u001B[36m122\u001B[0m - \u001B[34m\u001B[1mCasting to Integer: 2 at position TokenPosition(start_pos=Position(line=6, character=34), end_pos=Position(line=6, character=35))\u001B[0m\n",
      "\u001B[32m2024-08-26 13:38:37.712\u001B[0m | \u001B[34m\u001B[1mDEBUG   \u001B[0m | \u001B[36mrelativisticpy.workbook.ast_visitor\u001B[0m:\u001B[36mmul\u001B[0m:\u001B[36m110\u001B[0m - \u001B[34m\u001B[1mMultiplying 2 * G at position TokenPosition(start_pos=Position(line=6, character=34), end_pos=Position(line=6, character=35))\u001B[0m\n",
      "\u001B[32m2024-08-26 13:38:37.712\u001B[0m | \u001B[34m\u001B[1mDEBUG   \u001B[0m | \u001B[36mrelativisticpy.workbook.ast_visitor\u001B[0m:\u001B[36mmul\u001B[0m:\u001B[36m110\u001B[0m - \u001B[34m\u001B[1mMultiplying 2*G * M at position TokenPosition(start_pos=Position(line=6, character=34), end_pos=Position(line=6, character=35))\u001B[0m\n",
      "\u001B[32m2024-08-26 13:38:37.713\u001B[0m | \u001B[34m\u001B[1mDEBUG   \u001B[0m | \u001B[36mrelativisticpy.workbook.ast_visitor\u001B[0m:\u001B[36mint\u001B[0m:\u001B[36m122\u001B[0m - \u001B[34m\u001B[1mCasting to Integer: 2 at position TokenPosition(start_pos=Position(line=6, character=51), end_pos=Position(line=6, character=52))\u001B[0m\n",
      "\u001B[32m2024-08-26 13:38:37.713\u001B[0m | \u001B[34m\u001B[1mDEBUG   \u001B[0m | \u001B[36mrelativisticpy.workbook.ast_visitor\u001B[0m:\u001B[36mpow\u001B[0m:\u001B[36m118\u001B[0m - \u001B[34m\u001B[1mPowering c ** 2 at position TokenPosition(start_pos=Position(line=6, character=48), end_pos=Position(line=6, character=49))\u001B[0m\n",
      "\u001B[32m2024-08-26 13:38:37.713\u001B[0m | \u001B[34m\u001B[1mDEBUG   \u001B[0m | \u001B[36mrelativisticpy.workbook.ast_visitor\u001B[0m:\u001B[36mmul\u001B[0m:\u001B[36m110\u001B[0m - \u001B[34m\u001B[1mMultiplying c**2 * r at position TokenPosition(start_pos=Position(line=6, character=48), end_pos=Position(line=6, character=49))\u001B[0m\n",
      "\u001B[32m2024-08-26 13:38:37.714\u001B[0m | \u001B[34m\u001B[1mDEBUG   \u001B[0m | \u001B[36mrelativisticpy.workbook.ast_visitor\u001B[0m:\u001B[36mdiv\u001B[0m:\u001B[36m114\u001B[0m - \u001B[34m\u001B[1mDividing 2*G*M / c**2*r at position TokenPosition(start_pos=Position(line=6, character=33), end_pos=Position(line=6, character=34))\u001B[0m\n",
      "\u001B[32m2024-08-26 13:38:37.714\u001B[0m | \u001B[34m\u001B[1mDEBUG   \u001B[0m | \u001B[36mrelativisticpy.workbook.ast_visitor\u001B[0m:\u001B[36msub\u001B[0m:\u001B[36m94\u001B[0m - \u001B[34m\u001B[1mSubtracting 1 - 2*G*M/(c**2*r) at position TokenPosition(start_pos=Position(line=6, character=29), end_pos=Position(line=6, character=30))\u001B[0m\n",
      "\u001B[32m2024-08-26 13:38:37.715\u001B[0m | \u001B[34m\u001B[1mDEBUG   \u001B[0m | \u001B[36mrelativisticpy.workbook.ast_visitor\u001B[0m:\u001B[36mdiv\u001B[0m:\u001B[36m114\u001B[0m - \u001B[34m\u001B[1mDividing 1 / -2*G*M/(c**2*r) + 1 at position TokenPosition(start_pos=Position(line=6, character=24), end_pos=Position(line=6, character=25))\u001B[0m\n",
      "\u001B[32m2024-08-26 13:38:37.715\u001B[0m | \u001B[34m\u001B[1mDEBUG   \u001B[0m | \u001B[36mrelativisticpy.workbook.ast_visitor\u001B[0m:\u001B[36mint\u001B[0m:\u001B[36m122\u001B[0m - \u001B[34m\u001B[1mCasting to Integer: 0 at position TokenPosition(start_pos=Position(line=6, character=58), end_pos=Position(line=6, character=59))\u001B[0m\n",
      "\u001B[32m2024-08-26 13:38:37.715\u001B[0m | \u001B[34m\u001B[1mDEBUG   \u001B[0m | \u001B[36mrelativisticpy.workbook.ast_visitor\u001B[0m:\u001B[36mint\u001B[0m:\u001B[36m122\u001B[0m - \u001B[34m\u001B[1mCasting to Integer: 0 at position TokenPosition(start_pos=Position(line=6, character=61), end_pos=Position(line=6, character=62))\u001B[0m\n",
      "\u001B[32m2024-08-26 13:38:37.716\u001B[0m | \u001B[34m\u001B[1mDEBUG   \u001B[0m | \u001B[36mrelativisticpy.workbook.ast_visitor\u001B[0m:\u001B[36mint\u001B[0m:\u001B[36m122\u001B[0m - \u001B[34m\u001B[1mCasting to Integer: 0 at position TokenPosition(start_pos=Position(line=7, character=21), end_pos=Position(line=7, character=22))\u001B[0m\n",
      "\u001B[32m2024-08-26 13:38:37.716\u001B[0m | \u001B[34m\u001B[1mDEBUG   \u001B[0m | \u001B[36mrelativisticpy.workbook.ast_visitor\u001B[0m:\u001B[36mint\u001B[0m:\u001B[36m122\u001B[0m - \u001B[34m\u001B[1mCasting to Integer: 0 at position TokenPosition(start_pos=Position(line=7, character=24), end_pos=Position(line=7, character=25))\u001B[0m\n",
      "\u001B[32m2024-08-26 13:38:37.717\u001B[0m | \u001B[34m\u001B[1mDEBUG   \u001B[0m | \u001B[36mrelativisticpy.workbook.ast_visitor\u001B[0m:\u001B[36mint\u001B[0m:\u001B[36m122\u001B[0m - \u001B[34m\u001B[1mCasting to Integer: 2 at position TokenPosition(start_pos=Position(line=7, character=30), end_pos=Position(line=7, character=31))\u001B[0m\n",
      "\u001B[32m2024-08-26 13:38:37.717\u001B[0m | \u001B[34m\u001B[1mDEBUG   \u001B[0m | \u001B[36mrelativisticpy.workbook.ast_visitor\u001B[0m:\u001B[36mpow\u001B[0m:\u001B[36m118\u001B[0m - \u001B[34m\u001B[1mPowering r ** 2 at position TokenPosition(start_pos=Position(line=7, character=27), end_pos=Position(line=7, character=28))\u001B[0m\n",
      "\u001B[32m2024-08-26 13:38:37.717\u001B[0m | \u001B[34m\u001B[1mDEBUG   \u001B[0m | \u001B[36mrelativisticpy.workbook.ast_visitor\u001B[0m:\u001B[36mint\u001B[0m:\u001B[36m122\u001B[0m - \u001B[34m\u001B[1mCasting to Integer: 0 at position TokenPosition(start_pos=Position(line=7, character=33), end_pos=Position(line=7, character=34))\u001B[0m\n",
      "\u001B[32m2024-08-26 13:38:37.717\u001B[0m | \u001B[34m\u001B[1mDEBUG   \u001B[0m | \u001B[36mrelativisticpy.workbook.ast_visitor\u001B[0m:\u001B[36mint\u001B[0m:\u001B[36m122\u001B[0m - \u001B[34m\u001B[1mCasting to Integer: 0 at position TokenPosition(start_pos=Position(line=8, character=21), end_pos=Position(line=8, character=22))\u001B[0m\n",
      "\u001B[32m2024-08-26 13:38:37.718\u001B[0m | \u001B[34m\u001B[1mDEBUG   \u001B[0m | \u001B[36mrelativisticpy.workbook.ast_visitor\u001B[0m:\u001B[36mint\u001B[0m:\u001B[36m122\u001B[0m - \u001B[34m\u001B[1mCasting to Integer: 0 at position TokenPosition(start_pos=Position(line=8, character=24), end_pos=Position(line=8, character=25))\u001B[0m\n",
      "\u001B[32m2024-08-26 13:38:37.718\u001B[0m | \u001B[34m\u001B[1mDEBUG   \u001B[0m | \u001B[36mrelativisticpy.workbook.ast_visitor\u001B[0m:\u001B[36mint\u001B[0m:\u001B[36m122\u001B[0m - \u001B[34m\u001B[1mCasting to Integer: 0 at position TokenPosition(start_pos=Position(line=8, character=27), end_pos=Position(line=8, character=28))\u001B[0m\n",
      "\u001B[32m2024-08-26 13:38:37.718\u001B[0m | \u001B[34m\u001B[1mDEBUG   \u001B[0m | \u001B[36mrelativisticpy.workbook.ast_visitor\u001B[0m:\u001B[36mint\u001B[0m:\u001B[36m122\u001B[0m - \u001B[34m\u001B[1mCasting to Integer: 2 at position TokenPosition(start_pos=Position(line=8, character=33), end_pos=Position(line=8, character=34))\u001B[0m\n",
      "\u001B[32m2024-08-26 13:38:37.719\u001B[0m | \u001B[34m\u001B[1mDEBUG   \u001B[0m | \u001B[36mrelativisticpy.workbook.ast_visitor\u001B[0m:\u001B[36mpow\u001B[0m:\u001B[36m118\u001B[0m - \u001B[34m\u001B[1mPowering r ** 2 at position TokenPosition(start_pos=Position(line=8, character=30), end_pos=Position(line=8, character=31))\u001B[0m\n",
      "\u001B[32m2024-08-26 13:38:37.719\u001B[0m | \u001B[34m\u001B[1mDEBUG   \u001B[0m | \u001B[36mrelativisticpy.workbook.ast_visitor\u001B[0m:\u001B[36mint\u001B[0m:\u001B[36m122\u001B[0m - \u001B[34m\u001B[1mCasting to Integer: 2 at position TokenPosition(start_pos=Position(line=8, character=51), end_pos=Position(line=8, character=52))\u001B[0m\n",
      "\u001B[32m2024-08-26 13:38:37.720\u001B[0m | \u001B[34m\u001B[1mDEBUG   \u001B[0m | \u001B[36mrelativisticpy.workbook.ast_visitor\u001B[0m:\u001B[36mpow\u001B[0m:\u001B[36m118\u001B[0m - \u001B[34m\u001B[1mPowering sin(theta) ** 2 at position TokenPosition(start_pos=Position(line=8, character=37), end_pos=Position(line=8, character=40))\u001B[0m\n",
      "\u001B[32m2024-08-26 13:38:37.720\u001B[0m | \u001B[34m\u001B[1mDEBUG   \u001B[0m | \u001B[36mrelativisticpy.workbook.ast_visitor\u001B[0m:\u001B[36mmul\u001B[0m:\u001B[36m110\u001B[0m - \u001B[34m\u001B[1mMultiplying r**2 * sin(theta)**2 at position TokenPosition(start_pos=Position(line=8, character=30), end_pos=Position(line=8, character=31))\u001B[0m\n",
      "\u001B[32m2024-08-26 13:38:37.721\u001B[0m | \u001B[34m\u001B[1mDEBUG   \u001B[0m | \u001B[36mrelativisticpy.state.scopes\u001B[0m:\u001B[36mset_tensor\u001B[0m:\u001B[36m184\u001B[0m - \u001B[34m\u001B[1mCaching new tensor 'g' with components '[[2*G*M/(c**2*r) - 1, 0, 0, 0], [0, 1/(-2*G*M/(c**2*r) + 1), 0, 0], [0, 0, r**2, 0], [0, 0, 0, r**2*sin(theta)**2]]'\u001B[0m\n",
      "\u001B[32m2024-08-26 13:38:37.721\u001B[0m | \u001B[34m\u001B[1mDEBUG   \u001B[0m | \u001B[36mrelativisticpy.workbook.ast_visitor\u001B[0m:\u001B[36mint\u001B[0m:\u001B[36m122\u001B[0m - \u001B[34m\u001B[1mCasting to Integer: 1 at position TokenPosition(start_pos=Position(line=11, character=20), end_pos=Position(line=11, character=21))\u001B[0m\n",
      "\u001B[32m2024-08-26 13:38:37.722\u001B[0m | \u001B[34m\u001B[1mDEBUG   \u001B[0m | \u001B[36mrelativisticpy.workbook.ast_visitor\u001B[0m:\u001B[36mint\u001B[0m:\u001B[36m122\u001B[0m - \u001B[34m\u001B[1mCasting to Integer: 2 at position TokenPosition(start_pos=Position(line=11, character=22), end_pos=Position(line=11, character=23))\u001B[0m\n",
      "\u001B[32m2024-08-26 13:38:37.722\u001B[0m | \u001B[34m\u001B[1mDEBUG   \u001B[0m | \u001B[36mrelativisticpy.workbook.ast_visitor\u001B[0m:\u001B[36mdiv\u001B[0m:\u001B[36m114\u001B[0m - \u001B[34m\u001B[1mDividing 1 / 2 at position TokenPosition(start_pos=Position(line=11, character=20), end_pos=Position(line=11, character=21))\u001B[0m\n",
      "\u001B[32m2024-08-26 13:38:37.723\u001B[0m | \u001B[34m\u001B[1mDEBUG   \u001B[0m | \u001B[36mrelativisticpy.state.scopes\u001B[0m:\u001B[36minit_tensor\u001B[0m:\u001B[36m263\u001B[0m - \u001B[34m\u001B[1mAttempting to initiating 'g^{a}^{b}' by equation from cached tensors.\u001B[0m\n",
      "\u001B[32m2024-08-26 13:38:37.723\u001B[0m | \u001B[34m\u001B[1mDEBUG   \u001B[0m | \u001B[36mrelativisticpy.state.scopes\u001B[0m:\u001B[36minit_tensor\u001B[0m:\u001B[36m266\u001B[0m - \u001B[34m\u001B[1mIdentified 'g^{a}^{b}' to be a Metric. Initializing Metric from Metric.\u001B[0m\n",
      "\u001B[32m2024-08-26 13:38:37.724\u001B[0m | \u001B[34m\u001B[1mDEBUG   \u001B[0m | \u001B[36mrelativisticpy.state.scopes\u001B[0m:\u001B[36mmetric_tensor\u001B[0m:\u001B[36m102\u001B[0m - \u001B[34m\u001B[1mFound 1 Metric Tensor Objects in scope.\u001B[0m\n",
      "\u001B[32m2024-08-26 13:38:37.724\u001B[0m | \u001B[34m\u001B[1mDEBUG   \u001B[0m | \u001B[36mrelativisticpy.state.scopes\u001B[0m:\u001B[36mmetric_tensor\u001B[0m:\u001B[36m103\u001B[0m - \u001B[34m\u001B[1mReturning <relativisticpy.diffgeom.metric.Metric object at 0x114214510>.\u001B[0m\n",
      "\u001B[32m2024-08-26 13:38:37.725\u001B[0m | \u001B[34m\u001B[1mDEBUG   \u001B[0m | \u001B[36mrelativisticpy.state.scopes\u001B[0m:\u001B[36mmetric_tensor\u001B[0m:\u001B[36m206\u001B[0m - \u001B[34m\u001B[1mFound metric tensor in scope with components: '[[2*G*M/(c**2*r) - 1, 0, 0, 0], [0, 1/(-2*G*M/(c**2*r) + 1), 0, 0], [0, 0, r**2, 0], [0, 0, 0, r**2*sin(theta)**2]]'\u001B[0m\n",
      "\u001B[32m2024-08-26 13:38:37.725\u001B[0m | \u001B[34m\u001B[1mDEBUG   \u001B[0m | \u001B[36mrelativisticpy.state.scopes\u001B[0m:\u001B[36mmetric_tensor\u001B[0m:\u001B[36m102\u001B[0m - \u001B[34m\u001B[1mFound 1 Metric Tensor Objects in scope.\u001B[0m\n",
      "\u001B[32m2024-08-26 13:38:37.725\u001B[0m | \u001B[34m\u001B[1mDEBUG   \u001B[0m | \u001B[36mrelativisticpy.state.scopes\u001B[0m:\u001B[36mmetric_tensor\u001B[0m:\u001B[36m103\u001B[0m - \u001B[34m\u001B[1mReturning <relativisticpy.diffgeom.metric.Metric object at 0x114214510>.\u001B[0m\n",
      "\u001B[32m2024-08-26 13:38:37.841\u001B[0m | \u001B[34m\u001B[1mDEBUG   \u001B[0m | \u001B[36mrelativisticpy.state.scopes\u001B[0m:\u001B[36minit_tensor\u001B[0m:\u001B[36m271\u001B[0m - \u001B[34m\u001B[1mComputed components of 'g^{a}^{b}' to be: '[[-c**2*r/(-2*G*M + c**2*r), 0, 0, 0], [0, (-2*G*M + c**2*r)/(c**2*r), 0, 0], [0, 0, r**(-2), 0], [0, 0, 0, 1/(r**2*sin(theta)**2)]]'\u001B[0m\n",
      "\u001B[32m2024-08-26 13:38:37.842\u001B[0m | \u001B[34m\u001B[1mDEBUG   \u001B[0m | \u001B[36mrelativisticpy.state.scopes\u001B[0m:\u001B[36mset_tensor\u001B[0m:\u001B[36m184\u001B[0m - \u001B[34m\u001B[1mCaching new tensor 'g' with components '[[-c**2*r/(-2*G*M + c**2*r), 0, 0, 0], [0, (-2*G*M + c**2*r)/(c**2*r), 0, 0], [0, 0, r**(-2), 0], [0, 0, 0, 1/(r**2*sin(theta)**2)]]'\u001B[0m\n",
      "\u001B[32m2024-08-26 13:38:37.842\u001B[0m | \u001B[34m\u001B[1mDEBUG   \u001B[0m | \u001B[36mrelativisticpy.workbook.ast_visitor\u001B[0m:\u001B[36mmul\u001B[0m:\u001B[36m110\u001B[0m - \u001B[34m\u001B[1mMultiplying 0.5 * <relativisticpy.diffgeom.metric.Metric object at 0x1147790d0> at position TokenPosition(start_pos=Position(line=11, character=19), end_pos=Position(line=11, character=20))\u001B[0m\n",
      "\u001B[32m2024-08-26 13:38:37.846\u001B[0m | \u001B[34m\u001B[1mDEBUG   \u001B[0m | \u001B[36mrelativisticpy.state.scopes\u001B[0m:\u001B[36minit_tensor\u001B[0m:\u001B[36m263\u001B[0m - \u001B[34m\u001B[1mAttempting to initiating 'g_{b}_{f}' by equation from cached tensors.\u001B[0m\n",
      "\u001B[32m2024-08-26 13:38:37.846\u001B[0m | \u001B[34m\u001B[1mDEBUG   \u001B[0m | \u001B[36mrelativisticpy.state.scopes\u001B[0m:\u001B[36minit_tensor\u001B[0m:\u001B[36m266\u001B[0m - \u001B[34m\u001B[1mIdentified 'g_{b}_{f}' to be a Metric. Initializing Metric from Metric.\u001B[0m\n",
      "\u001B[32m2024-08-26 13:38:37.846\u001B[0m | \u001B[34m\u001B[1mDEBUG   \u001B[0m | \u001B[36mrelativisticpy.state.scopes\u001B[0m:\u001B[36mmetric_tensor\u001B[0m:\u001B[36m102\u001B[0m - \u001B[34m\u001B[1mFound 1 Metric Tensor Objects in scope.\u001B[0m\n",
      "\u001B[32m2024-08-26 13:38:37.847\u001B[0m | \u001B[34m\u001B[1mDEBUG   \u001B[0m | \u001B[36mrelativisticpy.state.scopes\u001B[0m:\u001B[36mmetric_tensor\u001B[0m:\u001B[36m103\u001B[0m - \u001B[34m\u001B[1mReturning <relativisticpy.diffgeom.metric.Metric object at 0x1140c8c50>.\u001B[0m\n",
      "\u001B[32m2024-08-26 13:38:37.848\u001B[0m | \u001B[34m\u001B[1mDEBUG   \u001B[0m | \u001B[36mrelativisticpy.state.scopes\u001B[0m:\u001B[36mmetric_tensor\u001B[0m:\u001B[36m206\u001B[0m - \u001B[34m\u001B[1mFound metric tensor in scope with components: '[[-c**2*r/(-2*G*M + c**2*r), 0, 0, 0], [0, (-2*G*M + c**2*r)/(c**2*r), 0, 0], [0, 0, r**(-2), 0], [0, 0, 0, 1/(r**2*sin(theta)**2)]]'\u001B[0m\n",
      "\u001B[32m2024-08-26 13:38:37.848\u001B[0m | \u001B[34m\u001B[1mDEBUG   \u001B[0m | \u001B[36mrelativisticpy.state.scopes\u001B[0m:\u001B[36mmetric_tensor\u001B[0m:\u001B[36m102\u001B[0m - \u001B[34m\u001B[1mFound 1 Metric Tensor Objects in scope.\u001B[0m\n",
      "\u001B[32m2024-08-26 13:38:37.848\u001B[0m | \u001B[34m\u001B[1mDEBUG   \u001B[0m | \u001B[36mrelativisticpy.state.scopes\u001B[0m:\u001B[36mmetric_tensor\u001B[0m:\u001B[36m103\u001B[0m - \u001B[34m\u001B[1mReturning <relativisticpy.diffgeom.metric.Metric object at 0x1140c8c50>.\u001B[0m\n",
      "\u001B[32m2024-08-26 13:38:37.971\u001B[0m | \u001B[34m\u001B[1mDEBUG   \u001B[0m | \u001B[36mrelativisticpy.state.scopes\u001B[0m:\u001B[36minit_tensor\u001B[0m:\u001B[36m271\u001B[0m - \u001B[34m\u001B[1mComputed components of 'g_{b}_{f}' to be: '[[(2*G*M - c**2*r)/(c**2*r), 0, 0, 0], [0, c**2*r/(-2*G*M + c**2*r), 0, 0], [0, 0, r**2, 0], [0, 0, 0, r**2*sin(theta)**2]]'\u001B[0m\n",
      "\u001B[32m2024-08-26 13:38:37.973\u001B[0m | \u001B[34m\u001B[1mDEBUG   \u001B[0m | \u001B[36mrelativisticpy.state.scopes\u001B[0m:\u001B[36mset_tensor\u001B[0m:\u001B[36m184\u001B[0m - \u001B[34m\u001B[1mCaching new tensor 'g' with components '[[(2*G*M - c**2*r)/(c**2*r), 0, 0, 0], [0, c**2*r/(-2*G*M + c**2*r), 0, 0], [0, 0, r**2, 0], [0, 0, 0, r**2*sin(theta)**2]]'\u001B[0m\n",
      "\u001B[32m2024-08-26 13:38:37.974\u001B[0m | \u001B[34m\u001B[1mDEBUG   \u001B[0m | \u001B[36mrelativisticpy.workbook.ast_visitor\u001B[0m:\u001B[36mmul\u001B[0m:\u001B[36m110\u001B[0m - \u001B[34m\u001B[1mMultiplying <relativisticpy.diffgeom.derivatives.partial.Derivative object at 0x1140c8d50> * <relativisticpy.diffgeom.metric.Metric object at 0x110574f50> at position TokenPosition(start_pos=Position(line=11, character=34), end_pos=Position(line=11, character=35))\u001B[0m\n",
      "\u001B[32m2024-08-26 13:38:37.980\u001B[0m | \u001B[34m\u001B[1mDEBUG   \u001B[0m | \u001B[36mrelativisticpy.state.scopes\u001B[0m:\u001B[36minit_tensor\u001B[0m:\u001B[36m263\u001B[0m - \u001B[34m\u001B[1mAttempting to initiating 'g_{b}_{c}' by equation from cached tensors.\u001B[0m\n",
      "\u001B[32m2024-08-26 13:38:37.981\u001B[0m | \u001B[34m\u001B[1mDEBUG   \u001B[0m | \u001B[36mrelativisticpy.state.scopes\u001B[0m:\u001B[36minit_tensor\u001B[0m:\u001B[36m266\u001B[0m - \u001B[34m\u001B[1mIdentified 'g_{b}_{c}' to be a Metric. Initializing Metric from Metric.\u001B[0m\n",
      "\u001B[32m2024-08-26 13:38:37.981\u001B[0m | \u001B[34m\u001B[1mDEBUG   \u001B[0m | \u001B[36mrelativisticpy.state.scopes\u001B[0m:\u001B[36mmetric_tensor\u001B[0m:\u001B[36m102\u001B[0m - \u001B[34m\u001B[1mFound 1 Metric Tensor Objects in scope.\u001B[0m\n",
      "\u001B[32m2024-08-26 13:38:37.982\u001B[0m | \u001B[34m\u001B[1mDEBUG   \u001B[0m | \u001B[36mrelativisticpy.state.scopes\u001B[0m:\u001B[36mmetric_tensor\u001B[0m:\u001B[36m103\u001B[0m - \u001B[34m\u001B[1mReturning <relativisticpy.diffgeom.metric.Metric object at 0x1140b5e10>.\u001B[0m\n",
      "\u001B[32m2024-08-26 13:38:37.983\u001B[0m | \u001B[34m\u001B[1mDEBUG   \u001B[0m | \u001B[36mrelativisticpy.state.scopes\u001B[0m:\u001B[36mmetric_tensor\u001B[0m:\u001B[36m206\u001B[0m - \u001B[34m\u001B[1mFound metric tensor in scope with components: '[[(2*G*M - c**2*r)/(c**2*r), 0, 0, 0], [0, c**2*r/(-2*G*M + c**2*r), 0, 0], [0, 0, r**2, 0], [0, 0, 0, r**2*sin(theta)**2]]'\u001B[0m\n",
      "\u001B[32m2024-08-26 13:38:37.984\u001B[0m | \u001B[34m\u001B[1mDEBUG   \u001B[0m | \u001B[36mrelativisticpy.state.scopes\u001B[0m:\u001B[36mmetric_tensor\u001B[0m:\u001B[36m102\u001B[0m - \u001B[34m\u001B[1mFound 1 Metric Tensor Objects in scope.\u001B[0m\n",
      "\u001B[32m2024-08-26 13:38:37.984\u001B[0m | \u001B[34m\u001B[1mDEBUG   \u001B[0m | \u001B[36mrelativisticpy.state.scopes\u001B[0m:\u001B[36mmetric_tensor\u001B[0m:\u001B[36m103\u001B[0m - \u001B[34m\u001B[1mReturning <relativisticpy.diffgeom.metric.Metric object at 0x1140b5e10>.\u001B[0m\n",
      "\u001B[32m2024-08-26 13:38:37.986\u001B[0m | \u001B[34m\u001B[1mDEBUG   \u001B[0m | \u001B[36mrelativisticpy.state.scopes\u001B[0m:\u001B[36minit_tensor\u001B[0m:\u001B[36m271\u001B[0m - \u001B[34m\u001B[1mComputed components of 'g_{b}_{c}' to be: '[[(2*G*M - c**2*r)/(c**2*r), 0, 0, 0], [0, c**2*r/(-2*G*M + c**2*r), 0, 0], [0, 0, r**2, 0], [0, 0, 0, r**2*sin(theta)**2]]'\u001B[0m\n",
      "\u001B[32m2024-08-26 13:38:37.988\u001B[0m | \u001B[34m\u001B[1mDEBUG   \u001B[0m | \u001B[36mrelativisticpy.state.scopes\u001B[0m:\u001B[36mset_tensor\u001B[0m:\u001B[36m184\u001B[0m - \u001B[34m\u001B[1mCaching new tensor 'g' with components '[[(2*G*M - c**2*r)/(c**2*r), 0, 0, 0], [0, c**2*r/(-2*G*M + c**2*r), 0, 0], [0, 0, r**2, 0], [0, 0, 0, r**2*sin(theta)**2]]'\u001B[0m\n",
      "\u001B[32m2024-08-26 13:38:37.988\u001B[0m | \u001B[34m\u001B[1mDEBUG   \u001B[0m | \u001B[36mrelativisticpy.workbook.ast_visitor\u001B[0m:\u001B[36mmul\u001B[0m:\u001B[36m110\u001B[0m - \u001B[34m\u001B[1mMultiplying <relativisticpy.diffgeom.derivatives.partial.Derivative object at 0x114212e90> * <relativisticpy.diffgeom.metric.Metric object at 0x113b9f890> at position TokenPosition(start_pos=Position(line=11, character=50), end_pos=Position(line=11, character=51))\u001B[0m\n",
      "\u001B[32m2024-08-26 13:38:37.993\u001B[0m | \u001B[34m\u001B[1mDEBUG   \u001B[0m | \u001B[36mrelativisticpy.workbook.ast_visitor\u001B[0m:\u001B[36madd\u001B[0m:\u001B[36m98\u001B[0m - \u001B[34m\u001B[1mAdding <relativisticpy.algebras.einstein_summation.EinsumArray object at 0x1148422d0> + <relativisticpy.algebras.einstein_summation.EinsumArray object at 0x113c15b50> at position TokenPosition(start_pos=Position(line=11, character=34), end_pos=Position(line=11, character=35))\u001B[0m\n",
      "\u001B[32m2024-08-26 13:38:38.002\u001B[0m | \u001B[34m\u001B[1mDEBUG   \u001B[0m | \u001B[36mrelativisticpy.state.scopes\u001B[0m:\u001B[36minit_tensor\u001B[0m:\u001B[36m263\u001B[0m - \u001B[34m\u001B[1mAttempting to initiating 'g_{c}_{f}' by equation from cached tensors.\u001B[0m\n",
      "\u001B[32m2024-08-26 13:38:38.002\u001B[0m | \u001B[34m\u001B[1mDEBUG   \u001B[0m | \u001B[36mrelativisticpy.state.scopes\u001B[0m:\u001B[36minit_tensor\u001B[0m:\u001B[36m266\u001B[0m - \u001B[34m\u001B[1mIdentified 'g_{c}_{f}' to be a Metric. Initializing Metric from Metric.\u001B[0m\n",
      "\u001B[32m2024-08-26 13:38:38.003\u001B[0m | \u001B[34m\u001B[1mDEBUG   \u001B[0m | \u001B[36mrelativisticpy.state.scopes\u001B[0m:\u001B[36mmetric_tensor\u001B[0m:\u001B[36m102\u001B[0m - \u001B[34m\u001B[1mFound 1 Metric Tensor Objects in scope.\u001B[0m\n",
      "\u001B[32m2024-08-26 13:38:38.003\u001B[0m | \u001B[34m\u001B[1mDEBUG   \u001B[0m | \u001B[36mrelativisticpy.state.scopes\u001B[0m:\u001B[36mmetric_tensor\u001B[0m:\u001B[36m103\u001B[0m - \u001B[34m\u001B[1mReturning <relativisticpy.diffgeom.metric.Metric object at 0x11487ca90>.\u001B[0m\n",
      "\u001B[32m2024-08-26 13:38:38.005\u001B[0m | \u001B[34m\u001B[1mDEBUG   \u001B[0m | \u001B[36mrelativisticpy.state.scopes\u001B[0m:\u001B[36mmetric_tensor\u001B[0m:\u001B[36m206\u001B[0m - \u001B[34m\u001B[1mFound metric tensor in scope with components: '[[(2*G*M - c**2*r)/(c**2*r), 0, 0, 0], [0, c**2*r/(-2*G*M + c**2*r), 0, 0], [0, 0, r**2, 0], [0, 0, 0, r**2*sin(theta)**2]]'\u001B[0m\n",
      "\u001B[32m2024-08-26 13:38:38.005\u001B[0m | \u001B[34m\u001B[1mDEBUG   \u001B[0m | \u001B[36mrelativisticpy.state.scopes\u001B[0m:\u001B[36mmetric_tensor\u001B[0m:\u001B[36m102\u001B[0m - \u001B[34m\u001B[1mFound 1 Metric Tensor Objects in scope.\u001B[0m\n",
      "\u001B[32m2024-08-26 13:38:38.006\u001B[0m | \u001B[34m\u001B[1mDEBUG   \u001B[0m | \u001B[36mrelativisticpy.state.scopes\u001B[0m:\u001B[36mmetric_tensor\u001B[0m:\u001B[36m103\u001B[0m - \u001B[34m\u001B[1mReturning <relativisticpy.diffgeom.metric.Metric object at 0x11487ca90>.\u001B[0m\n",
      "\u001B[32m2024-08-26 13:38:38.007\u001B[0m | \u001B[34m\u001B[1mDEBUG   \u001B[0m | \u001B[36mrelativisticpy.state.scopes\u001B[0m:\u001B[36minit_tensor\u001B[0m:\u001B[36m271\u001B[0m - \u001B[34m\u001B[1mComputed components of 'g_{c}_{f}' to be: '[[(2*G*M - c**2*r)/(c**2*r), 0, 0, 0], [0, c**2*r/(-2*G*M + c**2*r), 0, 0], [0, 0, r**2, 0], [0, 0, 0, r**2*sin(theta)**2]]'\u001B[0m\n",
      "\u001B[32m2024-08-26 13:38:38.008\u001B[0m | \u001B[34m\u001B[1mDEBUG   \u001B[0m | \u001B[36mrelativisticpy.state.scopes\u001B[0m:\u001B[36mset_tensor\u001B[0m:\u001B[36m184\u001B[0m - \u001B[34m\u001B[1mCaching new tensor 'g' with components '[[(2*G*M - c**2*r)/(c**2*r), 0, 0, 0], [0, c**2*r/(-2*G*M + c**2*r), 0, 0], [0, 0, r**2, 0], [0, 0, 0, r**2*sin(theta)**2]]'\u001B[0m\n",
      "\u001B[32m2024-08-26 13:38:38.008\u001B[0m | \u001B[34m\u001B[1mDEBUG   \u001B[0m | \u001B[36mrelativisticpy.workbook.ast_visitor\u001B[0m:\u001B[36mmul\u001B[0m:\u001B[36m110\u001B[0m - \u001B[34m\u001B[1mMultiplying <relativisticpy.diffgeom.derivatives.partial.Derivative object at 0x113c3c450> * <relativisticpy.diffgeom.metric.Metric object at 0x113cc7ed0> at position TokenPosition(start_pos=Position(line=11, character=66), end_pos=Position(line=11, character=67))\u001B[0m\n",
      "\u001B[32m2024-08-26 13:38:38.013\u001B[0m | \u001B[34m\u001B[1mDEBUG   \u001B[0m | \u001B[36mrelativisticpy.workbook.ast_visitor\u001B[0m:\u001B[36msub\u001B[0m:\u001B[36m94\u001B[0m - \u001B[34m\u001B[1mSubtracting <relativisticpy.algebras.einstein_summation.EinsumArray object at 0x1140def90> - <relativisticpy.algebras.einstein_summation.EinsumArray object at 0x113bac450> at position TokenPosition(start_pos=Position(line=11, character=34), end_pos=Position(line=11, character=35))\u001B[0m\n",
      "\u001B[32m2024-08-26 13:38:38.021\u001B[0m | \u001B[34m\u001B[1mDEBUG   \u001B[0m | \u001B[36mrelativisticpy.workbook.ast_visitor\u001B[0m:\u001B[36mmul\u001B[0m:\u001B[36m110\u001B[0m - \u001B[34m\u001B[1mMultiplying <relativisticpy.diffgeom.metric.Metric object at 0x1140b5d10> * <relativisticpy.algebras.einstein_summation.EinsumArray object at 0x11487e110> at position TokenPosition(start_pos=Position(line=11, character=19), end_pos=Position(line=11, character=20))\u001B[0m\n",
      "\u001B[32m2024-08-26 13:38:38.044\u001B[0m | \u001B[34m\u001B[1mDEBUG   \u001B[0m | \u001B[36mrelativisticpy.state.scopes\u001B[0m:\u001B[36mset_tensor\u001B[0m:\u001B[36m184\u001B[0m - \u001B[34m\u001B[1mCaching new tensor 'Gamma' with components '[[[0, -0.5*c**2*r*(-1/r - (2*G*M - c**2*r)/(c**2*r**2))/(-2*G*M + c**2*r), 0, 0], [-0.5*c**2*r*(-1/r - (2*G*M - c**2*r)/(c**2*r**2))/(-2*G*M + c**2*r), 0, 0, 0], [0, 0, 0, 0], [0, 0, 0, 0]], [[0.5*(1/r + (2*G*M - c**2*r)/(c**2*r**2))*(-2*G*M + c**2*r)/(c**2*r), 0, 0, 0], [0, 0.5*(-2*G*M + c**2*r)*(-c**4*r/(-2*G*M + c**2*r)**2 + c**2/(-2*G*M + c**2*r))/(c**2*r), 0, 0], [0, 0, -1.0*(-2*G*M + c**2*r)/c**2, 0], [0, 0, 0, -1.0*(-2*G*M + c**2*r)*sin(theta)**2/c**2]], [[0, 0, 0, 0], [0, 0, 1.0/r, 0], [0, 1.0/r, 0, 0], [0, 0, 0, -1.0*sin(theta)*cos(theta)]], [[0, 0, 0, 0], [0, 0, 0, 1.0/r], [0, 0, 0, 1.0*cos(theta)/sin(theta)], [0, 1.0/r, 1.0*cos(theta)/sin(theta), 0]]]'\u001B[0m\n",
      "\u001B[32m2024-08-26 13:38:38.045\u001B[0m | \u001B[34m\u001B[1mDEBUG   \u001B[0m | \u001B[36mrelativisticpy.state.scopes\u001B[0m:\u001B[36minit_tensor\u001B[0m:\u001B[36m263\u001B[0m - \u001B[34m\u001B[1mAttempting to initiating 'Gamma^{a}_{n}_{m}' by equation from cached tensors.\u001B[0m\n",
      "\u001B[32m2024-08-26 13:38:38.050\u001B[0m | \u001B[34m\u001B[1mDEBUG   \u001B[0m | \u001B[36mrelativisticpy.state.scopes\u001B[0m:\u001B[36mset_tensor\u001B[0m:\u001B[36m184\u001B[0m - \u001B[34m\u001B[1mCaching new tensor 'Gamma' with components '[[[0, -0.5*c**2*r*(-1/r - (2*G*M - c**2*r)/(c**2*r**2))/(-2*G*M + c**2*r), 0, 0], [-0.5*c**2*r*(-1/r - (2*G*M - c**2*r)/(c**2*r**2))/(-2*G*M + c**2*r), 0, 0, 0], [0, 0, 0, 0], [0, 0, 0, 0]], [[0.5*(1/r + (2*G*M - c**2*r)/(c**2*r**2))*(-2*G*M + c**2*r)/(c**2*r), 0, 0, 0], [0, 0.5*(-2*G*M + c**2*r)*(-c**4*r/(-2*G*M + c**2*r)**2 + c**2/(-2*G*M + c**2*r))/(c**2*r), 0, 0], [0, 0, -1.0*(-2*G*M + c**2*r)/c**2, 0], [0, 0, 0, -1.0*(-2*G*M + c**2*r)*sin(theta)**2/c**2]], [[0, 0, 0, 0], [0, 0, 1.0/r, 0], [0, 1.0/r, 0, 0], [0, 0, 0, -1.0*sin(theta)*cos(theta)]], [[0, 0, 0, 0], [0, 0, 0, 1.0/r], [0, 0, 0, 1.0*cos(theta)/sin(theta)], [0, 1.0/r, 1.0*cos(theta)/sin(theta), 0]]]'\u001B[0m\n",
      "\u001B[32m2024-08-26 13:38:38.051\u001B[0m | \u001B[34m\u001B[1mDEBUG   \u001B[0m | \u001B[36mrelativisticpy.workbook.ast_visitor\u001B[0m:\u001B[36mmul\u001B[0m:\u001B[36m110\u001B[0m - \u001B[34m\u001B[1mMultiplying <relativisticpy.diffgeom.derivatives.partial.Derivative object at 0x113bcf710> * <relativisticpy.diffgeom.tensor.Tensor object at 0x112eec8d0> at position TokenPosition(start_pos=Position(line=13, character=23), end_pos=Position(line=13, character=24))\u001B[0m\n",
      "\u001B[32m2024-08-26 13:38:38.100\u001B[0m | \u001B[34m\u001B[1mDEBUG   \u001B[0m | \u001B[36mrelativisticpy.state.scopes\u001B[0m:\u001B[36minit_tensor\u001B[0m:\u001B[36m263\u001B[0m - \u001B[34m\u001B[1mAttempting to initiating 'Gamma^{a}_{b}_{l}' by equation from cached tensors.\u001B[0m\n",
      "\u001B[32m2024-08-26 13:38:38.109\u001B[0m | \u001B[34m\u001B[1mDEBUG   \u001B[0m | \u001B[36mrelativisticpy.state.scopes\u001B[0m:\u001B[36mset_tensor\u001B[0m:\u001B[36m184\u001B[0m - \u001B[34m\u001B[1mCaching new tensor 'Gamma' with components '[[[0, -0.5*c**2*r*(-1/r - (2*G*M - c**2*r)/(c**2*r**2))/(-2*G*M + c**2*r), 0, 0], [-0.5*c**2*r*(-1/r - (2*G*M - c**2*r)/(c**2*r**2))/(-2*G*M + c**2*r), 0, 0, 0], [0, 0, 0, 0], [0, 0, 0, 0]], [[0.5*(1/r + (2*G*M - c**2*r)/(c**2*r**2))*(-2*G*M + c**2*r)/(c**2*r), 0, 0, 0], [0, 0.5*(-2*G*M + c**2*r)*(-c**4*r/(-2*G*M + c**2*r)**2 + c**2/(-2*G*M + c**2*r))/(c**2*r), 0, 0], [0, 0, -1.0*(-2*G*M + c**2*r)/c**2, 0], [0, 0, 0, -1.0*(-2*G*M + c**2*r)*sin(theta)**2/c**2]], [[0, 0, 0, 0], [0, 0, 1.0/r, 0], [0, 1.0/r, 0, 0], [0, 0, 0, -1.0*sin(theta)*cos(theta)]], [[0, 0, 0, 0], [0, 0, 0, 1.0/r], [0, 0, 0, 1.0*cos(theta)/sin(theta)], [0, 1.0/r, 1.0*cos(theta)/sin(theta), 0]]]'\u001B[0m\n",
      "\u001B[32m2024-08-26 13:38:38.110\u001B[0m | \u001B[34m\u001B[1mDEBUG   \u001B[0m | \u001B[36mrelativisticpy.state.scopes\u001B[0m:\u001B[36minit_tensor\u001B[0m:\u001B[36m263\u001B[0m - \u001B[34m\u001B[1mAttempting to initiating 'Gamma^{l}_{n}_{m}' by equation from cached tensors.\u001B[0m\n",
      "\u001B[32m2024-08-26 13:38:38.119\u001B[0m | \u001B[34m\u001B[1mDEBUG   \u001B[0m | \u001B[36mrelativisticpy.state.scopes\u001B[0m:\u001B[36mset_tensor\u001B[0m:\u001B[36m184\u001B[0m - \u001B[34m\u001B[1mCaching new tensor 'Gamma' with components '[[[0, -0.5*c**2*r*(-1/r - (2*G*M - c**2*r)/(c**2*r**2))/(-2*G*M + c**2*r), 0, 0], [-0.5*c**2*r*(-1/r - (2*G*M - c**2*r)/(c**2*r**2))/(-2*G*M + c**2*r), 0, 0, 0], [0, 0, 0, 0], [0, 0, 0, 0]], [[0.5*(1/r + (2*G*M - c**2*r)/(c**2*r**2))*(-2*G*M + c**2*r)/(c**2*r), 0, 0, 0], [0, 0.5*(-2*G*M + c**2*r)*(-c**4*r/(-2*G*M + c**2*r)**2 + c**2/(-2*G*M + c**2*r))/(c**2*r), 0, 0], [0, 0, -1.0*(-2*G*M + c**2*r)/c**2, 0], [0, 0, 0, -1.0*(-2*G*M + c**2*r)*sin(theta)**2/c**2]], [[0, 0, 0, 0], [0, 0, 1.0/r, 0], [0, 1.0/r, 0, 0], [0, 0, 0, -1.0*sin(theta)*cos(theta)]], [[0, 0, 0, 0], [0, 0, 0, 1.0/r], [0, 0, 0, 1.0*cos(theta)/sin(theta)], [0, 1.0/r, 1.0*cos(theta)/sin(theta), 0]]]'\u001B[0m\n",
      "\u001B[32m2024-08-26 13:38:38.120\u001B[0m | \u001B[34m\u001B[1mDEBUG   \u001B[0m | \u001B[36mrelativisticpy.workbook.ast_visitor\u001B[0m:\u001B[36mmul\u001B[0m:\u001B[36m110\u001B[0m - \u001B[34m\u001B[1mMultiplying <relativisticpy.diffgeom.tensor.Tensor object at 0x114813990> * <relativisticpy.diffgeom.tensor.Tensor object at 0x1148132d0> at position TokenPosition(start_pos=Position(line=13, character=47), end_pos=Position(line=13, character=52))\u001B[0m\n",
      "\u001B[32m2024-08-26 13:38:38.348\u001B[0m | \u001B[34m\u001B[1mDEBUG   \u001B[0m | \u001B[36mrelativisticpy.workbook.ast_visitor\u001B[0m:\u001B[36madd\u001B[0m:\u001B[36m98\u001B[0m - \u001B[34m\u001B[1mAdding <relativisticpy.algebras.einstein_summation.EinsumArray object at 0x114813910> + <relativisticpy.diffgeom.tensor.Tensor object at 0x110b6ad90> at position TokenPosition(start_pos=Position(line=13, character=23), end_pos=Position(line=13, character=24))\u001B[0m\n",
      "\u001B[32m2024-08-26 13:38:38.518\u001B[0m | \u001B[34m\u001B[1mDEBUG   \u001B[0m | \u001B[36mrelativisticpy.state.scopes\u001B[0m:\u001B[36minit_tensor\u001B[0m:\u001B[36m263\u001B[0m - \u001B[34m\u001B[1mAttempting to initiating 'Gamma^{a}_{b}_{m}' by equation from cached tensors.\u001B[0m\n",
      "\u001B[32m2024-08-26 13:38:38.524\u001B[0m | \u001B[34m\u001B[1mDEBUG   \u001B[0m | \u001B[36mrelativisticpy.state.scopes\u001B[0m:\u001B[36mset_tensor\u001B[0m:\u001B[36m184\u001B[0m - \u001B[34m\u001B[1mCaching new tensor 'Gamma' with components '[[[0, -0.5*c**2*r*(-1/r - (2*G*M - c**2*r)/(c**2*r**2))/(-2*G*M + c**2*r), 0, 0], [-0.5*c**2*r*(-1/r - (2*G*M - c**2*r)/(c**2*r**2))/(-2*G*M + c**2*r), 0, 0, 0], [0, 0, 0, 0], [0, 0, 0, 0]], [[0.5*(1/r + (2*G*M - c**2*r)/(c**2*r**2))*(-2*G*M + c**2*r)/(c**2*r), 0, 0, 0], [0, 0.5*(-2*G*M + c**2*r)*(-c**4*r/(-2*G*M + c**2*r)**2 + c**2/(-2*G*M + c**2*r))/(c**2*r), 0, 0], [0, 0, -1.0*(-2*G*M + c**2*r)/c**2, 0], [0, 0, 0, -1.0*(-2*G*M + c**2*r)*sin(theta)**2/c**2]], [[0, 0, 0, 0], [0, 0, 1.0/r, 0], [0, 1.0/r, 0, 0], [0, 0, 0, -1.0*sin(theta)*cos(theta)]], [[0, 0, 0, 0], [0, 0, 0, 1.0/r], [0, 0, 0, 1.0*cos(theta)/sin(theta)], [0, 1.0/r, 1.0*cos(theta)/sin(theta), 0]]]'\u001B[0m\n",
      "\u001B[32m2024-08-26 13:38:38.525\u001B[0m | \u001B[34m\u001B[1mDEBUG   \u001B[0m | \u001B[36mrelativisticpy.workbook.ast_visitor\u001B[0m:\u001B[36mmul\u001B[0m:\u001B[36m110\u001B[0m - \u001B[34m\u001B[1mMultiplying <relativisticpy.diffgeom.derivatives.partial.Derivative object at 0x1122e1e90> * <relativisticpy.diffgeom.tensor.Tensor object at 0x114a3c590> at position TokenPosition(start_pos=Position(line=13, character=81), end_pos=Position(line=13, character=82))\u001B[0m\n",
      "\u001B[32m2024-08-26 13:38:38.565\u001B[0m | \u001B[34m\u001B[1mDEBUG   \u001B[0m | \u001B[36mrelativisticpy.workbook.ast_visitor\u001B[0m:\u001B[36msub\u001B[0m:\u001B[36m94\u001B[0m - \u001B[34m\u001B[1mSubtracting <relativisticpy.algebras.einstein_summation.EinsumArray object at 0x113bf4190> - <relativisticpy.algebras.einstein_summation.EinsumArray object at 0x114a482d0> at position TokenPosition(start_pos=Position(line=13, character=23), end_pos=Position(line=13, character=24))\u001B[0m\n",
      "\u001B[32m2024-08-26 13:38:38.651\u001B[0m | \u001B[34m\u001B[1mDEBUG   \u001B[0m | \u001B[36mrelativisticpy.state.scopes\u001B[0m:\u001B[36minit_tensor\u001B[0m:\u001B[36m263\u001B[0m - \u001B[34m\u001B[1mAttempting to initiating 'Gamma^{a}_{n}_{l}' by equation from cached tensors.\u001B[0m\n",
      "\u001B[32m2024-08-26 13:38:38.658\u001B[0m | \u001B[34m\u001B[1mDEBUG   \u001B[0m | \u001B[36mrelativisticpy.state.scopes\u001B[0m:\u001B[36mset_tensor\u001B[0m:\u001B[36m184\u001B[0m - \u001B[34m\u001B[1mCaching new tensor 'Gamma' with components '[[[0, -0.5*c**2*r*(-1/r - (2*G*M - c**2*r)/(c**2*r**2))/(-2*G*M + c**2*r), 0, 0], [-0.5*c**2*r*(-1/r - (2*G*M - c**2*r)/(c**2*r**2))/(-2*G*M + c**2*r), 0, 0, 0], [0, 0, 0, 0], [0, 0, 0, 0]], [[0.5*(1/r + (2*G*M - c**2*r)/(c**2*r**2))*(-2*G*M + c**2*r)/(c**2*r), 0, 0, 0], [0, 0.5*(-2*G*M + c**2*r)*(-c**4*r/(-2*G*M + c**2*r)**2 + c**2/(-2*G*M + c**2*r))/(c**2*r), 0, 0], [0, 0, -1.0*(-2*G*M + c**2*r)/c**2, 0], [0, 0, 0, -1.0*(-2*G*M + c**2*r)*sin(theta)**2/c**2]], [[0, 0, 0, 0], [0, 0, 1.0/r, 0], [0, 1.0/r, 0, 0], [0, 0, 0, -1.0*sin(theta)*cos(theta)]], [[0, 0, 0, 0], [0, 0, 0, 1.0/r], [0, 0, 0, 1.0*cos(theta)/sin(theta)], [0, 1.0/r, 1.0*cos(theta)/sin(theta), 0]]]'\u001B[0m\n",
      "\u001B[32m2024-08-26 13:38:38.658\u001B[0m | \u001B[34m\u001B[1mDEBUG   \u001B[0m | \u001B[36mrelativisticpy.state.scopes\u001B[0m:\u001B[36minit_tensor\u001B[0m:\u001B[36m263\u001B[0m - \u001B[34m\u001B[1mAttempting to initiating 'Gamma^{l}_{b}_{m}' by equation from cached tensors.\u001B[0m\n",
      "\u001B[32m2024-08-26 13:38:38.664\u001B[0m | \u001B[34m\u001B[1mDEBUG   \u001B[0m | \u001B[36mrelativisticpy.state.scopes\u001B[0m:\u001B[36mset_tensor\u001B[0m:\u001B[36m184\u001B[0m - \u001B[34m\u001B[1mCaching new tensor 'Gamma' with components '[[[0, -0.5*c**2*r*(-1/r - (2*G*M - c**2*r)/(c**2*r**2))/(-2*G*M + c**2*r), 0, 0], [-0.5*c**2*r*(-1/r - (2*G*M - c**2*r)/(c**2*r**2))/(-2*G*M + c**2*r), 0, 0, 0], [0, 0, 0, 0], [0, 0, 0, 0]], [[0.5*(1/r + (2*G*M - c**2*r)/(c**2*r**2))*(-2*G*M + c**2*r)/(c**2*r), 0, 0, 0], [0, 0.5*(-2*G*M + c**2*r)*(-c**4*r/(-2*G*M + c**2*r)**2 + c**2/(-2*G*M + c**2*r))/(c**2*r), 0, 0], [0, 0, -1.0*(-2*G*M + c**2*r)/c**2, 0], [0, 0, 0, -1.0*(-2*G*M + c**2*r)*sin(theta)**2/c**2]], [[0, 0, 0, 0], [0, 0, 1.0/r, 0], [0, 1.0/r, 0, 0], [0, 0, 0, -1.0*sin(theta)*cos(theta)]], [[0, 0, 0, 0], [0, 0, 0, 1.0/r], [0, 0, 0, 1.0*cos(theta)/sin(theta)], [0, 1.0/r, 1.0*cos(theta)/sin(theta), 0]]]'\u001B[0m\n",
      "\u001B[32m2024-08-26 13:38:38.665\u001B[0m | \u001B[34m\u001B[1mDEBUG   \u001B[0m | \u001B[36mrelativisticpy.workbook.ast_visitor\u001B[0m:\u001B[36mmul\u001B[0m:\u001B[36m110\u001B[0m - \u001B[34m\u001B[1mMultiplying <relativisticpy.diffgeom.tensor.Tensor object at 0x11427add0> * <relativisticpy.diffgeom.tensor.Tensor object at 0x1140caa50> at position TokenPosition(start_pos=Position(line=13, character=105), end_pos=Position(line=13, character=110))\u001B[0m\n",
      "\u001B[32m2024-08-26 13:38:38.782\u001B[0m | \u001B[34m\u001B[1mDEBUG   \u001B[0m | \u001B[36mrelativisticpy.workbook.ast_visitor\u001B[0m:\u001B[36msub\u001B[0m:\u001B[36m94\u001B[0m - \u001B[34m\u001B[1mSubtracting <relativisticpy.algebras.einstein_summation.EinsumArray object at 0x1140c8510> - <relativisticpy.diffgeom.tensor.Tensor object at 0x1140c8110> at position TokenPosition(start_pos=Position(line=13, character=23), end_pos=Position(line=13, character=24))\u001B[0m\n",
      "\u001B[32m2024-08-26 13:38:38.929\u001B[0m | \u001B[34m\u001B[1mDEBUG   \u001B[0m | \u001B[36mrelativisticpy.state.scopes\u001B[0m:\u001B[36mset_tensor\u001B[0m:\u001B[36m184\u001B[0m - \u001B[34m\u001B[1mCaching new tensor 'Riemann' with components '[[[[0, 0, 0, 0], [0, 0, 0, 0], [0, 0, 0, 0], [0, 0, 0, 0]], [[0, -0.25*c**4*r**2*(-1/r - (2*G*M - c**2*r)/(c**2*r**2))**2/(-2*G*M + c**2*r)**2 - 0.5*c**4*r*(-1/r - (2*G*M - c**2*r)/(c**2*r**2))/(-2*G*M + c**2*r)**2 + 0.5*c**2*r*(2/r**2 + 2*(2*G*M - c**2*r)/(c**2*r**3))/(-2*G*M + c**2*r) + 0.5*c**2*(-1/r - (2*G*M - c**2*r)/(c**2*r**2))/(-2*G*M + c**2*r) - 0.25*(-1/r - (2*G*M - c**2*r)/(c**2*r**2))*(-c**4*r/(-2*G*M + c**2*r)**2 + c**2/(-2*G*M + c**2*r)), 0, 0], [0.25*c**4*r**2*(-1/r - (2*G*M - c**2*r)/(c**2*r**2))**2/(-2*G*M + c**2*r)**2 + 0.5*c**4*r*(-1/r - (2*G*M - c**2*r)/(c**2*r**2))/(-2*G*M + c**2*r)**2 - 0.5*c**2*r*(2/r**2 + 2*(2*G*M - c**2*r)/(c**2*r**3))/(-2*G*M + c**2*r) - 0.5*c**2*(-1/r - (2*G*M - c**2*r)/(c**2*r**2))/(-2*G*M + c**2*r) + 0.25*(-1/r - (2*G*M - c**2*r)/(c**2*r**2))*(-c**4*r/(-2*G*M + c**2*r)**2 + c**2/(-2*G*M + c**2*r)), 0, 0, 0], [0, 0, 0, 0], [0, 0, 0, 0]], [[0, 0, 0.5*r*(-1/r - (2*G*M - c**2*r)/(c**2*r**2)), 0], [0, 0, 0, 0], [-0.5*r*(-1/r - (2*G*M - c**2*r)/(c**2*r**2)), 0, 0, 0], [0, 0, 0, 0]], [[0, 0, 0, 0.5*r*(-1/r - (2*G*M - c**2*r)/(c**2*r**2))*sin(theta)**2], [0, 0, 0, 0], [0, 0, 0, 0], [-0.5*r*(-1/r - (2*G*M - c**2*r)/(c**2*r**2))*sin(theta)**2, 0, 0, 0]]], [[[0, -0.25*(-1/r - (2*G*M - c**2*r)/(c**2*r**2))*(1/r + (2*G*M - c**2*r)/(c**2*r**2)) - 0.5*(1/r + (2*G*M - c**2*r)/(c**2*r**2))/r - 0.5*(-2/r**2 - 2*(2*G*M - c**2*r)/(c**2*r**3))*(-2*G*M + c**2*r)/(c**2*r) + 0.5*(1/r + (2*G*M - c**2*r)/(c**2*r**2))*(-2*G*M + c**2*r)/(c**2*r**2) - 0.25*(1/r + (2*G*M - c**2*r)/(c**2*r**2))*(-2*G*M + c**2*r)**2*(-c**4*r/(-2*G*M + c**2*r)**2 + c**2/(-2*G*M + c**2*r))/(c**4*r**2), 0, 0], [0.25*(-1/r - (2*G*M - c**2*r)/(c**2*r**2))*(1/r + (2*G*M - c**2*r)/(c**2*r**2)) + 0.5*(1/r + (2*G*M - c**2*r)/(c**2*r**2))/r + 0.5*(-2/r**2 - 2*(2*G*M - c**2*r)/(c**2*r**3))*(-2*G*M + c**2*r)/(c**2*r) - 0.5*(1/r + (2*G*M - c**2*r)/(c**2*r**2))*(-2*G*M + c**2*r)/(c**2*r**2) + 0.25*(1/r + (2*G*M - c**2*r)/(c**2*r**2))*(-2*G*M + c**2*r)**2*(-c**4*r/(-2*G*M + c**2*r)**2 + c**2/(-2*G*M + c**2*r))/(c**4*r**2), 0, 0, 0], [0, 0, 0, 0], [0, 0, 0, 0]], [[0, 0, 0, 0], [0, 0, 0, 0], [0, 0, 0, 0], [0, 0, 0, 0]], [[0, 0, 0, 0], [0, 0, -1.0 + 1.0*(-2*G*M + c**2*r)/(c**2*r) - 0.5*(-2*G*M + c**2*r)**2*(-c**4*r/(-2*G*M + c**2*r)**2 + c**2/(-2*G*M + c**2*r))/(c**4*r), 0], [0, 1.0 - 1.0*(-2*G*M + c**2*r)/(c**2*r) + 0.5*(-2*G*M + c**2*r)**2*(-c**4*r/(-2*G*M + c**2*r)**2 + c**2/(-2*G*M + c**2*r))/(c**4*r), 0, 0], [0, 0, 0, 0]], [[0, 0, 0, 0], [0, 0, 0, -1.0*sin(theta)**2 + 1.0*(-2*G*M + c**2*r)*sin(theta)**2/(c**2*r) - 0.5*(-2*G*M + c**2*r)**2*(-c**4*r/(-2*G*M + c**2*r)**2 + c**2/(-2*G*M + c**2*r))*sin(theta)**2/(c**4*r)], [0, 0, 0, 0], [0, 1.0*sin(theta)**2 - 1.0*(-2*G*M + c**2*r)*sin(theta)**2/(c**2*r) + 0.5*(-2*G*M + c**2*r)**2*(-c**4*r/(-2*G*M + c**2*r)**2 + c**2/(-2*G*M + c**2*r))*sin(theta)**2/(c**4*r), 0, 0]]], [[[0, 0, -0.5*(1/r + (2*G*M - c**2*r)/(c**2*r**2))*(-2*G*M + c**2*r)/(c**2*r**2), 0], [0, 0, 0, 0], [0.5*(1/r + (2*G*M - c**2*r)/(c**2*r**2))*(-2*G*M + c**2*r)/(c**2*r**2), 0, 0, 0], [0, 0, 0, 0]], [[0, 0, 0, 0], [0, 0, -0.5*(-2*G*M + c**2*r)*(-c**4*r/(-2*G*M + c**2*r)**2 + c**2/(-2*G*M + c**2*r))/(c**2*r**2), 0], [0, 0.5*(-2*G*M + c**2*r)*(-c**4*r/(-2*G*M + c**2*r)**2 + c**2/(-2*G*M + c**2*r))/(c**2*r**2), 0, 0], [0, 0, 0, 0]], [[0, 0, 0, 0], [0, 0, 0, 0], [0, 0, 0, 0], [0, 0, 0, 0]], [[0, 0, 0, 0], [0, 0, 0, 0], [0, 0, 0, 1.0*sin(theta)**2 - 1.0*(-2*G*M + c**2*r)*sin(theta)**2/(c**2*r)], [0, 0, -1.0*sin(theta)**2 + 1.0*(-2*G*M + c**2*r)*sin(theta)**2/(c**2*r), 0]]], [[[0, 0, 0, -0.5*(1/r + (2*G*M - c**2*r)/(c**2*r**2))*(-2*G*M + c**2*r)/(c**2*r**2)], [0, 0, 0, 0], [0, 0, 0, 0], [0.5*(1/r + (2*G*M - c**2*r)/(c**2*r**2))*(-2*G*M + c**2*r)/(c**2*r**2), 0, 0, 0]], [[0, 0, 0, 0], [0, 0, 0, -0.5*(-2*G*M + c**2*r)*(-c**4*r/(-2*G*M + c**2*r)**2 + c**2/(-2*G*M + c**2*r))/(c**2*r**2)], [0, 0, 0, 0], [0, 0.5*(-2*G*M + c**2*r)*(-c**4*r/(-2*G*M + c**2*r)**2 + c**2/(-2*G*M + c**2*r))/(c**2*r**2), 0, 0]], [[0, 0, 0, 0], [0, 0, 0, 0], [0, 0, 0, -1.0 + 1.0*(-2*G*M + c**2*r)/(c**2*r)], [0, 0, 1.0 - 1.0*(-2*G*M + c**2*r)/(c**2*r), 0]], [[0, 0, 0, 0], [0, 0, 0, 0], [0, 0, 0, 0], [0, 0, 0, 0]]]]'\u001B[0m\n",
      "\u001B[32m2024-08-26 13:38:38.930\u001B[0m | \u001B[34m\u001B[1mDEBUG   \u001B[0m | \u001B[36mrelativisticpy.state.scopes\u001B[0m:\u001B[36minit_tensor\u001B[0m:\u001B[36m263\u001B[0m - \u001B[34m\u001B[1mAttempting to initiating 'Riemann^{a}_{m}_{a}_{n}' by equation from cached tensors.\u001B[0m\n",
      "\u001B[32m2024-08-26 13:38:38.956\u001B[0m | \u001B[34m\u001B[1mDEBUG   \u001B[0m | \u001B[36mrelativisticpy.state.scopes\u001B[0m:\u001B[36mset_tensor\u001B[0m:\u001B[36m184\u001B[0m - \u001B[34m\u001B[1mCaching new tensor 'Ricci' with components '[[0.25*(-1/r - (2*G*M - c**2*r)/(c**2*r**2))*(1/r + (2*G*M - c**2*r)/(c**2*r**2)) + 0.5*(1/r + (2*G*M - c**2*r)/(c**2*r**2))/r + 0.5*(-2/r**2 - 2*(2*G*M - c**2*r)/(c**2*r**3))*(-2*G*M + c**2*r)/(c**2*r) + 0.5*(1/r + (2*G*M - c**2*r)/(c**2*r**2))*(-2*G*M + c**2*r)/(c**2*r**2) + 0.25*(1/r + (2*G*M - c**2*r)/(c**2*r**2))*(-2*G*M + c**2*r)**2*(-c**4*r/(-2*G*M + c**2*r)**2 + c**2/(-2*G*M + c**2*r))/(c**4*r**2), 0, 0, 0], [0, -0.25*c**4*r**2*(-1/r - (2*G*M - c**2*r)/(c**2*r**2))**2/(-2*G*M + c**2*r)**2 - 0.5*c**4*r*(-1/r - (2*G*M - c**2*r)/(c**2*r**2))/(-2*G*M + c**2*r)**2 + 0.5*c**2*r*(2/r**2 + 2*(2*G*M - c**2*r)/(c**2*r**3))/(-2*G*M + c**2*r) + 0.5*c**2*(-1/r - (2*G*M - c**2*r)/(c**2*r**2))/(-2*G*M + c**2*r) - 0.25*(-1/r - (2*G*M - c**2*r)/(c**2*r**2))*(-c**4*r/(-2*G*M + c**2*r)**2 + c**2/(-2*G*M + c**2*r)) + 1.0*(-2*G*M + c**2*r)*(-c**4*r/(-2*G*M + c**2*r)**2 + c**2/(-2*G*M + c**2*r))/(c**2*r**2), 0, 0], [0, 0, 0.5*r*(-1/r - (2*G*M - c**2*r)/(c**2*r**2)) - 0.5*(-2*G*M + c**2*r)**2*(-c**4*r/(-2*G*M + c**2*r)**2 + c**2/(-2*G*M + c**2*r))/(c**4*r), 0], [0, 0, 0, 0.5*r*(-1/r - (2*G*M - c**2*r)/(c**2*r**2))*sin(theta)**2 - 0.5*(-2*G*M + c**2*r)**2*(-c**4*r/(-2*G*M + c**2*r)**2 + c**2/(-2*G*M + c**2*r))*sin(theta)**2/(c**4*r)]]'\u001B[0m\n",
      "\u001B[32m2024-08-26 13:38:38.957\u001B[0m | \u001B[34m\u001B[1mDEBUG   \u001B[0m | \u001B[36mrelativisticpy.state.scopes\u001B[0m:\u001B[36minit_tensor\u001B[0m:\u001B[36m263\u001B[0m - \u001B[34m\u001B[1mAttempting to initiating 'g^{s}^{q}' by equation from cached tensors.\u001B[0m\n",
      "\u001B[32m2024-08-26 13:38:38.958\u001B[0m | \u001B[34m\u001B[1mDEBUG   \u001B[0m | \u001B[36mrelativisticpy.state.scopes\u001B[0m:\u001B[36minit_tensor\u001B[0m:\u001B[36m266\u001B[0m - \u001B[34m\u001B[1mIdentified 'g^{s}^{q}' to be a Metric. Initializing Metric from Metric.\u001B[0m\n",
      "\u001B[32m2024-08-26 13:38:38.959\u001B[0m | \u001B[34m\u001B[1mDEBUG   \u001B[0m | \u001B[36mrelativisticpy.state.scopes\u001B[0m:\u001B[36mmetric_tensor\u001B[0m:\u001B[36m102\u001B[0m - \u001B[34m\u001B[1mFound 1 Metric Tensor Objects in scope.\u001B[0m\n",
      "\u001B[32m2024-08-26 13:38:38.959\u001B[0m | \u001B[34m\u001B[1mDEBUG   \u001B[0m | \u001B[36mrelativisticpy.state.scopes\u001B[0m:\u001B[36mmetric_tensor\u001B[0m:\u001B[36m103\u001B[0m - \u001B[34m\u001B[1mReturning <relativisticpy.diffgeom.metric.Metric object at 0x113ae88d0>.\u001B[0m\n",
      "\u001B[32m2024-08-26 13:38:38.960\u001B[0m | \u001B[34m\u001B[1mDEBUG   \u001B[0m | \u001B[36mrelativisticpy.state.scopes\u001B[0m:\u001B[36mmetric_tensor\u001B[0m:\u001B[36m206\u001B[0m - \u001B[34m\u001B[1mFound metric tensor in scope with components: '[[(2*G*M - c**2*r)/(c**2*r), 0, 0, 0], [0, c**2*r/(-2*G*M + c**2*r), 0, 0], [0, 0, r**2, 0], [0, 0, 0, r**2*sin(theta)**2]]'\u001B[0m\n",
      "\u001B[32m2024-08-26 13:38:38.961\u001B[0m | \u001B[34m\u001B[1mDEBUG   \u001B[0m | \u001B[36mrelativisticpy.state.scopes\u001B[0m:\u001B[36mmetric_tensor\u001B[0m:\u001B[36m102\u001B[0m - \u001B[34m\u001B[1mFound 1 Metric Tensor Objects in scope.\u001B[0m\n",
      "\u001B[32m2024-08-26 13:38:38.961\u001B[0m | \u001B[34m\u001B[1mDEBUG   \u001B[0m | \u001B[36mrelativisticpy.state.scopes\u001B[0m:\u001B[36mmetric_tensor\u001B[0m:\u001B[36m103\u001B[0m - \u001B[34m\u001B[1mReturning <relativisticpy.diffgeom.metric.Metric object at 0x113ae88d0>.\u001B[0m\n",
      "\u001B[32m2024-08-26 13:38:39.098\u001B[0m | \u001B[34m\u001B[1mDEBUG   \u001B[0m | \u001B[36mrelativisticpy.state.scopes\u001B[0m:\u001B[36minit_tensor\u001B[0m:\u001B[36m271\u001B[0m - \u001B[34m\u001B[1mComputed components of 'g^{s}^{q}' to be: '[[-c**2*r/(-2*G*M + c**2*r), 0, 0, 0], [0, (-2*G*M + c**2*r)/(c**2*r), 0, 0], [0, 0, r**(-2), 0], [0, 0, 0, 1/(r**2*sin(theta)**2)]]'\u001B[0m\n",
      "\u001B[32m2024-08-26 13:38:39.100\u001B[0m | \u001B[34m\u001B[1mDEBUG   \u001B[0m | \u001B[36mrelativisticpy.state.scopes\u001B[0m:\u001B[36mset_tensor\u001B[0m:\u001B[36m184\u001B[0m - \u001B[34m\u001B[1mCaching new tensor 'g' with components '[[-c**2*r/(-2*G*M + c**2*r), 0, 0, 0], [0, (-2*G*M + c**2*r)/(c**2*r), 0, 0], [0, 0, r**(-2), 0], [0, 0, 0, 1/(r**2*sin(theta)**2)]]'\u001B[0m\n",
      "\u001B[32m2024-08-26 13:38:39.101\u001B[0m | \u001B[34m\u001B[1mDEBUG   \u001B[0m | \u001B[36mrelativisticpy.state.scopes\u001B[0m:\u001B[36minit_tensor\u001B[0m:\u001B[36m263\u001B[0m - \u001B[34m\u001B[1mAttempting to initiating 'g^{h}^{c}' by equation from cached tensors.\u001B[0m\n",
      "\u001B[32m2024-08-26 13:38:39.101\u001B[0m | \u001B[34m\u001B[1mDEBUG   \u001B[0m | \u001B[36mrelativisticpy.state.scopes\u001B[0m:\u001B[36minit_tensor\u001B[0m:\u001B[36m266\u001B[0m - \u001B[34m\u001B[1mIdentified 'g^{h}^{c}' to be a Metric. Initializing Metric from Metric.\u001B[0m\n",
      "\u001B[32m2024-08-26 13:38:39.102\u001B[0m | \u001B[34m\u001B[1mDEBUG   \u001B[0m | \u001B[36mrelativisticpy.state.scopes\u001B[0m:\u001B[36mmetric_tensor\u001B[0m:\u001B[36m102\u001B[0m - \u001B[34m\u001B[1mFound 1 Metric Tensor Objects in scope.\u001B[0m\n",
      "\u001B[32m2024-08-26 13:38:39.102\u001B[0m | \u001B[34m\u001B[1mDEBUG   \u001B[0m | \u001B[36mrelativisticpy.state.scopes\u001B[0m:\u001B[36mmetric_tensor\u001B[0m:\u001B[36m103\u001B[0m - \u001B[34m\u001B[1mReturning <relativisticpy.diffgeom.metric.Metric object at 0x1123f15d0>.\u001B[0m\n",
      "\u001B[32m2024-08-26 13:38:39.103\u001B[0m | \u001B[34m\u001B[1mDEBUG   \u001B[0m | \u001B[36mrelativisticpy.state.scopes\u001B[0m:\u001B[36mmetric_tensor\u001B[0m:\u001B[36m206\u001B[0m - \u001B[34m\u001B[1mFound metric tensor in scope with components: '[[-c**2*r/(-2*G*M + c**2*r), 0, 0, 0], [0, (-2*G*M + c**2*r)/(c**2*r), 0, 0], [0, 0, r**(-2), 0], [0, 0, 0, 1/(r**2*sin(theta)**2)]]'\u001B[0m\n",
      "\u001B[32m2024-08-26 13:38:39.104\u001B[0m | \u001B[34m\u001B[1mDEBUG   \u001B[0m | \u001B[36mrelativisticpy.state.scopes\u001B[0m:\u001B[36mmetric_tensor\u001B[0m:\u001B[36m102\u001B[0m - \u001B[34m\u001B[1mFound 1 Metric Tensor Objects in scope.\u001B[0m\n",
      "\u001B[32m2024-08-26 13:38:39.105\u001B[0m | \u001B[34m\u001B[1mDEBUG   \u001B[0m | \u001B[36mrelativisticpy.state.scopes\u001B[0m:\u001B[36mmetric_tensor\u001B[0m:\u001B[36m103\u001B[0m - \u001B[34m\u001B[1mReturning <relativisticpy.diffgeom.metric.Metric object at 0x1123f15d0>.\u001B[0m\n",
      "\u001B[32m2024-08-26 13:38:39.106\u001B[0m | \u001B[34m\u001B[1mDEBUG   \u001B[0m | \u001B[36mrelativisticpy.state.scopes\u001B[0m:\u001B[36minit_tensor\u001B[0m:\u001B[36m271\u001B[0m - \u001B[34m\u001B[1mComputed components of 'g^{h}^{c}' to be: '[[-c**2*r/(-2*G*M + c**2*r), 0, 0, 0], [0, (-2*G*M + c**2*r)/(c**2*r), 0, 0], [0, 0, r**(-2), 0], [0, 0, 0, 1/(r**2*sin(theta)**2)]]'\u001B[0m\n",
      "\u001B[32m2024-08-26 13:38:39.108\u001B[0m | \u001B[34m\u001B[1mDEBUG   \u001B[0m | \u001B[36mrelativisticpy.state.scopes\u001B[0m:\u001B[36mset_tensor\u001B[0m:\u001B[36m184\u001B[0m - \u001B[34m\u001B[1mCaching new tensor 'g' with components '[[-c**2*r/(-2*G*M + c**2*r), 0, 0, 0], [0, (-2*G*M + c**2*r)/(c**2*r), 0, 0], [0, 0, r**(-2), 0], [0, 0, 0, 1/(r**2*sin(theta)**2)]]'\u001B[0m\n",
      "\u001B[32m2024-08-26 13:38:39.109\u001B[0m | \u001B[34m\u001B[1mDEBUG   \u001B[0m | \u001B[36mrelativisticpy.state.scopes\u001B[0m:\u001B[36minit_tensor\u001B[0m:\u001B[36m263\u001B[0m - \u001B[34m\u001B[1mAttempting to initiating 'g^{f}^{b}' by equation from cached tensors.\u001B[0m\n",
      "\u001B[32m2024-08-26 13:38:39.110\u001B[0m | \u001B[34m\u001B[1mDEBUG   \u001B[0m | \u001B[36mrelativisticpy.state.scopes\u001B[0m:\u001B[36minit_tensor\u001B[0m:\u001B[36m266\u001B[0m - \u001B[34m\u001B[1mIdentified 'g^{f}^{b}' to be a Metric. Initializing Metric from Metric.\u001B[0m\n",
      "\u001B[32m2024-08-26 13:38:39.111\u001B[0m | \u001B[34m\u001B[1mDEBUG   \u001B[0m | \u001B[36mrelativisticpy.state.scopes\u001B[0m:\u001B[36mmetric_tensor\u001B[0m:\u001B[36m102\u001B[0m - \u001B[34m\u001B[1mFound 1 Metric Tensor Objects in scope.\u001B[0m\n",
      "\u001B[32m2024-08-26 13:38:39.111\u001B[0m | \u001B[34m\u001B[1mDEBUG   \u001B[0m | \u001B[36mrelativisticpy.state.scopes\u001B[0m:\u001B[36mmetric_tensor\u001B[0m:\u001B[36m103\u001B[0m - \u001B[34m\u001B[1mReturning <relativisticpy.diffgeom.metric.Metric object at 0x11427bf90>.\u001B[0m\n",
      "\u001B[32m2024-08-26 13:38:39.113\u001B[0m | \u001B[34m\u001B[1mDEBUG   \u001B[0m | \u001B[36mrelativisticpy.state.scopes\u001B[0m:\u001B[36mmetric_tensor\u001B[0m:\u001B[36m206\u001B[0m - \u001B[34m\u001B[1mFound metric tensor in scope with components: '[[-c**2*r/(-2*G*M + c**2*r), 0, 0, 0], [0, (-2*G*M + c**2*r)/(c**2*r), 0, 0], [0, 0, r**(-2), 0], [0, 0, 0, 1/(r**2*sin(theta)**2)]]'\u001B[0m\n",
      "\u001B[32m2024-08-26 13:38:39.113\u001B[0m | \u001B[34m\u001B[1mDEBUG   \u001B[0m | \u001B[36mrelativisticpy.state.scopes\u001B[0m:\u001B[36mmetric_tensor\u001B[0m:\u001B[36m102\u001B[0m - \u001B[34m\u001B[1mFound 1 Metric Tensor Objects in scope.\u001B[0m\n",
      "\u001B[32m2024-08-26 13:38:39.114\u001B[0m | \u001B[34m\u001B[1mDEBUG   \u001B[0m | \u001B[36mrelativisticpy.state.scopes\u001B[0m:\u001B[36mmetric_tensor\u001B[0m:\u001B[36m103\u001B[0m - \u001B[34m\u001B[1mReturning <relativisticpy.diffgeom.metric.Metric object at 0x11427bf90>.\u001B[0m\n",
      "\u001B[32m2024-08-26 13:38:39.115\u001B[0m | \u001B[34m\u001B[1mDEBUG   \u001B[0m | \u001B[36mrelativisticpy.state.scopes\u001B[0m:\u001B[36minit_tensor\u001B[0m:\u001B[36m271\u001B[0m - \u001B[34m\u001B[1mComputed components of 'g^{f}^{b}' to be: '[[-c**2*r/(-2*G*M + c**2*r), 0, 0, 0], [0, (-2*G*M + c**2*r)/(c**2*r), 0, 0], [0, 0, r**(-2), 0], [0, 0, 0, 1/(r**2*sin(theta)**2)]]'\u001B[0m\n",
      "\u001B[32m2024-08-26 13:38:39.117\u001B[0m | \u001B[34m\u001B[1mDEBUG   \u001B[0m | \u001B[36mrelativisticpy.state.scopes\u001B[0m:\u001B[36mset_tensor\u001B[0m:\u001B[36m184\u001B[0m - \u001B[34m\u001B[1mCaching new tensor 'g' with components '[[-c**2*r/(-2*G*M + c**2*r), 0, 0, 0], [0, (-2*G*M + c**2*r)/(c**2*r), 0, 0], [0, 0, r**(-2), 0], [0, 0, 0, 1/(r**2*sin(theta)**2)]]'\u001B[0m\n",
      "\u001B[32m2024-08-26 13:38:39.117\u001B[0m | \u001B[34m\u001B[1mDEBUG   \u001B[0m | \u001B[36mrelativisticpy.state.scopes\u001B[0m:\u001B[36minit_tensor\u001B[0m:\u001B[36m263\u001B[0m - \u001B[34m\u001B[1mAttempting to initiating 'Riemann^{a}_{b}_{c}_{q}' by equation from cached tensors.\u001B[0m\n",
      "\u001B[32m2024-08-26 13:38:39.161\u001B[0m | \u001B[34m\u001B[1mDEBUG   \u001B[0m | \u001B[36mrelativisticpy.state.scopes\u001B[0m:\u001B[36mset_tensor\u001B[0m:\u001B[36m184\u001B[0m - \u001B[34m\u001B[1mCaching new tensor 'Riemann' with components '[[[[0, 0, 0, 0], [0, 0, 0, 0], [0, 0, 0, 0], [0, 0, 0, 0]], [[0, -0.25*c**4*r**2*(-1/r - (2*G*M - c**2*r)/(c**2*r**2))**2/(-2*G*M + c**2*r)**2 - 0.5*c**4*r*(-1/r - (2*G*M - c**2*r)/(c**2*r**2))/(-2*G*M + c**2*r)**2 + 0.5*c**2*r*(2/r**2 + 2*(2*G*M - c**2*r)/(c**2*r**3))/(-2*G*M + c**2*r) + 0.5*c**2*(-1/r - (2*G*M - c**2*r)/(c**2*r**2))/(-2*G*M + c**2*r) - 0.25*(-1/r - (2*G*M - c**2*r)/(c**2*r**2))*(-c**4*r/(-2*G*M + c**2*r)**2 + c**2/(-2*G*M + c**2*r)), 0, 0], [0.25*c**4*r**2*(-1/r - (2*G*M - c**2*r)/(c**2*r**2))**2/(-2*G*M + c**2*r)**2 + 0.5*c**4*r*(-1/r - (2*G*M - c**2*r)/(c**2*r**2))/(-2*G*M + c**2*r)**2 - 0.5*c**2*r*(2/r**2 + 2*(2*G*M - c**2*r)/(c**2*r**3))/(-2*G*M + c**2*r) - 0.5*c**2*(-1/r - (2*G*M - c**2*r)/(c**2*r**2))/(-2*G*M + c**2*r) + 0.25*(-1/r - (2*G*M - c**2*r)/(c**2*r**2))*(-c**4*r/(-2*G*M + c**2*r)**2 + c**2/(-2*G*M + c**2*r)), 0, 0, 0], [0, 0, 0, 0], [0, 0, 0, 0]], [[0, 0, 0.5*r*(-1/r - (2*G*M - c**2*r)/(c**2*r**2)), 0], [0, 0, 0, 0], [-0.5*r*(-1/r - (2*G*M - c**2*r)/(c**2*r**2)), 0, 0, 0], [0, 0, 0, 0]], [[0, 0, 0, 0.5*r*(-1/r - (2*G*M - c**2*r)/(c**2*r**2))*sin(theta)**2], [0, 0, 0, 0], [0, 0, 0, 0], [-0.5*r*(-1/r - (2*G*M - c**2*r)/(c**2*r**2))*sin(theta)**2, 0, 0, 0]]], [[[0, -0.25*(-1/r - (2*G*M - c**2*r)/(c**2*r**2))*(1/r + (2*G*M - c**2*r)/(c**2*r**2)) - 0.5*(1/r + (2*G*M - c**2*r)/(c**2*r**2))/r - 0.5*(-2/r**2 - 2*(2*G*M - c**2*r)/(c**2*r**3))*(-2*G*M + c**2*r)/(c**2*r) + 0.5*(1/r + (2*G*M - c**2*r)/(c**2*r**2))*(-2*G*M + c**2*r)/(c**2*r**2) - 0.25*(1/r + (2*G*M - c**2*r)/(c**2*r**2))*(-2*G*M + c**2*r)**2*(-c**4*r/(-2*G*M + c**2*r)**2 + c**2/(-2*G*M + c**2*r))/(c**4*r**2), 0, 0], [0.25*(-1/r - (2*G*M - c**2*r)/(c**2*r**2))*(1/r + (2*G*M - c**2*r)/(c**2*r**2)) + 0.5*(1/r + (2*G*M - c**2*r)/(c**2*r**2))/r + 0.5*(-2/r**2 - 2*(2*G*M - c**2*r)/(c**2*r**3))*(-2*G*M + c**2*r)/(c**2*r) - 0.5*(1/r + (2*G*M - c**2*r)/(c**2*r**2))*(-2*G*M + c**2*r)/(c**2*r**2) + 0.25*(1/r + (2*G*M - c**2*r)/(c**2*r**2))*(-2*G*M + c**2*r)**2*(-c**4*r/(-2*G*M + c**2*r)**2 + c**2/(-2*G*M + c**2*r))/(c**4*r**2), 0, 0, 0], [0, 0, 0, 0], [0, 0, 0, 0]], [[0, 0, 0, 0], [0, 0, 0, 0], [0, 0, 0, 0], [0, 0, 0, 0]], [[0, 0, 0, 0], [0, 0, -1.0 + 1.0*(-2*G*M + c**2*r)/(c**2*r) - 0.5*(-2*G*M + c**2*r)**2*(-c**4*r/(-2*G*M + c**2*r)**2 + c**2/(-2*G*M + c**2*r))/(c**4*r), 0], [0, 1.0 - 1.0*(-2*G*M + c**2*r)/(c**2*r) + 0.5*(-2*G*M + c**2*r)**2*(-c**4*r/(-2*G*M + c**2*r)**2 + c**2/(-2*G*M + c**2*r))/(c**4*r), 0, 0], [0, 0, 0, 0]], [[0, 0, 0, 0], [0, 0, 0, -1.0*sin(theta)**2 + 1.0*(-2*G*M + c**2*r)*sin(theta)**2/(c**2*r) - 0.5*(-2*G*M + c**2*r)**2*(-c**4*r/(-2*G*M + c**2*r)**2 + c**2/(-2*G*M + c**2*r))*sin(theta)**2/(c**4*r)], [0, 0, 0, 0], [0, 1.0*sin(theta)**2 - 1.0*(-2*G*M + c**2*r)*sin(theta)**2/(c**2*r) + 0.5*(-2*G*M + c**2*r)**2*(-c**4*r/(-2*G*M + c**2*r)**2 + c**2/(-2*G*M + c**2*r))*sin(theta)**2/(c**4*r), 0, 0]]], [[[0, 0, -0.5*(1/r + (2*G*M - c**2*r)/(c**2*r**2))*(-2*G*M + c**2*r)/(c**2*r**2), 0], [0, 0, 0, 0], [0.5*(1/r + (2*G*M - c**2*r)/(c**2*r**2))*(-2*G*M + c**2*r)/(c**2*r**2), 0, 0, 0], [0, 0, 0, 0]], [[0, 0, 0, 0], [0, 0, -0.5*(-2*G*M + c**2*r)*(-c**4*r/(-2*G*M + c**2*r)**2 + c**2/(-2*G*M + c**2*r))/(c**2*r**2), 0], [0, 0.5*(-2*G*M + c**2*r)*(-c**4*r/(-2*G*M + c**2*r)**2 + c**2/(-2*G*M + c**2*r))/(c**2*r**2), 0, 0], [0, 0, 0, 0]], [[0, 0, 0, 0], [0, 0, 0, 0], [0, 0, 0, 0], [0, 0, 0, 0]], [[0, 0, 0, 0], [0, 0, 0, 0], [0, 0, 0, 1.0*sin(theta)**2 - 1.0*(-2*G*M + c**2*r)*sin(theta)**2/(c**2*r)], [0, 0, -1.0*sin(theta)**2 + 1.0*(-2*G*M + c**2*r)*sin(theta)**2/(c**2*r), 0]]], [[[0, 0, 0, -0.5*(1/r + (2*G*M - c**2*r)/(c**2*r**2))*(-2*G*M + c**2*r)/(c**2*r**2)], [0, 0, 0, 0], [0, 0, 0, 0], [0.5*(1/r + (2*G*M - c**2*r)/(c**2*r**2))*(-2*G*M + c**2*r)/(c**2*r**2), 0, 0, 0]], [[0, 0, 0, 0], [0, 0, 0, -0.5*(-2*G*M + c**2*r)*(-c**4*r/(-2*G*M + c**2*r)**2 + c**2/(-2*G*M + c**2*r))/(c**2*r**2)], [0, 0, 0, 0], [0, 0.5*(-2*G*M + c**2*r)*(-c**4*r/(-2*G*M + c**2*r)**2 + c**2/(-2*G*M + c**2*r))/(c**2*r**2), 0, 0]], [[0, 0, 0, 0], [0, 0, 0, 0], [0, 0, 0, -1.0 + 1.0*(-2*G*M + c**2*r)/(c**2*r)], [0, 0, 1.0 - 1.0*(-2*G*M + c**2*r)/(c**2*r), 0]], [[0, 0, 0, 0], [0, 0, 0, 0], [0, 0, 0, 0], [0, 0, 0, 0]]]]'\u001B[0m\n",
      "\u001B[32m2024-08-26 13:38:39.162\u001B[0m | \u001B[34m\u001B[1mDEBUG   \u001B[0m | \u001B[36mrelativisticpy.workbook.ast_visitor\u001B[0m:\u001B[36mmul\u001B[0m:\u001B[36m110\u001B[0m - \u001B[34m\u001B[1mMultiplying <relativisticpy.diffgeom.metric.Metric object at 0x113abb550> * <relativisticpy.diffgeom.tensor.Tensor object at 0x1140aea50> at position TokenPosition(start_pos=Position(line=17, character=51), end_pos=Position(line=17, character=52))\u001B[0m\n",
      "\u001B[32m2024-08-26 13:38:39.308\u001B[0m | \u001B[34m\u001B[1mDEBUG   \u001B[0m | \u001B[36mrelativisticpy.workbook.ast_visitor\u001B[0m:\u001B[36mmul\u001B[0m:\u001B[36m110\u001B[0m - \u001B[34m\u001B[1mMultiplying <relativisticpy.diffgeom.metric.Metric object at 0x110574f50> * <relativisticpy.diffgeom.tensor.Tensor object at 0x114841910> at position TokenPosition(start_pos=Position(line=17, character=39), end_pos=Position(line=17, character=40))\u001B[0m\n",
      "\u001B[32m2024-08-26 13:38:39.442\u001B[0m | \u001B[34m\u001B[1mDEBUG   \u001B[0m | \u001B[36mrelativisticpy.workbook.ast_visitor\u001B[0m:\u001B[36mmul\u001B[0m:\u001B[36m110\u001B[0m - \u001B[34m\u001B[1mMultiplying <relativisticpy.diffgeom.metric.Metric object at 0x11401fc90> * <relativisticpy.diffgeom.tensor.Tensor object at 0x1141517d0> at position TokenPosition(start_pos=Position(line=17, character=27), end_pos=Position(line=17, character=28))\u001B[0m\n",
      "\u001B[32m2024-08-26 13:38:39.609\u001B[0m | \u001B[34m\u001B[1mDEBUG   \u001B[0m | \u001B[36mrelativisticpy.state.scopes\u001B[0m:\u001B[36mset_tensor\u001B[0m:\u001B[36m184\u001B[0m - \u001B[34m\u001B[1mCaching new tensor 'TempOne' with components '[[[[0, 0, 0, 0], [0, 0, 0, 0], [0, 0, 0, 0], [0, 0, 0, 0]], [[0, (-2*G*M + c**2*r)*(0.25*c**4*r**2*(-1/r - (2*G*M - c**2*r)/(c**2*r**2))**2/(-2*G*M + c**2*r)**2 + 0.5*c**4*r*(-1/r - (2*G*M - c**2*r)/(c**2*r**2))/(-2*G*M + c**2*r)**2 - 0.5*c**2*r*(2/r**2 + 2*(2*G*M - c**2*r)/(c**2*r**3))/(-2*G*M + c**2*r) - 0.5*c**2*(-1/r - (2*G*M - c**2*r)/(c**2*r**2))/(-2*G*M + c**2*r) + 0.25*(-1/r - (2*G*M - c**2*r)/(c**2*r**2))*(-c**4*r/(-2*G*M + c**2*r)**2 + c**2/(-2*G*M + c**2*r)))/(c**2*r), 0, 0], [-(-2*G*M + c**2*r)*(0.25*c**4*r**2*(-1/r - (2*G*M - c**2*r)/(c**2*r**2))**2/(-2*G*M + c**2*r)**2 + 0.5*c**4*r*(-1/r - (2*G*M - c**2*r)/(c**2*r**2))/(-2*G*M + c**2*r)**2 - 0.5*c**2*r*(2/r**2 + 2*(2*G*M - c**2*r)/(c**2*r**3))/(-2*G*M + c**2*r) - 0.5*c**2*(-1/r - (2*G*M - c**2*r)/(c**2*r**2))/(-2*G*M + c**2*r) + 0.25*(-1/r - (2*G*M - c**2*r)/(c**2*r**2))*(-c**4*r/(-2*G*M + c**2*r)**2 + c**2/(-2*G*M + c**2*r)))/(c**2*r), 0, 0, 0], [0, 0, 0, 0], [0, 0, 0, 0]], [[0, 0, -0.5*c**2*(-1/r - (2*G*M - c**2*r)/(c**2*r**2))/(r**2*(-2*G*M + c**2*r)), 0], [0, 0, 0, 0], [0.5*c**2*(-1/r - (2*G*M - c**2*r)/(c**2*r**2))/(r**2*(-2*G*M + c**2*r)), 0, 0, 0], [0, 0, 0, 0]], [[0, 0, 0, -0.5*c**2*(-1/r - (2*G*M - c**2*r)/(c**2*r**2))/(r**2*(-2*G*M + c**2*r)*sin(theta)**2)], [0, 0, 0, 0], [0, 0, 0, 0], [0.5*c**2*(-1/r - (2*G*M - c**2*r)/(c**2*r**2))/(r**2*(-2*G*M + c**2*r)*sin(theta)**2), 0, 0, 0]]], [[[0, c**2*r*(-0.25*(-1/r - (2*G*M - c**2*r)/(c**2*r**2))*(1/r + (2*G*M - c**2*r)/(c**2*r**2)) - 0.5*(1/r + (2*G*M - c**2*r)/(c**2*r**2))/r - 0.5*(-2/r**2 - 2*(2*G*M - c**2*r)/(c**2*r**3))*(-2*G*M + c**2*r)/(c**2*r) + 0.5*(1/r + (2*G*M - c**2*r)/(c**2*r**2))*(-2*G*M + c**2*r)/(c**2*r**2) - 0.25*(1/r + (2*G*M - c**2*r)/(c**2*r**2))*(-2*G*M + c**2*r)**2*(-c**4*r/(-2*G*M + c**2*r)**2 + c**2/(-2*G*M + c**2*r))/(c**4*r**2))/(-2*G*M + c**2*r), 0, 0], [-c**2*r*(-0.25*(-1/r - (2*G*M - c**2*r)/(c**2*r**2))*(1/r + (2*G*M - c**2*r)/(c**2*r**2)) - 0.5*(1/r + (2*G*M - c**2*r)/(c**2*r**2))/r - 0.5*(-2/r**2 - 2*(2*G*M - c**2*r)/(c**2*r**3))*(-2*G*M + c**2*r)/(c**2*r) + 0.5*(1/r + (2*G*M - c**2*r)/(c**2*r**2))*(-2*G*M + c**2*r)/(c**2*r**2) - 0.25*(1/r + (2*G*M - c**2*r)/(c**2*r**2))*(-2*G*M + c**2*r)**2*(-c**4*r/(-2*G*M + c**2*r)**2 + c**2/(-2*G*M + c**2*r))/(c**4*r**2))/(-2*G*M + c**2*r), 0, 0, 0], [0, 0, 0, 0], [0, 0, 0, 0]], [[0, 0, 0, 0], [0, 0, 0, 0], [0, 0, 0, 0], [0, 0, 0, 0]], [[0, 0, 0, 0], [0, 0, (-2*G*M + c**2*r)*(-1.0 + 1.0*(-2*G*M + c**2*r)/(c**2*r) - 0.5*(-2*G*M + c**2*r)**2*(-c**4*r/(-2*G*M + c**2*r)**2 + c**2/(-2*G*M + c**2*r))/(c**4*r))/(c**2*r**5), 0], [0, (-2*G*M + c**2*r)*(1.0 - 1.0*(-2*G*M + c**2*r)/(c**2*r) + 0.5*(-2*G*M + c**2*r)**2*(-c**4*r/(-2*G*M + c**2*r)**2 + c**2/(-2*G*M + c**2*r))/(c**4*r))/(c**2*r**5), 0, 0], [0, 0, 0, 0]], [[0, 0, 0, 0], [0, 0, 0, (-2*G*M + c**2*r)*(-1.0*sin(theta)**2 + 1.0*(-2*G*M + c**2*r)*sin(theta)**2/(c**2*r) - 0.5*(-2*G*M + c**2*r)**2*(-c**4*r/(-2*G*M + c**2*r)**2 + c**2/(-2*G*M + c**2*r))*sin(theta)**2/(c**4*r))/(c**2*r**5*sin(theta)**4)], [0, 0, 0, 0], [0, (-2*G*M + c**2*r)*(1.0*sin(theta)**2 - 1.0*(-2*G*M + c**2*r)*sin(theta)**2/(c**2*r) + 0.5*(-2*G*M + c**2*r)**2*(-c**4*r/(-2*G*M + c**2*r)**2 + c**2/(-2*G*M + c**2*r))*sin(theta)**2/(c**4*r))/(c**2*r**5*sin(theta)**4), 0, 0]]], [[[0, 0, -0.5*c**2*(1/r + (2*G*M - c**2*r)/(c**2*r**2))/(r**2*(-2*G*M + c**2*r)), 0], [0, 0, 0, 0], [0.5*c**2*(1/r + (2*G*M - c**2*r)/(c**2*r**2))/(r**2*(-2*G*M + c**2*r)), 0, 0, 0], [0, 0, 0, 0]], [[0, 0, 0, 0], [0, 0, -0.5*(-2*G*M + c**2*r)**3*(-c**4*r/(-2*G*M + c**2*r)**2 + c**2/(-2*G*M + c**2*r))/(c**6*r**6), 0], [0, 0.5*(-2*G*M + c**2*r)**3*(-c**4*r/(-2*G*M + c**2*r)**2 + c**2/(-2*G*M + c**2*r))/(c**6*r**6), 0, 0], [0, 0, 0, 0]], [[0, 0, 0, 0], [0, 0, 0, 0], [0, 0, 0, 0], [0, 0, 0, 0]], [[0, 0, 0, 0], [0, 0, 0, 0], [0, 0, 0, (1.0*sin(theta)**2 - 1.0*(-2*G*M + c**2*r)*sin(theta)**2/(c**2*r))/(r**6*sin(theta)**4)], [0, 0, (-1.0*sin(theta)**2 + 1.0*(-2*G*M + c**2*r)*sin(theta)**2/(c**2*r))/(r**6*sin(theta)**4), 0]]], [[[0, 0, 0, -0.5*c**2*(1/r + (2*G*M - c**2*r)/(c**2*r**2))/(r**2*(-2*G*M + c**2*r)*sin(theta)**2)], [0, 0, 0, 0], [0, 0, 0, 0], [0.5*c**2*(1/r + (2*G*M - c**2*r)/(c**2*r**2))/(r**2*(-2*G*M + c**2*r)*sin(theta)**2), 0, 0, 0]], [[0, 0, 0, 0], [0, 0, 0, -0.5*(-2*G*M + c**2*r)**3*(-c**4*r/(-2*G*M + c**2*r)**2 + c**2/(-2*G*M + c**2*r))/(c**6*r**6*sin(theta)**2)], [0, 0, 0, 0], [0, 0.5*(-2*G*M + c**2*r)**3*(-c**4*r/(-2*G*M + c**2*r)**2 + c**2/(-2*G*M + c**2*r))/(c**6*r**6*sin(theta)**2), 0, 0]], [[0, 0, 0, 0], [0, 0, 0, 0], [0, 0, 0, (-1.0 + 1.0*(-2*G*M + c**2*r)/(c**2*r))/(r**6*sin(theta)**2)], [0, 0, (1.0 - 1.0*(-2*G*M + c**2*r)/(c**2*r))/(r**6*sin(theta)**2), 0]], [[0, 0, 0, 0], [0, 0, 0, 0], [0, 0, 0, 0], [0, 0, 0, 0]]]]'\u001B[0m\n",
      "\u001B[32m2024-08-26 13:38:39.610\u001B[0m | \u001B[34m\u001B[1mDEBUG   \u001B[0m | \u001B[36mrelativisticpy.state.scopes\u001B[0m:\u001B[36minit_tensor\u001B[0m:\u001B[36m263\u001B[0m - \u001B[34m\u001B[1mAttempting to initiating 'g_{a}_{n}' by equation from cached tensors.\u001B[0m\n",
      "\u001B[32m2024-08-26 13:38:39.611\u001B[0m | \u001B[34m\u001B[1mDEBUG   \u001B[0m | \u001B[36mrelativisticpy.state.scopes\u001B[0m:\u001B[36minit_tensor\u001B[0m:\u001B[36m266\u001B[0m - \u001B[34m\u001B[1mIdentified 'g_{a}_{n}' to be a Metric. Initializing Metric from Metric.\u001B[0m\n",
      "\u001B[32m2024-08-26 13:38:39.611\u001B[0m | \u001B[34m\u001B[1mDEBUG   \u001B[0m | \u001B[36mrelativisticpy.state.scopes\u001B[0m:\u001B[36mmetric_tensor\u001B[0m:\u001B[36m102\u001B[0m - \u001B[34m\u001B[1mFound 1 Metric Tensor Objects in scope.\u001B[0m\n",
      "\u001B[32m2024-08-26 13:38:39.612\u001B[0m | \u001B[34m\u001B[1mDEBUG   \u001B[0m | \u001B[36mrelativisticpy.state.scopes\u001B[0m:\u001B[36mmetric_tensor\u001B[0m:\u001B[36m103\u001B[0m - \u001B[34m\u001B[1mReturning <relativisticpy.diffgeom.metric.Metric object at 0x114149cd0>.\u001B[0m\n",
      "\u001B[32m2024-08-26 13:38:39.613\u001B[0m | \u001B[34m\u001B[1mDEBUG   \u001B[0m | \u001B[36mrelativisticpy.state.scopes\u001B[0m:\u001B[36mmetric_tensor\u001B[0m:\u001B[36m206\u001B[0m - \u001B[34m\u001B[1mFound metric tensor in scope with components: '[[-c**2*r/(-2*G*M + c**2*r), 0, 0, 0], [0, (-2*G*M + c**2*r)/(c**2*r), 0, 0], [0, 0, r**(-2), 0], [0, 0, 0, 1/(r**2*sin(theta)**2)]]'\u001B[0m\n",
      "\u001B[32m2024-08-26 13:38:39.614\u001B[0m | \u001B[34m\u001B[1mDEBUG   \u001B[0m | \u001B[36mrelativisticpy.state.scopes\u001B[0m:\u001B[36mmetric_tensor\u001B[0m:\u001B[36m102\u001B[0m - \u001B[34m\u001B[1mFound 1 Metric Tensor Objects in scope.\u001B[0m\n",
      "\u001B[32m2024-08-26 13:38:39.614\u001B[0m | \u001B[34m\u001B[1mDEBUG   \u001B[0m | \u001B[36mrelativisticpy.state.scopes\u001B[0m:\u001B[36mmetric_tensor\u001B[0m:\u001B[36m103\u001B[0m - \u001B[34m\u001B[1mReturning <relativisticpy.diffgeom.metric.Metric object at 0x114149cd0>.\u001B[0m\n",
      "\u001B[32m2024-08-26 13:38:39.760\u001B[0m | \u001B[34m\u001B[1mDEBUG   \u001B[0m | \u001B[36mrelativisticpy.state.scopes\u001B[0m:\u001B[36minit_tensor\u001B[0m:\u001B[36m271\u001B[0m - \u001B[34m\u001B[1mComputed components of 'g_{a}_{n}' to be: '[[(2*G*M - c**2*r)/(c**2*r), 0, 0, 0], [0, c**2*r/(-2*G*M + c**2*r), 0, 0], [0, 0, r**2, 0], [0, 0, 0, r**2*sin(theta)**2]]'\u001B[0m\n",
      "\u001B[32m2024-08-26 13:38:39.762\u001B[0m | \u001B[34m\u001B[1mDEBUG   \u001B[0m | \u001B[36mrelativisticpy.state.scopes\u001B[0m:\u001B[36mset_tensor\u001B[0m:\u001B[36m184\u001B[0m - \u001B[34m\u001B[1mCaching new tensor 'g' with components '[[(2*G*M - c**2*r)/(c**2*r), 0, 0, 0], [0, c**2*r/(-2*G*M + c**2*r), 0, 0], [0, 0, r**2, 0], [0, 0, 0, r**2*sin(theta)**2]]'\u001B[0m\n",
      "\u001B[32m2024-08-26 13:38:39.762\u001B[0m | \u001B[34m\u001B[1mDEBUG   \u001B[0m | \u001B[36mrelativisticpy.state.scopes\u001B[0m:\u001B[36minit_tensor\u001B[0m:\u001B[36m263\u001B[0m - \u001B[34m\u001B[1mAttempting to initiating 'Riemann^{n}_{f}_{h}_{s}' by equation from cached tensors.\u001B[0m\n",
      "\u001B[32m2024-08-26 13:38:39.804\u001B[0m | \u001B[34m\u001B[1mDEBUG   \u001B[0m | \u001B[36mrelativisticpy.state.scopes\u001B[0m:\u001B[36mset_tensor\u001B[0m:\u001B[36m184\u001B[0m - \u001B[34m\u001B[1mCaching new tensor 'Riemann' with components '[[[[0, 0, 0, 0], [0, 0, 0, 0], [0, 0, 0, 0], [0, 0, 0, 0]], [[0, -0.25*c**4*r**2*(-1/r - (2*G*M - c**2*r)/(c**2*r**2))**2/(-2*G*M + c**2*r)**2 - 0.5*c**4*r*(-1/r - (2*G*M - c**2*r)/(c**2*r**2))/(-2*G*M + c**2*r)**2 + 0.5*c**2*r*(2/r**2 + 2*(2*G*M - c**2*r)/(c**2*r**3))/(-2*G*M + c**2*r) + 0.5*c**2*(-1/r - (2*G*M - c**2*r)/(c**2*r**2))/(-2*G*M + c**2*r) - 0.25*(-1/r - (2*G*M - c**2*r)/(c**2*r**2))*(-c**4*r/(-2*G*M + c**2*r)**2 + c**2/(-2*G*M + c**2*r)), 0, 0], [0.25*c**4*r**2*(-1/r - (2*G*M - c**2*r)/(c**2*r**2))**2/(-2*G*M + c**2*r)**2 + 0.5*c**4*r*(-1/r - (2*G*M - c**2*r)/(c**2*r**2))/(-2*G*M + c**2*r)**2 - 0.5*c**2*r*(2/r**2 + 2*(2*G*M - c**2*r)/(c**2*r**3))/(-2*G*M + c**2*r) - 0.5*c**2*(-1/r - (2*G*M - c**2*r)/(c**2*r**2))/(-2*G*M + c**2*r) + 0.25*(-1/r - (2*G*M - c**2*r)/(c**2*r**2))*(-c**4*r/(-2*G*M + c**2*r)**2 + c**2/(-2*G*M + c**2*r)), 0, 0, 0], [0, 0, 0, 0], [0, 0, 0, 0]], [[0, 0, 0.5*r*(-1/r - (2*G*M - c**2*r)/(c**2*r**2)), 0], [0, 0, 0, 0], [-0.5*r*(-1/r - (2*G*M - c**2*r)/(c**2*r**2)), 0, 0, 0], [0, 0, 0, 0]], [[0, 0, 0, 0.5*r*(-1/r - (2*G*M - c**2*r)/(c**2*r**2))*sin(theta)**2], [0, 0, 0, 0], [0, 0, 0, 0], [-0.5*r*(-1/r - (2*G*M - c**2*r)/(c**2*r**2))*sin(theta)**2, 0, 0, 0]]], [[[0, -0.25*(-1/r - (2*G*M - c**2*r)/(c**2*r**2))*(1/r + (2*G*M - c**2*r)/(c**2*r**2)) - 0.5*(1/r + (2*G*M - c**2*r)/(c**2*r**2))/r - 0.5*(-2/r**2 - 2*(2*G*M - c**2*r)/(c**2*r**3))*(-2*G*M + c**2*r)/(c**2*r) + 0.5*(1/r + (2*G*M - c**2*r)/(c**2*r**2))*(-2*G*M + c**2*r)/(c**2*r**2) - 0.25*(1/r + (2*G*M - c**2*r)/(c**2*r**2))*(-2*G*M + c**2*r)**2*(-c**4*r/(-2*G*M + c**2*r)**2 + c**2/(-2*G*M + c**2*r))/(c**4*r**2), 0, 0], [0.25*(-1/r - (2*G*M - c**2*r)/(c**2*r**2))*(1/r + (2*G*M - c**2*r)/(c**2*r**2)) + 0.5*(1/r + (2*G*M - c**2*r)/(c**2*r**2))/r + 0.5*(-2/r**2 - 2*(2*G*M - c**2*r)/(c**2*r**3))*(-2*G*M + c**2*r)/(c**2*r) - 0.5*(1/r + (2*G*M - c**2*r)/(c**2*r**2))*(-2*G*M + c**2*r)/(c**2*r**2) + 0.25*(1/r + (2*G*M - c**2*r)/(c**2*r**2))*(-2*G*M + c**2*r)**2*(-c**4*r/(-2*G*M + c**2*r)**2 + c**2/(-2*G*M + c**2*r))/(c**4*r**2), 0, 0, 0], [0, 0, 0, 0], [0, 0, 0, 0]], [[0, 0, 0, 0], [0, 0, 0, 0], [0, 0, 0, 0], [0, 0, 0, 0]], [[0, 0, 0, 0], [0, 0, -1.0 + 1.0*(-2*G*M + c**2*r)/(c**2*r) - 0.5*(-2*G*M + c**2*r)**2*(-c**4*r/(-2*G*M + c**2*r)**2 + c**2/(-2*G*M + c**2*r))/(c**4*r), 0], [0, 1.0 - 1.0*(-2*G*M + c**2*r)/(c**2*r) + 0.5*(-2*G*M + c**2*r)**2*(-c**4*r/(-2*G*M + c**2*r)**2 + c**2/(-2*G*M + c**2*r))/(c**4*r), 0, 0], [0, 0, 0, 0]], [[0, 0, 0, 0], [0, 0, 0, -1.0*sin(theta)**2 + 1.0*(-2*G*M + c**2*r)*sin(theta)**2/(c**2*r) - 0.5*(-2*G*M + c**2*r)**2*(-c**4*r/(-2*G*M + c**2*r)**2 + c**2/(-2*G*M + c**2*r))*sin(theta)**2/(c**4*r)], [0, 0, 0, 0], [0, 1.0*sin(theta)**2 - 1.0*(-2*G*M + c**2*r)*sin(theta)**2/(c**2*r) + 0.5*(-2*G*M + c**2*r)**2*(-c**4*r/(-2*G*M + c**2*r)**2 + c**2/(-2*G*M + c**2*r))*sin(theta)**2/(c**4*r), 0, 0]]], [[[0, 0, -0.5*(1/r + (2*G*M - c**2*r)/(c**2*r**2))*(-2*G*M + c**2*r)/(c**2*r**2), 0], [0, 0, 0, 0], [0.5*(1/r + (2*G*M - c**2*r)/(c**2*r**2))*(-2*G*M + c**2*r)/(c**2*r**2), 0, 0, 0], [0, 0, 0, 0]], [[0, 0, 0, 0], [0, 0, -0.5*(-2*G*M + c**2*r)*(-c**4*r/(-2*G*M + c**2*r)**2 + c**2/(-2*G*M + c**2*r))/(c**2*r**2), 0], [0, 0.5*(-2*G*M + c**2*r)*(-c**4*r/(-2*G*M + c**2*r)**2 + c**2/(-2*G*M + c**2*r))/(c**2*r**2), 0, 0], [0, 0, 0, 0]], [[0, 0, 0, 0], [0, 0, 0, 0], [0, 0, 0, 0], [0, 0, 0, 0]], [[0, 0, 0, 0], [0, 0, 0, 0], [0, 0, 0, 1.0*sin(theta)**2 - 1.0*(-2*G*M + c**2*r)*sin(theta)**2/(c**2*r)], [0, 0, -1.0*sin(theta)**2 + 1.0*(-2*G*M + c**2*r)*sin(theta)**2/(c**2*r), 0]]], [[[0, 0, 0, -0.5*(1/r + (2*G*M - c**2*r)/(c**2*r**2))*(-2*G*M + c**2*r)/(c**2*r**2)], [0, 0, 0, 0], [0, 0, 0, 0], [0.5*(1/r + (2*G*M - c**2*r)/(c**2*r**2))*(-2*G*M + c**2*r)/(c**2*r**2), 0, 0, 0]], [[0, 0, 0, 0], [0, 0, 0, -0.5*(-2*G*M + c**2*r)*(-c**4*r/(-2*G*M + c**2*r)**2 + c**2/(-2*G*M + c**2*r))/(c**2*r**2)], [0, 0, 0, 0], [0, 0.5*(-2*G*M + c**2*r)*(-c**4*r/(-2*G*M + c**2*r)**2 + c**2/(-2*G*M + c**2*r))/(c**2*r**2), 0, 0]], [[0, 0, 0, 0], [0, 0, 0, 0], [0, 0, 0, -1.0 + 1.0*(-2*G*M + c**2*r)/(c**2*r)], [0, 0, 1.0 - 1.0*(-2*G*M + c**2*r)/(c**2*r), 0]], [[0, 0, 0, 0], [0, 0, 0, 0], [0, 0, 0, 0], [0, 0, 0, 0]]]]'\u001B[0m\n",
      "\u001B[32m2024-08-26 13:38:39.805\u001B[0m | \u001B[34m\u001B[1mDEBUG   \u001B[0m | \u001B[36mrelativisticpy.workbook.ast_visitor\u001B[0m:\u001B[36mmul\u001B[0m:\u001B[36m110\u001B[0m - \u001B[34m\u001B[1mMultiplying <relativisticpy.diffgeom.metric.Metric object at 0x113c72390> * <relativisticpy.diffgeom.tensor.Tensor object at 0x113af32d0> at position TokenPosition(start_pos=Position(line=19, character=27), end_pos=Position(line=19, character=28))\u001B[0m\n",
      "\u001B[32m2024-08-26 13:38:39.982\u001B[0m | \u001B[34m\u001B[1mDEBUG   \u001B[0m | \u001B[36mrelativisticpy.state.scopes\u001B[0m:\u001B[36mset_tensor\u001B[0m:\u001B[36m184\u001B[0m - \u001B[34m\u001B[1mCaching new tensor 'TempTwo' with components '[[[[0, 0, 0, 0], [0, 0, 0, 0], [0, 0, 0, 0], [0, 0, 0, 0]], [[0, (2*G*M - c**2*r)*(-0.25*c**4*r**2*(-1/r - (2*G*M - c**2*r)/(c**2*r**2))**2/(-2*G*M + c**2*r)**2 - 0.5*c**4*r*(-1/r - (2*G*M - c**2*r)/(c**2*r**2))/(-2*G*M + c**2*r)**2 + 0.5*c**2*r*(2/r**2 + 2*(2*G*M - c**2*r)/(c**2*r**3))/(-2*G*M + c**2*r) + 0.5*c**2*(-1/r - (2*G*M - c**2*r)/(c**2*r**2))/(-2*G*M + c**2*r) - 0.25*(-1/r - (2*G*M - c**2*r)/(c**2*r**2))*(-c**4*r/(-2*G*M + c**2*r)**2 + c**2/(-2*G*M + c**2*r)))/(c**2*r), 0, 0], [(2*G*M - c**2*r)*(0.25*c**4*r**2*(-1/r - (2*G*M - c**2*r)/(c**2*r**2))**2/(-2*G*M + c**2*r)**2 + 0.5*c**4*r*(-1/r - (2*G*M - c**2*r)/(c**2*r**2))/(-2*G*M + c**2*r)**2 - 0.5*c**2*r*(2/r**2 + 2*(2*G*M - c**2*r)/(c**2*r**3))/(-2*G*M + c**2*r) - 0.5*c**2*(-1/r - (2*G*M - c**2*r)/(c**2*r**2))/(-2*G*M + c**2*r) + 0.25*(-1/r - (2*G*M - c**2*r)/(c**2*r**2))*(-c**4*r/(-2*G*M + c**2*r)**2 + c**2/(-2*G*M + c**2*r)))/(c**2*r), 0, 0, 0], [0, 0, 0, 0], [0, 0, 0, 0]], [[0, 0, 0.5*(-1/r - (2*G*M - c**2*r)/(c**2*r**2))*(2*G*M - c**2*r)/c**2, 0], [0, 0, 0, 0], [-0.5*(-1/r - (2*G*M - c**2*r)/(c**2*r**2))*(2*G*M - c**2*r)/c**2, 0, 0, 0], [0, 0, 0, 0]], [[0, 0, 0, 0.5*(-1/r - (2*G*M - c**2*r)/(c**2*r**2))*(2*G*M - c**2*r)*sin(theta)**2/c**2], [0, 0, 0, 0], [0, 0, 0, 0], [-0.5*(-1/r - (2*G*M - c**2*r)/(c**2*r**2))*(2*G*M - c**2*r)*sin(theta)**2/c**2, 0, 0, 0]]], [[[0, c**2*r*(-0.25*(-1/r - (2*G*M - c**2*r)/(c**2*r**2))*(1/r + (2*G*M - c**2*r)/(c**2*r**2)) - 0.5*(1/r + (2*G*M - c**2*r)/(c**2*r**2))/r - 0.5*(-2/r**2 - 2*(2*G*M - c**2*r)/(c**2*r**3))*(-2*G*M + c**2*r)/(c**2*r) + 0.5*(1/r + (2*G*M - c**2*r)/(c**2*r**2))*(-2*G*M + c**2*r)/(c**2*r**2) - 0.25*(1/r + (2*G*M - c**2*r)/(c**2*r**2))*(-2*G*M + c**2*r)**2*(-c**4*r/(-2*G*M + c**2*r)**2 + c**2/(-2*G*M + c**2*r))/(c**4*r**2))/(-2*G*M + c**2*r), 0, 0], [c**2*r*(0.25*(-1/r - (2*G*M - c**2*r)/(c**2*r**2))*(1/r + (2*G*M - c**2*r)/(c**2*r**2)) + 0.5*(1/r + (2*G*M - c**2*r)/(c**2*r**2))/r + 0.5*(-2/r**2 - 2*(2*G*M - c**2*r)/(c**2*r**3))*(-2*G*M + c**2*r)/(c**2*r) - 0.5*(1/r + (2*G*M - c**2*r)/(c**2*r**2))*(-2*G*M + c**2*r)/(c**2*r**2) + 0.25*(1/r + (2*G*M - c**2*r)/(c**2*r**2))*(-2*G*M + c**2*r)**2*(-c**4*r/(-2*G*M + c**2*r)**2 + c**2/(-2*G*M + c**2*r))/(c**4*r**2))/(-2*G*M + c**2*r), 0, 0, 0], [0, 0, 0, 0], [0, 0, 0, 0]], [[0, 0, 0, 0], [0, 0, 0, 0], [0, 0, 0, 0], [0, 0, 0, 0]], [[0, 0, 0, 0], [0, 0, c**2*r*(-1.0 + 1.0*(-2*G*M + c**2*r)/(c**2*r) - 0.5*(-2*G*M + c**2*r)**2*(-c**4*r/(-2*G*M + c**2*r)**2 + c**2/(-2*G*M + c**2*r))/(c**4*r))/(-2*G*M + c**2*r), 0], [0, c**2*r*(1.0 - 1.0*(-2*G*M + c**2*r)/(c**2*r) + 0.5*(-2*G*M + c**2*r)**2*(-c**4*r/(-2*G*M + c**2*r)**2 + c**2/(-2*G*M + c**2*r))/(c**4*r))/(-2*G*M + c**2*r), 0, 0], [0, 0, 0, 0]], [[0, 0, 0, 0], [0, 0, 0, c**2*r*(-1.0*sin(theta)**2 + 1.0*(-2*G*M + c**2*r)*sin(theta)**2/(c**2*r) - 0.5*(-2*G*M + c**2*r)**2*(-c**4*r/(-2*G*M + c**2*r)**2 + c**2/(-2*G*M + c**2*r))*sin(theta)**2/(c**4*r))/(-2*G*M + c**2*r)], [0, 0, 0, 0], [0, c**2*r*(1.0*sin(theta)**2 - 1.0*(-2*G*M + c**2*r)*sin(theta)**2/(c**2*r) + 0.5*(-2*G*M + c**2*r)**2*(-c**4*r/(-2*G*M + c**2*r)**2 + c**2/(-2*G*M + c**2*r))*sin(theta)**2/(c**4*r))/(-2*G*M + c**2*r), 0, 0]]], [[[0, 0, -0.5*(1/r + (2*G*M - c**2*r)/(c**2*r**2))*(-2*G*M + c**2*r)/c**2, 0], [0, 0, 0, 0], [0.5*(1/r + (2*G*M - c**2*r)/(c**2*r**2))*(-2*G*M + c**2*r)/c**2, 0, 0, 0], [0, 0, 0, 0]], [[0, 0, 0, 0], [0, 0, -0.5*(-2*G*M + c**2*r)*(-c**4*r/(-2*G*M + c**2*r)**2 + c**2/(-2*G*M + c**2*r))/c**2, 0], [0, 0.5*(-2*G*M + c**2*r)*(-c**4*r/(-2*G*M + c**2*r)**2 + c**2/(-2*G*M + c**2*r))/c**2, 0, 0], [0, 0, 0, 0]], [[0, 0, 0, 0], [0, 0, 0, 0], [0, 0, 0, 0], [0, 0, 0, 0]], [[0, 0, 0, 0], [0, 0, 0, 0], [0, 0, 0, r**2*(1.0*sin(theta)**2 - 1.0*(-2*G*M + c**2*r)*sin(theta)**2/(c**2*r))], [0, 0, r**2*(-1.0*sin(theta)**2 + 1.0*(-2*G*M + c**2*r)*sin(theta)**2/(c**2*r)), 0]]], [[[0, 0, 0, -0.5*(1/r + (2*G*M - c**2*r)/(c**2*r**2))*(-2*G*M + c**2*r)*sin(theta)**2/c**2], [0, 0, 0, 0], [0, 0, 0, 0], [0.5*(1/r + (2*G*M - c**2*r)/(c**2*r**2))*(-2*G*M + c**2*r)*sin(theta)**2/c**2, 0, 0, 0]], [[0, 0, 0, 0], [0, 0, 0, -0.5*(-2*G*M + c**2*r)*(-c**4*r/(-2*G*M + c**2*r)**2 + c**2/(-2*G*M + c**2*r))*sin(theta)**2/c**2], [0, 0, 0, 0], [0, 0.5*(-2*G*M + c**2*r)*(-c**4*r/(-2*G*M + c**2*r)**2 + c**2/(-2*G*M + c**2*r))*sin(theta)**2/c**2, 0, 0]], [[0, 0, 0, 0], [0, 0, 0, 0], [0, 0, 0, r**2*(-1.0 + 1.0*(-2*G*M + c**2*r)/(c**2*r))*sin(theta)**2], [0, 0, r**2*(1.0 - 1.0*(-2*G*M + c**2*r)/(c**2*r))*sin(theta)**2, 0]], [[0, 0, 0, 0], [0, 0, 0, 0], [0, 0, 0, 0], [0, 0, 0, 0]]]]'\u001B[0m\n",
      "\u001B[32m2024-08-26 13:38:39.983\u001B[0m | \u001B[34m\u001B[1mDEBUG   \u001B[0m | \u001B[36mrelativisticpy.state.scopes\u001B[0m:\u001B[36minit_tensor\u001B[0m:\u001B[36m263\u001B[0m - \u001B[34m\u001B[1mAttempting to initiating 'TempOne^{a}^{f}^{h}^{s}' by equation from cached tensors.\u001B[0m\n",
      "\u001B[32m2024-08-26 13:38:39.987\u001B[0m | \u001B[34m\u001B[1mDEBUG   \u001B[0m | \u001B[36mrelativisticpy.state.scopes\u001B[0m:\u001B[36minit_tensor\u001B[0m:\u001B[36m263\u001B[0m - \u001B[34m\u001B[1mAttempting to initiating 'TempTwo_{a}_{f}_{h}_{s}' by equation from cached tensors.\u001B[0m\n",
      "\u001B[32m2024-08-26 13:38:39.991\u001B[0m | \u001B[34m\u001B[1mDEBUG   \u001B[0m | \u001B[36mrelativisticpy.workbook.ast_visitor\u001B[0m:\u001B[36mmul\u001B[0m:\u001B[36m110\u001B[0m - \u001B[34m\u001B[1mMultiplying <relativisticpy.diffgeom.tensor.Tensor object at 0x113917310> * <relativisticpy.diffgeom.tensor.Tensor object at 0x114897810> at position TokenPosition(start_pos=Position(line=21, character=5), end_pos=Position(line=21, character=12))\u001B[0m\n"
     ]
    },
    {
     "data": {
      "text/plain": [
       "<relativisticpy.diffgeom.tensor.Tensor at 0x11422d250>"
      ]
     },
     "execution_count": 8,
     "metadata": {},
     "output_type": "execute_result"
    }
   ],
   "execution_count": 8
  },
  {
   "metadata": {
    "ExecuteTime": {
     "end_time": "2024-08-26T12:41:10.201723Z",
     "start_time": "2024-08-26T12:41:07.308543Z"
    }
   },
   "cell_type": "code",
   "source": [
    "    res = wb.expr(\n",
    "    \"\"\"\n",
    "    Coordinates := [t, r, theta, phi]\n",
    "\n",
    "    g_{mu}_{nu} := [\n",
    "                        [-(1 - (2 * G * M) / (c**2*r)), 0, 0, 0],\n",
    "                        [0, 1 / (1 - (2 * G * M) / (c**2*r)), 0, 0],\n",
    "                        [0, 0, r**2, 0],\n",
    "                        [0, 0, 0, r**2 * sin(theta) ** 2]\n",
    "                    ]\n",
    "\n",
    "    Gamma^{a}_{c f} := (1/2)*g^{a b}*(d_{c}*g_{b f} + d_{f}*g_{b c} - d_{b}*g_{c f})\n",
    "\n",
    "    Riemann^{a}_{m b n} := d_{b}*Gamma^{a}_{n m} + Gamma^{a}_{b l}*Gamma^{l}_{n m} - d_{n}*Gamma^{a}_{b m} - Gamma^{a}_{n l}*Gamma^{l}_{b m}\n",
    "\n",
    "    Ricci_{m}_{n} := Riemann^{a}_{m}_{a}_{n}\n",
    "\n",
    "    TempOne^{a}^{f}^{h}^{s} := g^{s}^{q}*( g^{h}^{c}*( g^{f}^{b} * Riemann^{a}_{b}_{c}_{q} ) )\n",
    "\n",
    "    TempTwo_{a}_{f}_{h}_{s} := g_{a}_{n}*Riemann^{n}_{f}_{h}_{s}\n",
    "\n",
    "    S := TempOne^{a}^{f}^{h}^{s}*TempTwo_{a}_{f}_{h}_{s}\n",
    "\n",
    "    simplify(S)\n",
    "    \"\"\"\n",
    "    )\n"
   ],
   "outputs": [
    {
     "name": "stderr",
     "output_type": "stream",
     "text": [
      "\u001B[32m2024-08-26 13:41:07.320\u001B[0m | \u001B[34m\u001B[1mDEBUG   \u001B[0m | \u001B[36mrelativisticpy.workbook.ast_visitor\u001B[0m:\u001B[36mint\u001B[0m:\u001B[36m122\u001B[0m - \u001B[34m\u001B[1mCasting to Integer: 1 at position TokenPosition(start_pos=Position(line=5, character=23), end_pos=Position(line=5, character=24))\u001B[0m\n",
      "\u001B[32m2024-08-26 13:41:07.321\u001B[0m | \u001B[34m\u001B[1mDEBUG   \u001B[0m | \u001B[36mrelativisticpy.workbook.ast_visitor\u001B[0m:\u001B[36mint\u001B[0m:\u001B[36m122\u001B[0m - \u001B[34m\u001B[1mCasting to Integer: 2 at position TokenPosition(start_pos=Position(line=5, character=28), end_pos=Position(line=5, character=29))\u001B[0m\n",
      "\u001B[32m2024-08-26 13:41:07.321\u001B[0m | \u001B[34m\u001B[1mDEBUG   \u001B[0m | \u001B[36mrelativisticpy.workbook.ast_visitor\u001B[0m:\u001B[36mmul\u001B[0m:\u001B[36m110\u001B[0m - \u001B[34m\u001B[1mMultiplying 2 * G at position TokenPosition(start_pos=Position(line=5, character=28), end_pos=Position(line=5, character=29))\u001B[0m\n",
      "\u001B[32m2024-08-26 13:41:07.322\u001B[0m | \u001B[34m\u001B[1mDEBUG   \u001B[0m | \u001B[36mrelativisticpy.workbook.ast_visitor\u001B[0m:\u001B[36mmul\u001B[0m:\u001B[36m110\u001B[0m - \u001B[34m\u001B[1mMultiplying 2*G * M at position TokenPosition(start_pos=Position(line=5, character=28), end_pos=Position(line=5, character=29))\u001B[0m\n",
      "\u001B[32m2024-08-26 13:41:07.323\u001B[0m | \u001B[34m\u001B[1mDEBUG   \u001B[0m | \u001B[36mrelativisticpy.workbook.ast_visitor\u001B[0m:\u001B[36mint\u001B[0m:\u001B[36m122\u001B[0m - \u001B[34m\u001B[1mCasting to Integer: 2 at position TokenPosition(start_pos=Position(line=5, character=45), end_pos=Position(line=5, character=46))\u001B[0m\n",
      "\u001B[32m2024-08-26 13:41:07.323\u001B[0m | \u001B[34m\u001B[1mDEBUG   \u001B[0m | \u001B[36mrelativisticpy.workbook.ast_visitor\u001B[0m:\u001B[36mpow\u001B[0m:\u001B[36m118\u001B[0m - \u001B[34m\u001B[1mPowering c ** 2 at position TokenPosition(start_pos=Position(line=5, character=42), end_pos=Position(line=5, character=43))\u001B[0m\n",
      "\u001B[32m2024-08-26 13:41:07.324\u001B[0m | \u001B[34m\u001B[1mDEBUG   \u001B[0m | \u001B[36mrelativisticpy.workbook.ast_visitor\u001B[0m:\u001B[36mmul\u001B[0m:\u001B[36m110\u001B[0m - \u001B[34m\u001B[1mMultiplying c**2 * r at position TokenPosition(start_pos=Position(line=5, character=42), end_pos=Position(line=5, character=43))\u001B[0m\n",
      "\u001B[32m2024-08-26 13:41:07.324\u001B[0m | \u001B[34m\u001B[1mDEBUG   \u001B[0m | \u001B[36mrelativisticpy.workbook.ast_visitor\u001B[0m:\u001B[36mdiv\u001B[0m:\u001B[36m114\u001B[0m - \u001B[34m\u001B[1mDividing 2*G*M / c**2*r at position TokenPosition(start_pos=Position(line=5, character=27), end_pos=Position(line=5, character=28))\u001B[0m\n",
      "\u001B[32m2024-08-26 13:41:07.325\u001B[0m | \u001B[34m\u001B[1mDEBUG   \u001B[0m | \u001B[36mrelativisticpy.workbook.ast_visitor\u001B[0m:\u001B[36msub\u001B[0m:\u001B[36m94\u001B[0m - \u001B[34m\u001B[1mSubtracting 1 - 2*G*M/(c**2*r) at position TokenPosition(start_pos=Position(line=5, character=23), end_pos=Position(line=5, character=24))\u001B[0m\n",
      "\u001B[32m2024-08-26 13:41:07.325\u001B[0m | \u001B[34m\u001B[1mDEBUG   \u001B[0m | \u001B[36mrelativisticpy.workbook.ast_visitor\u001B[0m:\u001B[36mneg\u001B[0m:\u001B[36m102\u001B[0m - \u001B[34m\u001B[1mNegating -2*G*M/(c**2*r) + 1 at position TokenPosition(start_pos=Position(line=5, character=22), end_pos=Position(line=5, character=23))\u001B[0m\n",
      "\u001B[32m2024-08-26 13:41:07.326\u001B[0m | \u001B[34m\u001B[1mDEBUG   \u001B[0m | \u001B[36mrelativisticpy.workbook.ast_visitor\u001B[0m:\u001B[36mint\u001B[0m:\u001B[36m122\u001B[0m - \u001B[34m\u001B[1mCasting to Integer: 0 at position TokenPosition(start_pos=Position(line=5, character=52), end_pos=Position(line=5, character=53))\u001B[0m\n",
      "\u001B[32m2024-08-26 13:41:07.326\u001B[0m | \u001B[34m\u001B[1mDEBUG   \u001B[0m | \u001B[36mrelativisticpy.workbook.ast_visitor\u001B[0m:\u001B[36mint\u001B[0m:\u001B[36m122\u001B[0m - \u001B[34m\u001B[1mCasting to Integer: 0 at position TokenPosition(start_pos=Position(line=5, character=55), end_pos=Position(line=5, character=56))\u001B[0m\n",
      "\u001B[32m2024-08-26 13:41:07.326\u001B[0m | \u001B[34m\u001B[1mDEBUG   \u001B[0m | \u001B[36mrelativisticpy.workbook.ast_visitor\u001B[0m:\u001B[36mint\u001B[0m:\u001B[36m122\u001B[0m - \u001B[34m\u001B[1mCasting to Integer: 0 at position TokenPosition(start_pos=Position(line=5, character=58), end_pos=Position(line=5, character=59))\u001B[0m\n",
      "\u001B[32m2024-08-26 13:41:07.327\u001B[0m | \u001B[34m\u001B[1mDEBUG   \u001B[0m | \u001B[36mrelativisticpy.workbook.ast_visitor\u001B[0m:\u001B[36mint\u001B[0m:\u001B[36m122\u001B[0m - \u001B[34m\u001B[1mCasting to Integer: 0 at position TokenPosition(start_pos=Position(line=6, character=21), end_pos=Position(line=6, character=22))\u001B[0m\n",
      "\u001B[32m2024-08-26 13:41:07.327\u001B[0m | \u001B[34m\u001B[1mDEBUG   \u001B[0m | \u001B[36mrelativisticpy.workbook.ast_visitor\u001B[0m:\u001B[36mint\u001B[0m:\u001B[36m122\u001B[0m - \u001B[34m\u001B[1mCasting to Integer: 1 at position TokenPosition(start_pos=Position(line=6, character=24), end_pos=Position(line=6, character=25))\u001B[0m\n",
      "\u001B[32m2024-08-26 13:41:07.327\u001B[0m | \u001B[34m\u001B[1mDEBUG   \u001B[0m | \u001B[36mrelativisticpy.workbook.ast_visitor\u001B[0m:\u001B[36mint\u001B[0m:\u001B[36m122\u001B[0m - \u001B[34m\u001B[1mCasting to Integer: 1 at position TokenPosition(start_pos=Position(line=6, character=29), end_pos=Position(line=6, character=30))\u001B[0m\n",
      "\u001B[32m2024-08-26 13:41:07.328\u001B[0m | \u001B[34m\u001B[1mDEBUG   \u001B[0m | \u001B[36mrelativisticpy.workbook.ast_visitor\u001B[0m:\u001B[36mint\u001B[0m:\u001B[36m122\u001B[0m - \u001B[34m\u001B[1mCasting to Integer: 2 at position TokenPosition(start_pos=Position(line=6, character=34), end_pos=Position(line=6, character=35))\u001B[0m\n",
      "\u001B[32m2024-08-26 13:41:07.328\u001B[0m | \u001B[34m\u001B[1mDEBUG   \u001B[0m | \u001B[36mrelativisticpy.workbook.ast_visitor\u001B[0m:\u001B[36mmul\u001B[0m:\u001B[36m110\u001B[0m - \u001B[34m\u001B[1mMultiplying 2 * G at position TokenPosition(start_pos=Position(line=6, character=34), end_pos=Position(line=6, character=35))\u001B[0m\n",
      "\u001B[32m2024-08-26 13:41:07.328\u001B[0m | \u001B[34m\u001B[1mDEBUG   \u001B[0m | \u001B[36mrelativisticpy.workbook.ast_visitor\u001B[0m:\u001B[36mmul\u001B[0m:\u001B[36m110\u001B[0m - \u001B[34m\u001B[1mMultiplying 2*G * M at position TokenPosition(start_pos=Position(line=6, character=34), end_pos=Position(line=6, character=35))\u001B[0m\n",
      "\u001B[32m2024-08-26 13:41:07.329\u001B[0m | \u001B[34m\u001B[1mDEBUG   \u001B[0m | \u001B[36mrelativisticpy.workbook.ast_visitor\u001B[0m:\u001B[36mint\u001B[0m:\u001B[36m122\u001B[0m - \u001B[34m\u001B[1mCasting to Integer: 2 at position TokenPosition(start_pos=Position(line=6, character=51), end_pos=Position(line=6, character=52))\u001B[0m\n",
      "\u001B[32m2024-08-26 13:41:07.329\u001B[0m | \u001B[34m\u001B[1mDEBUG   \u001B[0m | \u001B[36mrelativisticpy.workbook.ast_visitor\u001B[0m:\u001B[36mpow\u001B[0m:\u001B[36m118\u001B[0m - \u001B[34m\u001B[1mPowering c ** 2 at position TokenPosition(start_pos=Position(line=6, character=48), end_pos=Position(line=6, character=49))\u001B[0m\n",
      "\u001B[32m2024-08-26 13:41:07.329\u001B[0m | \u001B[34m\u001B[1mDEBUG   \u001B[0m | \u001B[36mrelativisticpy.workbook.ast_visitor\u001B[0m:\u001B[36mmul\u001B[0m:\u001B[36m110\u001B[0m - \u001B[34m\u001B[1mMultiplying c**2 * r at position TokenPosition(start_pos=Position(line=6, character=48), end_pos=Position(line=6, character=49))\u001B[0m\n",
      "\u001B[32m2024-08-26 13:41:07.330\u001B[0m | \u001B[34m\u001B[1mDEBUG   \u001B[0m | \u001B[36mrelativisticpy.workbook.ast_visitor\u001B[0m:\u001B[36mdiv\u001B[0m:\u001B[36m114\u001B[0m - \u001B[34m\u001B[1mDividing 2*G*M / c**2*r at position TokenPosition(start_pos=Position(line=6, character=33), end_pos=Position(line=6, character=34))\u001B[0m\n",
      "\u001B[32m2024-08-26 13:41:07.330\u001B[0m | \u001B[34m\u001B[1mDEBUG   \u001B[0m | \u001B[36mrelativisticpy.workbook.ast_visitor\u001B[0m:\u001B[36msub\u001B[0m:\u001B[36m94\u001B[0m - \u001B[34m\u001B[1mSubtracting 1 - 2*G*M/(c**2*r) at position TokenPosition(start_pos=Position(line=6, character=29), end_pos=Position(line=6, character=30))\u001B[0m\n",
      "\u001B[32m2024-08-26 13:41:07.331\u001B[0m | \u001B[34m\u001B[1mDEBUG   \u001B[0m | \u001B[36mrelativisticpy.workbook.ast_visitor\u001B[0m:\u001B[36mdiv\u001B[0m:\u001B[36m114\u001B[0m - \u001B[34m\u001B[1mDividing 1 / -2*G*M/(c**2*r) + 1 at position TokenPosition(start_pos=Position(line=6, character=24), end_pos=Position(line=6, character=25))\u001B[0m\n",
      "\u001B[32m2024-08-26 13:41:07.331\u001B[0m | \u001B[34m\u001B[1mDEBUG   \u001B[0m | \u001B[36mrelativisticpy.workbook.ast_visitor\u001B[0m:\u001B[36mint\u001B[0m:\u001B[36m122\u001B[0m - \u001B[34m\u001B[1mCasting to Integer: 0 at position TokenPosition(start_pos=Position(line=6, character=58), end_pos=Position(line=6, character=59))\u001B[0m\n",
      "\u001B[32m2024-08-26 13:41:07.332\u001B[0m | \u001B[34m\u001B[1mDEBUG   \u001B[0m | \u001B[36mrelativisticpy.workbook.ast_visitor\u001B[0m:\u001B[36mint\u001B[0m:\u001B[36m122\u001B[0m - \u001B[34m\u001B[1mCasting to Integer: 0 at position TokenPosition(start_pos=Position(line=6, character=61), end_pos=Position(line=6, character=62))\u001B[0m\n",
      "\u001B[32m2024-08-26 13:41:07.332\u001B[0m | \u001B[34m\u001B[1mDEBUG   \u001B[0m | \u001B[36mrelativisticpy.workbook.ast_visitor\u001B[0m:\u001B[36mint\u001B[0m:\u001B[36m122\u001B[0m - \u001B[34m\u001B[1mCasting to Integer: 0 at position TokenPosition(start_pos=Position(line=7, character=21), end_pos=Position(line=7, character=22))\u001B[0m\n",
      "\u001B[32m2024-08-26 13:41:07.332\u001B[0m | \u001B[34m\u001B[1mDEBUG   \u001B[0m | \u001B[36mrelativisticpy.workbook.ast_visitor\u001B[0m:\u001B[36mint\u001B[0m:\u001B[36m122\u001B[0m - \u001B[34m\u001B[1mCasting to Integer: 0 at position TokenPosition(start_pos=Position(line=7, character=24), end_pos=Position(line=7, character=25))\u001B[0m\n",
      "\u001B[32m2024-08-26 13:41:07.333\u001B[0m | \u001B[34m\u001B[1mDEBUG   \u001B[0m | \u001B[36mrelativisticpy.workbook.ast_visitor\u001B[0m:\u001B[36mint\u001B[0m:\u001B[36m122\u001B[0m - \u001B[34m\u001B[1mCasting to Integer: 2 at position TokenPosition(start_pos=Position(line=7, character=30), end_pos=Position(line=7, character=31))\u001B[0m\n",
      "\u001B[32m2024-08-26 13:41:07.333\u001B[0m | \u001B[34m\u001B[1mDEBUG   \u001B[0m | \u001B[36mrelativisticpy.workbook.ast_visitor\u001B[0m:\u001B[36mpow\u001B[0m:\u001B[36m118\u001B[0m - \u001B[34m\u001B[1mPowering r ** 2 at position TokenPosition(start_pos=Position(line=7, character=27), end_pos=Position(line=7, character=28))\u001B[0m\n",
      "\u001B[32m2024-08-26 13:41:07.334\u001B[0m | \u001B[34m\u001B[1mDEBUG   \u001B[0m | \u001B[36mrelativisticpy.workbook.ast_visitor\u001B[0m:\u001B[36mint\u001B[0m:\u001B[36m122\u001B[0m - \u001B[34m\u001B[1mCasting to Integer: 0 at position TokenPosition(start_pos=Position(line=7, character=33), end_pos=Position(line=7, character=34))\u001B[0m\n",
      "\u001B[32m2024-08-26 13:41:07.334\u001B[0m | \u001B[34m\u001B[1mDEBUG   \u001B[0m | \u001B[36mrelativisticpy.workbook.ast_visitor\u001B[0m:\u001B[36mint\u001B[0m:\u001B[36m122\u001B[0m - \u001B[34m\u001B[1mCasting to Integer: 0 at position TokenPosition(start_pos=Position(line=8, character=21), end_pos=Position(line=8, character=22))\u001B[0m\n",
      "\u001B[32m2024-08-26 13:41:07.334\u001B[0m | \u001B[34m\u001B[1mDEBUG   \u001B[0m | \u001B[36mrelativisticpy.workbook.ast_visitor\u001B[0m:\u001B[36mint\u001B[0m:\u001B[36m122\u001B[0m - \u001B[34m\u001B[1mCasting to Integer: 0 at position TokenPosition(start_pos=Position(line=8, character=24), end_pos=Position(line=8, character=25))\u001B[0m\n",
      "\u001B[32m2024-08-26 13:41:07.334\u001B[0m | \u001B[34m\u001B[1mDEBUG   \u001B[0m | \u001B[36mrelativisticpy.workbook.ast_visitor\u001B[0m:\u001B[36mint\u001B[0m:\u001B[36m122\u001B[0m - \u001B[34m\u001B[1mCasting to Integer: 0 at position TokenPosition(start_pos=Position(line=8, character=27), end_pos=Position(line=8, character=28))\u001B[0m\n",
      "\u001B[32m2024-08-26 13:41:07.335\u001B[0m | \u001B[34m\u001B[1mDEBUG   \u001B[0m | \u001B[36mrelativisticpy.workbook.ast_visitor\u001B[0m:\u001B[36mint\u001B[0m:\u001B[36m122\u001B[0m - \u001B[34m\u001B[1mCasting to Integer: 2 at position TokenPosition(start_pos=Position(line=8, character=33), end_pos=Position(line=8, character=34))\u001B[0m\n",
      "\u001B[32m2024-08-26 13:41:07.335\u001B[0m | \u001B[34m\u001B[1mDEBUG   \u001B[0m | \u001B[36mrelativisticpy.workbook.ast_visitor\u001B[0m:\u001B[36mpow\u001B[0m:\u001B[36m118\u001B[0m - \u001B[34m\u001B[1mPowering r ** 2 at position TokenPosition(start_pos=Position(line=8, character=30), end_pos=Position(line=8, character=31))\u001B[0m\n",
      "\u001B[32m2024-08-26 13:41:07.335\u001B[0m | \u001B[34m\u001B[1mDEBUG   \u001B[0m | \u001B[36mrelativisticpy.workbook.ast_visitor\u001B[0m:\u001B[36mint\u001B[0m:\u001B[36m122\u001B[0m - \u001B[34m\u001B[1mCasting to Integer: 2 at position TokenPosition(start_pos=Position(line=8, character=51), end_pos=Position(line=8, character=52))\u001B[0m\n",
      "\u001B[32m2024-08-26 13:41:07.336\u001B[0m | \u001B[34m\u001B[1mDEBUG   \u001B[0m | \u001B[36mrelativisticpy.workbook.ast_visitor\u001B[0m:\u001B[36mpow\u001B[0m:\u001B[36m118\u001B[0m - \u001B[34m\u001B[1mPowering sin(theta) ** 2 at position TokenPosition(start_pos=Position(line=8, character=37), end_pos=Position(line=8, character=40))\u001B[0m\n",
      "\u001B[32m2024-08-26 13:41:07.336\u001B[0m | \u001B[34m\u001B[1mDEBUG   \u001B[0m | \u001B[36mrelativisticpy.workbook.ast_visitor\u001B[0m:\u001B[36mmul\u001B[0m:\u001B[36m110\u001B[0m - \u001B[34m\u001B[1mMultiplying r**2 * sin(theta)**2 at position TokenPosition(start_pos=Position(line=8, character=30), end_pos=Position(line=8, character=31))\u001B[0m\n",
      "\u001B[32m2024-08-26 13:41:07.337\u001B[0m | \u001B[34m\u001B[1mDEBUG   \u001B[0m | \u001B[36mrelativisticpy.state.scopes\u001B[0m:\u001B[36mset_tensor\u001B[0m:\u001B[36m184\u001B[0m - \u001B[34m\u001B[1mCaching new tensor 'g' with components '[[2*G*M/(c**2*r) - 1, 0, 0, 0], [0, 1/(-2*G*M/(c**2*r) + 1), 0, 0], [0, 0, r**2, 0], [0, 0, 0, r**2*sin(theta)**2]]'\u001B[0m\n",
      "\u001B[32m2024-08-26 13:41:07.338\u001B[0m | \u001B[34m\u001B[1mDEBUG   \u001B[0m | \u001B[36mrelativisticpy.workbook.ast_visitor\u001B[0m:\u001B[36mint\u001B[0m:\u001B[36m122\u001B[0m - \u001B[34m\u001B[1mCasting to Integer: 1 at position TokenPosition(start_pos=Position(line=11, character=20), end_pos=Position(line=11, character=21))\u001B[0m\n",
      "\u001B[32m2024-08-26 13:41:07.338\u001B[0m | \u001B[34m\u001B[1mDEBUG   \u001B[0m | \u001B[36mrelativisticpy.workbook.ast_visitor\u001B[0m:\u001B[36mint\u001B[0m:\u001B[36m122\u001B[0m - \u001B[34m\u001B[1mCasting to Integer: 2 at position TokenPosition(start_pos=Position(line=11, character=22), end_pos=Position(line=11, character=23))\u001B[0m\n",
      "\u001B[32m2024-08-26 13:41:07.338\u001B[0m | \u001B[34m\u001B[1mDEBUG   \u001B[0m | \u001B[36mrelativisticpy.workbook.ast_visitor\u001B[0m:\u001B[36mdiv\u001B[0m:\u001B[36m114\u001B[0m - \u001B[34m\u001B[1mDividing 1 / 2 at position TokenPosition(start_pos=Position(line=11, character=20), end_pos=Position(line=11, character=21))\u001B[0m\n",
      "\u001B[32m2024-08-26 13:41:07.339\u001B[0m | \u001B[34m\u001B[1mDEBUG   \u001B[0m | \u001B[36mrelativisticpy.state.scopes\u001B[0m:\u001B[36minit_tensor\u001B[0m:\u001B[36m263\u001B[0m - \u001B[34m\u001B[1mAttempting to initiating 'g^{a}^{b}' by equation from cached tensors.\u001B[0m\n",
      "\u001B[32m2024-08-26 13:41:07.339\u001B[0m | \u001B[34m\u001B[1mDEBUG   \u001B[0m | \u001B[36mrelativisticpy.state.scopes\u001B[0m:\u001B[36minit_tensor\u001B[0m:\u001B[36m266\u001B[0m - \u001B[34m\u001B[1mIdentified 'g^{a}^{b}' to be a Metric. Initializing Metric from Metric.\u001B[0m\n",
      "\u001B[32m2024-08-26 13:41:07.339\u001B[0m | \u001B[34m\u001B[1mDEBUG   \u001B[0m | \u001B[36mrelativisticpy.state.scopes\u001B[0m:\u001B[36mmetric_tensor\u001B[0m:\u001B[36m102\u001B[0m - \u001B[34m\u001B[1mFound 1 Metric Tensor Objects in scope.\u001B[0m\n",
      "\u001B[32m2024-08-26 13:41:07.340\u001B[0m | \u001B[34m\u001B[1mDEBUG   \u001B[0m | \u001B[36mrelativisticpy.state.scopes\u001B[0m:\u001B[36mmetric_tensor\u001B[0m:\u001B[36m103\u001B[0m - \u001B[34m\u001B[1mReturning <relativisticpy.diffgeom.metric.Metric object at 0x114e359d0>.\u001B[0m\n",
      "\u001B[32m2024-08-26 13:41:07.340\u001B[0m | \u001B[34m\u001B[1mDEBUG   \u001B[0m | \u001B[36mrelativisticpy.state.scopes\u001B[0m:\u001B[36mmetric_tensor\u001B[0m:\u001B[36m206\u001B[0m - \u001B[34m\u001B[1mFound metric tensor in scope with components: '[[2*G*M/(c**2*r) - 1, 0, 0, 0], [0, 1/(-2*G*M/(c**2*r) + 1), 0, 0], [0, 0, r**2, 0], [0, 0, 0, r**2*sin(theta)**2]]'\u001B[0m\n",
      "\u001B[32m2024-08-26 13:41:07.341\u001B[0m | \u001B[34m\u001B[1mDEBUG   \u001B[0m | \u001B[36mrelativisticpy.state.scopes\u001B[0m:\u001B[36mmetric_tensor\u001B[0m:\u001B[36m102\u001B[0m - \u001B[34m\u001B[1mFound 1 Metric Tensor Objects in scope.\u001B[0m\n",
      "\u001B[32m2024-08-26 13:41:07.341\u001B[0m | \u001B[34m\u001B[1mDEBUG   \u001B[0m | \u001B[36mrelativisticpy.state.scopes\u001B[0m:\u001B[36mmetric_tensor\u001B[0m:\u001B[36m103\u001B[0m - \u001B[34m\u001B[1mReturning <relativisticpy.diffgeom.metric.Metric object at 0x114e359d0>.\u001B[0m\n",
      "\u001B[32m2024-08-26 13:41:07.470\u001B[0m | \u001B[34m\u001B[1mDEBUG   \u001B[0m | \u001B[36mrelativisticpy.state.scopes\u001B[0m:\u001B[36minit_tensor\u001B[0m:\u001B[36m271\u001B[0m - \u001B[34m\u001B[1mComputed components of 'g^{a}^{b}' to be: '[[-c**2*r/(-2*G*M + c**2*r), 0, 0, 0], [0, (-2*G*M + c**2*r)/(c**2*r), 0, 0], [0, 0, r**(-2), 0], [0, 0, 0, 1/(r**2*sin(theta)**2)]]'\u001B[0m\n",
      "\u001B[32m2024-08-26 13:41:07.472\u001B[0m | \u001B[34m\u001B[1mDEBUG   \u001B[0m | \u001B[36mrelativisticpy.state.scopes\u001B[0m:\u001B[36mset_tensor\u001B[0m:\u001B[36m184\u001B[0m - \u001B[34m\u001B[1mCaching new tensor 'g' with components '[[-c**2*r/(-2*G*M + c**2*r), 0, 0, 0], [0, (-2*G*M + c**2*r)/(c**2*r), 0, 0], [0, 0, r**(-2), 0], [0, 0, 0, 1/(r**2*sin(theta)**2)]]'\u001B[0m\n",
      "\u001B[32m2024-08-26 13:41:07.472\u001B[0m | \u001B[34m\u001B[1mDEBUG   \u001B[0m | \u001B[36mrelativisticpy.workbook.ast_visitor\u001B[0m:\u001B[36mmul\u001B[0m:\u001B[36m110\u001B[0m - \u001B[34m\u001B[1mMultiplying 0.5 * <relativisticpy.diffgeom.metric.Metric object at 0x114d72390> at position TokenPosition(start_pos=Position(line=11, character=19), end_pos=Position(line=11, character=20))\u001B[0m\n",
      "\u001B[32m2024-08-26 13:41:07.475\u001B[0m | \u001B[34m\u001B[1mDEBUG   \u001B[0m | \u001B[36mrelativisticpy.state.scopes\u001B[0m:\u001B[36minit_tensor\u001B[0m:\u001B[36m263\u001B[0m - \u001B[34m\u001B[1mAttempting to initiating 'g_{b}_{f}' by equation from cached tensors.\u001B[0m\n",
      "\u001B[32m2024-08-26 13:41:07.476\u001B[0m | \u001B[34m\u001B[1mDEBUG   \u001B[0m | \u001B[36mrelativisticpy.state.scopes\u001B[0m:\u001B[36minit_tensor\u001B[0m:\u001B[36m266\u001B[0m - \u001B[34m\u001B[1mIdentified 'g_{b}_{f}' to be a Metric. Initializing Metric from Metric.\u001B[0m\n",
      "\u001B[32m2024-08-26 13:41:07.476\u001B[0m | \u001B[34m\u001B[1mDEBUG   \u001B[0m | \u001B[36mrelativisticpy.state.scopes\u001B[0m:\u001B[36mmetric_tensor\u001B[0m:\u001B[36m102\u001B[0m - \u001B[34m\u001B[1mFound 1 Metric Tensor Objects in scope.\u001B[0m\n",
      "\u001B[32m2024-08-26 13:41:07.477\u001B[0m | \u001B[34m\u001B[1mDEBUG   \u001B[0m | \u001B[36mrelativisticpy.state.scopes\u001B[0m:\u001B[36mmetric_tensor\u001B[0m:\u001B[36m103\u001B[0m - \u001B[34m\u001B[1mReturning <relativisticpy.diffgeom.metric.Metric object at 0x114bbc990>.\u001B[0m\n",
      "\u001B[32m2024-08-26 13:41:07.478\u001B[0m | \u001B[34m\u001B[1mDEBUG   \u001B[0m | \u001B[36mrelativisticpy.state.scopes\u001B[0m:\u001B[36mmetric_tensor\u001B[0m:\u001B[36m206\u001B[0m - \u001B[34m\u001B[1mFound metric tensor in scope with components: '[[-c**2*r/(-2*G*M + c**2*r), 0, 0, 0], [0, (-2*G*M + c**2*r)/(c**2*r), 0, 0], [0, 0, r**(-2), 0], [0, 0, 0, 1/(r**2*sin(theta)**2)]]'\u001B[0m\n",
      "\u001B[32m2024-08-26 13:41:07.479\u001B[0m | \u001B[34m\u001B[1mDEBUG   \u001B[0m | \u001B[36mrelativisticpy.state.scopes\u001B[0m:\u001B[36mmetric_tensor\u001B[0m:\u001B[36m102\u001B[0m - \u001B[34m\u001B[1mFound 1 Metric Tensor Objects in scope.\u001B[0m\n",
      "\u001B[32m2024-08-26 13:41:07.479\u001B[0m | \u001B[34m\u001B[1mDEBUG   \u001B[0m | \u001B[36mrelativisticpy.state.scopes\u001B[0m:\u001B[36mmetric_tensor\u001B[0m:\u001B[36m103\u001B[0m - \u001B[34m\u001B[1mReturning <relativisticpy.diffgeom.metric.Metric object at 0x114bbc990>.\u001B[0m\n",
      "\u001B[32m2024-08-26 13:41:07.598\u001B[0m | \u001B[34m\u001B[1mDEBUG   \u001B[0m | \u001B[36mrelativisticpy.state.scopes\u001B[0m:\u001B[36minit_tensor\u001B[0m:\u001B[36m271\u001B[0m - \u001B[34m\u001B[1mComputed components of 'g_{b}_{f}' to be: '[[(2*G*M - c**2*r)/(c**2*r), 0, 0, 0], [0, c**2*r/(-2*G*M + c**2*r), 0, 0], [0, 0, r**2, 0], [0, 0, 0, r**2*sin(theta)**2]]'\u001B[0m\n",
      "\u001B[32m2024-08-26 13:41:07.600\u001B[0m | \u001B[34m\u001B[1mDEBUG   \u001B[0m | \u001B[36mrelativisticpy.state.scopes\u001B[0m:\u001B[36mset_tensor\u001B[0m:\u001B[36m184\u001B[0m - \u001B[34m\u001B[1mCaching new tensor 'g' with components '[[(2*G*M - c**2*r)/(c**2*r), 0, 0, 0], [0, c**2*r/(-2*G*M + c**2*r), 0, 0], [0, 0, r**2, 0], [0, 0, 0, r**2*sin(theta)**2]]'\u001B[0m\n",
      "\u001B[32m2024-08-26 13:41:07.600\u001B[0m | \u001B[34m\u001B[1mDEBUG   \u001B[0m | \u001B[36mrelativisticpy.workbook.ast_visitor\u001B[0m:\u001B[36mmul\u001B[0m:\u001B[36m110\u001B[0m - \u001B[34m\u001B[1mMultiplying <relativisticpy.diffgeom.derivatives.partial.Derivative object at 0x114151510> * <relativisticpy.diffgeom.metric.Metric object at 0x11427fd90> at position TokenPosition(start_pos=Position(line=11, character=34), end_pos=Position(line=11, character=35))\u001B[0m\n",
      "\u001B[32m2024-08-26 13:41:07.606\u001B[0m | \u001B[34m\u001B[1mDEBUG   \u001B[0m | \u001B[36mrelativisticpy.state.scopes\u001B[0m:\u001B[36minit_tensor\u001B[0m:\u001B[36m263\u001B[0m - \u001B[34m\u001B[1mAttempting to initiating 'g_{b}_{c}' by equation from cached tensors.\u001B[0m\n",
      "\u001B[32m2024-08-26 13:41:07.606\u001B[0m | \u001B[34m\u001B[1mDEBUG   \u001B[0m | \u001B[36mrelativisticpy.state.scopes\u001B[0m:\u001B[36minit_tensor\u001B[0m:\u001B[36m266\u001B[0m - \u001B[34m\u001B[1mIdentified 'g_{b}_{c}' to be a Metric. Initializing Metric from Metric.\u001B[0m\n",
      "\u001B[32m2024-08-26 13:41:07.607\u001B[0m | \u001B[34m\u001B[1mDEBUG   \u001B[0m | \u001B[36mrelativisticpy.state.scopes\u001B[0m:\u001B[36mmetric_tensor\u001B[0m:\u001B[36m102\u001B[0m - \u001B[34m\u001B[1mFound 1 Metric Tensor Objects in scope.\u001B[0m\n",
      "\u001B[32m2024-08-26 13:41:07.607\u001B[0m | \u001B[34m\u001B[1mDEBUG   \u001B[0m | \u001B[36mrelativisticpy.state.scopes\u001B[0m:\u001B[36mmetric_tensor\u001B[0m:\u001B[36m103\u001B[0m - \u001B[34m\u001B[1mReturning <relativisticpy.diffgeom.metric.Metric object at 0x114894990>.\u001B[0m\n",
      "\u001B[32m2024-08-26 13:41:07.609\u001B[0m | \u001B[34m\u001B[1mDEBUG   \u001B[0m | \u001B[36mrelativisticpy.state.scopes\u001B[0m:\u001B[36mmetric_tensor\u001B[0m:\u001B[36m206\u001B[0m - \u001B[34m\u001B[1mFound metric tensor in scope with components: '[[(2*G*M - c**2*r)/(c**2*r), 0, 0, 0], [0, c**2*r/(-2*G*M + c**2*r), 0, 0], [0, 0, r**2, 0], [0, 0, 0, r**2*sin(theta)**2]]'\u001B[0m\n",
      "\u001B[32m2024-08-26 13:41:07.610\u001B[0m | \u001B[34m\u001B[1mDEBUG   \u001B[0m | \u001B[36mrelativisticpy.state.scopes\u001B[0m:\u001B[36mmetric_tensor\u001B[0m:\u001B[36m102\u001B[0m - \u001B[34m\u001B[1mFound 1 Metric Tensor Objects in scope.\u001B[0m\n",
      "\u001B[32m2024-08-26 13:41:07.610\u001B[0m | \u001B[34m\u001B[1mDEBUG   \u001B[0m | \u001B[36mrelativisticpy.state.scopes\u001B[0m:\u001B[36mmetric_tensor\u001B[0m:\u001B[36m103\u001B[0m - \u001B[34m\u001B[1mReturning <relativisticpy.diffgeom.metric.Metric object at 0x114894990>.\u001B[0m\n",
      "\u001B[32m2024-08-26 13:41:07.612\u001B[0m | \u001B[34m\u001B[1mDEBUG   \u001B[0m | \u001B[36mrelativisticpy.state.scopes\u001B[0m:\u001B[36minit_tensor\u001B[0m:\u001B[36m271\u001B[0m - \u001B[34m\u001B[1mComputed components of 'g_{b}_{c}' to be: '[[(2*G*M - c**2*r)/(c**2*r), 0, 0, 0], [0, c**2*r/(-2*G*M + c**2*r), 0, 0], [0, 0, r**2, 0], [0, 0, 0, r**2*sin(theta)**2]]'\u001B[0m\n",
      "\u001B[32m2024-08-26 13:41:07.613\u001B[0m | \u001B[34m\u001B[1mDEBUG   \u001B[0m | \u001B[36mrelativisticpy.state.scopes\u001B[0m:\u001B[36mset_tensor\u001B[0m:\u001B[36m184\u001B[0m - \u001B[34m\u001B[1mCaching new tensor 'g' with components '[[(2*G*M - c**2*r)/(c**2*r), 0, 0, 0], [0, c**2*r/(-2*G*M + c**2*r), 0, 0], [0, 0, r**2, 0], [0, 0, 0, r**2*sin(theta)**2]]'\u001B[0m\n",
      "\u001B[32m2024-08-26 13:41:07.613\u001B[0m | \u001B[34m\u001B[1mDEBUG   \u001B[0m | \u001B[36mrelativisticpy.workbook.ast_visitor\u001B[0m:\u001B[36mmul\u001B[0m:\u001B[36m110\u001B[0m - \u001B[34m\u001B[1mMultiplying <relativisticpy.diffgeom.derivatives.partial.Derivative object at 0x113b27610> * <relativisticpy.diffgeom.metric.Metric object at 0x114bb1390> at position TokenPosition(start_pos=Position(line=11, character=50), end_pos=Position(line=11, character=51))\u001B[0m\n",
      "\u001B[32m2024-08-26 13:41:07.620\u001B[0m | \u001B[34m\u001B[1mDEBUG   \u001B[0m | \u001B[36mrelativisticpy.workbook.ast_visitor\u001B[0m:\u001B[36madd\u001B[0m:\u001B[36m98\u001B[0m - \u001B[34m\u001B[1mAdding <relativisticpy.algebras.einstein_summation.EinsumArray object at 0x114d72090> + <relativisticpy.algebras.einstein_summation.EinsumArray object at 0x114e34610> at position TokenPosition(start_pos=Position(line=11, character=34), end_pos=Position(line=11, character=35))\u001B[0m\n",
      "\u001B[32m2024-08-26 13:41:07.628\u001B[0m | \u001B[34m\u001B[1mDEBUG   \u001B[0m | \u001B[36mrelativisticpy.state.scopes\u001B[0m:\u001B[36minit_tensor\u001B[0m:\u001B[36m263\u001B[0m - \u001B[34m\u001B[1mAttempting to initiating 'g_{c}_{f}' by equation from cached tensors.\u001B[0m\n",
      "\u001B[32m2024-08-26 13:41:07.629\u001B[0m | \u001B[34m\u001B[1mDEBUG   \u001B[0m | \u001B[36mrelativisticpy.state.scopes\u001B[0m:\u001B[36minit_tensor\u001B[0m:\u001B[36m266\u001B[0m - \u001B[34m\u001B[1mIdentified 'g_{c}_{f}' to be a Metric. Initializing Metric from Metric.\u001B[0m\n",
      "\u001B[32m2024-08-26 13:41:07.629\u001B[0m | \u001B[34m\u001B[1mDEBUG   \u001B[0m | \u001B[36mrelativisticpy.state.scopes\u001B[0m:\u001B[36mmetric_tensor\u001B[0m:\u001B[36m102\u001B[0m - \u001B[34m\u001B[1mFound 1 Metric Tensor Objects in scope.\u001B[0m\n",
      "\u001B[32m2024-08-26 13:41:07.630\u001B[0m | \u001B[34m\u001B[1mDEBUG   \u001B[0m | \u001B[36mrelativisticpy.state.scopes\u001B[0m:\u001B[36mmetric_tensor\u001B[0m:\u001B[36m103\u001B[0m - \u001B[34m\u001B[1mReturning <relativisticpy.diffgeom.metric.Metric object at 0x11427fd90>.\u001B[0m\n",
      "\u001B[32m2024-08-26 13:41:07.631\u001B[0m | \u001B[34m\u001B[1mDEBUG   \u001B[0m | \u001B[36mrelativisticpy.state.scopes\u001B[0m:\u001B[36mmetric_tensor\u001B[0m:\u001B[36m206\u001B[0m - \u001B[34m\u001B[1mFound metric tensor in scope with components: '[[(2*G*M - c**2*r)/(c**2*r), 0, 0, 0], [0, c**2*r/(-2*G*M + c**2*r), 0, 0], [0, 0, r**2, 0], [0, 0, 0, r**2*sin(theta)**2]]'\u001B[0m\n",
      "\u001B[32m2024-08-26 13:41:07.632\u001B[0m | \u001B[34m\u001B[1mDEBUG   \u001B[0m | \u001B[36mrelativisticpy.state.scopes\u001B[0m:\u001B[36mmetric_tensor\u001B[0m:\u001B[36m102\u001B[0m - \u001B[34m\u001B[1mFound 1 Metric Tensor Objects in scope.\u001B[0m\n",
      "\u001B[32m2024-08-26 13:41:07.632\u001B[0m | \u001B[34m\u001B[1mDEBUG   \u001B[0m | \u001B[36mrelativisticpy.state.scopes\u001B[0m:\u001B[36mmetric_tensor\u001B[0m:\u001B[36m103\u001B[0m - \u001B[34m\u001B[1mReturning <relativisticpy.diffgeom.metric.Metric object at 0x11427fd90>.\u001B[0m\n",
      "\u001B[32m2024-08-26 13:41:07.633\u001B[0m | \u001B[34m\u001B[1mDEBUG   \u001B[0m | \u001B[36mrelativisticpy.state.scopes\u001B[0m:\u001B[36minit_tensor\u001B[0m:\u001B[36m271\u001B[0m - \u001B[34m\u001B[1mComputed components of 'g_{c}_{f}' to be: '[[(2*G*M - c**2*r)/(c**2*r), 0, 0, 0], [0, c**2*r/(-2*G*M + c**2*r), 0, 0], [0, 0, r**2, 0], [0, 0, 0, r**2*sin(theta)**2]]'\u001B[0m\n",
      "\u001B[32m2024-08-26 13:41:07.634\u001B[0m | \u001B[34m\u001B[1mDEBUG   \u001B[0m | \u001B[36mrelativisticpy.state.scopes\u001B[0m:\u001B[36mset_tensor\u001B[0m:\u001B[36m184\u001B[0m - \u001B[34m\u001B[1mCaching new tensor 'g' with components '[[(2*G*M - c**2*r)/(c**2*r), 0, 0, 0], [0, c**2*r/(-2*G*M + c**2*r), 0, 0], [0, 0, r**2, 0], [0, 0, 0, r**2*sin(theta)**2]]'\u001B[0m\n",
      "\u001B[32m2024-08-26 13:41:07.635\u001B[0m | \u001B[34m\u001B[1mDEBUG   \u001B[0m | \u001B[36mrelativisticpy.workbook.ast_visitor\u001B[0m:\u001B[36mmul\u001B[0m:\u001B[36m110\u001B[0m - \u001B[34m\u001B[1mMultiplying <relativisticpy.diffgeom.derivatives.partial.Derivative object at 0x1148e9590> * <relativisticpy.diffgeom.metric.Metric object at 0x112e57710> at position TokenPosition(start_pos=Position(line=11, character=66), end_pos=Position(line=11, character=67))\u001B[0m\n",
      "\u001B[32m2024-08-26 13:41:07.641\u001B[0m | \u001B[34m\u001B[1mDEBUG   \u001B[0m | \u001B[36mrelativisticpy.workbook.ast_visitor\u001B[0m:\u001B[36msub\u001B[0m:\u001B[36m94\u001B[0m - \u001B[34m\u001B[1mSubtracting <relativisticpy.algebras.einstein_summation.EinsumArray object at 0x113af97d0> - <relativisticpy.algebras.einstein_summation.EinsumArray object at 0x114893e90> at position TokenPosition(start_pos=Position(line=11, character=34), end_pos=Position(line=11, character=35))\u001B[0m\n",
      "\u001B[32m2024-08-26 13:41:07.648\u001B[0m | \u001B[34m\u001B[1mDEBUG   \u001B[0m | \u001B[36mrelativisticpy.workbook.ast_visitor\u001B[0m:\u001B[36mmul\u001B[0m:\u001B[36m110\u001B[0m - \u001B[34m\u001B[1mMultiplying <relativisticpy.diffgeom.metric.Metric object at 0x114a750d0> * <relativisticpy.algebras.einstein_summation.EinsumArray object at 0x114825350> at position TokenPosition(start_pos=Position(line=11, character=19), end_pos=Position(line=11, character=20))\u001B[0m\n",
      "\u001B[32m2024-08-26 13:41:07.669\u001B[0m | \u001B[34m\u001B[1mDEBUG   \u001B[0m | \u001B[36mrelativisticpy.state.scopes\u001B[0m:\u001B[36mset_tensor\u001B[0m:\u001B[36m184\u001B[0m - \u001B[34m\u001B[1mCaching new tensor 'Gamma' with components '[[[0, -0.5*c**2*r*(-1/r - (2*G*M - c**2*r)/(c**2*r**2))/(-2*G*M + c**2*r), 0, 0], [-0.5*c**2*r*(-1/r - (2*G*M - c**2*r)/(c**2*r**2))/(-2*G*M + c**2*r), 0, 0, 0], [0, 0, 0, 0], [0, 0, 0, 0]], [[0.5*(1/r + (2*G*M - c**2*r)/(c**2*r**2))*(-2*G*M + c**2*r)/(c**2*r), 0, 0, 0], [0, 0.5*(-2*G*M + c**2*r)*(-c**4*r/(-2*G*M + c**2*r)**2 + c**2/(-2*G*M + c**2*r))/(c**2*r), 0, 0], [0, 0, -1.0*(-2*G*M + c**2*r)/c**2, 0], [0, 0, 0, -1.0*(-2*G*M + c**2*r)*sin(theta)**2/c**2]], [[0, 0, 0, 0], [0, 0, 1.0/r, 0], [0, 1.0/r, 0, 0], [0, 0, 0, -1.0*sin(theta)*cos(theta)]], [[0, 0, 0, 0], [0, 0, 0, 1.0/r], [0, 0, 0, 1.0*cos(theta)/sin(theta)], [0, 1.0/r, 1.0*cos(theta)/sin(theta), 0]]]'\u001B[0m\n",
      "\u001B[32m2024-08-26 13:41:07.670\u001B[0m | \u001B[34m\u001B[1mDEBUG   \u001B[0m | \u001B[36mrelativisticpy.state.scopes\u001B[0m:\u001B[36minit_tensor\u001B[0m:\u001B[36m263\u001B[0m - \u001B[34m\u001B[1mAttempting to initiating 'Gamma^{a}_{n}_{m}' by equation from cached tensors.\u001B[0m\n",
      "\u001B[32m2024-08-26 13:41:07.675\u001B[0m | \u001B[34m\u001B[1mDEBUG   \u001B[0m | \u001B[36mrelativisticpy.state.scopes\u001B[0m:\u001B[36mset_tensor\u001B[0m:\u001B[36m184\u001B[0m - \u001B[34m\u001B[1mCaching new tensor 'Gamma' with components '[[[0, -0.5*c**2*r*(-1/r - (2*G*M - c**2*r)/(c**2*r**2))/(-2*G*M + c**2*r), 0, 0], [-0.5*c**2*r*(-1/r - (2*G*M - c**2*r)/(c**2*r**2))/(-2*G*M + c**2*r), 0, 0, 0], [0, 0, 0, 0], [0, 0, 0, 0]], [[0.5*(1/r + (2*G*M - c**2*r)/(c**2*r**2))*(-2*G*M + c**2*r)/(c**2*r), 0, 0, 0], [0, 0.5*(-2*G*M + c**2*r)*(-c**4*r/(-2*G*M + c**2*r)**2 + c**2/(-2*G*M + c**2*r))/(c**2*r), 0, 0], [0, 0, -1.0*(-2*G*M + c**2*r)/c**2, 0], [0, 0, 0, -1.0*(-2*G*M + c**2*r)*sin(theta)**2/c**2]], [[0, 0, 0, 0], [0, 0, 1.0/r, 0], [0, 1.0/r, 0, 0], [0, 0, 0, -1.0*sin(theta)*cos(theta)]], [[0, 0, 0, 0], [0, 0, 0, 1.0/r], [0, 0, 0, 1.0*cos(theta)/sin(theta)], [0, 1.0/r, 1.0*cos(theta)/sin(theta), 0]]]'\u001B[0m\n",
      "\u001B[32m2024-08-26 13:41:07.676\u001B[0m | \u001B[34m\u001B[1mDEBUG   \u001B[0m | \u001B[36mrelativisticpy.workbook.ast_visitor\u001B[0m:\u001B[36mmul\u001B[0m:\u001B[36m110\u001B[0m - \u001B[34m\u001B[1mMultiplying <relativisticpy.diffgeom.derivatives.partial.Derivative object at 0x114a9dc50> * <relativisticpy.diffgeom.tensor.Tensor object at 0x114249950> at position TokenPosition(start_pos=Position(line=13, character=23), end_pos=Position(line=13, character=24))\u001B[0m\n",
      "\u001B[32m2024-08-26 13:41:07.714\u001B[0m | \u001B[34m\u001B[1mDEBUG   \u001B[0m | \u001B[36mrelativisticpy.state.scopes\u001B[0m:\u001B[36minit_tensor\u001B[0m:\u001B[36m263\u001B[0m - \u001B[34m\u001B[1mAttempting to initiating 'Gamma^{a}_{b}_{l}' by equation from cached tensors.\u001B[0m\n",
      "\u001B[32m2024-08-26 13:41:07.721\u001B[0m | \u001B[34m\u001B[1mDEBUG   \u001B[0m | \u001B[36mrelativisticpy.state.scopes\u001B[0m:\u001B[36mset_tensor\u001B[0m:\u001B[36m184\u001B[0m - \u001B[34m\u001B[1mCaching new tensor 'Gamma' with components '[[[0, -0.5*c**2*r*(-1/r - (2*G*M - c**2*r)/(c**2*r**2))/(-2*G*M + c**2*r), 0, 0], [-0.5*c**2*r*(-1/r - (2*G*M - c**2*r)/(c**2*r**2))/(-2*G*M + c**2*r), 0, 0, 0], [0, 0, 0, 0], [0, 0, 0, 0]], [[0.5*(1/r + (2*G*M - c**2*r)/(c**2*r**2))*(-2*G*M + c**2*r)/(c**2*r), 0, 0, 0], [0, 0.5*(-2*G*M + c**2*r)*(-c**4*r/(-2*G*M + c**2*r)**2 + c**2/(-2*G*M + c**2*r))/(c**2*r), 0, 0], [0, 0, -1.0*(-2*G*M + c**2*r)/c**2, 0], [0, 0, 0, -1.0*(-2*G*M + c**2*r)*sin(theta)**2/c**2]], [[0, 0, 0, 0], [0, 0, 1.0/r, 0], [0, 1.0/r, 0, 0], [0, 0, 0, -1.0*sin(theta)*cos(theta)]], [[0, 0, 0, 0], [0, 0, 0, 1.0/r], [0, 0, 0, 1.0*cos(theta)/sin(theta)], [0, 1.0/r, 1.0*cos(theta)/sin(theta), 0]]]'\u001B[0m\n",
      "\u001B[32m2024-08-26 13:41:07.722\u001B[0m | \u001B[34m\u001B[1mDEBUG   \u001B[0m | \u001B[36mrelativisticpy.state.scopes\u001B[0m:\u001B[36minit_tensor\u001B[0m:\u001B[36m263\u001B[0m - \u001B[34m\u001B[1mAttempting to initiating 'Gamma^{l}_{n}_{m}' by equation from cached tensors.\u001B[0m\n",
      "\u001B[32m2024-08-26 13:41:07.728\u001B[0m | \u001B[34m\u001B[1mDEBUG   \u001B[0m | \u001B[36mrelativisticpy.state.scopes\u001B[0m:\u001B[36mset_tensor\u001B[0m:\u001B[36m184\u001B[0m - \u001B[34m\u001B[1mCaching new tensor 'Gamma' with components '[[[0, -0.5*c**2*r*(-1/r - (2*G*M - c**2*r)/(c**2*r**2))/(-2*G*M + c**2*r), 0, 0], [-0.5*c**2*r*(-1/r - (2*G*M - c**2*r)/(c**2*r**2))/(-2*G*M + c**2*r), 0, 0, 0], [0, 0, 0, 0], [0, 0, 0, 0]], [[0.5*(1/r + (2*G*M - c**2*r)/(c**2*r**2))*(-2*G*M + c**2*r)/(c**2*r), 0, 0, 0], [0, 0.5*(-2*G*M + c**2*r)*(-c**4*r/(-2*G*M + c**2*r)**2 + c**2/(-2*G*M + c**2*r))/(c**2*r), 0, 0], [0, 0, -1.0*(-2*G*M + c**2*r)/c**2, 0], [0, 0, 0, -1.0*(-2*G*M + c**2*r)*sin(theta)**2/c**2]], [[0, 0, 0, 0], [0, 0, 1.0/r, 0], [0, 1.0/r, 0, 0], [0, 0, 0, -1.0*sin(theta)*cos(theta)]], [[0, 0, 0, 0], [0, 0, 0, 1.0/r], [0, 0, 0, 1.0*cos(theta)/sin(theta)], [0, 1.0/r, 1.0*cos(theta)/sin(theta), 0]]]'\u001B[0m\n",
      "\u001B[32m2024-08-26 13:41:07.730\u001B[0m | \u001B[34m\u001B[1mDEBUG   \u001B[0m | \u001B[36mrelativisticpy.workbook.ast_visitor\u001B[0m:\u001B[36mmul\u001B[0m:\u001B[36m110\u001B[0m - \u001B[34m\u001B[1mMultiplying <relativisticpy.diffgeom.tensor.Tensor object at 0x113867fd0> * <relativisticpy.diffgeom.tensor.Tensor object at 0x114152d50> at position TokenPosition(start_pos=Position(line=13, character=47), end_pos=Position(line=13, character=52))\u001B[0m\n",
      "\u001B[32m2024-08-26 13:41:07.919\u001B[0m | \u001B[34m\u001B[1mDEBUG   \u001B[0m | \u001B[36mrelativisticpy.workbook.ast_visitor\u001B[0m:\u001B[36madd\u001B[0m:\u001B[36m98\u001B[0m - \u001B[34m\u001B[1mAdding <relativisticpy.algebras.einstein_summation.EinsumArray object at 0x113f5d010> + <relativisticpy.diffgeom.tensor.Tensor object at 0x1148cee90> at position TokenPosition(start_pos=Position(line=13, character=23), end_pos=Position(line=13, character=24))\u001B[0m\n",
      "\u001B[32m2024-08-26 13:41:08.121\u001B[0m | \u001B[34m\u001B[1mDEBUG   \u001B[0m | \u001B[36mrelativisticpy.state.scopes\u001B[0m:\u001B[36minit_tensor\u001B[0m:\u001B[36m263\u001B[0m - \u001B[34m\u001B[1mAttempting to initiating 'Gamma^{a}_{b}_{m}' by equation from cached tensors.\u001B[0m\n",
      "\u001B[32m2024-08-26 13:41:08.128\u001B[0m | \u001B[34m\u001B[1mDEBUG   \u001B[0m | \u001B[36mrelativisticpy.state.scopes\u001B[0m:\u001B[36mset_tensor\u001B[0m:\u001B[36m184\u001B[0m - \u001B[34m\u001B[1mCaching new tensor 'Gamma' with components '[[[0, -0.5*c**2*r*(-1/r - (2*G*M - c**2*r)/(c**2*r**2))/(-2*G*M + c**2*r), 0, 0], [-0.5*c**2*r*(-1/r - (2*G*M - c**2*r)/(c**2*r**2))/(-2*G*M + c**2*r), 0, 0, 0], [0, 0, 0, 0], [0, 0, 0, 0]], [[0.5*(1/r + (2*G*M - c**2*r)/(c**2*r**2))*(-2*G*M + c**2*r)/(c**2*r), 0, 0, 0], [0, 0.5*(-2*G*M + c**2*r)*(-c**4*r/(-2*G*M + c**2*r)**2 + c**2/(-2*G*M + c**2*r))/(c**2*r), 0, 0], [0, 0, -1.0*(-2*G*M + c**2*r)/c**2, 0], [0, 0, 0, -1.0*(-2*G*M + c**2*r)*sin(theta)**2/c**2]], [[0, 0, 0, 0], [0, 0, 1.0/r, 0], [0, 1.0/r, 0, 0], [0, 0, 0, -1.0*sin(theta)*cos(theta)]], [[0, 0, 0, 0], [0, 0, 0, 1.0/r], [0, 0, 0, 1.0*cos(theta)/sin(theta)], [0, 1.0/r, 1.0*cos(theta)/sin(theta), 0]]]'\u001B[0m\n",
      "\u001B[32m2024-08-26 13:41:08.129\u001B[0m | \u001B[34m\u001B[1mDEBUG   \u001B[0m | \u001B[36mrelativisticpy.workbook.ast_visitor\u001B[0m:\u001B[36mmul\u001B[0m:\u001B[36m110\u001B[0m - \u001B[34m\u001B[1mMultiplying <relativisticpy.diffgeom.derivatives.partial.Derivative object at 0x114ea9210> * <relativisticpy.diffgeom.tensor.Tensor object at 0x114ea9250> at position TokenPosition(start_pos=Position(line=13, character=81), end_pos=Position(line=13, character=82))\u001B[0m\n",
      "\u001B[32m2024-08-26 13:41:08.175\u001B[0m | \u001B[34m\u001B[1mDEBUG   \u001B[0m | \u001B[36mrelativisticpy.workbook.ast_visitor\u001B[0m:\u001B[36msub\u001B[0m:\u001B[36m94\u001B[0m - \u001B[34m\u001B[1mSubtracting <relativisticpy.algebras.einstein_summation.EinsumArray object at 0x114ea8610> - <relativisticpy.algebras.einstein_summation.EinsumArray object at 0x114ec0950> at position TokenPosition(start_pos=Position(line=13, character=23), end_pos=Position(line=13, character=24))\u001B[0m\n",
      "\u001B[32m2024-08-26 13:41:08.284\u001B[0m | \u001B[34m\u001B[1mDEBUG   \u001B[0m | \u001B[36mrelativisticpy.state.scopes\u001B[0m:\u001B[36minit_tensor\u001B[0m:\u001B[36m263\u001B[0m - \u001B[34m\u001B[1mAttempting to initiating 'Gamma^{a}_{n}_{l}' by equation from cached tensors.\u001B[0m\n",
      "\u001B[32m2024-08-26 13:41:08.290\u001B[0m | \u001B[34m\u001B[1mDEBUG   \u001B[0m | \u001B[36mrelativisticpy.state.scopes\u001B[0m:\u001B[36mset_tensor\u001B[0m:\u001B[36m184\u001B[0m - \u001B[34m\u001B[1mCaching new tensor 'Gamma' with components '[[[0, -0.5*c**2*r*(-1/r - (2*G*M - c**2*r)/(c**2*r**2))/(-2*G*M + c**2*r), 0, 0], [-0.5*c**2*r*(-1/r - (2*G*M - c**2*r)/(c**2*r**2))/(-2*G*M + c**2*r), 0, 0, 0], [0, 0, 0, 0], [0, 0, 0, 0]], [[0.5*(1/r + (2*G*M - c**2*r)/(c**2*r**2))*(-2*G*M + c**2*r)/(c**2*r), 0, 0, 0], [0, 0.5*(-2*G*M + c**2*r)*(-c**4*r/(-2*G*M + c**2*r)**2 + c**2/(-2*G*M + c**2*r))/(c**2*r), 0, 0], [0, 0, -1.0*(-2*G*M + c**2*r)/c**2, 0], [0, 0, 0, -1.0*(-2*G*M + c**2*r)*sin(theta)**2/c**2]], [[0, 0, 0, 0], [0, 0, 1.0/r, 0], [0, 1.0/r, 0, 0], [0, 0, 0, -1.0*sin(theta)*cos(theta)]], [[0, 0, 0, 0], [0, 0, 0, 1.0/r], [0, 0, 0, 1.0*cos(theta)/sin(theta)], [0, 1.0/r, 1.0*cos(theta)/sin(theta), 0]]]'\u001B[0m\n",
      "\u001B[32m2024-08-26 13:41:08.292\u001B[0m | \u001B[34m\u001B[1mDEBUG   \u001B[0m | \u001B[36mrelativisticpy.state.scopes\u001B[0m:\u001B[36minit_tensor\u001B[0m:\u001B[36m263\u001B[0m - \u001B[34m\u001B[1mAttempting to initiating 'Gamma^{l}_{b}_{m}' by equation from cached tensors.\u001B[0m\n",
      "\u001B[32m2024-08-26 13:41:08.298\u001B[0m | \u001B[34m\u001B[1mDEBUG   \u001B[0m | \u001B[36mrelativisticpy.state.scopes\u001B[0m:\u001B[36mset_tensor\u001B[0m:\u001B[36m184\u001B[0m - \u001B[34m\u001B[1mCaching new tensor 'Gamma' with components '[[[0, -0.5*c**2*r*(-1/r - (2*G*M - c**2*r)/(c**2*r**2))/(-2*G*M + c**2*r), 0, 0], [-0.5*c**2*r*(-1/r - (2*G*M - c**2*r)/(c**2*r**2))/(-2*G*M + c**2*r), 0, 0, 0], [0, 0, 0, 0], [0, 0, 0, 0]], [[0.5*(1/r + (2*G*M - c**2*r)/(c**2*r**2))*(-2*G*M + c**2*r)/(c**2*r), 0, 0, 0], [0, 0.5*(-2*G*M + c**2*r)*(-c**4*r/(-2*G*M + c**2*r)**2 + c**2/(-2*G*M + c**2*r))/(c**2*r), 0, 0], [0, 0, -1.0*(-2*G*M + c**2*r)/c**2, 0], [0, 0, 0, -1.0*(-2*G*M + c**2*r)*sin(theta)**2/c**2]], [[0, 0, 0, 0], [0, 0, 1.0/r, 0], [0, 1.0/r, 0, 0], [0, 0, 0, -1.0*sin(theta)*cos(theta)]], [[0, 0, 0, 0], [0, 0, 0, 1.0/r], [0, 0, 0, 1.0*cos(theta)/sin(theta)], [0, 1.0/r, 1.0*cos(theta)/sin(theta), 0]]]'\u001B[0m\n",
      "\u001B[32m2024-08-26 13:41:08.299\u001B[0m | \u001B[34m\u001B[1mDEBUG   \u001B[0m | \u001B[36mrelativisticpy.workbook.ast_visitor\u001B[0m:\u001B[36mmul\u001B[0m:\u001B[36m110\u001B[0m - \u001B[34m\u001B[1mMultiplying <relativisticpy.diffgeom.tensor.Tensor object at 0x114b54310> * <relativisticpy.diffgeom.tensor.Tensor object at 0x113f83390> at position TokenPosition(start_pos=Position(line=13, character=105), end_pos=Position(line=13, character=110))\u001B[0m\n",
      "\u001B[32m2024-08-26 13:41:08.440\u001B[0m | \u001B[34m\u001B[1mDEBUG   \u001B[0m | \u001B[36mrelativisticpy.workbook.ast_visitor\u001B[0m:\u001B[36msub\u001B[0m:\u001B[36m94\u001B[0m - \u001B[34m\u001B[1mSubtracting <relativisticpy.algebras.einstein_summation.EinsumArray object at 0x114bc3a90> - <relativisticpy.diffgeom.tensor.Tensor object at 0x110310890> at position TokenPosition(start_pos=Position(line=13, character=23), end_pos=Position(line=13, character=24))\u001B[0m\n",
      "\u001B[32m2024-08-26 13:41:08.600\u001B[0m | \u001B[34m\u001B[1mDEBUG   \u001B[0m | \u001B[36mrelativisticpy.state.scopes\u001B[0m:\u001B[36mset_tensor\u001B[0m:\u001B[36m184\u001B[0m - \u001B[34m\u001B[1mCaching new tensor 'Riemann' with components '[[[[0, 0, 0, 0], [0, 0, 0, 0], [0, 0, 0, 0], [0, 0, 0, 0]], [[0, -0.25*c**4*r**2*(-1/r - (2*G*M - c**2*r)/(c**2*r**2))**2/(-2*G*M + c**2*r)**2 - 0.5*c**4*r*(-1/r - (2*G*M - c**2*r)/(c**2*r**2))/(-2*G*M + c**2*r)**2 + 0.5*c**2*r*(2/r**2 + 2*(2*G*M - c**2*r)/(c**2*r**3))/(-2*G*M + c**2*r) + 0.5*c**2*(-1/r - (2*G*M - c**2*r)/(c**2*r**2))/(-2*G*M + c**2*r) - 0.25*(-1/r - (2*G*M - c**2*r)/(c**2*r**2))*(-c**4*r/(-2*G*M + c**2*r)**2 + c**2/(-2*G*M + c**2*r)), 0, 0], [0.25*c**4*r**2*(-1/r - (2*G*M - c**2*r)/(c**2*r**2))**2/(-2*G*M + c**2*r)**2 + 0.5*c**4*r*(-1/r - (2*G*M - c**2*r)/(c**2*r**2))/(-2*G*M + c**2*r)**2 - 0.5*c**2*r*(2/r**2 + 2*(2*G*M - c**2*r)/(c**2*r**3))/(-2*G*M + c**2*r) - 0.5*c**2*(-1/r - (2*G*M - c**2*r)/(c**2*r**2))/(-2*G*M + c**2*r) + 0.25*(-1/r - (2*G*M - c**2*r)/(c**2*r**2))*(-c**4*r/(-2*G*M + c**2*r)**2 + c**2/(-2*G*M + c**2*r)), 0, 0, 0], [0, 0, 0, 0], [0, 0, 0, 0]], [[0, 0, 0.5*r*(-1/r - (2*G*M - c**2*r)/(c**2*r**2)), 0], [0, 0, 0, 0], [-0.5*r*(-1/r - (2*G*M - c**2*r)/(c**2*r**2)), 0, 0, 0], [0, 0, 0, 0]], [[0, 0, 0, 0.5*r*(-1/r - (2*G*M - c**2*r)/(c**2*r**2))*sin(theta)**2], [0, 0, 0, 0], [0, 0, 0, 0], [-0.5*r*(-1/r - (2*G*M - c**2*r)/(c**2*r**2))*sin(theta)**2, 0, 0, 0]]], [[[0, -0.25*(-1/r - (2*G*M - c**2*r)/(c**2*r**2))*(1/r + (2*G*M - c**2*r)/(c**2*r**2)) - 0.5*(1/r + (2*G*M - c**2*r)/(c**2*r**2))/r - 0.5*(-2/r**2 - 2*(2*G*M - c**2*r)/(c**2*r**3))*(-2*G*M + c**2*r)/(c**2*r) + 0.5*(1/r + (2*G*M - c**2*r)/(c**2*r**2))*(-2*G*M + c**2*r)/(c**2*r**2) - 0.25*(1/r + (2*G*M - c**2*r)/(c**2*r**2))*(-2*G*M + c**2*r)**2*(-c**4*r/(-2*G*M + c**2*r)**2 + c**2/(-2*G*M + c**2*r))/(c**4*r**2), 0, 0], [0.25*(-1/r - (2*G*M - c**2*r)/(c**2*r**2))*(1/r + (2*G*M - c**2*r)/(c**2*r**2)) + 0.5*(1/r + (2*G*M - c**2*r)/(c**2*r**2))/r + 0.5*(-2/r**2 - 2*(2*G*M - c**2*r)/(c**2*r**3))*(-2*G*M + c**2*r)/(c**2*r) - 0.5*(1/r + (2*G*M - c**2*r)/(c**2*r**2))*(-2*G*M + c**2*r)/(c**2*r**2) + 0.25*(1/r + (2*G*M - c**2*r)/(c**2*r**2))*(-2*G*M + c**2*r)**2*(-c**4*r/(-2*G*M + c**2*r)**2 + c**2/(-2*G*M + c**2*r))/(c**4*r**2), 0, 0, 0], [0, 0, 0, 0], [0, 0, 0, 0]], [[0, 0, 0, 0], [0, 0, 0, 0], [0, 0, 0, 0], [0, 0, 0, 0]], [[0, 0, 0, 0], [0, 0, -1.0 + 1.0*(-2*G*M + c**2*r)/(c**2*r) - 0.5*(-2*G*M + c**2*r)**2*(-c**4*r/(-2*G*M + c**2*r)**2 + c**2/(-2*G*M + c**2*r))/(c**4*r), 0], [0, 1.0 - 1.0*(-2*G*M + c**2*r)/(c**2*r) + 0.5*(-2*G*M + c**2*r)**2*(-c**4*r/(-2*G*M + c**2*r)**2 + c**2/(-2*G*M + c**2*r))/(c**4*r), 0, 0], [0, 0, 0, 0]], [[0, 0, 0, 0], [0, 0, 0, -1.0*sin(theta)**2 + 1.0*(-2*G*M + c**2*r)*sin(theta)**2/(c**2*r) - 0.5*(-2*G*M + c**2*r)**2*(-c**4*r/(-2*G*M + c**2*r)**2 + c**2/(-2*G*M + c**2*r))*sin(theta)**2/(c**4*r)], [0, 0, 0, 0], [0, 1.0*sin(theta)**2 - 1.0*(-2*G*M + c**2*r)*sin(theta)**2/(c**2*r) + 0.5*(-2*G*M + c**2*r)**2*(-c**4*r/(-2*G*M + c**2*r)**2 + c**2/(-2*G*M + c**2*r))*sin(theta)**2/(c**4*r), 0, 0]]], [[[0, 0, -0.5*(1/r + (2*G*M - c**2*r)/(c**2*r**2))*(-2*G*M + c**2*r)/(c**2*r**2), 0], [0, 0, 0, 0], [0.5*(1/r + (2*G*M - c**2*r)/(c**2*r**2))*(-2*G*M + c**2*r)/(c**2*r**2), 0, 0, 0], [0, 0, 0, 0]], [[0, 0, 0, 0], [0, 0, -0.5*(-2*G*M + c**2*r)*(-c**4*r/(-2*G*M + c**2*r)**2 + c**2/(-2*G*M + c**2*r))/(c**2*r**2), 0], [0, 0.5*(-2*G*M + c**2*r)*(-c**4*r/(-2*G*M + c**2*r)**2 + c**2/(-2*G*M + c**2*r))/(c**2*r**2), 0, 0], [0, 0, 0, 0]], [[0, 0, 0, 0], [0, 0, 0, 0], [0, 0, 0, 0], [0, 0, 0, 0]], [[0, 0, 0, 0], [0, 0, 0, 0], [0, 0, 0, 1.0*sin(theta)**2 - 1.0*(-2*G*M + c**2*r)*sin(theta)**2/(c**2*r)], [0, 0, -1.0*sin(theta)**2 + 1.0*(-2*G*M + c**2*r)*sin(theta)**2/(c**2*r), 0]]], [[[0, 0, 0, -0.5*(1/r + (2*G*M - c**2*r)/(c**2*r**2))*(-2*G*M + c**2*r)/(c**2*r**2)], [0, 0, 0, 0], [0, 0, 0, 0], [0.5*(1/r + (2*G*M - c**2*r)/(c**2*r**2))*(-2*G*M + c**2*r)/(c**2*r**2), 0, 0, 0]], [[0, 0, 0, 0], [0, 0, 0, -0.5*(-2*G*M + c**2*r)*(-c**4*r/(-2*G*M + c**2*r)**2 + c**2/(-2*G*M + c**2*r))/(c**2*r**2)], [0, 0, 0, 0], [0, 0.5*(-2*G*M + c**2*r)*(-c**4*r/(-2*G*M + c**2*r)**2 + c**2/(-2*G*M + c**2*r))/(c**2*r**2), 0, 0]], [[0, 0, 0, 0], [0, 0, 0, 0], [0, 0, 0, -1.0 + 1.0*(-2*G*M + c**2*r)/(c**2*r)], [0, 0, 1.0 - 1.0*(-2*G*M + c**2*r)/(c**2*r), 0]], [[0, 0, 0, 0], [0, 0, 0, 0], [0, 0, 0, 0], [0, 0, 0, 0]]]]'\u001B[0m\n",
      "\u001B[32m2024-08-26 13:41:08.602\u001B[0m | \u001B[34m\u001B[1mDEBUG   \u001B[0m | \u001B[36mrelativisticpy.state.scopes\u001B[0m:\u001B[36minit_tensor\u001B[0m:\u001B[36m263\u001B[0m - \u001B[34m\u001B[1mAttempting to initiating 'Riemann^{a}_{m}_{a}_{n}' by equation from cached tensors.\u001B[0m\n",
      "\u001B[32m2024-08-26 13:41:08.627\u001B[0m | \u001B[34m\u001B[1mDEBUG   \u001B[0m | \u001B[36mrelativisticpy.state.scopes\u001B[0m:\u001B[36mset_tensor\u001B[0m:\u001B[36m184\u001B[0m - \u001B[34m\u001B[1mCaching new tensor 'Ricci' with components '[[0.25*(-1/r - (2*G*M - c**2*r)/(c**2*r**2))*(1/r + (2*G*M - c**2*r)/(c**2*r**2)) + 0.5*(1/r + (2*G*M - c**2*r)/(c**2*r**2))/r + 0.5*(-2/r**2 - 2*(2*G*M - c**2*r)/(c**2*r**3))*(-2*G*M + c**2*r)/(c**2*r) + 0.5*(1/r + (2*G*M - c**2*r)/(c**2*r**2))*(-2*G*M + c**2*r)/(c**2*r**2) + 0.25*(1/r + (2*G*M - c**2*r)/(c**2*r**2))*(-2*G*M + c**2*r)**2*(-c**4*r/(-2*G*M + c**2*r)**2 + c**2/(-2*G*M + c**2*r))/(c**4*r**2), 0, 0, 0], [0, -0.25*c**4*r**2*(-1/r - (2*G*M - c**2*r)/(c**2*r**2))**2/(-2*G*M + c**2*r)**2 - 0.5*c**4*r*(-1/r - (2*G*M - c**2*r)/(c**2*r**2))/(-2*G*M + c**2*r)**2 + 0.5*c**2*r*(2/r**2 + 2*(2*G*M - c**2*r)/(c**2*r**3))/(-2*G*M + c**2*r) + 0.5*c**2*(-1/r - (2*G*M - c**2*r)/(c**2*r**2))/(-2*G*M + c**2*r) - 0.25*(-1/r - (2*G*M - c**2*r)/(c**2*r**2))*(-c**4*r/(-2*G*M + c**2*r)**2 + c**2/(-2*G*M + c**2*r)) + 1.0*(-2*G*M + c**2*r)*(-c**4*r/(-2*G*M + c**2*r)**2 + c**2/(-2*G*M + c**2*r))/(c**2*r**2), 0, 0], [0, 0, 0.5*r*(-1/r - (2*G*M - c**2*r)/(c**2*r**2)) - 0.5*(-2*G*M + c**2*r)**2*(-c**4*r/(-2*G*M + c**2*r)**2 + c**2/(-2*G*M + c**2*r))/(c**4*r), 0], [0, 0, 0, 0.5*r*(-1/r - (2*G*M - c**2*r)/(c**2*r**2))*sin(theta)**2 - 0.5*(-2*G*M + c**2*r)**2*(-c**4*r/(-2*G*M + c**2*r)**2 + c**2/(-2*G*M + c**2*r))*sin(theta)**2/(c**4*r)]]'\u001B[0m\n",
      "\u001B[32m2024-08-26 13:41:08.628\u001B[0m | \u001B[34m\u001B[1mDEBUG   \u001B[0m | \u001B[36mrelativisticpy.state.scopes\u001B[0m:\u001B[36minit_tensor\u001B[0m:\u001B[36m263\u001B[0m - \u001B[34m\u001B[1mAttempting to initiating 'g^{s}^{q}' by equation from cached tensors.\u001B[0m\n",
      "\u001B[32m2024-08-26 13:41:08.629\u001B[0m | \u001B[34m\u001B[1mDEBUG   \u001B[0m | \u001B[36mrelativisticpy.state.scopes\u001B[0m:\u001B[36minit_tensor\u001B[0m:\u001B[36m266\u001B[0m - \u001B[34m\u001B[1mIdentified 'g^{s}^{q}' to be a Metric. Initializing Metric from Metric.\u001B[0m\n",
      "\u001B[32m2024-08-26 13:41:08.629\u001B[0m | \u001B[34m\u001B[1mDEBUG   \u001B[0m | \u001B[36mrelativisticpy.state.scopes\u001B[0m:\u001B[36mmetric_tensor\u001B[0m:\u001B[36m102\u001B[0m - \u001B[34m\u001B[1mFound 1 Metric Tensor Objects in scope.\u001B[0m\n",
      "\u001B[32m2024-08-26 13:41:08.630\u001B[0m | \u001B[34m\u001B[1mDEBUG   \u001B[0m | \u001B[36mrelativisticpy.state.scopes\u001B[0m:\u001B[36mmetric_tensor\u001B[0m:\u001B[36m103\u001B[0m - \u001B[34m\u001B[1mReturning <relativisticpy.diffgeom.metric.Metric object at 0x114bbc9d0>.\u001B[0m\n",
      "\u001B[32m2024-08-26 13:41:08.631\u001B[0m | \u001B[34m\u001B[1mDEBUG   \u001B[0m | \u001B[36mrelativisticpy.state.scopes\u001B[0m:\u001B[36mmetric_tensor\u001B[0m:\u001B[36m206\u001B[0m - \u001B[34m\u001B[1mFound metric tensor in scope with components: '[[(2*G*M - c**2*r)/(c**2*r), 0, 0, 0], [0, c**2*r/(-2*G*M + c**2*r), 0, 0], [0, 0, r**2, 0], [0, 0, 0, r**2*sin(theta)**2]]'\u001B[0m\n",
      "\u001B[32m2024-08-26 13:41:08.632\u001B[0m | \u001B[34m\u001B[1mDEBUG   \u001B[0m | \u001B[36mrelativisticpy.state.scopes\u001B[0m:\u001B[36mmetric_tensor\u001B[0m:\u001B[36m102\u001B[0m - \u001B[34m\u001B[1mFound 1 Metric Tensor Objects in scope.\u001B[0m\n",
      "\u001B[32m2024-08-26 13:41:08.632\u001B[0m | \u001B[34m\u001B[1mDEBUG   \u001B[0m | \u001B[36mrelativisticpy.state.scopes\u001B[0m:\u001B[36mmetric_tensor\u001B[0m:\u001B[36m103\u001B[0m - \u001B[34m\u001B[1mReturning <relativisticpy.diffgeom.metric.Metric object at 0x114bbc9d0>.\u001B[0m\n",
      "\u001B[32m2024-08-26 13:41:08.774\u001B[0m | \u001B[34m\u001B[1mDEBUG   \u001B[0m | \u001B[36mrelativisticpy.state.scopes\u001B[0m:\u001B[36minit_tensor\u001B[0m:\u001B[36m271\u001B[0m - \u001B[34m\u001B[1mComputed components of 'g^{s}^{q}' to be: '[[-c**2*r/(-2*G*M + c**2*r), 0, 0, 0], [0, (-2*G*M + c**2*r)/(c**2*r), 0, 0], [0, 0, r**(-2), 0], [0, 0, 0, 1/(r**2*sin(theta)**2)]]'\u001B[0m\n",
      "\u001B[32m2024-08-26 13:41:08.775\u001B[0m | \u001B[34m\u001B[1mDEBUG   \u001B[0m | \u001B[36mrelativisticpy.state.scopes\u001B[0m:\u001B[36mset_tensor\u001B[0m:\u001B[36m184\u001B[0m - \u001B[34m\u001B[1mCaching new tensor 'g' with components '[[-c**2*r/(-2*G*M + c**2*r), 0, 0, 0], [0, (-2*G*M + c**2*r)/(c**2*r), 0, 0], [0, 0, r**(-2), 0], [0, 0, 0, 1/(r**2*sin(theta)**2)]]'\u001B[0m\n",
      "\u001B[32m2024-08-26 13:41:08.776\u001B[0m | \u001B[34m\u001B[1mDEBUG   \u001B[0m | \u001B[36mrelativisticpy.state.scopes\u001B[0m:\u001B[36minit_tensor\u001B[0m:\u001B[36m263\u001B[0m - \u001B[34m\u001B[1mAttempting to initiating 'g^{h}^{c}' by equation from cached tensors.\u001B[0m\n",
      "\u001B[32m2024-08-26 13:41:08.776\u001B[0m | \u001B[34m\u001B[1mDEBUG   \u001B[0m | \u001B[36mrelativisticpy.state.scopes\u001B[0m:\u001B[36minit_tensor\u001B[0m:\u001B[36m266\u001B[0m - \u001B[34m\u001B[1mIdentified 'g^{h}^{c}' to be a Metric. Initializing Metric from Metric.\u001B[0m\n",
      "\u001B[32m2024-08-26 13:41:08.777\u001B[0m | \u001B[34m\u001B[1mDEBUG   \u001B[0m | \u001B[36mrelativisticpy.state.scopes\u001B[0m:\u001B[36mmetric_tensor\u001B[0m:\u001B[36m102\u001B[0m - \u001B[34m\u001B[1mFound 1 Metric Tensor Objects in scope.\u001B[0m\n",
      "\u001B[32m2024-08-26 13:41:08.778\u001B[0m | \u001B[34m\u001B[1mDEBUG   \u001B[0m | \u001B[36mrelativisticpy.state.scopes\u001B[0m:\u001B[36mmetric_tensor\u001B[0m:\u001B[36m103\u001B[0m - \u001B[34m\u001B[1mReturning <relativisticpy.diffgeom.metric.Metric object at 0x112d2c210>.\u001B[0m\n",
      "\u001B[32m2024-08-26 13:41:08.780\u001B[0m | \u001B[34m\u001B[1mDEBUG   \u001B[0m | \u001B[36mrelativisticpy.state.scopes\u001B[0m:\u001B[36mmetric_tensor\u001B[0m:\u001B[36m206\u001B[0m - \u001B[34m\u001B[1mFound metric tensor in scope with components: '[[-c**2*r/(-2*G*M + c**2*r), 0, 0, 0], [0, (-2*G*M + c**2*r)/(c**2*r), 0, 0], [0, 0, r**(-2), 0], [0, 0, 0, 1/(r**2*sin(theta)**2)]]'\u001B[0m\n",
      "\u001B[32m2024-08-26 13:41:08.780\u001B[0m | \u001B[34m\u001B[1mDEBUG   \u001B[0m | \u001B[36mrelativisticpy.state.scopes\u001B[0m:\u001B[36mmetric_tensor\u001B[0m:\u001B[36m102\u001B[0m - \u001B[34m\u001B[1mFound 1 Metric Tensor Objects in scope.\u001B[0m\n",
      "\u001B[32m2024-08-26 13:41:08.781\u001B[0m | \u001B[34m\u001B[1mDEBUG   \u001B[0m | \u001B[36mrelativisticpy.state.scopes\u001B[0m:\u001B[36mmetric_tensor\u001B[0m:\u001B[36m103\u001B[0m - \u001B[34m\u001B[1mReturning <relativisticpy.diffgeom.metric.Metric object at 0x112d2c210>.\u001B[0m\n",
      "\u001B[32m2024-08-26 13:41:08.782\u001B[0m | \u001B[34m\u001B[1mDEBUG   \u001B[0m | \u001B[36mrelativisticpy.state.scopes\u001B[0m:\u001B[36minit_tensor\u001B[0m:\u001B[36m271\u001B[0m - \u001B[34m\u001B[1mComputed components of 'g^{h}^{c}' to be: '[[-c**2*r/(-2*G*M + c**2*r), 0, 0, 0], [0, (-2*G*M + c**2*r)/(c**2*r), 0, 0], [0, 0, r**(-2), 0], [0, 0, 0, 1/(r**2*sin(theta)**2)]]'\u001B[0m\n",
      "\u001B[32m2024-08-26 13:41:08.784\u001B[0m | \u001B[34m\u001B[1mDEBUG   \u001B[0m | \u001B[36mrelativisticpy.state.scopes\u001B[0m:\u001B[36mset_tensor\u001B[0m:\u001B[36m184\u001B[0m - \u001B[34m\u001B[1mCaching new tensor 'g' with components '[[-c**2*r/(-2*G*M + c**2*r), 0, 0, 0], [0, (-2*G*M + c**2*r)/(c**2*r), 0, 0], [0, 0, r**(-2), 0], [0, 0, 0, 1/(r**2*sin(theta)**2)]]'\u001B[0m\n",
      "\u001B[32m2024-08-26 13:41:08.785\u001B[0m | \u001B[34m\u001B[1mDEBUG   \u001B[0m | \u001B[36mrelativisticpy.state.scopes\u001B[0m:\u001B[36minit_tensor\u001B[0m:\u001B[36m263\u001B[0m - \u001B[34m\u001B[1mAttempting to initiating 'g^{f}^{b}' by equation from cached tensors.\u001B[0m\n",
      "\u001B[32m2024-08-26 13:41:08.785\u001B[0m | \u001B[34m\u001B[1mDEBUG   \u001B[0m | \u001B[36mrelativisticpy.state.scopes\u001B[0m:\u001B[36minit_tensor\u001B[0m:\u001B[36m266\u001B[0m - \u001B[34m\u001B[1mIdentified 'g^{f}^{b}' to be a Metric. Initializing Metric from Metric.\u001B[0m\n",
      "\u001B[32m2024-08-26 13:41:08.786\u001B[0m | \u001B[34m\u001B[1mDEBUG   \u001B[0m | \u001B[36mrelativisticpy.state.scopes\u001B[0m:\u001B[36mmetric_tensor\u001B[0m:\u001B[36m102\u001B[0m - \u001B[34m\u001B[1mFound 1 Metric Tensor Objects in scope.\u001B[0m\n",
      "\u001B[32m2024-08-26 13:41:08.786\u001B[0m | \u001B[34m\u001B[1mDEBUG   \u001B[0m | \u001B[36mrelativisticpy.state.scopes\u001B[0m:\u001B[36mmetric_tensor\u001B[0m:\u001B[36m103\u001B[0m - \u001B[34m\u001B[1mReturning <relativisticpy.diffgeom.metric.Metric object at 0x114f17d50>.\u001B[0m\n",
      "\u001B[32m2024-08-26 13:41:08.787\u001B[0m | \u001B[34m\u001B[1mDEBUG   \u001B[0m | \u001B[36mrelativisticpy.state.scopes\u001B[0m:\u001B[36mmetric_tensor\u001B[0m:\u001B[36m206\u001B[0m - \u001B[34m\u001B[1mFound metric tensor in scope with components: '[[-c**2*r/(-2*G*M + c**2*r), 0, 0, 0], [0, (-2*G*M + c**2*r)/(c**2*r), 0, 0], [0, 0, r**(-2), 0], [0, 0, 0, 1/(r**2*sin(theta)**2)]]'\u001B[0m\n",
      "\u001B[32m2024-08-26 13:41:08.788\u001B[0m | \u001B[34m\u001B[1mDEBUG   \u001B[0m | \u001B[36mrelativisticpy.state.scopes\u001B[0m:\u001B[36mmetric_tensor\u001B[0m:\u001B[36m102\u001B[0m - \u001B[34m\u001B[1mFound 1 Metric Tensor Objects in scope.\u001B[0m\n",
      "\u001B[32m2024-08-26 13:41:08.788\u001B[0m | \u001B[34m\u001B[1mDEBUG   \u001B[0m | \u001B[36mrelativisticpy.state.scopes\u001B[0m:\u001B[36mmetric_tensor\u001B[0m:\u001B[36m103\u001B[0m - \u001B[34m\u001B[1mReturning <relativisticpy.diffgeom.metric.Metric object at 0x114f17d50>.\u001B[0m\n",
      "\u001B[32m2024-08-26 13:41:08.791\u001B[0m | \u001B[34m\u001B[1mDEBUG   \u001B[0m | \u001B[36mrelativisticpy.state.scopes\u001B[0m:\u001B[36minit_tensor\u001B[0m:\u001B[36m271\u001B[0m - \u001B[34m\u001B[1mComputed components of 'g^{f}^{b}' to be: '[[-c**2*r/(-2*G*M + c**2*r), 0, 0, 0], [0, (-2*G*M + c**2*r)/(c**2*r), 0, 0], [0, 0, r**(-2), 0], [0, 0, 0, 1/(r**2*sin(theta)**2)]]'\u001B[0m\n",
      "\u001B[32m2024-08-26 13:41:08.792\u001B[0m | \u001B[34m\u001B[1mDEBUG   \u001B[0m | \u001B[36mrelativisticpy.state.scopes\u001B[0m:\u001B[36mset_tensor\u001B[0m:\u001B[36m184\u001B[0m - \u001B[34m\u001B[1mCaching new tensor 'g' with components '[[-c**2*r/(-2*G*M + c**2*r), 0, 0, 0], [0, (-2*G*M + c**2*r)/(c**2*r), 0, 0], [0, 0, r**(-2), 0], [0, 0, 0, 1/(r**2*sin(theta)**2)]]'\u001B[0m\n",
      "\u001B[32m2024-08-26 13:41:08.793\u001B[0m | \u001B[34m\u001B[1mDEBUG   \u001B[0m | \u001B[36mrelativisticpy.state.scopes\u001B[0m:\u001B[36minit_tensor\u001B[0m:\u001B[36m263\u001B[0m - \u001B[34m\u001B[1mAttempting to initiating 'Riemann^{a}_{b}_{c}_{q}' by equation from cached tensors.\u001B[0m\n",
      "\u001B[32m2024-08-26 13:41:08.858\u001B[0m | \u001B[34m\u001B[1mDEBUG   \u001B[0m | \u001B[36mrelativisticpy.state.scopes\u001B[0m:\u001B[36mset_tensor\u001B[0m:\u001B[36m184\u001B[0m - \u001B[34m\u001B[1mCaching new tensor 'Riemann' with components '[[[[0, 0, 0, 0], [0, 0, 0, 0], [0, 0, 0, 0], [0, 0, 0, 0]], [[0, -0.25*c**4*r**2*(-1/r - (2*G*M - c**2*r)/(c**2*r**2))**2/(-2*G*M + c**2*r)**2 - 0.5*c**4*r*(-1/r - (2*G*M - c**2*r)/(c**2*r**2))/(-2*G*M + c**2*r)**2 + 0.5*c**2*r*(2/r**2 + 2*(2*G*M - c**2*r)/(c**2*r**3))/(-2*G*M + c**2*r) + 0.5*c**2*(-1/r - (2*G*M - c**2*r)/(c**2*r**2))/(-2*G*M + c**2*r) - 0.25*(-1/r - (2*G*M - c**2*r)/(c**2*r**2))*(-c**4*r/(-2*G*M + c**2*r)**2 + c**2/(-2*G*M + c**2*r)), 0, 0], [0.25*c**4*r**2*(-1/r - (2*G*M - c**2*r)/(c**2*r**2))**2/(-2*G*M + c**2*r)**2 + 0.5*c**4*r*(-1/r - (2*G*M - c**2*r)/(c**2*r**2))/(-2*G*M + c**2*r)**2 - 0.5*c**2*r*(2/r**2 + 2*(2*G*M - c**2*r)/(c**2*r**3))/(-2*G*M + c**2*r) - 0.5*c**2*(-1/r - (2*G*M - c**2*r)/(c**2*r**2))/(-2*G*M + c**2*r) + 0.25*(-1/r - (2*G*M - c**2*r)/(c**2*r**2))*(-c**4*r/(-2*G*M + c**2*r)**2 + c**2/(-2*G*M + c**2*r)), 0, 0, 0], [0, 0, 0, 0], [0, 0, 0, 0]], [[0, 0, 0.5*r*(-1/r - (2*G*M - c**2*r)/(c**2*r**2)), 0], [0, 0, 0, 0], [-0.5*r*(-1/r - (2*G*M - c**2*r)/(c**2*r**2)), 0, 0, 0], [0, 0, 0, 0]], [[0, 0, 0, 0.5*r*(-1/r - (2*G*M - c**2*r)/(c**2*r**2))*sin(theta)**2], [0, 0, 0, 0], [0, 0, 0, 0], [-0.5*r*(-1/r - (2*G*M - c**2*r)/(c**2*r**2))*sin(theta)**2, 0, 0, 0]]], [[[0, -0.25*(-1/r - (2*G*M - c**2*r)/(c**2*r**2))*(1/r + (2*G*M - c**2*r)/(c**2*r**2)) - 0.5*(1/r + (2*G*M - c**2*r)/(c**2*r**2))/r - 0.5*(-2/r**2 - 2*(2*G*M - c**2*r)/(c**2*r**3))*(-2*G*M + c**2*r)/(c**2*r) + 0.5*(1/r + (2*G*M - c**2*r)/(c**2*r**2))*(-2*G*M + c**2*r)/(c**2*r**2) - 0.25*(1/r + (2*G*M - c**2*r)/(c**2*r**2))*(-2*G*M + c**2*r)**2*(-c**4*r/(-2*G*M + c**2*r)**2 + c**2/(-2*G*M + c**2*r))/(c**4*r**2), 0, 0], [0.25*(-1/r - (2*G*M - c**2*r)/(c**2*r**2))*(1/r + (2*G*M - c**2*r)/(c**2*r**2)) + 0.5*(1/r + (2*G*M - c**2*r)/(c**2*r**2))/r + 0.5*(-2/r**2 - 2*(2*G*M - c**2*r)/(c**2*r**3))*(-2*G*M + c**2*r)/(c**2*r) - 0.5*(1/r + (2*G*M - c**2*r)/(c**2*r**2))*(-2*G*M + c**2*r)/(c**2*r**2) + 0.25*(1/r + (2*G*M - c**2*r)/(c**2*r**2))*(-2*G*M + c**2*r)**2*(-c**4*r/(-2*G*M + c**2*r)**2 + c**2/(-2*G*M + c**2*r))/(c**4*r**2), 0, 0, 0], [0, 0, 0, 0], [0, 0, 0, 0]], [[0, 0, 0, 0], [0, 0, 0, 0], [0, 0, 0, 0], [0, 0, 0, 0]], [[0, 0, 0, 0], [0, 0, -1.0 + 1.0*(-2*G*M + c**2*r)/(c**2*r) - 0.5*(-2*G*M + c**2*r)**2*(-c**4*r/(-2*G*M + c**2*r)**2 + c**2/(-2*G*M + c**2*r))/(c**4*r), 0], [0, 1.0 - 1.0*(-2*G*M + c**2*r)/(c**2*r) + 0.5*(-2*G*M + c**2*r)**2*(-c**4*r/(-2*G*M + c**2*r)**2 + c**2/(-2*G*M + c**2*r))/(c**4*r), 0, 0], [0, 0, 0, 0]], [[0, 0, 0, 0], [0, 0, 0, -1.0*sin(theta)**2 + 1.0*(-2*G*M + c**2*r)*sin(theta)**2/(c**2*r) - 0.5*(-2*G*M + c**2*r)**2*(-c**4*r/(-2*G*M + c**2*r)**2 + c**2/(-2*G*M + c**2*r))*sin(theta)**2/(c**4*r)], [0, 0, 0, 0], [0, 1.0*sin(theta)**2 - 1.0*(-2*G*M + c**2*r)*sin(theta)**2/(c**2*r) + 0.5*(-2*G*M + c**2*r)**2*(-c**4*r/(-2*G*M + c**2*r)**2 + c**2/(-2*G*M + c**2*r))*sin(theta)**2/(c**4*r), 0, 0]]], [[[0, 0, -0.5*(1/r + (2*G*M - c**2*r)/(c**2*r**2))*(-2*G*M + c**2*r)/(c**2*r**2), 0], [0, 0, 0, 0], [0.5*(1/r + (2*G*M - c**2*r)/(c**2*r**2))*(-2*G*M + c**2*r)/(c**2*r**2), 0, 0, 0], [0, 0, 0, 0]], [[0, 0, 0, 0], [0, 0, -0.5*(-2*G*M + c**2*r)*(-c**4*r/(-2*G*M + c**2*r)**2 + c**2/(-2*G*M + c**2*r))/(c**2*r**2), 0], [0, 0.5*(-2*G*M + c**2*r)*(-c**4*r/(-2*G*M + c**2*r)**2 + c**2/(-2*G*M + c**2*r))/(c**2*r**2), 0, 0], [0, 0, 0, 0]], [[0, 0, 0, 0], [0, 0, 0, 0], [0, 0, 0, 0], [0, 0, 0, 0]], [[0, 0, 0, 0], [0, 0, 0, 0], [0, 0, 0, 1.0*sin(theta)**2 - 1.0*(-2*G*M + c**2*r)*sin(theta)**2/(c**2*r)], [0, 0, -1.0*sin(theta)**2 + 1.0*(-2*G*M + c**2*r)*sin(theta)**2/(c**2*r), 0]]], [[[0, 0, 0, -0.5*(1/r + (2*G*M - c**2*r)/(c**2*r**2))*(-2*G*M + c**2*r)/(c**2*r**2)], [0, 0, 0, 0], [0, 0, 0, 0], [0.5*(1/r + (2*G*M - c**2*r)/(c**2*r**2))*(-2*G*M + c**2*r)/(c**2*r**2), 0, 0, 0]], [[0, 0, 0, 0], [0, 0, 0, -0.5*(-2*G*M + c**2*r)*(-c**4*r/(-2*G*M + c**2*r)**2 + c**2/(-2*G*M + c**2*r))/(c**2*r**2)], [0, 0, 0, 0], [0, 0.5*(-2*G*M + c**2*r)*(-c**4*r/(-2*G*M + c**2*r)**2 + c**2/(-2*G*M + c**2*r))/(c**2*r**2), 0, 0]], [[0, 0, 0, 0], [0, 0, 0, 0], [0, 0, 0, -1.0 + 1.0*(-2*G*M + c**2*r)/(c**2*r)], [0, 0, 1.0 - 1.0*(-2*G*M + c**2*r)/(c**2*r), 0]], [[0, 0, 0, 0], [0, 0, 0, 0], [0, 0, 0, 0], [0, 0, 0, 0]]]]'\u001B[0m\n",
      "\u001B[32m2024-08-26 13:41:08.859\u001B[0m | \u001B[34m\u001B[1mDEBUG   \u001B[0m | \u001B[36mrelativisticpy.workbook.ast_visitor\u001B[0m:\u001B[36mmul\u001B[0m:\u001B[36m110\u001B[0m - \u001B[34m\u001B[1mMultiplying <relativisticpy.diffgeom.metric.Metric object at 0x114f005d0> * <relativisticpy.diffgeom.tensor.Tensor object at 0x114ea2790> at position TokenPosition(start_pos=Position(line=17, character=51), end_pos=Position(line=17, character=52))\u001B[0m\n",
      "\u001B[32m2024-08-26 13:41:09.031\u001B[0m | \u001B[34m\u001B[1mDEBUG   \u001B[0m | \u001B[36mrelativisticpy.workbook.ast_visitor\u001B[0m:\u001B[36mmul\u001B[0m:\u001B[36m110\u001B[0m - \u001B[34m\u001B[1mMultiplying <relativisticpy.diffgeom.metric.Metric object at 0x114f09390> * <relativisticpy.diffgeom.tensor.Tensor object at 0x114b54310> at position TokenPosition(start_pos=Position(line=17, character=39), end_pos=Position(line=17, character=40))\u001B[0m\n",
      "\u001B[32m2024-08-26 13:41:09.172\u001B[0m | \u001B[34m\u001B[1mDEBUG   \u001B[0m | \u001B[36mrelativisticpy.workbook.ast_visitor\u001B[0m:\u001B[36mmul\u001B[0m:\u001B[36m110\u001B[0m - \u001B[34m\u001B[1mMultiplying <relativisticpy.diffgeom.metric.Metric object at 0x114f2d350> * <relativisticpy.diffgeom.tensor.Tensor object at 0x114b4f050> at position TokenPosition(start_pos=Position(line=17, character=27), end_pos=Position(line=17, character=28))\u001B[0m\n",
      "\u001B[32m2024-08-26 13:41:09.375\u001B[0m | \u001B[34m\u001B[1mDEBUG   \u001B[0m | \u001B[36mrelativisticpy.state.scopes\u001B[0m:\u001B[36mset_tensor\u001B[0m:\u001B[36m184\u001B[0m - \u001B[34m\u001B[1mCaching new tensor 'TempOne' with components '[[[[0, 0, 0, 0], [0, 0, 0, 0], [0, 0, 0, 0], [0, 0, 0, 0]], [[0, (-2*G*M + c**2*r)*(0.25*c**4*r**2*(-1/r - (2*G*M - c**2*r)/(c**2*r**2))**2/(-2*G*M + c**2*r)**2 + 0.5*c**4*r*(-1/r - (2*G*M - c**2*r)/(c**2*r**2))/(-2*G*M + c**2*r)**2 - 0.5*c**2*r*(2/r**2 + 2*(2*G*M - c**2*r)/(c**2*r**3))/(-2*G*M + c**2*r) - 0.5*c**2*(-1/r - (2*G*M - c**2*r)/(c**2*r**2))/(-2*G*M + c**2*r) + 0.25*(-1/r - (2*G*M - c**2*r)/(c**2*r**2))*(-c**4*r/(-2*G*M + c**2*r)**2 + c**2/(-2*G*M + c**2*r)))/(c**2*r), 0, 0], [-(-2*G*M + c**2*r)*(0.25*c**4*r**2*(-1/r - (2*G*M - c**2*r)/(c**2*r**2))**2/(-2*G*M + c**2*r)**2 + 0.5*c**4*r*(-1/r - (2*G*M - c**2*r)/(c**2*r**2))/(-2*G*M + c**2*r)**2 - 0.5*c**2*r*(2/r**2 + 2*(2*G*M - c**2*r)/(c**2*r**3))/(-2*G*M + c**2*r) - 0.5*c**2*(-1/r - (2*G*M - c**2*r)/(c**2*r**2))/(-2*G*M + c**2*r) + 0.25*(-1/r - (2*G*M - c**2*r)/(c**2*r**2))*(-c**4*r/(-2*G*M + c**2*r)**2 + c**2/(-2*G*M + c**2*r)))/(c**2*r), 0, 0, 0], [0, 0, 0, 0], [0, 0, 0, 0]], [[0, 0, -0.5*c**2*(-1/r - (2*G*M - c**2*r)/(c**2*r**2))/(r**2*(-2*G*M + c**2*r)), 0], [0, 0, 0, 0], [0.5*c**2*(-1/r - (2*G*M - c**2*r)/(c**2*r**2))/(r**2*(-2*G*M + c**2*r)), 0, 0, 0], [0, 0, 0, 0]], [[0, 0, 0, -0.5*c**2*(-1/r - (2*G*M - c**2*r)/(c**2*r**2))/(r**2*(-2*G*M + c**2*r)*sin(theta)**2)], [0, 0, 0, 0], [0, 0, 0, 0], [0.5*c**2*(-1/r - (2*G*M - c**2*r)/(c**2*r**2))/(r**2*(-2*G*M + c**2*r)*sin(theta)**2), 0, 0, 0]]], [[[0, c**2*r*(-0.25*(-1/r - (2*G*M - c**2*r)/(c**2*r**2))*(1/r + (2*G*M - c**2*r)/(c**2*r**2)) - 0.5*(1/r + (2*G*M - c**2*r)/(c**2*r**2))/r - 0.5*(-2/r**2 - 2*(2*G*M - c**2*r)/(c**2*r**3))*(-2*G*M + c**2*r)/(c**2*r) + 0.5*(1/r + (2*G*M - c**2*r)/(c**2*r**2))*(-2*G*M + c**2*r)/(c**2*r**2) - 0.25*(1/r + (2*G*M - c**2*r)/(c**2*r**2))*(-2*G*M + c**2*r)**2*(-c**4*r/(-2*G*M + c**2*r)**2 + c**2/(-2*G*M + c**2*r))/(c**4*r**2))/(-2*G*M + c**2*r), 0, 0], [-c**2*r*(-0.25*(-1/r - (2*G*M - c**2*r)/(c**2*r**2))*(1/r + (2*G*M - c**2*r)/(c**2*r**2)) - 0.5*(1/r + (2*G*M - c**2*r)/(c**2*r**2))/r - 0.5*(-2/r**2 - 2*(2*G*M - c**2*r)/(c**2*r**3))*(-2*G*M + c**2*r)/(c**2*r) + 0.5*(1/r + (2*G*M - c**2*r)/(c**2*r**2))*(-2*G*M + c**2*r)/(c**2*r**2) - 0.25*(1/r + (2*G*M - c**2*r)/(c**2*r**2))*(-2*G*M + c**2*r)**2*(-c**4*r/(-2*G*M + c**2*r)**2 + c**2/(-2*G*M + c**2*r))/(c**4*r**2))/(-2*G*M + c**2*r), 0, 0, 0], [0, 0, 0, 0], [0, 0, 0, 0]], [[0, 0, 0, 0], [0, 0, 0, 0], [0, 0, 0, 0], [0, 0, 0, 0]], [[0, 0, 0, 0], [0, 0, (-2*G*M + c**2*r)*(-1.0 + 1.0*(-2*G*M + c**2*r)/(c**2*r) - 0.5*(-2*G*M + c**2*r)**2*(-c**4*r/(-2*G*M + c**2*r)**2 + c**2/(-2*G*M + c**2*r))/(c**4*r))/(c**2*r**5), 0], [0, (-2*G*M + c**2*r)*(1.0 - 1.0*(-2*G*M + c**2*r)/(c**2*r) + 0.5*(-2*G*M + c**2*r)**2*(-c**4*r/(-2*G*M + c**2*r)**2 + c**2/(-2*G*M + c**2*r))/(c**4*r))/(c**2*r**5), 0, 0], [0, 0, 0, 0]], [[0, 0, 0, 0], [0, 0, 0, (-2*G*M + c**2*r)*(-1.0*sin(theta)**2 + 1.0*(-2*G*M + c**2*r)*sin(theta)**2/(c**2*r) - 0.5*(-2*G*M + c**2*r)**2*(-c**4*r/(-2*G*M + c**2*r)**2 + c**2/(-2*G*M + c**2*r))*sin(theta)**2/(c**4*r))/(c**2*r**5*sin(theta)**4)], [0, 0, 0, 0], [0, (-2*G*M + c**2*r)*(1.0*sin(theta)**2 - 1.0*(-2*G*M + c**2*r)*sin(theta)**2/(c**2*r) + 0.5*(-2*G*M + c**2*r)**2*(-c**4*r/(-2*G*M + c**2*r)**2 + c**2/(-2*G*M + c**2*r))*sin(theta)**2/(c**4*r))/(c**2*r**5*sin(theta)**4), 0, 0]]], [[[0, 0, -0.5*c**2*(1/r + (2*G*M - c**2*r)/(c**2*r**2))/(r**2*(-2*G*M + c**2*r)), 0], [0, 0, 0, 0], [0.5*c**2*(1/r + (2*G*M - c**2*r)/(c**2*r**2))/(r**2*(-2*G*M + c**2*r)), 0, 0, 0], [0, 0, 0, 0]], [[0, 0, 0, 0], [0, 0, -0.5*(-2*G*M + c**2*r)**3*(-c**4*r/(-2*G*M + c**2*r)**2 + c**2/(-2*G*M + c**2*r))/(c**6*r**6), 0], [0, 0.5*(-2*G*M + c**2*r)**3*(-c**4*r/(-2*G*M + c**2*r)**2 + c**2/(-2*G*M + c**2*r))/(c**6*r**6), 0, 0], [0, 0, 0, 0]], [[0, 0, 0, 0], [0, 0, 0, 0], [0, 0, 0, 0], [0, 0, 0, 0]], [[0, 0, 0, 0], [0, 0, 0, 0], [0, 0, 0, (1.0*sin(theta)**2 - 1.0*(-2*G*M + c**2*r)*sin(theta)**2/(c**2*r))/(r**6*sin(theta)**4)], [0, 0, (-1.0*sin(theta)**2 + 1.0*(-2*G*M + c**2*r)*sin(theta)**2/(c**2*r))/(r**6*sin(theta)**4), 0]]], [[[0, 0, 0, -0.5*c**2*(1/r + (2*G*M - c**2*r)/(c**2*r**2))/(r**2*(-2*G*M + c**2*r)*sin(theta)**2)], [0, 0, 0, 0], [0, 0, 0, 0], [0.5*c**2*(1/r + (2*G*M - c**2*r)/(c**2*r**2))/(r**2*(-2*G*M + c**2*r)*sin(theta)**2), 0, 0, 0]], [[0, 0, 0, 0], [0, 0, 0, -0.5*(-2*G*M + c**2*r)**3*(-c**4*r/(-2*G*M + c**2*r)**2 + c**2/(-2*G*M + c**2*r))/(c**6*r**6*sin(theta)**2)], [0, 0, 0, 0], [0, 0.5*(-2*G*M + c**2*r)**3*(-c**4*r/(-2*G*M + c**2*r)**2 + c**2/(-2*G*M + c**2*r))/(c**6*r**6*sin(theta)**2), 0, 0]], [[0, 0, 0, 0], [0, 0, 0, 0], [0, 0, 0, (-1.0 + 1.0*(-2*G*M + c**2*r)/(c**2*r))/(r**6*sin(theta)**2)], [0, 0, (1.0 - 1.0*(-2*G*M + c**2*r)/(c**2*r))/(r**6*sin(theta)**2), 0]], [[0, 0, 0, 0], [0, 0, 0, 0], [0, 0, 0, 0], [0, 0, 0, 0]]]]'\u001B[0m\n",
      "\u001B[32m2024-08-26 13:41:09.376\u001B[0m | \u001B[34m\u001B[1mDEBUG   \u001B[0m | \u001B[36mrelativisticpy.state.scopes\u001B[0m:\u001B[36minit_tensor\u001B[0m:\u001B[36m263\u001B[0m - \u001B[34m\u001B[1mAttempting to initiating 'g_{a}_{n}' by equation from cached tensors.\u001B[0m\n",
      "\u001B[32m2024-08-26 13:41:09.377\u001B[0m | \u001B[34m\u001B[1mDEBUG   \u001B[0m | \u001B[36mrelativisticpy.state.scopes\u001B[0m:\u001B[36minit_tensor\u001B[0m:\u001B[36m266\u001B[0m - \u001B[34m\u001B[1mIdentified 'g_{a}_{n}' to be a Metric. Initializing Metric from Metric.\u001B[0m\n",
      "\u001B[32m2024-08-26 13:41:09.377\u001B[0m | \u001B[34m\u001B[1mDEBUG   \u001B[0m | \u001B[36mrelativisticpy.state.scopes\u001B[0m:\u001B[36mmetric_tensor\u001B[0m:\u001B[36m102\u001B[0m - \u001B[34m\u001B[1mFound 1 Metric Tensor Objects in scope.\u001B[0m\n",
      "\u001B[32m2024-08-26 13:41:09.378\u001B[0m | \u001B[34m\u001B[1mDEBUG   \u001B[0m | \u001B[36mrelativisticpy.state.scopes\u001B[0m:\u001B[36mmetric_tensor\u001B[0m:\u001B[36m103\u001B[0m - \u001B[34m\u001B[1mReturning <relativisticpy.diffgeom.metric.Metric object at 0x114bbc8d0>.\u001B[0m\n",
      "\u001B[32m2024-08-26 13:41:09.380\u001B[0m | \u001B[34m\u001B[1mDEBUG   \u001B[0m | \u001B[36mrelativisticpy.state.scopes\u001B[0m:\u001B[36mmetric_tensor\u001B[0m:\u001B[36m206\u001B[0m - \u001B[34m\u001B[1mFound metric tensor in scope with components: '[[-c**2*r/(-2*G*M + c**2*r), 0, 0, 0], [0, (-2*G*M + c**2*r)/(c**2*r), 0, 0], [0, 0, r**(-2), 0], [0, 0, 0, 1/(r**2*sin(theta)**2)]]'\u001B[0m\n",
      "\u001B[32m2024-08-26 13:41:09.380\u001B[0m | \u001B[34m\u001B[1mDEBUG   \u001B[0m | \u001B[36mrelativisticpy.state.scopes\u001B[0m:\u001B[36mmetric_tensor\u001B[0m:\u001B[36m102\u001B[0m - \u001B[34m\u001B[1mFound 1 Metric Tensor Objects in scope.\u001B[0m\n",
      "\u001B[32m2024-08-26 13:41:09.381\u001B[0m | \u001B[34m\u001B[1mDEBUG   \u001B[0m | \u001B[36mrelativisticpy.state.scopes\u001B[0m:\u001B[36mmetric_tensor\u001B[0m:\u001B[36m103\u001B[0m - \u001B[34m\u001B[1mReturning <relativisticpy.diffgeom.metric.Metric object at 0x114bbc8d0>.\u001B[0m\n",
      "\u001B[32m2024-08-26 13:41:09.535\u001B[0m | \u001B[34m\u001B[1mDEBUG   \u001B[0m | \u001B[36mrelativisticpy.state.scopes\u001B[0m:\u001B[36minit_tensor\u001B[0m:\u001B[36m271\u001B[0m - \u001B[34m\u001B[1mComputed components of 'g_{a}_{n}' to be: '[[(2*G*M - c**2*r)/(c**2*r), 0, 0, 0], [0, c**2*r/(-2*G*M + c**2*r), 0, 0], [0, 0, r**2, 0], [0, 0, 0, r**2*sin(theta)**2]]'\u001B[0m\n",
      "\u001B[32m2024-08-26 13:41:09.537\u001B[0m | \u001B[34m\u001B[1mDEBUG   \u001B[0m | \u001B[36mrelativisticpy.state.scopes\u001B[0m:\u001B[36mset_tensor\u001B[0m:\u001B[36m184\u001B[0m - \u001B[34m\u001B[1mCaching new tensor 'g' with components '[[(2*G*M - c**2*r)/(c**2*r), 0, 0, 0], [0, c**2*r/(-2*G*M + c**2*r), 0, 0], [0, 0, r**2, 0], [0, 0, 0, r**2*sin(theta)**2]]'\u001B[0m\n",
      "\u001B[32m2024-08-26 13:41:09.537\u001B[0m | \u001B[34m\u001B[1mDEBUG   \u001B[0m | \u001B[36mrelativisticpy.state.scopes\u001B[0m:\u001B[36minit_tensor\u001B[0m:\u001B[36m263\u001B[0m - \u001B[34m\u001B[1mAttempting to initiating 'Riemann^{n}_{f}_{h}_{s}' by equation from cached tensors.\u001B[0m\n",
      "\u001B[32m2024-08-26 13:41:09.576\u001B[0m | \u001B[34m\u001B[1mDEBUG   \u001B[0m | \u001B[36mrelativisticpy.state.scopes\u001B[0m:\u001B[36mset_tensor\u001B[0m:\u001B[36m184\u001B[0m - \u001B[34m\u001B[1mCaching new tensor 'Riemann' with components '[[[[0, 0, 0, 0], [0, 0, 0, 0], [0, 0, 0, 0], [0, 0, 0, 0]], [[0, -0.25*c**4*r**2*(-1/r - (2*G*M - c**2*r)/(c**2*r**2))**2/(-2*G*M + c**2*r)**2 - 0.5*c**4*r*(-1/r - (2*G*M - c**2*r)/(c**2*r**2))/(-2*G*M + c**2*r)**2 + 0.5*c**2*r*(2/r**2 + 2*(2*G*M - c**2*r)/(c**2*r**3))/(-2*G*M + c**2*r) + 0.5*c**2*(-1/r - (2*G*M - c**2*r)/(c**2*r**2))/(-2*G*M + c**2*r) - 0.25*(-1/r - (2*G*M - c**2*r)/(c**2*r**2))*(-c**4*r/(-2*G*M + c**2*r)**2 + c**2/(-2*G*M + c**2*r)), 0, 0], [0.25*c**4*r**2*(-1/r - (2*G*M - c**2*r)/(c**2*r**2))**2/(-2*G*M + c**2*r)**2 + 0.5*c**4*r*(-1/r - (2*G*M - c**2*r)/(c**2*r**2))/(-2*G*M + c**2*r)**2 - 0.5*c**2*r*(2/r**2 + 2*(2*G*M - c**2*r)/(c**2*r**3))/(-2*G*M + c**2*r) - 0.5*c**2*(-1/r - (2*G*M - c**2*r)/(c**2*r**2))/(-2*G*M + c**2*r) + 0.25*(-1/r - (2*G*M - c**2*r)/(c**2*r**2))*(-c**4*r/(-2*G*M + c**2*r)**2 + c**2/(-2*G*M + c**2*r)), 0, 0, 0], [0, 0, 0, 0], [0, 0, 0, 0]], [[0, 0, 0.5*r*(-1/r - (2*G*M - c**2*r)/(c**2*r**2)), 0], [0, 0, 0, 0], [-0.5*r*(-1/r - (2*G*M - c**2*r)/(c**2*r**2)), 0, 0, 0], [0, 0, 0, 0]], [[0, 0, 0, 0.5*r*(-1/r - (2*G*M - c**2*r)/(c**2*r**2))*sin(theta)**2], [0, 0, 0, 0], [0, 0, 0, 0], [-0.5*r*(-1/r - (2*G*M - c**2*r)/(c**2*r**2))*sin(theta)**2, 0, 0, 0]]], [[[0, -0.25*(-1/r - (2*G*M - c**2*r)/(c**2*r**2))*(1/r + (2*G*M - c**2*r)/(c**2*r**2)) - 0.5*(1/r + (2*G*M - c**2*r)/(c**2*r**2))/r - 0.5*(-2/r**2 - 2*(2*G*M - c**2*r)/(c**2*r**3))*(-2*G*M + c**2*r)/(c**2*r) + 0.5*(1/r + (2*G*M - c**2*r)/(c**2*r**2))*(-2*G*M + c**2*r)/(c**2*r**2) - 0.25*(1/r + (2*G*M - c**2*r)/(c**2*r**2))*(-2*G*M + c**2*r)**2*(-c**4*r/(-2*G*M + c**2*r)**2 + c**2/(-2*G*M + c**2*r))/(c**4*r**2), 0, 0], [0.25*(-1/r - (2*G*M - c**2*r)/(c**2*r**2))*(1/r + (2*G*M - c**2*r)/(c**2*r**2)) + 0.5*(1/r + (2*G*M - c**2*r)/(c**2*r**2))/r + 0.5*(-2/r**2 - 2*(2*G*M - c**2*r)/(c**2*r**3))*(-2*G*M + c**2*r)/(c**2*r) - 0.5*(1/r + (2*G*M - c**2*r)/(c**2*r**2))*(-2*G*M + c**2*r)/(c**2*r**2) + 0.25*(1/r + (2*G*M - c**2*r)/(c**2*r**2))*(-2*G*M + c**2*r)**2*(-c**4*r/(-2*G*M + c**2*r)**2 + c**2/(-2*G*M + c**2*r))/(c**4*r**2), 0, 0, 0], [0, 0, 0, 0], [0, 0, 0, 0]], [[0, 0, 0, 0], [0, 0, 0, 0], [0, 0, 0, 0], [0, 0, 0, 0]], [[0, 0, 0, 0], [0, 0, -1.0 + 1.0*(-2*G*M + c**2*r)/(c**2*r) - 0.5*(-2*G*M + c**2*r)**2*(-c**4*r/(-2*G*M + c**2*r)**2 + c**2/(-2*G*M + c**2*r))/(c**4*r), 0], [0, 1.0 - 1.0*(-2*G*M + c**2*r)/(c**2*r) + 0.5*(-2*G*M + c**2*r)**2*(-c**4*r/(-2*G*M + c**2*r)**2 + c**2/(-2*G*M + c**2*r))/(c**4*r), 0, 0], [0, 0, 0, 0]], [[0, 0, 0, 0], [0, 0, 0, -1.0*sin(theta)**2 + 1.0*(-2*G*M + c**2*r)*sin(theta)**2/(c**2*r) - 0.5*(-2*G*M + c**2*r)**2*(-c**4*r/(-2*G*M + c**2*r)**2 + c**2/(-2*G*M + c**2*r))*sin(theta)**2/(c**4*r)], [0, 0, 0, 0], [0, 1.0*sin(theta)**2 - 1.0*(-2*G*M + c**2*r)*sin(theta)**2/(c**2*r) + 0.5*(-2*G*M + c**2*r)**2*(-c**4*r/(-2*G*M + c**2*r)**2 + c**2/(-2*G*M + c**2*r))*sin(theta)**2/(c**4*r), 0, 0]]], [[[0, 0, -0.5*(1/r + (2*G*M - c**2*r)/(c**2*r**2))*(-2*G*M + c**2*r)/(c**2*r**2), 0], [0, 0, 0, 0], [0.5*(1/r + (2*G*M - c**2*r)/(c**2*r**2))*(-2*G*M + c**2*r)/(c**2*r**2), 0, 0, 0], [0, 0, 0, 0]], [[0, 0, 0, 0], [0, 0, -0.5*(-2*G*M + c**2*r)*(-c**4*r/(-2*G*M + c**2*r)**2 + c**2/(-2*G*M + c**2*r))/(c**2*r**2), 0], [0, 0.5*(-2*G*M + c**2*r)*(-c**4*r/(-2*G*M + c**2*r)**2 + c**2/(-2*G*M + c**2*r))/(c**2*r**2), 0, 0], [0, 0, 0, 0]], [[0, 0, 0, 0], [0, 0, 0, 0], [0, 0, 0, 0], [0, 0, 0, 0]], [[0, 0, 0, 0], [0, 0, 0, 0], [0, 0, 0, 1.0*sin(theta)**2 - 1.0*(-2*G*M + c**2*r)*sin(theta)**2/(c**2*r)], [0, 0, -1.0*sin(theta)**2 + 1.0*(-2*G*M + c**2*r)*sin(theta)**2/(c**2*r), 0]]], [[[0, 0, 0, -0.5*(1/r + (2*G*M - c**2*r)/(c**2*r**2))*(-2*G*M + c**2*r)/(c**2*r**2)], [0, 0, 0, 0], [0, 0, 0, 0], [0.5*(1/r + (2*G*M - c**2*r)/(c**2*r**2))*(-2*G*M + c**2*r)/(c**2*r**2), 0, 0, 0]], [[0, 0, 0, 0], [0, 0, 0, -0.5*(-2*G*M + c**2*r)*(-c**4*r/(-2*G*M + c**2*r)**2 + c**2/(-2*G*M + c**2*r))/(c**2*r**2)], [0, 0, 0, 0], [0, 0.5*(-2*G*M + c**2*r)*(-c**4*r/(-2*G*M + c**2*r)**2 + c**2/(-2*G*M + c**2*r))/(c**2*r**2), 0, 0]], [[0, 0, 0, 0], [0, 0, 0, 0], [0, 0, 0, -1.0 + 1.0*(-2*G*M + c**2*r)/(c**2*r)], [0, 0, 1.0 - 1.0*(-2*G*M + c**2*r)/(c**2*r), 0]], [[0, 0, 0, 0], [0, 0, 0, 0], [0, 0, 0, 0], [0, 0, 0, 0]]]]'\u001B[0m\n",
      "\u001B[32m2024-08-26 13:41:09.577\u001B[0m | \u001B[34m\u001B[1mDEBUG   \u001B[0m | \u001B[36mrelativisticpy.workbook.ast_visitor\u001B[0m:\u001B[36mmul\u001B[0m:\u001B[36m110\u001B[0m - \u001B[34m\u001B[1mMultiplying <relativisticpy.diffgeom.metric.Metric object at 0x114ea4d90> * <relativisticpy.diffgeom.tensor.Tensor object at 0x1147ad350> at position TokenPosition(start_pos=Position(line=19, character=27), end_pos=Position(line=19, character=28))\u001B[0m\n",
      "\u001B[32m2024-08-26 13:41:09.762\u001B[0m | \u001B[34m\u001B[1mDEBUG   \u001B[0m | \u001B[36mrelativisticpy.state.scopes\u001B[0m:\u001B[36mset_tensor\u001B[0m:\u001B[36m184\u001B[0m - \u001B[34m\u001B[1mCaching new tensor 'TempTwo' with components '[[[[0, 0, 0, 0], [0, 0, 0, 0], [0, 0, 0, 0], [0, 0, 0, 0]], [[0, (2*G*M - c**2*r)*(-0.25*c**4*r**2*(-1/r - (2*G*M - c**2*r)/(c**2*r**2))**2/(-2*G*M + c**2*r)**2 - 0.5*c**4*r*(-1/r - (2*G*M - c**2*r)/(c**2*r**2))/(-2*G*M + c**2*r)**2 + 0.5*c**2*r*(2/r**2 + 2*(2*G*M - c**2*r)/(c**2*r**3))/(-2*G*M + c**2*r) + 0.5*c**2*(-1/r - (2*G*M - c**2*r)/(c**2*r**2))/(-2*G*M + c**2*r) - 0.25*(-1/r - (2*G*M - c**2*r)/(c**2*r**2))*(-c**4*r/(-2*G*M + c**2*r)**2 + c**2/(-2*G*M + c**2*r)))/(c**2*r), 0, 0], [(2*G*M - c**2*r)*(0.25*c**4*r**2*(-1/r - (2*G*M - c**2*r)/(c**2*r**2))**2/(-2*G*M + c**2*r)**2 + 0.5*c**4*r*(-1/r - (2*G*M - c**2*r)/(c**2*r**2))/(-2*G*M + c**2*r)**2 - 0.5*c**2*r*(2/r**2 + 2*(2*G*M - c**2*r)/(c**2*r**3))/(-2*G*M + c**2*r) - 0.5*c**2*(-1/r - (2*G*M - c**2*r)/(c**2*r**2))/(-2*G*M + c**2*r) + 0.25*(-1/r - (2*G*M - c**2*r)/(c**2*r**2))*(-c**4*r/(-2*G*M + c**2*r)**2 + c**2/(-2*G*M + c**2*r)))/(c**2*r), 0, 0, 0], [0, 0, 0, 0], [0, 0, 0, 0]], [[0, 0, 0.5*(-1/r - (2*G*M - c**2*r)/(c**2*r**2))*(2*G*M - c**2*r)/c**2, 0], [0, 0, 0, 0], [-0.5*(-1/r - (2*G*M - c**2*r)/(c**2*r**2))*(2*G*M - c**2*r)/c**2, 0, 0, 0], [0, 0, 0, 0]], [[0, 0, 0, 0.5*(-1/r - (2*G*M - c**2*r)/(c**2*r**2))*(2*G*M - c**2*r)*sin(theta)**2/c**2], [0, 0, 0, 0], [0, 0, 0, 0], [-0.5*(-1/r - (2*G*M - c**2*r)/(c**2*r**2))*(2*G*M - c**2*r)*sin(theta)**2/c**2, 0, 0, 0]]], [[[0, c**2*r*(-0.25*(-1/r - (2*G*M - c**2*r)/(c**2*r**2))*(1/r + (2*G*M - c**2*r)/(c**2*r**2)) - 0.5*(1/r + (2*G*M - c**2*r)/(c**2*r**2))/r - 0.5*(-2/r**2 - 2*(2*G*M - c**2*r)/(c**2*r**3))*(-2*G*M + c**2*r)/(c**2*r) + 0.5*(1/r + (2*G*M - c**2*r)/(c**2*r**2))*(-2*G*M + c**2*r)/(c**2*r**2) - 0.25*(1/r + (2*G*M - c**2*r)/(c**2*r**2))*(-2*G*M + c**2*r)**2*(-c**4*r/(-2*G*M + c**2*r)**2 + c**2/(-2*G*M + c**2*r))/(c**4*r**2))/(-2*G*M + c**2*r), 0, 0], [c**2*r*(0.25*(-1/r - (2*G*M - c**2*r)/(c**2*r**2))*(1/r + (2*G*M - c**2*r)/(c**2*r**2)) + 0.5*(1/r + (2*G*M - c**2*r)/(c**2*r**2))/r + 0.5*(-2/r**2 - 2*(2*G*M - c**2*r)/(c**2*r**3))*(-2*G*M + c**2*r)/(c**2*r) - 0.5*(1/r + (2*G*M - c**2*r)/(c**2*r**2))*(-2*G*M + c**2*r)/(c**2*r**2) + 0.25*(1/r + (2*G*M - c**2*r)/(c**2*r**2))*(-2*G*M + c**2*r)**2*(-c**4*r/(-2*G*M + c**2*r)**2 + c**2/(-2*G*M + c**2*r))/(c**4*r**2))/(-2*G*M + c**2*r), 0, 0, 0], [0, 0, 0, 0], [0, 0, 0, 0]], [[0, 0, 0, 0], [0, 0, 0, 0], [0, 0, 0, 0], [0, 0, 0, 0]], [[0, 0, 0, 0], [0, 0, c**2*r*(-1.0 + 1.0*(-2*G*M + c**2*r)/(c**2*r) - 0.5*(-2*G*M + c**2*r)**2*(-c**4*r/(-2*G*M + c**2*r)**2 + c**2/(-2*G*M + c**2*r))/(c**4*r))/(-2*G*M + c**2*r), 0], [0, c**2*r*(1.0 - 1.0*(-2*G*M + c**2*r)/(c**2*r) + 0.5*(-2*G*M + c**2*r)**2*(-c**4*r/(-2*G*M + c**2*r)**2 + c**2/(-2*G*M + c**2*r))/(c**4*r))/(-2*G*M + c**2*r), 0, 0], [0, 0, 0, 0]], [[0, 0, 0, 0], [0, 0, 0, c**2*r*(-1.0*sin(theta)**2 + 1.0*(-2*G*M + c**2*r)*sin(theta)**2/(c**2*r) - 0.5*(-2*G*M + c**2*r)**2*(-c**4*r/(-2*G*M + c**2*r)**2 + c**2/(-2*G*M + c**2*r))*sin(theta)**2/(c**4*r))/(-2*G*M + c**2*r)], [0, 0, 0, 0], [0, c**2*r*(1.0*sin(theta)**2 - 1.0*(-2*G*M + c**2*r)*sin(theta)**2/(c**2*r) + 0.5*(-2*G*M + c**2*r)**2*(-c**4*r/(-2*G*M + c**2*r)**2 + c**2/(-2*G*M + c**2*r))*sin(theta)**2/(c**4*r))/(-2*G*M + c**2*r), 0, 0]]], [[[0, 0, -0.5*(1/r + (2*G*M - c**2*r)/(c**2*r**2))*(-2*G*M + c**2*r)/c**2, 0], [0, 0, 0, 0], [0.5*(1/r + (2*G*M - c**2*r)/(c**2*r**2))*(-2*G*M + c**2*r)/c**2, 0, 0, 0], [0, 0, 0, 0]], [[0, 0, 0, 0], [0, 0, -0.5*(-2*G*M + c**2*r)*(-c**4*r/(-2*G*M + c**2*r)**2 + c**2/(-2*G*M + c**2*r))/c**2, 0], [0, 0.5*(-2*G*M + c**2*r)*(-c**4*r/(-2*G*M + c**2*r)**2 + c**2/(-2*G*M + c**2*r))/c**2, 0, 0], [0, 0, 0, 0]], [[0, 0, 0, 0], [0, 0, 0, 0], [0, 0, 0, 0], [0, 0, 0, 0]], [[0, 0, 0, 0], [0, 0, 0, 0], [0, 0, 0, r**2*(1.0*sin(theta)**2 - 1.0*(-2*G*M + c**2*r)*sin(theta)**2/(c**2*r))], [0, 0, r**2*(-1.0*sin(theta)**2 + 1.0*(-2*G*M + c**2*r)*sin(theta)**2/(c**2*r)), 0]]], [[[0, 0, 0, -0.5*(1/r + (2*G*M - c**2*r)/(c**2*r**2))*(-2*G*M + c**2*r)*sin(theta)**2/c**2], [0, 0, 0, 0], [0, 0, 0, 0], [0.5*(1/r + (2*G*M - c**2*r)/(c**2*r**2))*(-2*G*M + c**2*r)*sin(theta)**2/c**2, 0, 0, 0]], [[0, 0, 0, 0], [0, 0, 0, -0.5*(-2*G*M + c**2*r)*(-c**4*r/(-2*G*M + c**2*r)**2 + c**2/(-2*G*M + c**2*r))*sin(theta)**2/c**2], [0, 0, 0, 0], [0, 0.5*(-2*G*M + c**2*r)*(-c**4*r/(-2*G*M + c**2*r)**2 + c**2/(-2*G*M + c**2*r))*sin(theta)**2/c**2, 0, 0]], [[0, 0, 0, 0], [0, 0, 0, 0], [0, 0, 0, r**2*(-1.0 + 1.0*(-2*G*M + c**2*r)/(c**2*r))*sin(theta)**2], [0, 0, r**2*(1.0 - 1.0*(-2*G*M + c**2*r)/(c**2*r))*sin(theta)**2, 0]], [[0, 0, 0, 0], [0, 0, 0, 0], [0, 0, 0, 0], [0, 0, 0, 0]]]]'\u001B[0m\n",
      "\u001B[32m2024-08-26 13:41:09.763\u001B[0m | \u001B[34m\u001B[1mDEBUG   \u001B[0m | \u001B[36mrelativisticpy.state.scopes\u001B[0m:\u001B[36minit_tensor\u001B[0m:\u001B[36m263\u001B[0m - \u001B[34m\u001B[1mAttempting to initiating 'TempOne^{a}^{f}^{h}^{s}' by equation from cached tensors.\u001B[0m\n",
      "\u001B[32m2024-08-26 13:41:09.767\u001B[0m | \u001B[34m\u001B[1mDEBUG   \u001B[0m | \u001B[36mrelativisticpy.state.scopes\u001B[0m:\u001B[36minit_tensor\u001B[0m:\u001B[36m263\u001B[0m - \u001B[34m\u001B[1mAttempting to initiating 'TempTwo_{a}_{f}_{h}_{s}' by equation from cached tensors.\u001B[0m\n",
      "\u001B[32m2024-08-26 13:41:09.771\u001B[0m | \u001B[34m\u001B[1mDEBUG   \u001B[0m | \u001B[36mrelativisticpy.workbook.ast_visitor\u001B[0m:\u001B[36mmul\u001B[0m:\u001B[36m110\u001B[0m - \u001B[34m\u001B[1mMultiplying <relativisticpy.diffgeom.tensor.Tensor object at 0x114ea05d0> * <relativisticpy.diffgeom.tensor.Tensor object at 0x114bbc8d0> at position TokenPosition(start_pos=Position(line=21, character=5), end_pos=Position(line=21, character=12))\u001B[0m\n"
     ]
    },
    {
     "data": {
      "text/plain": [
       "'48.0*G**2*M**2/(c**4*r**6)'"
      ]
     },
     "execution_count": 11,
     "metadata": {},
     "output_type": "execute_result"
    }
   ],
   "execution_count": 11
  },
  {
   "metadata": {
    "ExecuteTime": {
     "end_time": "2024-09-12T14:46:36.545628Z",
     "start_time": "2024-09-12T14:46:36.503813Z"
    }
   },
   "cell_type": "code",
   "source": [
    "from sympy import symbols, expand, factor, simplify\n",
    "\n",
    "wb = Workbook()\n",
    "\n",
    "# Define variables\n",
    "wb.expr(\"Coordinates := [t, r, theta, phi]\")\n",
    "wb.expr(\"Constants := [C, G]\")\n",
    "wb.expr(\"Integers := [n, m]\")\n",
    "wb.expr(\"Reals := [x, y]\")\n",
    "wb.expr(\"Complex := [z, w]\")\n",
    "\n",
    "assert wb.expr(\"t*r + theta*phi\") == symbols('t') * symbols('r') + symbols('theta') * symbols('phi')\n",
    "assert wb.expr(\"C*G + n*m\") == symbols('C', constant=True) * symbols('G', constant=True) + symbols('n',\n",
    "                                                                                                   integer=True) * symbols(\n",
    "    'm', integer=True)\n",
    "assert wb.expr(\"x**y + z*w\") == symbols('x', real=True) ** symbols('y', real=True) + symbols('z',\n",
    "                                                                                             complex=True) * symbols(\n",
    "    'w', complex=True)\n",
    "\n",
    "# Test calculations involving sympy functions\n",
    "assert wb.expr(\"expand((t + r)**2)\") == expand((symbols('t') + symbols('r')) ** 2)\n",
    "assert wb.expr(\"simplify((C + G)**2 - C**2 - 2*C*G - G**2)\") == simplify(\n",
    "    (symbols('C', constant=True) + symbols('G', constant=True)) ** 2 - symbols('C',\n",
    "                                                                               constant=True) ** 2 - 2 * symbols(\n",
    "        'C', constant=True) * symbols('G', constant=True) - symbols('G', constant=True) ** 2)\n",
    "assert wb.expr(\"factor(n**2 - 2*n*m + m**2)\") == factor(\n",
    "    symbols('n', integer=True) ** 2 - 2 * symbols('n', integer=True) * symbols('m', integer=True) + symbols('m',\n",
    "                                                                                                            integer=True) ** 2)\n",
    "res = wb.expr(\n",
    "    \"\"\"\n",
    "        piecewise(x) := { x**2, x > 0; -x, x <= 0 }\n",
    "        piecewise(2) * piecewise(-2)\n",
    "\"\"\"\n",
    ")\n",
    "res"
   ],
   "outputs": [
    {
     "data": {
      "text/plain": [
       "(m - n)**2"
      ],
      "text/latex": "$\\displaystyle \\left(m - n\\right)^{2}$"
     },
     "execution_count": 5,
     "metadata": {},
     "output_type": "execute_result"
    }
   ],
   "execution_count": 5
  },
  {
   "metadata": {
    "ExecuteTime": {
     "end_time": "2024-08-24T18:06:49.254599Z",
     "start_time": "2024-08-24T18:06:49.243388Z"
    }
   },
   "cell_type": "code",
   "source": [
    "from functools import singledispatchmethod\n",
    "\n",
    "class Animal:\n",
    "    @singledispatchmethod\n",
    "    @classmethod\n",
    "    def handle(cls, animal):\n",
    "        print(f\"[Animal] Handling an Animal: {animal.__class__.__name__}\")\n",
    "\n",
    "    @handle.register\n",
    "    @classmethod\n",
    "    def _(cls, animal: 'Mammal'):\n",
    "        print(f\"[Animal] Handling a Mammal: {animal.__class__.__name__}\")\n",
    "\n",
    "class Mammal(Animal):\n",
    "    @singledispatchmethod\n",
    "    @classmethod\n",
    "    def handle(cls, animal):\n",
    "        super().handle(animal)  # Optionally call the parent's handler\n",
    "        print(f\"[Mammal] Handling a Mammal: {animal.__class__.__name__}\")\n",
    "\n",
    "    @handle.register\n",
    "    @classmethod\n",
    "    def _(cls, animal: 'Dog'):\n",
    "        print(f\"[Mammal] Handling a Dog: {animal.__class__.__name__}\")\n",
    "\n",
    "    @handle.register\n",
    "    @classmethod\n",
    "    def _(cls, animal: 'Cat'):\n",
    "        print(f\"[Mammal] Handling a Cat: {animal.__class__.__name__}\")\n",
    "\n",
    "class Dog(Mammal):\n",
    "    @singledispatchmethod\n",
    "    @classmethod\n",
    "    def handle(cls, animal):\n",
    "        super().handle(animal)  # Optionally call the parent's handler\n",
    "        print(f\"[Dog] Handling a Dog: {animal.__class__.__name__}\")\n",
    "\n",
    "    @handle.register\n",
    "    @classmethod\n",
    "    def _(cls, animal: 'Bulldog'):\n",
    "        print(f\"[Dog] Handling a Bulldog: {animal.__class__.__name__}\")\n",
    "\n",
    "class Cat(Mammal):\n",
    "    @singledispatchmethod\n",
    "    @classmethod\n",
    "    def handle(cls, animal):\n",
    "        super().handle(animal)  # Optionally call the parent's handler\n",
    "        print(f\"[Cat] Handling a Cat: {animal.__class__.__name__}\")\n",
    "\n",
    "    @handle.register\n",
    "    @classmethod\n",
    "    def _(cls, animal: 'Siamese'):\n",
    "        print(f\"[Cat] Handling a Siamese: {animal.__class__.__name__}\")\n",
    "\n",
    "class Bulldog(Dog):\n",
    "    pass\n",
    "\n",
    "class Siamese(Cat):\n",
    "    pass\n",
    "\n",
    "# Example Usage\n",
    "generic_animal = Animal()\n",
    "mammal = Mammal()\n",
    "dog = Dog()\n",
    "cat = Cat()\n",
    "bulldog = Bulldog()\n",
    "siamese = Siamese()\n",
    "\n",
    "print(\"Animal handling:\")\n",
    "Animal.handle(generic_animal)  # Output: [Animal] Handling an Animal: Animal\n",
    "\n",
    "print(\"\\nMammal handling:\")\n",
    "Mammal.handle(mammal)          # Output: [Animal] Handling a Mammal: qa\n",
    "\n",
    "print(\"\\nDog handling:\")\n",
    "Dog.handle(dog)                # Output: [Animal] Handling a Dog: Dog\n",
    "                               #         [Mammal] Handling a Dog: Dog\n",
    "                               #         [Dog] Handling a Dog: Dog\n",
    "\n",
    "print(\"\\nCat handling:\")\n",
    "Cat.handle(cat)                # Output: [Animal] Handling a Cat: Cat\n",
    "                               #         [Mammal] Handling a Cat: Cat\n",
    "                               #         [Cat] Handling a Cat: Cat\n",
    "\n",
    "print(\"\\nBulldog handling:\")\n",
    "Dog.handle(bulldog)            # Output: [Animal] Handling a Bulldog: Bulldog\n",
    "                               #         [Mammal] Handling a Bulldog: Bulldog\n",
    "                               #         [Dog] Handling a Bulldog: Bulldog\n",
    "\n",
    "print(\"\\nSiamese handling:\")\n",
    "Cat.handle(siamese)            # Output: [Animal] Handling a Siamese: Siamese\n",
    "                               #         [Mammal] Handling a Siamese: Siamese\n",
    "                               #         [Cat] Handling a Siamese: Siamese\n"
   ],
   "outputs": [
    {
     "name": "stdout",
     "output_type": "stream",
     "text": [
      "Animal handling:\n",
      "[Animal] Handling an Animal: Animal\n",
      "\n",
      "Mammal handling:\n",
      "[Animal] Handling an Animal: Mammal\n",
      "[Mammal] Handling a Mammal: Mammal\n",
      "\n",
      "Dog handling:\n",
      "[Animal] Handling an Animal: Dog\n",
      "[Mammal] Handling a Mammal: Dog\n",
      "[Dog] Handling a Dog: Dog\n",
      "\n",
      "Cat handling:\n",
      "[Animal] Handling an Animal: Cat\n",
      "[Mammal] Handling a Mammal: Cat\n",
      "[Cat] Handling a Cat: Cat\n",
      "\n",
      "Bulldog handling:\n",
      "[Animal] Handling an Animal: Bulldog\n",
      "[Mammal] Handling a Mammal: Bulldog\n",
      "[Dog] Handling a Dog: Bulldog\n",
      "\n",
      "Siamese handling:\n",
      "[Animal] Handling an Animal: Siamese\n",
      "[Mammal] Handling a Mammal: Siamese\n",
      "[Cat] Handling a Cat: Siamese\n"
     ]
    }
   ],
   "execution_count": 12
  },
  {
   "metadata": {},
   "cell_type": "code",
   "outputs": [],
   "execution_count": null,
   "source": ""
  },
  {
   "metadata": {
    "ExecuteTime": {
     "end_time": "2024-07-13T14:44:25.539688Z",
     "start_time": "2024-07-13T14:44:25.536469Z"
    }
   },
   "cell_type": "code",
   "source": [
    "from loguru import logger\n",
    "\n",
    "logger.debug(\"Hello\", level=\"INFO\")"
   ],
   "outputs": [],
   "execution_count": 8
  },
  {
   "metadata": {
    "ExecuteTime": {
     "end_time": "2024-08-10T16:06:49.651843Z",
     "start_time": "2024-08-10T16:06:49.646823Z"
    }
   },
   "cell_type": "code",
   "source": [
    "\n",
    "eval('str')"
   ],
   "outputs": [
    {
     "data": {
      "text/plain": [
       "str"
      ]
     },
     "execution_count": 65,
     "metadata": {},
     "output_type": "execute_result"
    }
   ],
   "execution_count": 65
  },
  {
   "metadata": {
    "ExecuteTime": {
     "end_time": "2024-08-10T15:45:37.255870Z",
     "start_time": "2024-08-10T15:45:37.253050Z"
    }
   },
   "cell_type": "code",
   "source": [
    "from pathlib import Path\n",
    "\n",
    "Path('/Users/ashleycottrell/code/repositories/relativisticpy/examples/alice.txt')"
   ],
   "outputs": [
    {
     "data": {
      "text/plain": [
       "'.txt'"
      ]
     },
     "execution_count": 63,
     "metadata": {},
     "output_type": "execute_result"
    }
   ],
   "execution_count": 63
  },
  {
   "metadata": {
    "ExecuteTime": {
     "end_time": "2024-07-13T17:19:35.218832Z",
     "start_time": "2024-07-13T17:19:35.209419Z"
    }
   },
   "cell_type": "code",
   "source": [
    "import heapq\n",
    "from collections import defaultdict\n",
    "\n",
    "class Node:\n",
    "    def __init__(self, symbol, weight):\n",
    "        self.symbol = symbol\n",
    "        self.weight = weight\n",
    "        self.left = None\n",
    "        self.right = None\n",
    "\n",
    "    def __lt__(self, other):\n",
    "        return self.weight < other.weight\n",
    "\n",
    "    def __eq__(self, other):\n",
    "        return self.weight == other.weight\n",
    "    \n",
    "    def __add__(self, other):\n",
    "        if not isinstance(other, Node):\n",
    "            return NotImplemented\n",
    "        elif self.symbol == other.symbol:\n",
    "            return self.weight + other.weight\n",
    "        else:\n",
    "            return NotImplemented\n",
    "\n",
    "class CustomDict(dict):\n",
    "    def __missing__(self, symbol):\n",
    "        self[symbol] = Node(symbol, 1)\n",
    "        return Node(symbol, 1)\n",
    "\n",
    "def huffman_encode(data):\n",
    "    # Step a: Frequency table\n",
    "    frequency = defaultdict(int)\n",
    "    for char in data:\n",
    "        frequency[char] += 1\n",
    "    \n",
    "    # Priority queue to build the Huffman Tree\n",
    "    heap = [[weight, [symbol, \"\"]] for symbol, weight in frequency.items()]\n",
    "    heapq.heapify(heap)\n",
    "    \n",
    "    # Step b: Huffman Tree \n",
    "    while len(heap) > 1:\n",
    "        lo = heapq.heappop(heap)\n",
    "        print(lo)\n",
    "        hi = heapq.heappop(heap)\n",
    "        print(hi)\n",
    "        for pair in lo[1:]:\n",
    "            pair[1] = '0' + pair[1]\n",
    "        for pair in hi[1:]:\n",
    "            pair[1] = '1' + pair[1]\n",
    "        heapq.heappush(heap, [lo[0] + hi[0]] + lo[1:] + hi[1:])\n",
    "        print([lo[0] + hi[0]] + lo[1:] + hi[1:])\n",
    "    \n",
    "    # Step c: Huffman codes\n",
    "    huffman_codes = {pair[0]: pair[1] for pair in heap[0][1:]}\n",
    "    \n",
    "    # Step e: Encoding\n",
    "    output = \"\".join(huffman_codes[char] for char in data)\n",
    "    return output, huffman_codes\n",
    "\n",
    "# Example usage\n",
    "data = \"this is an example for huffman encoding\"\n",
    "encoded_data, codes = huffman_encode(data)\n",
    "print(\"Encoded Data:\", encoded_data)\n",
    "print(\"Huffman Codes:\", codes)\n",
    "encoded_data"
   ],
   "outputs": [
    {
     "name": "stdout",
     "output_type": "stream",
     "text": [
      "[1, ['c', '']]\n",
      "[1, ['d', '']]\n",
      "[2, ['c', '0'], ['d', '1']]\n",
      "[1, ['g', '']]\n",
      "[1, ['l', '']]\n",
      "[2, ['g', '0'], ['l', '1']]\n",
      "[1, ['p', '']]\n",
      "[1, ['r', '']]\n",
      "[2, ['p', '0'], ['r', '1']]\n",
      "[1, ['t', '']]\n",
      "[1, ['u', '']]\n",
      "[2, ['t', '0'], ['u', '1']]\n",
      "[1, ['x', '']]\n",
      "[2, ['c', '0'], ['d', '1']]\n",
      "[3, ['x', '0'], ['c', '10'], ['d', '11']]\n",
      "[2, ['g', '0'], ['l', '1']]\n",
      "[2, ['h', '']]\n",
      "[4, ['g', '00'], ['l', '01'], ['h', '1']]\n",
      "[2, ['m', '']]\n",
      "[2, ['o', '']]\n",
      "[4, ['m', '0'], ['o', '1']]\n",
      "[2, ['p', '0'], ['r', '1']]\n",
      "[2, ['s', '']]\n",
      "[4, ['p', '00'], ['r', '01'], ['s', '1']]\n",
      "[2, ['t', '0'], ['u', '1']]\n",
      "[3, ['a', '']]\n",
      "[5, ['t', '00'], ['u', '01'], ['a', '1']]\n",
      "[3, ['e', '']]\n",
      "[3, ['f', '']]\n",
      "[6, ['e', '0'], ['f', '1']]\n",
      "[3, ['i', '']]\n",
      "[3, ['x', '0'], ['c', '10'], ['d', '11']]\n",
      "[6, ['i', '0'], ['x', '10'], ['c', '110'], ['d', '111']]\n",
      "[4, ['g', '00'], ['l', '01'], ['h', '1']]\n",
      "[4, ['m', '0'], ['o', '1']]\n",
      "[8, ['g', '000'], ['l', '001'], ['h', '01'], ['m', '10'], ['o', '11']]\n",
      "[4, ['n', '']]\n",
      "[4, ['p', '00'], ['r', '01'], ['s', '1']]\n",
      "[8, ['n', '0'], ['p', '100'], ['r', '101'], ['s', '11']]\n",
      "[5, ['t', '00'], ['u', '01'], ['a', '1']]\n",
      "[6, [' ', '']]\n",
      "[11, ['t', '000'], ['u', '001'], ['a', '01'], [' ', '1']]\n",
      "[6, ['e', '0'], ['f', '1']]\n",
      "[6, ['i', '0'], ['x', '10'], ['c', '110'], ['d', '111']]\n",
      "[12, ['e', '00'], ['f', '01'], ['i', '10'], ['x', '110'], ['c', '1110'], ['d', '1111']]\n",
      "[8, ['g', '000'], ['l', '001'], ['h', '01'], ['m', '10'], ['o', '11']]\n",
      "[8, ['n', '0'], ['p', '100'], ['r', '101'], ['s', '11']]\n",
      "[16, ['g', '0000'], ['l', '0001'], ['h', '001'], ['m', '010'], ['o', '011'], ['n', '10'], ['p', '1100'], ['r', '1101'], ['s', '111']]\n",
      "[11, ['t', '000'], ['u', '001'], ['a', '01'], [' ', '1']]\n",
      "[12, ['e', '00'], ['f', '01'], ['i', '10'], ['x', '110'], ['c', '1110'], ['d', '1111']]\n",
      "[23, ['t', '0000'], ['u', '0001'], ['a', '001'], [' ', '01'], ['e', '100'], ['f', '101'], ['i', '110'], ['x', '1110'], ['c', '11110'], ['d', '11111']]\n",
      "[16, ['g', '0000'], ['l', '0001'], ['h', '001'], ['m', '010'], ['o', '011'], ['n', '10'], ['p', '1100'], ['r', '1101'], ['s', '111']]\n",
      "[23, ['t', '0000'], ['u', '0001'], ['a', '001'], [' ', '01'], ['e', '100'], ['f', '101'], ['i', '110'], ['x', '1110'], ['c', '11110'], ['d', '11111']]\n",
      "[39, ['g', '00000'], ['l', '00001'], ['h', '0001'], ['m', '0010'], ['o', '0011'], ['n', '010'], ['p', '01100'], ['r', '01101'], ['s', '0111'], ['t', '10000'], ['u', '10001'], ['a', '1001'], [' ', '101'], ['e', '1100'], ['f', '1101'], ['i', '1110'], ['x', '11110'], ['c', '111110'], ['d', '111111']]\n",
      "Encoded Data: 1000000011110011110111100111101100101010111001111010010010011000000111001011101001101101101000110001110111010010100101010111000101111100011111111111001000000\n",
      "Huffman Codes: {'g': '00000', 'l': '00001', 'h': '0001', 'm': '0010', 'o': '0011', 'n': '010', 'p': '01100', 'r': '01101', 's': '0111', 't': '10000', 'u': '10001', 'a': '1001', ' ': '101', 'e': '1100', 'f': '1101', 'i': '1110', 'x': '11110', 'c': '111110', 'd': '111111'}\n"
     ]
    },
    {
     "data": {
      "text/plain": [
       "'1000000011110011110111100111101100101010111001111010010010011000000111001011101001101101101000110001110111010010100101010111000101111100011111111111001000000'"
      ]
     },
     "execution_count": 284,
     "metadata": {},
     "output_type": "execute_result"
    }
   ],
   "execution_count": 284
  },
  {
   "metadata": {
    "ExecuteTime": {
     "end_time": "2024-07-13T16:23:23.406392Z",
     "start_time": "2024-07-13T16:23:23.398845Z"
    }
   },
   "cell_type": "code",
   "source": [
    "encoded_data, codes = huffman_encode(encoded_data)\n",
    "print(\"Encoded Data:\", encoded_data)\n",
    "print(\"Huffman Codes:\", codes)"
   ],
   "outputs": [
    {
     "name": "stdout",
     "output_type": "stream",
     "text": [
      "Encoded Data: 1000000011110011110111100111101100101010111001111010010010011000000111001011101001101101101000110001110111010010100101010111000101111100011111111111001000000\n",
      "Huffman Codes: {'0': '0', '1': '1'}\n"
     ]
    }
   ],
   "execution_count": 205
  },
  {
   "metadata": {
    "ExecuteTime": {
     "end_time": "2024-07-13T18:21:09.134926Z",
     "start_time": "2024-07-13T18:21:08.964851Z"
    }
   },
   "cell_type": "code",
   "source": [
    "import json\n",
    "import heapq\n",
    "\n",
    "class HuffmanNode:\n",
    "    \n",
    "    def __init__(self, weight, symbol: str = None):\n",
    "        self.symbol = symbol\n",
    "        self.weight = weight\n",
    "        self.parent = None\n",
    "        self.p_pointer: str = \"\"\n",
    "        self.left = None\n",
    "        self.right = None\n",
    "    \n",
    "    @property\n",
    "    def is_leaf(self):\n",
    "        return self.left is None and self.right is None\n",
    "    \n",
    "    @property\n",
    "    def is_root(self):\n",
    "        return self.parent is None\n",
    "\n",
    "    def __lt__(self, other):\n",
    "        return self.weight < other.weight\n",
    "\n",
    "    def __eq__(self, other):\n",
    "        return self.weight == other.weight\n",
    "    \n",
    "    def __add__(self, other):\n",
    "        if isinstance(other, HuffmanNode):\n",
    "            parent = HuffmanNode(weight=self.weight + other.weight)\n",
    "            self.p_pointer = \"0\"\n",
    "            other.p_pointer = \"1\"\n",
    "            self.parent = parent\n",
    "            other.parent = parent\n",
    "            parent.left = self\n",
    "            parent.right = other\n",
    "            return parent\n",
    "\n",
    "    # Existing code...\n",
    "    def increment_weight(self):\n",
    "        self.weight += 1\n",
    "        \n",
    "    @property\n",
    "    def code(self):\n",
    "        if not self.is_leaf:\n",
    "            return None\n",
    "        code = \"\"\n",
    "        node = self\n",
    "        while node.parent:\n",
    "            code = code + node.p_pointer\n",
    "            node = node.parent        \n",
    "        return code[::-1]\n",
    "\n",
    "\n",
    "class HuffmanTree(dict):\n",
    "    \n",
    "    def __init__(self):\n",
    "        super().__init__()\n",
    "        self.original_data = None\n",
    "        self.encoded_data = None\n",
    "    \n",
    "    def __missing__(self, symbol):\n",
    "        self[symbol] = HuffmanNode(0, symbol)\n",
    "        return self[symbol]\n",
    "\n",
    "    def huffman_decode(self):\n",
    "        # Step a: Reverse the Huffman codes\n",
    "        reverse_codes = {v: k for k, v in self.codes.items()}\n",
    "        data = self.encoded_data\n",
    "        # Step b: Decoding\n",
    "        current_code = \"\"\n",
    "        decoded_data = \"\"\n",
    "        for bit in data:\n",
    "            current_code += bit\n",
    "            if current_code in reverse_codes:\n",
    "                decoded_data += reverse_codes[current_code]\n",
    "                current_code = \"\"\n",
    "    \n",
    "        return decoded_data\n",
    "\n",
    "    @classmethod\n",
    "    def compress_string(cls, data: str):\n",
    "        d = cls()\n",
    "        d.original_data = data\n",
    "        for char in data:\n",
    "            d[char].increment_weight()\n",
    "        \n",
    "        heap = [n for c, n in d.items()]\n",
    "        heapq.heapify(heap)\n",
    "\n",
    "        while len(heap) > 1:\n",
    "            lo = heapq.heappop(heap)\n",
    "            hi = heapq.heappop(heap)\n",
    "            parent = lo + hi\n",
    "            heapq.heappush(heap, parent)\n",
    "        d.encoded_data = \"\".join(d[symbol].code for symbol in d.original_data)\n",
    "        return d\n",
    "    \n",
    "    @property\n",
    "    def codes(self):\n",
    "        return {k: v.code for k, v in self.items()}\n",
    "\n",
    "\n",
    "    @classmethod\n",
    "    def from_file(cls, file_path):\n",
    "        with open(file_path, 'r', encoding='utf-8') as file:\n",
    "            data = file.read()\n",
    "        return cls.compress_string(data)\n",
    "    \n",
    "    def save_to_file(self, data_file, metadata_file):\n",
    "        # Save encoded data with a simple encoding map\n",
    "        encoded_info = {\n",
    "            'encoded_data_location': data_file,\n",
    "            'huffman_tree': self.serialize_tree(),\n",
    "            'original_length': len(self.original_data)\n",
    "        }\n",
    "        with open(metadata_file, 'w', encoding='utf-8') as file:\n",
    "            json.dump(encoded_info, file)\n",
    "        \n",
    "        self.write_binary_data(data_file, self.encoded_data)\n",
    "\n",
    "    def write_binary_data(self, filename, binary_string):\n",
    "        # Convert a string of '0' and '1' to a bytes object\n",
    "        byte_array = bytearray()\n",
    "        \n",
    "        # Process each 8 bits (1 byte) at a time\n",
    "        for i in range(0, len(binary_string), 8):\n",
    "            # Convert the string of bits to an integer and then to a byte\n",
    "            byte = int(binary_string[i:i+8], 2)\n",
    "            byte_array.append(byte)\n",
    "        \n",
    "        # Write the byte array to a file\n",
    "        with open(filename, 'wb') as file:  # 'wb' mode opens the file in binary write mode\n",
    "            file.write(byte_array)\n",
    "    \n",
    "    def serialize_tree(self):\n",
    "        # Serialize the Huffman tree to a list of tuples (symbol, code)\n",
    "        return [(symbol, node.code) for symbol, node in self.items() if node.is_leaf]\n",
    "\n",
    "    @classmethod\n",
    "    def decode_from_file(cls, file_path):\n",
    "        with open(file_path, 'r', encoding='utf-8') as file:\n",
    "            encoded_info = json.load(file)\n",
    "        \n",
    "        # Rebuild the Huffman tree from the serialized data\n",
    "        huffman_tree = cls()\n",
    "        for symbol, code in encoded_info['huffman_tree']:\n",
    "            current_node = huffman_tree.tree_root if huffman_tree.tree_root else HuffmanNode(0)\n",
    "            for char in code:\n",
    "                if char == '0':\n",
    "                    if not current_node.left:\n",
    "                        current_node.left = HuffmanNode(0)\n",
    "                    current_node = current_node.left\n",
    "                elif char == '1':\n",
    "                    if not current_node.right:\n",
    "                        current_node.right = HuffmanNode(0)\n",
    "                    current_node = current_node.right\n",
    "            current_node.symbol = symbol  # Set leaf node\n",
    "            if not huffman_tree.tree_root:\n",
    "                huffman_tree.tree_root = current_node  # Set root if not set\n",
    "        \n",
    "        # Set encoded data and decode\n",
    "        huffman_tree.encoded_data = encoded_info['encoded_data']\n",
    "        return huffman_tree.huffman_decode()\n",
    "\n",
    "    # Existing compress_string, huffman_decode, etc.\n",
    "\n",
    "# Example usage\n",
    "data_file_path = '/Users/ashleycottrell/code/repositories/relativisticpy/examples/alice.txt'  # File containing the text to be compressed\n",
    "metadata_file_path = '/Users/ashleycottrell/code/repositories/relativisticpy/examples/compressed_alice.txt'  # File to save the compressed data\n",
    "comp_data_file_path = '/Users/ashleycottrell/code/repositories/relativisticpy/examples/comp_alice_bytes.huff'\n",
    "decoded_output_path = '/Users/ashleycottrell/code/repositories/relativisticpy/examples/decoded.txt'  # File to save the decompressed data\n",
    "\n",
    "# Compress and save\n",
    "huffman_tree = HuffmanTree.from_file(data_file_path)\n",
    "huffman_tree.save_to_file(comp_data_file_path, metadata_file_path)\n",
    "\n",
    "# # Decode from file and save output\n",
    "# decoded_data = HuffmanTree.decode_from_file(compressed_file_path)\n",
    "# with open(decoded_output_path, 'w', encoding='utf-8') as file:\n",
    "#     file.write(decoded_data)\n",
    "import os\n",
    "os.path.getsize(data_file_path) - os.path.getsize(comp_data_file_path)"
   ],
   "outputs": [],
   "execution_count": 38
  },
  {
   "metadata": {
    "ExecuteTime": {
     "end_time": "2024-07-13T18:21:32.676598Z",
     "start_time": "2024-07-13T18:21:32.673264Z"
    }
   },
   "cell_type": "code",
   "source": [
    "import os\n",
    "os.path.getsize(data_file_path) - os.path.getsize(comp_data_file_path)"
   ],
   "outputs": [
    {
     "data": {
      "text/plain": [
       "63934"
      ]
     },
     "execution_count": 39,
     "metadata": {},
     "output_type": "execute_result"
    }
   ],
   "execution_count": 39
  },
  {
   "metadata": {
    "ExecuteTime": {
     "end_time": "2024-07-13T17:49:07.268224Z",
     "start_time": "2024-07-13T17:49:07.265914Z"
    }
   },
   "cell_type": "code",
   "source": [
    "heap = [n for c, n in d.items()]\n",
    "heapq.heapify(heap)"
   ],
   "outputs": [],
   "execution_count": 320
  },
  {
   "metadata": {
    "ExecuteTime": {
     "end_time": "2024-07-13T17:12:51.917369Z",
     "start_time": "2024-07-13T17:12:51.914732Z"
    }
   },
   "cell_type": "code",
   "source": [
    "heapq.heapify(heap)\n",
    "for n in range(len(heap)):\n",
    "    n = heapq.heappop(heap)\n",
    "    print(n.symbol, n.weight)"
   ],
   "outputs": [
    {
     "name": "stdout",
     "output_type": "stream",
     "text": [
      "t 1\n",
      "l 1\n",
      "r 1\n",
      "p 1\n",
      "d 1\n",
      "x 1\n",
      "g 1\n",
      "c 1\n",
      "u 1\n",
      "o 2\n",
      "s 2\n",
      "h 2\n",
      "m 2\n",
      "i 3\n",
      "a 3\n",
      "e 3\n",
      "f 3\n",
      "n 4\n",
      "  6\n"
     ]
    }
   ],
   "execution_count": 282
  },
  {
   "metadata": {
    "ExecuteTime": {
     "end_time": "2024-07-13T16:18:26.208316Z",
     "start_time": "2024-07-13T16:18:26.206489Z"
    }
   },
   "cell_type": "code",
   "source": "",
   "outputs": [],
   "execution_count": 183
  },
  {
   "metadata": {
    "ExecuteTime": {
     "end_time": "2024-07-13T15:34:20.992900Z",
     "start_time": "2024-07-13T15:34:20.987370Z"
    }
   },
   "cell_type": "code",
   "source": [
    "def frequency_table(data):\n",
    "    frequency = defaultdict(int)\n",
    "    for char in data:\n",
    "        frequency[char] += 1\n",
    "    return frequency\n",
    "\n",
    "# Custom dictionary class\n",
    "class CustomDict(dict):\n",
    "    def __missing__(self, key):\n",
    "        # This method is called when a missing key is accessed.\n",
    "        # Custom logic to initialize the object can be placed here.\n",
    "        value = f\"Key is not present: {key}\"\n",
    "        self[key] = value\n",
    "        return value\n",
    "\n",
    "d = CustomDict()\n",
    "d['a']"
   ],
   "outputs": [
    {
     "data": {
      "text/plain": [
       "'Key is not present: a'"
      ]
     },
     "execution_count": 61,
     "metadata": {},
     "output_type": "execute_result"
    }
   ],
   "execution_count": 61
  },
  {
   "metadata": {
    "ExecuteTime": {
     "end_time": "2024-07-13T15:34:21.450581Z",
     "start_time": "2024-07-13T15:34:21.445424Z"
    }
   },
   "cell_type": "code",
   "source": [
    "import heapq\n",
    "from collections import defaultdict\n",
    "\n",
    "def huffman_tree(symbols_freq):\n",
    "    heap = [[weight, [symbol, \"\"]] for symbol, weight in symbols_freq.items()]\n",
    "    heapq.heapify(heap)\n",
    "    \n",
    "    while len(heap) > 1:\n",
    "        lo = heapq.heappop(heap)\n",
    "        hi = heapq.heappop(heap)\n",
    "        \n",
    "        for pair in lo[1:]:\n",
    "            pair[1] = '0' + pair[1]\n",
    "        for pair in hi[1:]:\n",
    "            pair[1] = '1' + pair[1]\n",
    "            \n",
    "        # New node with combined frequency and children\n",
    "        new_node = [lo[0] + hi[0]] + lo[1:] + hi[1:]\n",
    "        heapq.heappush(heap, new_node)\n",
    "    \n",
    "    return heap[0]  # The final tree\n",
    "\n",
    "# Example usage\n",
    "symbols_freq = {'a': 45, 'b': 13, 'c': 12, 'd': 16, 'e': 9, 'f': 5}\n",
    "tree = huffman_tree(symbols_freq)\n",
    "print(tree)\n"
   ],
   "outputs": [
    {
     "name": "stdout",
     "output_type": "stream",
     "text": [
      "[100, ['a', '0'], ['c', '100'], ['b', '101'], ['f', '1100'], ['e', '1101'], ['d', '111']]\n"
     ]
    }
   ],
   "execution_count": 62
  },
  {
   "metadata": {
    "ExecuteTime": {
     "end_time": "2024-07-13T15:34:22.092353Z",
     "start_time": "2024-07-13T15:34:22.088198Z"
    }
   },
   "cell_type": "code",
   "source": [
    "{\n",
    "    \"0\" : {\"a\"},\n",
    "    \"10\" : \"b\",\n",
    "    \"110\" : \"c\",\n",
    "    \"111\" : \"d\",\n",
    "    \"01\" : \"e\",\n",
    "    \"111\" : \"f\"\n",
    "}"
   ],
   "outputs": [
    {
     "data": {
      "text/plain": [
       "{'0': {'a'}, '10': 'b', '110': 'c', '111': 'f', '01': 'e'}"
      ]
     },
     "execution_count": 63,
     "metadata": {},
     "output_type": "execute_result"
    }
   ],
   "execution_count": 63
  },
  {
   "metadata": {
    "ExecuteTime": {
     "end_time": "2024-07-13T15:36:34.927510Z",
     "start_time": "2024-07-13T15:36:34.924210Z"
    }
   },
   "cell_type": "code",
   "source": [
    "import heapq\n",
    "\n",
    "a = Node('a', 45)\n",
    "b = Node('b', 13)\n",
    "\n",
    "# List to be used as a heap\n",
    "heap = []\n",
    "heapq.heappush(heap, a)\n",
    "heapq.heappush(heap, b)\n",
    "\n",
    "# Fetching items from the heap\n",
    "print(heapq.heappop(heap).symbol)  # Output: (1, 'write spec')\n",
    "print(heapq.heappop(heap).symbol)  # Output: (3, 'create tests')\n"
   ],
   "outputs": [
    {
     "name": "stdout",
     "output_type": "stream",
     "text": [
      "b\n",
      "a\n"
     ]
    }
   ],
   "execution_count": 68
  },
  {
   "metadata": {
    "ExecuteTime": {
     "end_time": "2024-07-13T15:10:51.004020Z",
     "start_time": "2024-07-13T15:10:51.000541Z"
    }
   },
   "cell_type": "code",
   "source": "d['a']",
   "outputs": [
    {
     "data": {
      "text/plain": [
       "'a'"
      ]
     },
     "execution_count": 37,
     "metadata": {},
     "output_type": "execute_result"
    }
   ],
   "execution_count": 37
  },
  {
   "metadata": {
    "ExecuteTime": {
     "end_time": "2024-07-13T14:52:03.059424Z",
     "start_time": "2024-07-13T14:52:03.056480Z"
    }
   },
   "cell_type": "code",
   "source": [
    "def pack_bits(bit_string):\n",
    "    # Ensure the bit string length is a multiple of 8\n",
    "    extra_bits = len(bit_string) % 8\n",
    "    if extra_bits != 0:\n",
    "        bit_string += '0' * (8 - extra_bits)\n",
    "    \n",
    "    return bytes(int(bit_string[i:i+8], 2) for i in range(0, len(bit_string), 8))\n",
    "\n",
    "packed_data = pack_bits(encoded_data)\n",
    "print(\"Packed Data:\", packed_data)\n"
   ],
   "outputs": [
    {
     "name": "stdout",
     "output_type": "stream",
     "text": [
      "Packed Data: b'\\x80\\xf3\\xde{*\\xe7\\xa4\\x98\\x1c\\xbam\\xa3\\x1d\\xd2\\x95q|\\x7f\\xf2\\x00'\n"
     ]
    }
   ],
   "execution_count": 13
  },
  {
   "metadata": {
    "ExecuteTime": {
     "end_time": "2024-07-13T14:52:08.929014Z",
     "start_time": "2024-07-13T14:52:08.926035Z"
    }
   },
   "cell_type": "code",
   "source": [
    "def huffman_decode(data, codes):\n",
    "    # Step a: Reverse the Huffman codes\n",
    "    reverse_codes = {v: k for k, v in codes.items()}\n",
    "    \n",
    "    # Step b: Decoding\n",
    "    data = data.lstrip(\"0\")\n",
    "    current_code = \"\"\n",
    "    decoded_data = \"\"\n",
    "    for bit in data:\n",
    "        current_code += bit\n",
    "        if current_code in reverse_codes:\n",
    "            decoded_data += reverse_codes[current_code]\n",
    "            current_code = \"\"\n",
    "    \n",
    "    return decoded_data"
   ],
   "outputs": [],
   "execution_count": 14
  },
  {
   "metadata": {
    "ExecuteTime": {
     "end_time": "2024-07-13T16:47:09.330080Z",
     "start_time": "2024-07-13T16:47:09.327031Z"
    }
   },
   "cell_type": "code",
   "source": "huffman_decode(d.encoded_data, d.codes)",
   "outputs": [
    {
     "data": {
      "text/plain": [
       "'a'"
      ]
     },
     "execution_count": 232,
     "metadata": {},
     "output_type": "execute_result"
    }
   ],
   "execution_count": 232
  },
  {
   "metadata": {
    "ExecuteTime": {
     "end_time": "2024-07-13T14:54:31.195138Z",
     "start_time": "2024-07-13T14:54:31.191592Z"
    }
   },
   "cell_type": "code",
   "source": [
    "def bytes_to_binary_string(bytes_data):\n",
    "    return ''.join(f'{byte:08b}' for byte in bytes_data)\n",
    "\n",
    "# Example\n",
    "binary_string = bytes_to_binary_string(pack_bits(encoded_data))\n",
    "print(binary_string)  # Output: '000000010000001000000011'\n"
   ],
   "outputs": [
    {
     "name": "stdout",
     "output_type": "stream",
     "text": [
      "1000000011110011110111100111101100101010111001111010010010011000000111001011101001101101101000110001110111010010100101010111000101111100011111111111001000000000\n"
     ]
    }
   ],
   "execution_count": 16
  },
  {
   "metadata": {
    "ExecuteTime": {
     "end_time": "2024-07-13T14:56:17.926275Z",
     "start_time": "2024-07-13T14:56:17.922131Z"
    }
   },
   "cell_type": "code",
   "source": "bytes_to_binary_string(b\"this is an example for huffman encoding\")",
   "outputs": [
    {
     "data": {
      "text/plain": [
       "'011101000110100001101001011100110010000001101001011100110010000001100001011011100010000001100101011110000110000101101101011100000110110001100101001000000110011001101111011100100010000001101000011101010110011001100110011011010110000101101110001000000110010101101110011000110110111101100100011010010110111001100111'"
      ]
     },
     "execution_count": 21,
     "metadata": {},
     "output_type": "execute_result"
    }
   ],
   "execution_count": 21
  },
  {
   "metadata": {},
   "cell_type": "code",
   "outputs": [],
   "execution_count": null,
   "source": [
    "class HuffmanCompression:\n",
    "    \n",
    "    def __init__(self):\n",
    "        self.codes = {}\n",
    "    \n",
    "    def bytes_to_binary_string(bytes_data):\n",
    "        return ''.join(f'{byte:08b}' for byte in bytes_data)"
   ]
  },
  {
   "metadata": {
    "ExecuteTime": {
     "end_time": "2024-08-03T14:59:59.777057Z",
     "start_time": "2024-08-03T14:59:59.763830Z"
    }
   },
   "cell_type": "code",
   "source": [
    "import sympy as sp\n",
    "\n",
    "t, r, theta, phi, M, G = sp.symbols('t r theta phi M G')\n",
    "\n",
    "G*M*(r*(2*G*M - r) - r*(2*G*M - r))/(r*r*(2*G*M - r)*(2*G*M - r))"
   ],
   "outputs": [
    {
     "data": {
      "text/plain": [
       "0"
      ],
      "text/latex": "$\\displaystyle 0$"
     },
     "execution_count": 8,
     "metadata": {},
     "output_type": "execute_result"
    }
   ],
   "execution_count": 8
  },
  {
   "metadata": {},
   "cell_type": "code",
   "outputs": [],
   "execution_count": null,
   "source": ""
  }
 ],
 "metadata": {
  "kernelspec": {
   "display_name": ".venv",
   "language": "python",
   "name": "python3"
  },
  "language_info": {
   "codemirror_mode": {
    "name": "ipython",
    "version": 3
   },
   "file_extension": ".py",
   "mimetype": "text/x-python",
   "name": "python",
   "nbconvert_exporter": "python",
   "pygments_lexer": "ipython3",
   "version": "3.11.9"
  }
 },
 "nbformat": 4,
 "nbformat_minor": 2
}
