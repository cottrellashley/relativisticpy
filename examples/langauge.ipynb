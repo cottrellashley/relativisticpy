{
 "cells": [
  {
   "cell_type": "code",
   "metadata": {
    "ExecuteTime": {
     "end_time": "2024-08-24T21:41:30.648814Z",
     "start_time": "2024-08-24T21:41:30.240200Z"
    }
   },
   "source": [
    "from set_path import set_root_path\n",
    "set_root_path()\n",
    "from relativisticpy.workbook.workbook import Workbook\n",
    "wb = Workbook(debug_mode=True)"
   ],
   "outputs": [
    {
     "name": "stdout",
     "output_type": "stream",
     "text": [
      "Working directory: /Users/ashleycottrell/code/repositories/relativisticpy\n"
     ]
    }
   ],
   "execution_count": 1
  },
  {
   "cell_type": "code",
   "metadata": {
    "ExecuteTime": {
     "end_time": "2024-08-24T21:41:33.400580Z",
     "start_time": "2024-08-24T21:41:31.196519Z"
    }
   },
   "source": [
    "# TODO: When we have a UI, we automatically generate the greek and latin symbols when the user types in the name of the coordinate system  i.e. alpha, beta, gamma, delta, mu, nu, rho, sigma -> α, β, γ, δ, μ, ν, ρ, σ\n",
    "wb.reset()\n",
    "res = wb.exe(\n",
    "\"\"\"\n",
    "        # CoordinateSystem: Schild {\n",
    "        #     Coordinates : [t, r, theta, phi]\n",
    "        #     Indices : [mu, nu, rho, sigma, a, b],\n",
    "        #     Metric : [[-(1 - (2 * G * M) / (r)), 0, 0, 0],[0, 1 / (1 - (2 * G * M) / (r)), 0, 0],[0, 0, r**2, 0],[0, 0, 0, r**2 * sin(theta) ** 2]]\n",
    "        # }\n",
    "        # \n",
    "        # CoordinateTransformation: Schild {\n",
    "        #     From: Schild\n",
    "        #     To: Schild\n",
    "        #     Transformation: [t, r, theta, phi] -> [t, r, theta, phi]\n",
    "        # }\n",
    "        \n",
    "        Coordinates := [t, r, theta, phi]\n",
    "    \n",
    "        g_{mu}_{nu} := [\n",
    "                            [-(1 - (2 * M) / r), 0, 0, 0],\n",
    "                            [0, 1 / (1 - (2 * M) / r), 0, 0],\n",
    "                            [0, 0, r**2, 0],\n",
    "                            [0, 0, 0, r**2 * sin(theta) ** 2]\n",
    "                        ]            \n",
    "            \n",
    "        Gamma^{a}_{c f} := (1/2)*(g^{a b}*(d_{c}*g_{b f} + d_{f}*g_{b c}- d_{b}*g_{c f}))\n",
    "    \n",
    "        Riemann^{a}_{m b n} := d_{b}*Gamma^{a}_{n m} + Gamma^{a}_{b l}*Gamma^{l}_{n m} - d_{n}*Gamma^{a}_{b m} - Gamma^{a}_{n l}*Gamma^{l}_{b m}\n",
    "\n",
    "        Ricci_{m}_{n} := Riemann^{a}_{m}_{a}_{n}\n",
    "\n",
    "        TempOne^{a}^{f}^{h}^{s} := g^{s}^{q}*( g^{h}^{c}*( g^{f}^{b} * Riemann^{a}_{b}_{c}_{q} ) )\n",
    "\n",
    "        TempTwo_{a}_{f}_{h}_{s} := g_{a}_{n}*Riemann^{n}_{f}_{h}_{s}\n",
    "\n",
    "        S := TempOne^{a}^{f}^{h}^{s}*TempTwo_{a}_{f}_{h}_{s}\n",
    "    \n",
    "        S\n",
    "\"\"\"\n",
    ")\n"
   ],
   "outputs": [
    {
     "name": "stderr",
     "output_type": "stream",
     "text": [
      "\u001B[32m2024-08-24 22:41:31.209\u001B[0m | \u001B[34m\u001B[1mDEBUG   \u001B[0m | \u001B[36mrelativisticpy.workbook.ast_visitor\u001B[0m:\u001B[36mint\u001B[0m:\u001B[36m122\u001B[0m - \u001B[34m\u001B[1mCasting to Integer: 1 at position TokenPosition(start_pos=Position(line=17, character=31), end_pos=Position(line=17, character=32))\u001B[0m\n",
      "\u001B[32m2024-08-24 22:41:31.210\u001B[0m | \u001B[34m\u001B[1mDEBUG   \u001B[0m | \u001B[36mrelativisticpy.workbook.ast_visitor\u001B[0m:\u001B[36mint\u001B[0m:\u001B[36m122\u001B[0m - \u001B[34m\u001B[1mCasting to Integer: 2 at position TokenPosition(start_pos=Position(line=17, character=36), end_pos=Position(line=17, character=37))\u001B[0m\n",
      "\u001B[32m2024-08-24 22:41:31.211\u001B[0m | \u001B[34m\u001B[1mDEBUG   \u001B[0m | \u001B[36mrelativisticpy.workbook.ast_visitor\u001B[0m:\u001B[36mmul\u001B[0m:\u001B[36m110\u001B[0m - \u001B[34m\u001B[1mMultiplying 2 * M at position TokenPosition(start_pos=Position(line=17, character=36), end_pos=Position(line=17, character=37))\u001B[0m\n",
      "\u001B[32m2024-08-24 22:41:31.212\u001B[0m | \u001B[34m\u001B[1mDEBUG   \u001B[0m | \u001B[36mrelativisticpy.workbook.ast_visitor\u001B[0m:\u001B[36mdiv\u001B[0m:\u001B[36m114\u001B[0m - \u001B[34m\u001B[1mDividing 2*M / r at position TokenPosition(start_pos=Position(line=17, character=35), end_pos=Position(line=17, character=36))\u001B[0m\n",
      "\u001B[32m2024-08-24 22:41:31.213\u001B[0m | \u001B[34m\u001B[1mDEBUG   \u001B[0m | \u001B[36mrelativisticpy.workbook.ast_visitor\u001B[0m:\u001B[36msub\u001B[0m:\u001B[36m94\u001B[0m - \u001B[34m\u001B[1mSubtracting 1 - 2*M/r at position TokenPosition(start_pos=Position(line=17, character=31), end_pos=Position(line=17, character=32))\u001B[0m\n",
      "\u001B[32m2024-08-24 22:41:31.243\u001B[0m | \u001B[34m\u001B[1mDEBUG   \u001B[0m | \u001B[36mrelativisticpy.workbook.ast_visitor\u001B[0m:\u001B[36mneg\u001B[0m:\u001B[36m102\u001B[0m - \u001B[34m\u001B[1mNegating -2*M/r + 1 at position TokenPosition(start_pos=Position(line=17, character=30), end_pos=Position(line=17, character=31))\u001B[0m\n",
      "\u001B[32m2024-08-24 22:41:31.244\u001B[0m | \u001B[34m\u001B[1mDEBUG   \u001B[0m | \u001B[36mrelativisticpy.workbook.ast_visitor\u001B[0m:\u001B[36mint\u001B[0m:\u001B[36m122\u001B[0m - \u001B[34m\u001B[1mCasting to Integer: 0 at position TokenPosition(start_pos=Position(line=17, character=49), end_pos=Position(line=17, character=50))\u001B[0m\n",
      "\u001B[32m2024-08-24 22:41:31.245\u001B[0m | \u001B[34m\u001B[1mDEBUG   \u001B[0m | \u001B[36mrelativisticpy.workbook.ast_visitor\u001B[0m:\u001B[36mint\u001B[0m:\u001B[36m122\u001B[0m - \u001B[34m\u001B[1mCasting to Integer: 0 at position TokenPosition(start_pos=Position(line=17, character=52), end_pos=Position(line=17, character=53))\u001B[0m\n",
      "\u001B[32m2024-08-24 22:41:31.245\u001B[0m | \u001B[34m\u001B[1mDEBUG   \u001B[0m | \u001B[36mrelativisticpy.workbook.ast_visitor\u001B[0m:\u001B[36mint\u001B[0m:\u001B[36m122\u001B[0m - \u001B[34m\u001B[1mCasting to Integer: 0 at position TokenPosition(start_pos=Position(line=17, character=55), end_pos=Position(line=17, character=56))\u001B[0m\n",
      "\u001B[32m2024-08-24 22:41:31.245\u001B[0m | \u001B[34m\u001B[1mDEBUG   \u001B[0m | \u001B[36mrelativisticpy.workbook.ast_visitor\u001B[0m:\u001B[36mint\u001B[0m:\u001B[36m122\u001B[0m - \u001B[34m\u001B[1mCasting to Integer: 0 at position TokenPosition(start_pos=Position(line=18, character=29), end_pos=Position(line=18, character=30))\u001B[0m\n",
      "\u001B[32m2024-08-24 22:41:31.246\u001B[0m | \u001B[34m\u001B[1mDEBUG   \u001B[0m | \u001B[36mrelativisticpy.workbook.ast_visitor\u001B[0m:\u001B[36mint\u001B[0m:\u001B[36m122\u001B[0m - \u001B[34m\u001B[1mCasting to Integer: 1 at position TokenPosition(start_pos=Position(line=18, character=32), end_pos=Position(line=18, character=33))\u001B[0m\n",
      "\u001B[32m2024-08-24 22:41:31.246\u001B[0m | \u001B[34m\u001B[1mDEBUG   \u001B[0m | \u001B[36mrelativisticpy.workbook.ast_visitor\u001B[0m:\u001B[36mint\u001B[0m:\u001B[36m122\u001B[0m - \u001B[34m\u001B[1mCasting to Integer: 1 at position TokenPosition(start_pos=Position(line=18, character=37), end_pos=Position(line=18, character=38))\u001B[0m\n",
      "\u001B[32m2024-08-24 22:41:31.246\u001B[0m | \u001B[34m\u001B[1mDEBUG   \u001B[0m | \u001B[36mrelativisticpy.workbook.ast_visitor\u001B[0m:\u001B[36mint\u001B[0m:\u001B[36m122\u001B[0m - \u001B[34m\u001B[1mCasting to Integer: 2 at position TokenPosition(start_pos=Position(line=18, character=42), end_pos=Position(line=18, character=43))\u001B[0m\n",
      "\u001B[32m2024-08-24 22:41:31.247\u001B[0m | \u001B[34m\u001B[1mDEBUG   \u001B[0m | \u001B[36mrelativisticpy.workbook.ast_visitor\u001B[0m:\u001B[36mmul\u001B[0m:\u001B[36m110\u001B[0m - \u001B[34m\u001B[1mMultiplying 2 * M at position TokenPosition(start_pos=Position(line=18, character=42), end_pos=Position(line=18, character=43))\u001B[0m\n",
      "\u001B[32m2024-08-24 22:41:31.247\u001B[0m | \u001B[34m\u001B[1mDEBUG   \u001B[0m | \u001B[36mrelativisticpy.workbook.ast_visitor\u001B[0m:\u001B[36mdiv\u001B[0m:\u001B[36m114\u001B[0m - \u001B[34m\u001B[1mDividing 2*M / r at position TokenPosition(start_pos=Position(line=18, character=41), end_pos=Position(line=18, character=42))\u001B[0m\n",
      "\u001B[32m2024-08-24 22:41:31.248\u001B[0m | \u001B[34m\u001B[1mDEBUG   \u001B[0m | \u001B[36mrelativisticpy.workbook.ast_visitor\u001B[0m:\u001B[36msub\u001B[0m:\u001B[36m94\u001B[0m - \u001B[34m\u001B[1mSubtracting 1 - 2*M/r at position TokenPosition(start_pos=Position(line=18, character=37), end_pos=Position(line=18, character=38))\u001B[0m\n",
      "\u001B[32m2024-08-24 22:41:31.248\u001B[0m | \u001B[34m\u001B[1mDEBUG   \u001B[0m | \u001B[36mrelativisticpy.workbook.ast_visitor\u001B[0m:\u001B[36mdiv\u001B[0m:\u001B[36m114\u001B[0m - \u001B[34m\u001B[1mDividing 1 / -2*M/r + 1 at position TokenPosition(start_pos=Position(line=18, character=32), end_pos=Position(line=18, character=33))\u001B[0m\n",
      "\u001B[32m2024-08-24 22:41:31.249\u001B[0m | \u001B[34m\u001B[1mDEBUG   \u001B[0m | \u001B[36mrelativisticpy.workbook.ast_visitor\u001B[0m:\u001B[36mint\u001B[0m:\u001B[36m122\u001B[0m - \u001B[34m\u001B[1mCasting to Integer: 0 at position TokenPosition(start_pos=Position(line=18, character=55), end_pos=Position(line=18, character=56))\u001B[0m\n",
      "\u001B[32m2024-08-24 22:41:31.249\u001B[0m | \u001B[34m\u001B[1mDEBUG   \u001B[0m | \u001B[36mrelativisticpy.workbook.ast_visitor\u001B[0m:\u001B[36mint\u001B[0m:\u001B[36m122\u001B[0m - \u001B[34m\u001B[1mCasting to Integer: 0 at position TokenPosition(start_pos=Position(line=18, character=58), end_pos=Position(line=18, character=59))\u001B[0m\n",
      "\u001B[32m2024-08-24 22:41:31.250\u001B[0m | \u001B[34m\u001B[1mDEBUG   \u001B[0m | \u001B[36mrelativisticpy.workbook.ast_visitor\u001B[0m:\u001B[36mint\u001B[0m:\u001B[36m122\u001B[0m - \u001B[34m\u001B[1mCasting to Integer: 0 at position TokenPosition(start_pos=Position(line=19, character=29), end_pos=Position(line=19, character=30))\u001B[0m\n",
      "\u001B[32m2024-08-24 22:41:31.250\u001B[0m | \u001B[34m\u001B[1mDEBUG   \u001B[0m | \u001B[36mrelativisticpy.workbook.ast_visitor\u001B[0m:\u001B[36mint\u001B[0m:\u001B[36m122\u001B[0m - \u001B[34m\u001B[1mCasting to Integer: 0 at position TokenPosition(start_pos=Position(line=19, character=32), end_pos=Position(line=19, character=33))\u001B[0m\n",
      "\u001B[32m2024-08-24 22:41:31.251\u001B[0m | \u001B[34m\u001B[1mDEBUG   \u001B[0m | \u001B[36mrelativisticpy.workbook.ast_visitor\u001B[0m:\u001B[36mint\u001B[0m:\u001B[36m122\u001B[0m - \u001B[34m\u001B[1mCasting to Integer: 2 at position TokenPosition(start_pos=Position(line=19, character=38), end_pos=Position(line=19, character=39))\u001B[0m\n",
      "\u001B[32m2024-08-24 22:41:31.251\u001B[0m | \u001B[34m\u001B[1mDEBUG   \u001B[0m | \u001B[36mrelativisticpy.workbook.ast_visitor\u001B[0m:\u001B[36mpow\u001B[0m:\u001B[36m118\u001B[0m - \u001B[34m\u001B[1mPowering r ** 2 at position TokenPosition(start_pos=Position(line=19, character=35), end_pos=Position(line=19, character=36))\u001B[0m\n",
      "\u001B[32m2024-08-24 22:41:31.251\u001B[0m | \u001B[34m\u001B[1mDEBUG   \u001B[0m | \u001B[36mrelativisticpy.workbook.ast_visitor\u001B[0m:\u001B[36mint\u001B[0m:\u001B[36m122\u001B[0m - \u001B[34m\u001B[1mCasting to Integer: 0 at position TokenPosition(start_pos=Position(line=19, character=41), end_pos=Position(line=19, character=42))\u001B[0m\n",
      "\u001B[32m2024-08-24 22:41:31.252\u001B[0m | \u001B[34m\u001B[1mDEBUG   \u001B[0m | \u001B[36mrelativisticpy.workbook.ast_visitor\u001B[0m:\u001B[36mint\u001B[0m:\u001B[36m122\u001B[0m - \u001B[34m\u001B[1mCasting to Integer: 0 at position TokenPosition(start_pos=Position(line=20, character=29), end_pos=Position(line=20, character=30))\u001B[0m\n",
      "\u001B[32m2024-08-24 22:41:31.252\u001B[0m | \u001B[34m\u001B[1mDEBUG   \u001B[0m | \u001B[36mrelativisticpy.workbook.ast_visitor\u001B[0m:\u001B[36mint\u001B[0m:\u001B[36m122\u001B[0m - \u001B[34m\u001B[1mCasting to Integer: 0 at position TokenPosition(start_pos=Position(line=20, character=32), end_pos=Position(line=20, character=33))\u001B[0m\n",
      "\u001B[32m2024-08-24 22:41:31.253\u001B[0m | \u001B[34m\u001B[1mDEBUG   \u001B[0m | \u001B[36mrelativisticpy.workbook.ast_visitor\u001B[0m:\u001B[36mint\u001B[0m:\u001B[36m122\u001B[0m - \u001B[34m\u001B[1mCasting to Integer: 0 at position TokenPosition(start_pos=Position(line=20, character=35), end_pos=Position(line=20, character=36))\u001B[0m\n",
      "\u001B[32m2024-08-24 22:41:31.253\u001B[0m | \u001B[34m\u001B[1mDEBUG   \u001B[0m | \u001B[36mrelativisticpy.workbook.ast_visitor\u001B[0m:\u001B[36mint\u001B[0m:\u001B[36m122\u001B[0m - \u001B[34m\u001B[1mCasting to Integer: 2 at position TokenPosition(start_pos=Position(line=20, character=41), end_pos=Position(line=20, character=42))\u001B[0m\n",
      "\u001B[32m2024-08-24 22:41:31.253\u001B[0m | \u001B[34m\u001B[1mDEBUG   \u001B[0m | \u001B[36mrelativisticpy.workbook.ast_visitor\u001B[0m:\u001B[36mpow\u001B[0m:\u001B[36m118\u001B[0m - \u001B[34m\u001B[1mPowering r ** 2 at position TokenPosition(start_pos=Position(line=20, character=38), end_pos=Position(line=20, character=39))\u001B[0m\n",
      "\u001B[32m2024-08-24 22:41:31.256\u001B[0m | \u001B[34m\u001B[1mDEBUG   \u001B[0m | \u001B[36mrelativisticpy.workbook.ast_visitor\u001B[0m:\u001B[36mint\u001B[0m:\u001B[36m122\u001B[0m - \u001B[34m\u001B[1mCasting to Integer: 2 at position TokenPosition(start_pos=Position(line=20, character=59), end_pos=Position(line=20, character=60))\u001B[0m\n",
      "\u001B[32m2024-08-24 22:41:31.256\u001B[0m | \u001B[34m\u001B[1mDEBUG   \u001B[0m | \u001B[36mrelativisticpy.workbook.ast_visitor\u001B[0m:\u001B[36mpow\u001B[0m:\u001B[36m118\u001B[0m - \u001B[34m\u001B[1mPowering sin(theta) ** 2 at position TokenPosition(start_pos=Position(line=20, character=45), end_pos=Position(line=20, character=48))\u001B[0m\n",
      "\u001B[32m2024-08-24 22:41:31.257\u001B[0m | \u001B[34m\u001B[1mDEBUG   \u001B[0m | \u001B[36mrelativisticpy.workbook.ast_visitor\u001B[0m:\u001B[36mmul\u001B[0m:\u001B[36m110\u001B[0m - \u001B[34m\u001B[1mMultiplying r**2 * sin(theta)**2 at position TokenPosition(start_pos=Position(line=20, character=38), end_pos=Position(line=20, character=39))\u001B[0m\n",
      "\u001B[32m2024-08-24 22:41:31.259\u001B[0m | \u001B[34m\u001B[1mDEBUG   \u001B[0m | \u001B[36mrelativisticpy.state.scopes\u001B[0m:\u001B[36mset_tensor\u001B[0m:\u001B[36m184\u001B[0m - \u001B[34m\u001B[1mCaching new tensor 'g' with components '[[2*M/r - 1, 0, 0, 0], [0, 1/(-2*M/r + 1), 0, 0], [0, 0, r**2, 0], [0, 0, 0, r**2*sin(theta)**2]]'\u001B[0m\n",
      "\u001B[32m2024-08-24 22:41:31.260\u001B[0m | \u001B[34m\u001B[1mDEBUG   \u001B[0m | \u001B[36mrelativisticpy.workbook.ast_visitor\u001B[0m:\u001B[36mint\u001B[0m:\u001B[36m122\u001B[0m - \u001B[34m\u001B[1mCasting to Integer: 1 at position TokenPosition(start_pos=Position(line=23, character=28), end_pos=Position(line=23, character=29))\u001B[0m\n",
      "\u001B[32m2024-08-24 22:41:31.261\u001B[0m | \u001B[34m\u001B[1mDEBUG   \u001B[0m | \u001B[36mrelativisticpy.workbook.ast_visitor\u001B[0m:\u001B[36mint\u001B[0m:\u001B[36m122\u001B[0m - \u001B[34m\u001B[1mCasting to Integer: 2 at position TokenPosition(start_pos=Position(line=23, character=30), end_pos=Position(line=23, character=31))\u001B[0m\n",
      "\u001B[32m2024-08-24 22:41:31.261\u001B[0m | \u001B[34m\u001B[1mDEBUG   \u001B[0m | \u001B[36mrelativisticpy.workbook.ast_visitor\u001B[0m:\u001B[36mdiv\u001B[0m:\u001B[36m114\u001B[0m - \u001B[34m\u001B[1mDividing 1 / 2 at position TokenPosition(start_pos=Position(line=23, character=28), end_pos=Position(line=23, character=29))\u001B[0m\n",
      "\u001B[32m2024-08-24 22:41:31.261\u001B[0m | \u001B[34m\u001B[1mDEBUG   \u001B[0m | \u001B[36mrelativisticpy.state.scopes\u001B[0m:\u001B[36minit_tensor\u001B[0m:\u001B[36m263\u001B[0m - \u001B[34m\u001B[1mAttempting to initiating 'g^{a}^{b}' by equation from cached tensors.\u001B[0m\n",
      "\u001B[32m2024-08-24 22:41:31.262\u001B[0m | \u001B[34m\u001B[1mDEBUG   \u001B[0m | \u001B[36mrelativisticpy.state.scopes\u001B[0m:\u001B[36minit_tensor\u001B[0m:\u001B[36m266\u001B[0m - \u001B[34m\u001B[1mIdentified 'g^{a}^{b}' to be a Metric. Initializing Metric from Metric.\u001B[0m\n",
      "\u001B[32m2024-08-24 22:41:31.262\u001B[0m | \u001B[34m\u001B[1mDEBUG   \u001B[0m | \u001B[36mrelativisticpy.state.scopes\u001B[0m:\u001B[36mmetric_tensor\u001B[0m:\u001B[36m102\u001B[0m - \u001B[34m\u001B[1mFound 1 Metric Tensor Objects in scope.\u001B[0m\n",
      "\u001B[32m2024-08-24 22:41:31.262\u001B[0m | \u001B[34m\u001B[1mDEBUG   \u001B[0m | \u001B[36mrelativisticpy.state.scopes\u001B[0m:\u001B[36mmetric_tensor\u001B[0m:\u001B[36m103\u001B[0m - \u001B[34m\u001B[1mReturning <relativisticpy.diffgeom.metric.Metric object at 0x1119dfd50>.\u001B[0m\n",
      "\u001B[32m2024-08-24 22:41:31.263\u001B[0m | \u001B[34m\u001B[1mDEBUG   \u001B[0m | \u001B[36mrelativisticpy.state.scopes\u001B[0m:\u001B[36mmetric_tensor\u001B[0m:\u001B[36m206\u001B[0m - \u001B[34m\u001B[1mFound metric tensor in scope with components: '[[2*M/r - 1, 0, 0, 0], [0, 1/(-2*M/r + 1), 0, 0], [0, 0, r**2, 0], [0, 0, 0, r**2*sin(theta)**2]]'\u001B[0m\n",
      "\u001B[32m2024-08-24 22:41:31.264\u001B[0m | \u001B[34m\u001B[1mDEBUG   \u001B[0m | \u001B[36mrelativisticpy.state.scopes\u001B[0m:\u001B[36mmetric_tensor\u001B[0m:\u001B[36m102\u001B[0m - \u001B[34m\u001B[1mFound 1 Metric Tensor Objects in scope.\u001B[0m\n",
      "\u001B[32m2024-08-24 22:41:31.264\u001B[0m | \u001B[34m\u001B[1mDEBUG   \u001B[0m | \u001B[36mrelativisticpy.state.scopes\u001B[0m:\u001B[36mmetric_tensor\u001B[0m:\u001B[36m103\u001B[0m - \u001B[34m\u001B[1mReturning <relativisticpy.diffgeom.metric.Metric object at 0x1119dfd50>.\u001B[0m\n",
      "\u001B[32m2024-08-24 22:41:31.481\u001B[0m | \u001B[34m\u001B[1mDEBUG   \u001B[0m | \u001B[36mrelativisticpy.state.scopes\u001B[0m:\u001B[36minit_tensor\u001B[0m:\u001B[36m271\u001B[0m - \u001B[34m\u001B[1mComputed components of 'g^{a}^{b}' to be: '[[1/(2*M/r - 1), 0, 0, 0], [0, -2*M/r + 1, 0, 0], [0, 0, r**(-2), 0], [0, 0, 0, 1/(r**2*sin(theta)**2)]]'\u001B[0m\n",
      "\u001B[32m2024-08-24 22:41:31.483\u001B[0m | \u001B[34m\u001B[1mDEBUG   \u001B[0m | \u001B[36mrelativisticpy.state.scopes\u001B[0m:\u001B[36mset_tensor\u001B[0m:\u001B[36m184\u001B[0m - \u001B[34m\u001B[1mCaching new tensor 'g' with components '[[1/(2*M/r - 1), 0, 0, 0], [0, -2*M/r + 1, 0, 0], [0, 0, r**(-2), 0], [0, 0, 0, 1/(r**2*sin(theta)**2)]]'\u001B[0m\n",
      "\u001B[32m2024-08-24 22:41:31.484\u001B[0m | \u001B[34m\u001B[1mDEBUG   \u001B[0m | \u001B[36mrelativisticpy.state.scopes\u001B[0m:\u001B[36minit_tensor\u001B[0m:\u001B[36m263\u001B[0m - \u001B[34m\u001B[1mAttempting to initiating 'g_{b}_{f}' by equation from cached tensors.\u001B[0m\n",
      "\u001B[32m2024-08-24 22:41:31.484\u001B[0m | \u001B[34m\u001B[1mDEBUG   \u001B[0m | \u001B[36mrelativisticpy.state.scopes\u001B[0m:\u001B[36minit_tensor\u001B[0m:\u001B[36m266\u001B[0m - \u001B[34m\u001B[1mIdentified 'g_{b}_{f}' to be a Metric. Initializing Metric from Metric.\u001B[0m\n",
      "\u001B[32m2024-08-24 22:41:31.485\u001B[0m | \u001B[34m\u001B[1mDEBUG   \u001B[0m | \u001B[36mrelativisticpy.state.scopes\u001B[0m:\u001B[36mmetric_tensor\u001B[0m:\u001B[36m102\u001B[0m - \u001B[34m\u001B[1mFound 1 Metric Tensor Objects in scope.\u001B[0m\n",
      "\u001B[32m2024-08-24 22:41:31.485\u001B[0m | \u001B[34m\u001B[1mDEBUG   \u001B[0m | \u001B[36mrelativisticpy.state.scopes\u001B[0m:\u001B[36mmetric_tensor\u001B[0m:\u001B[36m103\u001B[0m - \u001B[34m\u001B[1mReturning <relativisticpy.diffgeom.metric.Metric object at 0x112929510>.\u001B[0m\n",
      "\u001B[32m2024-08-24 22:41:31.486\u001B[0m | \u001B[34m\u001B[1mDEBUG   \u001B[0m | \u001B[36mrelativisticpy.state.scopes\u001B[0m:\u001B[36mmetric_tensor\u001B[0m:\u001B[36m206\u001B[0m - \u001B[34m\u001B[1mFound metric tensor in scope with components: '[[1/(2*M/r - 1), 0, 0, 0], [0, -2*M/r + 1, 0, 0], [0, 0, r**(-2), 0], [0, 0, 0, 1/(r**2*sin(theta)**2)]]'\u001B[0m\n",
      "\u001B[32m2024-08-24 22:41:31.486\u001B[0m | \u001B[34m\u001B[1mDEBUG   \u001B[0m | \u001B[36mrelativisticpy.state.scopes\u001B[0m:\u001B[36mmetric_tensor\u001B[0m:\u001B[36m102\u001B[0m - \u001B[34m\u001B[1mFound 1 Metric Tensor Objects in scope.\u001B[0m\n",
      "\u001B[32m2024-08-24 22:41:31.487\u001B[0m | \u001B[34m\u001B[1mDEBUG   \u001B[0m | \u001B[36mrelativisticpy.state.scopes\u001B[0m:\u001B[36mmetric_tensor\u001B[0m:\u001B[36m103\u001B[0m - \u001B[34m\u001B[1mReturning <relativisticpy.diffgeom.metric.Metric object at 0x112929510>.\u001B[0m\n",
      "\u001B[32m2024-08-24 22:41:31.562\u001B[0m | \u001B[34m\u001B[1mDEBUG   \u001B[0m | \u001B[36mrelativisticpy.state.scopes\u001B[0m:\u001B[36minit_tensor\u001B[0m:\u001B[36m271\u001B[0m - \u001B[34m\u001B[1mComputed components of 'g_{b}_{f}' to be: '[[2*M/r - 1, 0, 0, 0], [0, 1/(-2*M/r + 1), 0, 0], [0, 0, r**2, 0], [0, 0, 0, r**2*sin(theta)**2]]'\u001B[0m\n",
      "\u001B[32m2024-08-24 22:41:31.564\u001B[0m | \u001B[34m\u001B[1mDEBUG   \u001B[0m | \u001B[36mrelativisticpy.state.scopes\u001B[0m:\u001B[36mset_tensor\u001B[0m:\u001B[36m184\u001B[0m - \u001B[34m\u001B[1mCaching new tensor 'g' with components '[[2*M/r - 1, 0, 0, 0], [0, 1/(-2*M/r + 1), 0, 0], [0, 0, r**2, 0], [0, 0, 0, r**2*sin(theta)**2]]'\u001B[0m\n",
      "\u001B[32m2024-08-24 22:41:31.564\u001B[0m | \u001B[34m\u001B[1mDEBUG   \u001B[0m | \u001B[36mrelativisticpy.workbook.ast_visitor\u001B[0m:\u001B[36mmul\u001B[0m:\u001B[36m110\u001B[0m - \u001B[34m\u001B[1mMultiplying <relativisticpy.diffgeom.derivatives.partial.Derivative object at 0x11293b390> * <relativisticpy.diffgeom.metric.Metric object at 0x112880f10> at position TokenPosition(start_pos=Position(line=23, character=43), end_pos=Position(line=23, character=44))\u001B[0m\n",
      "\u001B[32m2024-08-24 22:41:31.575\u001B[0m | \u001B[34m\u001B[1mDEBUG   \u001B[0m | \u001B[36mrelativisticpy.state.scopes\u001B[0m:\u001B[36minit_tensor\u001B[0m:\u001B[36m263\u001B[0m - \u001B[34m\u001B[1mAttempting to initiating 'g_{b}_{c}' by equation from cached tensors.\u001B[0m\n",
      "\u001B[32m2024-08-24 22:41:31.576\u001B[0m | \u001B[34m\u001B[1mDEBUG   \u001B[0m | \u001B[36mrelativisticpy.state.scopes\u001B[0m:\u001B[36minit_tensor\u001B[0m:\u001B[36m266\u001B[0m - \u001B[34m\u001B[1mIdentified 'g_{b}_{c}' to be a Metric. Initializing Metric from Metric.\u001B[0m\n",
      "\u001B[32m2024-08-24 22:41:31.576\u001B[0m | \u001B[34m\u001B[1mDEBUG   \u001B[0m | \u001B[36mrelativisticpy.state.scopes\u001B[0m:\u001B[36mmetric_tensor\u001B[0m:\u001B[36m102\u001B[0m - \u001B[34m\u001B[1mFound 1 Metric Tensor Objects in scope.\u001B[0m\n",
      "\u001B[32m2024-08-24 22:41:31.576\u001B[0m | \u001B[34m\u001B[1mDEBUG   \u001B[0m | \u001B[36mrelativisticpy.state.scopes\u001B[0m:\u001B[36mmetric_tensor\u001B[0m:\u001B[36m103\u001B[0m - \u001B[34m\u001B[1mReturning <relativisticpy.diffgeom.metric.Metric object at 0x112909190>.\u001B[0m\n",
      "\u001B[32m2024-08-24 22:41:31.577\u001B[0m | \u001B[34m\u001B[1mDEBUG   \u001B[0m | \u001B[36mrelativisticpy.state.scopes\u001B[0m:\u001B[36mmetric_tensor\u001B[0m:\u001B[36m206\u001B[0m - \u001B[34m\u001B[1mFound metric tensor in scope with components: '[[2*M/r - 1, 0, 0, 0], [0, 1/(-2*M/r + 1), 0, 0], [0, 0, r**2, 0], [0, 0, 0, r**2*sin(theta)**2]]'\u001B[0m\n",
      "\u001B[32m2024-08-24 22:41:31.578\u001B[0m | \u001B[34m\u001B[1mDEBUG   \u001B[0m | \u001B[36mrelativisticpy.state.scopes\u001B[0m:\u001B[36mmetric_tensor\u001B[0m:\u001B[36m102\u001B[0m - \u001B[34m\u001B[1mFound 1 Metric Tensor Objects in scope.\u001B[0m\n",
      "\u001B[32m2024-08-24 22:41:31.579\u001B[0m | \u001B[34m\u001B[1mDEBUG   \u001B[0m | \u001B[36mrelativisticpy.state.scopes\u001B[0m:\u001B[36mmetric_tensor\u001B[0m:\u001B[36m103\u001B[0m - \u001B[34m\u001B[1mReturning <relativisticpy.diffgeom.metric.Metric object at 0x112909190>.\u001B[0m\n",
      "\u001B[32m2024-08-24 22:41:31.580\u001B[0m | \u001B[34m\u001B[1mDEBUG   \u001B[0m | \u001B[36mrelativisticpy.state.scopes\u001B[0m:\u001B[36minit_tensor\u001B[0m:\u001B[36m271\u001B[0m - \u001B[34m\u001B[1mComputed components of 'g_{b}_{c}' to be: '[[2*M/r - 1, 0, 0, 0], [0, 1/(-2*M/r + 1), 0, 0], [0, 0, r**2, 0], [0, 0, 0, r**2*sin(theta)**2]]'\u001B[0m\n",
      "\u001B[32m2024-08-24 22:41:31.580\u001B[0m | \u001B[34m\u001B[1mDEBUG   \u001B[0m | \u001B[36mrelativisticpy.state.scopes\u001B[0m:\u001B[36mset_tensor\u001B[0m:\u001B[36m184\u001B[0m - \u001B[34m\u001B[1mCaching new tensor 'g' with components '[[2*M/r - 1, 0, 0, 0], [0, 1/(-2*M/r + 1), 0, 0], [0, 0, r**2, 0], [0, 0, 0, r**2*sin(theta)**2]]'\u001B[0m\n",
      "\u001B[32m2024-08-24 22:41:31.581\u001B[0m | \u001B[34m\u001B[1mDEBUG   \u001B[0m | \u001B[36mrelativisticpy.workbook.ast_visitor\u001B[0m:\u001B[36mmul\u001B[0m:\u001B[36m110\u001B[0m - \u001B[34m\u001B[1mMultiplying <relativisticpy.diffgeom.derivatives.partial.Derivative object at 0x111db0810> * <relativisticpy.diffgeom.metric.Metric object at 0x112857150> at position TokenPosition(start_pos=Position(line=23, character=59), end_pos=Position(line=23, character=60))\u001B[0m\n",
      "\u001B[32m2024-08-24 22:41:31.585\u001B[0m | \u001B[34m\u001B[1mDEBUG   \u001B[0m | \u001B[36mrelativisticpy.workbook.ast_visitor\u001B[0m:\u001B[36madd\u001B[0m:\u001B[36m98\u001B[0m - \u001B[34m\u001B[1mAdding <relativisticpy.algebras.einstein_summation.EinsumArray object at 0x11297fb10> + <relativisticpy.algebras.einstein_summation.EinsumArray object at 0x112909190> at position TokenPosition(start_pos=Position(line=23, character=43), end_pos=Position(line=23, character=44))\u001B[0m\n",
      "\u001B[32m2024-08-24 22:41:31.592\u001B[0m | \u001B[34m\u001B[1mDEBUG   \u001B[0m | \u001B[36mrelativisticpy.state.scopes\u001B[0m:\u001B[36minit_tensor\u001B[0m:\u001B[36m263\u001B[0m - \u001B[34m\u001B[1mAttempting to initiating 'g_{c}_{f}' by equation from cached tensors.\u001B[0m\n",
      "\u001B[32m2024-08-24 22:41:31.593\u001B[0m | \u001B[34m\u001B[1mDEBUG   \u001B[0m | \u001B[36mrelativisticpy.state.scopes\u001B[0m:\u001B[36minit_tensor\u001B[0m:\u001B[36m266\u001B[0m - \u001B[34m\u001B[1mIdentified 'g_{c}_{f}' to be a Metric. Initializing Metric from Metric.\u001B[0m\n",
      "\u001B[32m2024-08-24 22:41:31.593\u001B[0m | \u001B[34m\u001B[1mDEBUG   \u001B[0m | \u001B[36mrelativisticpy.state.scopes\u001B[0m:\u001B[36mmetric_tensor\u001B[0m:\u001B[36m102\u001B[0m - \u001B[34m\u001B[1mFound 1 Metric Tensor Objects in scope.\u001B[0m\n",
      "\u001B[32m2024-08-24 22:41:31.594\u001B[0m | \u001B[34m\u001B[1mDEBUG   \u001B[0m | \u001B[36mrelativisticpy.state.scopes\u001B[0m:\u001B[36mmetric_tensor\u001B[0m:\u001B[36m103\u001B[0m - \u001B[34m\u001B[1mReturning <relativisticpy.diffgeom.metric.Metric object at 0x111b7c3d0>.\u001B[0m\n",
      "\u001B[32m2024-08-24 22:41:31.595\u001B[0m | \u001B[34m\u001B[1mDEBUG   \u001B[0m | \u001B[36mrelativisticpy.state.scopes\u001B[0m:\u001B[36mmetric_tensor\u001B[0m:\u001B[36m206\u001B[0m - \u001B[34m\u001B[1mFound metric tensor in scope with components: '[[2*M/r - 1, 0, 0, 0], [0, 1/(-2*M/r + 1), 0, 0], [0, 0, r**2, 0], [0, 0, 0, r**2*sin(theta)**2]]'\u001B[0m\n",
      "\u001B[32m2024-08-24 22:41:31.595\u001B[0m | \u001B[34m\u001B[1mDEBUG   \u001B[0m | \u001B[36mrelativisticpy.state.scopes\u001B[0m:\u001B[36mmetric_tensor\u001B[0m:\u001B[36m102\u001B[0m - \u001B[34m\u001B[1mFound 1 Metric Tensor Objects in scope.\u001B[0m\n",
      "\u001B[32m2024-08-24 22:41:31.595\u001B[0m | \u001B[34m\u001B[1mDEBUG   \u001B[0m | \u001B[36mrelativisticpy.state.scopes\u001B[0m:\u001B[36mmetric_tensor\u001B[0m:\u001B[36m103\u001B[0m - \u001B[34m\u001B[1mReturning <relativisticpy.diffgeom.metric.Metric object at 0x111b7c3d0>.\u001B[0m\n",
      "\u001B[32m2024-08-24 22:41:31.597\u001B[0m | \u001B[34m\u001B[1mDEBUG   \u001B[0m | \u001B[36mrelativisticpy.state.scopes\u001B[0m:\u001B[36minit_tensor\u001B[0m:\u001B[36m271\u001B[0m - \u001B[34m\u001B[1mComputed components of 'g_{c}_{f}' to be: '[[2*M/r - 1, 0, 0, 0], [0, 1/(-2*M/r + 1), 0, 0], [0, 0, r**2, 0], [0, 0, 0, r**2*sin(theta)**2]]'\u001B[0m\n",
      "\u001B[32m2024-08-24 22:41:31.598\u001B[0m | \u001B[34m\u001B[1mDEBUG   \u001B[0m | \u001B[36mrelativisticpy.state.scopes\u001B[0m:\u001B[36mset_tensor\u001B[0m:\u001B[36m184\u001B[0m - \u001B[34m\u001B[1mCaching new tensor 'g' with components '[[2*M/r - 1, 0, 0, 0], [0, 1/(-2*M/r + 1), 0, 0], [0, 0, r**2, 0], [0, 0, 0, r**2*sin(theta)**2]]'\u001B[0m\n",
      "\u001B[32m2024-08-24 22:41:31.598\u001B[0m | \u001B[34m\u001B[1mDEBUG   \u001B[0m | \u001B[36mrelativisticpy.workbook.ast_visitor\u001B[0m:\u001B[36mmul\u001B[0m:\u001B[36m110\u001B[0m - \u001B[34m\u001B[1mMultiplying <relativisticpy.diffgeom.derivatives.partial.Derivative object at 0x112909190> * <relativisticpy.diffgeom.metric.Metric object at 0x111d55b90> at position TokenPosition(start_pos=Position(line=23, character=74), end_pos=Position(line=23, character=75))\u001B[0m\n",
      "\u001B[32m2024-08-24 22:41:31.603\u001B[0m | \u001B[34m\u001B[1mDEBUG   \u001B[0m | \u001B[36mrelativisticpy.workbook.ast_visitor\u001B[0m:\u001B[36msub\u001B[0m:\u001B[36m94\u001B[0m - \u001B[34m\u001B[1mSubtracting <relativisticpy.algebras.einstein_summation.EinsumArray object at 0x112786f90> - <relativisticpy.algebras.einstein_summation.EinsumArray object at 0x112995890> at position TokenPosition(start_pos=Position(line=23, character=43), end_pos=Position(line=23, character=44))\u001B[0m\n",
      "\u001B[32m2024-08-24 22:41:31.610\u001B[0m | \u001B[34m\u001B[1mDEBUG   \u001B[0m | \u001B[36mrelativisticpy.workbook.ast_visitor\u001B[0m:\u001B[36mmul\u001B[0m:\u001B[36m110\u001B[0m - \u001B[34m\u001B[1mMultiplying <relativisticpy.diffgeom.metric.Metric object at 0x112957d90> * <relativisticpy.algebras.einstein_summation.EinsumArray object at 0x112966250> at position TokenPosition(start_pos=Position(line=23, character=34), end_pos=Position(line=23, character=35))\u001B[0m\n",
      "\u001B[32m2024-08-24 22:41:31.620\u001B[0m | \u001B[34m\u001B[1mDEBUG   \u001B[0m | \u001B[36mrelativisticpy.workbook.ast_visitor\u001B[0m:\u001B[36mmul\u001B[0m:\u001B[36m110\u001B[0m - \u001B[34m\u001B[1mMultiplying 0.5 * <relativisticpy.algebras.einstein_summation.EinsumArray object at 0x11297e4d0> at position TokenPosition(start_pos=Position(line=23, character=27), end_pos=Position(line=23, character=28))\u001B[0m\n",
      "\u001B[32m2024-08-24 22:41:31.631\u001B[0m | \u001B[34m\u001B[1mDEBUG   \u001B[0m | \u001B[36mrelativisticpy.state.scopes\u001B[0m:\u001B[36mset_tensor\u001B[0m:\u001B[36m184\u001B[0m - \u001B[34m\u001B[1mCaching new tensor 'Gamma' with components '[[[0, -1.0*M/(r**2*(2*M/r - 1)), 0, 0], [-1.0*M/(r**2*(2*M/r - 1)), 0, 0, 0], [0, 0, 0, 0], [0, 0, 0, 0]], [[1.0*M*(-2*M/r + 1)/r**2, 0, 0, 0], [0, -1.0*M/(r**2*(-2*M/r + 1)), 0, 0], [0, 0, -1.0*r*(-2*M/r + 1), 0], [0, 0, 0, -1.0*r*(-2*M/r + 1)*sin(theta)**2]], [[0, 0, 0, 0], [0, 0, 1.0/r, 0], [0, 1.0/r, 0, 0], [0, 0, 0, -1.0*sin(theta)*cos(theta)]], [[0, 0, 0, 0], [0, 0, 0, 1.0/r], [0, 0, 0, 1.0*cos(theta)/sin(theta)], [0, 1.0/r, 1.0*cos(theta)/sin(theta), 0]]]'\u001B[0m\n",
      "\u001B[32m2024-08-24 22:41:31.632\u001B[0m | \u001B[34m\u001B[1mDEBUG   \u001B[0m | \u001B[36mrelativisticpy.state.scopes\u001B[0m:\u001B[36minit_tensor\u001B[0m:\u001B[36m263\u001B[0m - \u001B[34m\u001B[1mAttempting to initiating 'Gamma^{a}_{n}_{m}' by equation from cached tensors.\u001B[0m\n",
      "\u001B[32m2024-08-24 22:41:31.635\u001B[0m | \u001B[34m\u001B[1mDEBUG   \u001B[0m | \u001B[36mrelativisticpy.state.scopes\u001B[0m:\u001B[36mset_tensor\u001B[0m:\u001B[36m184\u001B[0m - \u001B[34m\u001B[1mCaching new tensor 'Gamma' with components '[[[0, -1.0*M/(r**2*(2*M/r - 1)), 0, 0], [-1.0*M/(r**2*(2*M/r - 1)), 0, 0, 0], [0, 0, 0, 0], [0, 0, 0, 0]], [[1.0*M*(-2*M/r + 1)/r**2, 0, 0, 0], [0, -1.0*M/(r**2*(-2*M/r + 1)), 0, 0], [0, 0, -1.0*r*(-2*M/r + 1), 0], [0, 0, 0, -1.0*r*(-2*M/r + 1)*sin(theta)**2]], [[0, 0, 0, 0], [0, 0, 1.0/r, 0], [0, 1.0/r, 0, 0], [0, 0, 0, -1.0*sin(theta)*cos(theta)]], [[0, 0, 0, 0], [0, 0, 0, 1.0/r], [0, 0, 0, 1.0*cos(theta)/sin(theta)], [0, 1.0/r, 1.0*cos(theta)/sin(theta), 0]]]'\u001B[0m\n",
      "\u001B[32m2024-08-24 22:41:31.635\u001B[0m | \u001B[34m\u001B[1mDEBUG   \u001B[0m | \u001B[36mrelativisticpy.workbook.ast_visitor\u001B[0m:\u001B[36mmul\u001B[0m:\u001B[36m110\u001B[0m - \u001B[34m\u001B[1mMultiplying <relativisticpy.diffgeom.derivatives.partial.Derivative object at 0x1129be290> * <relativisticpy.diffgeom.tensor.Tensor object at 0x11297fcd0> at position TokenPosition(start_pos=Position(line=25, character=31), end_pos=Position(line=25, character=32))\u001B[0m\n",
      "\u001B[32m2024-08-24 22:41:31.687\u001B[0m | \u001B[34m\u001B[1mDEBUG   \u001B[0m | \u001B[36mrelativisticpy.state.scopes\u001B[0m:\u001B[36minit_tensor\u001B[0m:\u001B[36m263\u001B[0m - \u001B[34m\u001B[1mAttempting to initiating 'Gamma^{a}_{b}_{l}' by equation from cached tensors.\u001B[0m\n",
      "\u001B[32m2024-08-24 22:41:31.691\u001B[0m | \u001B[34m\u001B[1mDEBUG   \u001B[0m | \u001B[36mrelativisticpy.state.scopes\u001B[0m:\u001B[36mset_tensor\u001B[0m:\u001B[36m184\u001B[0m - \u001B[34m\u001B[1mCaching new tensor 'Gamma' with components '[[[0, -1.0*M/(r**2*(2*M/r - 1)), 0, 0], [-1.0*M/(r**2*(2*M/r - 1)), 0, 0, 0], [0, 0, 0, 0], [0, 0, 0, 0]], [[1.0*M*(-2*M/r + 1)/r**2, 0, 0, 0], [0, -1.0*M/(r**2*(-2*M/r + 1)), 0, 0], [0, 0, -1.0*r*(-2*M/r + 1), 0], [0, 0, 0, -1.0*r*(-2*M/r + 1)*sin(theta)**2]], [[0, 0, 0, 0], [0, 0, 1.0/r, 0], [0, 1.0/r, 0, 0], [0, 0, 0, -1.0*sin(theta)*cos(theta)]], [[0, 0, 0, 0], [0, 0, 0, 1.0/r], [0, 0, 0, 1.0*cos(theta)/sin(theta)], [0, 1.0/r, 1.0*cos(theta)/sin(theta), 0]]]'\u001B[0m\n",
      "\u001B[32m2024-08-24 22:41:31.692\u001B[0m | \u001B[34m\u001B[1mDEBUG   \u001B[0m | \u001B[36mrelativisticpy.state.scopes\u001B[0m:\u001B[36minit_tensor\u001B[0m:\u001B[36m263\u001B[0m - \u001B[34m\u001B[1mAttempting to initiating 'Gamma^{l}_{n}_{m}' by equation from cached tensors.\u001B[0m\n",
      "\u001B[32m2024-08-24 22:41:31.694\u001B[0m | \u001B[34m\u001B[1mDEBUG   \u001B[0m | \u001B[36mrelativisticpy.state.scopes\u001B[0m:\u001B[36mset_tensor\u001B[0m:\u001B[36m184\u001B[0m - \u001B[34m\u001B[1mCaching new tensor 'Gamma' with components '[[[0, -1.0*M/(r**2*(2*M/r - 1)), 0, 0], [-1.0*M/(r**2*(2*M/r - 1)), 0, 0, 0], [0, 0, 0, 0], [0, 0, 0, 0]], [[1.0*M*(-2*M/r + 1)/r**2, 0, 0, 0], [0, -1.0*M/(r**2*(-2*M/r + 1)), 0, 0], [0, 0, -1.0*r*(-2*M/r + 1), 0], [0, 0, 0, -1.0*r*(-2*M/r + 1)*sin(theta)**2]], [[0, 0, 0, 0], [0, 0, 1.0/r, 0], [0, 1.0/r, 0, 0], [0, 0, 0, -1.0*sin(theta)*cos(theta)]], [[0, 0, 0, 0], [0, 0, 0, 1.0/r], [0, 0, 0, 1.0*cos(theta)/sin(theta)], [0, 1.0/r, 1.0*cos(theta)/sin(theta), 0]]]'\u001B[0m\n",
      "\u001B[32m2024-08-24 22:41:31.695\u001B[0m | \u001B[34m\u001B[1mDEBUG   \u001B[0m | \u001B[36mrelativisticpy.workbook.ast_visitor\u001B[0m:\u001B[36mmul\u001B[0m:\u001B[36m110\u001B[0m - \u001B[34m\u001B[1mMultiplying <relativisticpy.diffgeom.tensor.Tensor object at 0x1129bf050> * <relativisticpy.diffgeom.tensor.Tensor object at 0x1129da090> at position TokenPosition(start_pos=Position(line=25, character=55), end_pos=Position(line=25, character=60))\u001B[0m\n",
      "\u001B[32m2024-08-24 22:41:31.809\u001B[0m | \u001B[34m\u001B[1mDEBUG   \u001B[0m | \u001B[36mrelativisticpy.workbook.ast_visitor\u001B[0m:\u001B[36madd\u001B[0m:\u001B[36m98\u001B[0m - \u001B[34m\u001B[1mAdding <relativisticpy.algebras.einstein_summation.EinsumArray object at 0x11293a050> + <relativisticpy.diffgeom.tensor.Tensor object at 0x112986f50> at position TokenPosition(start_pos=Position(line=25, character=31), end_pos=Position(line=25, character=32))\u001B[0m\n",
      "\u001B[32m2024-08-24 22:41:31.921\u001B[0m | \u001B[34m\u001B[1mDEBUG   \u001B[0m | \u001B[36mrelativisticpy.state.scopes\u001B[0m:\u001B[36minit_tensor\u001B[0m:\u001B[36m263\u001B[0m - \u001B[34m\u001B[1mAttempting to initiating 'Gamma^{a}_{b}_{m}' by equation from cached tensors.\u001B[0m\n",
      "\u001B[32m2024-08-24 22:41:31.926\u001B[0m | \u001B[34m\u001B[1mDEBUG   \u001B[0m | \u001B[36mrelativisticpy.state.scopes\u001B[0m:\u001B[36mset_tensor\u001B[0m:\u001B[36m184\u001B[0m - \u001B[34m\u001B[1mCaching new tensor 'Gamma' with components '[[[0, -1.0*M/(r**2*(2*M/r - 1)), 0, 0], [-1.0*M/(r**2*(2*M/r - 1)), 0, 0, 0], [0, 0, 0, 0], [0, 0, 0, 0]], [[1.0*M*(-2*M/r + 1)/r**2, 0, 0, 0], [0, -1.0*M/(r**2*(-2*M/r + 1)), 0, 0], [0, 0, -1.0*r*(-2*M/r + 1), 0], [0, 0, 0, -1.0*r*(-2*M/r + 1)*sin(theta)**2]], [[0, 0, 0, 0], [0, 0, 1.0/r, 0], [0, 1.0/r, 0, 0], [0, 0, 0, -1.0*sin(theta)*cos(theta)]], [[0, 0, 0, 0], [0, 0, 0, 1.0/r], [0, 0, 0, 1.0*cos(theta)/sin(theta)], [0, 1.0/r, 1.0*cos(theta)/sin(theta), 0]]]'\u001B[0m\n",
      "\u001B[32m2024-08-24 22:41:31.926\u001B[0m | \u001B[34m\u001B[1mDEBUG   \u001B[0m | \u001B[36mrelativisticpy.workbook.ast_visitor\u001B[0m:\u001B[36mmul\u001B[0m:\u001B[36m110\u001B[0m - \u001B[34m\u001B[1mMultiplying <relativisticpy.diffgeom.derivatives.partial.Derivative object at 0x112a1d950> * <relativisticpy.diffgeom.tensor.Tensor object at 0x112a1e010> at position TokenPosition(start_pos=Position(line=25, character=89), end_pos=Position(line=25, character=90))\u001B[0m\n",
      "\u001B[32m2024-08-24 22:41:31.958\u001B[0m | \u001B[34m\u001B[1mDEBUG   \u001B[0m | \u001B[36mrelativisticpy.workbook.ast_visitor\u001B[0m:\u001B[36msub\u001B[0m:\u001B[36m94\u001B[0m - \u001B[34m\u001B[1mSubtracting <relativisticpy.algebras.einstein_summation.EinsumArray object at 0x11283bdd0> - <relativisticpy.algebras.einstein_summation.EinsumArray object at 0x1129a3610> at position TokenPosition(start_pos=Position(line=25, character=31), end_pos=Position(line=25, character=32))\u001B[0m\n",
      "\u001B[32m2024-08-24 22:41:32.029\u001B[0m | \u001B[34m\u001B[1mDEBUG   \u001B[0m | \u001B[36mrelativisticpy.state.scopes\u001B[0m:\u001B[36minit_tensor\u001B[0m:\u001B[36m263\u001B[0m - \u001B[34m\u001B[1mAttempting to initiating 'Gamma^{a}_{n}_{l}' by equation from cached tensors.\u001B[0m\n",
      "\u001B[32m2024-08-24 22:41:32.033\u001B[0m | \u001B[34m\u001B[1mDEBUG   \u001B[0m | \u001B[36mrelativisticpy.state.scopes\u001B[0m:\u001B[36mset_tensor\u001B[0m:\u001B[36m184\u001B[0m - \u001B[34m\u001B[1mCaching new tensor 'Gamma' with components '[[[0, -1.0*M/(r**2*(2*M/r - 1)), 0, 0], [-1.0*M/(r**2*(2*M/r - 1)), 0, 0, 0], [0, 0, 0, 0], [0, 0, 0, 0]], [[1.0*M*(-2*M/r + 1)/r**2, 0, 0, 0], [0, -1.0*M/(r**2*(-2*M/r + 1)), 0, 0], [0, 0, -1.0*r*(-2*M/r + 1), 0], [0, 0, 0, -1.0*r*(-2*M/r + 1)*sin(theta)**2]], [[0, 0, 0, 0], [0, 0, 1.0/r, 0], [0, 1.0/r, 0, 0], [0, 0, 0, -1.0*sin(theta)*cos(theta)]], [[0, 0, 0, 0], [0, 0, 0, 1.0/r], [0, 0, 0, 1.0*cos(theta)/sin(theta)], [0, 1.0/r, 1.0*cos(theta)/sin(theta), 0]]]'\u001B[0m\n",
      "\u001B[32m2024-08-24 22:41:32.034\u001B[0m | \u001B[34m\u001B[1mDEBUG   \u001B[0m | \u001B[36mrelativisticpy.state.scopes\u001B[0m:\u001B[36minit_tensor\u001B[0m:\u001B[36m263\u001B[0m - \u001B[34m\u001B[1mAttempting to initiating 'Gamma^{l}_{b}_{m}' by equation from cached tensors.\u001B[0m\n",
      "\u001B[32m2024-08-24 22:41:32.037\u001B[0m | \u001B[34m\u001B[1mDEBUG   \u001B[0m | \u001B[36mrelativisticpy.state.scopes\u001B[0m:\u001B[36mset_tensor\u001B[0m:\u001B[36m184\u001B[0m - \u001B[34m\u001B[1mCaching new tensor 'Gamma' with components '[[[0, -1.0*M/(r**2*(2*M/r - 1)), 0, 0], [-1.0*M/(r**2*(2*M/r - 1)), 0, 0, 0], [0, 0, 0, 0], [0, 0, 0, 0]], [[1.0*M*(-2*M/r + 1)/r**2, 0, 0, 0], [0, -1.0*M/(r**2*(-2*M/r + 1)), 0, 0], [0, 0, -1.0*r*(-2*M/r + 1), 0], [0, 0, 0, -1.0*r*(-2*M/r + 1)*sin(theta)**2]], [[0, 0, 0, 0], [0, 0, 1.0/r, 0], [0, 1.0/r, 0, 0], [0, 0, 0, -1.0*sin(theta)*cos(theta)]], [[0, 0, 0, 0], [0, 0, 0, 1.0/r], [0, 0, 0, 1.0*cos(theta)/sin(theta)], [0, 1.0/r, 1.0*cos(theta)/sin(theta), 0]]]'\u001B[0m\n",
      "\u001B[32m2024-08-24 22:41:32.038\u001B[0m | \u001B[34m\u001B[1mDEBUG   \u001B[0m | \u001B[36mrelativisticpy.workbook.ast_visitor\u001B[0m:\u001B[36mmul\u001B[0m:\u001B[36m110\u001B[0m - \u001B[34m\u001B[1mMultiplying <relativisticpy.diffgeom.tensor.Tensor object at 0x1128f4c50> * <relativisticpy.diffgeom.tensor.Tensor object at 0x1128c3a10> at position TokenPosition(start_pos=Position(line=25, character=113), end_pos=Position(line=25, character=118))\u001B[0m\n",
      "\u001B[32m2024-08-24 22:41:32.139\u001B[0m | \u001B[34m\u001B[1mDEBUG   \u001B[0m | \u001B[36mrelativisticpy.workbook.ast_visitor\u001B[0m:\u001B[36msub\u001B[0m:\u001B[36m94\u001B[0m - \u001B[34m\u001B[1mSubtracting <relativisticpy.algebras.einstein_summation.EinsumArray object at 0x1129b8b10> - <relativisticpy.diffgeom.tensor.Tensor object at 0x1129f3810> at position TokenPosition(start_pos=Position(line=25, character=31), end_pos=Position(line=25, character=32))\u001B[0m\n",
      "\u001B[32m2024-08-24 22:41:32.231\u001B[0m | \u001B[34m\u001B[1mDEBUG   \u001B[0m | \u001B[36mrelativisticpy.state.scopes\u001B[0m:\u001B[36mset_tensor\u001B[0m:\u001B[36m184\u001B[0m - \u001B[34m\u001B[1mCaching new tensor 'Riemann' with components '[[[[0, 0, 0, 0], [0, 0, 0, 0], [0, 0, 0, 0], [0, 0, 0, 0]], [[0, 1.0*M**2/(r**4*(2*M/r - 1)**2) + 1.0*M**2/(r**4*(-2*M/r + 1)*(2*M/r - 1)) - 2.0*M/(r**3*(2*M/r - 1)), 0, 0], [-1.0*M**2/(r**4*(2*M/r - 1)**2) - 1.0*M**2/(r**4*(-2*M/r + 1)*(2*M/r - 1)) + 2.0*M/(r**3*(2*M/r - 1)), 0, 0, 0], [0, 0, 0, 0], [0, 0, 0, 0]], [[0, 0, 1.0*M*(-2*M/r + 1)/(r*(2*M/r - 1)), 0], [0, 0, 0, 0], [-1.0*M*(-2*M/r + 1)/(r*(2*M/r - 1)), 0, 0, 0], [0, 0, 0, 0]], [[0, 0, 0, 1.0*M*(-2*M/r + 1)*sin(theta)**2/(r*(2*M/r - 1))], [0, 0, 0, 0], [0, 0, 0, 0], [-1.0*M*(-2*M/r + 1)*sin(theta)**2/(r*(2*M/r - 1)), 0, 0, 0]]], [[[0, -1.0*M**2*(-2*M/r + 1)/(r**4*(2*M/r - 1)) - 1.0*M**2/r**4 + 2.0*M*(-2*M/r + 1)/r**3, 0, 0], [1.0*M**2*(-2*M/r + 1)/(r**4*(2*M/r - 1)) + 1.0*M**2/r**4 - 2.0*M*(-2*M/r + 1)/r**3, 0, 0, 0], [0, 0, 0, 0], [0, 0, 0, 0]], [[0, 0, 0, 0], [0, 0, 0, 0], [0, 0, 0, 0], [0, 0, 0, 0]], [[0, 0, 0, 0], [0, 0, -1.0*M/r, 0], [0, 1.0*M/r, 0, 0], [0, 0, 0, 0]], [[0, 0, 0, 0], [0, 0, 0, -1.0*M*sin(theta)**2/r], [0, 0, 0, 0], [0, 1.0*M*sin(theta)**2/r, 0, 0]]], [[[0, 0, -1.0*M*(-2*M/r + 1)/r**3, 0], [0, 0, 0, 0], [1.0*M*(-2*M/r + 1)/r**3, 0, 0, 0], [0, 0, 0, 0]], [[0, 0, 0, 0], [0, 0, 1.0*M/(r**3*(-2*M/r + 1)), 0], [0, -1.0*M/(r**3*(-2*M/r + 1)), 0, 0], [0, 0, 0, 0]], [[0, 0, 0, 0], [0, 0, 0, 0], [0, 0, 0, 0], [0, 0, 0, 0]], [[0, 0, 0, 0], [0, 0, 0, 0], [0, 0, 0, -1.0*(-2*M/r + 1)*sin(theta)**2 + 1.0*sin(theta)**2], [0, 0, 1.0*(-2*M/r + 1)*sin(theta)**2 - 1.0*sin(theta)**2, 0]]], [[[0, 0, 0, -1.0*M*(-2*M/r + 1)/r**3], [0, 0, 0, 0], [0, 0, 0, 0], [1.0*M*(-2*M/r + 1)/r**3, 0, 0, 0]], [[0, 0, 0, 0], [0, 0, 0, 1.0*M/(r**3*(-2*M/r + 1))], [0, 0, 0, 0], [0, -1.0*M/(r**3*(-2*M/r + 1)), 0, 0]], [[0, 0, 0, 0], [0, 0, 0, 0], [0, 0, 0, -2.0*M/r], [0, 0, 2.0*M/r, 0]], [[0, 0, 0, 0], [0, 0, 0, 0], [0, 0, 0, 0], [0, 0, 0, 0]]]]'\u001B[0m\n",
      "\u001B[32m2024-08-24 22:41:32.232\u001B[0m | \u001B[34m\u001B[1mDEBUG   \u001B[0m | \u001B[36mrelativisticpy.state.scopes\u001B[0m:\u001B[36minit_tensor\u001B[0m:\u001B[36m263\u001B[0m - \u001B[34m\u001B[1mAttempting to initiating 'Riemann^{a}_{m}_{a}_{n}' by equation from cached tensors.\u001B[0m\n",
      "\u001B[32m2024-08-24 22:41:32.245\u001B[0m | \u001B[34m\u001B[1mDEBUG   \u001B[0m | \u001B[36mrelativisticpy.state.scopes\u001B[0m:\u001B[36mset_tensor\u001B[0m:\u001B[36m184\u001B[0m - \u001B[34m\u001B[1mCaching new tensor 'Ricci' with components '[[1.0*M**2*(-2*M/r + 1)/(r**4*(2*M/r - 1)) + 1.0*M**2/r**4, 0, 0, 0], [0, 1.0*M**2/(r**4*(2*M/r - 1)**2) + 1.0*M**2/(r**4*(-2*M/r + 1)*(2*M/r - 1)) - 2.0*M/(r**3*(2*M/r - 1)) - 2.0*M/(r**3*(-2*M/r + 1)), 0, 0], [0, 0, 1.0*M*(-2*M/r + 1)/(r*(2*M/r - 1)) + 1.0*M/r, 0], [0, 0, 0, 1.0*M*(-2*M/r + 1)*sin(theta)**2/(r*(2*M/r - 1)) - 1.0*M*sin(theta)**2/r - 1.0*(-2*M/r + 1)*sin(theta)**2 + 1.0*sin(theta)**2]]'\u001B[0m\n",
      "\u001B[32m2024-08-24 22:41:32.247\u001B[0m | \u001B[34m\u001B[1mDEBUG   \u001B[0m | \u001B[36mrelativisticpy.state.scopes\u001B[0m:\u001B[36minit_tensor\u001B[0m:\u001B[36m263\u001B[0m - \u001B[34m\u001B[1mAttempting to initiating 'g^{s}^{q}' by equation from cached tensors.\u001B[0m\n",
      "\u001B[32m2024-08-24 22:41:32.247\u001B[0m | \u001B[34m\u001B[1mDEBUG   \u001B[0m | \u001B[36mrelativisticpy.state.scopes\u001B[0m:\u001B[36minit_tensor\u001B[0m:\u001B[36m266\u001B[0m - \u001B[34m\u001B[1mIdentified 'g^{s}^{q}' to be a Metric. Initializing Metric from Metric.\u001B[0m\n",
      "\u001B[32m2024-08-24 22:41:32.248\u001B[0m | \u001B[34m\u001B[1mDEBUG   \u001B[0m | \u001B[36mrelativisticpy.state.scopes\u001B[0m:\u001B[36mmetric_tensor\u001B[0m:\u001B[36m102\u001B[0m - \u001B[34m\u001B[1mFound 1 Metric Tensor Objects in scope.\u001B[0m\n",
      "\u001B[32m2024-08-24 22:41:32.248\u001B[0m | \u001B[34m\u001B[1mDEBUG   \u001B[0m | \u001B[36mrelativisticpy.state.scopes\u001B[0m:\u001B[36mmetric_tensor\u001B[0m:\u001B[36m103\u001B[0m - \u001B[34m\u001B[1mReturning <relativisticpy.diffgeom.metric.Metric object at 0x11238b3d0>.\u001B[0m\n",
      "\u001B[32m2024-08-24 22:41:32.250\u001B[0m | \u001B[34m\u001B[1mDEBUG   \u001B[0m | \u001B[36mrelativisticpy.state.scopes\u001B[0m:\u001B[36mmetric_tensor\u001B[0m:\u001B[36m206\u001B[0m - \u001B[34m\u001B[1mFound metric tensor in scope with components: '[[2*M/r - 1, 0, 0, 0], [0, 1/(-2*M/r + 1), 0, 0], [0, 0, r**2, 0], [0, 0, 0, r**2*sin(theta)**2]]'\u001B[0m\n",
      "\u001B[32m2024-08-24 22:41:32.250\u001B[0m | \u001B[34m\u001B[1mDEBUG   \u001B[0m | \u001B[36mrelativisticpy.state.scopes\u001B[0m:\u001B[36mmetric_tensor\u001B[0m:\u001B[36m102\u001B[0m - \u001B[34m\u001B[1mFound 1 Metric Tensor Objects in scope.\u001B[0m\n",
      "\u001B[32m2024-08-24 22:41:32.251\u001B[0m | \u001B[34m\u001B[1mDEBUG   \u001B[0m | \u001B[36mrelativisticpy.state.scopes\u001B[0m:\u001B[36mmetric_tensor\u001B[0m:\u001B[36m103\u001B[0m - \u001B[34m\u001B[1mReturning <relativisticpy.diffgeom.metric.Metric object at 0x11238b3d0>.\u001B[0m\n",
      "\u001B[32m2024-08-24 22:41:32.352\u001B[0m | \u001B[34m\u001B[1mDEBUG   \u001B[0m | \u001B[36mrelativisticpy.state.scopes\u001B[0m:\u001B[36minit_tensor\u001B[0m:\u001B[36m271\u001B[0m - \u001B[34m\u001B[1mComputed components of 'g^{s}^{q}' to be: '[[1/(2*M/r - 1), 0, 0, 0], [0, -2*M/r + 1, 0, 0], [0, 0, r**(-2), 0], [0, 0, 0, 1/(r**2*sin(theta)**2)]]'\u001B[0m\n",
      "\u001B[32m2024-08-24 22:41:32.355\u001B[0m | \u001B[34m\u001B[1mDEBUG   \u001B[0m | \u001B[36mrelativisticpy.state.scopes\u001B[0m:\u001B[36mset_tensor\u001B[0m:\u001B[36m184\u001B[0m - \u001B[34m\u001B[1mCaching new tensor 'g' with components '[[1/(2*M/r - 1), 0, 0, 0], [0, -2*M/r + 1, 0, 0], [0, 0, r**(-2), 0], [0, 0, 0, 1/(r**2*sin(theta)**2)]]'\u001B[0m\n",
      "\u001B[32m2024-08-24 22:41:32.356\u001B[0m | \u001B[34m\u001B[1mDEBUG   \u001B[0m | \u001B[36mrelativisticpy.state.scopes\u001B[0m:\u001B[36minit_tensor\u001B[0m:\u001B[36m263\u001B[0m - \u001B[34m\u001B[1mAttempting to initiating 'g^{h}^{c}' by equation from cached tensors.\u001B[0m\n",
      "\u001B[32m2024-08-24 22:41:32.357\u001B[0m | \u001B[34m\u001B[1mDEBUG   \u001B[0m | \u001B[36mrelativisticpy.state.scopes\u001B[0m:\u001B[36minit_tensor\u001B[0m:\u001B[36m266\u001B[0m - \u001B[34m\u001B[1mIdentified 'g^{h}^{c}' to be a Metric. Initializing Metric from Metric.\u001B[0m\n",
      "\u001B[32m2024-08-24 22:41:32.358\u001B[0m | \u001B[34m\u001B[1mDEBUG   \u001B[0m | \u001B[36mrelativisticpy.state.scopes\u001B[0m:\u001B[36mmetric_tensor\u001B[0m:\u001B[36m102\u001B[0m - \u001B[34m\u001B[1mFound 1 Metric Tensor Objects in scope.\u001B[0m\n",
      "\u001B[32m2024-08-24 22:41:32.359\u001B[0m | \u001B[34m\u001B[1mDEBUG   \u001B[0m | \u001B[36mrelativisticpy.state.scopes\u001B[0m:\u001B[36mmetric_tensor\u001B[0m:\u001B[36m103\u001B[0m - \u001B[34m\u001B[1mReturning <relativisticpy.diffgeom.metric.Metric object at 0x1129ba8d0>.\u001B[0m\n",
      "\u001B[32m2024-08-24 22:41:32.362\u001B[0m | \u001B[34m\u001B[1mDEBUG   \u001B[0m | \u001B[36mrelativisticpy.state.scopes\u001B[0m:\u001B[36mmetric_tensor\u001B[0m:\u001B[36m206\u001B[0m - \u001B[34m\u001B[1mFound metric tensor in scope with components: '[[1/(2*M/r - 1), 0, 0, 0], [0, -2*M/r + 1, 0, 0], [0, 0, r**(-2), 0], [0, 0, 0, 1/(r**2*sin(theta)**2)]]'\u001B[0m\n",
      "\u001B[32m2024-08-24 22:41:32.364\u001B[0m | \u001B[34m\u001B[1mDEBUG   \u001B[0m | \u001B[36mrelativisticpy.state.scopes\u001B[0m:\u001B[36mmetric_tensor\u001B[0m:\u001B[36m102\u001B[0m - \u001B[34m\u001B[1mFound 1 Metric Tensor Objects in scope.\u001B[0m\n",
      "\u001B[32m2024-08-24 22:41:32.365\u001B[0m | \u001B[34m\u001B[1mDEBUG   \u001B[0m | \u001B[36mrelativisticpy.state.scopes\u001B[0m:\u001B[36mmetric_tensor\u001B[0m:\u001B[36m103\u001B[0m - \u001B[34m\u001B[1mReturning <relativisticpy.diffgeom.metric.Metric object at 0x1129ba8d0>.\u001B[0m\n",
      "\u001B[32m2024-08-24 22:41:32.367\u001B[0m | \u001B[34m\u001B[1mDEBUG   \u001B[0m | \u001B[36mrelativisticpy.state.scopes\u001B[0m:\u001B[36minit_tensor\u001B[0m:\u001B[36m271\u001B[0m - \u001B[34m\u001B[1mComputed components of 'g^{h}^{c}' to be: '[[1/(2*M/r - 1), 0, 0, 0], [0, -2*M/r + 1, 0, 0], [0, 0, r**(-2), 0], [0, 0, 0, 1/(r**2*sin(theta)**2)]]'\u001B[0m\n",
      "\u001B[32m2024-08-24 22:41:32.369\u001B[0m | \u001B[34m\u001B[1mDEBUG   \u001B[0m | \u001B[36mrelativisticpy.state.scopes\u001B[0m:\u001B[36mset_tensor\u001B[0m:\u001B[36m184\u001B[0m - \u001B[34m\u001B[1mCaching new tensor 'g' with components '[[1/(2*M/r - 1), 0, 0, 0], [0, -2*M/r + 1, 0, 0], [0, 0, r**(-2), 0], [0, 0, 0, 1/(r**2*sin(theta)**2)]]'\u001B[0m\n",
      "\u001B[32m2024-08-24 22:41:32.371\u001B[0m | \u001B[34m\u001B[1mDEBUG   \u001B[0m | \u001B[36mrelativisticpy.state.scopes\u001B[0m:\u001B[36minit_tensor\u001B[0m:\u001B[36m263\u001B[0m - \u001B[34m\u001B[1mAttempting to initiating 'g^{f}^{b}' by equation from cached tensors.\u001B[0m\n",
      "\u001B[32m2024-08-24 22:41:32.372\u001B[0m | \u001B[34m\u001B[1mDEBUG   \u001B[0m | \u001B[36mrelativisticpy.state.scopes\u001B[0m:\u001B[36minit_tensor\u001B[0m:\u001B[36m266\u001B[0m - \u001B[34m\u001B[1mIdentified 'g^{f}^{b}' to be a Metric. Initializing Metric from Metric.\u001B[0m\n",
      "\u001B[32m2024-08-24 22:41:32.373\u001B[0m | \u001B[34m\u001B[1mDEBUG   \u001B[0m | \u001B[36mrelativisticpy.state.scopes\u001B[0m:\u001B[36mmetric_tensor\u001B[0m:\u001B[36m102\u001B[0m - \u001B[34m\u001B[1mFound 1 Metric Tensor Objects in scope.\u001B[0m\n",
      "\u001B[32m2024-08-24 22:41:32.374\u001B[0m | \u001B[34m\u001B[1mDEBUG   \u001B[0m | \u001B[36mrelativisticpy.state.scopes\u001B[0m:\u001B[36mmetric_tensor\u001B[0m:\u001B[36m103\u001B[0m - \u001B[34m\u001B[1mReturning <relativisticpy.diffgeom.metric.Metric object at 0x1127b6a10>.\u001B[0m\n",
      "\u001B[32m2024-08-24 22:41:32.377\u001B[0m | \u001B[34m\u001B[1mDEBUG   \u001B[0m | \u001B[36mrelativisticpy.state.scopes\u001B[0m:\u001B[36mmetric_tensor\u001B[0m:\u001B[36m206\u001B[0m - \u001B[34m\u001B[1mFound metric tensor in scope with components: '[[1/(2*M/r - 1), 0, 0, 0], [0, -2*M/r + 1, 0, 0], [0, 0, r**(-2), 0], [0, 0, 0, 1/(r**2*sin(theta)**2)]]'\u001B[0m\n",
      "\u001B[32m2024-08-24 22:41:32.378\u001B[0m | \u001B[34m\u001B[1mDEBUG   \u001B[0m | \u001B[36mrelativisticpy.state.scopes\u001B[0m:\u001B[36mmetric_tensor\u001B[0m:\u001B[36m102\u001B[0m - \u001B[34m\u001B[1mFound 1 Metric Tensor Objects in scope.\u001B[0m\n",
      "\u001B[32m2024-08-24 22:41:32.379\u001B[0m | \u001B[34m\u001B[1mDEBUG   \u001B[0m | \u001B[36mrelativisticpy.state.scopes\u001B[0m:\u001B[36mmetric_tensor\u001B[0m:\u001B[36m103\u001B[0m - \u001B[34m\u001B[1mReturning <relativisticpy.diffgeom.metric.Metric object at 0x1127b6a10>.\u001B[0m\n",
      "\u001B[32m2024-08-24 22:41:32.381\u001B[0m | \u001B[34m\u001B[1mDEBUG   \u001B[0m | \u001B[36mrelativisticpy.state.scopes\u001B[0m:\u001B[36minit_tensor\u001B[0m:\u001B[36m271\u001B[0m - \u001B[34m\u001B[1mComputed components of 'g^{f}^{b}' to be: '[[1/(2*M/r - 1), 0, 0, 0], [0, -2*M/r + 1, 0, 0], [0, 0, r**(-2), 0], [0, 0, 0, 1/(r**2*sin(theta)**2)]]'\u001B[0m\n",
      "\u001B[32m2024-08-24 22:41:32.384\u001B[0m | \u001B[34m\u001B[1mDEBUG   \u001B[0m | \u001B[36mrelativisticpy.state.scopes\u001B[0m:\u001B[36mset_tensor\u001B[0m:\u001B[36m184\u001B[0m - \u001B[34m\u001B[1mCaching new tensor 'g' with components '[[1/(2*M/r - 1), 0, 0, 0], [0, -2*M/r + 1, 0, 0], [0, 0, r**(-2), 0], [0, 0, 0, 1/(r**2*sin(theta)**2)]]'\u001B[0m\n",
      "\u001B[32m2024-08-24 22:41:32.385\u001B[0m | \u001B[34m\u001B[1mDEBUG   \u001B[0m | \u001B[36mrelativisticpy.state.scopes\u001B[0m:\u001B[36minit_tensor\u001B[0m:\u001B[36m263\u001B[0m - \u001B[34m\u001B[1mAttempting to initiating 'Riemann^{a}_{b}_{c}_{q}' by equation from cached tensors.\u001B[0m\n",
      "\u001B[32m2024-08-24 22:41:32.412\u001B[0m | \u001B[34m\u001B[1mDEBUG   \u001B[0m | \u001B[36mrelativisticpy.state.scopes\u001B[0m:\u001B[36mset_tensor\u001B[0m:\u001B[36m184\u001B[0m - \u001B[34m\u001B[1mCaching new tensor 'Riemann' with components '[[[[0, 0, 0, 0], [0, 0, 0, 0], [0, 0, 0, 0], [0, 0, 0, 0]], [[0, 1.0*M**2/(r**4*(2*M/r - 1)**2) + 1.0*M**2/(r**4*(-2*M/r + 1)*(2*M/r - 1)) - 2.0*M/(r**3*(2*M/r - 1)), 0, 0], [-1.0*M**2/(r**4*(2*M/r - 1)**2) - 1.0*M**2/(r**4*(-2*M/r + 1)*(2*M/r - 1)) + 2.0*M/(r**3*(2*M/r - 1)), 0, 0, 0], [0, 0, 0, 0], [0, 0, 0, 0]], [[0, 0, 1.0*M*(-2*M/r + 1)/(r*(2*M/r - 1)), 0], [0, 0, 0, 0], [-1.0*M*(-2*M/r + 1)/(r*(2*M/r - 1)), 0, 0, 0], [0, 0, 0, 0]], [[0, 0, 0, 1.0*M*(-2*M/r + 1)*sin(theta)**2/(r*(2*M/r - 1))], [0, 0, 0, 0], [0, 0, 0, 0], [-1.0*M*(-2*M/r + 1)*sin(theta)**2/(r*(2*M/r - 1)), 0, 0, 0]]], [[[0, -1.0*M**2*(-2*M/r + 1)/(r**4*(2*M/r - 1)) - 1.0*M**2/r**4 + 2.0*M*(-2*M/r + 1)/r**3, 0, 0], [1.0*M**2*(-2*M/r + 1)/(r**4*(2*M/r - 1)) + 1.0*M**2/r**4 - 2.0*M*(-2*M/r + 1)/r**3, 0, 0, 0], [0, 0, 0, 0], [0, 0, 0, 0]], [[0, 0, 0, 0], [0, 0, 0, 0], [0, 0, 0, 0], [0, 0, 0, 0]], [[0, 0, 0, 0], [0, 0, -1.0*M/r, 0], [0, 1.0*M/r, 0, 0], [0, 0, 0, 0]], [[0, 0, 0, 0], [0, 0, 0, -1.0*M*sin(theta)**2/r], [0, 0, 0, 0], [0, 1.0*M*sin(theta)**2/r, 0, 0]]], [[[0, 0, -1.0*M*(-2*M/r + 1)/r**3, 0], [0, 0, 0, 0], [1.0*M*(-2*M/r + 1)/r**3, 0, 0, 0], [0, 0, 0, 0]], [[0, 0, 0, 0], [0, 0, 1.0*M/(r**3*(-2*M/r + 1)), 0], [0, -1.0*M/(r**3*(-2*M/r + 1)), 0, 0], [0, 0, 0, 0]], [[0, 0, 0, 0], [0, 0, 0, 0], [0, 0, 0, 0], [0, 0, 0, 0]], [[0, 0, 0, 0], [0, 0, 0, 0], [0, 0, 0, -1.0*(-2*M/r + 1)*sin(theta)**2 + 1.0*sin(theta)**2], [0, 0, 1.0*(-2*M/r + 1)*sin(theta)**2 - 1.0*sin(theta)**2, 0]]], [[[0, 0, 0, -1.0*M*(-2*M/r + 1)/r**3], [0, 0, 0, 0], [0, 0, 0, 0], [1.0*M*(-2*M/r + 1)/r**3, 0, 0, 0]], [[0, 0, 0, 0], [0, 0, 0, 1.0*M/(r**3*(-2*M/r + 1))], [0, 0, 0, 0], [0, -1.0*M/(r**3*(-2*M/r + 1)), 0, 0]], [[0, 0, 0, 0], [0, 0, 0, 0], [0, 0, 0, -2.0*M/r], [0, 0, 2.0*M/r, 0]], [[0, 0, 0, 0], [0, 0, 0, 0], [0, 0, 0, 0], [0, 0, 0, 0]]]]'\u001B[0m\n",
      "\u001B[32m2024-08-24 22:41:32.413\u001B[0m | \u001B[34m\u001B[1mDEBUG   \u001B[0m | \u001B[36mrelativisticpy.workbook.ast_visitor\u001B[0m:\u001B[36mmul\u001B[0m:\u001B[36m110\u001B[0m - \u001B[34m\u001B[1mMultiplying <relativisticpy.diffgeom.metric.Metric object at 0x1129d9510> * <relativisticpy.diffgeom.tensor.Tensor object at 0x112863910> at position TokenPosition(start_pos=Position(line=29, character=59), end_pos=Position(line=29, character=60))\u001B[0m\n",
      "\u001B[32m2024-08-24 22:41:32.653\u001B[0m | \u001B[34m\u001B[1mDEBUG   \u001B[0m | \u001B[36mrelativisticpy.workbook.ast_visitor\u001B[0m:\u001B[36mmul\u001B[0m:\u001B[36m110\u001B[0m - \u001B[34m\u001B[1mMultiplying <relativisticpy.diffgeom.metric.Metric object at 0x112857150> * <relativisticpy.diffgeom.tensor.Tensor object at 0x1128d1110> at position TokenPosition(start_pos=Position(line=29, character=47), end_pos=Position(line=29, character=48))\u001B[0m\n",
      "\u001B[32m2024-08-24 22:41:32.803\u001B[0m | \u001B[34m\u001B[1mDEBUG   \u001B[0m | \u001B[36mrelativisticpy.workbook.ast_visitor\u001B[0m:\u001B[36mmul\u001B[0m:\u001B[36m110\u001B[0m - \u001B[34m\u001B[1mMultiplying <relativisticpy.diffgeom.metric.Metric object at 0x112923e90> * <relativisticpy.diffgeom.tensor.Tensor object at 0x11251b3d0> at position TokenPosition(start_pos=Position(line=29, character=35), end_pos=Position(line=29, character=36))\u001B[0m\n",
      "\u001B[32m2024-08-24 22:41:32.964\u001B[0m | \u001B[34m\u001B[1mDEBUG   \u001B[0m | \u001B[36mrelativisticpy.state.scopes\u001B[0m:\u001B[36mset_tensor\u001B[0m:\u001B[36m184\u001B[0m - \u001B[34m\u001B[1mCaching new tensor 'TempOne' with components '[[[[0, 0, 0, 0], [0, 0, 0, 0], [0, 0, 0, 0], [0, 0, 0, 0]], [[0, (-2*M/r + 1)**2*(1.0*M**2/(r**4*(2*M/r - 1)**2) + 1.0*M**2/(r**4*(-2*M/r + 1)*(2*M/r - 1)) - 2.0*M/(r**3*(2*M/r - 1)))/(2*M/r - 1), 0, 0], [(-2*M/r + 1)**2*(-1.0*M**2/(r**4*(2*M/r - 1)**2) - 1.0*M**2/(r**4*(-2*M/r + 1)*(2*M/r - 1)) + 2.0*M/(r**3*(2*M/r - 1)))/(2*M/r - 1), 0, 0, 0], [0, 0, 0, 0], [0, 0, 0, 0]], [[0, 0, 1.0*M*(-2*M/r + 1)/(r**5*(2*M/r - 1)**2), 0], [0, 0, 0, 0], [-1.0*M*(-2*M/r + 1)/(r**5*(2*M/r - 1)**2), 0, 0, 0], [0, 0, 0, 0]], [[0, 0, 0, 1.0*M*(-2*M/r + 1)/(r**5*(2*M/r - 1)**2*sin(theta)**2)], [0, 0, 0, 0], [0, 0, 0, 0], [-1.0*M*(-2*M/r + 1)/(r**5*(2*M/r - 1)**2*sin(theta)**2), 0, 0, 0]]], [[[0, (-2*M/r + 1)*(-1.0*M**2*(-2*M/r + 1)/(r**4*(2*M/r - 1)) - 1.0*M**2/r**4 + 2.0*M*(-2*M/r + 1)/r**3)/(2*M/r - 1)**2, 0, 0], [(-2*M/r + 1)*(1.0*M**2*(-2*M/r + 1)/(r**4*(2*M/r - 1)) + 1.0*M**2/r**4 - 2.0*M*(-2*M/r + 1)/r**3)/(2*M/r - 1)**2, 0, 0, 0], [0, 0, 0, 0], [0, 0, 0, 0]], [[0, 0, 0, 0], [0, 0, 0, 0], [0, 0, 0, 0], [0, 0, 0, 0]], [[0, 0, 0, 0], [0, 0, -1.0*M*(-2*M/r + 1)/r**5, 0], [0, 1.0*M*(-2*M/r + 1)/r**5, 0, 0], [0, 0, 0, 0]], [[0, 0, 0, 0], [0, 0, 0, -1.0*M*(-2*M/r + 1)/(r**5*sin(theta)**2)], [0, 0, 0, 0], [0, 1.0*M*(-2*M/r + 1)/(r**5*sin(theta)**2), 0, 0]]], [[[0, 0, -1.0*M*(-2*M/r + 1)/(r**5*(2*M/r - 1)**2), 0], [0, 0, 0, 0], [1.0*M*(-2*M/r + 1)/(r**5*(2*M/r - 1)**2), 0, 0, 0], [0, 0, 0, 0]], [[0, 0, 0, 0], [0, 0, 1.0*M*(-2*M/r + 1)/r**5, 0], [0, -1.0*M*(-2*M/r + 1)/r**5, 0, 0], [0, 0, 0, 0]], [[0, 0, 0, 0], [0, 0, 0, 0], [0, 0, 0, 0], [0, 0, 0, 0]], [[0, 0, 0, 0], [0, 0, 0, 0], [0, 0, 0, (-1.0*(-2*M/r + 1)*sin(theta)**2 + 1.0*sin(theta)**2)/(r**6*sin(theta)**4)], [0, 0, (1.0*(-2*M/r + 1)*sin(theta)**2 - 1.0*sin(theta)**2)/(r**6*sin(theta)**4), 0]]], [[[0, 0, 0, -1.0*M*(-2*M/r + 1)/(r**5*(2*M/r - 1)**2*sin(theta)**2)], [0, 0, 0, 0], [0, 0, 0, 0], [1.0*M*(-2*M/r + 1)/(r**5*(2*M/r - 1)**2*sin(theta)**2), 0, 0, 0]], [[0, 0, 0, 0], [0, 0, 0, 1.0*M*(-2*M/r + 1)/(r**5*sin(theta)**2)], [0, 0, 0, 0], [0, -1.0*M*(-2*M/r + 1)/(r**5*sin(theta)**2), 0, 0]], [[0, 0, 0, 0], [0, 0, 0, 0], [0, 0, 0, -2.0*M/(r**7*sin(theta)**2)], [0, 0, 2.0*M/(r**7*sin(theta)**2), 0]], [[0, 0, 0, 0], [0, 0, 0, 0], [0, 0, 0, 0], [0, 0, 0, 0]]]]'\u001B[0m\n",
      "\u001B[32m2024-08-24 22:41:32.965\u001B[0m | \u001B[34m\u001B[1mDEBUG   \u001B[0m | \u001B[36mrelativisticpy.state.scopes\u001B[0m:\u001B[36minit_tensor\u001B[0m:\u001B[36m263\u001B[0m - \u001B[34m\u001B[1mAttempting to initiating 'g_{a}_{n}' by equation from cached tensors.\u001B[0m\n",
      "\u001B[32m2024-08-24 22:41:32.965\u001B[0m | \u001B[34m\u001B[1mDEBUG   \u001B[0m | \u001B[36mrelativisticpy.state.scopes\u001B[0m:\u001B[36minit_tensor\u001B[0m:\u001B[36m266\u001B[0m - \u001B[34m\u001B[1mIdentified 'g_{a}_{n}' to be a Metric. Initializing Metric from Metric.\u001B[0m\n",
      "\u001B[32m2024-08-24 22:41:32.966\u001B[0m | \u001B[34m\u001B[1mDEBUG   \u001B[0m | \u001B[36mrelativisticpy.state.scopes\u001B[0m:\u001B[36mmetric_tensor\u001B[0m:\u001B[36m102\u001B[0m - \u001B[34m\u001B[1mFound 1 Metric Tensor Objects in scope.\u001B[0m\n",
      "\u001B[32m2024-08-24 22:41:32.966\u001B[0m | \u001B[34m\u001B[1mDEBUG   \u001B[0m | \u001B[36mrelativisticpy.state.scopes\u001B[0m:\u001B[36mmetric_tensor\u001B[0m:\u001B[36m103\u001B[0m - \u001B[34m\u001B[1mReturning <relativisticpy.diffgeom.metric.Metric object at 0x112880590>.\u001B[0m\n",
      "\u001B[32m2024-08-24 22:41:32.968\u001B[0m | \u001B[34m\u001B[1mDEBUG   \u001B[0m | \u001B[36mrelativisticpy.state.scopes\u001B[0m:\u001B[36mmetric_tensor\u001B[0m:\u001B[36m206\u001B[0m - \u001B[34m\u001B[1mFound metric tensor in scope with components: '[[1/(2*M/r - 1), 0, 0, 0], [0, -2*M/r + 1, 0, 0], [0, 0, r**(-2), 0], [0, 0, 0, 1/(r**2*sin(theta)**2)]]'\u001B[0m\n",
      "\u001B[32m2024-08-24 22:41:32.969\u001B[0m | \u001B[34m\u001B[1mDEBUG   \u001B[0m | \u001B[36mrelativisticpy.state.scopes\u001B[0m:\u001B[36mmetric_tensor\u001B[0m:\u001B[36m102\u001B[0m - \u001B[34m\u001B[1mFound 1 Metric Tensor Objects in scope.\u001B[0m\n",
      "\u001B[32m2024-08-24 22:41:32.970\u001B[0m | \u001B[34m\u001B[1mDEBUG   \u001B[0m | \u001B[36mrelativisticpy.state.scopes\u001B[0m:\u001B[36mmetric_tensor\u001B[0m:\u001B[36m103\u001B[0m - \u001B[34m\u001B[1mReturning <relativisticpy.diffgeom.metric.Metric object at 0x112880590>.\u001B[0m\n",
      "\u001B[32m2024-08-24 22:41:33.124\u001B[0m | \u001B[34m\u001B[1mDEBUG   \u001B[0m | \u001B[36mrelativisticpy.state.scopes\u001B[0m:\u001B[36minit_tensor\u001B[0m:\u001B[36m271\u001B[0m - \u001B[34m\u001B[1mComputed components of 'g_{a}_{n}' to be: '[[2*M/r - 1, 0, 0, 0], [0, 1/(-2*M/r + 1), 0, 0], [0, 0, r**2, 0], [0, 0, 0, r**2*sin(theta)**2]]'\u001B[0m\n",
      "\u001B[32m2024-08-24 22:41:33.126\u001B[0m | \u001B[34m\u001B[1mDEBUG   \u001B[0m | \u001B[36mrelativisticpy.state.scopes\u001B[0m:\u001B[36mset_tensor\u001B[0m:\u001B[36m184\u001B[0m - \u001B[34m\u001B[1mCaching new tensor 'g' with components '[[2*M/r - 1, 0, 0, 0], [0, 1/(-2*M/r + 1), 0, 0], [0, 0, r**2, 0], [0, 0, 0, r**2*sin(theta)**2]]'\u001B[0m\n",
      "\u001B[32m2024-08-24 22:41:33.126\u001B[0m | \u001B[34m\u001B[1mDEBUG   \u001B[0m | \u001B[36mrelativisticpy.state.scopes\u001B[0m:\u001B[36minit_tensor\u001B[0m:\u001B[36m263\u001B[0m - \u001B[34m\u001B[1mAttempting to initiating 'Riemann^{n}_{f}_{h}_{s}' by equation from cached tensors.\u001B[0m\n",
      "\u001B[32m2024-08-24 22:41:33.142\u001B[0m | \u001B[34m\u001B[1mDEBUG   \u001B[0m | \u001B[36mrelativisticpy.state.scopes\u001B[0m:\u001B[36mset_tensor\u001B[0m:\u001B[36m184\u001B[0m - \u001B[34m\u001B[1mCaching new tensor 'Riemann' with components '[[[[0, 0, 0, 0], [0, 0, 0, 0], [0, 0, 0, 0], [0, 0, 0, 0]], [[0, 1.0*M**2/(r**4*(2*M/r - 1)**2) + 1.0*M**2/(r**4*(-2*M/r + 1)*(2*M/r - 1)) - 2.0*M/(r**3*(2*M/r - 1)), 0, 0], [-1.0*M**2/(r**4*(2*M/r - 1)**2) - 1.0*M**2/(r**4*(-2*M/r + 1)*(2*M/r - 1)) + 2.0*M/(r**3*(2*M/r - 1)), 0, 0, 0], [0, 0, 0, 0], [0, 0, 0, 0]], [[0, 0, 1.0*M*(-2*M/r + 1)/(r*(2*M/r - 1)), 0], [0, 0, 0, 0], [-1.0*M*(-2*M/r + 1)/(r*(2*M/r - 1)), 0, 0, 0], [0, 0, 0, 0]], [[0, 0, 0, 1.0*M*(-2*M/r + 1)*sin(theta)**2/(r*(2*M/r - 1))], [0, 0, 0, 0], [0, 0, 0, 0], [-1.0*M*(-2*M/r + 1)*sin(theta)**2/(r*(2*M/r - 1)), 0, 0, 0]]], [[[0, -1.0*M**2*(-2*M/r + 1)/(r**4*(2*M/r - 1)) - 1.0*M**2/r**4 + 2.0*M*(-2*M/r + 1)/r**3, 0, 0], [1.0*M**2*(-2*M/r + 1)/(r**4*(2*M/r - 1)) + 1.0*M**2/r**4 - 2.0*M*(-2*M/r + 1)/r**3, 0, 0, 0], [0, 0, 0, 0], [0, 0, 0, 0]], [[0, 0, 0, 0], [0, 0, 0, 0], [0, 0, 0, 0], [0, 0, 0, 0]], [[0, 0, 0, 0], [0, 0, -1.0*M/r, 0], [0, 1.0*M/r, 0, 0], [0, 0, 0, 0]], [[0, 0, 0, 0], [0, 0, 0, -1.0*M*sin(theta)**2/r], [0, 0, 0, 0], [0, 1.0*M*sin(theta)**2/r, 0, 0]]], [[[0, 0, -1.0*M*(-2*M/r + 1)/r**3, 0], [0, 0, 0, 0], [1.0*M*(-2*M/r + 1)/r**3, 0, 0, 0], [0, 0, 0, 0]], [[0, 0, 0, 0], [0, 0, 1.0*M/(r**3*(-2*M/r + 1)), 0], [0, -1.0*M/(r**3*(-2*M/r + 1)), 0, 0], [0, 0, 0, 0]], [[0, 0, 0, 0], [0, 0, 0, 0], [0, 0, 0, 0], [0, 0, 0, 0]], [[0, 0, 0, 0], [0, 0, 0, 0], [0, 0, 0, -1.0*(-2*M/r + 1)*sin(theta)**2 + 1.0*sin(theta)**2], [0, 0, 1.0*(-2*M/r + 1)*sin(theta)**2 - 1.0*sin(theta)**2, 0]]], [[[0, 0, 0, -1.0*M*(-2*M/r + 1)/r**3], [0, 0, 0, 0], [0, 0, 0, 0], [1.0*M*(-2*M/r + 1)/r**3, 0, 0, 0]], [[0, 0, 0, 0], [0, 0, 0, 1.0*M/(r**3*(-2*M/r + 1))], [0, 0, 0, 0], [0, -1.0*M/(r**3*(-2*M/r + 1)), 0, 0]], [[0, 0, 0, 0], [0, 0, 0, 0], [0, 0, 0, -2.0*M/r], [0, 0, 2.0*M/r, 0]], [[0, 0, 0, 0], [0, 0, 0, 0], [0, 0, 0, 0], [0, 0, 0, 0]]]]'\u001B[0m\n",
      "\u001B[32m2024-08-24 22:41:33.143\u001B[0m | \u001B[34m\u001B[1mDEBUG   \u001B[0m | \u001B[36mrelativisticpy.workbook.ast_visitor\u001B[0m:\u001B[36mmul\u001B[0m:\u001B[36m110\u001B[0m - \u001B[34m\u001B[1mMultiplying <relativisticpy.diffgeom.metric.Metric object at 0x112994910> * <relativisticpy.diffgeom.tensor.Tensor object at 0x112947cd0> at position TokenPosition(start_pos=Position(line=31, character=35), end_pos=Position(line=31, character=36))\u001B[0m\n",
      "\u001B[32m2024-08-24 22:41:33.300\u001B[0m | \u001B[34m\u001B[1mDEBUG   \u001B[0m | \u001B[36mrelativisticpy.state.scopes\u001B[0m:\u001B[36mset_tensor\u001B[0m:\u001B[36m184\u001B[0m - \u001B[34m\u001B[1mCaching new tensor 'TempTwo' with components '[[[[0, 0, 0, 0], [0, 0, 0, 0], [0, 0, 0, 0], [0, 0, 0, 0]], [[0, (2*M/r - 1)*(1.0*M**2/(r**4*(2*M/r - 1)**2) + 1.0*M**2/(r**4*(-2*M/r + 1)*(2*M/r - 1)) - 2.0*M/(r**3*(2*M/r - 1))), 0, 0], [(2*M/r - 1)*(-1.0*M**2/(r**4*(2*M/r - 1)**2) - 1.0*M**2/(r**4*(-2*M/r + 1)*(2*M/r - 1)) + 2.0*M/(r**3*(2*M/r - 1))), 0, 0, 0], [0, 0, 0, 0], [0, 0, 0, 0]], [[0, 0, 1.0*M*(-2*M/r + 1)/r, 0], [0, 0, 0, 0], [-1.0*M*(-2*M/r + 1)/r, 0, 0, 0], [0, 0, 0, 0]], [[0, 0, 0, 1.0*M*(-2*M/r + 1)*sin(theta)**2/r], [0, 0, 0, 0], [0, 0, 0, 0], [-1.0*M*(-2*M/r + 1)*sin(theta)**2/r, 0, 0, 0]]], [[[0, (-1.0*M**2*(-2*M/r + 1)/(r**4*(2*M/r - 1)) - 1.0*M**2/r**4 + 2.0*M*(-2*M/r + 1)/r**3)/(-2*M/r + 1), 0, 0], [(1.0*M**2*(-2*M/r + 1)/(r**4*(2*M/r - 1)) + 1.0*M**2/r**4 - 2.0*M*(-2*M/r + 1)/r**3)/(-2*M/r + 1), 0, 0, 0], [0, 0, 0, 0], [0, 0, 0, 0]], [[0, 0, 0, 0], [0, 0, 0, 0], [0, 0, 0, 0], [0, 0, 0, 0]], [[0, 0, 0, 0], [0, 0, -1.0*M/(r*(-2*M/r + 1)), 0], [0, 1.0*M/(r*(-2*M/r + 1)), 0, 0], [0, 0, 0, 0]], [[0, 0, 0, 0], [0, 0, 0, -1.0*M*sin(theta)**2/(r*(-2*M/r + 1))], [0, 0, 0, 0], [0, 1.0*M*sin(theta)**2/(r*(-2*M/r + 1)), 0, 0]]], [[[0, 0, -1.0*M*(-2*M/r + 1)/r, 0], [0, 0, 0, 0], [1.0*M*(-2*M/r + 1)/r, 0, 0, 0], [0, 0, 0, 0]], [[0, 0, 0, 0], [0, 0, 1.0*M/(r*(-2*M/r + 1)), 0], [0, -1.0*M/(r*(-2*M/r + 1)), 0, 0], [0, 0, 0, 0]], [[0, 0, 0, 0], [0, 0, 0, 0], [0, 0, 0, 0], [0, 0, 0, 0]], [[0, 0, 0, 0], [0, 0, 0, 0], [0, 0, 0, r**2*(-1.0*(-2*M/r + 1)*sin(theta)**2 + 1.0*sin(theta)**2)], [0, 0, r**2*(1.0*(-2*M/r + 1)*sin(theta)**2 - 1.0*sin(theta)**2), 0]]], [[[0, 0, 0, -1.0*M*(-2*M/r + 1)*sin(theta)**2/r], [0, 0, 0, 0], [0, 0, 0, 0], [1.0*M*(-2*M/r + 1)*sin(theta)**2/r, 0, 0, 0]], [[0, 0, 0, 0], [0, 0, 0, 1.0*M*sin(theta)**2/(r*(-2*M/r + 1))], [0, 0, 0, 0], [0, -1.0*M*sin(theta)**2/(r*(-2*M/r + 1)), 0, 0]], [[0, 0, 0, 0], [0, 0, 0, 0], [0, 0, 0, -2.0*M*r*sin(theta)**2], [0, 0, 2.0*M*r*sin(theta)**2, 0]], [[0, 0, 0, 0], [0, 0, 0, 0], [0, 0, 0, 0], [0, 0, 0, 0]]]]'\u001B[0m\n",
      "\u001B[32m2024-08-24 22:41:33.301\u001B[0m | \u001B[34m\u001B[1mDEBUG   \u001B[0m | \u001B[36mrelativisticpy.state.scopes\u001B[0m:\u001B[36minit_tensor\u001B[0m:\u001B[36m263\u001B[0m - \u001B[34m\u001B[1mAttempting to initiating 'TempOne^{a}^{f}^{h}^{s}' by equation from cached tensors.\u001B[0m\n",
      "\u001B[32m2024-08-24 22:41:33.306\u001B[0m | \u001B[34m\u001B[1mDEBUG   \u001B[0m | \u001B[36mrelativisticpy.state.scopes\u001B[0m:\u001B[36minit_tensor\u001B[0m:\u001B[36m263\u001B[0m - \u001B[34m\u001B[1mAttempting to initiating 'TempTwo_{a}_{f}_{h}_{s}' by equation from cached tensors.\u001B[0m\n",
      "\u001B[32m2024-08-24 22:41:33.310\u001B[0m | \u001B[34m\u001B[1mDEBUG   \u001B[0m | \u001B[36mrelativisticpy.workbook.ast_visitor\u001B[0m:\u001B[36mmul\u001B[0m:\u001B[36m110\u001B[0m - \u001B[34m\u001B[1mMultiplying <relativisticpy.diffgeom.tensor.Tensor object at 0x112683310> * <relativisticpy.diffgeom.tensor.Tensor object at 0x1129848d0> at position TokenPosition(start_pos=Position(line=33, character=13), end_pos=Position(line=33, character=20))\u001B[0m\n"
     ]
    }
   ],
   "execution_count": 2
  },
  {
   "metadata": {
    "ExecuteTime": {
     "end_time": "2024-08-24T21:41:34.444416Z",
     "start_time": "2024-08-24T21:41:34.335374Z"
    }
   },
   "cell_type": "code",
   "source": [
    "from relativisticpy.symengine import simplify\n",
    "simplify(list(res.components)[0])"
   ],
   "outputs": [
    {
     "data": {
      "text/plain": [
       "48.0*M**2/r**6"
      ],
      "text/latex": "$\\displaystyle \\frac{48.0 M^{2}}{r^{6}}$"
     },
     "execution_count": 3,
     "metadata": {},
     "output_type": "execute_result"
    }
   ],
   "execution_count": 3
  },
  {
   "metadata": {
    "ExecuteTime": {
     "end_time": "2024-08-18T17:25:16.597056Z",
     "start_time": "2024-08-18T17:25:16.317379Z"
    }
   },
   "cell_type": "code",
   "source": [
    "res = Workbook(debug_mode=True).expr(\n",
    "    \"\"\"\n",
    "            Coordinates := [t, r, theta, phi] \n",
    "            g_{mu}_{nu} := [[-(1 - (2 * G * M) / (r)), 0, 0, 0],[0, 1 / (1 - (2 * G * M) / (r)), 0, 0],[0, 0, r**2, 0],[0, 0, 0, r**2 * sin(theta) ** 2]]\n",
    "            g\n",
    "\"\"\"\n",
    ")"
   ],
   "outputs": [
    {
     "name": "stderr",
     "output_type": "stream",
     "text": [
      "\u001B[32m2024-08-18 18:25:16.326\u001B[0m | \u001B[34m\u001B[1mDEBUG   \u001B[0m | \u001B[36mrelativisticpy.workbook.ast_visitor\u001B[0m:\u001B[36mint\u001B[0m:\u001B[36m122\u001B[0m - \u001B[34m\u001B[1mCasting to Integer: 1 at position TokenPosition(start_pos=Position(line=3, character=31), end_pos=Position(line=3, character=32))\u001B[0m\n",
      "\u001B[32m2024-08-18 18:25:16.326\u001B[0m | \u001B[34m\u001B[1mDEBUG   \u001B[0m | \u001B[36mrelativisticpy.workbook.ast_visitor\u001B[0m:\u001B[36mint\u001B[0m:\u001B[36m122\u001B[0m - \u001B[34m\u001B[1mCasting to Integer: 2 at position TokenPosition(start_pos=Position(line=3, character=36), end_pos=Position(line=3, character=37))\u001B[0m\n",
      "\u001B[32m2024-08-18 18:25:16.327\u001B[0m | \u001B[34m\u001B[1mDEBUG   \u001B[0m | \u001B[36mrelativisticpy.workbook.ast_visitor\u001B[0m:\u001B[36mmul\u001B[0m:\u001B[36m110\u001B[0m - \u001B[34m\u001B[1mMultiplying 2 * G at position TokenPosition(start_pos=Position(line=3, character=36), end_pos=Position(line=3, character=37))\u001B[0m\n",
      "\u001B[32m2024-08-18 18:25:16.327\u001B[0m | \u001B[34m\u001B[1mDEBUG   \u001B[0m | \u001B[36mrelativisticpy.workbook.ast_visitor\u001B[0m:\u001B[36mmul\u001B[0m:\u001B[36m110\u001B[0m - \u001B[34m\u001B[1mMultiplying 2*G * M at position TokenPosition(start_pos=Position(line=3, character=36), end_pos=Position(line=3, character=37))\u001B[0m\n",
      "\u001B[32m2024-08-18 18:25:16.328\u001B[0m | \u001B[34m\u001B[1mDEBUG   \u001B[0m | \u001B[36mrelativisticpy.workbook.ast_visitor\u001B[0m:\u001B[36mdiv\u001B[0m:\u001B[36m114\u001B[0m - \u001B[34m\u001B[1mDividing 2*G*M / r at position TokenPosition(start_pos=Position(line=3, character=35), end_pos=Position(line=3, character=36))\u001B[0m\n",
      "\u001B[32m2024-08-18 18:25:16.328\u001B[0m | \u001B[34m\u001B[1mDEBUG   \u001B[0m | \u001B[36mrelativisticpy.workbook.ast_visitor\u001B[0m:\u001B[36msub\u001B[0m:\u001B[36m94\u001B[0m - \u001B[34m\u001B[1mSubtracting 1 - 2*G*M/r at position TokenPosition(start_pos=Position(line=3, character=31), end_pos=Position(line=3, character=32))\u001B[0m\n",
      "\u001B[32m2024-08-18 18:25:16.329\u001B[0m | \u001B[34m\u001B[1mDEBUG   \u001B[0m | \u001B[36mrelativisticpy.workbook.ast_visitor\u001B[0m:\u001B[36mneg\u001B[0m:\u001B[36m102\u001B[0m - \u001B[34m\u001B[1mNegating -2*G*M/r + 1 at position TokenPosition(start_pos=Position(line=3, character=30), end_pos=Position(line=3, character=31))\u001B[0m\n",
      "\u001B[32m2024-08-18 18:25:16.330\u001B[0m | \u001B[34m\u001B[1mDEBUG   \u001B[0m | \u001B[36mrelativisticpy.workbook.ast_visitor\u001B[0m:\u001B[36mint\u001B[0m:\u001B[36m122\u001B[0m - \u001B[34m\u001B[1mCasting to Integer: 0 at position TokenPosition(start_pos=Position(line=3, character=55), end_pos=Position(line=3, character=56))\u001B[0m\n",
      "\u001B[32m2024-08-18 18:25:16.330\u001B[0m | \u001B[34m\u001B[1mDEBUG   \u001B[0m | \u001B[36mrelativisticpy.workbook.ast_visitor\u001B[0m:\u001B[36mint\u001B[0m:\u001B[36m122\u001B[0m - \u001B[34m\u001B[1mCasting to Integer: 0 at position TokenPosition(start_pos=Position(line=3, character=58), end_pos=Position(line=3, character=59))\u001B[0m\n",
      "\u001B[32m2024-08-18 18:25:16.331\u001B[0m | \u001B[34m\u001B[1mDEBUG   \u001B[0m | \u001B[36mrelativisticpy.workbook.ast_visitor\u001B[0m:\u001B[36mint\u001B[0m:\u001B[36m122\u001B[0m - \u001B[34m\u001B[1mCasting to Integer: 0 at position TokenPosition(start_pos=Position(line=3, character=61), end_pos=Position(line=3, character=62))\u001B[0m\n",
      "\u001B[32m2024-08-18 18:25:16.331\u001B[0m | \u001B[34m\u001B[1mDEBUG   \u001B[0m | \u001B[36mrelativisticpy.workbook.ast_visitor\u001B[0m:\u001B[36mint\u001B[0m:\u001B[36m122\u001B[0m - \u001B[34m\u001B[1mCasting to Integer: 0 at position TokenPosition(start_pos=Position(line=3, character=65), end_pos=Position(line=3, character=66))\u001B[0m\n",
      "\u001B[32m2024-08-18 18:25:16.331\u001B[0m | \u001B[34m\u001B[1mDEBUG   \u001B[0m | \u001B[36mrelativisticpy.workbook.ast_visitor\u001B[0m:\u001B[36mint\u001B[0m:\u001B[36m122\u001B[0m - \u001B[34m\u001B[1mCasting to Integer: 1 at position TokenPosition(start_pos=Position(line=3, character=68), end_pos=Position(line=3, character=69))\u001B[0m\n",
      "\u001B[32m2024-08-18 18:25:16.331\u001B[0m | \u001B[34m\u001B[1mDEBUG   \u001B[0m | \u001B[36mrelativisticpy.workbook.ast_visitor\u001B[0m:\u001B[36mint\u001B[0m:\u001B[36m122\u001B[0m - \u001B[34m\u001B[1mCasting to Integer: 1 at position TokenPosition(start_pos=Position(line=3, character=73), end_pos=Position(line=3, character=74))\u001B[0m\n",
      "\u001B[32m2024-08-18 18:25:16.332\u001B[0m | \u001B[34m\u001B[1mDEBUG   \u001B[0m | \u001B[36mrelativisticpy.workbook.ast_visitor\u001B[0m:\u001B[36mint\u001B[0m:\u001B[36m122\u001B[0m - \u001B[34m\u001B[1mCasting to Integer: 2 at position TokenPosition(start_pos=Position(line=3, character=78), end_pos=Position(line=3, character=79))\u001B[0m\n",
      "\u001B[32m2024-08-18 18:25:16.332\u001B[0m | \u001B[34m\u001B[1mDEBUG   \u001B[0m | \u001B[36mrelativisticpy.workbook.ast_visitor\u001B[0m:\u001B[36mmul\u001B[0m:\u001B[36m110\u001B[0m - \u001B[34m\u001B[1mMultiplying 2 * G at position TokenPosition(start_pos=Position(line=3, character=78), end_pos=Position(line=3, character=79))\u001B[0m\n",
      "\u001B[32m2024-08-18 18:25:16.332\u001B[0m | \u001B[34m\u001B[1mDEBUG   \u001B[0m | \u001B[36mrelativisticpy.workbook.ast_visitor\u001B[0m:\u001B[36mmul\u001B[0m:\u001B[36m110\u001B[0m - \u001B[34m\u001B[1mMultiplying 2*G * M at position TokenPosition(start_pos=Position(line=3, character=78), end_pos=Position(line=3, character=79))\u001B[0m\n",
      "\u001B[32m2024-08-18 18:25:16.333\u001B[0m | \u001B[34m\u001B[1mDEBUG   \u001B[0m | \u001B[36mrelativisticpy.workbook.ast_visitor\u001B[0m:\u001B[36mdiv\u001B[0m:\u001B[36m114\u001B[0m - \u001B[34m\u001B[1mDividing 2*G*M / r at position TokenPosition(start_pos=Position(line=3, character=77), end_pos=Position(line=3, character=78))\u001B[0m\n",
      "\u001B[32m2024-08-18 18:25:16.333\u001B[0m | \u001B[34m\u001B[1mDEBUG   \u001B[0m | \u001B[36mrelativisticpy.workbook.ast_visitor\u001B[0m:\u001B[36msub\u001B[0m:\u001B[36m94\u001B[0m - \u001B[34m\u001B[1mSubtracting 1 - 2*G*M/r at position TokenPosition(start_pos=Position(line=3, character=73), end_pos=Position(line=3, character=74))\u001B[0m\n",
      "\u001B[32m2024-08-18 18:25:16.334\u001B[0m | \u001B[34m\u001B[1mDEBUG   \u001B[0m | \u001B[36mrelativisticpy.workbook.ast_visitor\u001B[0m:\u001B[36mdiv\u001B[0m:\u001B[36m114\u001B[0m - \u001B[34m\u001B[1mDividing 1 / -2*G*M/r + 1 at position TokenPosition(start_pos=Position(line=3, character=68), end_pos=Position(line=3, character=69))\u001B[0m\n",
      "\u001B[32m2024-08-18 18:25:16.334\u001B[0m | \u001B[34m\u001B[1mDEBUG   \u001B[0m | \u001B[36mrelativisticpy.workbook.ast_visitor\u001B[0m:\u001B[36mint\u001B[0m:\u001B[36m122\u001B[0m - \u001B[34m\u001B[1mCasting to Integer: 0 at position TokenPosition(start_pos=Position(line=3, character=97), end_pos=Position(line=3, character=98))\u001B[0m\n",
      "\u001B[32m2024-08-18 18:25:16.334\u001B[0m | \u001B[34m\u001B[1mDEBUG   \u001B[0m | \u001B[36mrelativisticpy.workbook.ast_visitor\u001B[0m:\u001B[36mint\u001B[0m:\u001B[36m122\u001B[0m - \u001B[34m\u001B[1mCasting to Integer: 0 at position TokenPosition(start_pos=Position(line=3, character=100), end_pos=Position(line=3, character=101))\u001B[0m\n",
      "\u001B[32m2024-08-18 18:25:16.334\u001B[0m | \u001B[34m\u001B[1mDEBUG   \u001B[0m | \u001B[36mrelativisticpy.workbook.ast_visitor\u001B[0m:\u001B[36mint\u001B[0m:\u001B[36m122\u001B[0m - \u001B[34m\u001B[1mCasting to Integer: 0 at position TokenPosition(start_pos=Position(line=3, character=104), end_pos=Position(line=3, character=105))\u001B[0m\n",
      "\u001B[32m2024-08-18 18:25:16.335\u001B[0m | \u001B[34m\u001B[1mDEBUG   \u001B[0m | \u001B[36mrelativisticpy.workbook.ast_visitor\u001B[0m:\u001B[36mint\u001B[0m:\u001B[36m122\u001B[0m - \u001B[34m\u001B[1mCasting to Integer: 0 at position TokenPosition(start_pos=Position(line=3, character=107), end_pos=Position(line=3, character=108))\u001B[0m\n",
      "\u001B[32m2024-08-18 18:25:16.335\u001B[0m | \u001B[34m\u001B[1mDEBUG   \u001B[0m | \u001B[36mrelativisticpy.workbook.ast_visitor\u001B[0m:\u001B[36mint\u001B[0m:\u001B[36m122\u001B[0m - \u001B[34m\u001B[1mCasting to Integer: 2 at position TokenPosition(start_pos=Position(line=3, character=113), end_pos=Position(line=3, character=114))\u001B[0m\n",
      "\u001B[32m2024-08-18 18:25:16.335\u001B[0m | \u001B[34m\u001B[1mDEBUG   \u001B[0m | \u001B[36mrelativisticpy.workbook.ast_visitor\u001B[0m:\u001B[36mpow\u001B[0m:\u001B[36m118\u001B[0m - \u001B[34m\u001B[1mPowering r ** 2 at position TokenPosition(start_pos=Position(line=3, character=110), end_pos=Position(line=3, character=111))\u001B[0m\n",
      "\u001B[32m2024-08-18 18:25:16.335\u001B[0m | \u001B[34m\u001B[1mDEBUG   \u001B[0m | \u001B[36mrelativisticpy.workbook.ast_visitor\u001B[0m:\u001B[36mint\u001B[0m:\u001B[36m122\u001B[0m - \u001B[34m\u001B[1mCasting to Integer: 0 at position TokenPosition(start_pos=Position(line=3, character=116), end_pos=Position(line=3, character=117))\u001B[0m\n",
      "\u001B[32m2024-08-18 18:25:16.336\u001B[0m | \u001B[34m\u001B[1mDEBUG   \u001B[0m | \u001B[36mrelativisticpy.workbook.ast_visitor\u001B[0m:\u001B[36mint\u001B[0m:\u001B[36m122\u001B[0m - \u001B[34m\u001B[1mCasting to Integer: 0 at position TokenPosition(start_pos=Position(line=3, character=120), end_pos=Position(line=3, character=121))\u001B[0m\n",
      "\u001B[32m2024-08-18 18:25:16.336\u001B[0m | \u001B[34m\u001B[1mDEBUG   \u001B[0m | \u001B[36mrelativisticpy.workbook.ast_visitor\u001B[0m:\u001B[36mint\u001B[0m:\u001B[36m122\u001B[0m - \u001B[34m\u001B[1mCasting to Integer: 0 at position TokenPosition(start_pos=Position(line=3, character=123), end_pos=Position(line=3, character=124))\u001B[0m\n",
      "\u001B[32m2024-08-18 18:25:16.336\u001B[0m | \u001B[34m\u001B[1mDEBUG   \u001B[0m | \u001B[36mrelativisticpy.workbook.ast_visitor\u001B[0m:\u001B[36mint\u001B[0m:\u001B[36m122\u001B[0m - \u001B[34m\u001B[1mCasting to Integer: 0 at position TokenPosition(start_pos=Position(line=3, character=126), end_pos=Position(line=3, character=127))\u001B[0m\n",
      "\u001B[32m2024-08-18 18:25:16.336\u001B[0m | \u001B[34m\u001B[1mDEBUG   \u001B[0m | \u001B[36mrelativisticpy.workbook.ast_visitor\u001B[0m:\u001B[36mint\u001B[0m:\u001B[36m122\u001B[0m - \u001B[34m\u001B[1mCasting to Integer: 2 at position TokenPosition(start_pos=Position(line=3, character=132), end_pos=Position(line=3, character=133))\u001B[0m\n",
      "\u001B[32m2024-08-18 18:25:16.337\u001B[0m | \u001B[34m\u001B[1mDEBUG   \u001B[0m | \u001B[36mrelativisticpy.workbook.ast_visitor\u001B[0m:\u001B[36mpow\u001B[0m:\u001B[36m118\u001B[0m - \u001B[34m\u001B[1mPowering r ** 2 at position TokenPosition(start_pos=Position(line=3, character=129), end_pos=Position(line=3, character=130))\u001B[0m\n",
      "\u001B[32m2024-08-18 18:25:16.337\u001B[0m | \u001B[34m\u001B[1mDEBUG   \u001B[0m | \u001B[36mrelativisticpy.workbook.ast_visitor\u001B[0m:\u001B[36mint\u001B[0m:\u001B[36m122\u001B[0m - \u001B[34m\u001B[1mCasting to Integer: 2 at position TokenPosition(start_pos=Position(line=3, character=150), end_pos=Position(line=3, character=151))\u001B[0m\n",
      "\u001B[32m2024-08-18 18:25:16.337\u001B[0m | \u001B[34m\u001B[1mDEBUG   \u001B[0m | \u001B[36mrelativisticpy.workbook.ast_visitor\u001B[0m:\u001B[36mpow\u001B[0m:\u001B[36m118\u001B[0m - \u001B[34m\u001B[1mPowering sin(theta) ** 2 at position TokenPosition(start_pos=Position(line=3, character=136), end_pos=Position(line=3, character=139))\u001B[0m\n",
      "\u001B[32m2024-08-18 18:25:16.337\u001B[0m | \u001B[34m\u001B[1mDEBUG   \u001B[0m | \u001B[36mrelativisticpy.workbook.ast_visitor\u001B[0m:\u001B[36mmul\u001B[0m:\u001B[36m110\u001B[0m - \u001B[34m\u001B[1mMultiplying r**2 * sin(theta)**2 at position TokenPosition(start_pos=Position(line=3, character=129), end_pos=Position(line=3, character=130))\u001B[0m\n",
      "\u001B[32m2024-08-18 18:25:16.338\u001B[0m | \u001B[34m\u001B[1mDEBUG   \u001B[0m | \u001B[36mrelativisticpy.state.scopes\u001B[0m:\u001B[36mset_tensor\u001B[0m:\u001B[36m184\u001B[0m - \u001B[34m\u001B[1mCaching new tensor 'g' with components '[[2*G*M/r - 1, 0, 0, 0], [0, 1/(-2*G*M/r + 1), 0, 0], [0, 0, r**2, 0], [0, 0, 0, r**2*sin(theta)**2]]'\u001B[0m\n",
      "\u001B[32m2024-08-18 18:25:16.339\u001B[0m | \u001B[34m\u001B[1mDEBUG   \u001B[0m | \u001B[36mrelativisticpy.state.scopes\u001B[0m:\u001B[36mmetric_tensor\u001B[0m:\u001B[36m102\u001B[0m - \u001B[34m\u001B[1mFound 1 Metric Tensor Objects in scope.\u001B[0m\n",
      "\u001B[32m2024-08-18 18:25:16.339\u001B[0m | \u001B[34m\u001B[1mDEBUG   \u001B[0m | \u001B[36mrelativisticpy.state.scopes\u001B[0m:\u001B[36mmetric_tensor\u001B[0m:\u001B[36m103\u001B[0m - \u001B[34m\u001B[1mReturning <relativisticpy.diffgeom.metric.Metric object at 0x10acd8490>.\u001B[0m\n",
      "\u001B[32m2024-08-18 18:25:16.340\u001B[0m | \u001B[34m\u001B[1mDEBUG   \u001B[0m | \u001B[36mrelativisticpy.state.scopes\u001B[0m:\u001B[36mmetric_tensor\u001B[0m:\u001B[36m206\u001B[0m - \u001B[34m\u001B[1mFound metric tensor in scope with components: '[[2*G*M/r - 1, 0, 0, 0], [0, 1/(-2*G*M/r + 1), 0, 0], [0, 0, r**2, 0], [0, 0, 0, r**2*sin(theta)**2]]'\u001B[0m\n",
      "\u001B[32m2024-08-18 18:25:16.340\u001B[0m | \u001B[34m\u001B[1mDEBUG   \u001B[0m | \u001B[36mrelativisticpy.state.scopes\u001B[0m:\u001B[36mmetric_tensor\u001B[0m:\u001B[36m102\u001B[0m - \u001B[34m\u001B[1mFound 1 Metric Tensor Objects in scope.\u001B[0m\n",
      "\u001B[32m2024-08-18 18:25:16.340\u001B[0m | \u001B[34m\u001B[1mDEBUG   \u001B[0m | \u001B[36mrelativisticpy.state.scopes\u001B[0m:\u001B[36mmetric_tensor\u001B[0m:\u001B[36m103\u001B[0m - \u001B[34m\u001B[1mReturning <relativisticpy.diffgeom.metric.Metric object at 0x10acd8490>.\u001B[0m\n"
     ]
    },
    {
     "ename": "ValueError",
     "evalue": "Invalid Argument: components argument must be a scalar.",
     "output_type": "error",
     "traceback": [
      "\u001B[0;31m---------------------------------------------------------------------------\u001B[0m",
      "\u001B[0;31mValueError\u001B[0m                                Traceback (most recent call last)",
      "Cell \u001B[0;32mIn[7], line 1\u001B[0m\n\u001B[0;32m----> 1\u001B[0m res \u001B[38;5;241m=\u001B[39m \u001B[43mWorkbook\u001B[49m\u001B[43m(\u001B[49m\u001B[43mdebug_mode\u001B[49m\u001B[38;5;241;43m=\u001B[39;49m\u001B[38;5;28;43;01mTrue\u001B[39;49;00m\u001B[43m)\u001B[49m\u001B[38;5;241;43m.\u001B[39;49m\u001B[43mexpr\u001B[49m\u001B[43m(\u001B[49m\n\u001B[1;32m      2\u001B[0m \u001B[38;5;250;43m    \u001B[39;49m\u001B[38;5;124;43;03m\"\"\"\u001B[39;49;00m\n\u001B[1;32m      3\u001B[0m \u001B[38;5;124;43;03m            Coordinates := [t, r, theta, phi] \u001B[39;49;00m\n\u001B[1;32m      4\u001B[0m \u001B[38;5;124;43;03m            g_{mu}_{nu} := [[-(1 - (2 * G * M) / (r)), 0, 0, 0],[0, 1 / (1 - (2 * G * M) / (r)), 0, 0],[0, 0, r**2, 0],[0, 0, 0, r**2 * sin(theta) ** 2]]\u001B[39;49;00m\n\u001B[1;32m      5\u001B[0m \u001B[38;5;124;43;03m            g\u001B[39;49;00m\n\u001B[1;32m      6\u001B[0m \u001B[38;5;124;43;03m\"\"\"\u001B[39;49;00m\n\u001B[1;32m      7\u001B[0m \u001B[43m)\u001B[49m\n",
      "File \u001B[0;32m~/code/repositories/relativisticpy/relativisticpy/workbook/workbook.py:64\u001B[0m, in \u001B[0;36mWorkbook.expr\u001B[0;34m(self, string)\u001B[0m\n\u001B[1;32m     62\u001B[0m \u001B[38;5;28;01mdef\u001B[39;00m \u001B[38;5;21mexpr\u001B[39m(\u001B[38;5;28mself\u001B[39m, string: \u001B[38;5;28mstr\u001B[39m):\n\u001B[1;32m     63\u001B[0m     \u001B[38;5;28;01mif\u001B[39;00m \u001B[38;5;28mself\u001B[39m\u001B[38;5;241m.\u001B[39mdebug_mode:\n\u001B[0;32m---> 64\u001B[0m         result \u001B[38;5;241m=\u001B[39m \u001B[38;5;28;43mself\u001B[39;49m\u001B[38;5;241;43m.\u001B[39;49m\u001B[43minterpreter\u001B[49m\u001B[38;5;241;43m.\u001B[39;49m\u001B[43mexe\u001B[49m\u001B[43m(\u001B[49m\u001B[43mstring\u001B[49m\u001B[43m)\u001B[49m\n\u001B[1;32m     65\u001B[0m     \u001B[38;5;28;01melse\u001B[39;00m:\n\u001B[1;32m     66\u001B[0m         \u001B[38;5;28;01mtry\u001B[39;00m:\n",
      "File \u001B[0;32m~/code/repositories/relativisticpy/relativisticpy/interpreter/app.py:81\u001B[0m, in \u001B[0;36mRelParser.exe\u001B[0;34m(self, expression)\u001B[0m\n\u001B[1;32m     79\u001B[0m ast \u001B[38;5;241m=\u001B[39m GRParser(tokens)\u001B[38;5;241m.\u001B[39mparse()\n\u001B[1;32m     80\u001B[0m action_trees \u001B[38;5;241m=\u001B[39m \u001B[38;5;28mself\u001B[39m\u001B[38;5;241m.\u001B[39manalyzer\u001B[38;5;241m.\u001B[39manalyse(ast)\n\u001B[0;32m---> 81\u001B[0m \u001B[38;5;28;01mreturn\u001B[39;00m \u001B[38;5;28;43mself\u001B[39;49m\u001B[38;5;241;43m.\u001B[39;49m\u001B[43minterpreter\u001B[49m\u001B[38;5;241;43m.\u001B[39;49m\u001B[43mexe_script\u001B[49m\u001B[43m(\u001B[49m\u001B[43maction_trees\u001B[49m\u001B[43m)\u001B[49m\n",
      "File \u001B[0;32m~/code/repositories/relativisticpy/relativisticpy/interpreter/interpreter.py:29\u001B[0m, in \u001B[0;36mInterpreter.exe_script\u001B[0;34m(self, gr_script)\u001B[0m\n\u001B[1;32m     27\u001B[0m \u001B[38;5;28;01mfor\u001B[39;00m action_tree \u001B[38;5;129;01min\u001B[39;00m \u001B[38;5;28mself\u001B[39m\u001B[38;5;241m.\u001B[39mgr_script\u001B[38;5;241m.\u001B[39maction_trees:\n\u001B[1;32m     28\u001B[0m     \u001B[38;5;28;01mif\u001B[39;00m action_tree\u001B[38;5;241m.\u001B[39mreturns_object:\n\u001B[0;32m---> 29\u001B[0m         callback_result \u001B[38;5;241m=\u001B[39m \u001B[38;5;28;43mself\u001B[39;49m\u001B[38;5;241;43m.\u001B[39;49m\u001B[43mexecutor\u001B[49m\u001B[43m(\u001B[49m\u001B[43maction_tree\u001B[49m\u001B[38;5;241;43m.\u001B[39;49m\u001B[43mast\u001B[49m\u001B[43m)\u001B[49m\n\u001B[1;32m     30\u001B[0m         \u001B[38;5;28mself\u001B[39m\u001B[38;5;241m.\u001B[39mreturn_list\u001B[38;5;241m.\u001B[39mappend(\n\u001B[1;32m     31\u001B[0m             ReturnObject(\n\u001B[1;32m     32\u001B[0m                 value\u001B[38;5;241m=\u001B[39mcallback_result,\n\u001B[1;32m     33\u001B[0m                 _type\u001B[38;5;241m=\u001B[39maction_tree\u001B[38;5;241m.\u001B[39mreturn_type,\n\u001B[1;32m     34\u001B[0m             )\n\u001B[1;32m     35\u001B[0m         )\n\u001B[1;32m     36\u001B[0m     \u001B[38;5;28;01melse\u001B[39;00m:\n",
      "File \u001B[0;32m~/code/repositories/relativisticpy/relativisticpy/interpreter/interpreter.py:41\u001B[0m, in \u001B[0;36mInterpreter.executor\u001B[0;34m(self, ast_node)\u001B[0m\n\u001B[1;32m     40\u001B[0m \u001B[38;5;28;01mdef\u001B[39;00m \u001B[38;5;21mexecutor\u001B[39m(\u001B[38;5;28mself\u001B[39m, ast_node: AstNode):\n\u001B[0;32m---> 41\u001B[0m     \u001B[38;5;28;01mreturn\u001B[39;00m \u001B[43mast_node\u001B[49m\u001B[38;5;241;43m.\u001B[39;49m\u001B[43mexecute_node\u001B[49m\u001B[43m(\u001B[49m\u001B[38;5;28;43mself\u001B[39;49m\u001B[38;5;241;43m.\u001B[39;49m\u001B[43mimplementor\u001B[49m\u001B[43m)\u001B[49m\n",
      "File \u001B[0;32m~/code/repositories/relativisticpy/relativisticpy/interpreter/nodes/base.py:776\u001B[0m, in \u001B[0;36mSymbolNode.execute_node\u001B[0;34m(self, implementer)\u001B[0m\n\u001B[1;32m    774\u001B[0m \u001B[38;5;28;01mif\u001B[39;00m \u001B[38;5;28mself\u001B[39m\u001B[38;5;241m.\u001B[39mvar_key \u001B[38;5;129;01min\u001B[39;00m [state\u001B[38;5;241m.\u001B[39mget_variable(Scope\u001B[38;5;241m.\u001B[39mMetricSymbol), state\u001B[38;5;241m.\u001B[39mget_variable(Scope\u001B[38;5;241m.\u001B[39mRicciSymbol)]:\n\u001B[1;32m    775\u001B[0m     \u001B[38;5;28mcls\u001B[39m: Tensor \u001B[38;5;241m=\u001B[39m implementer\u001B[38;5;241m.\u001B[39mget_tensor_cls(\u001B[38;5;28mself\u001B[39m\u001B[38;5;241m.\u001B[39mvar_key, is_scalar\u001B[38;5;241m=\u001B[39m\u001B[38;5;28;01mTrue\u001B[39;00m)\n\u001B[0;32m--> 776\u001B[0m     \u001B[38;5;28;01mreturn\u001B[39;00m \u001B[38;5;28;43mcls\u001B[39;49m\u001B[38;5;241;43m.\u001B[39;49m\u001B[43mfrom_equation\u001B[49m\u001B[43m(\u001B[49m\u001B[43mimplementer\u001B[49m\u001B[38;5;241;43m.\u001B[39;49m\u001B[43minit_indices\u001B[49m\u001B[43m(\u001B[49m\u001B[43m)\u001B[49m\u001B[43m,\u001B[49m\u001B[43m \u001B[49m\u001B[43mstate\u001B[49m\u001B[38;5;241;43m.\u001B[39;49m\u001B[43mmetric_tensor\u001B[49m\u001B[43m)\u001B[49m\n\u001B[1;32m    778\u001B[0m \u001B[38;5;28;01melif\u001B[39;00m state\u001B[38;5;241m.\u001B[39mhas_variable(\u001B[38;5;28mself\u001B[39m\u001B[38;5;241m.\u001B[39mvar_key):\n\u001B[1;32m    779\u001B[0m     \u001B[38;5;28;01mreturn\u001B[39;00m state\u001B[38;5;241m.\u001B[39mget_variable(\u001B[38;5;28mself\u001B[39m\u001B[38;5;241m.\u001B[39mvar_key)\n",
      "File \u001B[0;32m~/code/repositories/relativisticpy/relativisticpy/algebras/einstein_summation.py:877\u001B[0m, in \u001B[0;36mEinsumArray.from_equation\u001B[0;34m(cls, indices, *args, **kwargs)\u001B[0m\n\u001B[1;32m    874\u001B[0m                     components \u001B[38;5;241m=\u001B[39m equation_func(value)\n\u001B[1;32m    875\u001B[0m                 \u001B[38;5;28;01mbreak\u001B[39;00m\n\u001B[0;32m--> 877\u001B[0m \u001B[38;5;28;01mreturn\u001B[39;00m \u001B[38;5;28;43mcls\u001B[39;49m\u001B[43m(\u001B[49m\u001B[43mindices\u001B[49m\u001B[43m,\u001B[49m\u001B[43m \u001B[49m\u001B[43mcomponents\u001B[49m\u001B[43m)\u001B[49m\n",
      "File \u001B[0;32m~/code/repositories/relativisticpy/relativisticpy/diffgeom/tensors/metricscalar.py:9\u001B[0m, in \u001B[0;36mMetricScalar.__init__\u001B[0;34m(self, *args, **kwargs)\u001B[0m\n\u001B[1;32m      8\u001B[0m \u001B[38;5;28;01mdef\u001B[39;00m \u001B[38;5;21m__init__\u001B[39m(\u001B[38;5;28mself\u001B[39m, \u001B[38;5;241m*\u001B[39margs, \u001B[38;5;241m*\u001B[39m\u001B[38;5;241m*\u001B[39mkwargs):\n\u001B[0;32m----> 9\u001B[0m     \u001B[38;5;28;43msuper\u001B[39;49m\u001B[43m(\u001B[49m\u001B[43m)\u001B[49m\u001B[38;5;241;43m.\u001B[39;49m\u001B[38;5;21;43m__init__\u001B[39;49m\u001B[43m(\u001B[49m\u001B[38;5;241;43m*\u001B[39;49m\u001B[43margs\u001B[49m\u001B[43m,\u001B[49m\u001B[43m \u001B[49m\u001B[38;5;241;43m*\u001B[39;49m\u001B[38;5;241;43m*\u001B[39;49m\u001B[43mkwargs\u001B[49m\u001B[43m)\u001B[49m\n",
      "File \u001B[0;32m~/code/repositories/relativisticpy/relativisticpy/diffgeom/tensor.py:78\u001B[0m, in \u001B[0;36mTensor.__init__\u001B[0;34m(self, indices, components)\u001B[0m\n\u001B[1;32m     66\u001B[0m \u001B[38;5;28;01mdef\u001B[39;00m \u001B[38;5;21m__init__\u001B[39m(\n\u001B[1;32m     67\u001B[0m         \u001B[38;5;28mself\u001B[39m,\n\u001B[1;32m     68\u001B[0m         indices: CoordIndices,\n\u001B[1;32m     69\u001B[0m         components: SymbolArray\n\u001B[1;32m     70\u001B[0m ):\n\u001B[1;32m     71\u001B[0m \u001B[38;5;250m    \u001B[39m\u001B[38;5;124;03m\"\"\"\u001B[39;00m\n\u001B[1;32m     72\u001B[0m \u001B[38;5;124;03m    Initializes an instance of the EinsteinArray class.\u001B[39;00m\n\u001B[1;32m     73\u001B[0m \n\u001B[0;32m   (...)\u001B[0m\n\u001B[1;32m     76\u001B[0m \u001B[38;5;124;03m        components (SymbolArray, optional): The tensor's components. Defaults to None.\u001B[39;00m\n\u001B[1;32m     77\u001B[0m \u001B[38;5;124;03m    \"\"\"\u001B[39;00m\n\u001B[0;32m---> 78\u001B[0m     \u001B[38;5;28;43msuper\u001B[39;49m\u001B[43m(\u001B[49m\u001B[43m)\u001B[49m\u001B[38;5;241;43m.\u001B[39;49m\u001B[38;5;21;43m__init__\u001B[39;49m\u001B[43m(\u001B[49m\u001B[43mindices\u001B[49m\u001B[43m,\u001B[49m\u001B[43m \u001B[49m\u001B[43mcomponents\u001B[49m\u001B[43m)\u001B[49m\n",
      "File \u001B[0;32m~/code/repositories/relativisticpy/relativisticpy/algebras/einstein_summation.py:724\u001B[0m, in \u001B[0;36mEinsumArray.__init__\u001B[0;34m(self, indices, components)\u001B[0m\n\u001B[1;32m    712\u001B[0m \u001B[38;5;28;01mdef\u001B[39;00m \u001B[38;5;21m__init__\u001B[39m(\n\u001B[1;32m    713\u001B[0m         \u001B[38;5;28mself\u001B[39m,\n\u001B[1;32m    714\u001B[0m         indices: Indices,\n\u001B[1;32m    715\u001B[0m         components: SymbolArray\n\u001B[1;32m    716\u001B[0m ):\n\u001B[1;32m    717\u001B[0m \u001B[38;5;250m    \u001B[39m\u001B[38;5;124;03m\"\"\"\u001B[39;00m\n\u001B[1;32m    718\u001B[0m \u001B[38;5;124;03m    Initializes an instance of the EinsteinArray class.\u001B[39;00m\n\u001B[1;32m    719\u001B[0m \n\u001B[0;32m   (...)\u001B[0m\n\u001B[1;32m    722\u001B[0m \u001B[38;5;124;03m        components (SymbolArray, optional): The tensor's components. Defaults to None.\u001B[39;00m\n\u001B[1;32m    723\u001B[0m \u001B[38;5;124;03m    \"\"\"\u001B[39;00m\n\u001B[0;32m--> 724\u001B[0m     \u001B[38;5;28;43msuper\u001B[39;49m\u001B[43m(\u001B[49m\u001B[43m)\u001B[49m\u001B[38;5;241;43m.\u001B[39;49m\u001B[38;5;21;43m__init__\u001B[39;49m\u001B[43m(\u001B[49m\u001B[43mindices\u001B[49m\u001B[43m,\u001B[49m\u001B[43m \u001B[49m\u001B[43mcomponents\u001B[49m\u001B[43m)\u001B[49m\n\u001B[1;32m    725\u001B[0m     \u001B[38;5;28;01mif\u001B[39;00m \u001B[38;5;28mself\u001B[39m\u001B[38;5;241m.\u001B[39mindices\u001B[38;5;241m.\u001B[39mself_summed: \u001B[38;5;28mself\u001B[39m\u001B[38;5;241m.\u001B[39m_trace()\n",
      "File \u001B[0;32m~/code/repositories/relativisticpy/relativisticpy/algebras/einstein_summation.py:476\u001B[0m, in \u001B[0;36m_IdxAlgebraNCubeArray.__init__\u001B[0;34m(self, indices, components)\u001B[0m\n\u001B[1;32m    475\u001B[0m \u001B[38;5;28;01mdef\u001B[39;00m \u001B[38;5;21m__init__\u001B[39m(\u001B[38;5;28mself\u001B[39m, indices: Indices, components: SymbolArray):\n\u001B[0;32m--> 476\u001B[0m     \u001B[38;5;28;43mself\u001B[39;49m\u001B[38;5;241;43m.\u001B[39;49m\u001B[43m__validate\u001B[49m\u001B[43m(\u001B[49m\u001B[43mindices\u001B[49m\u001B[43m,\u001B[49m\u001B[43m \u001B[49m\u001B[43mcomponents\u001B[49m\u001B[43m)\u001B[49m\n\u001B[1;32m    477\u001B[0m     \u001B[38;5;28mself\u001B[39m\u001B[38;5;241m.\u001B[39mindices \u001B[38;5;241m=\u001B[39m indices\n\u001B[1;32m    478\u001B[0m     \u001B[38;5;28;01mif\u001B[39;00m \u001B[38;5;28mself\u001B[39m\u001B[38;5;241m.\u001B[39mindices\u001B[38;5;241m.\u001B[39mscalar:\n",
      "File \u001B[0;32m~/code/repositories/relativisticpy/relativisticpy/algebras/einstein_summation.py:681\u001B[0m, in \u001B[0;36m_IdxAlgebraNCubeArray.__validate\u001B[0;34m(indices, components)\u001B[0m\n\u001B[1;32m    679\u001B[0m             \u001B[38;5;28;01mraise\u001B[39;00m \u001B[38;5;167;01mValueError\u001B[39;00m(\u001B[38;5;124m\"\u001B[39m\u001B[38;5;124mInvalid Argument: components argument must be a scalar.\u001B[39m\u001B[38;5;124m\"\u001B[39m)\n\u001B[1;32m    680\u001B[0m     \u001B[38;5;28;01melif\u001B[39;00m \u001B[38;5;129;01mnot\u001B[39;00m \u001B[38;5;28misinstance\u001B[39m(components, (\u001B[38;5;28mint\u001B[39m, \u001B[38;5;28mfloat\u001B[39m, Basic)):\n\u001B[0;32m--> 681\u001B[0m         \u001B[38;5;28;01mraise\u001B[39;00m \u001B[38;5;167;01mValueError\u001B[39;00m(\u001B[38;5;124m\"\u001B[39m\u001B[38;5;124mInvalid Argument: components argument must be a scalar.\u001B[39m\u001B[38;5;124m\"\u001B[39m)\n\u001B[1;32m    683\u001B[0m \u001B[38;5;28;01melif\u001B[39;00m \u001B[38;5;129;01mnot\u001B[39;00m indices\u001B[38;5;241m.\u001B[39mscalar:\n\u001B[1;32m    684\u001B[0m     \u001B[38;5;28;01mif\u001B[39;00m \u001B[38;5;129;01mnot\u001B[39;00m \u001B[38;5;28misinstance\u001B[39m(components, (NDimArray, MutableDenseNDimArray, SymbolArray)):\n",
      "\u001B[0;31mValueError\u001B[0m: Invalid Argument: components argument must be a scalar."
     ]
    }
   ],
   "execution_count": 7
  },
  {
   "metadata": {
    "ExecuteTime": {
     "end_time": "2024-08-18T17:25:08.586577Z",
     "start_time": "2024-08-18T17:25:08.582311Z"
    }
   },
   "cell_type": "code",
   "source": "res",
   "outputs": [
    {
     "data": {
      "text/plain": [
       "'Invalid Argument: components argument must be a scalar.'"
      ]
     },
     "execution_count": 6,
     "metadata": {},
     "output_type": "execute_result"
    }
   ],
   "execution_count": 6
  },
  {
   "metadata": {
    "ExecuteTime": {
     "end_time": "2024-08-24T18:06:49.254599Z",
     "start_time": "2024-08-24T18:06:49.243388Z"
    }
   },
   "cell_type": "code",
   "source": [
    "from functools import singledispatchmethod\n",
    "\n",
    "class Animal:\n",
    "    @singledispatchmethod\n",
    "    @classmethod\n",
    "    def handle(cls, animal):\n",
    "        print(f\"[Animal] Handling an Animal: {animal.__class__.__name__}\")\n",
    "\n",
    "    @handle.register\n",
    "    @classmethod\n",
    "    def _(cls, animal: 'Mammal'):\n",
    "        print(f\"[Animal] Handling a Mammal: {animal.__class__.__name__}\")\n",
    "\n",
    "class Mammal(Animal):\n",
    "    @singledispatchmethod\n",
    "    @classmethod\n",
    "    def handle(cls, animal):\n",
    "        super().handle(animal)  # Optionally call the parent's handler\n",
    "        print(f\"[Mammal] Handling a Mammal: {animal.__class__.__name__}\")\n",
    "\n",
    "    @handle.register\n",
    "    @classmethod\n",
    "    def _(cls, animal: 'Dog'):\n",
    "        print(f\"[Mammal] Handling a Dog: {animal.__class__.__name__}\")\n",
    "\n",
    "    @handle.register\n",
    "    @classmethod\n",
    "    def _(cls, animal: 'Cat'):\n",
    "        print(f\"[Mammal] Handling a Cat: {animal.__class__.__name__}\")\n",
    "\n",
    "class Dog(Mammal):\n",
    "    @singledispatchmethod\n",
    "    @classmethod\n",
    "    def handle(cls, animal):\n",
    "        super().handle(animal)  # Optionally call the parent's handler\n",
    "        print(f\"[Dog] Handling a Dog: {animal.__class__.__name__}\")\n",
    "\n",
    "    @handle.register\n",
    "    @classmethod\n",
    "    def _(cls, animal: 'Bulldog'):\n",
    "        print(f\"[Dog] Handling a Bulldog: {animal.__class__.__name__}\")\n",
    "\n",
    "class Cat(Mammal):\n",
    "    @singledispatchmethod\n",
    "    @classmethod\n",
    "    def handle(cls, animal):\n",
    "        super().handle(animal)  # Optionally call the parent's handler\n",
    "        print(f\"[Cat] Handling a Cat: {animal.__class__.__name__}\")\n",
    "\n",
    "    @handle.register\n",
    "    @classmethod\n",
    "    def _(cls, animal: 'Siamese'):\n",
    "        print(f\"[Cat] Handling a Siamese: {animal.__class__.__name__}\")\n",
    "\n",
    "class Bulldog(Dog):\n",
    "    pass\n",
    "\n",
    "class Siamese(Cat):\n",
    "    pass\n",
    "\n",
    "# Example Usage\n",
    "generic_animal = Animal()\n",
    "mammal = Mammal()\n",
    "dog = Dog()\n",
    "cat = Cat()\n",
    "bulldog = Bulldog()\n",
    "siamese = Siamese()\n",
    "\n",
    "print(\"Animal handling:\")\n",
    "Animal.handle(generic_animal)  # Output: [Animal] Handling an Animal: Animal\n",
    "\n",
    "print(\"\\nMammal handling:\")\n",
    "Mammal.handle(mammal)          # Output: [Animal] Handling a Mammal: qa\n",
    "\n",
    "print(\"\\nDog handling:\")\n",
    "Dog.handle(dog)                # Output: [Animal] Handling a Dog: Dog\n",
    "                               #         [Mammal] Handling a Dog: Dog\n",
    "                               #         [Dog] Handling a Dog: Dog\n",
    "\n",
    "print(\"\\nCat handling:\")\n",
    "Cat.handle(cat)                # Output: [Animal] Handling a Cat: Cat\n",
    "                               #         [Mammal] Handling a Cat: Cat\n",
    "                               #         [Cat] Handling a Cat: Cat\n",
    "\n",
    "print(\"\\nBulldog handling:\")\n",
    "Dog.handle(bulldog)            # Output: [Animal] Handling a Bulldog: Bulldog\n",
    "                               #         [Mammal] Handling a Bulldog: Bulldog\n",
    "                               #         [Dog] Handling a Bulldog: Bulldog\n",
    "\n",
    "print(\"\\nSiamese handling:\")\n",
    "Cat.handle(siamese)            # Output: [Animal] Handling a Siamese: Siamese\n",
    "                               #         [Mammal] Handling a Siamese: Siamese\n",
    "                               #         [Cat] Handling a Siamese: Siamese\n"
   ],
   "outputs": [
    {
     "name": "stdout",
     "output_type": "stream",
     "text": [
      "Animal handling:\n",
      "[Animal] Handling an Animal: Animal\n",
      "\n",
      "Mammal handling:\n",
      "[Animal] Handling an Animal: Mammal\n",
      "[Mammal] Handling a Mammal: Mammal\n",
      "\n",
      "Dog handling:\n",
      "[Animal] Handling an Animal: Dog\n",
      "[Mammal] Handling a Mammal: Dog\n",
      "[Dog] Handling a Dog: Dog\n",
      "\n",
      "Cat handling:\n",
      "[Animal] Handling an Animal: Cat\n",
      "[Mammal] Handling a Mammal: Cat\n",
      "[Cat] Handling a Cat: Cat\n",
      "\n",
      "Bulldog handling:\n",
      "[Animal] Handling an Animal: Bulldog\n",
      "[Mammal] Handling a Mammal: Bulldog\n",
      "[Dog] Handling a Dog: Bulldog\n",
      "\n",
      "Siamese handling:\n",
      "[Animal] Handling an Animal: Siamese\n",
      "[Mammal] Handling a Mammal: Siamese\n",
      "[Cat] Handling a Cat: Siamese\n"
     ]
    }
   ],
   "execution_count": 12
  },
  {
   "metadata": {},
   "cell_type": "code",
   "outputs": [],
   "execution_count": null,
   "source": ""
  },
  {
   "metadata": {
    "ExecuteTime": {
     "end_time": "2024-07-13T14:44:25.539688Z",
     "start_time": "2024-07-13T14:44:25.536469Z"
    }
   },
   "cell_type": "code",
   "source": [
    "from loguru import logger\n",
    "\n",
    "logger.debug(\"Hello\", level=\"INFO\")"
   ],
   "outputs": [],
   "execution_count": 8
  },
  {
   "metadata": {
    "ExecuteTime": {
     "end_time": "2024-08-10T16:06:49.651843Z",
     "start_time": "2024-08-10T16:06:49.646823Z"
    }
   },
   "cell_type": "code",
   "source": [
    "\n",
    "eval('str')"
   ],
   "outputs": [
    {
     "data": {
      "text/plain": [
       "str"
      ]
     },
     "execution_count": 65,
     "metadata": {},
     "output_type": "execute_result"
    }
   ],
   "execution_count": 65
  },
  {
   "metadata": {
    "ExecuteTime": {
     "end_time": "2024-08-10T15:45:37.255870Z",
     "start_time": "2024-08-10T15:45:37.253050Z"
    }
   },
   "cell_type": "code",
   "source": [
    "from pathlib import Path\n",
    "\n",
    "Path('/Users/ashleycottrell/code/repositories/relativisticpy/examples/alice.txt')"
   ],
   "outputs": [
    {
     "data": {
      "text/plain": [
       "'.txt'"
      ]
     },
     "execution_count": 63,
     "metadata": {},
     "output_type": "execute_result"
    }
   ],
   "execution_count": 63
  },
  {
   "metadata": {
    "ExecuteTime": {
     "end_time": "2024-07-13T17:19:35.218832Z",
     "start_time": "2024-07-13T17:19:35.209419Z"
    }
   },
   "cell_type": "code",
   "source": [
    "import heapq\n",
    "from collections import defaultdict\n",
    "\n",
    "class Node:\n",
    "    def __init__(self, symbol, weight):\n",
    "        self.symbol = symbol\n",
    "        self.weight = weight\n",
    "        self.left = None\n",
    "        self.right = None\n",
    "\n",
    "    def __lt__(self, other):\n",
    "        return self.weight < other.weight\n",
    "\n",
    "    def __eq__(self, other):\n",
    "        return self.weight == other.weight\n",
    "    \n",
    "    def __add__(self, other):\n",
    "        if not isinstance(other, Node):\n",
    "            return NotImplemented\n",
    "        elif self.symbol == other.symbol:\n",
    "            return self.weight + other.weight\n",
    "        else:\n",
    "            return NotImplemented\n",
    "\n",
    "class CustomDict(dict):\n",
    "    def __missing__(self, symbol):\n",
    "        self[symbol] = Node(symbol, 1)\n",
    "        return Node(symbol, 1)\n",
    "\n",
    "def huffman_encode(data):\n",
    "    # Step a: Frequency table\n",
    "    frequency = defaultdict(int)\n",
    "    for char in data:\n",
    "        frequency[char] += 1\n",
    "    \n",
    "    # Priority queue to build the Huffman Tree\n",
    "    heap = [[weight, [symbol, \"\"]] for symbol, weight in frequency.items()]\n",
    "    heapq.heapify(heap)\n",
    "    \n",
    "    # Step b: Huffman Tree \n",
    "    while len(heap) > 1:\n",
    "        lo = heapq.heappop(heap)\n",
    "        print(lo)\n",
    "        hi = heapq.heappop(heap)\n",
    "        print(hi)\n",
    "        for pair in lo[1:]:\n",
    "            pair[1] = '0' + pair[1]\n",
    "        for pair in hi[1:]:\n",
    "            pair[1] = '1' + pair[1]\n",
    "        heapq.heappush(heap, [lo[0] + hi[0]] + lo[1:] + hi[1:])\n",
    "        print([lo[0] + hi[0]] + lo[1:] + hi[1:])\n",
    "    \n",
    "    # Step c: Huffman codes\n",
    "    huffman_codes = {pair[0]: pair[1] for pair in heap[0][1:]}\n",
    "    \n",
    "    # Step e: Encoding\n",
    "    output = \"\".join(huffman_codes[char] for char in data)\n",
    "    return output, huffman_codes\n",
    "\n",
    "# Example usage\n",
    "data = \"this is an example for huffman encoding\"\n",
    "encoded_data, codes = huffman_encode(data)\n",
    "print(\"Encoded Data:\", encoded_data)\n",
    "print(\"Huffman Codes:\", codes)\n",
    "encoded_data"
   ],
   "outputs": [
    {
     "name": "stdout",
     "output_type": "stream",
     "text": [
      "[1, ['c', '']]\n",
      "[1, ['d', '']]\n",
      "[2, ['c', '0'], ['d', '1']]\n",
      "[1, ['g', '']]\n",
      "[1, ['l', '']]\n",
      "[2, ['g', '0'], ['l', '1']]\n",
      "[1, ['p', '']]\n",
      "[1, ['r', '']]\n",
      "[2, ['p', '0'], ['r', '1']]\n",
      "[1, ['t', '']]\n",
      "[1, ['u', '']]\n",
      "[2, ['t', '0'], ['u', '1']]\n",
      "[1, ['x', '']]\n",
      "[2, ['c', '0'], ['d', '1']]\n",
      "[3, ['x', '0'], ['c', '10'], ['d', '11']]\n",
      "[2, ['g', '0'], ['l', '1']]\n",
      "[2, ['h', '']]\n",
      "[4, ['g', '00'], ['l', '01'], ['h', '1']]\n",
      "[2, ['m', '']]\n",
      "[2, ['o', '']]\n",
      "[4, ['m', '0'], ['o', '1']]\n",
      "[2, ['p', '0'], ['r', '1']]\n",
      "[2, ['s', '']]\n",
      "[4, ['p', '00'], ['r', '01'], ['s', '1']]\n",
      "[2, ['t', '0'], ['u', '1']]\n",
      "[3, ['a', '']]\n",
      "[5, ['t', '00'], ['u', '01'], ['a', '1']]\n",
      "[3, ['e', '']]\n",
      "[3, ['f', '']]\n",
      "[6, ['e', '0'], ['f', '1']]\n",
      "[3, ['i', '']]\n",
      "[3, ['x', '0'], ['c', '10'], ['d', '11']]\n",
      "[6, ['i', '0'], ['x', '10'], ['c', '110'], ['d', '111']]\n",
      "[4, ['g', '00'], ['l', '01'], ['h', '1']]\n",
      "[4, ['m', '0'], ['o', '1']]\n",
      "[8, ['g', '000'], ['l', '001'], ['h', '01'], ['m', '10'], ['o', '11']]\n",
      "[4, ['n', '']]\n",
      "[4, ['p', '00'], ['r', '01'], ['s', '1']]\n",
      "[8, ['n', '0'], ['p', '100'], ['r', '101'], ['s', '11']]\n",
      "[5, ['t', '00'], ['u', '01'], ['a', '1']]\n",
      "[6, [' ', '']]\n",
      "[11, ['t', '000'], ['u', '001'], ['a', '01'], [' ', '1']]\n",
      "[6, ['e', '0'], ['f', '1']]\n",
      "[6, ['i', '0'], ['x', '10'], ['c', '110'], ['d', '111']]\n",
      "[12, ['e', '00'], ['f', '01'], ['i', '10'], ['x', '110'], ['c', '1110'], ['d', '1111']]\n",
      "[8, ['g', '000'], ['l', '001'], ['h', '01'], ['m', '10'], ['o', '11']]\n",
      "[8, ['n', '0'], ['p', '100'], ['r', '101'], ['s', '11']]\n",
      "[16, ['g', '0000'], ['l', '0001'], ['h', '001'], ['m', '010'], ['o', '011'], ['n', '10'], ['p', '1100'], ['r', '1101'], ['s', '111']]\n",
      "[11, ['t', '000'], ['u', '001'], ['a', '01'], [' ', '1']]\n",
      "[12, ['e', '00'], ['f', '01'], ['i', '10'], ['x', '110'], ['c', '1110'], ['d', '1111']]\n",
      "[23, ['t', '0000'], ['u', '0001'], ['a', '001'], [' ', '01'], ['e', '100'], ['f', '101'], ['i', '110'], ['x', '1110'], ['c', '11110'], ['d', '11111']]\n",
      "[16, ['g', '0000'], ['l', '0001'], ['h', '001'], ['m', '010'], ['o', '011'], ['n', '10'], ['p', '1100'], ['r', '1101'], ['s', '111']]\n",
      "[23, ['t', '0000'], ['u', '0001'], ['a', '001'], [' ', '01'], ['e', '100'], ['f', '101'], ['i', '110'], ['x', '1110'], ['c', '11110'], ['d', '11111']]\n",
      "[39, ['g', '00000'], ['l', '00001'], ['h', '0001'], ['m', '0010'], ['o', '0011'], ['n', '010'], ['p', '01100'], ['r', '01101'], ['s', '0111'], ['t', '10000'], ['u', '10001'], ['a', '1001'], [' ', '101'], ['e', '1100'], ['f', '1101'], ['i', '1110'], ['x', '11110'], ['c', '111110'], ['d', '111111']]\n",
      "Encoded Data: 1000000011110011110111100111101100101010111001111010010010011000000111001011101001101101101000110001110111010010100101010111000101111100011111111111001000000\n",
      "Huffman Codes: {'g': '00000', 'l': '00001', 'h': '0001', 'm': '0010', 'o': '0011', 'n': '010', 'p': '01100', 'r': '01101', 's': '0111', 't': '10000', 'u': '10001', 'a': '1001', ' ': '101', 'e': '1100', 'f': '1101', 'i': '1110', 'x': '11110', 'c': '111110', 'd': '111111'}\n"
     ]
    },
    {
     "data": {
      "text/plain": [
       "'1000000011110011110111100111101100101010111001111010010010011000000111001011101001101101101000110001110111010010100101010111000101111100011111111111001000000'"
      ]
     },
     "execution_count": 284,
     "metadata": {},
     "output_type": "execute_result"
    }
   ],
   "execution_count": 284
  },
  {
   "metadata": {
    "ExecuteTime": {
     "end_time": "2024-07-13T16:23:23.406392Z",
     "start_time": "2024-07-13T16:23:23.398845Z"
    }
   },
   "cell_type": "code",
   "source": [
    "encoded_data, codes = huffman_encode(encoded_data)\n",
    "print(\"Encoded Data:\", encoded_data)\n",
    "print(\"Huffman Codes:\", codes)"
   ],
   "outputs": [
    {
     "name": "stdout",
     "output_type": "stream",
     "text": [
      "Encoded Data: 1000000011110011110111100111101100101010111001111010010010011000000111001011101001101101101000110001110111010010100101010111000101111100011111111111001000000\n",
      "Huffman Codes: {'0': '0', '1': '1'}\n"
     ]
    }
   ],
   "execution_count": 205
  },
  {
   "metadata": {
    "ExecuteTime": {
     "end_time": "2024-07-13T18:21:09.134926Z",
     "start_time": "2024-07-13T18:21:08.964851Z"
    }
   },
   "cell_type": "code",
   "source": [
    "import json\n",
    "import heapq\n",
    "\n",
    "class HuffmanNode:\n",
    "    \n",
    "    def __init__(self, weight, symbol: str = None):\n",
    "        self.symbol = symbol\n",
    "        self.weight = weight\n",
    "        self.parent = None\n",
    "        self.p_pointer: str = \"\"\n",
    "        self.left = None\n",
    "        self.right = None\n",
    "    \n",
    "    @property\n",
    "    def is_leaf(self):\n",
    "        return self.left is None and self.right is None\n",
    "    \n",
    "    @property\n",
    "    def is_root(self):\n",
    "        return self.parent is None\n",
    "\n",
    "    def __lt__(self, other):\n",
    "        return self.weight < other.weight\n",
    "\n",
    "    def __eq__(self, other):\n",
    "        return self.weight == other.weight\n",
    "    \n",
    "    def __add__(self, other):\n",
    "        if isinstance(other, HuffmanNode):\n",
    "            parent = HuffmanNode(weight=self.weight + other.weight)\n",
    "            self.p_pointer = \"0\"\n",
    "            other.p_pointer = \"1\"\n",
    "            self.parent = parent\n",
    "            other.parent = parent\n",
    "            parent.left = self\n",
    "            parent.right = other\n",
    "            return parent\n",
    "\n",
    "    # Existing code...\n",
    "    def increment_weight(self):\n",
    "        self.weight += 1\n",
    "        \n",
    "    @property\n",
    "    def code(self):\n",
    "        if not self.is_leaf:\n",
    "            return None\n",
    "        code = \"\"\n",
    "        node = self\n",
    "        while node.parent:\n",
    "            code = code + node.p_pointer\n",
    "            node = node.parent        \n",
    "        return code[::-1]\n",
    "\n",
    "\n",
    "class HuffmanTree(dict):\n",
    "    \n",
    "    def __init__(self):\n",
    "        super().__init__()\n",
    "        self.original_data = None\n",
    "        self.encoded_data = None\n",
    "    \n",
    "    def __missing__(self, symbol):\n",
    "        self[symbol] = HuffmanNode(0, symbol)\n",
    "        return self[symbol]\n",
    "\n",
    "    def huffman_decode(self):\n",
    "        # Step a: Reverse the Huffman codes\n",
    "        reverse_codes = {v: k for k, v in self.codes.items()}\n",
    "        data = self.encoded_data\n",
    "        # Step b: Decoding\n",
    "        current_code = \"\"\n",
    "        decoded_data = \"\"\n",
    "        for bit in data:\n",
    "            current_code += bit\n",
    "            if current_code in reverse_codes:\n",
    "                decoded_data += reverse_codes[current_code]\n",
    "                current_code = \"\"\n",
    "    \n",
    "        return decoded_data\n",
    "\n",
    "    @classmethod\n",
    "    def compress_string(cls, data: str):\n",
    "        d = cls()\n",
    "        d.original_data = data\n",
    "        for char in data:\n",
    "            d[char].increment_weight()\n",
    "        \n",
    "        heap = [n for c, n in d.items()]\n",
    "        heapq.heapify(heap)\n",
    "\n",
    "        while len(heap) > 1:\n",
    "            lo = heapq.heappop(heap)\n",
    "            hi = heapq.heappop(heap)\n",
    "            parent = lo + hi\n",
    "            heapq.heappush(heap, parent)\n",
    "        d.encoded_data = \"\".join(d[symbol].code for symbol in d.original_data)\n",
    "        return d\n",
    "    \n",
    "    @property\n",
    "    def codes(self):\n",
    "        return {k: v.code for k, v in self.items()}\n",
    "\n",
    "\n",
    "    @classmethod\n",
    "    def from_file(cls, file_path):\n",
    "        with open(file_path, 'r', encoding='utf-8') as file:\n",
    "            data = file.read()\n",
    "        return cls.compress_string(data)\n",
    "    \n",
    "    def save_to_file(self, data_file, metadata_file):\n",
    "        # Save encoded data with a simple encoding map\n",
    "        encoded_info = {\n",
    "            'encoded_data_location': data_file,\n",
    "            'huffman_tree': self.serialize_tree(),\n",
    "            'original_length': len(self.original_data)\n",
    "        }\n",
    "        with open(metadata_file, 'w', encoding='utf-8') as file:\n",
    "            json.dump(encoded_info, file)\n",
    "        \n",
    "        self.write_binary_data(data_file, self.encoded_data)\n",
    "\n",
    "    def write_binary_data(self, filename, binary_string):\n",
    "        # Convert a string of '0' and '1' to a bytes object\n",
    "        byte_array = bytearray()\n",
    "        \n",
    "        # Process each 8 bits (1 byte) at a time\n",
    "        for i in range(0, len(binary_string), 8):\n",
    "            # Convert the string of bits to an integer and then to a byte\n",
    "            byte = int(binary_string[i:i+8], 2)\n",
    "            byte_array.append(byte)\n",
    "        \n",
    "        # Write the byte array to a file\n",
    "        with open(filename, 'wb') as file:  # 'wb' mode opens the file in binary write mode\n",
    "            file.write(byte_array)\n",
    "    \n",
    "    def serialize_tree(self):\n",
    "        # Serialize the Huffman tree to a list of tuples (symbol, code)\n",
    "        return [(symbol, node.code) for symbol, node in self.items() if node.is_leaf]\n",
    "\n",
    "    @classmethod\n",
    "    def decode_from_file(cls, file_path):\n",
    "        with open(file_path, 'r', encoding='utf-8') as file:\n",
    "            encoded_info = json.load(file)\n",
    "        \n",
    "        # Rebuild the Huffman tree from the serialized data\n",
    "        huffman_tree = cls()\n",
    "        for symbol, code in encoded_info['huffman_tree']:\n",
    "            current_node = huffman_tree.tree_root if huffman_tree.tree_root else HuffmanNode(0)\n",
    "            for char in code:\n",
    "                if char == '0':\n",
    "                    if not current_node.left:\n",
    "                        current_node.left = HuffmanNode(0)\n",
    "                    current_node = current_node.left\n",
    "                elif char == '1':\n",
    "                    if not current_node.right:\n",
    "                        current_node.right = HuffmanNode(0)\n",
    "                    current_node = current_node.right\n",
    "            current_node.symbol = symbol  # Set leaf node\n",
    "            if not huffman_tree.tree_root:\n",
    "                huffman_tree.tree_root = current_node  # Set root if not set\n",
    "        \n",
    "        # Set encoded data and decode\n",
    "        huffman_tree.encoded_data = encoded_info['encoded_data']\n",
    "        return huffman_tree.huffman_decode()\n",
    "\n",
    "    # Existing compress_string, huffman_decode, etc.\n",
    "\n",
    "# Example usage\n",
    "data_file_path = '/Users/ashleycottrell/code/repositories/relativisticpy/examples/alice.txt'  # File containing the text to be compressed\n",
    "metadata_file_path = '/Users/ashleycottrell/code/repositories/relativisticpy/examples/compressed_alice.txt'  # File to save the compressed data\n",
    "comp_data_file_path = '/Users/ashleycottrell/code/repositories/relativisticpy/examples/comp_alice_bytes.huff'\n",
    "decoded_output_path = '/Users/ashleycottrell/code/repositories/relativisticpy/examples/decoded.txt'  # File to save the decompressed data\n",
    "\n",
    "# Compress and save\n",
    "huffman_tree = HuffmanTree.from_file(data_file_path)\n",
    "huffman_tree.save_to_file(comp_data_file_path, metadata_file_path)\n",
    "\n",
    "# # Decode from file and save output\n",
    "# decoded_data = HuffmanTree.decode_from_file(compressed_file_path)\n",
    "# with open(decoded_output_path, 'w', encoding='utf-8') as file:\n",
    "#     file.write(decoded_data)\n",
    "import os\n",
    "os.path.getsize(data_file_path) - os.path.getsize(comp_data_file_path)"
   ],
   "outputs": [],
   "execution_count": 38
  },
  {
   "metadata": {
    "ExecuteTime": {
     "end_time": "2024-07-13T18:21:32.676598Z",
     "start_time": "2024-07-13T18:21:32.673264Z"
    }
   },
   "cell_type": "code",
   "source": [
    "import os\n",
    "os.path.getsize(data_file_path) - os.path.getsize(comp_data_file_path)"
   ],
   "outputs": [
    {
     "data": {
      "text/plain": [
       "63934"
      ]
     },
     "execution_count": 39,
     "metadata": {},
     "output_type": "execute_result"
    }
   ],
   "execution_count": 39
  },
  {
   "metadata": {
    "ExecuteTime": {
     "end_time": "2024-07-13T17:49:07.268224Z",
     "start_time": "2024-07-13T17:49:07.265914Z"
    }
   },
   "cell_type": "code",
   "source": [
    "heap = [n for c, n in d.items()]\n",
    "heapq.heapify(heap)"
   ],
   "outputs": [],
   "execution_count": 320
  },
  {
   "metadata": {
    "ExecuteTime": {
     "end_time": "2024-07-13T17:12:51.917369Z",
     "start_time": "2024-07-13T17:12:51.914732Z"
    }
   },
   "cell_type": "code",
   "source": [
    "heapq.heapify(heap)\n",
    "for n in range(len(heap)):\n",
    "    n = heapq.heappop(heap)\n",
    "    print(n.symbol, n.weight)"
   ],
   "outputs": [
    {
     "name": "stdout",
     "output_type": "stream",
     "text": [
      "t 1\n",
      "l 1\n",
      "r 1\n",
      "p 1\n",
      "d 1\n",
      "x 1\n",
      "g 1\n",
      "c 1\n",
      "u 1\n",
      "o 2\n",
      "s 2\n",
      "h 2\n",
      "m 2\n",
      "i 3\n",
      "a 3\n",
      "e 3\n",
      "f 3\n",
      "n 4\n",
      "  6\n"
     ]
    }
   ],
   "execution_count": 282
  },
  {
   "metadata": {
    "ExecuteTime": {
     "end_time": "2024-07-13T16:18:26.208316Z",
     "start_time": "2024-07-13T16:18:26.206489Z"
    }
   },
   "cell_type": "code",
   "source": "",
   "outputs": [],
   "execution_count": 183
  },
  {
   "metadata": {
    "ExecuteTime": {
     "end_time": "2024-07-13T15:34:20.992900Z",
     "start_time": "2024-07-13T15:34:20.987370Z"
    }
   },
   "cell_type": "code",
   "source": [
    "def frequency_table(data):\n",
    "    frequency = defaultdict(int)\n",
    "    for char in data:\n",
    "        frequency[char] += 1\n",
    "    return frequency\n",
    "\n",
    "# Custom dictionary class\n",
    "class CustomDict(dict):\n",
    "    def __missing__(self, key):\n",
    "        # This method is called when a missing key is accessed.\n",
    "        # Custom logic to initialize the object can be placed here.\n",
    "        value = f\"Key is not present: {key}\"\n",
    "        self[key] = value\n",
    "        return value\n",
    "\n",
    "d = CustomDict()\n",
    "d['a']"
   ],
   "outputs": [
    {
     "data": {
      "text/plain": [
       "'Key is not present: a'"
      ]
     },
     "execution_count": 61,
     "metadata": {},
     "output_type": "execute_result"
    }
   ],
   "execution_count": 61
  },
  {
   "metadata": {
    "ExecuteTime": {
     "end_time": "2024-07-13T15:34:21.450581Z",
     "start_time": "2024-07-13T15:34:21.445424Z"
    }
   },
   "cell_type": "code",
   "source": [
    "import heapq\n",
    "from collections import defaultdict\n",
    "\n",
    "def huffman_tree(symbols_freq):\n",
    "    heap = [[weight, [symbol, \"\"]] for symbol, weight in symbols_freq.items()]\n",
    "    heapq.heapify(heap)\n",
    "    \n",
    "    while len(heap) > 1:\n",
    "        lo = heapq.heappop(heap)\n",
    "        hi = heapq.heappop(heap)\n",
    "        \n",
    "        for pair in lo[1:]:\n",
    "            pair[1] = '0' + pair[1]\n",
    "        for pair in hi[1:]:\n",
    "            pair[1] = '1' + pair[1]\n",
    "            \n",
    "        # New node with combined frequency and children\n",
    "        new_node = [lo[0] + hi[0]] + lo[1:] + hi[1:]\n",
    "        heapq.heappush(heap, new_node)\n",
    "    \n",
    "    return heap[0]  # The final tree\n",
    "\n",
    "# Example usage\n",
    "symbols_freq = {'a': 45, 'b': 13, 'c': 12, 'd': 16, 'e': 9, 'f': 5}\n",
    "tree = huffman_tree(symbols_freq)\n",
    "print(tree)\n"
   ],
   "outputs": [
    {
     "name": "stdout",
     "output_type": "stream",
     "text": [
      "[100, ['a', '0'], ['c', '100'], ['b', '101'], ['f', '1100'], ['e', '1101'], ['d', '111']]\n"
     ]
    }
   ],
   "execution_count": 62
  },
  {
   "metadata": {
    "ExecuteTime": {
     "end_time": "2024-07-13T15:34:22.092353Z",
     "start_time": "2024-07-13T15:34:22.088198Z"
    }
   },
   "cell_type": "code",
   "source": [
    "{\n",
    "    \"0\" : {\"a\"},\n",
    "    \"10\" : \"b\",\n",
    "    \"110\" : \"c\",\n",
    "    \"111\" : \"d\",\n",
    "    \"01\" : \"e\",\n",
    "    \"111\" : \"f\"\n",
    "}"
   ],
   "outputs": [
    {
     "data": {
      "text/plain": [
       "{'0': {'a'}, '10': 'b', '110': 'c', '111': 'f', '01': 'e'}"
      ]
     },
     "execution_count": 63,
     "metadata": {},
     "output_type": "execute_result"
    }
   ],
   "execution_count": 63
  },
  {
   "metadata": {
    "ExecuteTime": {
     "end_time": "2024-07-13T15:36:34.927510Z",
     "start_time": "2024-07-13T15:36:34.924210Z"
    }
   },
   "cell_type": "code",
   "source": [
    "import heapq\n",
    "\n",
    "a = Node('a', 45)\n",
    "b = Node('b', 13)\n",
    "\n",
    "# List to be used as a heap\n",
    "heap = []\n",
    "heapq.heappush(heap, a)\n",
    "heapq.heappush(heap, b)\n",
    "\n",
    "# Fetching items from the heap\n",
    "print(heapq.heappop(heap).symbol)  # Output: (1, 'write spec')\n",
    "print(heapq.heappop(heap).symbol)  # Output: (3, 'create tests')\n"
   ],
   "outputs": [
    {
     "name": "stdout",
     "output_type": "stream",
     "text": [
      "b\n",
      "a\n"
     ]
    }
   ],
   "execution_count": 68
  },
  {
   "metadata": {
    "ExecuteTime": {
     "end_time": "2024-07-13T15:10:51.004020Z",
     "start_time": "2024-07-13T15:10:51.000541Z"
    }
   },
   "cell_type": "code",
   "source": "d['a']",
   "outputs": [
    {
     "data": {
      "text/plain": [
       "'a'"
      ]
     },
     "execution_count": 37,
     "metadata": {},
     "output_type": "execute_result"
    }
   ],
   "execution_count": 37
  },
  {
   "metadata": {
    "ExecuteTime": {
     "end_time": "2024-07-13T14:52:03.059424Z",
     "start_time": "2024-07-13T14:52:03.056480Z"
    }
   },
   "cell_type": "code",
   "source": [
    "def pack_bits(bit_string):\n",
    "    # Ensure the bit string length is a multiple of 8\n",
    "    extra_bits = len(bit_string) % 8\n",
    "    if extra_bits != 0:\n",
    "        bit_string += '0' * (8 - extra_bits)\n",
    "    \n",
    "    return bytes(int(bit_string[i:i+8], 2) for i in range(0, len(bit_string), 8))\n",
    "\n",
    "packed_data = pack_bits(encoded_data)\n",
    "print(\"Packed Data:\", packed_data)\n"
   ],
   "outputs": [
    {
     "name": "stdout",
     "output_type": "stream",
     "text": [
      "Packed Data: b'\\x80\\xf3\\xde{*\\xe7\\xa4\\x98\\x1c\\xbam\\xa3\\x1d\\xd2\\x95q|\\x7f\\xf2\\x00'\n"
     ]
    }
   ],
   "execution_count": 13
  },
  {
   "metadata": {
    "ExecuteTime": {
     "end_time": "2024-07-13T14:52:08.929014Z",
     "start_time": "2024-07-13T14:52:08.926035Z"
    }
   },
   "cell_type": "code",
   "source": [
    "def huffman_decode(data, codes):\n",
    "    # Step a: Reverse the Huffman codes\n",
    "    reverse_codes = {v: k for k, v in codes.items()}\n",
    "    \n",
    "    # Step b: Decoding\n",
    "    data = data.lstrip(\"0\")\n",
    "    current_code = \"\"\n",
    "    decoded_data = \"\"\n",
    "    for bit in data:\n",
    "        current_code += bit\n",
    "        if current_code in reverse_codes:\n",
    "            decoded_data += reverse_codes[current_code]\n",
    "            current_code = \"\"\n",
    "    \n",
    "    return decoded_data"
   ],
   "outputs": [],
   "execution_count": 14
  },
  {
   "metadata": {
    "ExecuteTime": {
     "end_time": "2024-07-13T16:47:09.330080Z",
     "start_time": "2024-07-13T16:47:09.327031Z"
    }
   },
   "cell_type": "code",
   "source": "huffman_decode(d.encoded_data, d.codes)",
   "outputs": [
    {
     "data": {
      "text/plain": [
       "'a'"
      ]
     },
     "execution_count": 232,
     "metadata": {},
     "output_type": "execute_result"
    }
   ],
   "execution_count": 232
  },
  {
   "metadata": {
    "ExecuteTime": {
     "end_time": "2024-07-13T14:54:31.195138Z",
     "start_time": "2024-07-13T14:54:31.191592Z"
    }
   },
   "cell_type": "code",
   "source": [
    "def bytes_to_binary_string(bytes_data):\n",
    "    return ''.join(f'{byte:08b}' for byte in bytes_data)\n",
    "\n",
    "# Example\n",
    "binary_string = bytes_to_binary_string(pack_bits(encoded_data))\n",
    "print(binary_string)  # Output: '000000010000001000000011'\n"
   ],
   "outputs": [
    {
     "name": "stdout",
     "output_type": "stream",
     "text": [
      "1000000011110011110111100111101100101010111001111010010010011000000111001011101001101101101000110001110111010010100101010111000101111100011111111111001000000000\n"
     ]
    }
   ],
   "execution_count": 16
  },
  {
   "metadata": {
    "ExecuteTime": {
     "end_time": "2024-07-13T14:56:17.926275Z",
     "start_time": "2024-07-13T14:56:17.922131Z"
    }
   },
   "cell_type": "code",
   "source": "bytes_to_binary_string(b\"this is an example for huffman encoding\")",
   "outputs": [
    {
     "data": {
      "text/plain": [
       "'011101000110100001101001011100110010000001101001011100110010000001100001011011100010000001100101011110000110000101101101011100000110110001100101001000000110011001101111011100100010000001101000011101010110011001100110011011010110000101101110001000000110010101101110011000110110111101100100011010010110111001100111'"
      ]
     },
     "execution_count": 21,
     "metadata": {},
     "output_type": "execute_result"
    }
   ],
   "execution_count": 21
  },
  {
   "metadata": {},
   "cell_type": "code",
   "outputs": [],
   "execution_count": null,
   "source": [
    "class HuffmanCompression:\n",
    "    \n",
    "    def __init__(self):\n",
    "        self.codes = {}\n",
    "    \n",
    "    def bytes_to_binary_string(bytes_data):\n",
    "        return ''.join(f'{byte:08b}' for byte in bytes_data)"
   ]
  },
  {
   "metadata": {
    "ExecuteTime": {
     "end_time": "2024-08-03T14:59:59.777057Z",
     "start_time": "2024-08-03T14:59:59.763830Z"
    }
   },
   "cell_type": "code",
   "source": [
    "import sympy as sp\n",
    "\n",
    "t, r, theta, phi, M, G = sp.symbols('t r theta phi M G')\n",
    "\n",
    "G*M*(r*(2*G*M - r) - r*(2*G*M - r))/(r*r*(2*G*M - r)*(2*G*M - r))"
   ],
   "outputs": [
    {
     "data": {
      "text/plain": [
       "0"
      ],
      "text/latex": "$\\displaystyle 0$"
     },
     "execution_count": 8,
     "metadata": {},
     "output_type": "execute_result"
    }
   ],
   "execution_count": 8
  },
  {
   "metadata": {},
   "cell_type": "code",
   "outputs": [],
   "execution_count": null,
   "source": ""
  }
 ],
 "metadata": {
  "kernelspec": {
   "display_name": ".venv",
   "language": "python",
   "name": "python3"
  },
  "language_info": {
   "codemirror_mode": {
    "name": "ipython",
    "version": 3
   },
   "file_extension": ".py",
   "mimetype": "text/x-python",
   "name": "python",
   "nbconvert_exporter": "python",
   "pygments_lexer": "ipython3",
   "version": "3.11.9"
  }
 },
 "nbformat": 4,
 "nbformat_minor": 2
}
