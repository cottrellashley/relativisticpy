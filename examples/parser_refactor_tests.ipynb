{
 "cells": [
  {
   "cell_type": "code",
   "metadata": {
    "ExecuteTime": {
     "end_time": "2024-08-18T14:52:56.422729Z",
     "start_time": "2024-08-18T14:52:56.416488Z"
    }
   },
   "source": [
    "from set_path import set_root_path\n",
    "set_root_path()"
   ],
   "outputs": [
    {
     "name": "stdout",
     "output_type": "stream",
     "text": [
      "Working directory: /Users/ashleycottrell/code/repositories/relativisticpy\n"
     ]
    }
   ],
   "execution_count": 1
  },
  {
   "cell_type": "code",
   "metadata": {
    "ExecuteTime": {
     "end_time": "2024-06-22T14:13:33.088495Z",
     "start_time": "2024-06-22T14:13:33.081615Z"
    }
   },
   "source": [
    "from relativisticpy.algebras import Indices, Idx, EinsumArray\n",
    "from relativisticpy.diffgeom.tensor import Tensor\n",
    "from relativisticpy.diffgeom import Metric, CoordinatePatch, Manifold, Patch\n",
    "import sympy as smp\n",
    "from sympy import sin, cos, tan, tensorcontraction, trigsimp\n",
    "from relativisticpy.symengine import (\n",
    "    Function,\n",
    "    Symbol,\n",
    "    Basic,\n",
    "    sin,\n",
    "    oo,\n",
    "    Sum,\n",
    "    re,\n",
    "    im,\n",
    "    Product,\n",
    "    integrate,\n",
    "    Eq,\n",
    "    SymbolArray,\n",
    "    solve,\n",
    "    diff,\n",
    "    Pow,\n",
    "    Rational,\n",
    "    expand,\n",
    "    limit,\n",
    "    simplify,\n",
    "    root,\n",
    "    symbols,\n",
    "    dsolve,\n",
    "    exp,\n",
    "    I\n",
    ")\n",
    "\n",
    "from sympy import Eq, factorial, latex\n",
    "\n",
    "x = Symbol('x')\n",
    "y = Symbol('y')\n",
    "z = Symbol('z')\n",
    "t = Symbol('t')\n",
    "r = Symbol('r')\n",
    "basis = SymbolArray([x, y, z, t])\n",
    "\n",
    "x, y, z, t, r, theta, phi, G, M, c = symbols(\"x y z t r theta phi G M c\")\n",
    "\n",
    "metric_components = SymbolArray(\n",
    "    [\n",
    "        [-(1 - (2 * G * M) / (r)), 0, 0, 0],\n",
    "        [0, 1 / (1 - (2 * G * M) / (r)), 0, 0],\n",
    "        [0, 0, r**2, 0],\n",
    "        [0, 0, 0, r**2 * sin(theta) ** 2],\n",
    "    ]\n",
    ")\n",
    "\n",
    "test = SymbolArray(\n",
    "    [\n",
    "        [-(1 - (2 * G * M) / (r)), 0, 0, 0],\n",
    "        [0, 1 / (1 - (2 * G * M) / (r)), 0, 0],\n",
    "        [0, 0, r**2, 0],\n",
    "        [0, 0, 0, r**2 * sin(theta) ** 2],\n",
    "    ]\n",
    ")\n",
    "\n",
    "coordinate_patch = CoordinatePatch(Patch('schild', Manifold('blackhole', 4)), SymbolArray([r, theta, phi, t]))\n",
    "\n",
    "idxa = Indices(Idx('a'), Idx('b'))\n",
    "idxb = Indices(-Idx('a'), Idx('b'))\n",
    "\n",
    "A = EinsumArray(idxa, SymbolArray([[x, y], [z, t]]))\n",
    "B = EinsumArray(idxb, SymbolArray([[x, y], [y, x]]))\n",
    "GR = SymbolArray([[r**2, theta**2, 0, 0], [r**2, theta**2, 0, 0], [r**2, theta**2, 0, 0], [r**2, theta**2, 0, 0]])"
   ],
   "outputs": [],
   "execution_count": 8
  },
  {
   "metadata": {
    "ExecuteTime": {
     "end_time": "2024-06-22T14:13:36.051749Z",
     "start_time": "2024-06-22T14:13:36.046462Z"
    }
   },
   "cell_type": "code",
   "source": "[\"l\" if idx.covariant else \"u\" for idx in idxb.indices]",
   "outputs": [
    {
     "data": {
      "text/plain": [
       "['u', 'l']"
      ]
     },
     "execution_count": 9,
     "metadata": {},
     "output_type": "execute_result"
    }
   ],
   "execution_count": 9
  },
  {
   "cell_type": "code",
   "execution_count": 3,
   "metadata": {},
   "outputs": [
    {
     "data": {
      "text/plain": [
       "(1, 0)"
      ]
     },
     "execution_count": 3,
     "metadata": {},
     "output_type": "execute_result"
    }
   ],
   "source": [
    "idxa.get_symbol_only_reshape(Indices(-Idx('b'), -Idx('a')))"
   ]
  },
  {
   "cell_type": "code",
   "execution_count": 4,
   "metadata": {},
   "outputs": [
    {
     "data": {
      "text/plain": [
       "(Indices('a',0,None,True) , Indices('b',1,None,True) )"
      ]
     },
     "execution_count": 4,
     "metadata": {},
     "output_type": "execute_result"
    }
   ],
   "source": [
    "Indices(*[idxa.indices[i] for i in idxa.get_symbol_only_reshape(Indices(-Idx('a'),-Idx('b')))]).indices"
   ]
  },
  {
   "cell_type": "code",
   "execution_count": 5,
   "metadata": {},
   "outputs": [],
   "source": [
    "metric_t = Metric(\n",
    "                    idxa,\n",
    "                    metric_components\n",
    "                  )\n",
    "\n",
    "ten = Tensor(idxa, GR)"
   ]
  },
  {
   "cell_type": "code",
   "execution_count": 6,
   "metadata": {},
   "outputs": [
    {
     "data": {
      "text/latex": [
       "$\\displaystyle \\left[\\begin{matrix}r^{2} & \\theta^{2} & 0 & 0\\\\r^{2} & \\theta^{2} & 0 & 0\\\\r^{2} & \\theta^{2} & 0 & 0\\\\r^{2} & \\theta^{2} & 0 & 0\\end{matrix}\\right]$"
      ],
      "text/plain": [
       "[[r**2, theta**2, 0, 0], [r**2, theta**2, 0, 0], [r**2, theta**2, 0, 0], [r**2, theta**2, 0, 0]]"
      ]
     },
     "execution_count": 6,
     "metadata": {},
     "output_type": "execute_result"
    }
   ],
   "source": [
    "ten.components"
   ]
  },
  {
   "cell_type": "code",
   "execution_count": 7,
   "metadata": {},
   "outputs": [
    {
     "data": {
      "text/plain": [
       "(Indices('a',0,None,True) , Indices('b',1,None,True) )"
      ]
     },
     "execution_count": 7,
     "metadata": {},
     "output_type": "execute_result"
    }
   ],
   "source": [
    "ten.indices.indices"
   ]
  },
  {
   "cell_type": "code",
   "execution_count": 23,
   "metadata": {},
   "outputs": [],
   "source": [
    "metric_t.reshape_rerank(ten, Indices(Idx('a'), Idx('b')))"
   ]
  },
  {
   "cell_type": "code",
   "execution_count": 6,
   "metadata": {},
   "outputs": [
    {
     "ename": "NameError",
     "evalue": "name 'ten' is not defined",
     "output_type": "error",
     "traceback": [
      "\u001B[0;31m---------------------------------------------------------------------------\u001B[0m",
      "\u001B[0;31mNameError\u001B[0m                                 Traceback (most recent call last)",
      "Cell \u001B[0;32mIn[6], line 1\u001B[0m\n\u001B[0;32m----> 1\u001B[0m \u001B[43mten\u001B[49m\u001B[38;5;241m.\u001B[39mindices\u001B[38;5;241m.\u001B[39mcoordinates\n",
      "\u001B[0;31mNameError\u001B[0m: name 'ten' is not defined"
     ]
    }
   ],
   "source": [
    "ten.indices"
   ]
  },
  {
   "cell_type": "code",
   "execution_count": 29,
   "metadata": {},
   "outputs": [],
   "source": [
    "class Test:\n",
    "    pass\n",
    "\n",
    "A = Test()\n"
   ]
  },
  {
   "cell_type": "code",
   "execution_count": 30,
   "metadata": {},
   "outputs": [],
   "source": [
    "class Teste:\n",
    "    def __init__(self, a):\n",
    "        self.a = a\n",
    "    \n",
    "    def get(self, s):\n",
    "        return getattr(self.a, s)"
   ]
  },
  {
   "cell_type": "code",
   "execution_count": 31,
   "metadata": {},
   "outputs": [],
   "source": [
    "teste = Teste(A)"
   ]
  },
  {
   "cell_type": "code",
   "execution_count": 34,
   "metadata": {},
   "outputs": [],
   "source": [
    "A.a = 1\n",
    "A.b = 2\n",
    "A.c = 3\n",
    "A.d = 4"
   ]
  },
  {
   "cell_type": "code",
   "execution_count": 36,
   "metadata": {},
   "outputs": [
    {
     "data": {
      "text/plain": [
       "4"
      ]
     },
     "execution_count": 36,
     "metadata": {},
     "output_type": "execute_result"
    }
   ],
   "source": [
    "teste.get(\"d\")"
   ]
  },
  {
   "cell_type": "markdown",
   "metadata": {},
   "source": [
    "This Equation of motion we will call E0 and it is given by:\n",
    "\n",
    "$$1 = \\left( 1 - \\frac{r_s}{r} \\right) \\dot{t}^2 - \\left( 1 - \\frac{r_s}{r} \\right)^{-1}  \\dot{r}^2 - r^2 \\dot{\\theta}^2 - r^2\\sin^2(\\theta) \\dot{\\phi}^2$$\n",
    "\n",
    "Important Remark: This will be used as a \"Main Equation\" meaning it is this equation which we will substitute the other differential equations into, to find a final differential equation of the form: \n",
    "\n",
    "$$E = KE + V_{eff}$$\n",
    "\n",
    "<b>2. The Euler-Lagrange for t\n",
    "    \n",
    "We do not need to emmediatly use our Euler-Lagrange function to find this equation. Notice that since L is completly independent of time $t$\n",
    "    \n",
    "This means our E-L reduces to:\n",
    "    \n",
    "$$ \\frac{d}{d\\tau}\\frac{\\partial L}{\\partial \\dot{t}}=0 \\Rightarrow \\frac{\\partial L}{\\partial \\dot{t}} = Constant$$\n",
    "\n",
    "We write this constant as Energy $E$ and we find our first equation of motion as:\n",
    "\n",
    "$$ \\frac{dt}{d\\tau} = \\frac{E}{1 - \\frac{r_s}{r}}$$\n",
    "\n",
    "<b>5. The Euler-Lagrange for $\\phi$\n",
    "    \n",
    "Just like in the case for time-component equation, $L$ is completly independent of $\\phi$, which again, emediatly reduces the Euler-Lagrange equation to the form:\n",
    "    \n",
    "$$ \\frac{d}{d\\tau}\\frac{\\partial L}{\\partial \\dot{\\phi}}=0 \\Rightarrow \\frac{\\partial L}{\\partial \\dot{\\phi}} = Constant$$\n",
    "\n",
    "We write this constant as Angular Momentum, dented by $l$ and we find our phi equation of motion to be:\n",
    "    \n",
    "$$ \\frac{d\\phi}{d\\tau} = \\frac{l}{r^2\\sin^2(\\theta)} $$"
   ]
  },
  {
   "cell_type": "code",
   "execution_count": 28,
   "metadata": {},
   "outputs": [],
   "source": [
    "import matplotlib as mlib"
   ]
  },
  {
   "cell_type": "code",
   "execution_count": 30,
   "metadata": {},
   "outputs": [
    {
     "data": {
      "image/png": "[encoded data removed]",
      "text/plain": [
       "<Figure size 640x480 with 1 Axes>"
      ]
     },
     "metadata": {},
     "output_type": "display_data"
    }
   ],
   "source": [
    "import matplotlib.pyplot as plt\n",
    "import numpy as np\n",
    "\n",
    "x = np.linspace(0, 2 * np.pi, 200)\n",
    "y = np.sin(x)\n",
    "\n",
    "fig, ax = plt.subplots()\n",
    "ax.plot(x, y)\n",
    "plt.show()"
   ]
  },
  {
   "cell_type": "markdown",
   "metadata": {},
   "source": [
    "$$\n",
    "C = \\begin{pmatrix} \n",
    "1 &  2   & 3 \\\\\n",
    "0 &  0   & x \\\\\n",
    "y & f(x) & 0 \\\\\n",
    "\\end{pmatrix} \n",
    "$$"
   ]
  },
  {
   "cell_type": "markdown",
   "metadata": {},
   "source": []
  },
  {
   "cell_type": "code",
   "execution_count": 33,
   "metadata": {},
   "outputs": [
    {
     "name": "stdout",
     "output_type": "stream",
     "text": [
      "\n",
      "              Coordinates := \\begin{bmatrix} \n",
      "                                    t & r & theta & phi \n",
      "                                \\end{bmatrix}\n",
      "                \\vspace{5mm}\n",
      "                g_{\\mu\\nu} := \\begin{bmatrix}\n",
      "                                                -(1 - \\frac{2 \\cdot G \\cdot M}{r}) & 0 & 0 & 0 \\\n",
      "                                                0 & \\frac{1}{1 - \\frac{2 \\cdot G \\cdot M}{r}} & 0 & 0 \\\n",
      "                                                0 & 0 & r^2 & 0 \\\n",
      "                                                0 & 0 & 0 & r^2 \\sin(\\theta)^2\n",
      "                                 \\end{bmatrix}\n",
      "                \\newline\n",
      "                R^{a=0}_{b=0 c=0 n=0}\n",
      "                \\vspace{5mm}\n",
      "                R^{a}_{b:0 c=0 n=0}\n",
      "                \\linebreak[4]\n",
      "                R^{a=0}_{b=1 c=0 n}\n",
      "                \\vspace{5mm}\n",
      "                R^{a=1}_{b c n=3}\n",
      "      \n",
      "      \n"
     ]
    }
   ],
   "source": [
    "print(\"\"\"\n",
    "              Coordinates := \\\\begin{bmatrix} \n",
    "                                    t & r & theta & phi \n",
    "                                \\\\end{bmatrix}\n",
    "                \\\\vspace{5mm}\n",
    "                g_{\\\\mu\\\\nu} := \\\\begin{bmatrix}\n",
    "                                                -(1 - \\\\frac{2 \\\\cdot G \\\\cdot M}{r}) & 0 & 0 & 0 \\\\\n",
    "                                                0 & \\\\frac{1}{1 - \\\\frac{2 \\\\cdot G \\\\cdot M}{r}} & 0 & 0 \\\\\n",
    "                                                0 & 0 & r^2 & 0 \\\\\n",
    "                                                0 & 0 & 0 & r^2 \\sin(\\\\theta)^2\n",
    "                                 \\\\end{bmatrix}\n",
    "                \\\\newline\n",
    "                R^{a=0}_{b=0 c=0 n=0}\n",
    "                \\\\vspace{5mm}\n",
    "                R^{a}_{b:0 c=0 n=0}\n",
    "                \\\\linebreak[4]\n",
    "                R^{a=0}_{b=1 c=0 n}\n",
    "                \\\\vspace{5mm}\n",
    "                R^{a=1}_{b c n=3}\n",
    "      \n",
    "      \"\"\")"
   ]
  },
  {
   "cell_type": "code",
   "metadata": {
    "ExecuteTime": {
     "end_time": "2024-08-03T15:46:13.029323Z",
     "start_time": "2024-08-03T15:46:12.860671Z"
    }
   },
   "source": [
    "import sympy as smp\n",
    "\n",
    "G, M, r, theta, phi, a = smp.symbols('G M r theta phi a')\n",
    "smp.trigsimp(-G*M*(-a**4*smp.sin(theta)**2 + a**4 - a**2*r**2*smp.sin(theta)**2 - r**4) + a**4*smp.cos(theta)**4 - r**4)/((a**2*smp.cos(theta)**2 + r**2)**2*(-2*G*M*r + a**2 + r**2))"
   ],
   "outputs": [
    {
     "data": {
      "text/plain": [
       "(-G*M*(-a**4*sin(theta)**2 + a**4 - a**2*r**2*sin(theta)**2 - r**4) + a**4*cos(theta)**4 - r**4)/((a**2*cos(theta)**2 + r**2)**2*(-2*G*M*r + a**2 + r**2))"
      ],
      "text/latex": "$\\displaystyle \\frac{- G M \\left(- a^{4} \\sin^{2}{\\left(\\theta \\right)} + a^{4} - a^{2} r^{2} \\sin^{2}{\\left(\\theta \\right)} - r^{4}\\right) + a^{4} \\cos^{4}{\\left(\\theta \\right)} - r^{4}}{\\left(a^{2} \\cos^{2}{\\left(\\theta \\right)} + r^{2}\\right)^{2} \\left(- 2 G M r + a^{2} + r^{2}\\right)}$"
     },
     "execution_count": 14,
     "metadata": {},
     "output_type": "execute_result"
    }
   ],
   "execution_count": 14
  },
  {
   "metadata": {
    "ExecuteTime": {
     "end_time": "2024-08-03T16:20:25.681540Z",
     "start_time": "2024-08-03T16:20:25.471491Z"
    }
   },
   "cell_type": "code",
   "source": [
    "import numpy as np\n",
    "import matplotlib.pyplot as plt\n",
    "\n",
    "class Grid:\n",
    "    def __init__(self, size):\n",
    "        self.size = size\n",
    "        self.exchange_rates = np.random.rand(size, size, 2)  # Initialize random exchange rates\n",
    "        self.gains = np.zeros((size, size))  # Initialize gains to zero\n",
    "\n",
    "    def calculate_gains(self):\n",
    "        for i in range(self.size):\n",
    "            for j in range(self.size):\n",
    "                # Calculate the gain for the four possible loops\n",
    "                right = (i + 1) % self.size\n",
    "                down = (j + 1) % self.size\n",
    "                \n",
    "                gain1 = self.exchange_rates[i, j, 0] * self.exchange_rates[right, j, 1] / (self.exchange_rates[right, j, 0] * self.exchange_rates[i, down, 1])\n",
    "                gain2 = self.exchange_rates[i, j, 1] * self.exchange_rates[i, down, 0] / (self.exchange_rates[right, down, 1] * self.exchange_rates[right, j, 0])\n",
    "                \n",
    "                self.gains[i, j] = max(gain1, gain2) - 1  # Max gain minus 1 (no gain)\n",
    "    \n",
    "    def display_gains(self):\n",
    "        plt.imshow(self.gains, cmap='hot', interpolation='nearest')\n",
    "        plt.colorbar()\n",
    "        plt.title('Gain Heatmap')\n",
    "        plt.show()\n",
    "    \n",
    "    def move_actors(self, num_actors, steps):\n",
    "        actors = np.random.randint(0, self.size, (num_actors, 2))  # Random initial positions\n",
    "        for _ in range(steps):\n",
    "            for actor in actors:\n",
    "                i, j = actor\n",
    "                gains = self.gains[i, j]\n",
    "                if gains > 0:\n",
    "                    if gains == self.gains[i, (j + 1) % self.size]:\n",
    "                        actor[1] = (j + 1) % self.size\n",
    "                    elif gains == self.gains[(i + 1) % self.size, j]:\n",
    "                        actor[0] = (i + 1) % self.size\n",
    "\n",
    "        return actors\n",
    "\n",
    "# Parameters\n",
    "grid_size = 10\n",
    "num_actors = 20\n",
    "steps = 100\n",
    "\n",
    "# Simulation\n",
    "grid = Grid(grid_size)\n",
    "grid.calculate_gains()\n",
    "grid.display_gains()\n",
    "final_positions = grid.move_actors(num_actors, steps)\n",
    "\n",
    "# Display final positions of actors\n",
    "plt.scatter(final_positions[:, 0], final_positions[:, 1])\n",
    "plt.title('Final Positions of Actors')\n",
    "plt.show()"
   ],
   "outputs": [
    {
     "data": {
      "text/plain": [
       "<Figure size 640x480 with 2 Axes>"
      ],
      "image/png": "[encoded data removed]"
     },
     "metadata": {},
     "output_type": "display_data"
    },
    {
     "data": {
      "text/plain": [
       "<Figure size 640x480 with 1 Axes>"
      ],
      "image/png": "[encoded data removed]"
     },
     "metadata": {},
     "output_type": "display_data"
    }
   ],
   "execution_count": 16
  },
  {
   "metadata": {
    "ExecuteTime": {
     "end_time": "2024-08-03T16:37:43.718Z",
     "start_time": "2024-08-03T16:37:43.713147Z"
    }
   },
   "cell_type": "code",
   "source": [
    "import numpy as np\n",
    "import matplotlib.pyplot as plt\n",
    "from matplotlib.animation import FuncAnimation\n",
    "\n",
    "class EconomicGrid:\n",
    "    def __init__(self, size):\n",
    "        self.size = size\n",
    "        self.exchange_rates = np.random.rand(size, size, 4)  # 4 neighbors for each cell\n",
    "        self.gains = np.zeros((size, size, 4))  # Gains for moving in each direction\n",
    "\n",
    "    def calculate_gains(self):\n",
    "        for i in range(self.size):\n",
    "            for j in range(self.size):\n",
    "                for k, (di, dj) in enumerate([(1, 0), (0, 1), (-1, 0), (0, -1)]):  # right, down, left, up\n",
    "                    ni, nj = (i + di) % self.size, (j + dj) % self.size\n",
    "                    self.gains[i, j, k] = self.exchange_rates[i, j, k] * self.exchange_rates[ni, nj, (k + 2) % 4]\n",
    "\n",
    "    def move_actor(self, actor):\n",
    "        i, j = actor[-1]\n",
    "        possible_moves = self.gains[i, j]\n",
    "        best_move = np.argmax(possible_moves)\n",
    "        if possible_moves[best_move] > 1:\n",
    "            di, dj = [(1, 0), (0, 1), (-1, 0), (0, -1)][best_move]\n",
    "            ni, nj = (i + di) % self.size, (j + dj) % self.size\n",
    "            actor.append((ni, nj))\n"
   ],
   "outputs": [],
   "execution_count": 30
  },
  {
   "metadata": {
    "ExecuteTime": {
     "end_time": "2024-08-03T16:37:49.875840Z",
     "start_time": "2024-08-03T16:37:49.871991Z"
    }
   },
   "cell_type": "code",
   "source": [
    "def animate_actor(grid, steps, interval=200):\n",
    "    actor = [(np.random.randint(0, grid.size), np.random.randint(0, grid.size))]  # Random initial position\n",
    "    fig, ax = plt.subplots()\n",
    "    ax.set_xlim(0, grid.size - 1)\n",
    "    ax.set_ylim(0, grid.size - 1)\n",
    "    \n",
    "    line, = ax.plot([], [], 'bo-')\n",
    "    \n",
    "    def update(frame):\n",
    "        grid.move_actor(actor)\n",
    "        x, y = zip(*actor)\n",
    "        line.set_data(x, y)\n",
    "        return line,\n",
    "\n",
    "    ani = FuncAnimation(fig, update, frames=range(steps), interval=interval, blit=True)\n",
    "    plt.title('Actor Movement Over Time')\n",
    "    plt.show()\n"
   ],
   "outputs": [],
   "execution_count": 32
  },
  {
   "metadata": {
    "ExecuteTime": {
     "end_time": "2024-08-03T16:38:08.510785Z",
     "start_time": "2024-08-03T16:38:08.507983Z"
    }
   },
   "cell_type": "code",
   "source": [
    "# Parameters\n",
    "grid_size = 10\n",
    "steps = 100\n",
    "\n",
    "# Simulation\n",
    "grid = EconomicGrid(grid_size)"
   ],
   "outputs": [],
   "execution_count": 37
  },
  {
   "metadata": {
    "ExecuteTime": {
     "end_time": "2024-08-03T16:38:19.367618Z",
     "start_time": "2024-08-03T16:38:19.261162Z"
    }
   },
   "cell_type": "code",
   "source": [
    "grid.calculate_gains()\n",
    "animate_actor(grid, steps)"
   ],
   "outputs": [
    {
     "data": {
      "text/plain": [
       "<Figure size 640x480 with 1 Axes>"
      ],
      "image/png": "[encoded data removed]"
     },
     "metadata": {},
     "output_type": "display_data"
    }
   ],
   "execution_count": 43
  },
  {
   "metadata": {
    "ExecuteTime": {
     "end_time": "2024-08-03T16:39:30.371212Z",
     "start_time": "2024-08-03T16:39:30.361562Z"
    }
   },
   "cell_type": "code",
   "source": [
    "import numpy as np\n",
    "import matplotlib.pyplot as plt\n",
    "from matplotlib.animation import FuncAnimation\n",
    "\n",
    "class EconomicGrid:\n",
    "    def __init__(self, size):\n",
    "        self.size = size\n",
    "        self.exchange_rates = np.random.rand(size, size, 4)  # 4 neighbors for each cell\n",
    "        self.gains = np.zeros((size, size, 4))  # Gains for moving in each direction\n",
    "\n",
    "    def calculate_gains(self):\n",
    "        for i in range(self.size):\n",
    "            for j in range(self.size):\n",
    "                for k, (di, dj) in enumerate([(1, 0), (0, 1), (-1, 0), (0, -1)]):  # right, down, left, up\n",
    "                    ni, nj = (i + di) % self.size, (j + dj) % self.size\n",
    "                    self.gains[i, j, k] = self.exchange_rates[i, j, k] / self.exchange_rates[ni, nj, (k + 2) % 4]\n",
    "\n",
    "    def move_actor(self, actor):\n",
    "        i, j = actor[-1]\n",
    "        possible_moves = self.gains[i, j]\n",
    "        best_move = np.argmax(possible_moves)\n",
    "        if possible_moves[best_move] > 1:\n",
    "            di, dj = [(1, 0), (0, 1), (-1, 0), (0, -1)][best_move]\n",
    "            ni, nj = (i + di) % self.size, (j + dj) % self.size\n",
    "            actor.append((ni, nj))\n",
    "        else:\n",
    "            actor.append((i, j))  # No profitable move, stay in place\n",
    "\n",
    "def animate_actor(grid, steps, interval=200):\n",
    "    actor = [(np.random.randint(0, grid.size), np.random.randint(0, grid.size))]  # Random initial position\n",
    "    fig, ax = plt.subplots()\n",
    "    ax.set_xlim(0, grid.size)\n",
    "    ax.set_ylim(0, grid.size)\n",
    "    \n",
    "    trail, = ax.plot([], [], 'bo-', alpha=0.5)\n",
    "    actor_dot, = ax.plot([], [], 'ro')\n",
    "\n",
    "    def update(frame):\n",
    "        grid.move_actor(actor)\n",
    "        x, y = zip(*actor)\n",
    "        trail.set_data(x, y)\n",
    "        actor_dot.set_data(x[-1], y[-1])\n",
    "        return trail, actor_dot\n",
    "\n",
    "    ani = FuncAnimation(fig, update, frames=range(steps), interval=interval, blit=True)\n",
    "    plt.title('Actor Movement Over Time')\n",
    "    plt.show()\n",
    "\n",
    "# Parameters\n",
    "grid_size = 10\n",
    "steps = 100\n",
    "\n",
    "# Simulation\n",
    "grid = EconomicGrid(grid_size)"
   ],
   "outputs": [],
   "execution_count": 47
  },
  {
   "metadata": {
    "ExecuteTime": {
     "end_time": "2024-08-03T16:39:38.779256Z",
     "start_time": "2024-08-03T16:39:38.589900Z"
    }
   },
   "cell_type": "code",
   "source": [
    "grid.calculate_gains()\n",
    "animate_actor(grid, steps)"
   ],
   "outputs": [
    {
     "ename": "RuntimeError",
     "evalue": "x must be a sequence",
     "output_type": "error",
     "traceback": [
      "\u001B[0;31m---------------------------------------------------------------------------\u001B[0m",
      "\u001B[0;31mRuntimeError\u001B[0m                              Traceback (most recent call last)",
      "Cell \u001B[0;32mIn[50], line 2\u001B[0m\n\u001B[1;32m      1\u001B[0m grid\u001B[38;5;241m.\u001B[39mcalculate_gains()\n\u001B[0;32m----> 2\u001B[0m \u001B[43manimate_actor\u001B[49m\u001B[43m(\u001B[49m\u001B[43mgrid\u001B[49m\u001B[43m,\u001B[49m\u001B[43m \u001B[49m\u001B[43msteps\u001B[49m\u001B[43m)\u001B[49m\n",
      "Cell \u001B[0;32mIn[47], line 45\u001B[0m, in \u001B[0;36manimate_actor\u001B[0;34m(grid, steps, interval)\u001B[0m\n\u001B[1;32m     42\u001B[0m     actor_dot\u001B[38;5;241m.\u001B[39mset_data(x[\u001B[38;5;241m-\u001B[39m\u001B[38;5;241m1\u001B[39m], y[\u001B[38;5;241m-\u001B[39m\u001B[38;5;241m1\u001B[39m])\n\u001B[1;32m     43\u001B[0m     \u001B[38;5;28;01mreturn\u001B[39;00m trail, actor_dot\n\u001B[0;32m---> 45\u001B[0m ani \u001B[38;5;241m=\u001B[39m \u001B[43mFuncAnimation\u001B[49m\u001B[43m(\u001B[49m\u001B[43mfig\u001B[49m\u001B[43m,\u001B[49m\u001B[43m \u001B[49m\u001B[43mupdate\u001B[49m\u001B[43m,\u001B[49m\u001B[43m \u001B[49m\u001B[43mframes\u001B[49m\u001B[38;5;241;43m=\u001B[39;49m\u001B[38;5;28;43mrange\u001B[39;49m\u001B[43m(\u001B[49m\u001B[43msteps\u001B[49m\u001B[43m)\u001B[49m\u001B[43m,\u001B[49m\u001B[43m \u001B[49m\u001B[43minterval\u001B[49m\u001B[38;5;241;43m=\u001B[39;49m\u001B[43minterval\u001B[49m\u001B[43m,\u001B[49m\u001B[43m \u001B[49m\u001B[43mblit\u001B[49m\u001B[38;5;241;43m=\u001B[39;49m\u001B[38;5;28;43;01mTrue\u001B[39;49;00m\u001B[43m)\u001B[49m\n\u001B[1;32m     46\u001B[0m plt\u001B[38;5;241m.\u001B[39mtitle(\u001B[38;5;124m'\u001B[39m\u001B[38;5;124mActor Movement Over Time\u001B[39m\u001B[38;5;124m'\u001B[39m)\n\u001B[1;32m     47\u001B[0m plt\u001B[38;5;241m.\u001B[39mshow()\n",
      "File \u001B[0;32m/Library/Frameworks/Python.framework/Versions/3.11/lib/python3.11/site-packages/matplotlib/animation.py:1693\u001B[0m, in \u001B[0;36mFuncAnimation.__init__\u001B[0;34m(self, fig, func, frames, init_func, fargs, save_count, cache_frame_data, **kwargs)\u001B[0m\n\u001B[1;32m   1690\u001B[0m \u001B[38;5;66;03m# Needs to be initialized so the draw functions work without checking\u001B[39;00m\n\u001B[1;32m   1691\u001B[0m \u001B[38;5;28mself\u001B[39m\u001B[38;5;241m.\u001B[39m_save_seq \u001B[38;5;241m=\u001B[39m []\n\u001B[0;32m-> 1693\u001B[0m \u001B[38;5;28;43msuper\u001B[39;49m\u001B[43m(\u001B[49m\u001B[43m)\u001B[49m\u001B[38;5;241;43m.\u001B[39;49m\u001B[38;5;21;43m__init__\u001B[39;49m\u001B[43m(\u001B[49m\u001B[43mfig\u001B[49m\u001B[43m,\u001B[49m\u001B[43m \u001B[49m\u001B[38;5;241;43m*\u001B[39;49m\u001B[38;5;241;43m*\u001B[39;49m\u001B[43mkwargs\u001B[49m\u001B[43m)\u001B[49m\n\u001B[1;32m   1695\u001B[0m \u001B[38;5;66;03m# Need to reset the saved seq, since right now it will contain data\u001B[39;00m\n\u001B[1;32m   1696\u001B[0m \u001B[38;5;66;03m# for a single frame from init, which is not what we want.\u001B[39;00m\n\u001B[1;32m   1697\u001B[0m \u001B[38;5;28mself\u001B[39m\u001B[38;5;241m.\u001B[39m_save_seq \u001B[38;5;241m=\u001B[39m []\n",
      "File \u001B[0;32m/Library/Frameworks/Python.framework/Versions/3.11/lib/python3.11/site-packages/matplotlib/animation.py:1417\u001B[0m, in \u001B[0;36mTimedAnimation.__init__\u001B[0;34m(self, fig, interval, repeat_delay, repeat, event_source, *args, **kwargs)\u001B[0m\n\u001B[1;32m   1415\u001B[0m \u001B[38;5;28;01mif\u001B[39;00m event_source \u001B[38;5;129;01mis\u001B[39;00m \u001B[38;5;28;01mNone\u001B[39;00m:\n\u001B[1;32m   1416\u001B[0m     event_source \u001B[38;5;241m=\u001B[39m fig\u001B[38;5;241m.\u001B[39mcanvas\u001B[38;5;241m.\u001B[39mnew_timer(interval\u001B[38;5;241m=\u001B[39m\u001B[38;5;28mself\u001B[39m\u001B[38;5;241m.\u001B[39m_interval)\n\u001B[0;32m-> 1417\u001B[0m \u001B[38;5;28;43msuper\u001B[39;49m\u001B[43m(\u001B[49m\u001B[43m)\u001B[49m\u001B[38;5;241;43m.\u001B[39;49m\u001B[38;5;21;43m__init__\u001B[39;49m\u001B[43m(\u001B[49m\u001B[43mfig\u001B[49m\u001B[43m,\u001B[49m\u001B[43m \u001B[49m\u001B[43mevent_source\u001B[49m\u001B[38;5;241;43m=\u001B[39;49m\u001B[43mevent_source\u001B[49m\u001B[43m,\u001B[49m\u001B[43m \u001B[49m\u001B[38;5;241;43m*\u001B[39;49m\u001B[43margs\u001B[49m\u001B[43m,\u001B[49m\u001B[43m \u001B[49m\u001B[38;5;241;43m*\u001B[39;49m\u001B[38;5;241;43m*\u001B[39;49m\u001B[43mkwargs\u001B[49m\u001B[43m)\u001B[49m\n",
      "File \u001B[0;32m/Library/Frameworks/Python.framework/Versions/3.11/lib/python3.11/site-packages/matplotlib/animation.py:888\u001B[0m, in \u001B[0;36mAnimation.__init__\u001B[0;34m(self, fig, event_source, blit)\u001B[0m\n\u001B[1;32m    885\u001B[0m \u001B[38;5;28mself\u001B[39m\u001B[38;5;241m.\u001B[39m_close_id \u001B[38;5;241m=\u001B[39m \u001B[38;5;28mself\u001B[39m\u001B[38;5;241m.\u001B[39m_fig\u001B[38;5;241m.\u001B[39mcanvas\u001B[38;5;241m.\u001B[39mmpl_connect(\u001B[38;5;124m'\u001B[39m\u001B[38;5;124mclose_event\u001B[39m\u001B[38;5;124m'\u001B[39m,\n\u001B[1;32m    886\u001B[0m                                               \u001B[38;5;28mself\u001B[39m\u001B[38;5;241m.\u001B[39m_stop)\n\u001B[1;32m    887\u001B[0m \u001B[38;5;28;01mif\u001B[39;00m \u001B[38;5;28mself\u001B[39m\u001B[38;5;241m.\u001B[39m_blit:\n\u001B[0;32m--> 888\u001B[0m     \u001B[38;5;28;43mself\u001B[39;49m\u001B[38;5;241;43m.\u001B[39;49m\u001B[43m_setup_blit\u001B[49m\u001B[43m(\u001B[49m\u001B[43m)\u001B[49m\n",
      "File \u001B[0;32m/Library/Frameworks/Python.framework/Versions/3.11/lib/python3.11/site-packages/matplotlib/animation.py:1211\u001B[0m, in \u001B[0;36mAnimation._setup_blit\u001B[0;34m(self)\u001B[0m\n\u001B[1;32m   1209\u001B[0m \u001B[38;5;28mself\u001B[39m\u001B[38;5;241m.\u001B[39m_drawn_artists \u001B[38;5;241m=\u001B[39m []\n\u001B[1;32m   1210\u001B[0m \u001B[38;5;66;03m# _post_draw needs to be called first to initialize the renderer\u001B[39;00m\n\u001B[0;32m-> 1211\u001B[0m \u001B[38;5;28;43mself\u001B[39;49m\u001B[38;5;241;43m.\u001B[39;49m\u001B[43m_post_draw\u001B[49m\u001B[43m(\u001B[49m\u001B[38;5;28;43;01mNone\u001B[39;49;00m\u001B[43m,\u001B[49m\u001B[43m \u001B[49m\u001B[38;5;28;43mself\u001B[39;49m\u001B[38;5;241;43m.\u001B[39;49m\u001B[43m_blit\u001B[49m\u001B[43m)\u001B[49m\n\u001B[1;32m   1212\u001B[0m \u001B[38;5;66;03m# Then we need to clear the Frame for the initial draw\u001B[39;00m\n\u001B[1;32m   1213\u001B[0m \u001B[38;5;66;03m# This is typically handled in _on_resize because QT and Tk\u001B[39;00m\n\u001B[1;32m   1214\u001B[0m \u001B[38;5;66;03m# emit a resize event on launch, but the macosx backend does not,\u001B[39;00m\n\u001B[1;32m   1215\u001B[0m \u001B[38;5;66;03m# thus we force it here for everyone for consistency\u001B[39;00m\n\u001B[1;32m   1216\u001B[0m \u001B[38;5;28mself\u001B[39m\u001B[38;5;241m.\u001B[39m_init_draw()\n",
      "File \u001B[0;32m/Library/Frameworks/Python.framework/Versions/3.11/lib/python3.11/site-packages/matplotlib/animation.py:1166\u001B[0m, in \u001B[0;36mAnimation._post_draw\u001B[0;34m(self, framedata, blit)\u001B[0m\n\u001B[1;32m   1164\u001B[0m     \u001B[38;5;28mself\u001B[39m\u001B[38;5;241m.\u001B[39m_blit_draw(\u001B[38;5;28mself\u001B[39m\u001B[38;5;241m.\u001B[39m_drawn_artists)\n\u001B[1;32m   1165\u001B[0m \u001B[38;5;28;01melse\u001B[39;00m:\n\u001B[0;32m-> 1166\u001B[0m     \u001B[38;5;28;43mself\u001B[39;49m\u001B[38;5;241;43m.\u001B[39;49m\u001B[43m_fig\u001B[49m\u001B[38;5;241;43m.\u001B[39;49m\u001B[43mcanvas\u001B[49m\u001B[38;5;241;43m.\u001B[39;49m\u001B[43mdraw_idle\u001B[49m\u001B[43m(\u001B[49m\u001B[43m)\u001B[49m\n",
      "File \u001B[0;32m/Library/Frameworks/Python.framework/Versions/3.11/lib/python3.11/site-packages/matplotlib/backend_bases.py:1905\u001B[0m, in \u001B[0;36mFigureCanvasBase.draw_idle\u001B[0;34m(self, *args, **kwargs)\u001B[0m\n\u001B[1;32m   1903\u001B[0m \u001B[38;5;28;01mif\u001B[39;00m \u001B[38;5;129;01mnot\u001B[39;00m \u001B[38;5;28mself\u001B[39m\u001B[38;5;241m.\u001B[39m_is_idle_drawing:\n\u001B[1;32m   1904\u001B[0m     \u001B[38;5;28;01mwith\u001B[39;00m \u001B[38;5;28mself\u001B[39m\u001B[38;5;241m.\u001B[39m_idle_draw_cntx():\n\u001B[0;32m-> 1905\u001B[0m         \u001B[38;5;28;43mself\u001B[39;49m\u001B[38;5;241;43m.\u001B[39;49m\u001B[43mdraw\u001B[49m\u001B[43m(\u001B[49m\u001B[38;5;241;43m*\u001B[39;49m\u001B[43margs\u001B[49m\u001B[43m,\u001B[49m\u001B[43m \u001B[49m\u001B[38;5;241;43m*\u001B[39;49m\u001B[38;5;241;43m*\u001B[39;49m\u001B[43mkwargs\u001B[49m\u001B[43m)\u001B[49m\n",
      "File \u001B[0;32m/Library/Frameworks/Python.framework/Versions/3.11/lib/python3.11/site-packages/matplotlib/backends/backend_agg.py:387\u001B[0m, in \u001B[0;36mFigureCanvasAgg.draw\u001B[0;34m(self)\u001B[0m\n\u001B[1;32m    384\u001B[0m \u001B[38;5;66;03m# Acquire a lock on the shared font cache.\u001B[39;00m\n\u001B[1;32m    385\u001B[0m \u001B[38;5;28;01mwith\u001B[39;00m (\u001B[38;5;28mself\u001B[39m\u001B[38;5;241m.\u001B[39mtoolbar\u001B[38;5;241m.\u001B[39m_wait_cursor_for_draw_cm() \u001B[38;5;28;01mif\u001B[39;00m \u001B[38;5;28mself\u001B[39m\u001B[38;5;241m.\u001B[39mtoolbar\n\u001B[1;32m    386\u001B[0m       \u001B[38;5;28;01melse\u001B[39;00m nullcontext()):\n\u001B[0;32m--> 387\u001B[0m     \u001B[38;5;28;43mself\u001B[39;49m\u001B[38;5;241;43m.\u001B[39;49m\u001B[43mfigure\u001B[49m\u001B[38;5;241;43m.\u001B[39;49m\u001B[43mdraw\u001B[49m\u001B[43m(\u001B[49m\u001B[38;5;28;43mself\u001B[39;49m\u001B[38;5;241;43m.\u001B[39;49m\u001B[43mrenderer\u001B[49m\u001B[43m)\u001B[49m\n\u001B[1;32m    388\u001B[0m     \u001B[38;5;66;03m# A GUI class may be need to update a window using this draw, so\u001B[39;00m\n\u001B[1;32m    389\u001B[0m     \u001B[38;5;66;03m# don't forget to call the superclass.\u001B[39;00m\n\u001B[1;32m    390\u001B[0m     \u001B[38;5;28msuper\u001B[39m()\u001B[38;5;241m.\u001B[39mdraw()\n",
      "File \u001B[0;32m/Library/Frameworks/Python.framework/Versions/3.11/lib/python3.11/site-packages/matplotlib/artist.py:95\u001B[0m, in \u001B[0;36m_finalize_rasterization.<locals>.draw_wrapper\u001B[0;34m(artist, renderer, *args, **kwargs)\u001B[0m\n\u001B[1;32m     93\u001B[0m \u001B[38;5;129m@wraps\u001B[39m(draw)\n\u001B[1;32m     94\u001B[0m \u001B[38;5;28;01mdef\u001B[39;00m \u001B[38;5;21mdraw_wrapper\u001B[39m(artist, renderer, \u001B[38;5;241m*\u001B[39margs, \u001B[38;5;241m*\u001B[39m\u001B[38;5;241m*\u001B[39mkwargs):\n\u001B[0;32m---> 95\u001B[0m     result \u001B[38;5;241m=\u001B[39m \u001B[43mdraw\u001B[49m\u001B[43m(\u001B[49m\u001B[43martist\u001B[49m\u001B[43m,\u001B[49m\u001B[43m \u001B[49m\u001B[43mrenderer\u001B[49m\u001B[43m,\u001B[49m\u001B[43m \u001B[49m\u001B[38;5;241;43m*\u001B[39;49m\u001B[43margs\u001B[49m\u001B[43m,\u001B[49m\u001B[43m \u001B[49m\u001B[38;5;241;43m*\u001B[39;49m\u001B[38;5;241;43m*\u001B[39;49m\u001B[43mkwargs\u001B[49m\u001B[43m)\u001B[49m\n\u001B[1;32m     96\u001B[0m     \u001B[38;5;28;01mif\u001B[39;00m renderer\u001B[38;5;241m.\u001B[39m_rasterizing:\n\u001B[1;32m     97\u001B[0m         renderer\u001B[38;5;241m.\u001B[39mstop_rasterizing()\n",
      "File \u001B[0;32m/Library/Frameworks/Python.framework/Versions/3.11/lib/python3.11/site-packages/matplotlib/artist.py:72\u001B[0m, in \u001B[0;36mallow_rasterization.<locals>.draw_wrapper\u001B[0;34m(artist, renderer)\u001B[0m\n\u001B[1;32m     69\u001B[0m     \u001B[38;5;28;01mif\u001B[39;00m artist\u001B[38;5;241m.\u001B[39mget_agg_filter() \u001B[38;5;129;01mis\u001B[39;00m \u001B[38;5;129;01mnot\u001B[39;00m \u001B[38;5;28;01mNone\u001B[39;00m:\n\u001B[1;32m     70\u001B[0m         renderer\u001B[38;5;241m.\u001B[39mstart_filter()\n\u001B[0;32m---> 72\u001B[0m     \u001B[38;5;28;01mreturn\u001B[39;00m \u001B[43mdraw\u001B[49m\u001B[43m(\u001B[49m\u001B[43martist\u001B[49m\u001B[43m,\u001B[49m\u001B[43m \u001B[49m\u001B[43mrenderer\u001B[49m\u001B[43m)\u001B[49m\n\u001B[1;32m     73\u001B[0m \u001B[38;5;28;01mfinally\u001B[39;00m:\n\u001B[1;32m     74\u001B[0m     \u001B[38;5;28;01mif\u001B[39;00m artist\u001B[38;5;241m.\u001B[39mget_agg_filter() \u001B[38;5;129;01mis\u001B[39;00m \u001B[38;5;129;01mnot\u001B[39;00m \u001B[38;5;28;01mNone\u001B[39;00m:\n",
      "File \u001B[0;32m/Library/Frameworks/Python.framework/Versions/3.11/lib/python3.11/site-packages/matplotlib/figure.py:3169\u001B[0m, in \u001B[0;36mFigure.draw\u001B[0;34m(self, renderer)\u001B[0m\n\u001B[1;32m   3166\u001B[0m \u001B[38;5;28;01mfinally\u001B[39;00m:\n\u001B[1;32m   3167\u001B[0m     \u001B[38;5;28mself\u001B[39m\u001B[38;5;241m.\u001B[39mstale \u001B[38;5;241m=\u001B[39m \u001B[38;5;28;01mFalse\u001B[39;00m\n\u001B[0;32m-> 3169\u001B[0m \u001B[43mDrawEvent\u001B[49m\u001B[43m(\u001B[49m\u001B[38;5;124;43m\"\u001B[39;49m\u001B[38;5;124;43mdraw_event\u001B[39;49m\u001B[38;5;124;43m\"\u001B[39;49m\u001B[43m,\u001B[49m\u001B[43m \u001B[49m\u001B[38;5;28;43mself\u001B[39;49m\u001B[38;5;241;43m.\u001B[39;49m\u001B[43mcanvas\u001B[49m\u001B[43m,\u001B[49m\u001B[43m \u001B[49m\u001B[43mrenderer\u001B[49m\u001B[43m)\u001B[49m\u001B[38;5;241;43m.\u001B[39;49m\u001B[43m_process\u001B[49m\u001B[43m(\u001B[49m\u001B[43m)\u001B[49m\n",
      "File \u001B[0;32m/Library/Frameworks/Python.framework/Versions/3.11/lib/python3.11/site-packages/matplotlib/backend_bases.py:1217\u001B[0m, in \u001B[0;36mEvent._process\u001B[0;34m(self)\u001B[0m\n\u001B[1;32m   1215\u001B[0m \u001B[38;5;28;01mdef\u001B[39;00m \u001B[38;5;21m_process\u001B[39m(\u001B[38;5;28mself\u001B[39m):\n\u001B[1;32m   1216\u001B[0m \u001B[38;5;250m    \u001B[39m\u001B[38;5;124;03m\"\"\"Process this event on ``self.canvas``, then unset ``guiEvent``.\"\"\"\u001B[39;00m\n\u001B[0;32m-> 1217\u001B[0m     \u001B[38;5;28;43mself\u001B[39;49m\u001B[38;5;241;43m.\u001B[39;49m\u001B[43mcanvas\u001B[49m\u001B[38;5;241;43m.\u001B[39;49m\u001B[43mcallbacks\u001B[49m\u001B[38;5;241;43m.\u001B[39;49m\u001B[43mprocess\u001B[49m\u001B[43m(\u001B[49m\u001B[38;5;28;43mself\u001B[39;49m\u001B[38;5;241;43m.\u001B[39;49m\u001B[43mname\u001B[49m\u001B[43m,\u001B[49m\u001B[43m \u001B[49m\u001B[38;5;28;43mself\u001B[39;49m\u001B[43m)\u001B[49m\n\u001B[1;32m   1218\u001B[0m     \u001B[38;5;28mself\u001B[39m\u001B[38;5;241m.\u001B[39m_guiEvent_deleted \u001B[38;5;241m=\u001B[39m \u001B[38;5;28;01mTrue\u001B[39;00m\n",
      "File \u001B[0;32m/Library/Frameworks/Python.framework/Versions/3.11/lib/python3.11/site-packages/matplotlib/cbook.py:303\u001B[0m, in \u001B[0;36mCallbackRegistry.process\u001B[0;34m(self, s, *args, **kwargs)\u001B[0m\n\u001B[1;32m    301\u001B[0m \u001B[38;5;28;01mexcept\u001B[39;00m \u001B[38;5;167;01mException\u001B[39;00m \u001B[38;5;28;01mas\u001B[39;00m exc:\n\u001B[1;32m    302\u001B[0m     \u001B[38;5;28;01mif\u001B[39;00m \u001B[38;5;28mself\u001B[39m\u001B[38;5;241m.\u001B[39mexception_handler \u001B[38;5;129;01mis\u001B[39;00m \u001B[38;5;129;01mnot\u001B[39;00m \u001B[38;5;28;01mNone\u001B[39;00m:\n\u001B[0;32m--> 303\u001B[0m         \u001B[38;5;28;43mself\u001B[39;49m\u001B[38;5;241;43m.\u001B[39;49m\u001B[43mexception_handler\u001B[49m\u001B[43m(\u001B[49m\u001B[43mexc\u001B[49m\u001B[43m)\u001B[49m\n\u001B[1;32m    304\u001B[0m     \u001B[38;5;28;01melse\u001B[39;00m:\n\u001B[1;32m    305\u001B[0m         \u001B[38;5;28;01mraise\u001B[39;00m\n",
      "File \u001B[0;32m/Library/Frameworks/Python.framework/Versions/3.11/lib/python3.11/site-packages/matplotlib/cbook.py:87\u001B[0m, in \u001B[0;36m_exception_printer\u001B[0;34m(exc)\u001B[0m\n\u001B[1;32m     85\u001B[0m \u001B[38;5;28;01mdef\u001B[39;00m \u001B[38;5;21m_exception_printer\u001B[39m(exc):\n\u001B[1;32m     86\u001B[0m     \u001B[38;5;28;01mif\u001B[39;00m _get_running_interactive_framework() \u001B[38;5;129;01min\u001B[39;00m [\u001B[38;5;124m\"\u001B[39m\u001B[38;5;124mheadless\u001B[39m\u001B[38;5;124m\"\u001B[39m, \u001B[38;5;28;01mNone\u001B[39;00m]:\n\u001B[0;32m---> 87\u001B[0m         \u001B[38;5;28;01mraise\u001B[39;00m exc\n\u001B[1;32m     88\u001B[0m     \u001B[38;5;28;01melse\u001B[39;00m:\n\u001B[1;32m     89\u001B[0m         traceback\u001B[38;5;241m.\u001B[39mprint_exc()\n",
      "File \u001B[0;32m/Library/Frameworks/Python.framework/Versions/3.11/lib/python3.11/site-packages/matplotlib/cbook.py:298\u001B[0m, in \u001B[0;36mCallbackRegistry.process\u001B[0;34m(self, s, *args, **kwargs)\u001B[0m\n\u001B[1;32m    296\u001B[0m \u001B[38;5;28;01mif\u001B[39;00m func \u001B[38;5;129;01mis\u001B[39;00m \u001B[38;5;129;01mnot\u001B[39;00m \u001B[38;5;28;01mNone\u001B[39;00m:\n\u001B[1;32m    297\u001B[0m     \u001B[38;5;28;01mtry\u001B[39;00m:\n\u001B[0;32m--> 298\u001B[0m         \u001B[43mfunc\u001B[49m\u001B[43m(\u001B[49m\u001B[38;5;241;43m*\u001B[39;49m\u001B[43margs\u001B[49m\u001B[43m,\u001B[49m\u001B[43m \u001B[49m\u001B[38;5;241;43m*\u001B[39;49m\u001B[38;5;241;43m*\u001B[39;49m\u001B[43mkwargs\u001B[49m\u001B[43m)\u001B[49m\n\u001B[1;32m    299\u001B[0m     \u001B[38;5;66;03m# this does not capture KeyboardInterrupt, SystemExit,\u001B[39;00m\n\u001B[1;32m    300\u001B[0m     \u001B[38;5;66;03m# and GeneratorExit\u001B[39;00m\n\u001B[1;32m    301\u001B[0m     \u001B[38;5;28;01mexcept\u001B[39;00m \u001B[38;5;167;01mException\u001B[39;00m \u001B[38;5;28;01mas\u001B[39;00m exc:\n",
      "File \u001B[0;32m/Library/Frameworks/Python.framework/Versions/3.11/lib/python3.11/site-packages/matplotlib/animation.py:912\u001B[0m, in \u001B[0;36mAnimation._start\u001B[0;34m(self, *args)\u001B[0m\n\u001B[1;32m    909\u001B[0m \u001B[38;5;28mself\u001B[39m\u001B[38;5;241m.\u001B[39m_fig\u001B[38;5;241m.\u001B[39mcanvas\u001B[38;5;241m.\u001B[39mmpl_disconnect(\u001B[38;5;28mself\u001B[39m\u001B[38;5;241m.\u001B[39m_first_draw_id)\n\u001B[1;32m    911\u001B[0m \u001B[38;5;66;03m# Now do any initial draw\u001B[39;00m\n\u001B[0;32m--> 912\u001B[0m \u001B[38;5;28;43mself\u001B[39;49m\u001B[38;5;241;43m.\u001B[39;49m\u001B[43m_init_draw\u001B[49m\u001B[43m(\u001B[49m\u001B[43m)\u001B[49m\n\u001B[1;32m    914\u001B[0m \u001B[38;5;66;03m# Add our callback for stepping the animation and\u001B[39;00m\n\u001B[1;32m    915\u001B[0m \u001B[38;5;66;03m# actually start the event_source.\u001B[39;00m\n\u001B[1;32m    916\u001B[0m \u001B[38;5;28mself\u001B[39m\u001B[38;5;241m.\u001B[39mevent_source\u001B[38;5;241m.\u001B[39madd_callback(\u001B[38;5;28mself\u001B[39m\u001B[38;5;241m.\u001B[39m_step)\n",
      "File \u001B[0;32m/Library/Frameworks/Python.framework/Versions/3.11/lib/python3.11/site-packages/matplotlib/animation.py:1747\u001B[0m, in \u001B[0;36mFuncAnimation._init_draw\u001B[0;34m(self)\u001B[0m\n\u001B[1;32m   1739\u001B[0m         warnings\u001B[38;5;241m.\u001B[39mwarn(\n\u001B[1;32m   1740\u001B[0m             \u001B[38;5;124m\"\u001B[39m\u001B[38;5;124mCan not start iterating the frames for the initial draw. \u001B[39m\u001B[38;5;124m\"\u001B[39m\n\u001B[1;32m   1741\u001B[0m             \u001B[38;5;124m\"\u001B[39m\u001B[38;5;124mThis can be caused by passing in a 0 length sequence \u001B[39m\u001B[38;5;124m\"\u001B[39m\n\u001B[0;32m   (...)\u001B[0m\n\u001B[1;32m   1744\u001B[0m             \u001B[38;5;124m\"\u001B[39m\u001B[38;5;124mit may be exhausted due to a previous display or save.\u001B[39m\u001B[38;5;124m\"\u001B[39m\n\u001B[1;32m   1745\u001B[0m         )\n\u001B[1;32m   1746\u001B[0m         \u001B[38;5;28;01mreturn\u001B[39;00m\n\u001B[0;32m-> 1747\u001B[0m     \u001B[38;5;28;43mself\u001B[39;49m\u001B[38;5;241;43m.\u001B[39;49m\u001B[43m_draw_frame\u001B[49m\u001B[43m(\u001B[49m\u001B[43mframe_data\u001B[49m\u001B[43m)\u001B[49m\n\u001B[1;32m   1748\u001B[0m \u001B[38;5;28;01melse\u001B[39;00m:\n\u001B[1;32m   1749\u001B[0m     \u001B[38;5;28mself\u001B[39m\u001B[38;5;241m.\u001B[39m_drawn_artists \u001B[38;5;241m=\u001B[39m \u001B[38;5;28mself\u001B[39m\u001B[38;5;241m.\u001B[39m_init_func()\n",
      "File \u001B[0;32m/Library/Frameworks/Python.framework/Versions/3.11/lib/python3.11/site-packages/matplotlib/animation.py:1766\u001B[0m, in \u001B[0;36mFuncAnimation._draw_frame\u001B[0;34m(self, framedata)\u001B[0m\n\u001B[1;32m   1762\u001B[0m     \u001B[38;5;28mself\u001B[39m\u001B[38;5;241m.\u001B[39m_save_seq \u001B[38;5;241m=\u001B[39m \u001B[38;5;28mself\u001B[39m\u001B[38;5;241m.\u001B[39m_save_seq[\u001B[38;5;241m-\u001B[39m\u001B[38;5;28mself\u001B[39m\u001B[38;5;241m.\u001B[39m_save_count:]\n\u001B[1;32m   1764\u001B[0m \u001B[38;5;66;03m# Call the func with framedata and args. If blitting is desired,\u001B[39;00m\n\u001B[1;32m   1765\u001B[0m \u001B[38;5;66;03m# func needs to return a sequence of any artists that were modified.\u001B[39;00m\n\u001B[0;32m-> 1766\u001B[0m \u001B[38;5;28mself\u001B[39m\u001B[38;5;241m.\u001B[39m_drawn_artists \u001B[38;5;241m=\u001B[39m \u001B[38;5;28;43mself\u001B[39;49m\u001B[38;5;241;43m.\u001B[39;49m\u001B[43m_func\u001B[49m\u001B[43m(\u001B[49m\u001B[43mframedata\u001B[49m\u001B[43m,\u001B[49m\u001B[43m \u001B[49m\u001B[38;5;241;43m*\u001B[39;49m\u001B[38;5;28;43mself\u001B[39;49m\u001B[38;5;241;43m.\u001B[39;49m\u001B[43m_args\u001B[49m\u001B[43m)\u001B[49m\n\u001B[1;32m   1768\u001B[0m \u001B[38;5;28;01mif\u001B[39;00m \u001B[38;5;28mself\u001B[39m\u001B[38;5;241m.\u001B[39m_blit:\n\u001B[1;32m   1770\u001B[0m     err \u001B[38;5;241m=\u001B[39m \u001B[38;5;167;01mRuntimeError\u001B[39;00m(\u001B[38;5;124m'\u001B[39m\u001B[38;5;124mThe animation function must return a sequence \u001B[39m\u001B[38;5;124m'\u001B[39m\n\u001B[1;32m   1771\u001B[0m                        \u001B[38;5;124m'\u001B[39m\u001B[38;5;124mof Artist objects.\u001B[39m\u001B[38;5;124m'\u001B[39m)\n",
      "Cell \u001B[0;32mIn[47], line 42\u001B[0m, in \u001B[0;36manimate_actor.<locals>.update\u001B[0;34m(frame)\u001B[0m\n\u001B[1;32m     40\u001B[0m x, y \u001B[38;5;241m=\u001B[39m \u001B[38;5;28mzip\u001B[39m(\u001B[38;5;241m*\u001B[39mactor)\n\u001B[1;32m     41\u001B[0m trail\u001B[38;5;241m.\u001B[39mset_data(x, y)\n\u001B[0;32m---> 42\u001B[0m \u001B[43mactor_dot\u001B[49m\u001B[38;5;241;43m.\u001B[39;49m\u001B[43mset_data\u001B[49m\u001B[43m(\u001B[49m\u001B[43mx\u001B[49m\u001B[43m[\u001B[49m\u001B[38;5;241;43m-\u001B[39;49m\u001B[38;5;241;43m1\u001B[39;49m\u001B[43m]\u001B[49m\u001B[43m,\u001B[49m\u001B[43m \u001B[49m\u001B[43my\u001B[49m\u001B[43m[\u001B[49m\u001B[38;5;241;43m-\u001B[39;49m\u001B[38;5;241;43m1\u001B[39;49m\u001B[43m]\u001B[49m\u001B[43m)\u001B[49m\n\u001B[1;32m     43\u001B[0m \u001B[38;5;28;01mreturn\u001B[39;00m trail, actor_dot\n",
      "File \u001B[0;32m/Library/Frameworks/Python.framework/Versions/3.11/lib/python3.11/site-packages/matplotlib/lines.py:665\u001B[0m, in \u001B[0;36mLine2D.set_data\u001B[0;34m(self, *args)\u001B[0m\n\u001B[1;32m    662\u001B[0m \u001B[38;5;28;01melse\u001B[39;00m:\n\u001B[1;32m    663\u001B[0m     x, y \u001B[38;5;241m=\u001B[39m args\n\u001B[0;32m--> 665\u001B[0m \u001B[38;5;28;43mself\u001B[39;49m\u001B[38;5;241;43m.\u001B[39;49m\u001B[43mset_xdata\u001B[49m\u001B[43m(\u001B[49m\u001B[43mx\u001B[49m\u001B[43m)\u001B[49m\n\u001B[1;32m    666\u001B[0m \u001B[38;5;28mself\u001B[39m\u001B[38;5;241m.\u001B[39mset_ydata(y)\n",
      "File \u001B[0;32m/Library/Frameworks/Python.framework/Versions/3.11/lib/python3.11/site-packages/matplotlib/lines.py:1289\u001B[0m, in \u001B[0;36mLine2D.set_xdata\u001B[0;34m(self, x)\u001B[0m\n\u001B[1;32m   1276\u001B[0m \u001B[38;5;250m\u001B[39m\u001B[38;5;124;03m\"\"\"\u001B[39;00m\n\u001B[1;32m   1277\u001B[0m \u001B[38;5;124;03mSet the data array for x.\u001B[39;00m\n\u001B[1;32m   1278\u001B[0m \n\u001B[0;32m   (...)\u001B[0m\n\u001B[1;32m   1286\u001B[0m \u001B[38;5;124;03mset_ydata\u001B[39;00m\n\u001B[1;32m   1287\u001B[0m \u001B[38;5;124;03m\"\"\"\u001B[39;00m\n\u001B[1;32m   1288\u001B[0m \u001B[38;5;28;01mif\u001B[39;00m \u001B[38;5;129;01mnot\u001B[39;00m np\u001B[38;5;241m.\u001B[39miterable(x):\n\u001B[0;32m-> 1289\u001B[0m     \u001B[38;5;28;01mraise\u001B[39;00m \u001B[38;5;167;01mRuntimeError\u001B[39;00m(\u001B[38;5;124m'\u001B[39m\u001B[38;5;124mx must be a sequence\u001B[39m\u001B[38;5;124m'\u001B[39m)\n\u001B[1;32m   1290\u001B[0m \u001B[38;5;28mself\u001B[39m\u001B[38;5;241m.\u001B[39m_xorig \u001B[38;5;241m=\u001B[39m copy\u001B[38;5;241m.\u001B[39mcopy(x)\n\u001B[1;32m   1291\u001B[0m \u001B[38;5;28mself\u001B[39m\u001B[38;5;241m.\u001B[39m_invalidx \u001B[38;5;241m=\u001B[39m \u001B[38;5;28;01mTrue\u001B[39;00m\n",
      "\u001B[0;31mRuntimeError\u001B[0m: x must be a sequence"
     ]
    },
    {
     "data": {
      "text/plain": [
       "<Figure size 640x480 with 1 Axes>"
      ],
      "image/png": "[encoded data removed]"
     },
     "metadata": {},
     "output_type": "display_data"
    }
   ],
   "execution_count": 50
  },
  {
   "metadata": {},
   "cell_type": "code",
   "outputs": [],
   "execution_count": null,
   "source": ""
  }
 ],
 "metadata": {
  "kernelspec": {
   "display_name": ".venv",
   "language": "python",
   "name": "python3"
  },
  "language_info": {
   "codemirror_mode": {
    "name": "ipython",
    "version": 3
   },
   "file_extension": ".py",
   "mimetype": "text/x-python",
   "name": "python",
   "nbconvert_exporter": "python",
   "pygments_lexer": "ipython3",
   "version": "3.11.6"
  }
 },
 "nbformat": 4,
 "nbformat_minor": 2
}
