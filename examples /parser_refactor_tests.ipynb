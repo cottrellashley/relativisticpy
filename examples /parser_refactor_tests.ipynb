{
 "cells": [
  {
   "cell_type": "code",
   "metadata": {
    "ExecuteTime": {
     "end_time": "2024-06-22T14:13:32.679244Z",
     "start_time": "2024-06-22T14:13:32.673255Z"
    }
   },
   "source": [
    "from set_path import set_root_path\n",
    "set_root_path()"
   ],
   "outputs": [
    {
     "name": "stdout",
     "output_type": "stream",
     "text": [
      "Working directory: /Users/ashleycottrell/code/repositories/relativisticpy\n"
     ]
    }
   ],
   "execution_count": 7
  },
  {
   "cell_type": "code",
   "metadata": {
    "ExecuteTime": {
     "end_time": "2024-06-22T14:13:33.088495Z",
     "start_time": "2024-06-22T14:13:33.081615Z"
    }
   },
   "source": [
    "from relativisticpy.algebras import Indices, Idx, EinsumArray\n",
    "from relativisticpy.diffgeom.tensor import Tensor\n",
    "from relativisticpy.diffgeom import Metric, CoordinatePatch, Manifold, Patch\n",
    "import sympy as smp\n",
    "from sympy import sin, cos, tan, tensorcontraction, trigsimp\n",
    "from relativisticpy.symengine import (\n",
    "    Function,\n",
    "    Symbol,\n",
    "    Basic,\n",
    "    sin,\n",
    "    oo,\n",
    "    Sum,\n",
    "    re,\n",
    "    im,\n",
    "    Product,\n",
    "    integrate,\n",
    "    Eq,\n",
    "    SymbolArray,\n",
    "    solve,\n",
    "    diff,\n",
    "    Pow,\n",
    "    Rational,\n",
    "    expand,\n",
    "    limit,\n",
    "    simplify,\n",
    "    root,\n",
    "    symbols,\n",
    "    dsolve,\n",
    "    exp,\n",
    "    I\n",
    ")\n",
    "\n",
    "from sympy import Eq, factorial, latex\n",
    "\n",
    "x = Symbol('x')\n",
    "y = Symbol('y')\n",
    "z = Symbol('z')\n",
    "t = Symbol('t')\n",
    "r = Symbol('r')\n",
    "basis = SymbolArray([x, y, z, t])\n",
    "\n",
    "x, y, z, t, r, theta, phi, G, M, c = symbols(\"x y z t r theta phi G M c\")\n",
    "\n",
    "metric_components = SymbolArray(\n",
    "    [\n",
    "        [-(1 - (2 * G * M) / (r)), 0, 0, 0],\n",
    "        [0, 1 / (1 - (2 * G * M) / (r)), 0, 0],\n",
    "        [0, 0, r**2, 0],\n",
    "        [0, 0, 0, r**2 * sin(theta) ** 2],\n",
    "    ]\n",
    ")\n",
    "\n",
    "test = SymbolArray(\n",
    "    [\n",
    "        [-(1 - (2 * G * M) / (r)), 0, 0, 0],\n",
    "        [0, 1 / (1 - (2 * G * M) / (r)), 0, 0],\n",
    "        [0, 0, r**2, 0],\n",
    "        [0, 0, 0, r**2 * sin(theta) ** 2],\n",
    "    ]\n",
    ")\n",
    "\n",
    "coordinate_patch = CoordinatePatch(Patch('schild', Manifold('blackhole', 4)), SymbolArray([r, theta, phi, t]))\n",
    "\n",
    "idxa = Indices(Idx('a'), Idx('b'))\n",
    "idxb = Indices(-Idx('a'), Idx('b'))\n",
    "\n",
    "A = EinsumArray(idxa, SymbolArray([[x, y], [z, t]]))\n",
    "B = EinsumArray(idxb, SymbolArray([[x, y], [y, x]]))\n",
    "GR = SymbolArray([[r**2, theta**2, 0, 0], [r**2, theta**2, 0, 0], [r**2, theta**2, 0, 0], [r**2, theta**2, 0, 0]])"
   ],
   "outputs": [],
   "execution_count": 8
  },
  {
   "metadata": {
    "ExecuteTime": {
     "end_time": "2024-06-22T14:13:36.051749Z",
     "start_time": "2024-06-22T14:13:36.046462Z"
    }
   },
   "cell_type": "code",
   "source": "[\"l\" if idx.covariant else \"u\" for idx in idxb.indices]",
   "outputs": [
    {
     "data": {
      "text/plain": [
       "['u', 'l']"
      ]
     },
     "execution_count": 9,
     "metadata": {},
     "output_type": "execute_result"
    }
   ],
   "execution_count": 9
  },
  {
   "cell_type": "code",
   "execution_count": 3,
   "metadata": {},
   "outputs": [
    {
     "data": {
      "text/plain": [
       "(1, 0)"
      ]
     },
     "execution_count": 3,
     "metadata": {},
     "output_type": "execute_result"
    }
   ],
   "source": [
    "idxa.get_symbol_only_reshape(Indices(-Idx('b'), -Idx('a')))"
   ]
  },
  {
   "cell_type": "code",
   "execution_count": 4,
   "metadata": {},
   "outputs": [
    {
     "data": {
      "text/plain": [
       "(Indices('a',0,None,True) , Indices('b',1,None,True) )"
      ]
     },
     "execution_count": 4,
     "metadata": {},
     "output_type": "execute_result"
    }
   ],
   "source": [
    "Indices(*[idxa.indices[i] for i in idxa.get_symbol_only_reshape(Indices(-Idx('a'),-Idx('b')))]).indices"
   ]
  },
  {
   "cell_type": "code",
   "execution_count": 5,
   "metadata": {},
   "outputs": [],
   "source": [
    "metric_t = Metric(\n",
    "                    idxa,\n",
    "                    metric_components\n",
    "                  )\n",
    "\n",
    "ten = Tensor(idxa, GR)"
   ]
  },
  {
   "cell_type": "code",
   "execution_count": 6,
   "metadata": {},
   "outputs": [
    {
     "data": {
      "text/latex": [
       "$\\displaystyle \\left[\\begin{matrix}r^{2} & \\theta^{2} & 0 & 0\\\\r^{2} & \\theta^{2} & 0 & 0\\\\r^{2} & \\theta^{2} & 0 & 0\\\\r^{2} & \\theta^{2} & 0 & 0\\end{matrix}\\right]$"
      ],
      "text/plain": [
       "[[r**2, theta**2, 0, 0], [r**2, theta**2, 0, 0], [r**2, theta**2, 0, 0], [r**2, theta**2, 0, 0]]"
      ]
     },
     "execution_count": 6,
     "metadata": {},
     "output_type": "execute_result"
    }
   ],
   "source": [
    "ten.components"
   ]
  },
  {
   "cell_type": "code",
   "execution_count": 7,
   "metadata": {},
   "outputs": [
    {
     "data": {
      "text/plain": [
       "(Indices('a',0,None,True) , Indices('b',1,None,True) )"
      ]
     },
     "execution_count": 7,
     "metadata": {},
     "output_type": "execute_result"
    }
   ],
   "source": [
    "ten.indices.indices"
   ]
  },
  {
   "cell_type": "code",
   "execution_count": 23,
   "metadata": {},
   "outputs": [],
   "source": [
    "metric_t.reshape_rerank(ten, Indices(Idx('a'), Idx('b')))"
   ]
  },
  {
   "cell_type": "code",
   "execution_count": 6,
   "metadata": {},
   "outputs": [
    {
     "ename": "NameError",
     "evalue": "name 'ten' is not defined",
     "output_type": "error",
     "traceback": [
      "\u001B[0;31m---------------------------------------------------------------------------\u001B[0m",
      "\u001B[0;31mNameError\u001B[0m                                 Traceback (most recent call last)",
      "Cell \u001B[0;32mIn[6], line 1\u001B[0m\n\u001B[0;32m----> 1\u001B[0m \u001B[43mten\u001B[49m\u001B[38;5;241m.\u001B[39mindices\u001B[38;5;241m.\u001B[39mcoordinates\n",
      "\u001B[0;31mNameError\u001B[0m: name 'ten' is not defined"
     ]
    }
   ],
   "source": [
    "ten.indices"
   ]
  },
  {
   "cell_type": "code",
   "execution_count": 29,
   "metadata": {},
   "outputs": [],
   "source": [
    "class Test:\n",
    "    pass\n",
    "\n",
    "A = Test()\n"
   ]
  },
  {
   "cell_type": "code",
   "execution_count": 30,
   "metadata": {},
   "outputs": [],
   "source": [
    "class Teste:\n",
    "    def __init__(self, a):\n",
    "        self.a = a\n",
    "    \n",
    "    def get(self, s):\n",
    "        return getattr(self.a, s)"
   ]
  },
  {
   "cell_type": "code",
   "execution_count": 31,
   "metadata": {},
   "outputs": [],
   "source": [
    "teste = Teste(A)"
   ]
  },
  {
   "cell_type": "code",
   "execution_count": 34,
   "metadata": {},
   "outputs": [],
   "source": [
    "A.a = 1\n",
    "A.b = 2\n",
    "A.c = 3\n",
    "A.d = 4"
   ]
  },
  {
   "cell_type": "code",
   "execution_count": 36,
   "metadata": {},
   "outputs": [
    {
     "data": {
      "text/plain": [
       "4"
      ]
     },
     "execution_count": 36,
     "metadata": {},
     "output_type": "execute_result"
    }
   ],
   "source": [
    "teste.get(\"d\")"
   ]
  },
  {
   "cell_type": "markdown",
   "metadata": {},
   "source": [
    "This Equation of motion we will call E0 and it is given by:\n",
    "\n",
    "$$1 = \\left( 1 - \\frac{r_s}{r} \\right) \\dot{t}^2 - \\left( 1 - \\frac{r_s}{r} \\right)^{-1}  \\dot{r}^2 - r^2 \\dot{\\theta}^2 - r^2\\sin^2(\\theta) \\dot{\\phi}^2$$\n",
    "\n",
    "Important Remark: This will be used as a \"Main Equation\" meaning it is this equation which we will substitute the other differential equations into, to find a final differential equation of the form: \n",
    "\n",
    "$$E = KE + V_{eff}$$\n",
    "\n",
    "<b>2. The Euler-Lagrange for t\n",
    "    \n",
    "We do not need to emmediatly use our Euler-Lagrange function to find this equation. Notice that since L is completly independent of time $t$\n",
    "    \n",
    "This means our E-L reduces to:\n",
    "    \n",
    "$$ \\frac{d}{d\\tau}\\frac{\\partial L}{\\partial \\dot{t}}=0 \\Rightarrow \\frac{\\partial L}{\\partial \\dot{t}} = Constant$$\n",
    "\n",
    "We write this constant as Energy $E$ and we find our first equation of motion as:\n",
    "\n",
    "$$ \\frac{dt}{d\\tau} = \\frac{E}{1 - \\frac{r_s}{r}}$$\n",
    "\n",
    "<b>5. The Euler-Lagrange for $\\phi$\n",
    "    \n",
    "Just like in the case for time-component equation, $L$ is completly independent of $\\phi$, which again, emediatly reduces the Euler-Lagrange equation to the form:\n",
    "    \n",
    "$$ \\frac{d}{d\\tau}\\frac{\\partial L}{\\partial \\dot{\\phi}}=0 \\Rightarrow \\frac{\\partial L}{\\partial \\dot{\\phi}} = Constant$$\n",
    "\n",
    "We write this constant as Angular Momentum, dented by $l$ and we find our phi equation of motion to be:\n",
    "    \n",
    "$$ \\frac{d\\phi}{d\\tau} = \\frac{l}{r^2\\sin^2(\\theta)} $$"
   ]
  },
  {
   "cell_type": "code",
   "execution_count": 28,
   "metadata": {},
   "outputs": [],
   "source": [
    "import matplotlib as mlib"
   ]
  },
  {
   "cell_type": "code",
   "execution_count": 30,
   "metadata": {},
   "outputs": [
    {
     "data": {
      "image/png": "[encoded data removed]",
      "text/plain": [
       "<Figure size 640x480 with 1 Axes>"
      ]
     },
     "metadata": {},
     "output_type": "display_data"
    }
   ],
   "source": [
    "import matplotlib.pyplot as plt\n",
    "import numpy as np\n",
    "\n",
    "x = np.linspace(0, 2 * np.pi, 200)\n",
    "y = np.sin(x)\n",
    "\n",
    "fig, ax = plt.subplots()\n",
    "ax.plot(x, y)\n",
    "plt.show()"
   ]
  },
  {
   "cell_type": "markdown",
   "metadata": {},
   "source": [
    "$$\n",
    "C = \\begin{pmatrix} \n",
    "1 &  2   & 3 \\\\\n",
    "0 &  0   & x \\\\\n",
    "y & f(x) & 0 \\\\\n",
    "\\end{pmatrix} \n",
    "$$"
   ]
  },
  {
   "cell_type": "markdown",
   "metadata": {},
   "source": []
  },
  {
   "cell_type": "code",
   "execution_count": 33,
   "metadata": {},
   "outputs": [
    {
     "name": "stdout",
     "output_type": "stream",
     "text": [
      "\n",
      "              Coordinates := \\begin{bmatrix} \n",
      "                                    t & r & theta & phi \n",
      "                                \\end{bmatrix}\n",
      "                \\vspace{5mm}\n",
      "                g_{\\mu\\nu} := \\begin{bmatrix}\n",
      "                                                -(1 - \\frac{2 \\cdot G \\cdot M}{r}) & 0 & 0 & 0 \\\n",
      "                                                0 & \\frac{1}{1 - \\frac{2 \\cdot G \\cdot M}{r}} & 0 & 0 \\\n",
      "                                                0 & 0 & r^2 & 0 \\\n",
      "                                                0 & 0 & 0 & r^2 \\sin(\\theta)^2\n",
      "                                 \\end{bmatrix}\n",
      "                \\newline\n",
      "                R^{a=0}_{b=0 c=0 n=0}\n",
      "                \\vspace{5mm}\n",
      "                R^{a}_{b:0 c=0 n=0}\n",
      "                \\linebreak[4]\n",
      "                R^{a=0}_{b=1 c=0 n}\n",
      "                \\vspace{5mm}\n",
      "                R^{a=1}_{b c n=3}\n",
      "      \n",
      "      \n"
     ]
    }
   ],
   "source": [
    "print(\"\"\"\n",
    "              Coordinates := \\\\begin{bmatrix} \n",
    "                                    t & r & theta & phi \n",
    "                                \\\\end{bmatrix}\n",
    "                \\\\vspace{5mm}\n",
    "                g_{\\\\mu\\\\nu} := \\\\begin{bmatrix}\n",
    "                                                -(1 - \\\\frac{2 \\\\cdot G \\\\cdot M}{r}) & 0 & 0 & 0 \\\\\n",
    "                                                0 & \\\\frac{1}{1 - \\\\frac{2 \\\\cdot G \\\\cdot M}{r}} & 0 & 0 \\\\\n",
    "                                                0 & 0 & r^2 & 0 \\\\\n",
    "                                                0 & 0 & 0 & r^2 \\sin(\\\\theta)^2\n",
    "                                 \\\\end{bmatrix}\n",
    "                \\\\newline\n",
    "                R^{a=0}_{b=0 c=0 n=0}\n",
    "                \\\\vspace{5mm}\n",
    "                R^{a}_{b:0 c=0 n=0}\n",
    "                \\\\linebreak[4]\n",
    "                R^{a=0}_{b=1 c=0 n}\n",
    "                \\\\vspace{5mm}\n",
    "                R^{a=1}_{b c n=3}\n",
    "      \n",
    "      \"\"\")"
   ]
  },
  {
   "cell_type": "code",
   "execution_count": null,
   "metadata": {},
   "outputs": [],
   "source": []
  }
 ],
 "metadata": {
  "kernelspec": {
   "display_name": ".venv",
   "language": "python",
   "name": "python3"
  },
  "language_info": {
   "codemirror_mode": {
    "name": "ipython",
    "version": 3
   },
   "file_extension": ".py",
   "mimetype": "text/x-python",
   "name": "python",
   "nbconvert_exporter": "python",
   "pygments_lexer": "ipython3",
   "version": "3.11.6"
  }
 },
 "nbformat": 4,
 "nbformat_minor": 2
}
