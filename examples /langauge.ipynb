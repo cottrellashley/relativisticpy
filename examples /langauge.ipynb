{
 "cells": [
  {
   "cell_type": "code",
   "execution_count": 1,
   "metadata": {},
   "outputs": [
    {
     "name": "stdout",
     "output_type": "stream",
     "text": [
      "Working directory: /Users/ashleycottrell/code/repositories/relativisticpy\n"
     ]
    }
   ],
   "source": [
    "from set_path import set_root_path\n",
    "set_root_path()"
   ]
  },
  {
   "cell_type": "code",
   "execution_count": 2,
   "metadata": {},
   "outputs": [],
   "source": [
    "from relativisticpy.workbook.workbook import Workbook"
   ]
  },
  {
   "cell_type": "code",
   "execution_count": 3,
   "metadata": {},
   "outputs": [],
   "source": [
    "wb = Workbook(debug_mode=True)"
   ]
  },
  {
   "cell_type": "code",
   "execution_count": 4,
   "metadata": {},
   "outputs": [
    {
     "ename": "TypeError",
     "evalue": "LeviCivitaConnection.__init__() missing 1 required positional argument: 'metric'",
     "output_type": "error",
     "traceback": [
      "\u001b[0;31m---------------------------------------------------------------------------\u001b[0m",
      "\u001b[0;31mTypeError\u001b[0m                                 Traceback (most recent call last)",
      "Cell \u001b[0;32mIn[4], line 3\u001b[0m\n\u001b[1;32m      1\u001b[0m \u001b[38;5;66;03m# TODO: When we have a UI, we automatically generate the greek and latin symbols when the user types in the name of the coordinate system  i.e. alpha, beta, gamma, delta, mu, nu, rho, sigma -> α, β, γ, δ, μ, ν, ρ, σ\u001b[39;00m\n\u001b[0;32m----> 3\u001b[0m \u001b[43mwb\u001b[49m\u001b[38;5;241;43m.\u001b[39;49m\u001b[43mexpr\u001b[49m\u001b[43m(\u001b[49m\u001b[38;5;124;43m\"\"\"\u001b[39;49m\n\u001b[1;32m      4\u001b[0m \u001b[38;5;124;43m        \u001b[39;49m\n\u001b[1;32m      5\u001b[0m \u001b[38;5;124;43m        # Define a coordinate system with a name, associated indices, and actual coordinates\u001b[39;49m\n\u001b[1;32m      6\u001b[0m \u001b[38;5;124;43m        # coordinate_system x = \u001b[39;49m\u001b[38;5;124;43m{\u001b[39;49m\n\u001b[1;32m      7\u001b[0m \u001b[38;5;124;43m        #                 name: \u001b[39;49m\u001b[38;5;124;43m\"\u001b[39;49m\u001b[38;5;124;43m'\u001b[39;49m\u001b[38;5;124;43martesian\u001b[39;49m\u001b[38;5;124;43m'\u001b[39;49m\u001b[38;5;124;43m,\u001b[39;49m\n\u001b[1;32m      8\u001b[0m \u001b[38;5;124;43m        #                 indices: [mu, nu, rhow, sigma],\u001b[39;49m\n\u001b[1;32m      9\u001b[0m \u001b[38;5;124;43m        #                 coordinates: [t, x, y, z]  # Time and spatial coordinates\u001b[39;49m\n\u001b[1;32m     10\u001b[0m \u001b[38;5;124;43m        # }\u001b[39;49m\n\u001b[1;32m     11\u001b[0m \n\u001b[1;32m     12\u001b[0m \u001b[38;5;124;43m        # coordinate_system y = \u001b[39;49m\u001b[38;5;124;43m{\u001b[39;49m\n\u001b[1;32m     13\u001b[0m \u001b[38;5;124;43m        #         name: \u001b[39;49m\u001b[38;5;124;43m'\u001b[39;49m\u001b[38;5;124;43mSpherical\u001b[39;49m\u001b[38;5;124;43m'\u001b[39;49m\u001b[38;5;124;43m,\u001b[39;49m\n\u001b[1;32m     14\u001b[0m \u001b[38;5;124;43m        #         indices: [alpha, β, gamma, δ],\u001b[39;49m\n\u001b[1;32m     15\u001b[0m \u001b[38;5;124;43m        #         coordinates: [t, r, θ, φ]  # Time, radial, and angular coordinates\u001b[39;49m\n\u001b[1;32m     16\u001b[0m \u001b[38;5;124;43m        # }\u001b[39;49m\n\u001b[1;32m     17\u001b[0m \n\u001b[1;32m     18\u001b[0m \u001b[38;5;124;43m        Coordinates := [t, r, theta, phi]\u001b[39;49m\n\u001b[1;32m     19\u001b[0m \u001b[38;5;124;43m        g_\u001b[39;49m\u001b[38;5;132;43;01m{mu}\u001b[39;49;00m\u001b[38;5;124;43m_\u001b[39;49m\u001b[38;5;132;43;01m{nu}\u001b[39;49;00m\u001b[38;5;124;43m := [[-(1 - (2 * G * M) / (r)), 0, 0, 0],[0, 1 / (1 - (2 * G * M) / (r)), 0, 0],[0, 0, r**2, 0],[0, 0, 0, r**2 * sin(theta) ** 2]]\u001b[39;49m\n\u001b[1;32m     20\u001b[0m \u001b[38;5;124;43m        T^\u001b[39;49m\u001b[38;5;132;43;01m{a}\u001b[39;49;00m\u001b[38;5;124;43m_\u001b[39;49m\u001b[38;5;124;43m{\u001b[39;49m\u001b[38;5;124;43mc f} := (1/2)*g^\u001b[39;49m\u001b[38;5;132;43;01m{a}\u001b[39;49;00m\u001b[38;5;124;43m^\u001b[39;49m\u001b[38;5;132;43;01m{b}\u001b[39;49;00m\u001b[38;5;124;43m*(d_\u001b[39;49m\u001b[38;5;132;43;01m{c}\u001b[39;49;00m\u001b[38;5;124;43m*g_\u001b[39;49m\u001b[38;5;132;43;01m{b}\u001b[39;49;00m\u001b[38;5;124;43m_\u001b[39;49m\u001b[38;5;132;43;01m{f}\u001b[39;49;00m\u001b[38;5;124;43m + d_\u001b[39;49m\u001b[38;5;132;43;01m{f}\u001b[39;49;00m\u001b[38;5;124;43m*g_\u001b[39;49m\u001b[38;5;124;43m{\u001b[39;49m\u001b[38;5;124;43mb c} - d_\u001b[39;49m\u001b[38;5;132;43;01m{b}\u001b[39;49;00m\u001b[38;5;124;43m*g_\u001b[39;49m\u001b[38;5;124;43m{\u001b[39;49m\u001b[38;5;124;43mc f}) - C^\u001b[39;49m\u001b[38;5;132;43;01m{a}\u001b[39;49;00m\u001b[38;5;124;43m_\u001b[39;49m\u001b[38;5;124;43m{\u001b[39;49m\u001b[38;5;124;43mc f}\u001b[39;49m\n\u001b[1;32m     21\u001b[0m \u001b[38;5;124;43m        T^\u001b[39;49m\u001b[38;5;132;43;01m{a}\u001b[39;49;00m\u001b[38;5;124;43m_\u001b[39;49m\u001b[38;5;124;43m{\u001b[39;49m\u001b[38;5;124;43mc f}\u001b[39;49m\n\u001b[1;32m     22\u001b[0m \u001b[38;5;124;43m\"\"\"\u001b[39;49m\u001b[43m)\u001b[49m\n",
      "File \u001b[0;32m~/code/repositories/relativisticpy/relativisticpy/workbook/workbook.py:40\u001b[0m, in \u001b[0;36mWorkbook.expr\u001b[0;34m(self, string)\u001b[0m\n\u001b[1;32m     39\u001b[0m \u001b[38;5;28;01mdef\u001b[39;00m \u001b[38;5;21mexpr\u001b[39m(\u001b[38;5;28mself\u001b[39m, string: \u001b[38;5;28mstr\u001b[39m):\n\u001b[0;32m---> 40\u001b[0m     \u001b[38;5;28;01mif\u001b[39;00m \u001b[38;5;28mself\u001b[39m\u001b[38;5;241m.\u001b[39mdebug_mode: result \u001b[38;5;241m=\u001b[39m \u001b[38;5;28;43mself\u001b[39;49m\u001b[38;5;241;43m.\u001b[39;49m\u001b[43minterpreter\u001b[49m\u001b[38;5;241;43m.\u001b[39;49m\u001b[43mexe\u001b[49m\u001b[43m(\u001b[49m\u001b[43mstring\u001b[49m\u001b[43m)\u001b[49m\n\u001b[1;32m     41\u001b[0m     \u001b[38;5;28;01melse\u001b[39;00m:\n\u001b[1;32m     42\u001b[0m         \u001b[38;5;28;01mtry\u001b[39;00m:\n",
      "File \u001b[0;32m~/code/repositories/relativisticpy/relativisticpy/interpreter/app.py:81\u001b[0m, in \u001b[0;36mRelParser.exe\u001b[0;34m(self, expression)\u001b[0m\n\u001b[1;32m     79\u001b[0m ast \u001b[38;5;241m=\u001b[39m GRParser(tokens)\u001b[38;5;241m.\u001b[39mparse()\n\u001b[1;32m     80\u001b[0m action_trees \u001b[38;5;241m=\u001b[39m \u001b[38;5;28mself\u001b[39m\u001b[38;5;241m.\u001b[39manalyzer\u001b[38;5;241m.\u001b[39manalyse(ast)\n\u001b[0;32m---> 81\u001b[0m \u001b[38;5;28;01mreturn\u001b[39;00m \u001b[38;5;28;43mself\u001b[39;49m\u001b[38;5;241;43m.\u001b[39;49m\u001b[43minterpreter\u001b[49m\u001b[38;5;241;43m.\u001b[39;49m\u001b[43mexe_script\u001b[49m\u001b[43m(\u001b[49m\u001b[43maction_trees\u001b[49m\u001b[43m)\u001b[49m\n",
      "File \u001b[0;32m~/code/repositories/relativisticpy/relativisticpy/interpreter/interpreter.py:37\u001b[0m, in \u001b[0;36mInterpreter.exe_script\u001b[0;34m(self, gr_script)\u001b[0m\n\u001b[1;32m     30\u001b[0m         \u001b[38;5;28mself\u001b[39m\u001b[38;5;241m.\u001b[39mreturn_list\u001b[38;5;241m.\u001b[39mappend(\n\u001b[1;32m     31\u001b[0m             ReturnObject(\n\u001b[1;32m     32\u001b[0m                 value\u001b[38;5;241m=\u001b[39mcallback_result,\n\u001b[1;32m     33\u001b[0m                 _type\u001b[38;5;241m=\u001b[39maction_tree\u001b[38;5;241m.\u001b[39mreturn_type,\n\u001b[1;32m     34\u001b[0m             )\n\u001b[1;32m     35\u001b[0m         )\n\u001b[1;32m     36\u001b[0m     \u001b[38;5;28;01melse\u001b[39;00m:\n\u001b[0;32m---> 37\u001b[0m         \u001b[38;5;28;43mself\u001b[39;49m\u001b[38;5;241;43m.\u001b[39;49m\u001b[43mexecutor\u001b[49m\u001b[43m(\u001b[49m\u001b[43maction_tree\u001b[49m\u001b[38;5;241;43m.\u001b[39;49m\u001b[43mast\u001b[49m\u001b[43m)\u001b[49m\n\u001b[1;32m     38\u001b[0m \u001b[38;5;28;01mreturn\u001b[39;00m \u001b[38;5;28mself\u001b[39m\u001b[38;5;241m.\u001b[39mreturn_list\n",
      "File \u001b[0;32m~/code/repositories/relativisticpy/relativisticpy/interpreter/interpreter.py:40\u001b[0m, in \u001b[0;36mInterpreter.executor\u001b[0;34m(self, ast_node)\u001b[0m\n\u001b[0;32m---> 40\u001b[0m \u001b[38;5;28;01mdef\u001b[39;00m \u001b[38;5;21mexecutor\u001b[39m(\u001b[38;5;28mself\u001b[39m, ast_node: AstNode): \u001b[38;5;28;01mreturn\u001b[39;00m \u001b[43mast_node\u001b[49m\u001b[38;5;241;43m.\u001b[39;49m\u001b[43mexecute_node\u001b[49m\u001b[43m(\u001b[49m\u001b[38;5;28;43mself\u001b[39;49m\u001b[38;5;241;43m.\u001b[39;49m\u001b[43mimplementor\u001b[49m\u001b[43m)\u001b[49m\n",
      "File \u001b[0;32m~/code/repositories/relativisticpy/relativisticpy/interpreter/nodes/base.py:628\u001b[0m, in \u001b[0;36mTensorNode.execute_node\u001b[0;34m(self, implementer)\u001b[0m\n\u001b[1;32m    626\u001b[0m \u001b[38;5;66;03m# If this components of the tensor were set => We do not return anything. We only cache the object\u001b[39;00m\n\u001b[1;32m    627\u001b[0m \u001b[38;5;28;01melif\u001b[39;00m \u001b[38;5;28mself\u001b[39m\u001b[38;5;241m.\u001b[39mcomponent_ast \u001b[38;5;241m!=\u001b[39m \u001b[38;5;28;01mNone\u001b[39;00m:\n\u001b[0;32m--> 628\u001b[0m     tensor_component \u001b[38;5;241m=\u001b[39m \u001b[38;5;28;43mself\u001b[39;49m\u001b[38;5;241;43m.\u001b[39;49m\u001b[43mcomponent_ast\u001b[49m\u001b[38;5;241;43m.\u001b[39;49m\u001b[43mexecute_node\u001b[49m\u001b[43m(\u001b[49m\u001b[43mimplementer\u001b[49m\u001b[43m)\u001b[49m\n\u001b[1;32m    630\u001b[0m     \u001b[38;5;28;01mif\u001b[39;00m state\u001b[38;5;241m.\u001b[39mget_variable(Scope\u001b[38;5;241m.\u001b[39mMetricSymbol) \u001b[38;5;241m==\u001b[39m \u001b[38;5;28mself\u001b[39m\u001b[38;5;241m.\u001b[39midentifier \u001b[38;5;129;01mand\u001b[39;00m \u001b[38;5;28mself\u001b[39m\u001b[38;5;241m.\u001b[39mcomponents_definition_type \u001b[38;5;241m==\u001b[39m \u001b[38;5;124m'\u001b[39m\u001b[38;5;124marray\u001b[39m\u001b[38;5;124m'\u001b[39m:\n\u001b[1;32m    631\u001b[0m         \u001b[38;5;66;03m# This is the metric tensor\u001b[39;00m\n\u001b[1;32m    632\u001b[0m         tensor_indices \u001b[38;5;241m=\u001b[39m implementer\u001b[38;5;241m.\u001b[39minit_indices(\u001b[38;5;28mself\u001b[39m)\n",
      "File \u001b[0;32m~/code/repositories/relativisticpy/relativisticpy/interpreter/nodes/base.py:114\u001b[0m, in \u001b[0;36mAstNode.execute_node\u001b[0;34m(self, implementer)\u001b[0m\n\u001b[1;32m    111\u001b[0m \u001b[38;5;28;01mfor\u001b[39;00m i, child \u001b[38;5;129;01min\u001b[39;00m \u001b[38;5;28menumerate\u001b[39m(\u001b[38;5;28mself\u001b[39m\u001b[38;5;241m.\u001b[39mchildren):\n\u001b[1;32m    112\u001b[0m     \u001b[38;5;28mself\u001b[39m\u001b[38;5;241m.\u001b[39margs[i] \u001b[38;5;241m=\u001b[39m child\u001b[38;5;241m.\u001b[39mexecute_node(implementer)\n\u001b[0;32m--> 114\u001b[0m \u001b[38;5;28;01mreturn\u001b[39;00m \u001b[43mself_exe\u001b[49m\u001b[43m(\u001b[49m\u001b[38;5;28;43mself\u001b[39;49m\u001b[43m)\u001b[49m\n",
      "File \u001b[0;32m~/code/repositories/relativisticpy/relativisticpy/workbook/ast_visitor.py:82\u001b[0m, in \u001b[0;36mRelPyAstNodeTraverser.sub\u001b[0;34m(self, node)\u001b[0m\n\u001b[0;32m---> 82\u001b[0m \u001b[38;5;28;01mdef\u001b[39;00m \u001b[38;5;21msub\u001b[39m(\u001b[38;5;28mself\u001b[39m, node: AstNode): \u001b[38;5;28;01mreturn\u001b[39;00m \u001b[43mnode\u001b[49m\u001b[38;5;241;43m.\u001b[39;49m\u001b[43margs\u001b[49m\u001b[43m[\u001b[49m\u001b[38;5;241;43m0\u001b[39;49m\u001b[43m]\u001b[49m\u001b[43m \u001b[49m\u001b[38;5;241;43m-\u001b[39;49m\u001b[43m \u001b[49m\u001b[43mnode\u001b[49m\u001b[38;5;241;43m.\u001b[39;49m\u001b[43margs\u001b[49m\u001b[43m[\u001b[49m\u001b[38;5;241;43m1\u001b[39;49m\u001b[43m]\u001b[49m\n",
      "File \u001b[0;32m~/code/repositories/relativisticpy/relativisticpy/diffgeom/metric.py:256\u001b[0m, in \u001b[0;36mMetric.__sub__\u001b[0;34m(self, other)\u001b[0m\n\u001b[1;32m    255\u001b[0m \u001b[38;5;28;01mdef\u001b[39;00m \u001b[38;5;21m__sub__\u001b[39m(\u001b[38;5;28mself\u001b[39m, other: EinsumArray):\n\u001b[0;32m--> 256\u001b[0m     \u001b[38;5;28;01mreturn\u001b[39;00m \u001b[38;5;28;43mself\u001b[39;49m\u001b[38;5;241;43m.\u001b[39;49m\u001b[43msub\u001b[49m\u001b[43m(\u001b[49m\u001b[43mother\u001b[49m\u001b[43m,\u001b[49m\u001b[43m \u001b[49m\u001b[38;5;28;43mtype\u001b[39;49m\u001b[43m(\u001b[49m\u001b[43mother\u001b[49m\u001b[43m)\u001b[49m\u001b[43m)\u001b[49m\n",
      "File \u001b[0;32m~/code/repositories/relativisticpy/relativisticpy/algebras/einstein_summation.py:561\u001b[0m, in \u001b[0;36mEinsumArray.sub\u001b[0;34m(self, other, result_cls)\u001b[0m\n\u001b[1;32m    559\u001b[0m \u001b[38;5;28;01mif\u001b[39;00m \u001b[38;5;28mself\u001b[39m\u001b[38;5;241m.\u001b[39mindices\u001b[38;5;241m.\u001b[39mis_einsum_product(other\u001b[38;5;241m.\u001b[39mindices):\n\u001b[1;32m    560\u001b[0m     \u001b[38;5;28;01mraise\u001b[39;00m \u001b[38;5;167;01mValueError\u001b[39;00m(\u001b[38;5;124mf\u001b[39m\u001b[38;5;124m\"\u001b[39m\u001b[38;5;124mCannot perform addition of EinsteinArray\u001b[39m\u001b[38;5;124m'\u001b[39m\u001b[38;5;124ms with the indices: \u001b[39m\u001b[38;5;132;01m{\u001b[39;00m\u001b[38;5;28mstr\u001b[39m(\u001b[38;5;28mself\u001b[39m\u001b[38;5;241m.\u001b[39mindices)\u001b[38;5;132;01m}\u001b[39;00m\u001b[38;5;124m and \u001b[39m\u001b[38;5;132;01m{\u001b[39;00m\u001b[38;5;28mstr\u001b[39m(other\u001b[38;5;241m.\u001b[39mindices)\u001b[38;5;132;01m}\u001b[39;00m\u001b[38;5;124m \u001b[39m\u001b[38;5;124m\"\u001b[39m)\n\u001b[0;32m--> 561\u001b[0m \u001b[38;5;28;01mreturn\u001b[39;00m \u001b[38;5;28;43mself\u001b[39;49m\u001b[38;5;241;43m.\u001b[39;49m\u001b[43m_product_copy\u001b[49m\u001b[43m(\u001b[49m\n\u001b[1;32m    562\u001b[0m \u001b[43m                    \u001b[49m\u001b[43mother\u001b[49m\u001b[43m \u001b[49m\u001b[38;5;241;43m=\u001b[39;49m\u001b[43m \u001b[49m\u001b[43mother\u001b[49m\u001b[43m,\u001b[49m\n\u001b[1;32m    563\u001b[0m \u001b[43m                    \u001b[49m\u001b[43mbinary_op\u001b[49m\u001b[43m \u001b[49m\u001b[38;5;241;43m=\u001b[39;49m\u001b[43m \u001b[49m\u001b[38;5;28;43;01mlambda\u001b[39;49;00m\u001b[43m \u001b[49m\u001b[43ma\u001b[49m\u001b[43m,\u001b[49m\u001b[43m \u001b[49m\u001b[43mb\u001b[49m\u001b[43m:\u001b[49m\u001b[43m \u001b[49m\u001b[43ma\u001b[49m\u001b[43m \u001b[49m\u001b[38;5;241;43m-\u001b[39;49m\u001b[43m \u001b[49m\u001b[43mb\u001b[49m\u001b[43m,\u001b[49m\n\u001b[1;32m    564\u001b[0m \u001b[43m                    \u001b[49m\u001b[43midx_op\u001b[49m\u001b[43m \u001b[49m\u001b[38;5;241;43m=\u001b[39;49m\u001b[43m \u001b[49m\u001b[43mIndices\u001b[49m\u001b[38;5;241;43m.\u001b[39;49m\u001b[43mSUMMATION_GENERATOR\u001b[49m\u001b[43m,\u001b[49m\n\u001b[1;32m    565\u001b[0m \u001b[43m                    \u001b[49m\u001b[43mnew_type_cls\u001b[49m\u001b[43m \u001b[49m\u001b[38;5;241;43m=\u001b[39;49m\u001b[43m \u001b[49m\u001b[43mresult_cls\u001b[49m\n\u001b[1;32m    566\u001b[0m \u001b[43m            \u001b[49m\u001b[43m)\u001b[49m\n",
      "File \u001b[0;32m~/code/repositories/relativisticpy/relativisticpy/algebras/einstein_summation.py:353\u001b[0m, in \u001b[0;36m_IdxAlgebraNCubeArray._product_copy\u001b[0;34m(self, other, binary_op, idx_op, new_type_cls)\u001b[0m\n\u001b[1;32m    351\u001b[0m new_obj \u001b[38;5;241m=\u001b[39m copy\u001b[38;5;241m.\u001b[39mdeepcopy(\u001b[38;5;28mself\u001b[39m)\n\u001b[1;32m    352\u001b[0m new_obj\u001b[38;5;241m.\u001b[39m__product(other, binary_op, idx_op)\n\u001b[0;32m--> 353\u001b[0m \u001b[38;5;28;01mreturn\u001b[39;00m \u001b[43mnew_type_cls\u001b[49m\u001b[43m(\u001b[49m\u001b[38;5;241;43m*\u001b[39;49m\u001b[43mnew_obj\u001b[49m\u001b[38;5;241;43m.\u001b[39;49m\u001b[43margs\u001b[49m\u001b[43m)\u001b[49m \u001b[38;5;28;01mif\u001b[39;00m new_type_cls \u001b[38;5;28;01melse\u001b[39;00m \u001b[38;5;28mtype\u001b[39m(\u001b[38;5;28mself\u001b[39m)(\u001b[38;5;241m*\u001b[39mnew_obj\u001b[38;5;241m.\u001b[39margs)\n",
      "\u001b[0;31mTypeError\u001b[0m: LeviCivitaConnection.__init__() missing 1 required positional argument: 'metric'"
     ]
    }
   ],
   "source": [
    "# TODO: When we have a UI, we automatically generate the greek and latin symbols when the user types in the name of the coordinate system  i.e. alpha, beta, gamma, delta, mu, nu, rho, sigma -> α, β, γ, δ, μ, ν, ρ, σ\n",
    "\n",
    "wb.expr(\"\"\"\n",
    "        \n",
    "        # Define a coordinate system with a name, associated indices, and actual coordinates\n",
    "        # coordinate_system x = {\n",
    "        #                 name: \"'artesian',\n",
    "        #                 indices: [mu, nu, rhow, sigma],\n",
    "        #                 coordinates: [t, x, y, z]  # Time and spatial coordinates\n",
    "        # }\n",
    "\n",
    "        # coordinate_system y = {\n",
    "        #         name: 'Spherical',\n",
    "        #         indices: [alpha, β, gamma, δ],\n",
    "        #         coordinates: [t, r, θ, φ]  # Time, radial, and angular coordinates\n",
    "        # }\n",
    "\n",
    "        Coordinates := [t, r, theta, phi]\n",
    "        g_{mu}_{nu} := [[-(1 - (2 * G * M) / (r)), 0, 0, 0],[0, 1 / (1 - (2 * G * M) / (r)), 0, 0],[0, 0, r**2, 0],[0, 0, 0, r**2 * sin(theta) ** 2]]\n",
    "        T^{a}_{c f} := (1/2)*g^{a}^{b}*(d_{c}*g_{b}_{f} + d_{f}*g_{b c} - d_{b}*g_{c f}) - C^{a}_{c f}\n",
    "        T^{a}_{c f}\n",
    "\"\"\")"
   ]
  },
  {
   "cell_type": "code",
   "execution_count": 12,
   "metadata": {},
   "outputs": [
    {
     "name": "stdout",
     "output_type": "stream",
     "text": [
      "{'Indices': <__main__.Indices object at 0x129967b10>, 'Metric': <__main__.Metric object at 0x1299655d0>, 'SymbolArray': <__main__.SymbolArray object at 0x129964390>}\n"
     ]
    }
   ],
   "source": [
    "class Indices:\n",
    "    pass\n",
    "\n",
    "class Metric:\n",
    "    pass\n",
    "\n",
    "class SymbolArray:\n",
    "    pass\n",
    "\n",
    "def get_types_dict(types_list, *args, **kwargs):\n",
    "    dict_args = {}\n",
    "    # Categorize positional arguments\n",
    "    for type_ in types_list:\n",
    "        for arg in args:\n",
    "            if isinstance(arg, type_):\n",
    "                dict_args.update({type_.__name__: arg})\n",
    "        for _, value in kwargs.items():\n",
    "            if isinstance(value, type_):\n",
    "                dict_args.update({type_.__name__: value})\n",
    "    return dict_args\n",
    "\n",
    "# Example usage\n",
    "try:\n",
    "    ind = Indices()\n",
    "    met = Metric()\n",
    "    sym = SymbolArray()\n",
    "    print(get_types_dict( [Indices, Metric, SymbolArray], another_ind=Indices(), keyword_metric=met, keyword_symbol=sym))\n",
    "except Exception as e:\n",
    "    print(e)\n"
   ]
  },
  {
   "cell_type": "code",
   "execution_count": 13,
   "metadata": {},
   "outputs": [],
   "source": [
    "def str_to_hex(s):\n",
    "    return s.encode('utf-8').hex()\n",
    "\n",
    "def hex_to_str(h):\n",
    "    return bytes.fromhex(h).decode('utf-8')"
   ]
  },
  {
   "cell_type": "code",
   "execution_count": 18,
   "metadata": {},
   "outputs": [
    {
     "data": {
      "text/plain": [
       "'61'"
      ]
     },
     "execution_count": 18,
     "metadata": {},
     "output_type": "execute_result"
    }
   ],
   "source": [
    "str_to_hex(\"a\") "
   ]
  },
  {
   "cell_type": "code",
   "execution_count": 29,
   "metadata": {},
   "outputs": [
    {
     "data": {
      "text/plain": [
       "'v'"
      ]
     },
     "execution_count": 29,
     "metadata": {},
     "output_type": "execute_result"
    }
   ],
   "source": [
    "hex_to_str(\"76\")"
   ]
  },
  {
   "cell_type": "code",
   "execution_count": null,
   "metadata": {},
   "outputs": [],
   "source": []
  }
 ],
 "metadata": {
  "kernelspec": {
   "display_name": ".venv",
   "language": "python",
   "name": "python3"
  },
  "language_info": {
   "codemirror_mode": {
    "name": "ipython",
    "version": 3
   },
   "file_extension": ".py",
   "mimetype": "text/x-python",
   "name": "python",
   "nbconvert_exporter": "python",
   "pygments_lexer": "ipython3",
   "version": "3.11.9"
  }
 },
 "nbformat": 4,
 "nbformat_minor": 2
}
