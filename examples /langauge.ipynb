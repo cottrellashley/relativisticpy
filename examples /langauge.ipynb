{
 "cells": [
  {
   "cell_type": "code",
   "metadata": {
    "ExecuteTime": {
     "end_time": "2024-06-22T14:10:03.034045Z",
     "start_time": "2024-06-22T14:10:03.026473Z"
    }
   },
   "source": [
    "from set_path import set_root_path\n",
    "set_root_path()"
   ],
   "outputs": [
    {
     "name": "stdout",
     "output_type": "stream",
     "text": [
      "Working directory: /Users/ashleycottrell/code/repositories/relativisticpy\n"
     ]
    }
   ],
   "execution_count": 1
  },
  {
   "cell_type": "code",
   "metadata": {
    "ExecuteTime": {
     "end_time": "2024-06-22T14:10:03.526955Z",
     "start_time": "2024-06-22T14:10:03.286619Z"
    }
   },
   "source": [
    "from relativisticpy.workbook.workbook import Workbook"
   ],
   "outputs": [],
   "execution_count": 2
  },
  {
   "metadata": {},
   "cell_type": "markdown",
   "source": ""
  },
  {
   "cell_type": "code",
   "metadata": {
    "ExecuteTime": {
     "end_time": "2024-06-22T14:10:03.948114Z",
     "start_time": "2024-06-22T14:10:03.945444Z"
    }
   },
   "source": [
    "wb = Workbook(debug_mode=True)"
   ],
   "outputs": [],
   "execution_count": 3
  },
  {
   "cell_type": "code",
   "metadata": {
    "ExecuteTime": {
     "end_time": "2024-06-22T14:22:52.548890Z",
     "start_time": "2024-06-22T14:22:52.495660Z"
    }
   },
   "source": [
    "# TODO: When we have a UI, we automatically generate the greek and latin symbols when the user types in the name of the coordinate system  i.e. alpha, beta, gamma, delta, mu, nu, rho, sigma -> α, β, γ, δ, μ, ν, ρ, σ\n",
    "\n",
    "res = wb.exe(\"\"\"\n",
    "                Coordinates := [t, r, theta, phi] \n",
    "                g_{mu}_{nu} := [[-(1 - (2 * G * M) / (r)), 0, 0, 0],[0, 1 / (1 - (2 * G * M) / (r)), 0, 0],[0, 0, r**2, 0],[0, 0, 0, r**2 * sin(theta) ** 2]]\n",
    "                C^{a:0}_{b:0}_{c:0}\n",
    "                C^{a}_{b:0}_{c:0}\n",
    "                C^{a:0}_{b}_{c:0}\n",
    "                C^{a:0}_{b:0}_{c}\n",
    "\"\"\")"
   ],
   "outputs": [
    {
     "ename": "AttributeError",
     "evalue": "'NoneType' object has no attribute 'shape'",
     "output_type": "error",
     "traceback": [
      "\u001B[0;31m---------------------------------------------------------------------------\u001B[0m",
      "\u001B[0;31mAttributeError\u001B[0m                            Traceback (most recent call last)",
      "Cell \u001B[0;32mIn[37], line 3\u001B[0m\n\u001B[1;32m      1\u001B[0m \u001B[38;5;66;03m# TODO: When we have a UI, we automatically generate the greek and latin symbols when the user types in the name of the coordinate system  i.e. alpha, beta, gamma, delta, mu, nu, rho, sigma -> α, β, γ, δ, μ, ν, ρ, σ\u001B[39;00m\n\u001B[0;32m----> 3\u001B[0m res \u001B[38;5;241m=\u001B[39m \u001B[43mwb\u001B[49m\u001B[38;5;241;43m.\u001B[39;49m\u001B[43mexe\u001B[49m\u001B[43m(\u001B[49m\u001B[38;5;124;43m\"\"\"\u001B[39;49m\n\u001B[1;32m      4\u001B[0m \u001B[38;5;124;43m                Coordinates := [t, r, theta, phi] \u001B[39;49m\n\u001B[1;32m      5\u001B[0m \u001B[38;5;124;43m                g_\u001B[39;49m\u001B[38;5;132;43;01m{mu}\u001B[39;49;00m\u001B[38;5;124;43m_\u001B[39;49m\u001B[38;5;132;43;01m{nu}\u001B[39;49;00m\u001B[38;5;124;43m := [[-(1 - (2 * G * M) / (r)), 0, 0, 0],[0, 1 / (1 - (2 * G * M) / (r)), 0, 0],[0, 0, r**2, 0],[0, 0, 0, r**2 * sin(theta) ** 2]]\u001B[39;49m\n\u001B[1;32m      6\u001B[0m \u001B[38;5;124;43m                C^\u001B[39;49m\u001B[38;5;132;43;01m{a:0}\u001B[39;49;00m\u001B[38;5;124;43m_\u001B[39;49m\u001B[38;5;132;43;01m{b:0}\u001B[39;49;00m\u001B[38;5;124;43m_\u001B[39;49m\u001B[38;5;132;43;01m{c:0}\u001B[39;49;00m\n\u001B[1;32m      7\u001B[0m \u001B[38;5;124;43m                C^\u001B[39;49m\u001B[38;5;132;43;01m{a}\u001B[39;49;00m\u001B[38;5;124;43m_\u001B[39;49m\u001B[38;5;132;43;01m{b:0}\u001B[39;49;00m\u001B[38;5;124;43m_\u001B[39;49m\u001B[38;5;132;43;01m{c:0}\u001B[39;49;00m\n\u001B[1;32m      8\u001B[0m \u001B[38;5;124;43m                C^\u001B[39;49m\u001B[38;5;132;43;01m{a:0}\u001B[39;49;00m\u001B[38;5;124;43m_\u001B[39;49m\u001B[38;5;132;43;01m{b}\u001B[39;49;00m\u001B[38;5;124;43m_\u001B[39;49m\u001B[38;5;132;43;01m{c:0}\u001B[39;49;00m\n\u001B[1;32m      9\u001B[0m \u001B[38;5;124;43m                C^\u001B[39;49m\u001B[38;5;132;43;01m{a:0}\u001B[39;49;00m\u001B[38;5;124;43m_\u001B[39;49m\u001B[38;5;132;43;01m{b:0}\u001B[39;49;00m\u001B[38;5;124;43m_\u001B[39;49m\u001B[38;5;132;43;01m{c}\u001B[39;49;00m\n\u001B[1;32m     10\u001B[0m \u001B[38;5;124;43m\"\"\"\u001B[39;49m\u001B[43m)\u001B[49m\n",
      "File \u001B[0;32m~/code/repositories/relativisticpy/relativisticpy/workbook/workbook.py:57\u001B[0m, in \u001B[0;36mWorkbook.exe\u001B[0;34m(self, string)\u001B[0m\n\u001B[1;32m     56\u001B[0m \u001B[38;5;28;01mdef\u001B[39;00m \u001B[38;5;21mexe\u001B[39m(\u001B[38;5;28mself\u001B[39m, string: \u001B[38;5;28mstr\u001B[39m):\n\u001B[0;32m---> 57\u001B[0m     result \u001B[38;5;241m=\u001B[39m \u001B[38;5;28;43mself\u001B[39;49m\u001B[38;5;241;43m.\u001B[39;49m\u001B[43minterpreter\u001B[49m\u001B[38;5;241;43m.\u001B[39;49m\u001B[43mexe\u001B[49m\u001B[43m(\u001B[49m\u001B[43mstring\u001B[49m\u001B[43m)\u001B[49m\n\u001B[1;32m     58\u001B[0m     \u001B[38;5;28;01mif\u001B[39;00m \u001B[38;5;28misinstance\u001B[39m(result, \u001B[38;5;28mlist\u001B[39m):\n\u001B[1;32m     59\u001B[0m         \u001B[38;5;28;01mif\u001B[39;00m \u001B[38;5;28mlen\u001B[39m(result) \u001B[38;5;241m==\u001B[39m \u001B[38;5;241m1\u001B[39m:\n",
      "File \u001B[0;32m~/code/repositories/relativisticpy/relativisticpy/interpreter/app.py:81\u001B[0m, in \u001B[0;36mRelParser.exe\u001B[0;34m(self, expression)\u001B[0m\n\u001B[1;32m     79\u001B[0m ast \u001B[38;5;241m=\u001B[39m GRParser(tokens)\u001B[38;5;241m.\u001B[39mparse()\n\u001B[1;32m     80\u001B[0m action_trees \u001B[38;5;241m=\u001B[39m \u001B[38;5;28mself\u001B[39m\u001B[38;5;241m.\u001B[39manalyzer\u001B[38;5;241m.\u001B[39manalyse(ast)\n\u001B[0;32m---> 81\u001B[0m \u001B[38;5;28;01mreturn\u001B[39;00m \u001B[38;5;28;43mself\u001B[39;49m\u001B[38;5;241;43m.\u001B[39;49m\u001B[43minterpreter\u001B[49m\u001B[38;5;241;43m.\u001B[39;49m\u001B[43mexe_script\u001B[49m\u001B[43m(\u001B[49m\u001B[43maction_trees\u001B[49m\u001B[43m)\u001B[49m\n",
      "File \u001B[0;32m~/code/repositories/relativisticpy/relativisticpy/interpreter/interpreter.py:29\u001B[0m, in \u001B[0;36mInterpreter.exe_script\u001B[0;34m(self, gr_script)\u001B[0m\n\u001B[1;32m     27\u001B[0m \u001B[38;5;28;01mfor\u001B[39;00m action_tree \u001B[38;5;129;01min\u001B[39;00m \u001B[38;5;28mself\u001B[39m\u001B[38;5;241m.\u001B[39mgr_script\u001B[38;5;241m.\u001B[39maction_trees:\n\u001B[1;32m     28\u001B[0m     \u001B[38;5;28;01mif\u001B[39;00m action_tree\u001B[38;5;241m.\u001B[39mreturns_object:\n\u001B[0;32m---> 29\u001B[0m         callback_result \u001B[38;5;241m=\u001B[39m \u001B[38;5;28;43mself\u001B[39;49m\u001B[38;5;241;43m.\u001B[39;49m\u001B[43mexecutor\u001B[49m\u001B[43m(\u001B[49m\u001B[43maction_tree\u001B[49m\u001B[38;5;241;43m.\u001B[39;49m\u001B[43mast\u001B[49m\u001B[43m)\u001B[49m\n\u001B[1;32m     30\u001B[0m         \u001B[38;5;28mself\u001B[39m\u001B[38;5;241m.\u001B[39mreturn_list\u001B[38;5;241m.\u001B[39mappend(\n\u001B[1;32m     31\u001B[0m             ReturnObject(\n\u001B[1;32m     32\u001B[0m                 value\u001B[38;5;241m=\u001B[39mcallback_result,\n\u001B[1;32m     33\u001B[0m                 _type\u001B[38;5;241m=\u001B[39maction_tree\u001B[38;5;241m.\u001B[39mreturn_type,\n\u001B[1;32m     34\u001B[0m             )\n\u001B[1;32m     35\u001B[0m         )\n\u001B[1;32m     36\u001B[0m     \u001B[38;5;28;01melse\u001B[39;00m:\n",
      "File \u001B[0;32m~/code/repositories/relativisticpy/relativisticpy/interpreter/interpreter.py:40\u001B[0m, in \u001B[0;36mInterpreter.executor\u001B[0;34m(self, ast_node)\u001B[0m\n\u001B[0;32m---> 40\u001B[0m \u001B[38;5;28;01mdef\u001B[39;00m \u001B[38;5;21mexecutor\u001B[39m(\u001B[38;5;28mself\u001B[39m, ast_node: AstNode): \u001B[38;5;28;01mreturn\u001B[39;00m \u001B[43mast_node\u001B[49m\u001B[38;5;241;43m.\u001B[39;49m\u001B[43mexecute_node\u001B[49m\u001B[43m(\u001B[49m\u001B[38;5;28;43mself\u001B[39;49m\u001B[38;5;241;43m.\u001B[39;49m\u001B[43mimplementor\u001B[49m\u001B[43m)\u001B[49m\n",
      "File \u001B[0;32m~/code/repositories/relativisticpy/relativisticpy/interpreter/nodes/base.py:676\u001B[0m, in \u001B[0;36mTensorNode.execute_node\u001B[0;34m(self, implementer)\u001B[0m\n\u001B[1;32m    674\u001B[0m     state\u001B[38;5;241m.\u001B[39mset_tensor(\u001B[38;5;28mself\u001B[39m\u001B[38;5;241m.\u001B[39midentifier, new_tensor)\n\u001B[1;32m    675\u001B[0m \u001B[38;5;28;01melse\u001B[39;00m:\n\u001B[0;32m--> 676\u001B[0m     \u001B[38;5;28;01mreturn\u001B[39;00m \u001B[38;5;28;43mself\u001B[39;49m\u001B[38;5;241;43m.\u001B[39;49m\u001B[43mtensor_cache_retrieval\u001B[49m\u001B[43m(\u001B[49m\u001B[43mimplementer\u001B[49m\u001B[43m)\u001B[49m\n",
      "File \u001B[0;32m~/code/repositories/relativisticpy/relativisticpy/interpreter/nodes/base.py:697\u001B[0m, in \u001B[0;36mTensorNode.tensor_cache_retrieval\u001B[0;34m(self, implementer)\u001B[0m\n\u001B[1;32m    694\u001B[0m     \u001B[38;5;28;01mreturn\u001B[39;00m metric\u001B[38;5;241m.\u001B[39msubcomponents \u001B[38;5;28;01mif\u001B[39;00m \u001B[38;5;28mself\u001B[39m\u001B[38;5;241m.\u001B[39msub_components_called \u001B[38;5;28;01melse\u001B[39;00m metric\n\u001B[1;32m    696\u001B[0m \u001B[38;5;28;01melif\u001B[39;00m \u001B[38;5;28mself\u001B[39m\u001B[38;5;241m.\u001B[39midentifier \u001B[38;5;241m==\u001B[39m state\u001B[38;5;241m.\u001B[39mget_variable(Scope\u001B[38;5;241m.\u001B[39mConnectionSymbol):\n\u001B[0;32m--> 697\u001B[0m     connection \u001B[38;5;241m=\u001B[39m \u001B[43mimplementer\u001B[49m\u001B[38;5;241;43m.\u001B[39;49m\u001B[43mconnection_cls\u001B[49m\u001B[38;5;241;43m.\u001B[39;49m\u001B[43mfrom_equation\u001B[49m\u001B[43m(\u001B[49m\u001B[43mtensor_indices\u001B[49m\u001B[43m,\u001B[49m\u001B[43m \u001B[49m\u001B[43mstate\u001B[49m\u001B[38;5;241;43m.\u001B[39;49m\u001B[43mmetric_tensor\u001B[49m\u001B[43m)\u001B[49m\n\u001B[1;32m    698\u001B[0m     \u001B[38;5;28;01mreturn\u001B[39;00m connection\u001B[38;5;241m.\u001B[39msubcomponents \u001B[38;5;28;01mif\u001B[39;00m \u001B[38;5;28mself\u001B[39m\u001B[38;5;241m.\u001B[39msub_components_called \u001B[38;5;28;01melse\u001B[39;00m connection\n\u001B[1;32m    700\u001B[0m \u001B[38;5;28;01melse\u001B[39;00m:\n",
      "File \u001B[0;32m~/code/repositories/relativisticpy/relativisticpy/algebras/einstein_summation.py:515\u001B[0m, in \u001B[0;36m_IdxAlgebraNCubeArray.from_equation\u001B[0;34m(cls, indices, *args, **kwargs)\u001B[0m\n\u001B[1;32m    512\u001B[0m     \u001B[38;5;28;01melif\u001B[39;00m \u001B[38;5;28misinstance\u001B[39m(value, SymbolArray):\n\u001B[1;32m    513\u001B[0m         components \u001B[38;5;241m=\u001B[39m value\n\u001B[0;32m--> 515\u001B[0m \u001B[38;5;28;01mreturn\u001B[39;00m \u001B[38;5;28;43mcls\u001B[39;49m\u001B[43m(\u001B[49m\u001B[43mindices\u001B[49m\u001B[43m,\u001B[49m\u001B[43m \u001B[49m\u001B[43mcomponents\u001B[49m\u001B[43m)\u001B[49m\n",
      "File \u001B[0;32m~/code/repositories/relativisticpy/relativisticpy/diffgeom/connection.py:27\u001B[0m, in \u001B[0;36mLeviCivitaConnection.__init__\u001B[0;34m(self, indices, components, metric)\u001B[0m\n\u001B[1;32m     24\u001B[0m \u001B[38;5;28;01mif\u001B[39;00m indices\u001B[38;5;241m.\u001B[39mrank \u001B[38;5;241m!=\u001B[39m (\u001B[38;5;241m1\u001B[39m, \u001B[38;5;241m2\u001B[39m):\n\u001B[1;32m     25\u001B[0m     \u001B[38;5;28;01mraise\u001B[39;00m \u001B[38;5;167;01mException\u001B[39;00m(\u001B[38;5;124m\"\u001B[39m\u001B[38;5;124mThe Levi-Civita Connection must have be of rank (1, 2)\u001B[39m\u001B[38;5;124m\"\u001B[39m)\n\u001B[0;32m---> 27\u001B[0m \u001B[38;5;28;01mif\u001B[39;00m \u001B[38;5;28mlen\u001B[39m(\u001B[43mcomponents\u001B[49m\u001B[38;5;241;43m.\u001B[39;49m\u001B[43mshape\u001B[49m) \u001B[38;5;241m!=\u001B[39m \u001B[38;5;241m3\u001B[39m \u001B[38;5;129;01mand\u001B[39;00m \u001B[38;5;28mall\u001B[39m(number \u001B[38;5;241m==\u001B[39m components\u001B[38;5;241m.\u001B[39mshape[\u001B[38;5;241m0\u001B[39m] \u001B[38;5;28;01mfor\u001B[39;00m number \u001B[38;5;129;01min\u001B[39;00m components\u001B[38;5;241m.\u001B[39mshape):\n\u001B[1;32m     28\u001B[0m     \u001B[38;5;28;01mraise\u001B[39;00m \u001B[38;5;167;01mException\u001B[39;00m(\n\u001B[1;32m     29\u001B[0m         \u001B[38;5;124mf\u001B[39m\u001B[38;5;124m\"\u001B[39m\u001B[38;5;124mThe Levi-Civita Connection must have shape (\u001B[39m\u001B[38;5;132;01m{\u001B[39;00mcomponents\u001B[38;5;241m.\u001B[39mshape[\u001B[38;5;241m0\u001B[39m]\u001B[38;5;132;01m}\u001B[39;00m\u001B[38;5;124m, \u001B[39m\u001B[38;5;132;01m{\u001B[39;00mcomponents\u001B[38;5;241m.\u001B[39mshape[\u001B[38;5;241m0\u001B[39m]\u001B[38;5;132;01m}\u001B[39;00m\u001B[38;5;124m, \u001B[39m\u001B[38;5;132;01m{\u001B[39;00mcomponents\u001B[38;5;241m.\u001B[39mshape[\u001B[38;5;241m0\u001B[39m]\u001B[38;5;132;01m}\u001B[39;00m\u001B[38;5;124m).\u001B[39m\u001B[38;5;124m\"\u001B[39m)\n\u001B[1;32m     31\u001B[0m \u001B[38;5;28msuper\u001B[39m()\u001B[38;5;241m.\u001B[39m\u001B[38;5;21m__init__\u001B[39m(indices\u001B[38;5;241m=\u001B[39mindices, components\u001B[38;5;241m=\u001B[39mcomponents)\n",
      "\u001B[0;31mAttributeError\u001B[0m: 'NoneType' object has no attribute 'shape'"
     ]
    }
   ],
   "execution_count": 37
  },
  {
   "metadata": {
    "ExecuteTime": {
     "end_time": "2024-06-22T14:41:44.902579Z",
     "start_time": "2024-06-22T14:41:44.891338Z"
    }
   },
   "cell_type": "code",
   "source": [
    "wb = Workbook()\n",
    "str(wb.expr(\n",
    "    \"\"\"\n",
    "                Coordinates := [t, r, theta, phi] \n",
    "\n",
    "                g_{mu}_{nu} := [\n",
    "                                    [-(1 - (2 * G * M) / (r)), 0, 0, 0],\n",
    "                                    [0, 1 / (1 - (2 * G * M) / (r)), 0, 0],\n",
    "                                    [0, 0, r**2, 0],\n",
    "                                    [0, 0, 0, r**2 * sin(theta) ** 2]\n",
    "                                ]\n",
    "                g_{mu}_{nu}\n",
    "        \"\"\"\n",
    ").components)"
   ],
   "outputs": [
    {
     "data": {
      "text/plain": [
       "'[[2*G*M/r - 1, 0, 0, 0], [0, 1/(-2*G*M/r + 1), 0, 0], [0, 0, r**2, 0], [0, 0, 0, r**2*sin(theta)**2]]'"
      ]
     },
     "execution_count": 45,
     "metadata": {},
     "output_type": "execute_result"
    }
   ],
   "execution_count": 45
  },
  {
   "metadata": {
    "ExecuteTime": {
     "end_time": "2024-06-22T14:27:02.122550Z",
     "start_time": "2024-06-22T14:27:02.120015Z"
    }
   },
   "cell_type": "code",
   "source": "res",
   "outputs": [
    {
     "data": {
      "text/plain": [
       "\"'method' object is not subscriptable\""
      ]
     },
     "execution_count": 41,
     "metadata": {},
     "output_type": "execute_result"
    }
   ],
   "execution_count": 41
  },
  {
   "cell_type": "code",
   "metadata": {
    "ExecuteTime": {
     "end_time": "2024-06-16T18:05:16.833633Z",
     "start_time": "2024-06-16T18:05:16.832834Z"
    }
   },
   "source": [
    "class Indices:\n",
    "    pass\n",
    "\n",
    "class Metric:\n",
    "    pass\n",
    "\n",
    "class SymbolArray:\n",
    "    pass\n",
    "\n",
    "def get_types_dict(types_list, *args, **kwargs):\n",
    "    dict_args = {}\n",
    "    # Categorize positional arguments\n",
    "    for type_ in types_list:\n",
    "        for arg in args:\n",
    "            if isinstance(arg, type_):\n",
    "                dict_args.update({type_.__name__: arg})\n",
    "        for _, value in kwargs.items():\n",
    "            if isinstance(value, type_):\n",
    "                dict_args.update({type_.__name__: value})\n",
    "    return dict_args\n",
    "\n",
    "# Example usage\n",
    "try:\n",
    "    ind = Indices()\n",
    "    met = Metric()\n",
    "    sym = SymbolArray()\n",
    "    print(get_types_dict( [Indices, Metric, SymbolArray], another_ind=Indices(), keyword_metric=met, keyword_symbol=sym))\n",
    "except Exception as e:\n",
    "    print(e)\n"
   ],
   "outputs": [],
   "execution_count": null
  },
  {
   "cell_type": "code",
   "metadata": {},
   "source": [
    "def str_to_hex(s):\n",
    "    return s.encode('utf-8').hex()\n",
    "\n",
    "def hex_to_str(h):\n",
    "    return bytes.fromhex(h).decode('utf-8')"
   ],
   "outputs": [],
   "execution_count": null
  },
  {
   "cell_type": "code",
   "metadata": {},
   "source": [
    "str_to_hex(\"a\") "
   ],
   "outputs": [],
   "execution_count": null
  },
  {
   "cell_type": "code",
   "metadata": {
    "ExecuteTime": {
     "end_time": "2024-06-16T18:05:16.858520Z",
     "start_time": "2024-06-16T18:05:16.855185Z"
    }
   },
   "source": [
    "hex_to_str(\"76\")"
   ],
   "outputs": [],
   "execution_count": null
  },
  {
   "cell_type": "code",
   "metadata": {
    "ExecuteTime": {
     "end_time": "2024-06-22T13:42:16.646673Z",
     "start_time": "2024-06-22T13:42:16.642632Z"
    }
   },
   "source": "\"aa\" > \"b\"",
   "outputs": [
    {
     "data": {
      "text/plain": [
       "False"
      ]
     },
     "execution_count": 13,
     "metadata": {},
     "output_type": "execute_result"
    }
   ],
   "execution_count": 13
  },
  {
   "metadata": {},
   "cell_type": "code",
   "outputs": [],
   "execution_count": null,
   "source": ""
  }
 ],
 "metadata": {
  "kernelspec": {
   "display_name": ".venv",
   "language": "python",
   "name": "python3"
  },
  "language_info": {
   "codemirror_mode": {
    "name": "ipython",
    "version": 3
   },
   "file_extension": ".py",
   "mimetype": "text/x-python",
   "name": "python",
   "nbconvert_exporter": "python",
   "pygments_lexer": "ipython3",
   "version": "3.11.9"
  }
 },
 "nbformat": 4,
 "nbformat_minor": 2
}
