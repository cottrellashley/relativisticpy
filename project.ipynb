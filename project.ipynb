{
 "cells": [
  {
   "cell_type": "code",
   "execution_count": 4,
   "metadata": {},
   "outputs": [],
   "source": [
    "from src.relativisticpy.tensor.gr_tensor import GrTensor\n",
    "from dataclasses import dataclass"
   ]
  },
  {
   "cell_type": "code",
   "execution_count": 2,
   "metadata": {},
   "outputs": [],
   "source": [
    "tensorA = GrTensor(\"[[-A(r),0,0,0],[0,B(r),0,0],[0,0,r**2,0],[0,0,0,r**2*smp.sin(theta)**2]]\", \"_{a}_{b}\", \"[t, r, theta, phi]\")\n",
    "tensorB = GrTensor(\"[[-A(r),0,0,0],[0,B(r),0,0],[0,0,r**2,0],[0,0,0,r**2*smp.sin(theta)**2]]\", \"^{b}^{c}\", \"[t, r, theta, phi]\")"
   ]
  },
  {
   "cell_type": "code",
   "execution_count": 3,
   "metadata": {},
   "outputs": [
    {
     "data": {
      "text/plain": [
       "TensorObject(components=[[A(r)**2, 0, 0, 0], [0, B(r)**2, 0, 0], [0, 0, r**4, 0], [0, 0, 0, r**4*sin(theta)**4]], indices=TensorIndicesObject(indices=(Index:(  'Index symbol'          : a, \n",
       "                            'Order in Tensor'       : 0, \n",
       "                            'Dimention'             : 4, \n",
       "                            'Running Index'         : True, \n",
       "                            'Index value(s)'        : [0, 1, 2, 3], \n",
       "                            'Type of Component'     : covariant, \n",
       "                            'Basis representation'  : [t, r, theta, phi], \n",
       "                            'Parent Object'         : Result, \n",
       "                        )\n",
       "                , Index:(  'Index symbol'          : c, \n",
       "                            'Order in Tensor'       : 1, \n",
       "                            'Dimention'             : 4, \n",
       "                            'Running Index'         : True, \n",
       "                            'Index value(s)'        : [0, 1, 2, 3], \n",
       "                            'Type of Component'     : contravariant, \n",
       "                            'Basis representation'  : [t, r, theta, phi], \n",
       "                            'Parent Object'         : Result, \n",
       "                        )\n",
       "                ), basis=[t, r, theta, phi], dimention=4, rank=(1, 1), scalar=False, shape=(4, 4), valid=True, parent_tensor='Result'), basis=[t, r, theta, phi], rank=(1, 1), dimention=4, shape=(4, 4), scalar=False, context=TensorContext(is_metric_tensor=False, is_result_tensor=False, is_christoffel=False, is_covariant_derivative=False, tensor_name=None, prev_a=GrTensor(components=[[-A(r), 0, 0, 0], [0, B(r), 0, 0], [0, 0, r**2, 0], [0, 0, 0, r**2*sin(theta)**2]], indices=IndicesRepr((IndexRepresentationA( _{a}, 0, [t, r, theta, phi]), IndexRepresentationA( _{b}, 1, [t, r, theta, phi])), [t, r, theta, phi]), basis=[t, r, theta, phi], rank=(4, 4), dimention=4, shape=(4, 4), scalar=False, context=None), prev_b=GrTensor(components=[[-A(r), 0, 0, 0], [0, B(r), 0, 0], [0, 0, r**2, 0], [0, 0, 0, r**2*sin(theta)**2]], indices=IndicesRepr((IndexRepresentationA( ^{b}, 0, [t, r, theta, phi]), IndexRepresentationA( ^{c}, 1, [t, r, theta, phi])), [t, r, theta, phi]), basis=[t, r, theta, phi], rank=(4, 4), dimention=4, shape=(4, 4), scalar=False, context=None)))"
      ]
     },
     "execution_count": 3,
     "metadata": {},
     "output_type": "execute_result"
    }
   ],
   "source": [
    "tensorA * tensorB"
   ]
  },
  {
   "cell_type": "code",
   "execution_count": null,
   "metadata": {},
   "outputs": [],
   "source": []
  }
 ],
 "metadata": {
  "interpreter": {
   "hash": "aee8b7b246df8f9039afb4144a1f6fd8d2ca17a180786b69acc140d282b71a49"
  },
  "kernelspec": {
   "display_name": "Python 3.11.1 64-bit",
   "language": "python",
   "name": "python3"
  },
  "language_info": {
   "codemirror_mode": {
    "name": "ipython",
    "version": 3
   },
   "file_extension": ".py",
   "mimetype": "text/x-python",
   "name": "python",
   "nbconvert_exporter": "python",
   "pygments_lexer": "ipython3",
   "version": "3.11.1"
  },
  "orig_nbformat": 4
 },
 "nbformat": 4,
 "nbformat_minor": 2
}
