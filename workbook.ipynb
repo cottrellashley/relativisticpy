{
 "cells": [
  {
   "cell_type": "code",
   "execution_count": 1,
   "metadata": {},
   "outputs": [],
   "source": [
    "from relativisticpy.workbook.frontends.sympify.sympify import Sympify\n",
    "from relativisticpy.core.indices import Indices, Idx\n",
    "from relativisticpy.gr.metric import Metric, MetricIndices\n",
    "from relativisticpy.gr.derivative import Derivative\n",
    "from relativisticpy.gr.connection import Connection"
   ]
  },
  {
   "cell_type": "code",
   "execution_count": 2,
   "metadata": {},
   "outputs": [
    {
     "ename": "AttributeError",
     "evalue": "property 'components' of 'Metric' object has no setter",
     "output_type": "error",
     "traceback": [
      "\u001b[1;31m---------------------------------------------------------------------------\u001b[0m",
      "\u001b[1;31mAttributeError\u001b[0m                            Traceback (most recent call last)",
      "Cell \u001b[1;32mIn[2], line 4\u001b[0m\n\u001b[0;32m      2\u001b[0m inv_metric_comps \u001b[39m=\u001b[39m Sympify\u001b[39m.\u001b[39mprs(\u001b[39m'\u001b[39m\u001b[39m[[1, 0], [0, 1/(r**2)]]\u001b[39m\u001b[39m'\u001b[39m)\n\u001b[0;32m      3\u001b[0m metric_basis \u001b[39m=\u001b[39m Sympify\u001b[39m.\u001b[39mprs(\u001b[39m'\u001b[39m\u001b[39m[r, theta]\u001b[39m\u001b[39m'\u001b[39m)\n\u001b[1;32m----> 4\u001b[0m g_ab \u001b[39m=\u001b[39m Metric(MetricIndices(Idx(\u001b[39m'\u001b[39;49m\u001b[39ma\u001b[39;49m\u001b[39m'\u001b[39;49m), Idx(\u001b[39m'\u001b[39;49m\u001b[39mb\u001b[39;49m\u001b[39m'\u001b[39;49m)), metric_comps, metric_basis)\n\u001b[0;32m      5\u001b[0m g_bc \u001b[39m=\u001b[39m Metric(MetricIndices(Idx(\u001b[39m'\u001b[39m\u001b[39mb\u001b[39m\u001b[39m'\u001b[39m), Idx(\u001b[39m'\u001b[39m\u001b[39mc\u001b[39m\u001b[39m'\u001b[39m)), metric_comps, metric_basis)\n\u001b[0;32m      6\u001b[0m g_be \u001b[39m=\u001b[39m Metric(MetricIndices(Idx(\u001b[39m'\u001b[39m\u001b[39mb\u001b[39m\u001b[39m'\u001b[39m), Idx(\u001b[39m'\u001b[39m\u001b[39me\u001b[39m\u001b[39m'\u001b[39m)), metric_comps, metric_basis)\n",
      "File \u001b[1;32mc:\\Users\\game-\\Repos\\relativisticpy\\relativisticpy\\gr\\metric.py:54\u001b[0m, in \u001b[0;36mMetric.__init__\u001b[1;34m(self, indices, components, basis)\u001b[0m\n\u001b[0;32m     53\u001b[0m \u001b[39mdef\u001b[39;00m \u001b[39m__init__\u001b[39m(\u001b[39mself\u001b[39m, indices: MetricIndices, components: IMultiIndexArray, basis: IMultiIndexArray):\n\u001b[1;32m---> 54\u001b[0m     \u001b[39msuper\u001b[39;49m()\u001b[39m.\u001b[39;49m\u001b[39m__init__\u001b[39;49m(indices \u001b[39m=\u001b[39;49m indices, components \u001b[39m=\u001b[39;49m components, basis \u001b[39m=\u001b[39;49m basis)\n",
      "File \u001b[1;32mc:\\Users\\game-\\Repos\\relativisticpy\\relativisticpy\\core\\multi_index_obj.py:14\u001b[0m, in \u001b[0;36mMultiIndexObject.__init__\u001b[1;34m(self, indices, components, basis)\u001b[0m\n\u001b[0;32m     13\u001b[0m \u001b[39mdef\u001b[39;00m \u001b[39m__init__\u001b[39m(\u001b[39mself\u001b[39m, indices: Indices, components: SymbolArray \u001b[39m=\u001b[39m \u001b[39mNone\u001b[39;00m, basis: SymbolArray \u001b[39m=\u001b[39m \u001b[39mNone\u001b[39;00m):\n\u001b[1;32m---> 14\u001b[0m     \u001b[39mself\u001b[39;49m\u001b[39m.\u001b[39;49mcomponents \u001b[39m=\u001b[39m components\n\u001b[0;32m     15\u001b[0m     \u001b[39mself\u001b[39m\u001b[39m.\u001b[39mindices \u001b[39m=\u001b[39m indices\n\u001b[0;32m     16\u001b[0m     \u001b[39mself\u001b[39m\u001b[39m.\u001b[39mbasis \u001b[39m=\u001b[39m basis\n",
      "\u001b[1;31mAttributeError\u001b[0m: property 'components' of 'Metric' object has no setter"
     ]
    }
   ],
   "source": [
    "metric_comps = Sympify.prs('[[1, 0], [0, r**2]]')\n",
    "inv_metric_comps = Sympify.prs('[[1, 0], [0, 1/(r**2)]]')\n",
    "metric_basis = Sympify.prs('[r, theta]')\n",
    "g_ab = Metric(MetricIndices(Idx('a'), Idx('b')), metric_comps, metric_basis)\n",
    "g_bc = Metric(MetricIndices(Idx('b'), Idx('c')), metric_comps, metric_basis)\n",
    "g_be = Metric(MetricIndices(Idx('b'), Idx('e')), metric_comps, metric_basis)\n",
    "g_ec = Metric(MetricIndices(Idx('e'), Idx('c')), metric_comps, metric_basis)\n",
    "d_e = Derivative(Indices(Idx('e')))\n",
    "d_c = Derivative(Indices(Idx('c')))\n",
    "d_b = Derivative(Indices(Idx('b')))\n"
   ]
  },
  {
   "cell_type": "code",
   "execution_count": null,
   "metadata": {},
   "outputs": [],
   "source": []
  },
  {
   "cell_type": "code",
   "execution_count": 3,
   "metadata": {},
   "outputs": [
    {
     "data": {
      "text/plain": [
       "(_b  , _e  , _c  )"
      ]
     },
     "execution_count": 3,
     "metadata": {},
     "output_type": "execute_result"
    }
   ],
   "source": [
    "(d_b*(-1*g_ec) + d_c*g_be + d_e*g_bc).indices.indices # Fix => if user specifies the resulting indices then we can just map them as specified"
   ]
  },
  {
   "cell_type": "code",
   "execution_count": 4,
   "metadata": {},
   "outputs": [
    {
     "data": {
      "text/plain": [
       "(_c  , _b  , _e  )"
      ]
     },
     "execution_count": 4,
     "metadata": {},
     "output_type": "execute_result"
    }
   ],
   "source": [
    "(d_c*g_be + d_e*g_bc + d_b*(-1*g_ec)).indices.indices # Fix => if user specifies the resulting indices then we can just map them as specified"
   ]
  },
  {
   "cell_type": "code",
   "execution_count": 5,
   "metadata": {},
   "outputs": [
    {
     "ename": "AttributeError",
     "evalue": "'NoneType' object has no attribute 'basis'",
     "output_type": "error",
     "traceback": [
      "\u001b[1;31m---------------------------------------------------------------------------\u001b[0m",
      "\u001b[1;31mAttributeError\u001b[0m                            Traceback (most recent call last)",
      "Cell \u001b[1;32mIn[5], line 1\u001b[0m\n\u001b[1;32m----> 1\u001b[0m d \u001b[39m=\u001b[39m g_ab\u001b[39m.\u001b[39minv\u001b[39m*\u001b[39m(d_b\u001b[39m*\u001b[39;49m(\u001b[39m-\u001b[39;49mg_ec))\n",
      "File \u001b[1;32mc:\\Users\\game-\\Repos\\relativisticpy\\relativisticpy\\gr\\derivative.py:13\u001b[0m, in \u001b[0;36mDerivative.__mul__\u001b[1;34m(self, other)\u001b[0m\n\u001b[0;32m     12\u001b[0m \u001b[39mdef\u001b[39;00m \u001b[39m__mul__\u001b[39m(\u001b[39mself\u001b[39m, other: IMultiIndexArray) \u001b[39m-\u001b[39m\u001b[39m>\u001b[39m IMultiIndexArray:\n\u001b[1;32m---> 13\u001b[0m     \u001b[39mself\u001b[39m\u001b[39m.\u001b[39mcomponents \u001b[39m=\u001b[39m other\u001b[39m.\u001b[39;49mbasis\n\u001b[0;32m     14\u001b[0m     \u001b[39mself\u001b[39m\u001b[39m.\u001b[39mbasis \u001b[39m=\u001b[39m other\u001b[39m.\u001b[39mbasis\n\u001b[0;32m     15\u001b[0m     operation \u001b[39m=\u001b[39m \u001b[39mlambda\u001b[39;00m a, b : diff(b, a)\n",
      "\u001b[1;31mAttributeError\u001b[0m: 'NoneType' object has no attribute 'basis'"
     ]
    }
   ],
   "source": [
    "d = g_ab.inv*(d_b*(-g_ec))"
   ]
  },
  {
   "cell_type": "code",
   "execution_count": 12,
   "metadata": {},
   "outputs": [
    {
     "data": {
      "text/latex": [
       "$\\displaystyle \\left[\\begin{matrix}\\left[\\begin{matrix}0 & 0\\\\0 & \\frac{1}{r}\\end{matrix}\\right] & \\left[\\begin{matrix}0 & r\\\\\\frac{1}{r} & 0\\end{matrix}\\right]\\end{matrix}\\right]$"
      ],
      "text/plain": [
       "[[[0, 0], [0, 1/r]], [[0, r], [1/r, 0]]]"
      ]
     },
     "execution_count": 12,
     "metadata": {},
     "output_type": "execute_result"
    }
   ],
   "source": [
    "res = (g_ab.inv*(d_c*g_be + d_e*g_bc + d_b*(-1*g_ec)))/2\n",
    "res.components"
   ]
  },
  {
   "cell_type": "code",
   "execution_count": 13,
   "metadata": {},
   "outputs": [
    {
     "name": "stdout",
     "output_type": "stream",
     "text": [
      "here: None\n"
     ]
    }
   ],
   "source": [
    "a = Connection(Indices(-Idx('e'), Idx('a'), Idx('c')), metric = g_ab)"
   ]
  },
  {
   "cell_type": "code",
   "execution_count": 14,
   "metadata": {},
   "outputs": [
    {
     "name": "stdout",
     "output_type": "stream",
     "text": [
      "hello there\n"
     ]
    }
   ],
   "source": [
    "a[Indices(-Idx('a'), Idx('e'), Idx('c'))] = res"
   ]
  },
  {
   "cell_type": "code",
   "execution_count": 15,
   "metadata": {},
   "outputs": [
    {
     "data": {
      "text/latex": [
       "$\\displaystyle \\left[\\begin{matrix}\\left[\\begin{matrix}0 & 0\\\\0 & r\\end{matrix}\\right] & \\left[\\begin{matrix}0 & \\frac{1}{r}\\\\\\frac{1}{r} & 0\\end{matrix}\\right]\\end{matrix}\\right]$"
      ],
      "text/plain": [
       "[[[0, 0], [0, r]], [[0, 1/r], [1/r, 0]]]"
      ]
     },
     "execution_count": 15,
     "metadata": {},
     "output_type": "execute_result"
    }
   ],
   "source": [
    "a.components"
   ]
  },
  {
   "cell_type": "code",
   "execution_count": 17,
   "metadata": {},
   "outputs": [],
   "source": [
    "def atrr(cls):\n",
    "\n",
    "    def method(self, arg):\n",
    "        return cls(arg)\n",
    "    \n",
    "    cls.method = method\n",
    "\n",
    "    return cls\n",
    "\n",
    "@atrr\n",
    "class Hello:\n",
    "    def __init__(self, st: str):\n",
    "        self.st = st\n",
    "\n",
    "    \n",
    "    "
   ]
  },
  {
   "cell_type": "code",
   "execution_count": 19,
   "metadata": {},
   "outputs": [],
   "source": [
    "a = Hello('gh')"
   ]
  },
  {
   "cell_type": "code",
   "execution_count": 21,
   "metadata": {},
   "outputs": [],
   "source": [
    "b = a.method('nlkesfn')"
   ]
  },
  {
   "cell_type": "code",
   "execution_count": 24,
   "metadata": {},
   "outputs": [
    {
     "data": {
      "text/plain": [
       "'nlkesfn'"
      ]
     },
     "execution_count": 24,
     "metadata": {},
     "output_type": "execute_result"
    }
   ],
   "source": [
    "b.st"
   ]
  },
  {
   "cell_type": "code",
   "execution_count": null,
   "metadata": {},
   "outputs": [],
   "source": []
  }
 ],
 "metadata": {
  "interpreter": {
   "hash": "aee8b7b246df8f9039afb4144a1f6fd8d2ca17a180786b69acc140d282b71a49"
  },
  "kernelspec": {
   "display_name": "Python 3.11.1 64-bit",
   "language": "python",
   "name": "python3"
  },
  "language_info": {
   "codemirror_mode": {
    "name": "ipython",
    "version": 3
   },
   "file_extension": ".py",
   "mimetype": "text/x-python",
   "name": "python",
   "nbconvert_exporter": "python",
   "pygments_lexer": "ipython3",
   "version": "3.11.4"
  },
  "orig_nbformat": 4
 },
 "nbformat": 4,
 "nbformat_minor": 2
}
