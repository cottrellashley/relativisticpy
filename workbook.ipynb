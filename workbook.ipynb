{
 "cells": [
  {
   "cell_type": "code",
   "execution_count": 1,
   "metadata": {},
   "outputs": [],
   "source": [
    "from relativisticpy.core.indices import Indices, Idx\n",
    "from relativisticpy.gr.metric import Metric, MetricIndices\n",
    "from relativisticpy.gr.derivative import Derivative\n",
    "from relativisticpy.gr.connection import Connection"
   ]
  },
  {
   "cell_type": "code",
   "execution_count": 9,
   "metadata": {},
   "outputs": [
    {
     "data": {
      "text/plain": [
       "<relativisticpy.gr.metric.MetricIndices at 0x112beeb10>"
      ]
     },
     "execution_count": 9,
     "metadata": {},
     "output_type": "execute_result"
    }
   ],
   "source": [
    "comps = '[[1, 0], [0, r**2]]'\n",
    "basis = '[r, theta]'\n",
    "\n",
    "g_ab = Metric.from_string('_{a}_{b}', comps, basis)\n",
    "g_bc = Metric.from_string('_{b}_{c}', comps, basis)\n",
    "g_be = Metric.from_string('_{b}_{e}', comps, basis)\n",
    "g_ec = Metric.from_string('_{e}_{c}', comps, basis)\n",
    "\n",
    "d_e = Derivative(Indices(Idx('e')))\n",
    "d_c = Derivative(Indices(Idx('c')))\n",
    "d_b = Derivative(Indices(Idx('b')))\n",
    "\n",
    "g_ab.indices"
   ]
  },
  {
   "cell_type": "code",
   "execution_count": 10,
   "metadata": {},
   "outputs": [],
   "source": [
    "from relativisticpy.providers import SymbolArray, transpose_list\n",
    "from itertools import product\n",
    "from operator import itemgetter\n",
    "\n",
    "a = SymbolArray([[[1,0], [2,2]], [[2,2], [2,2]]])\n",
    "b = SymbolArray([[2, 2], [2, 2]])\n",
    "\n",
    "summed_index_locations = transpose_list([[1,1]])\n",
    "all = [(idxs[:len(a.shape)],idxs[len(a.shape):]) for idxs in list(product(*[range(i) for i in a.shape + b.shape])) if itemgetter(*summed_index_locations[0])(idxs[:len(a.shape)]) == itemgetter(*summed_index_locations[1])(idxs[len(a.shape):])]\n",
    "\n",
    "c1 = len(summed_index_locations[0]) == len(a.shape)\n",
    "c2 = len(summed_index_locations[1]) == len(b.shape)\n",
    "\n",
    "def generator(idx):\n",
    "    if not c1 and not c2:\n",
    "        return [(IndicesA, IndicesB) for (IndicesA, IndicesB) in all if itemgetter(*A_indices_not_summed)(IndicesA) == itemgetter(*result_indices_in_A)(idx) and itemgetter(*B_indices_not_summed)(IndicesB) == itemgetter(*result_indices_in_B)(idx)]\n",
    "    elif c1 and not c2: \n",
    "        return [(IndicesA, IndicesB) for (IndicesA, IndicesB) in all if itemgetter(*B_indices_not_summed)(IndicesB) == itemgetter(*result_indices_in_B)(idx)]\n",
    "    elif c2 and not c1:\n",
    "        return [(IndicesA, IndicesB) for (IndicesA, IndicesB) in all if itemgetter(*A_indices_not_summed)(IndicesA) == itemgetter(*result_indices_in_A)(idx)]"
   ]
  },
  {
   "cell_type": "code",
   "execution_count": 11,
   "metadata": {},
   "outputs": [],
   "source": [
    "import re\n",
    "def is_repr_a(arg: str): return bool(re.search(\"^((\\^|\\_)(\\{)(\\}))+$\", re.sub('[^\\^^\\_^\\{^\\}]',\"\", arg).replace(\" \",''))) if isinstance(arg, str) else False\n",
    "def is_running(arg: str): return not bool(re.search('^[^=]*(\\:)([0-9]+)[^=]*$', arg))\n",
    "def get_symbol(arg: str): return re.search(r'[a-zA-Z]+', arg).group() if re.search(r'[a-zA-Z]+', arg) else None\n",
    "def get_values(arg: str): return re.search(r'[0-9]+', arg).group() if re.search(r'[0-9]+', arg) else None\n",
    "def covariant(arg: str): return arg[0] == '_' if isinstance(arg, str) else True # Always default to coveriant\n",
    "def split(arg: str): return [item for item in re.split('(?=[_^])', arg) if item] if is_repr_a(arg) else arg\n",
    "def descerialize(arg: str): return Indices(*[Idx(symbol = get_symbol(i), covariant=covariant(i), values=int(get_values(i)) if not is_running(i) else None) for i in split(arg)]) if is_repr_a(arg) else None"
   ]
  },
  {
   "cell_type": "code",
   "execution_count": 12,
   "metadata": {},
   "outputs": [
    {
     "data": {
      "text/plain": [
       "<relativisticpy.gr.metric.MetricIndices at 0x109745890>"
      ]
     },
     "execution_count": 12,
     "metadata": {},
     "output_type": "execute_result"
    }
   ],
   "source": [
    "a = MetricIndices.from_string('_{a}^{c:12432}')\n",
    "a"
   ]
  },
  {
   "cell_type": "code",
   "execution_count": 13,
   "metadata": {},
   "outputs": [
    {
     "data": {
      "text/plain": [
       "(_b  , _e  , _c  )"
      ]
     },
     "execution_count": 13,
     "metadata": {},
     "output_type": "execute_result"
    }
   ],
   "source": [
    "(d_b*(-1*g_ec) + d_c*g_be + d_e*g_bc).indices.indices # Fix => if user specifies the resulting indices then we can just map them as specified"
   ]
  },
  {
   "cell_type": "code",
   "execution_count": 14,
   "metadata": {},
   "outputs": [
    {
     "data": {
      "text/plain": [
       "(_c  , _b  , _e  )"
      ]
     },
     "execution_count": 14,
     "metadata": {},
     "output_type": "execute_result"
    }
   ],
   "source": [
    "(d_c*g_be + d_e*g_bc + d_b*(-1*g_ec)).indices.indices # Fix => if user specifies the resulting indices then we can just map them as specified"
   ]
  },
  {
   "cell_type": "code",
   "execution_count": 15,
   "metadata": {},
   "outputs": [
    {
     "data": {
      "text/plain": [
       "(_b  , _e  , _c  )"
      ]
     },
     "execution_count": 15,
     "metadata": {},
     "output_type": "execute_result"
    }
   ],
   "source": [
    "r = d_b*(-1*g_ec)\n",
    "r.indices.indices"
   ]
  },
  {
   "cell_type": "code",
   "execution_count": 16,
   "metadata": {},
   "outputs": [
    {
     "data": {
      "text/latex": [
       "$\\displaystyle \\left[\\begin{matrix}\\left[\\begin{matrix}0 & 0\\\\0 & \\frac{1}{r}\\end{matrix}\\right] & \\left[\\begin{matrix}0 & - r\\\\\\frac{1}{r} & 0\\end{matrix}\\right]\\end{matrix}\\right]$"
      ],
      "text/plain": [
       "[[[0, 0], [0, 1/r]], [[0, -r], [1/r, 0]]]"
      ]
     },
     "execution_count": 16,
     "metadata": {},
     "output_type": "execute_result"
    }
   ],
   "source": [
    "res = (g_ab.inv*(d_c*g_be + d_e*g_bc + d_b*(-1*g_ec)))/2\n",
    "res.components"
   ]
  },
  {
   "cell_type": "code",
   "execution_count": 17,
   "metadata": {},
   "outputs": [],
   "source": [
    "a = Connection(Indices(-Idx('e'), Idx('a'), Idx('c')), metric = g_ab)"
   ]
  },
  {
   "cell_type": "code",
   "execution_count": 18,
   "metadata": {},
   "outputs": [
    {
     "name": "stdout",
     "output_type": "stream",
     "text": [
      "hello there\n"
     ]
    }
   ],
   "source": [
    "a[Indices(-Idx('a'), Idx('e'), Idx('c'))] = res"
   ]
  },
  {
   "cell_type": "code",
   "execution_count": 19,
   "metadata": {},
   "outputs": [
    {
     "data": {
      "text/latex": [
       "$\\displaystyle \\left[\\begin{matrix}\\left[\\begin{matrix}0 & 0\\\\0 & - r\\end{matrix}\\right] & \\left[\\begin{matrix}0 & \\frac{1}{r}\\\\\\frac{1}{r} & 0\\end{matrix}\\right]\\end{matrix}\\right]$"
      ],
      "text/plain": [
       "[[[0, 0], [0, -r]], [[0, 1/r], [1/r, 0]]]"
      ]
     },
     "execution_count": 19,
     "metadata": {},
     "output_type": "execute_result"
    }
   ],
   "source": [
    "a.components"
   ]
  },
  {
   "cell_type": "code",
   "execution_count": null,
   "metadata": {},
   "outputs": [],
   "source": [
    "\n",
    "    "
   ]
  }
 ],
 "metadata": {
  "interpreter": {
   "hash": "aee8b7b246df8f9039afb4144a1f6fd8d2ca17a180786b69acc140d282b71a49"
  },
  "kernelspec": {
   "display_name": "Python 3.11.1 64-bit",
   "language": "python",
   "name": "python3"
  },
  "language_info": {
   "codemirror_mode": {
    "name": "ipython",
    "version": 3
   },
   "file_extension": ".py",
   "mimetype": "text/x-python",
   "name": "python",
   "nbconvert_exporter": "python",
   "pygments_lexer": "ipython3",
   "version": "3.11.1"
  },
  "orig_nbformat": 4
 },
 "nbformat": 4,
 "nbformat_minor": 2
}
