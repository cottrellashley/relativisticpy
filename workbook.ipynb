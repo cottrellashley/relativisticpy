{
 "cells": [
  {
   "cell_type": "code",
   "execution_count": 11,
   "metadata": {},
   "outputs": [],
   "source": [
    "from relativisticpy.core.indices import Indices, Idx\n",
    "from relativisticpy.gr.metric import Metric, MetricIndices\n",
    "from relativisticpy.gr.derivative import Derivative\n",
    "from relativisticpy.gr.connection import Connection\n",
    "from relativisticpy.providers import SymbolArray, transpose_list, tensor_trace_product\n",
    "from itertools import product\n",
    "from operator import itemgetter\n",
    "from relativisticpy.core import MultiIndexObject\n",
    "import re\n",
    "getattr()"
   ]
  },
  {
   "cell_type": "code",
   "execution_count": 33,
   "metadata": {},
   "outputs": [
    {
     "data": {
      "text/plain": [
       "'as'"
      ]
     },
     "execution_count": 33,
     "metadata": {},
     "output_type": "execute_result"
    }
   ],
   "source": [
    "tst1 = Indices(Idx('a'), -Idx('b'), -Idx('l'))\n",
    "tst2 = Indices(-Idx('c'), Idx('f'), Idx('a'))\n",
    "\n",
    "a = {'as':0}\n",
    "\n",
    "list(a.keys()).pop()\n",
    "\n"
   ]
  },
  {
   "cell_type": "code",
   "execution_count": 34,
   "metadata": {},
   "outputs": [
    {
     "data": {
      "text/plain": [
       "{'as': 0}"
      ]
     },
     "execution_count": 34,
     "metadata": {},
     "output_type": "execute_result"
    }
   ],
   "source": [
    "a"
   ]
  },
  {
   "cell_type": "code",
   "execution_count": 5,
   "metadata": {},
   "outputs": [
    {
     "ename": "AttributeError",
     "evalue": "'Metric' object has no attribute 'metric_contraction'",
     "output_type": "error",
     "traceback": [
      "\u001b[0;31m---------------------------------------------------------------------------\u001b[0m",
      "\u001b[0;31mAttributeError\u001b[0m                            Traceback (most recent call last)",
      "Cell \u001b[0;32mIn[5], line 3\u001b[0m\n\u001b[1;32m      1\u001b[0m met \u001b[38;5;241m=\u001b[39m Metric\u001b[38;5;241m.\u001b[39mfrom_string(components\u001b[38;5;241m=\u001b[39m\u001b[38;5;124m'\u001b[39m\u001b[38;5;124m[[1, 0], [0, r**2]]\u001b[39m\u001b[38;5;124m'\u001b[39m, basis \u001b[38;5;241m=\u001b[39m \u001b[38;5;124m'\u001b[39m\u001b[38;5;124m[t, r]\u001b[39m\u001b[38;5;124m'\u001b[39m, indices\u001b[38;5;241m=\u001b[39m\u001b[38;5;124m'\u001b[39m\u001b[38;5;124m_\u001b[39m\u001b[38;5;132;01m{a}\u001b[39;00m\u001b[38;5;124m_\u001b[39m\u001b[38;5;132;01m{b}\u001b[39;00m\u001b[38;5;124m'\u001b[39m)\n\u001b[1;32m      2\u001b[0m tst \u001b[38;5;241m=\u001b[39m MultiIndexObject\u001b[38;5;241m.\u001b[39mfrom_string(components\u001b[38;5;241m=\u001b[39m\u001b[38;5;124m'\u001b[39m\u001b[38;5;124m[[1, 1], [1, r**2]]\u001b[39m\u001b[38;5;124m'\u001b[39m, basis \u001b[38;5;241m=\u001b[39m \u001b[38;5;124m'\u001b[39m\u001b[38;5;124m[t, r]\u001b[39m\u001b[38;5;124m'\u001b[39m, indices\u001b[38;5;241m=\u001b[39m\u001b[38;5;124m'\u001b[39m\u001b[38;5;124m_\u001b[39m\u001b[38;5;132;01m{a}\u001b[39;00m\u001b[38;5;124m_\u001b[39m\u001b[38;5;132;01m{b}\u001b[39;00m\u001b[38;5;124m'\u001b[39m)\n\u001b[0;32m----> 3\u001b[0m \u001b[43mmet\u001b[49m\u001b[38;5;241;43m.\u001b[39;49m\u001b[43mmetric_contraction\u001b[49m(met, \u001b[38;5;241m0\u001b[39m)\n",
      "\u001b[0;31mAttributeError\u001b[0m: 'Metric' object has no attribute 'metric_contraction'"
     ]
    }
   ],
   "source": [
    "met = Metric.from_string(components='[[1, 0], [0, r**2]]', basis = '[t, r]', indices='_{a}_{b}')\n",
    "tst = MultiIndexObject.from_string(components='[[1, 1], [1, r**2]]', basis = '[t, r]', indices='_{a}_{b}')\n",
    "met.metric_contraction(met, 0)"
   ]
  },
  {
   "cell_type": "code",
   "execution_count": 17,
   "metadata": {},
   "outputs": [
    {
     "data": {
      "text/latex": [
       "$\\displaystyle \\left[\\begin{matrix}5 & 4\\\\4 & 4\\end{matrix}\\right]$"
      ],
      "text/plain": [
       "[[5, 4], [4, 4]]"
      ]
     },
     "execution_count": 17,
     "metadata": {},
     "output_type": "execute_result"
    }
   ],
   "source": [
    "# Problem statement: \n",
    "# 1. I have a tensor of arbritrary rank, I need to perform a summation with the metric tensor on a perticular index.\n",
    "# This should be property the metric tensor can perform, it will eat the tensor it will sum with and the index location of the tensor of which to sum: \n",
    "# The metric order does not matter as it has to be symmetric by definition \n",
    "\n",
    "a = SymbolArray([[1,0], [2,2]])\n",
    "b = SymbolArray([[1,0], [2,2]])\n",
    "\n",
    "tensor_trace_product(a, b, [[0,0]])\n",
    "\n"
   ]
  },
  {
   "cell_type": "code",
   "execution_count": 46,
   "metadata": {},
   "outputs": [],
   "source": [
    "def is_repr_a(arg: str): return bool(re.search(\"^((\\^|\\_)(\\{)(\\}))+$\", re.sub('[^\\^^\\_^\\{^\\}]',\"\", arg).replace(\" \",''))) if isinstance(arg, str) else False\n",
    "def is_running(arg: str): return not bool(re.search('^[^=]*(\\:)([0-9]+)[^=]*$', arg))\n",
    "def get_symbol(arg: str): return re.search(r'[a-zA-Z]+', arg).group() if re.search(r'[a-zA-Z]+', arg) else None\n",
    "def get_values(arg: str): return re.search(r'[0-9]+', arg).group() if re.search(r'[0-9]+', arg) else None\n",
    "def covariant(arg: str): return arg[0] == '_' if isinstance(arg, str) else True # Always default to coveriant\n",
    "def split(arg: str): return [item for item in re.split('(?=[_^])', arg) if item] if is_repr_a(arg) else arg\n",
    "def descerialize(arg: str): return Indices(*[Idx(symbol = get_symbol(i), covariant=covariant(i), values=int(get_values(i)) if not is_running(i) else None) for i in split(arg)]) if is_repr_a(arg) else None"
   ]
  },
  {
   "cell_type": "code",
   "execution_count": null,
   "metadata": {},
   "outputs": [],
   "source": []
  }
 ],
 "metadata": {
  "interpreter": {
   "hash": "aee8b7b246df8f9039afb4144a1f6fd8d2ca17a180786b69acc140d282b71a49"
  },
  "kernelspec": {
   "display_name": "Python 3.11.1 64-bit",
   "language": "python",
   "name": "python3"
  },
  "language_info": {
   "codemirror_mode": {
    "name": "ipython",
    "version": 3
   },
   "file_extension": ".py",
   "mimetype": "text/x-python",
   "name": "python",
   "nbconvert_exporter": "python",
   "pygments_lexer": "ipython3",
   "version": "3.9.13"
  },
  "orig_nbformat": 4
 },
 "nbformat": 4,
 "nbformat_minor": 2
}
