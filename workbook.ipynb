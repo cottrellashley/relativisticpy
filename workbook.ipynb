{
 "cells": [
  {
   "cell_type": "code",
   "execution_count": 1,
   "metadata": {},
   "outputs": [],
   "source": [
    "from relativisticpy.workbook.frontends.sympify.sympify import Sympify\n",
    "from sympy import NDimArray, Symbol, MutableDenseNDimArray\n",
    "from relativisticpy.core.indices import Indices, Idx\n",
    "from relativisticpy.core.multi_index_obj import MultiIndexObject\n",
    "from relativisticpy.gr.metric import Metric, MetricIndices\n",
    "from relativisticpy.gr.derivative import Derivative\n",
    "from relativisticpy.gr.connection import Connection\n",
    "from itertools import product, combinations"
   ]
  },
  {
   "cell_type": "code",
   "execution_count": 2,
   "metadata": {},
   "outputs": [],
   "source": [
    "metric_comps = Sympify.prs('[[1, 0], [0, r**2]]')\n",
    "inv_metric_comps = Sympify.prs('[[1, 0], [0, 1/(r**2)]]')\n",
    "metric_basis = Sympify.prs('[r, theta]')\n",
    "g_ab = Metric(metric_comps, MetricIndices(Idx('a'), Idx('b')), metric_basis)\n",
    "g_bc = Metric(metric_comps, MetricIndices(Idx('b'), Idx('c')), metric_basis)\n",
    "g_be = Metric(metric_comps, MetricIndices(Idx('b'), Idx('e')), metric_basis)\n",
    "g_ec = Metric(metric_comps, MetricIndices(Idx('e'), Idx('c')), metric_basis)\n",
    "d_e = Derivative(Indices(Idx('e')))\n",
    "d_c = Derivative(Indices(Idx('c')))\n",
    "d_b = Derivative(Indices(Idx('b')))\n"
   ]
  },
  {
   "cell_type": "code",
   "execution_count": null,
   "metadata": {},
   "outputs": [],
   "source": []
  },
  {
   "cell_type": "code",
   "execution_count": 3,
   "metadata": {},
   "outputs": [
    {
     "data": {
      "text/plain": [
       "(_b  , _e  , _c  )"
      ]
     },
     "execution_count": 3,
     "metadata": {},
     "output_type": "execute_result"
    }
   ],
   "source": [
    "(d_b*(-1*g_ec) + d_c*g_be + d_e*g_bc).indices.indices # Fix => if user specifies the resulting indices then we can just map them as specified"
   ]
  },
  {
   "cell_type": "code",
   "execution_count": 4,
   "metadata": {},
   "outputs": [
    {
     "data": {
      "text/plain": [
       "(_c  , _b  , _e  )"
      ]
     },
     "execution_count": 4,
     "metadata": {},
     "output_type": "execute_result"
    }
   ],
   "source": [
    "(d_c*g_be + d_e*g_bc + d_b*(-1*g_ec)).indices.indices # Fix => if user specifies the resulting indices then we can just map them as specified"
   ]
  },
  {
   "cell_type": "code",
   "execution_count": 5,
   "metadata": {},
   "outputs": [
    {
     "data": {
      "text/plain": [
       "(^a  , _e  , _c  )"
      ]
     },
     "execution_count": 5,
     "metadata": {},
     "output_type": "execute_result"
    }
   ],
   "source": [
    "d = g_ab.inv*(d_b*(-g_ec))\n",
    "d.indices.indices"
   ]
  },
  {
   "cell_type": "code",
   "execution_count": 6,
   "metadata": {},
   "outputs": [
    {
     "data": {
      "text/latex": [
       "$\\displaystyle \\left[\\begin{matrix}\\left[\\begin{matrix}0 & 0\\\\0 & \\frac{1}{r}\\end{matrix}\\right] & \\left[\\begin{matrix}0 & r\\\\\\frac{1}{r} & 0\\end{matrix}\\right]\\end{matrix}\\right]$"
      ],
      "text/plain": [
       "[[[0, 0], [0, 1/r]], [[0, r], [1/r, 0]]]"
      ]
     },
     "execution_count": 6,
     "metadata": {},
     "output_type": "execute_result"
    }
   ],
   "source": [
    "res = (g_ab.inv*(d_c*g_be + d_e*g_bc + d_b*(-1*g_ec)))/2\n",
    "res.components"
   ]
  },
  {
   "cell_type": "code",
   "execution_count": 7,
   "metadata": {},
   "outputs": [
    {
     "data": {
      "text/latex": [
       "$\\displaystyle \\left[\\begin{matrix}\\left[\\begin{matrix}0 & 0\\\\0 & 0\\end{matrix}\\right] & \\left[\\begin{matrix}0 & 0\\\\0 & 0\\end{matrix}\\right]\\end{matrix}\\right]$"
      ],
      "text/plain": [
       "[[[0, 0], [0, 0]], [[0, 0], [0, 0]]]"
      ]
     },
     "execution_count": 7,
     "metadata": {},
     "output_type": "execute_result"
    }
   ],
   "source": [
    "a = Connection(Indices(-Idx('e'), Idx('a'), Idx('c')))\n",
    "a.components"
   ]
  },
  {
   "cell_type": "code",
   "execution_count": 8,
   "metadata": {},
   "outputs": [
    {
     "name": "stdout",
     "output_type": "stream",
     "text": [
      "hello\n"
     ]
    },
    {
     "ename": "TypeError",
     "evalue": "Connection.__init__() takes from 2 to 3 positional arguments but 4 were given",
     "output_type": "error",
     "traceback": [
      "\u001b[0;31m---------------------------------------------------------------------------\u001b[0m",
      "\u001b[0;31mTypeError\u001b[0m                                 Traceback (most recent call last)",
      "Cell \u001b[0;32mIn[8], line 1\u001b[0m\n\u001b[0;32m----> 1\u001b[0m \u001b[43ma\u001b[49m\u001b[43m[\u001b[49m\u001b[43mIndices\u001b[49m\u001b[43m(\u001b[49m\u001b[38;5;241;43m-\u001b[39;49m\u001b[43mIdx\u001b[49m\u001b[43m(\u001b[49m\u001b[38;5;124;43m'\u001b[39;49m\u001b[38;5;124;43ma\u001b[39;49m\u001b[38;5;124;43m'\u001b[39;49m\u001b[43m)\u001b[49m\u001b[43m,\u001b[49m\u001b[43m \u001b[49m\u001b[43mIdx\u001b[49m\u001b[43m(\u001b[49m\u001b[38;5;124;43m'\u001b[39;49m\u001b[38;5;124;43me\u001b[39;49m\u001b[38;5;124;43m'\u001b[39;49m\u001b[43m)\u001b[49m\u001b[43m,\u001b[49m\u001b[43m \u001b[49m\u001b[43mIdx\u001b[49m\u001b[43m(\u001b[49m\u001b[38;5;124;43m'\u001b[39;49m\u001b[38;5;124;43mc\u001b[39;49m\u001b[38;5;124;43m'\u001b[39;49m\u001b[43m)\u001b[49m\u001b[43m)\u001b[49m\u001b[43m]\u001b[49m \u001b[38;5;241m=\u001b[39m res\n",
      "File \u001b[0;32m~/code/repositories/relativisticpy/relativisticpy/core/decorators.py:55\u001b[0m, in \u001b[0;36meinstein_convention.<locals>.setitem\u001b[0;34m(self, indices, other_expr)\u001b[0m\n\u001b[1;32m     <a href='file:///Users/ashleycottrell/code/repositories/relativisticpy/relativisticpy/core/decorators.py?line=52'>53</a>\u001b[0m     \u001b[39mfor\u001b[39;00m idxa, idxb  \u001b[39min\u001b[39;00m \u001b[39mall\u001b[39m:\n\u001b[1;32m     <a href='file:///Users/ashleycottrell/code/repositories/relativisticpy/relativisticpy/core/decorators.py?line=53'>54</a>\u001b[0m         MutableDenseNDimArray(\u001b[39mself\u001b[39m\u001b[39m.\u001b[39mcomponents)[idxa] \u001b[39m=\u001b[39m other_expr\u001b[39m.\u001b[39mcomponents[idxb]\n\u001b[0;32m---> <a href='file:///Users/ashleycottrell/code/repositories/relativisticpy/relativisticpy/core/decorators.py?line=54'>55</a>\u001b[0m     \u001b[39mreturn\u001b[39;00m \u001b[39mcls\u001b[39;49m(\u001b[39mself\u001b[39;49m\u001b[39m.\u001b[39;49mcomponents, indices, other_expr\u001b[39m.\u001b[39;49mbasis)\n\u001b[1;32m     <a href='file:///Users/ashleycottrell/code/repositories/relativisticpy/relativisticpy/core/decorators.py?line=55'>56</a>\u001b[0m \u001b[39melif\u001b[39;00m \u001b[39misinstance\u001b[39m(other_expr, \u001b[39mcls\u001b[39m) \u001b[39mand\u001b[39;00m other_expr\u001b[39m.\u001b[39mshape \u001b[39m==\u001b[39m \u001b[39mself\u001b[39m\u001b[39m.\u001b[39mcomponents\u001b[39m.\u001b[39mshape:\n\u001b[1;32m     <a href='file:///Users/ashleycottrell/code/repositories/relativisticpy/relativisticpy/core/decorators.py?line=56'>57</a>\u001b[0m     \u001b[39mfor\u001b[39;00m idxa \u001b[39min\u001b[39;00m \u001b[39mself\u001b[39m\u001b[39m.\u001b[39mindices:\n",
      "\u001b[0;31mTypeError\u001b[0m: Connection.__init__() takes from 2 to 3 positional arguments but 4 were given"
     ]
    }
   ],
   "source": [
    "a[Indices(-Idx('a'), Idx('e'), Idx('c'))] = res"
   ]
  },
  {
   "cell_type": "code",
   "execution_count": 9,
   "metadata": {},
   "outputs": [
    {
     "data": {
      "text/plain": [
       "sympy.tensor.array.dense_ndim_array.MutableDenseNDimArray"
      ]
     },
     "execution_count": 9,
     "metadata": {},
     "output_type": "execute_result"
    }
   ],
   "source": [
    "a.components"
   ]
  },
  {
   "cell_type": "code",
   "execution_count": 10,
   "metadata": {},
   "outputs": [
    {
     "data": {
      "text/plain": [
       "[[0], [1], [2]]"
      ]
     },
     "execution_count": 10,
     "metadata": {},
     "output_type": "execute_result"
    }
   ],
   "source": [
    "Indices(-Idx('e'), Idx('a'), Idx('c'))._get_all_repeated_location(Indices(Idx('a'), -Idx('e'), Idx('c')))"
   ]
  },
  {
   "cell_type": "code",
   "execution_count": 6,
   "metadata": {},
   "outputs": [
    {
     "data": {
      "text/latex": [
       "$\\displaystyle \\left[\\begin{matrix}\\left[\\begin{matrix}0 & 0\\\\0 & - r\\end{matrix}\\right] & \\left[\\begin{matrix}0 & \\frac{1}{r}\\\\\\frac{1}{r} & 0\\end{matrix}\\right]\\end{matrix}\\right]$"
      ],
      "text/plain": [
       "[[[0, 0], [0, -r]], [[0, 1/r], [1/r, 0]]]"
      ]
     },
     "execution_count": 6,
     "metadata": {},
     "output_type": "execute_result"
    }
   ],
   "source": [
    "Connection(g_ab, Indices(-Idx('e'), Idx('a'), Idx('c')))"
   ]
  },
  {
   "cell_type": "code",
   "execution_count": 2,
   "metadata": {},
   "outputs": [],
   "source": [
    "basis = Sympify.prs('[t, r]')\n",
    "component = Sympify.prs('[[1, 0], [0, r**2]]')\n",
    "mtr = MetricIndices(-Idx('a'), -Idx('f'))\n",
    "idcs = Indices(Idx('s'))\n",
    "metric = Metric(component, mtr, basis)\n",
    "d = Derivative(basis, idcs)"
   ]
  },
  {
   "cell_type": "code",
   "execution_count": 3,
   "metadata": {},
   "outputs": [],
   "source": [
    "ind_A = Indices(Idx('a'),  Idx('b'))\n",
    "ind_D = Indices(Idx('a'), Idx('b'), Idx('c'), Idx('f'))\n",
    "ind_B = Indices(-Idx('a'), -Idx('b'))\n",
    "ind_C = Indices(Idx('a'), Idx('f'))"
   ]
  },
  {
   "cell_type": "code",
   "execution_count": 10,
   "metadata": {},
   "outputs": [],
   "source": [
    "tensor_a = MultiIndexObject(component, Indices(Idx('c'), Idx('b')), basis)\n",
    "tensor_b = MultiIndexObject(basis, Indices(Idx('a')), basis)\n",
    "an = d * tensor_a"
   ]
  },
  {
   "cell_type": "code",
   "execution_count": 11,
   "metadata": {},
   "outputs": [
    {
     "data": {
      "text/latex": [
       "$\\displaystyle \\left[\\begin{matrix}\\left[\\begin{matrix}0 & 0\\\\0 & 0\\end{matrix}\\right] & \\left[\\begin{matrix}0 & 0\\\\0 & 2 r\\end{matrix}\\right]\\end{matrix}\\right]$"
      ],
      "text/plain": [
       "[[[0, 0], [0, 0]], [[0, 0], [0, 2*r]]]"
      ]
     },
     "execution_count": 11,
     "metadata": {},
     "output_type": "execute_result"
    }
   ],
   "source": [
    "an.components"
   ]
  },
  {
   "cell_type": "code",
   "execution_count": 24,
   "metadata": {},
   "outputs": [],
   "source": [
    "Indices(Idx('a'), Idx('b')).find(-Idx('a'))"
   ]
  },
  {
   "cell_type": "code",
   "execution_count": 25,
   "metadata": {},
   "outputs": [
    {
     "name": "stdout",
     "output_type": "stream",
     "text": [
      "Decorator arguments: hello, world\n",
      "Inside my_method Test\n"
     ]
    }
   ],
   "source": [
    "def method_decorator(arg1, arg2):\n",
    "    def actual_decorator(func):\n",
    "        def wrapper(self, *args, **kwargs):\n",
    "            print(f\"Decorator arguments: {arg1}, {arg2}\")\n",
    "            return func(self, *args, **kwargs)\n",
    "        return wrapper\n",
    "    return actual_decorator\n",
    "\n",
    "class MyClass:\n",
    "    @method_decorator(\"hello\", \"world\")\n",
    "    def my_method(self, h):\n",
    "        print(f\"Inside my_method {h}\")\n",
    "\n",
    "obj = MyClass()\n",
    "obj.my_method('Test')\n",
    "# Output:\n",
    "# Decorator arguments: hello, world\n",
    "# Inside my_method\n",
    "\n"
   ]
  },
  {
   "cell_type": "code",
   "execution_count": 26,
   "metadata": {},
   "outputs": [
    {
     "data": {
      "text/plain": [
       "[x, y]"
      ]
     },
     "execution_count": 26,
     "metadata": {},
     "output_type": "execute_result"
    }
   ],
   "source": [
    "[i for i in NDimArray([Symbol('x'), Symbol('y')])]"
   ]
  },
  {
   "cell_type": "code",
   "execution_count": 6,
   "metadata": {},
   "outputs": [
    {
     "name": "stdout",
     "output_type": "stream",
     "text": [
      "<coroutine object MultiIndexBase.einsum_product.<locals>.generator at 0x10a5b1030>\n",
      "<coroutine object MultiIndexBase.einsum_product.<locals>.generator at 0x10a5b1140>\n",
      "<coroutine object MultiIndexBase.einsum_product.<locals>.generator at 0x10a5b1030>\n",
      "<coroutine object MultiIndexBase.einsum_product.<locals>.generator at 0x10a5b1140>\n"
     ]
    },
    {
     "name": "stderr",
     "output_type": "stream",
     "text": [
      "/var/folders/1g/_127qcc13ll334lvd9yl9vdc0000gn/T/ipykernel_71465/2336363028.py:22: RuntimeWarning: coroutine 'MultiIndexBase.einsum_product.<locals>.generator' was never awaited\n",
      "  async for gen in generate():\n",
      "RuntimeWarning: Enable tracemalloc to get the object allocation traceback\n"
     ]
    }
   ],
   "source": [
    "class AsyncCounter:\n",
    "    def __init__(self, limit):\n",
    "        self.limit = limit\n",
    "        self.count = 0\n",
    "\n",
    "    def __aiter__(self):\n",
    "        return self\n",
    "\n",
    "    async def __anext__(self):\n",
    "        if self.count < self.limit:\n",
    "            i = self.count\n",
    "            self.count += 1\n",
    "            return i\n",
    "        else:\n",
    "            raise StopAsyncIteration\n",
    "\n",
    "async def generate():\n",
    "    async for i in AsyncCounter(4):\n",
    "        yield ind_B.einsum_product(ind_A).generator([i])\n",
    "\n",
    "# usage\n",
    "async for gen in generate():\n",
    "    print(gen)\n"
   ]
  },
  {
   "cell_type": "code",
   "execution_count": 15,
   "metadata": {},
   "outputs": [
    {
     "name": "stdout",
     "output_type": "stream",
     "text": [
      "Number of instances created:  3\n"
     ]
    }
   ],
   "source": [
    "class MyClass:\n",
    "    count = 0  # this is a class variable\n",
    "\n",
    "    def __init__(self):\n",
    "        MyClass.count += 1  # increment the count when a new instance is created\n",
    "\n",
    "    @classmethod\n",
    "    def print_count(cls):  # cls refers to the class MyClass\n",
    "        print(\"Number of instances created: \", cls.count)\n",
    "\n",
    "\n",
    "# Create instances\n",
    "a = MyClass()\n",
    "b = MyClass()\n",
    "c = MyClass()\n",
    "\n",
    "# Call class method\n",
    "MyClass.print_count()  # prints \"Number of instances created:  3\"\n"
   ]
  },
  {
   "cell_type": "code",
   "execution_count": 7,
   "metadata": {},
   "outputs": [
    {
     "name": "stdout",
     "output_type": "stream",
     "text": [
      "Args: ('a',)\n",
      "Kwargs: {'a': 'v'}\n"
     ]
    },
    {
     "ename": "TypeError",
     "evalue": "MyClass.__init__() got multiple values for argument 'a'",
     "output_type": "error",
     "traceback": [
      "\u001b[0;31m---------------------------------------------------------------------------\u001b[0m",
      "\u001b[0;31mTypeError\u001b[0m                                 Traceback (most recent call last)",
      "Cell \u001b[0;32mIn[7], line 11\u001b[0m\n\u001b[1;32m      8\u001b[0m         \u001b[38;5;28mself\u001b[39m\u001b[38;5;241m.\u001b[39ma \u001b[38;5;241m=\u001b[39m a\n\u001b[1;32m      9\u001b[0m         \u001b[38;5;28mself\u001b[39m\u001b[38;5;241m.\u001b[39mb \u001b[38;5;241m=\u001b[39m b\n\u001b[0;32m---> 11\u001b[0m \u001b[43mMyClass\u001b[49m\u001b[43m(\u001b[49m\u001b[38;5;124;43m'\u001b[39;49m\u001b[38;5;124;43ma\u001b[39;49m\u001b[38;5;124;43m'\u001b[39;49m\u001b[43m,\u001b[49m\u001b[43m \u001b[49m\u001b[43ma\u001b[49m\u001b[43m \u001b[49m\u001b[38;5;241;43m=\u001b[39;49m\u001b[43m \u001b[49m\u001b[38;5;124;43m'\u001b[39;49m\u001b[38;5;124;43mv\u001b[39;49m\u001b[38;5;124;43m'\u001b[39;49m\u001b[43m)\u001b[49m\n",
      "\u001b[0;31mTypeError\u001b[0m: MyClass.__init__() got multiple values for argument 'a'"
     ]
    }
   ],
   "source": [
    "class MyClass:\n",
    "    def __new__(cls, *args, **kwargs):\n",
    "        print(f\"Args: {args}\")\n",
    "        print(f\"Kwargs: {kwargs}\")\n",
    "        return super().__new__(cls)\n",
    "\n",
    "    def __init__(self, a, b):\n",
    "        self.a = a\n",
    "        self.b = b\n",
    "\n",
    "MyClass('a', a = 'v')"
   ]
  },
  {
   "cell_type": "code",
   "execution_count": 11,
   "metadata": {},
   "outputs": [
    {
     "data": {
      "text/plain": [
       "True"
      ]
     },
     "execution_count": 11,
     "metadata": {},
     "output_type": "execute_result"
    }
   ],
   "source": [
    "'a' in {'a' : 'b'}.keys()"
   ]
  },
  {
   "cell_type": "code",
   "execution_count": 9,
   "metadata": {},
   "outputs": [
    {
     "ename": "NameError",
     "evalue": "name 'p' is not defined",
     "output_type": "error",
     "traceback": [
      "\u001b[0;31m---------------------------------------------------------------------------\u001b[0m",
      "\u001b[0;31mNameError\u001b[0m                                 Traceback (most recent call last)",
      "Cell \u001b[0;32mIn[9], line 1\u001b[0m\n\u001b[0;32m----> 1\u001b[0m [\u001b[38;5;28mdir\u001b[39m(i) \u001b[38;5;28;01mfor\u001b[39;00m i \u001b[38;5;129;01min\u001b[39;00m \u001b[43mp\u001b[49m]\n",
      "\u001b[0;31mNameError\u001b[0m: name 'p' is not defined"
     ]
    }
   ],
   "source": [
    "[dir(i) for i in p]"
   ]
  },
  {
   "cell_type": "code",
   "execution_count": 10,
   "metadata": {},
   "outputs": [],
   "source": []
  },
  {
   "cell_type": "code",
   "execution_count": 11,
   "metadata": {},
   "outputs": [
    {
     "data": {
      "text/plain": [
       "[True, False, False, False]"
      ]
     },
     "execution_count": 11,
     "metadata": {},
     "output_type": "execute_result"
    }
   ],
   "source": [
    "lst = [True, False, True, False, False]\n",
    "\n",
    "del lst[2]\n",
    "lst"
   ]
  },
  {
   "cell_type": "code",
   "execution_count": 12,
   "metadata": {},
   "outputs": [
    {
     "ename": "AttributeError",
     "evalue": "'SingleIndex' object has no attribute 'indices'",
     "output_type": "error",
     "traceback": [
      "\u001b[0;31m---------------------------------------------------------------------------\u001b[0m",
      "\u001b[0;31mAttributeError\u001b[0m                            Traceback (most recent call last)",
      "Cell \u001b[0;32mIn[12], line 1\u001b[0m\n\u001b[0;32m----> 1\u001b[0m [A[i]\u001b[38;5;241m*\u001b[39mB[j] \u001b[38;5;28;01mfor\u001b[39;00m (i, j) \u001b[38;5;129;01min\u001b[39;00m \u001b[43mA\u001b[49m\u001b[38;5;241;43m.\u001b[39;49m\u001b[43mindices\u001b[49m \u001b[38;5;241m*\u001b[39m B\u001b[38;5;241m.\u001b[39mindices]\n\u001b[1;32m      3\u001b[0m \u001b[38;5;66;03m# 1. The indices.__mul__(indices) return an iterable object [( (n1,n2),(1m,m2) ), ( (n3,n4),(m3, m4) ), ... ]\u001b[39;00m\n",
      "\u001b[0;31mAttributeError\u001b[0m: 'SingleIndex' object has no attribute 'indices'"
     ]
    }
   ],
   "source": [
    "[A[i]*B[j] for (i, j) in A.indices * B.indices]\n",
    "\n",
    "# 1. The indices.__mul__(indices) return an iterable object [( (n1,n2),(1m,m2) ), ( (n3,n4),(m3, m4) ), ... ]"
   ]
  },
  {
   "cell_type": "code",
   "execution_count": 97,
   "metadata": {},
   "outputs": [],
   "source": [
    "import itertools as it\n",
    "\n",
    "class Index:\n",
    "\n",
    "    def __init__(self, id, dim):\n",
    "        self.dim = dim\n",
    "        self.id = id\n",
    "        self.cov = True\n",
    "\n",
    "    def __neg__(self):\n",
    "        self.cov = not self.cov\n",
    "        return self\n",
    "\n",
    "    def __iter__(self):\n",
    "        self.__i = 0\n",
    "        return self\n",
    "    \n",
    "    def __len__(self):\n",
    "        return self.dim\n",
    "\n",
    "    def __next__(self):\n",
    "        if self.__i < self.dim:\n",
    "            x = self.__i\n",
    "            self.__i += 1\n",
    "            return Index(self.id, x)\n",
    "        else:\n",
    "            raise StopIteration\n",
    "\n",
    "class Indices:\n",
    "\n",
    "    def __init__(self, indices):\n",
    "        self.indices = indices\n",
    "\n",
    "    def indices_iterator(self):\n",
    "        return list(it.product(*[range(i + 1) for i in (len(i) for i in self.indices)]))\n",
    "\n",
    "    def __iter__(self):\n",
    "        self.__length = int(len(self.indices_iterator()))\n",
    "        self.__i = 1\n",
    "        return self\n",
    "\n",
    "    def __next__(self):\n",
    "        if self.__i <= self.__length:\n",
    "            x = self.__i\n",
    "            self.__i += 1\n",
    "            return self.indices_iterator()[x-1]\n",
    "        else:\n",
    "            raise StopIteration\n",
    "\n",
    "    def __mul__(self, other):\n",
    "        self.self_sum_locations = []\n",
    "        self.other_sum_locations = []\n",
    "        [(i, j) for (i, j) in (other, self)]\n",
    "\n"
   ]
  },
  {
   "cell_type": "code",
   "execution_count": 102,
   "metadata": {},
   "outputs": [
    {
     "data": {
      "text/plain": [
       "[(0, 0),\n",
       " (0, 1),\n",
       " (0, 2),\n",
       " (0, 3),\n",
       " (1, 0),\n",
       " (1, 1),\n",
       " (1, 2),\n",
       " (1, 3),\n",
       " (2, 0),\n",
       " (2, 1),\n",
       " (2, 2),\n",
       " (2, 3),\n",
       " (3, 0),\n",
       " (3, 1),\n",
       " (3, 2),\n",
       " (3, 3)]"
      ]
     },
     "execution_count": 102,
     "metadata": {},
     "output_type": "execute_result"
    }
   ],
   "source": [
    "operator.add"
   ]
  },
  {
   "cell_type": "code",
   "execution_count": 93,
   "metadata": {},
   "outputs": [
    {
     "name": "stdout",
     "output_type": "stream",
     "text": [
      "(0, 0)\n",
      "(0, 1)\n",
      "(0, 2)\n",
      "(1, 0)\n",
      "(1, 1)\n",
      "(1, 2)\n",
      "(2, 0)\n",
      "(2, 1)\n",
      "(2, 2)\n"
     ]
    }
   ],
   "source": [
    "import itertools\n",
    "\n",
    "def generate_combinations(t):\n",
    "    # Create a range for each value in the tuple\n",
    "    ranges = [range(i + 1) for i in t]\n",
    "    # Use itertools.product to generate combinations\n",
    "    return list(itertools.product(*[range(i + 1) for i in t]))\n"
   ]
  },
  {
   "cell_type": "code",
   "execution_count": null,
   "metadata": {},
   "outputs": [],
   "source": []
  },
  {
   "cell_type": "code",
   "execution_count": 13,
   "metadata": {},
   "outputs": [],
   "source": [
    "a = Value(4)\n",
    "b = Value(8)"
   ]
  },
  {
   "cell_type": "code",
   "execution_count": 14,
   "metadata": {},
   "outputs": [],
   "source": [
    "c = b*a"
   ]
  },
  {
   "cell_type": "code",
   "execution_count": 15,
   "metadata": {},
   "outputs": [
    {
     "data": {
      "text/plain": [
       "12"
      ]
     },
     "execution_count": 15,
     "metadata": {},
     "output_type": "execute_result"
    }
   ],
   "source": [
    "a.value"
   ]
  },
  {
   "cell_type": "code",
   "execution_count": 75,
   "metadata": {},
   "outputs": [
    {
     "data": {
      "text/plain": [
       "[('a', 'A'),\n",
       " ('a', 'B'),\n",
       " ('a', 'C'),\n",
       " ('b', 'A'),\n",
       " ('b', 'B'),\n",
       " ('b', 'C'),\n",
       " ('c', 'A'),\n",
       " ('c', 'B'),\n",
       " ('c', 'C')]"
      ]
     },
     "execution_count": 75,
     "metadata": {},
     "output_type": "execute_result"
    }
   ],
   "source": [
    "[(i, j) for i, j in product(['a', 'b', 'c'], ['A', 'B', 'C'])]"
   ]
  },
  {
   "cell_type": "code",
   "execution_count": null,
   "metadata": {},
   "outputs": [],
   "source": []
  }
 ],
 "metadata": {
  "interpreter": {
   "hash": "aee8b7b246df8f9039afb4144a1f6fd8d2ca17a180786b69acc140d282b71a49"
  },
  "kernelspec": {
   "display_name": "Python 3.11.1 64-bit",
   "language": "python",
   "name": "python3"
  },
  "language_info": {
   "codemirror_mode": {
    "name": "ipython",
    "version": 3
   },
   "file_extension": ".py",
   "mimetype": "text/x-python",
   "name": "python",
   "nbconvert_exporter": "python",
   "pygments_lexer": "ipython3",
   "version": "3.11.1"
  },
  "orig_nbformat": 4
 },
 "nbformat": 4,
 "nbformat_minor": 2
}
