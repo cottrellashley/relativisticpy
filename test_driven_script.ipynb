{
 "cells": [
  {
   "cell_type": "code",
   "execution_count": 1,
   "metadata": {},
   "outputs": [],
   "source": [
    "from sympy import NDimArray, Symbol, MutableDenseNDimArray\n",
    "from relativisticpy import Sympify, Indices, Idx, MultiIndexObject, Metric, MetricIndices, Derivative\n",
    "from itertools import product, combinations"
   ]
  },
  {
   "cell_type": "code",
   "execution_count": 2,
   "metadata": {},
   "outputs": [],
   "source": [
    "_c = MultiIndexObject(Sympify.prs('[1, r**2]'), Indices(Idx('c')), Sympify.prs('[t,r]'))\n",
    "_a = MultiIndexObject(Sympify.prs('[1, r**2]'), Indices(Idx('a')), Sympify.prs('[t,r]'))\n",
    "ab = MultiIndexObject(Sympify.prs('[[1, 0],[0, r**2]]'), Indices(-Idx('a'), -Idx('b')), Sympify.prs('[t,r]'))\n",
    "_a_b = MultiIndexObject(Sympify.prs('[[1, 0],[0, r**2]]'), Indices(Idx('a'), Idx('b')), Sympify.prs('[t,r]'))\n",
    "a_c = MultiIndexObject(Sympify.prs('[[1, 0],[0, r**2]]'), Indices(-Idx('a'), Idx('c')), Sympify.prs('[t,r]'))"
   ]
  },
  {
   "cell_type": "code",
   "execution_count": null,
   "metadata": {},
   "outputs": [],
   "source": []
  },
  {
   "cell_type": "code",
   "execution_count": null,
   "metadata": {},
   "outputs": [],
   "source": []
  }
 ],
 "metadata": {
  "interpreter": {
   "hash": "aee8b7b246df8f9039afb4144a1f6fd8d2ca17a180786b69acc140d282b71a49"
  },
  "kernelspec": {
   "display_name": "Python 3.11.1 64-bit",
   "language": "python",
   "name": "python3"
  },
  "language_info": {
   "codemirror_mode": {
    "name": "ipython",
    "version": 3
   },
   "file_extension": ".py",
   "mimetype": "text/x-python",
   "name": "python",
   "nbconvert_exporter": "python",
   "pygments_lexer": "ipython3",
   "version": "3.11.1"
  },
  "orig_nbformat": 4
 },
 "nbformat": 4,
 "nbformat_minor": 2
}
