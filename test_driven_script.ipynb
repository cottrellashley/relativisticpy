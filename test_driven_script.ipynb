{
 "cells": [
  {
   "cell_type": "code",
   "execution_count": 6,
   "metadata": {},
   "outputs": [],
   "source": [
    "from relativisticpy import Sympify, Indices, Idx, MultiIndexObject, Metric, MetricIndices, Derivative\n",
    "from itertools import product, combinations"
   ]
  },
  {
   "cell_type": "code",
   "execution_count": 7,
   "metadata": {},
   "outputs": [
    {
     "ename": "AttributeError",
     "evalue": "'MutableDenseNDimArray' object has no attribute 'basis'",
     "output_type": "error",
     "traceback": [
      "\u001b[1;31m---------------------------------------------------------------------------\u001b[0m",
      "\u001b[1;31mAttributeError\u001b[0m                            Traceback (most recent call last)",
      "Cell \u001b[1;32mIn[7], line 1\u001b[0m\n\u001b[1;32m----> 1\u001b[0m _c \u001b[39m=\u001b[39m MultiIndexObject(Sympify\u001b[39m.\u001b[39;49mprs(\u001b[39m'\u001b[39;49m\u001b[39m[1, r**2]\u001b[39;49m\u001b[39m'\u001b[39;49m), Indices(Idx(\u001b[39m'\u001b[39;49m\u001b[39mc\u001b[39;49m\u001b[39m'\u001b[39;49m)), Sympify\u001b[39m.\u001b[39;49mprs(\u001b[39m'\u001b[39;49m\u001b[39m[t,r]\u001b[39;49m\u001b[39m'\u001b[39;49m))\n\u001b[0;32m      2\u001b[0m _a \u001b[39m=\u001b[39m MultiIndexObject(Sympify\u001b[39m.\u001b[39mprs(\u001b[39m'\u001b[39m\u001b[39m[1, r**2]\u001b[39m\u001b[39m'\u001b[39m), Indices(Idx(\u001b[39m'\u001b[39m\u001b[39ma\u001b[39m\u001b[39m'\u001b[39m)), Sympify\u001b[39m.\u001b[39mprs(\u001b[39m'\u001b[39m\u001b[39m[t,r]\u001b[39m\u001b[39m'\u001b[39m))\n\u001b[0;32m      3\u001b[0m ab \u001b[39m=\u001b[39m MultiIndexObject(Sympify\u001b[39m.\u001b[39mprs(\u001b[39m'\u001b[39m\u001b[39m[[1, 0],[0, r**2]]\u001b[39m\u001b[39m'\u001b[39m), Indices(\u001b[39m-\u001b[39mIdx(\u001b[39m'\u001b[39m\u001b[39ma\u001b[39m\u001b[39m'\u001b[39m), \u001b[39m-\u001b[39mIdx(\u001b[39m'\u001b[39m\u001b[39mb\u001b[39m\u001b[39m'\u001b[39m)), Sympify\u001b[39m.\u001b[39mprs(\u001b[39m'\u001b[39m\u001b[39m[t,r]\u001b[39m\u001b[39m'\u001b[39m))\n",
      "File \u001b[1;32mc:\\Users\\game-\\Repos\\relativisticpy\\relativisticpy\\core\\multi_index_obj.py:22\u001b[0m, in \u001b[0;36mMultiIndexObject.__init__\u001b[1;34m(self, indices, components, basis)\u001b[0m\n\u001b[0;32m     20\u001b[0m \u001b[39mself\u001b[39m\u001b[39m.\u001b[39mindices \u001b[39m=\u001b[39m indices\n\u001b[0;32m     21\u001b[0m \u001b[39mself\u001b[39m\u001b[39m.\u001b[39mbasis \u001b[39m=\u001b[39m basis\n\u001b[1;32m---> 22\u001b[0m \u001b[39mif\u001b[39;00m \u001b[39mself\u001b[39;49m\u001b[39m.\u001b[39;49mindices\u001b[39m.\u001b[39;49mbasis \u001b[39m==\u001b[39m \u001b[39mNone\u001b[39;00m:\n\u001b[0;32m     23\u001b[0m     \u001b[39mself\u001b[39m\u001b[39m.\u001b[39mindices\u001b[39m.\u001b[39mbasis \u001b[39m=\u001b[39m basis\n",
      "\u001b[1;31mAttributeError\u001b[0m: 'MutableDenseNDimArray' object has no attribute 'basis'"
     ]
    }
   ],
   "source": [
    "_c = MultiIndexObject(Sympify.prs('[1, r**2]'), Indices(Idx('c')), Sympify.prs('[t,r]'))\n",
    "_a = MultiIndexObject(Sympify.prs('[1, r**2]'), Indices(Idx('a')), Sympify.prs('[t,r]'))\n",
    "ab = MultiIndexObject(Sympify.prs('[[1, 0],[0, r**2]]'), Indices(-Idx('a'), -Idx('b')), Sympify.prs('[t,r]'))\n",
    "_a_b = MultiIndexObject(Sympify.prs('[[1, 0],[0, r**2]]'), Indices(Idx('a'), Idx('b')), Sympify.prs('[t,r]'))\n",
    "a_c = MultiIndexObject(Sympify.prs('[[1, 0],[0, r**2]]'), Indices(-Idx('a'), Idx('c')), Sympify.prs('[t,r]'))"
   ]
  },
  {
   "cell_type": "code",
   "execution_count": 4,
   "metadata": {},
   "outputs": [],
   "source": []
  },
  {
   "cell_type": "code",
   "execution_count": null,
   "metadata": {},
   "outputs": [],
   "source": []
  },
  {
   "cell_type": "code",
   "execution_count": null,
   "metadata": {},
   "outputs": [],
   "source": []
  }
 ],
 "metadata": {
  "interpreter": {
   "hash": "aee8b7b246df8f9039afb4144a1f6fd8d2ca17a180786b69acc140d282b71a49"
  },
  "kernelspec": {
   "display_name": "Python 3.11.1 64-bit",
   "language": "python",
   "name": "python3"
  },
  "language_info": {
   "codemirror_mode": {
    "name": "ipython",
    "version": 3
   },
   "file_extension": ".py",
   "mimetype": "text/x-python",
   "name": "python",
   "nbconvert_exporter": "python",
   "pygments_lexer": "ipython3",
   "version": "3.11.4"
  },
  "orig_nbformat": 4
 },
 "nbformat": 4,
 "nbformat_minor": 2
}
